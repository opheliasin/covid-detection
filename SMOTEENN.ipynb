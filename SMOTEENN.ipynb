{
 "cells": [
  {
   "cell_type": "markdown",
   "metadata": {},
   "source": [
    "## Data Preprocessing"
   ]
  },
  {
   "cell_type": "code",
   "execution_count": 1,
   "metadata": {},
   "outputs": [],
   "source": [
    "# import necessary packages\n",
    "import os\n",
    "\n",
    "import matplotlib.pyplot as plt\n",
    "import numpy as np\n",
    "import seaborn as sns\n",
    "import tensorflow as tf\n",
    "\n",
    "from IPython import display\n",
    "import tensorflow as tf\n",
    "import pandas as pd\n",
    "import librosa\n",
    "\n",
    "from sklearn.model_selection import train_test_split\n",
    "from collections import Counter\n",
    "\n",
    "import tensorflow as tf\n",
    "from tensorflow.keras.layers import Input, Conv2D, MaxPooling2D, GlobalAveragePooling2D, Dense, Concatenate, Dropout, BatchNormalization\n",
    "\n",
    "\n",
    "# Set the seed value for experiment reproducibility.\n",
    "seed = 42\n",
    "tf.random.set_seed(seed)\n",
    "np.random.seed(seed)"
   ]
  },
  {
   "cell_type": "code",
   "execution_count": 3,
   "metadata": {},
   "outputs": [],
   "source": [
    "audio_path = 'dataset/AUDIO_NEW/'\n",
    "\n",
    "audio_types = ['breathing', 'cough', 'speech']"
   ]
  },
  {
   "cell_type": "code",
   "execution_count": 4,
   "metadata": {},
   "outputs": [],
   "source": [
    "def get_directories(audio_path, audio_type):\n",
    "    from pathlib import Path\n",
    "\n",
    "    POS = os.path.join(audio_path + audio_type, 'COVID_Positive')\n",
    "    NEG = os.path.join(audio_path + audio_type, 'COVID_Negative')\n",
    "\n",
    "    # Specify the directory path\n",
    "    pos_directory = Path(POS)\n",
    "    neg_directory = Path(NEG)\n",
    "    \n",
    "    return pos_directory, neg_directory"
   ]
  },
  {
   "cell_type": "code",
   "execution_count": 5,
   "metadata": {},
   "outputs": [],
   "source": [
    "# Load and process breathing data\n",
    "pos_directory_breathing, neg_directory_breathing = get_directories(audio_path, audio_types[0])\n",
    "\n",
    "# Load and process cough data\n",
    "pos_directory_cough, neg_directory_cough = get_directories(audio_path, audio_types[1]) # audio_types[1] is 'cough'\n",
    "\n",
    "# Load and process speech data\n",
    "pos_directory_speech, neg_directory_speech = get_directories(audio_path, audio_types[2]) # audio_types[2] is 'speech'\n"
   ]
  },
  {
   "cell_type": "code",
   "execution_count": 6,
   "metadata": {},
   "outputs": [],
   "source": [
    "def create_mel_spectrogram(y, sr, file_path):\n",
    "    mel_spectrogram = librosa.feature.melspectrogram(y=y, sr=sr, n_fft=512, hop_length=128, n_mels=128)\n",
    "    log_mel_spectrogram = librosa.power_to_db(mel_spectrogram, ref=np.max)\n",
    "\n",
    "    # Normalize the spectrogram\n",
    "    if np.std(log_mel_spectrogram) == 0:\n",
    "        print(\"log_mel_spectrogram == 0: \", file_path.resolve())\n",
    "    \n",
    "    # Normalize the spectrogram\n",
    "    epsilon = 1e-6  # Small value to avoid division by zero\n",
    "    log_mel_spectrogram = (log_mel_spectrogram - np.mean(log_mel_spectrogram)) / (np.std(log_mel_spectrogram) + epsilon)\n",
    "\n",
    "    # Add channel dimension\n",
    "    log_mel_spectrogram = np.expand_dims(log_mel_spectrogram, axis=-1)\n",
    "\n",
    "    return log_mel_spectrogram\n",
    "\n",
    "def create_zero_crossing_rate(y):\n",
    "    return np.mean(librosa.feature.zero_crossing_rate(y))\n",
    "\n",
    "def create_spectral_centroid(y, sr):\n",
    "    return np.mean(librosa.feature.spectral_centroid(y=y, sr=sr))"
   ]
  },
  {
   "cell_type": "code",
   "execution_count": 7,
   "metadata": {},
   "outputs": [],
   "source": [
    "import random \n",
    "\n",
    "def augment_audio_random(y, sr, target_length):\n",
    "    \"\"\"\n",
    "    Applies a random augmentation (time stretching, pitch shifting, or adding noise) to an audio signal.\n",
    "\n",
    "    Args:\n",
    "        y (numpy.ndarray): The raw audio signal.\n",
    "        sr (int): Sampling rate of the audio signal.\n",
    "        target_length (int): Target length for padding/truncating the audio.\n",
    "\n",
    "    Returns:\n",
    "        numpy.ndarray: Augmented audio signal padded/truncated to the target length.\n",
    "    \"\"\"\n",
    "    # Randomly choose an augmentation type\n",
    "    augmentation_type = random.choice([\"time_stretch\", \"pitch_shift\", \"add_noise\"])\n",
    "\n",
    "    if augmentation_type == \"time_stretch\":\n",
    "        # Apply time stretching with a random rate between 0.8 and 1.2\n",
    "        rate = random.uniform(0.8, 1.2)\n",
    "        y_augmented = librosa.effects.time_stretch(y, rate=rate)\n",
    "\n",
    "    elif augmentation_type == \"pitch_shift\":\n",
    "        # Apply pitch shifting with a random number of semitones between -5 and +5\n",
    "        n_steps = random.randint(-5, 5)\n",
    "        y_augmented = librosa.effects.pitch_shift(y=y, sr=sr, n_steps=n_steps)\n",
    "\n",
    "    elif augmentation_type == \"add_noise\":\n",
    "        # Add random Gaussian noise with a standard deviation of up to 0.01\n",
    "        noise = np.random.normal(0, random.uniform(0.001, 0.01), y.shape)\n",
    "        y_augmented = y + noise\n",
    "\n",
    "    # Ensure the augmented audio is padded/truncated to the target length\n",
    "    zero_padding = np.zeros(max(0, target_length - len(y_augmented)), dtype=np.float32)\n",
    "    y_augmented_padded = np.concatenate([y_augmented[:target_length], zero_padding], axis=0)\n",
    "\n",
    "    return y_augmented_padded"
   ]
  },
  {
   "cell_type": "code",
   "execution_count": 8,
   "metadata": {},
   "outputs": [],
   "source": [
    "def augment_audio(y, sr, target_length):\n",
    "    augmented_audios = []\n",
    "\n",
    "    # Time Stretching\n",
    "    augmented_audios.append(librosa.effects.time_stretch(y, rate=0.8))  # Slow down\n",
    "    augmented_audios.append(librosa.effects.time_stretch(y, rate=1.2))  # Speed up\n",
    "\n",
    "    # Pitch Shifting (use keyword arguments)\n",
    "    augmented_audios.append(librosa.effects.pitch_shift(y=y, sr=sr, n_steps=2))  # Pitch up\n",
    "    augmented_audios.append(librosa.effects.pitch_shift(y=y, sr=sr, n_steps=-2))  # Pitch down\n",
    "\n",
    "    # Adding Noise\n",
    "    noise = np.random.normal(0, 0.005, y.shape)\n",
    "    augmented_audios.append(y + noise)\n",
    "\n",
    "    # Ensure all augmented audios are padded/truncated to target_length\n",
    "    padded_augmented_audios = []\n",
    "    for aug_y in augmented_audios:\n",
    "        zero_padding = np.zeros(max(0, target_length - len(aug_y)), dtype=np.float32)\n",
    "        aug_y_padded = np.concatenate([aug_y[:target_length], zero_padding], axis=0)\n",
    "        padded_augmented_audios.append(aug_y_padded)\n",
    "\n",
    "    return padded_augmented_audios"
   ]
  },
  {
   "cell_type": "code",
   "execution_count": 9,
   "metadata": {},
   "outputs": [],
   "source": [
    "def create_features(pos_directory, neg_directory, target_length, augment=False):\n",
    "    print(\"Creating features for {0} and {1}! \".format(pos_directory, neg_directory))\n",
    "    spectrograms = []\n",
    "    other_features = []\n",
    "    labels = []\n",
    "\n",
    "    # Access files directly using iterdir()\n",
    "    for file_path in sorted(pos_directory.iterdir()):\n",
    "        y, sr = librosa.load(file_path, sr=16000)\n",
    "        y = y[:target_length]\n",
    "        y = librosa.util.normalize(y)\n",
    "\n",
    "        zero_padding = np.zeros(target_length - len(y), dtype=np.float32)\n",
    "        y = np.concatenate([y, zero_padding], axis=0)\n",
    "\n",
    "        spectrograms.append(create_mel_spectrogram(y, sr, file_path))\n",
    "        other_features.append([create_zero_crossing_rate(y), create_spectral_centroid(y, sr)])\n",
    "        labels.append(1)\n",
    "\n",
    "\n",
    "        ## Augment random\n",
    "        # if augment:\n",
    "        #     y_augmented = augment_audio(y, sr, target_length)\n",
    "        #     spectrograms.append(create_mel_spectrogram(y_augmented, sr, file_path))\n",
    "        #     other_features.append([create_zero_crossing_rate(y_augmented), create_spectral_centroid(y_augmented, sr)])\n",
    "        #     labels.append(1)\n",
    "\n",
    "        ## Augment all\n",
    "        if augment:\n",
    "            augmented_audios = augment_audio(y, sr, target_length)\n",
    "            for aug_y in augmented_audios:\n",
    "                spectrograms.append(create_mel_spectrogram(aug_y, sr, file_path))\n",
    "                other_features.append([create_zero_crossing_rate(aug_y), create_spectral_centroid(aug_y, sr)])\n",
    "                labels.append(1)\n",
    "    \n",
    "    positive_samples = len(labels)\n",
    "\n",
    "    print(f\"Number of positive samples: {positive_samples}\")  \n",
    "\n",
    "    for file_path in sorted(neg_directory.iterdir()):\n",
    "        y, sr = librosa.load(file_path, sr=16000)\n",
    "        y = y[:target_length]\n",
    "\n",
    "        zero_padding = np.zeros(target_length - len(y), dtype=np.float32)\n",
    "        y = np.concatenate([y, zero_padding], axis=0)\n",
    "\n",
    "        spectrograms.append(create_mel_spectrogram(y, sr, file_path))\n",
    "        other_features.append([create_zero_crossing_rate(y), create_spectral_centroid(y, sr)])\n",
    "        labels.append(0)\n",
    "\n",
    "        # if augment:\n",
    "        #     y_augmented = augment_audio(y, sr, target_length)\n",
    "        #     spectrograms.append(create_mel_spectrogram(y_augmented, sr, file_path))\n",
    "        #     other_features.append([create_zero_crossing_rate(y_augmented), create_spectral_centroid(y_augmented, sr)])\n",
    "        #     labels.append(0)\n",
    "\n",
    "    print(f\"Number of negative samples: {len(labels) - positive_samples}\")           \n",
    "    print(\"Completed creating features for {0} and {1}! \".format(pos_directory, neg_directory))\n",
    "\n",
    "    return spectrograms, other_features, labels"
   ]
  },
  {
   "cell_type": "code",
   "execution_count": 10,
   "metadata": {},
   "outputs": [
    {
     "name": "stdout",
     "output_type": "stream",
     "text": [
      "Creating features for dataset/AUDIO_NEW/breathing/COVID_Positive and dataset/AUDIO_NEW/breathing/COVID_Negative! \n",
      "Number of positive samples: 172\n",
      "log_mel_spectrogram == 0:  /Users/opheliasin/covid-detection/dataset/AUDIO_NEW/breathing/COVID_Negative/GDOLSUHV.flac\n",
      "log_mel_spectrogram == 0:  /Users/opheliasin/covid-detection/dataset/AUDIO_NEW/breathing/COVID_Negative/HTUZHMVC.flac\n",
      "log_mel_spectrogram == 0:  /Users/opheliasin/covid-detection/dataset/AUDIO_NEW/breathing/COVID_Negative/TMWZXJNT.flac\n",
      "Number of negative samples: 793\n",
      "Completed creating features for dataset/AUDIO_NEW/breathing/COVID_Positive and dataset/AUDIO_NEW/breathing/COVID_Negative! \n"
     ]
    }
   ],
   "source": [
    "# creating spectrogram, other features, and labels for breathing, cough, and speech\n",
    "\n",
    "spectrograms_breathing, other_features_breathing, labels_breathing = create_features(pos_directory_breathing, neg_directory_breathing, 80000)"
   ]
  },
  {
   "cell_type": "code",
   "execution_count": 11,
   "metadata": {},
   "outputs": [
    {
     "name": "stdout",
     "output_type": "stream",
     "text": [
      "Creating features for dataset/AUDIO_NEW/cough/COVID_Positive and dataset/AUDIO_NEW/cough/COVID_Negative! \n",
      "Number of positive samples: 172\n",
      "log_mel_spectrogram == 0:  /Users/opheliasin/covid-detection/dataset/AUDIO_NEW/cough/COVID_Negative/TMWZXJNT.flac\n",
      "Number of negative samples: 793\n",
      "Completed creating features for dataset/AUDIO_NEW/cough/COVID_Positive and dataset/AUDIO_NEW/cough/COVID_Negative! \n"
     ]
    }
   ],
   "source": [
    "spectrograms_cough, other_features_cough, labels_cough = create_features(pos_directory_cough, neg_directory_cough, 96000) # 6 seconds \n",
    "\n",
    "# 25th Percentile Duration: 4.693333333333333\n",
    "# Median Duration: 6.058684807256236\n",
    "# 75th Percentile Duration: 7.509319727891157"
   ]
  },
  {
   "cell_type": "code",
   "execution_count": 12,
   "metadata": {},
   "outputs": [
    {
     "name": "stdout",
     "output_type": "stream",
     "text": [
      "Creating features for dataset/AUDIO_NEW/speech/COVID_Positive and dataset/AUDIO_NEW/speech/COVID_Negative! \n",
      "Number of positive samples: 172\n",
      "Number of negative samples: 793\n",
      "Completed creating features for dataset/AUDIO_NEW/speech/COVID_Positive and dataset/AUDIO_NEW/speech/COVID_Negative! \n"
     ]
    }
   ],
   "source": [
    "spectrograms_speech, other_features_speech, labels_speech = create_features(pos_directory_speech, neg_directory_speech, 160000) # 10 seconds\n",
    "\n",
    "# 25th Percentile Duration: 12.458684807256235\n",
    "# Median Duration: 14.421337868480725\n",
    "# 75th Percentile Duration: 16.55467120181406"
   ]
  },
  {
   "cell_type": "code",
   "execution_count": 13,
   "metadata": {},
   "outputs": [],
   "source": [
    "# Define a function to pad spectrograms to the maximum time frame length\n",
    "def pad_spectrogram(spectrogram, max_time_frames):\n",
    "    current_time_frames = spectrogram.shape[1]  # Time frames are along axis 1\n",
    "    if current_time_frames < max_time_frames:\n",
    "        # Calculate padding amount\n",
    "        padding_amount = max_time_frames - current_time_frames\n",
    "        # Pad along the time axis (axis=1)\n",
    "        padded_spectrogram = np.pad(spectrogram, ((0, 0), (0, padding_amount), (0, 0)), mode='constant')\n",
    "    else:\n",
    "        padded_spectrogram = spectrogram\n",
    "    return padded_spectrogram"
   ]
  },
  {
   "cell_type": "code",
   "execution_count": 14,
   "metadata": {},
   "outputs": [],
   "source": [
    "# Maximum time frame length across all audio types\n",
    "max_time_frames = 1251\n",
    "\n",
    "# Pad all spectrograms to the maximum time frame length\n",
    "padded_spectrograms_breathing = [pad_spectrogram(s, max_time_frames) for s in spectrograms_breathing]\n",
    "padded_spectrograms_cough = [pad_spectrogram(s, max_time_frames) for s in spectrograms_cough]\n",
    "padded_spectrograms_speech = [pad_spectrogram(s, max_time_frames) for s in spectrograms_speech]"
   ]
  },
  {
   "cell_type": "code",
   "execution_count": 15,
   "metadata": {},
   "outputs": [],
   "source": [
    "del spectrograms_breathing, spectrograms_cough, spectrograms_speech"
   ]
  },
  {
   "cell_type": "code",
   "execution_count": 17,
   "metadata": {},
   "outputs": [],
   "source": [
    "# Combine spectrograms, other features, and labels for each participant\n",
    "all_spectrograms = []\n",
    "all_other_features = []\n",
    "all_labels = []\n",
    "\n",
    "# Assuming all lists are sorted in the same order and correspond to the same participants\n",
    "for i in range(len(padded_spectrograms_breathing)):  # Iterate over participants\n",
    "\n",
    "    combined_spectrogram = np.concatenate(\n",
    "        [padded_spectrograms_breathing[i], padded_spectrograms_cough[i], padded_spectrograms_speech[i]], axis=1\n",
    "    )\n",
    "    \n",
    "    # Combine other features for breathing, coughing, and speech\n",
    "    combined_other_features = np.concatenate(\n",
    "        [other_features_breathing[i], other_features_cough[i], other_features_speech[i]], axis=0\n",
    "    )\n",
    "    \n",
    "    # Assume labels are consistent across all audio types for a participant\n",
    "    label = labels_breathing[i]  # You can use any of the label lists since they are consistent\n",
    "\n",
    "    # Append combined data to the final lists\n",
    "    all_spectrograms.append(combined_spectrogram)\n",
    "    all_other_features.append(combined_other_features)\n",
    "    all_labels.append(label)\n",
    "\n",
    "# Convert to NumPy arrays\n",
    "all_spectrograms = np.array(all_spectrograms)\n",
    "all_other_features = np.array(all_other_features)\n",
    "all_labels = np.array(all_labels)\n",
    "\n",
    "# Flatten spectrograms and combine with other features\n",
    "all_spectrograms_flattened = all_spectrograms.reshape(all_spectrograms.shape[0], -1)\n",
    "X_combined = np.hstack([all_spectrograms_flattened, all_other_features])\n"
   ]
  },
  {
   "cell_type": "code",
   "execution_count": 18,
   "metadata": {},
   "outputs": [],
   "source": [
    "del all_spectrograms_flattened, all_spectrograms, all_other_features, padded_spectrograms_breathing, padded_spectrograms_cough, padded_spectrograms_speech"
   ]
  },
  {
   "cell_type": "code",
   "execution_count": 19,
   "metadata": {},
   "outputs": [],
   "source": [
    "X_train, X_test, y_train, y_test = train_test_split(X_combined, all_labels, test_size=0.2, stratify=all_labels)"
   ]
  },
  {
   "cell_type": "code",
   "execution_count": 22,
   "metadata": {},
   "outputs": [],
   "source": [
    "del X_combined"
   ]
  },
  {
   "cell_type": "code",
   "execution_count": 32,
   "metadata": {},
   "outputs": [],
   "source": [
    "import joblib\n",
    "\n",
    "# Save the splits to a file\n",
    "# joblib.dump((X_train, X_test, y_train, y_test), 'train_test_splits.pkl')\n",
    "\n",
    "# To load the splits later\n",
    "X_train, X_test, y_train, y_test = joblib.load('train_test_splits.pkl')"
   ]
  },
  {
   "cell_type": "markdown",
   "metadata": {},
   "source": [
    "## SMOTEENN\n",
    "\n",
    "- training balanced accuracy: `0.6131474932390264`\n",
    "- testing balanced accuracy: `0.4841842397336293`"
   ]
  },
  {
   "cell_type": "markdown",
   "metadata": {},
   "source": [
    "We used the `SMOTEENN` function in the imblearn library to handle imbalanced datasets by oversampling `1`, the minority class and remove noisy samples. "
   ]
  },
  {
   "cell_type": "code",
   "execution_count": 33,
   "metadata": {},
   "outputs": [
    {
     "name": "stdout",
     "output_type": "stream",
     "text": [
      "Original class distribution: Counter({np.int64(0): 634, np.int64(1): 138})\n"
     ]
    }
   ],
   "source": [
    "print(f\"Original class distribution: {Counter(y_train)}\")"
   ]
  },
  {
   "cell_type": "code",
   "execution_count": 34,
   "metadata": {},
   "outputs": [],
   "source": [
    "from imblearn.combine import SMOTEENN\n",
    "from imblearn.over_sampling import SMOTE\n",
    "from imblearn.under_sampling import EditedNearestNeighbours\n",
    "from collections import Counter\n",
    "\n",
    "\n",
    "# smote = SMOTE(sampling_strategy=0.5)  # Oversample minority class to 50% of majority class\n",
    "enn = EditedNearestNeighbours(n_neighbors=3, kind_sel=\"mode\") \n",
    "# smote_enn = SMOTEENN(smote=smote, enn=enn, random_state=seed)\n",
    "\n",
    "smote_enn = SMOTEENN(random_state=seed,  sampling_strategy=0.65, enn=enn)\n",
    "#smote_enn = SMOTEENN(random_state=seed,  sampling_strategy='minority', enn=enn)\n",
    "X_train_resampled, y_train_resampled = smote_enn.fit_resample(X_train, y_train)"
   ]
  },
  {
   "cell_type": "code",
   "execution_count": 35,
   "metadata": {},
   "outputs": [
    {
     "name": "stdout",
     "output_type": "stream",
     "text": [
      "Resampled class distribution: Counter({np.int64(1): 412, np.int64(0): 232})\n"
     ]
    }
   ],
   "source": [
    "## sampling strategy = 0.6\n",
    "\n",
    "print(f\"Resampled class distribution: {Counter(y_train_resampled)}\")"
   ]
  },
  {
   "cell_type": "code",
   "execution_count": 36,
   "metadata": {},
   "outputs": [
    {
     "name": "stdout",
     "output_type": "stream",
     "text": [
      "Resampled class distribution: Counter({np.int64(1): 412, np.int64(0): 232})\n"
     ]
    }
   ],
   "source": [
    "## sampling strategy = 0.7\n",
    "print(f\"Resampled class distribution: {Counter(y_train_resampled)}\")\n",
    "# 0s are mostly wrongly classified as 1s"
   ]
  },
  {
   "cell_type": "code",
   "execution_count": 37,
   "metadata": {},
   "outputs": [],
   "source": [
    "del X_train, y_train"
   ]
  },
  {
   "cell_type": "code",
   "execution_count": 38,
   "metadata": {},
   "outputs": [],
   "source": [
    "# Constants for updated time frames\n",
    "num_mel_bands = 128\n",
    "original_time_frames_breathing = 626 # prev: 622\n",
    "original_time_frames_coughing = 751 # prev: 747\n",
    "original_time_frames_speech = 1251 # prev: 1247\n",
    "max_time_frames = 1251  # Maximum time frames across all audio types\n",
    "\n",
    "# Total original time frames\n",
    "original_total_time_frames = original_time_frames_breathing + original_time_frames_coughing + original_time_frames_speech\n",
    "\n",
    "# Total spectrogram features\n",
    "total_padded_spectrogram_features = num_mel_bands * (max_time_frames * 3)"
   ]
  },
  {
   "cell_type": "code",
   "execution_count": 39,
   "metadata": {},
   "outputs": [],
   "source": [
    "# Separate resampled padded spectrograms and other features for X_train_resampled\n",
    "padded_spectrograms_resampled = X_train_resampled[:, :total_padded_spectrogram_features]\n",
    "other_features_resampled = X_train_resampled[:, total_padded_spectrogram_features:]"
   ]
  },
  {
   "cell_type": "code",
   "execution_count": 40,
   "metadata": {},
   "outputs": [],
   "source": [
    "padded_spectrograms_resampled_reshaped = padded_spectrograms_resampled.reshape(\n",
    "    padded_spectrograms_resampled.shape[0], num_mel_bands,\n",
    "    max_time_frames * 3, 1\n",
    ")\n"
   ]
  },
  {
   "cell_type": "code",
   "execution_count": 41,
   "metadata": {},
   "outputs": [],
   "source": [
    "# Define a function to extract the original spectrograms without padding\n",
    "def extract_original_spectrograms(padded_spectrograms, time_frames_breathing, time_frames_coughing, time_frames_speech):\n",
    "    # Extract breathing spectrogram\n",
    "    breathing = padded_spectrograms[:, :, :time_frames_breathing, :]\n",
    "    \n",
    "    # Extract coughing spectrogram\n",
    "    coughing_start = time_frames_breathing\n",
    "    coughing_end = time_frames_breathing + time_frames_coughing\n",
    "    coughing = padded_spectrograms[:, :, coughing_start:coughing_end, :]\n",
    "    \n",
    "    # Extract speech spectrogram\n",
    "    speech_start = coughing_end\n",
    "    speech_end = speech_start + time_frames_speech\n",
    "    speech = padded_spectrograms[:, :, speech_start:speech_end, :]\n",
    "    \n",
    "    return breathing, coughing, speech\n",
    "\n",
    "# Extract the original spectrograms from the padded data\n",
    "spectrograms_train_breathing, spectrograms_train_coughing, spectrograms_train_speech = extract_original_spectrograms(\n",
    "    padded_spectrograms_resampled_reshaped,\n",
    "    original_time_frames_breathing,\n",
    "    original_time_frames_coughing,\n",
    "    original_time_frames_speech\n",
    ")"
   ]
  },
  {
   "cell_type": "code",
   "execution_count": 42,
   "metadata": {},
   "outputs": [
    {
     "name": "stdout",
     "output_type": "stream",
     "text": [
      "Breathing Spectrogram Shape: (644, 128, 626, 1)\n",
      "Coughing Spectrogram Shape: (644, 128, 751, 1)\n",
      "Speech Spectrogram Shape: (644, 128, 1251, 1)\n"
     ]
    }
   ],
   "source": [
    "# Verify the shapes of the extracted spectrograms\n",
    "print(\"Breathing Spectrogram Shape:\", spectrograms_train_breathing.shape)  # Expected: (num_samples, 128, 622, 1)\n",
    "print(\"Coughing Spectrogram Shape:\", spectrograms_train_coughing.shape)   # Expected: (num_samples, 128, 747, 1)\n",
    "print(\"Speech Spectrogram Shape:\", spectrograms_train_speech.shape)       # Expected: (num_samples, 128, 1247, 1)"
   ]
  },
  {
   "cell_type": "markdown",
   "metadata": {},
   "source": [
    "### Process X_test"
   ]
  },
  {
   "cell_type": "code",
   "execution_count": 43,
   "metadata": {},
   "outputs": [],
   "source": [
    "# For X_test (no resampling needed), separate and reshape the spectrograms\n",
    "spectrograms_test = X_test[:, :total_padded_spectrogram_features]\n",
    "other_features_test = X_test[:, total_padded_spectrogram_features:]"
   ]
  },
  {
   "cell_type": "code",
   "execution_count": 44,
   "metadata": {},
   "outputs": [],
   "source": [
    "spectrograms_test_reshaped = spectrograms_test.reshape(\n",
    "    spectrograms_test.shape[0], num_mel_bands, max_time_frames * 3, 1\n",
    ")"
   ]
  },
  {
   "cell_type": "code",
   "execution_count": 45,
   "metadata": {},
   "outputs": [
    {
     "name": "stdout",
     "output_type": "stream",
     "text": [
      "Breathing Spectrogram Shape: (193, 128, 626, 1)\n",
      "Coughing Spectrogram Shape: (193, 128, 751, 1)\n",
      "Speech Spectrogram Shape: (193, 128, 1251, 1)\n"
     ]
    }
   ],
   "source": [
    "# Separate spectrogram_test_reshaped into breathing, coughing, and speech\n",
    "# spectrograms_test_breathing_resampled = spectrograms_test_reshaped[:, :, :num_time_frames, :]\n",
    "# spectrograms_test_coughing_resampled = spectrograms_test_reshaped[:, :, num_time_frames:num_time_frames*2, :]\n",
    "# spectrograms_test_speech_resampled = spectrograms_test_reshaped[:, :, num_time_frames*2:, :]\n",
    "\n",
    "spectrograms_test_breathing, spectrograms_test_coughing, spectrograms_test_speech = extract_original_spectrograms(\n",
    "    spectrograms_test_reshaped,\n",
    "    original_time_frames_breathing,\n",
    "    original_time_frames_coughing,\n",
    "    original_time_frames_speech\n",
    ")\n",
    "# Verify shapes\n",
    "print(\"Breathing Spectrogram Shape:\", spectrograms_test_breathing.shape)\n",
    "print(\"Coughing Spectrogram Shape:\", spectrograms_test_coughing.shape)\n",
    "print(\"Speech Spectrogram Shape:\", spectrograms_test_speech.shape)\n"
   ]
  },
  {
   "cell_type": "code",
   "execution_count": 46,
   "metadata": {},
   "outputs": [],
   "source": [
    "#convert y_train_resampled and y_test to numpy arrays\n",
    "\n",
    "y_train_resampled = np.array(y_train_resampled)\n",
    "y_test = np.array(y_test)"
   ]
  },
  {
   "cell_type": "markdown",
   "metadata": {},
   "source": [
    "### Full Model"
   ]
  },
  {
   "cell_type": "code",
   "execution_count": 47,
   "metadata": {},
   "outputs": [],
   "source": [
    "from tensorflow.keras.layers import Conv2D, MaxPooling2D, GlobalAveragePooling2D\n",
    "from tensorflow.keras.layers import BatchNormalization, Dropout, Add, LeakyReLU\n",
    "\n",
    "def create_cnn_subnetwork_simplified(input_layer):\n",
    "    # First Block\n",
    "    x = Conv2D(32, (3, 3), padding='same', kernel_regularizer='l2')(input_layer)\n",
    "    x = BatchNormalization()(x)\n",
    "    x = LeakyReLU()(x)\n",
    "    x = MaxPooling2D(pool_size=(2, 2))(x)\n",
    "    x = Dropout(0.3)(x)\n",
    "\n",
    "    # Second Block\n",
    "    x = Conv2D(64, (3, 3), padding='same', kernel_regularizer='l2')(x)\n",
    "    x = BatchNormalization()(x)\n",
    "    x = LeakyReLU()(x)\n",
    "    x = MaxPooling2D(pool_size=(2, 2))(x)\n",
    "\n",
    "    # Residual Connection (Shortcut Path)\n",
    "    shortcut = Conv2D(64, (1, 1), padding='same', kernel_regularizer='l2')(input_layer)  # Match dimensions\n",
    "    shortcut = MaxPooling2D(pool_size=(4, 4))(shortcut) \n",
    "    shortcut = BatchNormalization()(shortcut)\n",
    "\n",
    "    # Add Residual Connection\n",
    "    x = Add()([x, shortcut])\n",
    "\n",
    "    # Global Pooling\n",
    "    x = GlobalAveragePooling2D()(x)\n",
    "\n",
    "    return x"
   ]
  },
  {
   "cell_type": "code",
   "execution_count": 48,
   "metadata": {},
   "outputs": [],
   "source": [
    "# Define input for Mel spectrogram (shape: 625 time frames x 128 frequency bins x 1 channel)\n",
    "mel_input_breathing = Input(shape=(128, 626, 1), name='mel_spectrogram_breathing')\n",
    "mel_input_cough = Input(shape=(128, 751, 1), name='mel_spectrogram_cough')\n",
    "mel_input_speech = Input(shape=(128, 1251, 1), name='mel_spectrogram_speech')\n",
    "\n",
    "\n",
    "# Define CNN sub-network for Mel spectrogram\n",
    "# def create_cnn_subnetwork(input_layer):\n",
    "#     x = Conv2D(16, (3,3), activation='relu')(input_layer)\n",
    "#     x = MaxPooling2D(pool_size=(2,2))(x)\n",
    "#     x = Conv2D(16, (3,3), activation='relu')(x)\n",
    "#     x = MaxPooling2D(pool_size=(2,2))(x)\n",
    "#     x = Conv2D(32, (3,3), activation='relu')(x)\n",
    "#     x = MaxPooling2D(pool_size=(2,2))(x)\n",
    "#     x = Conv2D(64, (3,3), activation='relu')(x)\n",
    "#     x = MaxPooling2D(pool_size=(2,2))(x)\n",
    "#     x = GlobalAveragePooling2D()(x)\n",
    "\n",
    "#     return x\n",
    "\n",
    "def create_cnn_subnetwork(input_layer):\n",
    "    # First Convolutional Block\n",
    "    x = Conv2D(16, (3, 3), activation='relu', padding='same')(input_layer)\n",
    "    x = BatchNormalization()(x)  # Add Batch Normalization\n",
    "    x = MaxPooling2D(pool_size=(2, 2))(x)\n",
    "    x = Dropout(0.25)(x)  # Add Dropout after pooling\n",
    "    \n",
    "    # Second Convolutional Block\n",
    "    x = Conv2D(32, (3, 3), activation='relu', padding='same')(x)\n",
    "    x = BatchNormalization()(x)  # Add Batch Normalization\n",
    "    x = MaxPooling2D(pool_size=(2, 2))(x)\n",
    "    x = Dropout(0.25)(x)  # Add Dropout after pooling\n",
    "    \n",
    "    # Third Convolutional Block\n",
    "    x = Conv2D(64, (3, 3), activation='relu', padding='same')(x)\n",
    "    x = BatchNormalization()(x)  # Add Batch Normalization\n",
    "    x = MaxPooling2D(pool_size=(2, 2))(x)\n",
    "    x = Dropout(0.4)(x)  # Increase Dropout for deeper layers\n",
    "    \n",
    "    # Global Average Pooling\n",
    "    x = GlobalAveragePooling2D()(x)\n",
    "\n",
    "    return x\n",
    "\n",
    "# Create CNN sub-networks for each spectrogram input\n",
    "cnn_breathing_output = create_cnn_subnetwork(mel_input_breathing)\n",
    "cnn_cough_output = create_cnn_subnetwork(mel_input_cough)\n",
    "cnn_speech_output = create_cnn_subnetwork(mel_input_speech)\n",
    "\n",
    "# cnn_breathing_output = create_cnn_subnetwork_simplified(mel_input_breathing)\n",
    "# cnn_cough_output = create_cnn_subnetwork_simplified(mel_input_cough)\n",
    "# cnn_speech_output = create_cnn_subnetwork_simplified(mel_input_speech)\n",
    "\n",
    "# Define input for other features (zero-crossing rate and spectral centroid)\n",
    "other_input = Input(shape=(6,), name='other_features')\n",
    "\n",
    "# Define a simple dense sub-network for other features\n",
    "y = Dense(64, activation='relu')(other_input)\n",
    "y = Dense(128, activation='relu')(y)  # Add more dense layers\n",
    "y = Dropout(0.3)(y)                   # Add dropout to prevent overfitting\n",
    "y = Dense(128, activation='relu')(y)   # Another dense layer\n",
    "y = Dense(64, activation='relu')(y)    # Another dense layer\n",
    "\n",
    "# Concatenate both sub-networks\n",
    "combined = Concatenate()([cnn_breathing_output, cnn_cough_output, cnn_speech_output, y])\n",
    "\n",
    "# Add final classification layers\n",
    "z = Dense(128, activation='relu')(combined)\n",
    "z = Dropout(0.3)(z)                    # Add dropout to prevent overfitting\n",
    "z = Dense(64, activation='relu')(z)\n",
    "z = Dense(1, activation='sigmoid')(z)  # Binary classification"
   ]
  },
  {
   "cell_type": "code",
   "execution_count": 49,
   "metadata": {},
   "outputs": [],
   "source": [
    "# Define the model with two inputs\n",
    "model = tf.keras.Model(inputs=[mel_input_breathing, mel_input_cough, mel_input_speech, other_input], outputs=z)\n",
    "\n",
    "# Compile the model\n",
    "model.compile(optimizer='adam', loss='binary_crossentropy', metrics=['accuracy','recall','precision'])"
   ]
  },
  {
   "cell_type": "code",
   "execution_count": 50,
   "metadata": {},
   "outputs": [
    {
     "name": "stdout",
     "output_type": "stream",
     "text": [
      "Training set shapes:\n",
      "Breathing: (515, 128, 626, 1)\n",
      "Coughing: (515, 128, 751, 1)\n",
      "Speech: (515, 128, 1251, 1)\n",
      "Other Features: (515, 6)\n",
      "Labels: (515,)\n",
      "\n",
      "Validation set shapes:\n",
      "Breathing: (129, 128, 626, 1)\n",
      "Coughing: (129, 128, 751, 1)\n",
      "Speech: (129, 128, 1251, 1)\n",
      "Other Features: (129, 6)\n",
      "Labels: (129,)\n"
     ]
    }
   ],
   "source": [
    "X_train_breathing, X_val_breathing, \\\n",
    "X_train_coughing, X_val_coughing, \\\n",
    "X_train_speech, X_val_speech, \\\n",
    "X_train_other_features, X_val_other_features, \\\n",
    "y_train, y_val = train_test_split(\n",
    "    spectrograms_train_breathing,\n",
    "    spectrograms_train_coughing,\n",
    "    spectrograms_train_speech,\n",
    "    other_features_resampled,\n",
    "    y_train_resampled,\n",
    "    test_size=0.2,\n",
    "    random_state=seed,\n",
    "    stratify=y_train_resampled\n",
    ")\n",
    "\n",
    "# Step 2: Verify shapes of training and validation sets\n",
    "print(\"Training set shapes:\")\n",
    "print(\"Breathing:\", X_train_breathing.shape)\n",
    "print(\"Coughing:\", X_train_coughing.shape)\n",
    "print(\"Speech:\", X_train_speech.shape)\n",
    "print(\"Other Features:\", X_train_other_features.shape)\n",
    "print(\"Labels:\", y_train.shape)\n",
    "\n",
    "print(\"\\nValidation set shapes:\")\n",
    "print(\"Breathing:\", X_val_breathing.shape)\n",
    "print(\"Coughing:\", X_val_coughing.shape)\n",
    "print(\"Speech:\", X_val_speech.shape)\n",
    "print(\"Other Features:\", X_val_other_features.shape)\n",
    "print(\"Labels:\", y_val.shape)\n"
   ]
  },
  {
   "cell_type": "code",
   "execution_count": 51,
   "metadata": {},
   "outputs": [
    {
     "name": "stdout",
     "output_type": "stream",
     "text": [
      "Epoch 1/20\n"
     ]
    },
    {
     "name": "stderr",
     "output_type": "stream",
     "text": [
      "/Users/opheliasin/covid-detection/venv/lib/python3.12/site-packages/keras/src/models/functional.py:225: UserWarning: The structure of `inputs` doesn't match the expected structure: ['mel_spectrogram_breathing', 'mel_spectrogram_cough', 'mel_spectrogram_speech', 'other_features']. Received: the structure of inputs=('*', '*', '*', '*')\n",
      "  warnings.warn(\n"
     ]
    },
    {
     "name": "stdout",
     "output_type": "stream",
     "text": [
      "\u001b[1m17/17\u001b[0m \u001b[32m━━━━━━━━━━━━━━━━━━━━\u001b[0m\u001b[37m\u001b[0m \u001b[1m71s\u001b[0m 4s/step - accuracy: 0.5410 - loss: 17.3549 - precision: 0.6404 - recall: 0.6421 - val_accuracy: 0.6357 - val_loss: 1.2026 - val_precision: 0.6698 - val_recall: 0.8554\n",
      "Epoch 2/20\n",
      "\u001b[1m17/17\u001b[0m \u001b[32m━━━━━━━━━━━━━━━━━━━━\u001b[0m\u001b[37m\u001b[0m \u001b[1m71s\u001b[0m 4s/step - accuracy: 0.5738 - loss: 4.8197 - precision: 0.6795 - recall: 0.6494 - val_accuracy: 0.6667 - val_loss: 0.9672 - val_precision: 0.6613 - val_recall: 0.9880\n",
      "Epoch 3/20\n",
      "\u001b[1m17/17\u001b[0m \u001b[32m━━━━━━━━━━━━━━━━━━━━\u001b[0m\u001b[37m\u001b[0m \u001b[1m91s\u001b[0m 5s/step - accuracy: 0.5642 - loss: 3.7999 - precision: 0.6771 - recall: 0.6275 - val_accuracy: 0.6899 - val_loss: 0.7843 - val_precision: 0.6972 - val_recall: 0.9157\n",
      "Epoch 4/20\n",
      "\u001b[1m17/17\u001b[0m \u001b[32m━━━━━━━━━━━━━━━━━━━━\u001b[0m\u001b[37m\u001b[0m \u001b[1m78s\u001b[0m 5s/step - accuracy: 0.5503 - loss: 2.1923 - precision: 0.6637 - recall: 0.6213 - val_accuracy: 0.5969 - val_loss: 0.7729 - val_precision: 0.7460 - val_recall: 0.5663\n",
      "Epoch 5/20\n",
      "\u001b[1m17/17\u001b[0m \u001b[32m━━━━━━━━━━━━━━━━━━━━\u001b[0m\u001b[37m\u001b[0m \u001b[1m72s\u001b[0m 4s/step - accuracy: 0.5796 - loss: 1.5427 - precision: 0.6840 - recall: 0.6562 - val_accuracy: 0.6977 - val_loss: 0.5990 - val_precision: 0.7157 - val_recall: 0.8795\n",
      "Epoch 6/20\n",
      "\u001b[1m17/17\u001b[0m \u001b[32m━━━━━━━━━━━━━━━━━━━━\u001b[0m\u001b[37m\u001b[0m \u001b[1m84s\u001b[0m 5s/step - accuracy: 0.6277 - loss: 1.2015 - precision: 0.7050 - recall: 0.7320 - val_accuracy: 0.5194 - val_loss: 0.9089 - val_precision: 0.8000 - val_recall: 0.3373\n",
      "Epoch 7/20\n",
      "\u001b[1m17/17\u001b[0m \u001b[32m━━━━━━━━━━━━━━━━━━━━\u001b[0m\u001b[37m\u001b[0m \u001b[1m77s\u001b[0m 4s/step - accuracy: 0.5800 - loss: 1.0687 - precision: 0.6816 - recall: 0.6605 - val_accuracy: 0.6667 - val_loss: 0.6628 - val_precision: 0.6724 - val_recall: 0.9398\n",
      "Epoch 8/20\n",
      "\u001b[1m17/17\u001b[0m \u001b[32m━━━━━━━━━━━━━━━━━━━━\u001b[0m\u001b[37m\u001b[0m \u001b[1m75s\u001b[0m 4s/step - accuracy: 0.6019 - loss: 0.9987 - precision: 0.7000 - recall: 0.6758 - val_accuracy: 0.6899 - val_loss: 0.6172 - val_precision: 0.6838 - val_recall: 0.9639\n",
      "Epoch 9/20\n",
      "\u001b[1m17/17\u001b[0m \u001b[32m━━━━━━━━━━━━━━━━━━━━\u001b[0m\u001b[37m\u001b[0m \u001b[1m67s\u001b[0m 4s/step - accuracy: 0.6005 - loss: 0.8989 - precision: 0.6784 - recall: 0.7300 - val_accuracy: 0.6667 - val_loss: 0.6125 - val_precision: 0.6613 - val_recall: 0.9880\n",
      "Epoch 10/20\n",
      "\u001b[1m17/17\u001b[0m \u001b[32m━━━━━━━━━━━━━━━━━━━━\u001b[0m\u001b[37m\u001b[0m \u001b[1m66s\u001b[0m 4s/step - accuracy: 0.6531 - loss: 0.7220 - precision: 0.7286 - recall: 0.7423 - val_accuracy: 0.6434 - val_loss: 0.7903 - val_precision: 0.6434 - val_recall: 1.0000\n",
      "Epoch 10: early stopping\n",
      "Restoring model weights from the end of the best epoch: 5.\n",
      "\u001b[1m5/5\u001b[0m \u001b[32m━━━━━━━━━━━━━━━━━━━━\u001b[0m\u001b[37m\u001b[0m \u001b[1m2s\u001b[0m 425ms/step - accuracy: 0.7100 - loss: 0.5748 - precision: 0.7235 - recall: 0.8988\n"
     ]
    }
   ],
   "source": [
    "from tensorflow.keras.callbacks import EarlyStopping\n",
    "\n",
    "# EarlyStopping callback\n",
    "early_stopping = EarlyStopping(\n",
    "    monitor='val_loss',         # Metric to monitor (e.g., validation loss)\n",
    "    patience=5,                 # Number of epochs with no improvement before stopping\n",
    "    restore_best_weights=True,  # Restore the weights of the best epoch\n",
    "    verbose=1                   # Print messages when early stopping is triggered\n",
    ")\n",
    "\n",
    "history = model.fit(\n",
    "    [X_train_breathing, X_train_coughing, X_train_speech, X_train_other_features],\n",
    "    y_train,\n",
    "    validation_data=(\n",
    "        [X_val_breathing, X_val_coughing, X_val_speech, X_val_other_features],\n",
    "        y_val\n",
    "    ),\n",
    "    epochs=20,\n",
    "    batch_size=32,\n",
    "    callbacks=[early_stopping]\n",
    ")\n",
    "\n",
    "\n",
    "# Step 4: Evaluate the model on the validation set\n",
    "results = model.evaluate(\n",
    "    [X_val_breathing, X_val_coughing, X_val_speech, X_val_other_features],\n",
    "    y_val\n",
    ")"
   ]
  },
  {
   "cell_type": "code",
   "execution_count": 52,
   "metadata": {},
   "outputs": [
    {
     "name": "stdout",
     "output_type": "stream",
     "text": [
      "\u001b[1m17/17\u001b[0m \u001b[32m━━━━━━━━━━━━━━━━━━━━\u001b[0m\u001b[37m\u001b[0m \u001b[1m10s\u001b[0m 585ms/step\n"
     ]
    }
   ],
   "source": [
    "y_pred_train = model.predict([X_train_breathing, X_train_coughing, X_train_speech, X_train_other_features])"
   ]
  },
  {
   "cell_type": "code",
   "execution_count": null,
   "metadata": {},
   "outputs": [
    {
     "name": "stdout",
     "output_type": "stream",
     "text": [
      "Training Accuracy: 0.6932038834951456\n"
     ]
    }
   ],
   "source": [
    "y_pred_train_binary = (y_pred_train > 0.6).astype(int)\n",
    "\n",
    "\n",
    "from sklearn.metrics import accuracy_score, balanced_accuracy_score\n",
    "\n",
    "balanced_acc = balanced_accuracy_score(y_train, y_pred_train_binary)\n",
    "print(f\"Balanced Accuracy: {balanced_acc * 100:.2f}%\")\n",
    "\n",
    "accuracy_train = accuracy_score(y_train, y_pred_train_binary)\n",
    "\n",
    "print(f\"Training Accuracy: {accuracy_train * 100:.2f}%\")"
   ]
  },
  {
   "cell_type": "code",
   "execution_count": 54,
   "metadata": {},
   "outputs": [
    {
     "data": {
      "image/png": "[encoded data removed]",
      "text/plain": [
       "<Figure size 640x480 with 2 Axes>"
      ]
     },
     "metadata": {},
     "output_type": "display_data"
    }
   ],
   "source": [
    "from sklearn.metrics import confusion_matrix, ConfusionMatrixDisplay\n",
    "\n",
    "cm = confusion_matrix(y_train, y_pred_train_binary)\n",
    "\n",
    "# Step 4: Visualize or print the confusion matrix\n",
    "disp = ConfusionMatrixDisplay(confusion_matrix=cm)\n",
    "disp.plot(cmap=plt.cm.Blues)\n",
    "plt.title(\"Confusion Matrix for Training Data\")\n",
    "plt.show()"
   ]
  },
  {
   "cell_type": "code",
   "execution_count": null,
   "metadata": {},
   "outputs": [
    {
     "name": "stdout",
     "output_type": "stream",
     "text": [
      "Balanced Accuracy: 0.6512158054711246\n"
     ]
    }
   ],
   "source": [
    "from sklearn.metrics import balanced_accuracy_score\n",
    "\n",
    "# Calculate balanced accuracy\n",
    "balanced_acc = balanced_accuracy_score(y_train, y_pred_train_binary)\n",
    "print(f\"Balanced Accuracy: {balanced_acc * 100:.2f}%\")"
   ]
  },
  {
   "cell_type": "code",
   "execution_count": 56,
   "metadata": {},
   "outputs": [
    {
     "name": "stdout",
     "output_type": "stream",
     "text": [
      "\u001b[1m7/7\u001b[0m \u001b[32m━━━━━━━━━━━━━━━━━━━━\u001b[0m\u001b[37m\u001b[0m \u001b[1m4s\u001b[0m 602ms/step\n"
     ]
    }
   ],
   "source": [
    "y_pred_test = model.predict([spectrograms_test_breathing, spectrograms_test_coughing, spectrograms_test_speech, other_features_test])"
   ]
  },
  {
   "cell_type": "code",
   "execution_count": 57,
   "metadata": {},
   "outputs": [],
   "source": [
    "y_pred_test_binary = (y_pred_test > 0.6).astype(int)"
   ]
  },
  {
   "cell_type": "code",
   "execution_count": 58,
   "metadata": {},
   "outputs": [],
   "source": [
    "cm = confusion_matrix(y_test, y_pred_test_binary)"
   ]
  },
  {
   "cell_type": "code",
   "execution_count": 61,
   "metadata": {},
   "outputs": [
    {
     "data": {
      "image/png": "[encoded data removed]",
      "text/plain": [
       "<Figure size 640x480 with 2 Axes>"
      ]
     },
     "metadata": {},
     "output_type": "display_data"
    }
   ],
   "source": [
    "disp = ConfusionMatrixDisplay(cm)\n",
    "\n",
    "disp.plot(cmap=plt.cm.Blues)\n",
    "plt.title(\"Confusion Matrix for Testing Data\")\n",
    "plt.show()"
   ]
  },
  {
   "cell_type": "code",
   "execution_count": 60,
   "metadata": {},
   "outputs": [
    {
     "name": "stdout",
     "output_type": "stream",
     "text": [
      "Balanced Accuracy: 0.6350351461339252\n"
     ]
    }
   ],
   "source": [
    "balanced_acc = balanced_accuracy_score(y_test, y_pred_test_binary)\n",
    "print(f\"Balanced Accuracy: {balanced_acc}\")"
   ]
  }
 ],
 "metadata": {
  "kernelspec": {
   "display_name": "venv",
   "language": "python",
   "name": "python3"
  },
  "language_info": {
   "codemirror_mode": {
    "name": "ipython",
    "version": 3
   },
   "file_extension": ".py",
   "mimetype": "text/x-python",
   "name": "python",
   "nbconvert_exporter": "python",
   "pygments_lexer": "ipython3",
   "version": "3.12.6"
  }
 },
 "nbformat": 4,
 "nbformat_minor": 2
}
