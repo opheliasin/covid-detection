{
 "cells": [
  {
   "cell_type": "markdown",
   "metadata": {
    "vscode": {
     "languageId": "plaintext"
    }
   },
   "source": [
    "This file includes commands for rearranging folder structure – from AUDIO to AUDIO_NEW to ensure covid positive and negative audio files are separated into two subfolders."
   ]
  },
  {
   "cell_type": "code",
   "execution_count": 12,
   "metadata": {},
   "outputs": [],
   "source": [
    "import pandas as pd\n",
    "import shutil\n",
    "import os"
   ]
  },
  {
   "cell_type": "code",
   "execution_count": 16,
   "metadata": {},
   "outputs": [],
   "source": [
    "audio_path_old = './dataset/AUDIO/'\n",
    "audio_path_new = './dataset/AUDIO_NEW/'"
   ]
  },
  {
   "cell_type": "code",
   "execution_count": 3,
   "metadata": {},
   "outputs": [],
   "source": [
    "types = ['breathing', 'cough', 'speech']"
   ]
  },
  {
   "cell_type": "code",
   "execution_count": 8,
   "metadata": {},
   "outputs": [],
   "source": [
    "metadata_df = pd.read_csv(\"./dataset/metadata.csv\", sep = ' ')"
   ]
  },
  {
   "cell_type": "code",
   "execution_count": 9,
   "metadata": {},
   "outputs": [
    {
     "data": {
      "text/html": [
       "<div>\n",
       "<style scoped>\n",
       "    .dataframe tbody tr th:only-of-type {\n",
       "        vertical-align: middle;\n",
       "    }\n",
       "\n",
       "    .dataframe tbody tr th {\n",
       "        vertical-align: top;\n",
       "    }\n",
       "\n",
       "    .dataframe thead th {\n",
       "        text-align: right;\n",
       "    }\n",
       "</style>\n",
       "<table border=\"1\" class=\"dataframe\">\n",
       "  <thead>\n",
       "    <tr style=\"text-align: right;\">\n",
       "      <th></th>\n",
       "      <th>SUB_ID</th>\n",
       "      <th>COVID_STATUS</th>\n",
       "      <th>GENDER</th>\n",
       "    </tr>\n",
       "  </thead>\n",
       "  <tbody>\n",
       "    <tr>\n",
       "      <th>0</th>\n",
       "      <td>NPHYFCYK</td>\n",
       "      <td>n</td>\n",
       "      <td>m</td>\n",
       "    </tr>\n",
       "    <tr>\n",
       "      <th>1</th>\n",
       "      <td>HTCFAFDO</td>\n",
       "      <td>n</td>\n",
       "      <td>m</td>\n",
       "    </tr>\n",
       "    <tr>\n",
       "      <th>2</th>\n",
       "      <td>XLIOSZXS</td>\n",
       "      <td>n</td>\n",
       "      <td>m</td>\n",
       "    </tr>\n",
       "    <tr>\n",
       "      <th>3</th>\n",
       "      <td>FONIOYTJ</td>\n",
       "      <td>n</td>\n",
       "      <td>m</td>\n",
       "    </tr>\n",
       "    <tr>\n",
       "      <th>4</th>\n",
       "      <td>DZEREGIM</td>\n",
       "      <td>n</td>\n",
       "      <td>m</td>\n",
       "    </tr>\n",
       "  </tbody>\n",
       "</table>\n",
       "</div>"
      ],
      "text/plain": [
       "     SUB_ID COVID_STATUS GENDER\n",
       "0  NPHYFCYK            n      m\n",
       "1  HTCFAFDO            n      m\n",
       "2  XLIOSZXS            n      m\n",
       "3  FONIOYTJ            n      m\n",
       "4  DZEREGIM            n      m"
      ]
     },
     "execution_count": 9,
     "metadata": {},
     "output_type": "execute_result"
    }
   ],
   "source": [
    "metadata_df.head()"
   ]
  },
  {
   "cell_type": "code",
   "execution_count": 19,
   "metadata": {},
   "outputs": [],
   "source": [
    "def reassign(audio_type, audio_path_old, audio_path_new):\n",
    "    # Define paths\n",
    "    covid_positive_folder = os.path.join(audio_path_new + \"/\" + audio_type, 'COVID_Positive')\n",
    "    covid_negative_folder = os.path.join(audio_path_new + \"/\" + audio_type, 'COVID_Negative')\n",
    "    \n",
    "    # Create subfolders if they don't exist\n",
    "    os.makedirs(covid_positive_folder, exist_ok=True)\n",
    "    os.makedirs(covid_negative_folder, exist_ok=True)\n",
    "    \n",
    "    for index, row in metadata_df.iterrows():\n",
    "        participant_id = row['SUB_ID']\n",
    "        covid_status = row['COVID_STATUS']\n",
    "    \n",
    "        # Construct file path (assuming files are named with participant_id)\n",
    "        file_name = f\"{participant_id}.flac\"  # Adjust extension if different\n",
    "        source_path = os.path.join(audio_path_old + \"/\" + audio_type, file_name)\n",
    "    \n",
    "        # Determine destination folder\n",
    "        if covid_status.lower() == 'p':\n",
    "            destination_path = os.path.join(covid_positive_folder, file_name)\n",
    "        else:\n",
    "            destination_path = os.path.join(covid_negative_folder, file_name)\n",
    "    \n",
    "        # Copy the file\n",
    "        if os.path.exists(source_path):\n",
    "            shutil.copy(source_path, destination_path)"
   ]
  },
  {
   "cell_type": "code",
   "execution_count": 21,
   "metadata": {},
   "outputs": [],
   "source": [
    "reassign(types[2], audio_path_old, audio_path_new)"
   ]
  }
 ],
 "metadata": {
  "kernelspec": {
   "display_name": "Python 3 (ipykernel)",
   "language": "python",
   "name": "python3"
  },
  "language_info": {
   "codemirror_mode": {
    "name": "ipython",
    "version": 3
   },
   "file_extension": ".py",
   "mimetype": "text/x-python",
   "name": "python",
   "nbconvert_exporter": "python",
   "pygments_lexer": "ipython3",
   "version": "3.12.6"
  }
 },
 "nbformat": 4,
 "nbformat_minor": 4
}
