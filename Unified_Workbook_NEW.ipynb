{
  "cells": [
    {
      "cell_type": "markdown",
      "metadata": {
        "id": "M-j9af2iwADY"
      },
      "source": [
        "# Workbook"
      ]
    },
    {
      "cell_type": "code",
      "execution_count": 2,
      "metadata": {
        "id": "S0UnVeBCHXYJ"
      },
      "outputs": [],
      "source": [
        "# import necessary packages\n",
        "\n",
        "import os\n",
        "import pathlib\n",
        "\n",
        "import matplotlib.pyplot as plt\n",
        "import numpy as np\n",
        "import seaborn as sns\n",
        "import tensorflow as tf\n",
        "\n",
        "from IPython import display\n",
        "import tensorflow as tf\n",
        "import pandas as pd\n",
        "import librosa\n",
        "\n",
        "# Set the seed value for experiment reproducibility.\n",
        "seed = 42\n",
        "tf.random.set_seed(seed)\n",
        "np.random.seed(seed)"
      ]
    },
    {
      "cell_type": "code",
      "execution_count": 3,
      "metadata": {
        "id": "gsel7TEhHhc9",
        "colab": {
          "base_uri": "https://localhost:8080/"
        },
        "outputId": "0a061957-b5dc-4398-c154-497301fbee02"
      },
      "outputs": [
        {
          "output_type": "stream",
          "name": "stdout",
          "text": [
            "Mounted at /content/drive\n"
          ]
        }
      ],
      "source": [
        "from google.colab import drive\n",
        "drive.mount('/content/drive')\n",
        "import os\n",
        "os.listdir('/content/drive/My Drive/')\n",
        "\n",
        "audio_path = '/content/drive/My Drive/dataset/AUDIO_NEW/'\n",
        "\n",
        "audio_types = ['breathing', 'cough', 'speech']"
      ]
    },
    {
      "cell_type": "code",
      "execution_count": 4,
      "metadata": {
        "id": "vc8NVOwZJwW6"
      },
      "outputs": [],
      "source": [
        "def get_directories(audio_path, audio_type):\n",
        "    from pathlib import Path\n",
        "\n",
        "    POS = os.path.join(audio_path + audio_type, 'COVID_Positive')\n",
        "    NEG = os.path.join(audio_path + audio_type, 'COVID_Negative')\n",
        "\n",
        "    # Specify the directory path\n",
        "    pos_directory = Path(POS)\n",
        "    neg_directory = Path(NEG)\n",
        "\n",
        "    # List all files in the directory using iterdir()\n",
        "    # pos_files = [file.name for file in pos_directory.iterdir() if file.is_file()]\n",
        "    # neg_files = [file.name for file in neg_directory.iterdir() if file.is_file()]\n",
        "\n",
        "    return pos_directory, neg_directory"
      ]
    },
    {
      "cell_type": "markdown",
      "metadata": {
        "id": "VIAK_wb5wADa"
      },
      "source": [
        "### breathing mel spectrogram"
      ]
    },
    {
      "cell_type": "code",
      "execution_count": 5,
      "metadata": {
        "id": "dssmiF6YwADa"
      },
      "outputs": [],
      "source": [
        "pos_directory_breathing, neg_directory_breathing = get_directories(audio_path, audio_types[0])\n",
        "\n",
        "# Load and process cough data\n",
        "pos_directory_cough, neg_directory_cough = get_directories(audio_path, audio_types[1]) # audio_types[1] is 'cough'\n",
        "\n",
        "# Load and process speech data\n",
        "pos_directory_speech, neg_directory_speech = get_directories(audio_path, audio_types[2]) # audio_types[2] is 'speech'\n"
      ]
    },
    {
      "cell_type": "code",
      "execution_count": 6,
      "metadata": {
        "jupyter": {
          "source_hidden": true
        },
        "id": "ziRNcmVMwADa"
      },
      "outputs": [],
      "source": [
        "def create_mel_spectrogram(y, sr, file_path):\n",
        "    mel_spectrogram = librosa.feature.melspectrogram(y=y, sr=sr, n_fft=512, hop_length=128, n_mels=128)\n",
        "    log_mel_spectrogram = librosa.power_to_db(mel_spectrogram, ref=np.max)\n",
        "\n",
        "    # Normalize the spectrogram\n",
        "    if np.std(log_mel_spectrogram) == 0:\n",
        "        print(\"log_mel_spectrogram == 0: \", file_path.resolve())\n",
        "    # Normalize the spectrogram\n",
        "    epsilon = 1e-6  # Small value to avoid division by zero\n",
        "    log_mel_spectrogram = (log_mel_spectrogram - np.mean(log_mel_spectrogram)) / (np.std(log_mel_spectrogram) + epsilon)\n",
        "\n",
        "    # Add channel dimension\n",
        "    log_mel_spectrogram = np.expand_dims(log_mel_spectrogram, axis=-1)\n",
        "\n",
        "    return log_mel_spectrogram\n",
        "def create_zero_crossing_rate(y):\n",
        "    return np.mean(librosa.feature.zero_crossing_rate(y))\n",
        "def create_spectral_centroid(y, sr):\n",
        "    return np.mean(librosa.feature.spectral_centroid(y=y, sr=sr))"
      ]
    },
    {
      "cell_type": "code",
      "execution_count": 7,
      "metadata": {
        "jupyter": {
          "source_hidden": true
        },
        "id": "u95_DIk_wADb"
      },
      "outputs": [],
      "source": [
        "def create_features(pos_directory, neg_directory, target_length):\n",
        "    spectrograms = []\n",
        "    other_features = []\n",
        "    labels = []\n",
        "\n",
        "    # Access files directly using iterdir()\n",
        "    for file_path in pos_directory.iterdir():\n",
        "        y, sr = librosa.load(file_path, sr=16000)\n",
        "        y = y[:target_length]\n",
        "\n",
        "        zero_padding = np.zeros(target_length - len(y), dtype=np.float32)\n",
        "        y = np.concatenate([y, zero_padding], axis=0)\n",
        "\n",
        "        spectrograms.append(create_mel_spectrogram(y, sr, file_path))\n",
        "        other_features.append([create_zero_crossing_rate(y), create_spectral_centroid(y, sr)])\n",
        "        labels.append(1)\n",
        "\n",
        "    for file_path in neg_directory.iterdir():\n",
        "        y, sr = librosa.load(file_path, sr=16000)\n",
        "        y = y[:target_length]\n",
        "\n",
        "        zero_padding = np.zeros(target_length - len(y), dtype=np.float32)\n",
        "        y = np.concatenate([y, zero_padding], axis=0)\n",
        "\n",
        "        spectrograms.append(create_mel_spectrogram(y, sr, file_path))\n",
        "        other_features.append([create_zero_crossing_rate(y), create_spectral_centroid(y, sr)])\n",
        "        labels.append(0)\n",
        "\n",
        "    print(\"Completed creating features for {0} and {1}! \".format(pos_directory, neg_directory))\n",
        "\n",
        "    return spectrograms, other_features, labels"
      ]
    },
    {
      "cell_type": "code",
      "execution_count": 8,
      "metadata": {
        "colab": {
          "base_uri": "https://localhost:8080/"
        },
        "id": "XrEps2IfwADb",
        "outputId": "b3b600de-4efd-4a2a-e28b-7a6887ffd858"
      },
      "outputs": [
        {
          "output_type": "stream",
          "name": "stdout",
          "text": [
            "log_mel_spectrogram == 0:  /content/drive/My Drive/dataset/AUDIO_NEW/breathing/COVID_Negative/TMWZXJNT.flac\n",
            "log_mel_spectrogram == 0:  /content/drive/My Drive/dataset/AUDIO_NEW/breathing/COVID_Negative/HTUZHMVC.flac\n",
            "log_mel_spectrogram == 0:  /content/drive/My Drive/dataset/AUDIO_NEW/breathing/COVID_Negative/GDOLSUHV.flac\n",
            "Completed creating features for /content/drive/My Drive/dataset/AUDIO_NEW/breathing/COVID_Positive and /content/drive/My Drive/dataset/AUDIO_NEW/breathing/COVID_Negative! \n",
            "log_mel_spectrogram == 0:  /content/drive/My Drive/dataset/AUDIO_NEW/cough/COVID_Negative/TMWZXJNT.flac\n",
            "Completed creating features for /content/drive/My Drive/dataset/AUDIO_NEW/cough/COVID_Positive and /content/drive/My Drive/dataset/AUDIO_NEW/cough/COVID_Negative! \n",
            "Completed creating features for /content/drive/My Drive/dataset/AUDIO_NEW/speech/COVID_Positive and /content/drive/My Drive/dataset/AUDIO_NEW/speech/COVID_Negative! \n"
          ]
        }
      ],
      "source": [
        "\n",
        " spectrograms, other_features, labels = create_features(pos_directory_breathing, neg_directory_breathing, 80000)\n",
        " spectrograms_cough, other_features_cough, labels_cough = create_features(pos_directory_cough, neg_directory_cough, 80000)\n",
        " spectrograms_speech, other_features_speech, labels_speech = create_features(pos_directory_speech, neg_directory_speech, 80000)\n"
      ]
    },
    {
      "cell_type": "code",
      "execution_count": 9,
      "metadata": {
        "jupyter": {
          "source_hidden": true
        },
        "scrolled": true,
        "id": "TMtbz8ZawADb"
      },
      "outputs": [],
      "source": [
        "# # List to store spectrograms and labels\n",
        "# spectrograms = []\n",
        "# zero_crossing_rates = []\n",
        "# spectral_centroids = []\n",
        "# labels = []\n",
        "\n",
        "# for file_path in pos_directory.iterdir():\n",
        "#     y, sr = librosa.load(file_path.resolve(), sr=16000)\n",
        "#     y = y[:80000]\n",
        "\n",
        "#     zero_padding = np.zeros(80000 - len(y), dtype=np.float32)\n",
        "#     y = np.concatenate([y, zero_padding],axis=0)\n",
        "\n",
        "#     mel_spectrogram = librosa.feature.melspectrogram(y=y, sr=sr, n_fft=512, hop_length=128, n_mels=128)\n",
        "#     log_mel_spectrogram = librosa.power_to_db(mel_spectrogram, ref=np.max)\n",
        "\n",
        "#     # Normalize the spectrogram\n",
        "#     log_mel_spectrogram = (log_mel_spectrogram - np.mean(log_mel_spectrogram)) / np.std(log_mel_spectrogram)\n",
        "\n",
        "#     log_mel_spectrogram = np.expand_dims(log_mel_spectrogram, axis=-1)  # Add channel dimension\n",
        "\n",
        "#     # Append to list\n",
        "#     spectrograms.append(log_mel_spectrogram)\n",
        "\n",
        "#     zero_crossing_rate = np.mean(librosa.feature.zero_crossing_rate(y))\n",
        "#     spectral_centroid = np.mean(librosa.feature.spectral_centroid(y=y, sr=sr))\n",
        "\n",
        "#     zero_crossing_rates.append(zero_crossing_rate)\n",
        "#     spectral_centroids.append(spectral_centroid)\n",
        "\n",
        "#     labels.append(1)  # Assuming binary classification\n",
        "\n",
        "# for file_path in neg_directory.iterdir():\n",
        "#     y, sr = librosa.load(file_path.resolve(), sr=16000)\n",
        "#     y = y[:80000]\n",
        "\n",
        "#     zero_padding = np.zeros(80000 - len(y), dtype=np.float32)\n",
        "#     y = np.concatenate([y, zero_padding],axis=0)\n",
        "\n",
        "#     mel_spectrogram = librosa.feature.melspectrogram(y=y, sr=sr, n_fft=512, hop_length=128, n_mels=128)\n",
        "#     log_mel_spectrogram = librosa.power_to_db(mel_spectrogram, ref=np.max)\n",
        "\n",
        "#     if np.std(log_mel_spectrogram) == 0:\n",
        "#         print(file_path.resolve())\n",
        "#     # Normalize the spectrogram\n",
        "#     epsilon = 1e-6  # Small value to avoid division by zero\n",
        "#     log_mel_spectrogram = (log_mel_spectrogram - np.mean(log_mel_spectrogram)) / (np.std(log_mel_spectrogram) + epsilon)\n",
        "\n",
        "#     log_mel_spectrogram = np.expand_dims(log_mel_spectrogram, axis=-1)  # Add channel dimension\n",
        "#     #print(log_mel_spectrogram.shape)\n",
        "#     # Append to list\n",
        "#     spectrograms.append(log_mel_spectrogram)\n",
        "\n",
        "#     zero_crossing_rate = np.mean(librosa.feature.zero_crossing_rate(y))\n",
        "#     spectral_centroid = np.mean(librosa.feature.spectral_centroid(y=y, sr=sr))\n",
        "\n",
        "#     zero_crossing_rates.append(zero_crossing_rate)\n",
        "#     spectral_centroids.append(spectral_centroid)\n",
        "\n",
        "#     labels.append(0)"
      ]
    },
    {
      "cell_type": "code",
      "execution_count": 10,
      "metadata": {
        "id": "Vgdr4f6LwADc"
      },
      "outputs": [],
      "source": [
        "all_spectrograms = spectrograms_cough + spectrograms_speech + spectrograms\n",
        "all_other_features = other_features_cough + other_features_speech + other_features\n",
        "all_labels = labels_cough + labels_speech + labels\n",
        "\n",
        "# Convert to NumPy arrays\n",
        "all_spectrograms = np.array(all_spectrograms)\n",
        "all_other_features = np.array(all_other_features)\n",
        "all_labels = np.array(all_labels)\n",
        "all_spectrograms_flattened = all_spectrograms.reshape(all_spectrograms.shape[0], -1)"
      ]
    },
    {
      "cell_type": "code",
      "execution_count": 11,
      "metadata": {
        "colab": {
          "base_uri": "https://localhost:8080/"
        },
        "id": "ZHd3Qd8rwADc",
        "outputId": "cbebd820-5cbb-47ae-b515-aa57116c247d"
      },
      "outputs": [
        {
          "output_type": "execute_result",
          "data": {
            "text/plain": [
              "(2895, 128, 626, 1)"
            ]
          },
          "metadata": {},
          "execution_count": 11
        }
      ],
      "source": [
        "all_spectrograms.shape"
      ]
    },
    {
      "cell_type": "code",
      "execution_count": 12,
      "metadata": {
        "scrolled": true,
        "colab": {
          "base_uri": "https://localhost:8080/"
        },
        "id": "yvU2grPKwADc",
        "outputId": "bac2e8d5-4913-4039-e4c8-12403b229585"
      },
      "outputs": [
        {
          "output_type": "execute_result",
          "data": {
            "text/plain": [
              "array([[[[-0.6158209 ],\n",
              "         [-0.6158209 ],\n",
              "         [-0.6158209 ],\n",
              "         ...,\n",
              "         [-0.6158209 ],\n",
              "         [-0.6158209 ],\n",
              "         [-0.6158209 ]],\n",
              "\n",
              "        [[-0.6158209 ],\n",
              "         [-0.6158209 ],\n",
              "         [-0.6158209 ],\n",
              "         ...,\n",
              "         [-0.6158209 ],\n",
              "         [-0.6158209 ],\n",
              "         [-0.6158209 ]],\n",
              "\n",
              "        [[-0.6158209 ],\n",
              "         [-0.6158209 ],\n",
              "         [-0.6158209 ],\n",
              "         ...,\n",
              "         [-0.6158209 ],\n",
              "         [-0.6158209 ],\n",
              "         [-0.6158209 ]],\n",
              "\n",
              "        ...,\n",
              "\n",
              "        [[-0.6158209 ],\n",
              "         [-0.6158209 ],\n",
              "         [-0.6158209 ],\n",
              "         ...,\n",
              "         [-0.6158209 ],\n",
              "         [-0.6158209 ],\n",
              "         [-0.6158209 ]],\n",
              "\n",
              "        [[-0.6158209 ],\n",
              "         [-0.6158209 ],\n",
              "         [-0.6158209 ],\n",
              "         ...,\n",
              "         [-0.6158209 ],\n",
              "         [-0.6158209 ],\n",
              "         [-0.6158209 ]],\n",
              "\n",
              "        [[-0.6158209 ],\n",
              "         [-0.6158209 ],\n",
              "         [-0.6158209 ],\n",
              "         ...,\n",
              "         [-0.6158209 ],\n",
              "         [-0.6158209 ],\n",
              "         [-0.6158209 ]]],\n",
              "\n",
              "\n",
              "       [[[-0.43409294],\n",
              "         [-0.43409294],\n",
              "         [ 0.7811032 ],\n",
              "         ...,\n",
              "         [-0.43409294],\n",
              "         [-0.43409294],\n",
              "         [-0.43409294]],\n",
              "\n",
              "        [[-0.43409294],\n",
              "         [-0.43409294],\n",
              "         [ 0.87691855],\n",
              "         ...,\n",
              "         [-0.43409294],\n",
              "         [-0.43409294],\n",
              "         [-0.43409294]],\n",
              "\n",
              "        [[-0.43409294],\n",
              "         [-0.43409294],\n",
              "         [ 0.95525867],\n",
              "         ...,\n",
              "         [-0.43409294],\n",
              "         [-0.43409294],\n",
              "         [-0.43409294]],\n",
              "\n",
              "        ...,\n",
              "\n",
              "        [[-0.43409294],\n",
              "         [-0.43409294],\n",
              "         [-0.43409294],\n",
              "         ...,\n",
              "         [-0.43409294],\n",
              "         [-0.43409294],\n",
              "         [-0.43409294]],\n",
              "\n",
              "        [[-0.43409294],\n",
              "         [-0.43409294],\n",
              "         [-0.43409294],\n",
              "         ...,\n",
              "         [-0.43409294],\n",
              "         [-0.43409294],\n",
              "         [-0.43409294]],\n",
              "\n",
              "        [[-0.43409294],\n",
              "         [-0.43409294],\n",
              "         [-0.43409294],\n",
              "         ...,\n",
              "         [-0.43409294],\n",
              "         [-0.43409294],\n",
              "         [-0.43409294]]],\n",
              "\n",
              "\n",
              "       [[[-0.55367666],\n",
              "         [-0.55367666],\n",
              "         [-0.55367666],\n",
              "         ...,\n",
              "         [-0.55367666],\n",
              "         [-0.55367666],\n",
              "         [-0.55367666]],\n",
              "\n",
              "        [[-0.55367666],\n",
              "         [-0.55367666],\n",
              "         [-0.55367666],\n",
              "         ...,\n",
              "         [-0.55367666],\n",
              "         [-0.55367666],\n",
              "         [-0.55367666]],\n",
              "\n",
              "        [[-0.55367666],\n",
              "         [-0.55367666],\n",
              "         [-0.55367666],\n",
              "         ...,\n",
              "         [-0.55367666],\n",
              "         [-0.55367666],\n",
              "         [-0.55367666]],\n",
              "\n",
              "        ...,\n",
              "\n",
              "        [[-0.55367666],\n",
              "         [-0.55367666],\n",
              "         [-0.55367666],\n",
              "         ...,\n",
              "         [-0.55367666],\n",
              "         [-0.55367666],\n",
              "         [-0.55367666]],\n",
              "\n",
              "        [[-0.55367666],\n",
              "         [-0.55367666],\n",
              "         [-0.55367666],\n",
              "         ...,\n",
              "         [-0.55367666],\n",
              "         [-0.55367666],\n",
              "         [-0.55367666]],\n",
              "\n",
              "        [[-0.55367666],\n",
              "         [-0.55367666],\n",
              "         [-0.55367666],\n",
              "         ...,\n",
              "         [-0.55367666],\n",
              "         [-0.55367666],\n",
              "         [-0.55367666]]],\n",
              "\n",
              "\n",
              "       ...,\n",
              "\n",
              "\n",
              "       [[[-1.338198  ],\n",
              "         [-1.338198  ],\n",
              "         [-1.338198  ],\n",
              "         ...,\n",
              "         [-1.338198  ],\n",
              "         [-1.338198  ],\n",
              "         [-1.338198  ]],\n",
              "\n",
              "        [[-1.338198  ],\n",
              "         [-1.338198  ],\n",
              "         [-1.338198  ],\n",
              "         ...,\n",
              "         [-1.338198  ],\n",
              "         [-1.338198  ],\n",
              "         [-1.338198  ]],\n",
              "\n",
              "        [[-1.338198  ],\n",
              "         [-1.338198  ],\n",
              "         [-1.338198  ],\n",
              "         ...,\n",
              "         [-1.338198  ],\n",
              "         [-1.338198  ],\n",
              "         [-1.338198  ]],\n",
              "\n",
              "        ...,\n",
              "\n",
              "        [[-1.338198  ],\n",
              "         [-1.338198  ],\n",
              "         [-1.338198  ],\n",
              "         ...,\n",
              "         [-1.338198  ],\n",
              "         [-1.338198  ],\n",
              "         [-1.338198  ]],\n",
              "\n",
              "        [[-1.338198  ],\n",
              "         [-1.338198  ],\n",
              "         [-1.338198  ],\n",
              "         ...,\n",
              "         [-1.338198  ],\n",
              "         [-1.338198  ],\n",
              "         [-1.338198  ]],\n",
              "\n",
              "        [[-1.338198  ],\n",
              "         [-1.338198  ],\n",
              "         [-1.338198  ],\n",
              "         ...,\n",
              "         [-1.338198  ],\n",
              "         [-1.338198  ],\n",
              "         [-1.338198  ]]],\n",
              "\n",
              "\n",
              "       [[[-1.0112269 ],\n",
              "         [-1.0112269 ],\n",
              "         [-1.0112269 ],\n",
              "         ...,\n",
              "         [-0.62725   ],\n",
              "         [-0.00491767],\n",
              "         [-0.08622477]],\n",
              "\n",
              "        [[-1.0112269 ],\n",
              "         [-1.0112269 ],\n",
              "         [-1.0112269 ],\n",
              "         ...,\n",
              "         [-0.072216  ],\n",
              "         [-0.12929623],\n",
              "         [ 0.07649675]],\n",
              "\n",
              "        [[-1.0112269 ],\n",
              "         [-1.0112269 ],\n",
              "         [-1.0112269 ],\n",
              "         ...,\n",
              "         [ 0.08210872],\n",
              "         [-0.43785962],\n",
              "         [ 0.17594953]],\n",
              "\n",
              "        ...,\n",
              "\n",
              "        [[-1.0112269 ],\n",
              "         [-1.0112269 ],\n",
              "         [-1.0112269 ],\n",
              "         ...,\n",
              "         [-1.0112269 ],\n",
              "         [-0.9398867 ],\n",
              "         [-0.6611798 ]],\n",
              "\n",
              "        [[-1.0112269 ],\n",
              "         [-1.0112269 ],\n",
              "         [-1.0112269 ],\n",
              "         ...,\n",
              "         [-1.0112269 ],\n",
              "         [-1.0112269 ],\n",
              "         [-0.70896834]],\n",
              "\n",
              "        [[-1.0112269 ],\n",
              "         [-1.0112269 ],\n",
              "         [-1.0112269 ],\n",
              "         ...,\n",
              "         [-1.0112269 ],\n",
              "         [-1.0082093 ],\n",
              "         [-0.6970864 ]]],\n",
              "\n",
              "\n",
              "       [[[-0.97825336],\n",
              "         [-0.97825336],\n",
              "         [-0.97825336],\n",
              "         ...,\n",
              "         [-0.97825336],\n",
              "         [-0.97825336],\n",
              "         [-0.97825336]],\n",
              "\n",
              "        [[-0.97825336],\n",
              "         [-0.97825336],\n",
              "         [-0.97825336],\n",
              "         ...,\n",
              "         [-0.97825336],\n",
              "         [-0.97825336],\n",
              "         [-0.97825336]],\n",
              "\n",
              "        [[-0.97825336],\n",
              "         [-0.97825336],\n",
              "         [-0.97825336],\n",
              "         ...,\n",
              "         [-0.97825336],\n",
              "         [-0.97825336],\n",
              "         [-0.97825336]],\n",
              "\n",
              "        ...,\n",
              "\n",
              "        [[-0.97825336],\n",
              "         [-0.97825336],\n",
              "         [-0.97825336],\n",
              "         ...,\n",
              "         [-0.97825336],\n",
              "         [-0.97825336],\n",
              "         [-0.97825336]],\n",
              "\n",
              "        [[-0.97825336],\n",
              "         [-0.97825336],\n",
              "         [-0.97825336],\n",
              "         ...,\n",
              "         [-0.97825336],\n",
              "         [-0.97825336],\n",
              "         [-0.97825336]],\n",
              "\n",
              "        [[-0.97825336],\n",
              "         [-0.97825336],\n",
              "         [-0.97825336],\n",
              "         ...,\n",
              "         [-0.97825336],\n",
              "         [-0.97825336],\n",
              "         [-0.97825336]]]], dtype=float32)"
            ]
          },
          "metadata": {},
          "execution_count": 12
        }
      ],
      "source": [
        "all_spectrograms"
      ]
    },
    {
      "cell_type": "code",
      "execution_count": 13,
      "metadata": {
        "colab": {
          "base_uri": "https://localhost:8080/"
        },
        "id": "CHOkKywUwADc",
        "outputId": "202f3bf1-c5a8-420a-b0c7-24a33bb66ef6"
      },
      "outputs": [
        {
          "output_type": "execute_result",
          "data": {
            "text/plain": [
              "array([[-0.6158209 , -0.6158209 , -0.6158209 , ..., -0.6158209 ,\n",
              "        -0.6158209 , -0.6158209 ],\n",
              "       [-0.43409294, -0.43409294,  0.7811032 , ..., -0.43409294,\n",
              "        -0.43409294, -0.43409294],\n",
              "       [-0.55367666, -0.55367666, -0.55367666, ..., -0.55367666,\n",
              "        -0.55367666, -0.55367666],\n",
              "       ...,\n",
              "       [-1.338198  , -1.338198  , -1.338198  , ..., -1.338198  ,\n",
              "        -1.338198  , -1.338198  ],\n",
              "       [-1.0112269 , -1.0112269 , -1.0112269 , ..., -1.0112269 ,\n",
              "        -1.0082093 , -0.6970864 ],\n",
              "       [-0.97825336, -0.97825336, -0.97825336, ..., -0.97825336,\n",
              "        -0.97825336, -0.97825336]], dtype=float32)"
            ]
          },
          "metadata": {},
          "execution_count": 13
        }
      ],
      "source": [
        "all_spectrograms_flattened"
      ]
    },
    {
      "cell_type": "code",
      "execution_count": 14,
      "metadata": {
        "id": "BolWjHFswADc"
      },
      "outputs": [],
      "source": [
        "X_combined = np.hstack([all_spectrograms_flattened, all_other_features])"
      ]
    },
    {
      "cell_type": "code",
      "execution_count": 15,
      "metadata": {
        "id": "kMmIePLiwADc"
      },
      "outputs": [],
      "source": [
        "from sklearn.model_selection import train_test_split\n",
        "\n",
        "X_train, X_test, y_train, y_test = train_test_split(X_combined, all_labels, test_size=0.2, stratify=all_labels)"
      ]
    },
    {
      "cell_type": "code",
      "execution_count": 16,
      "metadata": {
        "colab": {
          "base_uri": "https://localhost:8080/"
        },
        "id": "qjiI61ybwADc",
        "outputId": "4f3eaa27-aa0b-4075-f84d-4f1ea7dde3f2"
      },
      "outputs": [
        {
          "output_type": "execute_result",
          "data": {
            "text/plain": [
              "array([-6.15820885e-01, -6.15820885e-01, -6.15820885e-01, ...,\n",
              "       -6.15820885e-01,  1.81811679e-01,  1.75672199e+03])"
            ]
          },
          "metadata": {},
          "execution_count": 16
        }
      ],
      "source": [
        "X_combined[0]"
      ]
    },
    {
      "cell_type": "code",
      "execution_count": 17,
      "metadata": {
        "collapsed": true,
        "jupyter": {
          "outputs_hidden": true,
          "source_hidden": true
        },
        "scrolled": true,
        "id": "Ct491GMTwADc"
      },
      "outputs": [],
      "source": [
        "# Flatten each spectrogram into a single vector\n",
        "# Resulting shape will be (num_samples, height * width * channels)\n",
        "# X_train_numpy = np.array(X_train)\n",
        "# X_train_flattened = X_train_numpy.reshape(X_train_numpy.shape[0], -1)\n",
        "\n",
        "# print(f\"Original shape: {X_train_numpy.shape}\")\n",
        "# print(f\"Flattened shape: {X_train_flattened.shape}\")"
      ]
    },
    {
      "cell_type": "code",
      "execution_count": 18,
      "metadata": {
        "colab": {
          "base_uri": "https://localhost:8080/"
        },
        "id": "C3W5W-NnwADc",
        "outputId": "9e606b1a-b401-422b-aa8d-e07f23474713"
      },
      "outputs": [
        {
          "output_type": "stream",
          "name": "stdout",
          "text": [
            "Collecting imbalanced-learn\n",
            "  Downloading imbalanced_learn-0.12.4-py3-none-any.whl.metadata (8.3 kB)\n",
            "Requirement already satisfied: numpy>=1.17.3 in /usr/local/lib/python3.10/dist-packages (from imbalanced-learn) (1.26.4)\n",
            "Requirement already satisfied: scipy>=1.5.0 in /usr/local/lib/python3.10/dist-packages (from imbalanced-learn) (1.13.1)\n",
            "Requirement already satisfied: scikit-learn>=1.0.2 in /usr/local/lib/python3.10/dist-packages (from imbalanced-learn) (1.5.2)\n",
            "Requirement already satisfied: joblib>=1.1.1 in /usr/local/lib/python3.10/dist-packages (from imbalanced-learn) (1.4.2)\n",
            "Requirement already satisfied: threadpoolctl>=2.0.0 in /usr/local/lib/python3.10/dist-packages (from imbalanced-learn) (3.5.0)\n",
            "Downloading imbalanced_learn-0.12.4-py3-none-any.whl (258 kB)\n",
            "\u001b[?25l   \u001b[90m━━━━━━━━━━━━━━━━━━━━━━━━━━━━━━━━━━━━━━━━\u001b[0m \u001b[32m0.0/258.3 kB\u001b[0m \u001b[31m?\u001b[0m eta \u001b[36m-:--:--\u001b[0m\r\u001b[2K   \u001b[91m━━━━━━━━━━━━━━━━━━━━━━━━━━━━━━━━━━━━━━━\u001b[0m\u001b[91m╸\u001b[0m \u001b[32m256.0/258.3 kB\u001b[0m \u001b[31m8.0 MB/s\u001b[0m eta \u001b[36m0:00:01\u001b[0m\r\u001b[2K   \u001b[90m━━━━━━━━━━━━━━━━━━━━━━━━━━━━━━━━━━━━━━━━\u001b[0m \u001b[32m258.3/258.3 kB\u001b[0m \u001b[31m5.7 MB/s\u001b[0m eta \u001b[36m0:00:00\u001b[0m\n",
            "\u001b[?25hInstalling collected packages: imbalanced-learn\n",
            "Successfully installed imbalanced-learn-0.12.4\n",
            "Resampled class distribution: Counter({1: 1863, 0: 358})\n"
          ]
        }
      ],
      "source": [
        "!pip install imbalanced-learn\n",
        "from imblearn.combine import SMOTEENN\n",
        "from collections import Counter\n",
        "\n",
        "smote_enn = SMOTEENN(random_state=seed)\n",
        "X_train_resampled, y_train_resampled = smote_enn.fit_resample(X_train, y_train)\n",
        "\n",
        "# Print resampled class distribution\n",
        "print(f\"Resampled class distribution: {Counter(y_train_resampled)}\")"
      ]
    },
    {
      "cell_type": "code",
      "execution_count": 19,
      "metadata": {
        "jupyter": {
          "source_hidden": true
        },
        "id": "xYk5JNuUwADc"
      },
      "outputs": [],
      "source": [
        "# from imblearn.combine import SMOTEENN\n",
        "# from collections import Counter\n",
        "\n",
        "# smote_enn = SMOTEENN(random_state=seed)\n",
        "# X_resampled, y_resampled = smote_enn.fit_resample(X_train_flattened, y_train)\n",
        "\n",
        "# # Print resampled class distribution\n",
        "# print(f\"Resampled class distribution: {Counter(y_resampled)}\")"
      ]
    },
    {
      "cell_type": "code",
      "execution_count": 20,
      "metadata": {
        "jupyter": {
          "source_hidden": true
        },
        "id": "ZdGqYAuAwADc"
      },
      "outputs": [],
      "source": [
        "# # Reshape back to original format after resampling\n",
        "# X_resampled = X_resampled.reshape(X_resampled.shape[0], 128, 626, 1)\n",
        "\n",
        "# print(f\"Reshaped back to original format: {X_resampled.shape}\")"
      ]
    },
    {
      "cell_type": "code",
      "execution_count": 21,
      "metadata": {
        "id": "xrMFrAkYwADc"
      },
      "outputs": [],
      "source": [
        "num_spectrogram_features = 128 * 626  # Flattened size"
      ]
    },
    {
      "cell_type": "code",
      "execution_count": 22,
      "metadata": {
        "id": "CSMxwd6bwADd"
      },
      "outputs": [],
      "source": [
        "# Separate resampled spectrograms and other features for X_train_resampled\n",
        "spectrograms_resampled = X_train_resampled[:, :num_spectrogram_features]\n",
        "other_features_resampled = X_train_resampled[:, num_spectrogram_features:]"
      ]
    },
    {
      "cell_type": "code",
      "execution_count": 23,
      "metadata": {
        "id": "84Z6WR-mwADd"
      },
      "outputs": [],
      "source": [
        "# spectrograms_resampled"
      ]
    },
    {
      "cell_type": "code",
      "execution_count": 24,
      "metadata": {
        "id": "2VkWNbZywADd"
      },
      "outputs": [],
      "source": [
        "# Reshape the flattened spectrograms back to their original shape (128x626)\n",
        "spectrograms_resampled_reshaped = spectrograms_resampled.reshape(spectrograms_resampled.shape[0], 128, 626, 1)"
      ]
    },
    {
      "cell_type": "code",
      "execution_count": 25,
      "metadata": {
        "id": "B8rTeR0dwADd"
      },
      "outputs": [],
      "source": [
        "# Optionally add a channel dimension for CNN input (e.g., shape: [samples, 128, 626, 1])\n",
        "#spectrograms_resampled_reshaped = np.expand_dims(spectrograms_resampled_reshaped, axis=-1)"
      ]
    },
    {
      "cell_type": "code",
      "execution_count": 26,
      "metadata": {
        "colab": {
          "base_uri": "https://localhost:8080/"
        },
        "id": "k06UEpzEwADd",
        "outputId": "5742b0c0-44b5-47cc-c19f-adef74ff2fb8"
      },
      "outputs": [
        {
          "output_type": "execute_result",
          "data": {
            "text/plain": [
              "(2221, 128, 626, 1)"
            ]
          },
          "metadata": {},
          "execution_count": 26
        }
      ],
      "source": [
        "spectrograms_resampled_reshaped.shape"
      ]
    },
    {
      "cell_type": "code",
      "execution_count": 27,
      "metadata": {
        "colab": {
          "base_uri": "https://localhost:8080/"
        },
        "id": "R7QfILu7wADd",
        "outputId": "8cf636a8-a9bc-4ea3-c01c-1c4c9bacd7e6"
      },
      "outputs": [
        {
          "output_type": "execute_result",
          "data": {
            "text/plain": [
              "(2221, 2)"
            ]
          },
          "metadata": {},
          "execution_count": 27
        }
      ],
      "source": [
        "other_features_resampled.shape"
      ]
    },
    {
      "cell_type": "code",
      "execution_count": 28,
      "metadata": {
        "collapsed": true,
        "jupyter": {
          "outputs_hidden": true,
          "source_hidden": true
        },
        "scrolled": true,
        "colab": {
          "base_uri": "https://localhost:8080/",
          "height": 708
        },
        "id": "FETpC_CKwADd",
        "outputId": "c7a73412-5b16-4d8a-8462-7ff854494a96"
      },
      "outputs": [
        {
          "output_type": "display_data",
          "data": {
            "text/plain": [
              "<Figure size 1000x400 with 2 Axes>"
            ],
            "image/png": "[encoded data removed]"
          },
          "metadata": {}
        },
        {
          "output_type": "display_data",
          "data": {
            "text/plain": [
              "<Figure size 1000x400 with 2 Axes>"
            ],
            "image/png": "[encoded data removed]"
          },
          "metadata": {}
        }
      ],
      "source": [
        "import random\n",
        "import matplotlib.pyplot as plt\n",
        "import librosa.display\n",
        "\n",
        "# Function to plot spectrogram\n",
        "def plot_spectrogram(spectrogram, title):\n",
        "    plt.figure(figsize=(10, 4))\n",
        "    # Remove channel dimension if present for visualization\n",
        "    if spectrogram.shape[-1] == 1:\n",
        "        spectrogram = spectrogram.squeeze(-1)\n",
        "    librosa.display.specshow(spectrogram.T, sr=22050, x_axis='time', y_axis='mel')\n",
        "    plt.colorbar(format='%+2.0f dB')\n",
        "    plt.title(title)\n",
        "    plt.tight_layout()\n",
        "    plt.show()\n",
        "\n",
        "# Assuming 'original_spectrogram' is your original unflattened spectrogram\n",
        "# and 'reshaped_spectrogram' is your reshaped version after processing\n",
        "\n",
        "# Plot original spectrogram (before flattening)\n",
        "plot_spectrogram(all_spectrograms[0], \"Original Unified Spectrogram\")\n",
        "\n",
        "plot_spectrogram(spectrograms_resampled_reshaped[100], \"Reshaped Spectrogram\")\n",
        "\n"
      ]
    },
    {
      "cell_type": "code",
      "execution_count": 29,
      "metadata": {
        "id": "pQCUw-luwADd"
      },
      "outputs": [],
      "source": [
        "# For X_test (no resampling needed), separate and reshape the spectrograms\n",
        "spectrograms_test = X_test[:, :num_spectrogram_features]\n",
        "other_features_test = X_test[:, num_spectrogram_features:]\n",
        "spectrograms_test_reshaped = spectrograms_test.reshape(spectrograms_test.shape[0], 128, 626, 1)"
      ]
    },
    {
      "cell_type": "code",
      "execution_count": 30,
      "metadata": {
        "id": "sysTwmRVwADd"
      },
      "outputs": [],
      "source": [
        "y_train_resampled = np.array(y_train_resampled)\n",
        "y_test = np.array(y_test)"
      ]
    },
    {
      "cell_type": "code",
      "execution_count": 31,
      "metadata": {
        "id": "9xPPM2YbwADd"
      },
      "outputs": [],
      "source": [
        "# y_resampled = np.array(y_resampled)"
      ]
    },
    {
      "cell_type": "markdown",
      "metadata": {
        "jp-MarkdownHeadingCollapsed": true,
        "id": "n9P2TCauwADd"
      },
      "source": [
        "### Single input model"
      ]
    },
    {
      "cell_type": "code",
      "execution_count": 32,
      "metadata": {
        "jupyter": {
          "source_hidden": true
        },
        "id": "_hHa6SPFwADd"
      },
      "outputs": [],
      "source": [
        "from tensorflow.keras.models import Sequential\n",
        "from tensorflow.keras.layers import Conv2D, MaxPooling2D, Flatten, Dense, Input, GlobalAveragePooling2D"
      ]
    },
    {
      "cell_type": "code",
      "execution_count": 33,
      "metadata": {
        "jupyter": {
          "source_hidden": true
        },
        "id": "bCK3SbegwADd"
      },
      "outputs": [],
      "source": [
        "model = Sequential()\n",
        "model.add(Input(shape=(128,626,1)))\n",
        "\n",
        "# First Conv2D layer followed by MaxPooling\n",
        "model.add(Conv2D(16, (3,3), activation='relu'))\n",
        "model.add(MaxPooling2D(pool_size=(2,2))) # Reduces spatial dimensions by half\n",
        "\n",
        "# Second Conv2D layer followed by MaxPooling\n",
        "model.add(Conv2D(16, (3,3), activation='relu'))\n",
        "model.add(MaxPooling2D(pool_size=(2,2))) # Further reduces spatial dimensions\n",
        "\n",
        "# Third Conv2D layer followed by MaxPooling\n",
        "model.add(Conv2D(32, (3,3), activation='relu'))\n",
        "model.add(MaxPooling2D(pool_size=(2,2))) # Further reduces spatial dimensions\n",
        "\n",
        "# Fourth Conv2D layer followed by MaxPooling (new)\n",
        "model.add(Conv2D(64, (3,3), activation='relu'))\n",
        "model.add(MaxPooling2D(pool_size=(2,2))) # Further reduces spatial dimensions\n",
        "\n",
        "# Flatten and Dense layers\n",
        "#model.add(Flatten())\n",
        "model.add(GlobalAveragePooling2D())\n",
        "\n",
        "model.add(Dense(128, activation='relu'))\n",
        "model.add(Dense(1, activation='sigmoid'))"
      ]
    },
    {
      "cell_type": "code",
      "execution_count": 34,
      "metadata": {
        "id": "Ur1GsEnqwADe"
      },
      "outputs": [],
      "source": [
        "model.compile('Adam', loss='BinaryCrossentropy', metrics=[tf.keras.metrics.Recall(),tf.keras.metrics.Precision()])"
      ]
    },
    {
      "cell_type": "code",
      "execution_count": 35,
      "metadata": {
        "scrolled": true,
        "colab": {
          "base_uri": "https://localhost:8080/"
        },
        "id": "2A_Ix9oCwADe",
        "outputId": "f81bd73a-0897-4fea-ca96-95f0de92ae89"
      },
      "outputs": [
        {
          "output_type": "stream",
          "name": "stdout",
          "text": [
            "Model: \"sequential\"\n",
            "_________________________________________________________________\n",
            " Layer (type)                Output Shape              Param #   \n",
            "=================================================================\n",
            " conv2d (Conv2D)             (None, 126, 624, 16)      160       \n",
            "                                                                 \n",
            " max_pooling2d (MaxPooling2  (None, 63, 312, 16)       0         \n",
            " D)                                                              \n",
            "                                                                 \n",
            " conv2d_1 (Conv2D)           (None, 61, 310, 16)       2320      \n",
            "                                                                 \n",
            " max_pooling2d_1 (MaxPoolin  (None, 30, 155, 16)       0         \n",
            " g2D)                                                            \n",
            "                                                                 \n",
            " conv2d_2 (Conv2D)           (None, 28, 153, 32)       4640      \n",
            "                                                                 \n",
            " max_pooling2d_2 (MaxPoolin  (None, 14, 76, 32)        0         \n",
            " g2D)                                                            \n",
            "                                                                 \n",
            " conv2d_3 (Conv2D)           (None, 12, 74, 64)        18496     \n",
            "                                                                 \n",
            " max_pooling2d_3 (MaxPoolin  (None, 6, 37, 64)         0         \n",
            " g2D)                                                            \n",
            "                                                                 \n",
            " global_average_pooling2d (  (None, 64)                0         \n",
            " GlobalAveragePooling2D)                                         \n",
            "                                                                 \n",
            " dense (Dense)               (None, 128)               8320      \n",
            "                                                                 \n",
            " dense_1 (Dense)             (None, 1)                 129       \n",
            "                                                                 \n",
            "=================================================================\n",
            "Total params: 34065 (133.07 KB)\n",
            "Trainable params: 34065 (133.07 KB)\n",
            "Non-trainable params: 0 (0.00 Byte)\n",
            "_________________________________________________________________\n"
          ]
        }
      ],
      "source": [
        "model.summary()"
      ]
    },
    {
      "cell_type": "code",
      "execution_count": 36,
      "metadata": {
        "scrolled": true,
        "colab": {
          "base_uri": "https://localhost:8080/"
        },
        "id": "0NVDYgWdwADe",
        "outputId": "904a1cc3-9941-437f-e5f8-0809ce57bfc0"
      },
      "outputs": [
        {
          "output_type": "stream",
          "name": "stdout",
          "text": [
            "Epoch 1/10\n",
            "250/250 - 70s - loss: 0.4784 - recall: 1.0000 - precision: 0.8208 - val_loss: 0.2032 - val_recall: 1.0000 - val_precision: 1.0000 - 70s/epoch - 281ms/step\n",
            "Epoch 2/10\n",
            "250/250 - 65s - loss: 0.4452 - recall: 1.0000 - precision: 0.8208 - val_loss: 0.1918 - val_recall: 1.0000 - val_precision: 1.0000 - 65s/epoch - 262ms/step\n",
            "Epoch 3/10\n",
            "250/250 - 66s - loss: 0.4105 - recall: 0.9817 - precision: 0.8312 - val_loss: 0.2876 - val_recall: 0.9507 - val_precision: 1.0000 - 66s/epoch - 266ms/step\n",
            "Epoch 4/10\n",
            "250/250 - 66s - loss: 0.3659 - recall: 0.9713 - precision: 0.8546 - val_loss: 0.2779 - val_recall: 0.9193 - val_precision: 1.0000 - 66s/epoch - 262ms/step\n",
            "Epoch 5/10\n",
            "250/250 - 65s - loss: 0.3466 - recall: 0.9524 - precision: 0.8707 - val_loss: 0.0726 - val_recall: 0.9910 - val_precision: 1.0000 - 65s/epoch - 260ms/step\n",
            "Epoch 6/10\n",
            "250/250 - 66s - loss: 0.3283 - recall: 0.9451 - precision: 0.8827 - val_loss: 0.0659 - val_recall: 0.9955 - val_precision: 1.0000 - 66s/epoch - 262ms/step\n",
            "Epoch 7/10\n",
            "250/250 - 65s - loss: 0.3086 - recall: 0.9421 - precision: 0.8879 - val_loss: 0.0460 - val_recall: 0.9910 - val_precision: 1.0000 - 65s/epoch - 259ms/step\n",
            "Epoch 8/10\n",
            "250/250 - 65s - loss: 0.2974 - recall: 0.9372 - precision: 0.9004 - val_loss: 0.1126 - val_recall: 0.9776 - val_precision: 1.0000 - 65s/epoch - 262ms/step\n",
            "Epoch 9/10\n",
            "250/250 - 66s - loss: 0.3088 - recall: 0.9341 - precision: 0.8985 - val_loss: 0.0424 - val_recall: 1.0000 - val_precision: 1.0000 - 66s/epoch - 265ms/step\n",
            "Epoch 10/10\n",
            "250/250 - 67s - loss: 0.2859 - recall: 0.9482 - precision: 0.8968 - val_loss: 0.1381 - val_recall: 0.9507 - val_precision: 1.0000 - 67s/epoch - 266ms/step\n"
          ]
        }
      ],
      "source": [
        "# Reshape X_train_spectrograms to have the same shape as the spectrograms_resampled_reshaped\n",
        "# using num_spectrogram_features, which is 128 * 626 in this case.\n",
        "# X_train_spectrograms = X_train[:, :num_spectrogram_features]  # Extract spectrogram features from training data\n",
        "# X_train_spectrograms_reshaped = X_train_spectrograms.reshape(X_train_spectrograms.shape[0], 128, 626, 1)  # Reshape to (samples, 128, 626, 1)\n",
        "\n",
        "\n",
        "# hist = model.fit(\n",
        "#     X_train_spectrograms_reshaped,  # Pass the reshaped TRAINING spectrograms as input\n",
        "#     y_train,  # Labels\n",
        "#     batch_size=16,\n",
        "#     verbose=2,\n",
        "#     epochs=20,\n",
        "#     validation_split=0.1\n",
        "# )\n",
        "hist = model.fit(\n",
        "    X_train_resampled[:, :num_spectrogram_features].reshape(-1, 128, 626, 1),  # Mel spectrograms\n",
        "    y_train_resampled,\n",
        "    batch_size=8,\n",
        "    verbose=2,\n",
        "    epochs=10,\n",
        "    validation_split=0.1\n",
        ")"
      ]
    },
    {
      "cell_type": "markdown",
      "metadata": {
        "jp-MarkdownHeadingCollapsed": true,
        "id": "Mbl9KYZ9wADe"
      },
      "source": [
        "### Fit Model, View Loss and KPI Plots"
      ]
    },
    {
      "cell_type": "code",
      "execution_count": 37,
      "metadata": {
        "id": "tRt6KepswADj",
        "colab": {
          "base_uri": "https://localhost:8080/"
        },
        "outputId": "4abacb61-1cba-456c-e86d-3e1c70d85b92"
      },
      "outputs": [
        {
          "output_type": "stream",
          "name": "stdout",
          "text": [
            "19/19 [==============================] - 6s 322ms/step\n"
          ]
        }
      ],
      "source": [
        "# Assuming 'num_spectrogram_features' is defined earlier\n",
        "\n",
        "# Extract and reshape spectrograms\n",
        "X_test_spectrograms = X_test[:, :num_spectrogram_features]\n",
        "X_test_spectrograms_reshaped = X_test_spectrograms.reshape(X_test_spectrograms.shape[0], 128, 626, 1)\n",
        "\n",
        "# Extract other features\n",
        "X_test_other_features = X_test[:, num_spectrogram_features:]\n",
        "\n",
        "# Make predictions\n",
        "y_pred = model.predict(X_test_spectrograms_reshaped)\n"
      ]
    },
    {
      "cell_type": "code",
      "execution_count": 38,
      "metadata": {
        "id": "oEkfcg-nwADj"
      },
      "outputs": [],
      "source": [
        "y_pred_binary = (y_pred > 0.99).astype(int)"
      ]
    },
    {
      "cell_type": "code",
      "execution_count": 39,
      "metadata": {
        "id": "Ff1xM_AQwADj"
      },
      "outputs": [],
      "source": [
        "from sklearn.metrics import confusion_matrix, ConfusionMatrixDisplay\n",
        "cm = confusion_matrix(y_test, y_pred_binary)"
      ]
    },
    {
      "cell_type": "code",
      "execution_count": 40,
      "metadata": {
        "scrolled": true,
        "id": "XWF8aCH8wADj",
        "colab": {
          "base_uri": "https://localhost:8080/"
        },
        "outputId": "6b7382fe-d6c3-4e16-f669-6bc56affef0b"
      },
      "outputs": [
        {
          "output_type": "execute_result",
          "data": {
            "text/plain": [
              "579"
            ]
          },
          "metadata": {},
          "execution_count": 40
        }
      ],
      "source": [
        "len(y_test)"
      ]
    },
    {
      "cell_type": "code",
      "execution_count": 41,
      "metadata": {
        "id": "yg-pu75twADj",
        "colab": {
          "base_uri": "https://localhost:8080/",
          "height": 449
        },
        "outputId": "57878e66-46ef-43a0-f369-52f088fe3231"
      },
      "outputs": [
        {
          "output_type": "display_data",
          "data": {
            "text/plain": [
              "<Figure size 640x480 with 2 Axes>"
            ],
            "image/png": "[encoded data removed]"
          },
          "metadata": {}
        }
      ],
      "source": [
        "disp = ConfusionMatrixDisplay(cm)\n",
        "\n",
        "disp.plot()\n",
        "plt.show()"
      ]
    },
    {
      "cell_type": "markdown",
      "metadata": {
        "id": "SK7RwJ-3wADj"
      },
      "source": [
        "### Multi-input model"
      ]
    },
    {
      "cell_type": "code",
      "execution_count": 42,
      "metadata": {
        "id": "36EjQru0wADj"
      },
      "outputs": [],
      "source": [
        "import tensorflow as tf\n",
        "from tensorflow.keras.layers import Input, Conv2D, MaxPooling2D, GlobalAveragePooling2D, Dense, Concatenate, Dropout\n",
        "\n",
        "# Define input for Mel spectrogram (shape: 625 time frames x 128 frequency bins x 1 channel)\n",
        "mel_input = Input(shape=(128, 626, 1), name='mel_spectrogram')\n",
        "\n",
        "# Define CNN sub-network for Mel spectrogram\n",
        "x = Conv2D(16, (3,3), activation='relu')(mel_input)\n",
        "x = MaxPooling2D(pool_size=(2,2))(x)\n",
        "x = Conv2D(16, (3,3), activation='relu')(x)\n",
        "x = MaxPooling2D(pool_size=(2,2))(x)\n",
        "x = Conv2D(32, (3,3), activation='relu')(x)\n",
        "x = MaxPooling2D(pool_size=(2,2))(x)\n",
        "x = Conv2D(64, (3,3), activation='relu')(x)\n",
        "x = MaxPooling2D(pool_size=(2,2))(x)\n",
        "x = GlobalAveragePooling2D()(x)\n",
        "\n",
        "# Define input for other features (e.g., zero-crossing rate and spectral centroid)\n",
        "other_input = Input(shape=(2,), name='other_features')\n",
        "\n",
        "# Define a simple dense sub-network for other features\n",
        "y = Dense(64, activation='relu')(other_input)\n",
        "y = Dense(128, activation='relu')(y)  # Add more dense layers\n",
        "y = Dropout(0.3)(y)                   # Add dropout to prevent overfitting\n",
        "y = Dense(128, activation='relu')(y)   # Another dense layer\n",
        "y = Dense(64, activation='relu')(y)    # Another dense layer\n",
        "\n",
        "# Concatenate both sub-networks\n",
        "combined = Concatenate()([x, y])\n",
        "\n",
        "# Add final classification layers\n",
        "z = Dense(128, activation='relu')(combined)\n",
        "z = Dense(1, activation='sigmoid')(z)  # Binary classification"
      ]
    },
    {
      "cell_type": "code",
      "execution_count": 43,
      "metadata": {
        "id": "dv9c73EKwADj"
      },
      "outputs": [],
      "source": [
        "X_train_spectrograms = spectrograms_resampled_reshaped\n",
        "X_train_others = other_features_resampled\n",
        "y_train = y_train_resampled"
      ]
    },
    {
      "cell_type": "code",
      "execution_count": 44,
      "metadata": {
        "id": "QNiB1dM0wADj",
        "colab": {
          "base_uri": "https://localhost:8080/"
        },
        "outputId": "d98890aa-5663-4760-c432-9cf9dff2fd50"
      },
      "outputs": [
        {
          "output_type": "stream",
          "name": "stdout",
          "text": [
            "Model: \"model\"\n",
            "__________________________________________________________________________________________________\n",
            " Layer (type)                Output Shape                 Param #   Connected to                  \n",
            "==================================================================================================\n",
            " mel_spectrogram (InputLaye  [(None, 128, 626, 1)]        0         []                            \n",
            " r)                                                                                               \n",
            "                                                                                                  \n",
            " conv2d_4 (Conv2D)           (None, 126, 624, 16)         160       ['mel_spectrogram[0][0]']     \n",
            "                                                                                                  \n",
            " max_pooling2d_4 (MaxPoolin  (None, 63, 312, 16)          0         ['conv2d_4[0][0]']            \n",
            " g2D)                                                                                             \n",
            "                                                                                                  \n",
            " conv2d_5 (Conv2D)           (None, 61, 310, 16)          2320      ['max_pooling2d_4[0][0]']     \n",
            "                                                                                                  \n",
            " max_pooling2d_5 (MaxPoolin  (None, 30, 155, 16)          0         ['conv2d_5[0][0]']            \n",
            " g2D)                                                                                             \n",
            "                                                                                                  \n",
            " other_features (InputLayer  [(None, 2)]                  0         []                            \n",
            " )                                                                                                \n",
            "                                                                                                  \n",
            " conv2d_6 (Conv2D)           (None, 28, 153, 32)          4640      ['max_pooling2d_5[0][0]']     \n",
            "                                                                                                  \n",
            " dense_2 (Dense)             (None, 64)                   192       ['other_features[0][0]']      \n",
            "                                                                                                  \n",
            " max_pooling2d_6 (MaxPoolin  (None, 14, 76, 32)           0         ['conv2d_6[0][0]']            \n",
            " g2D)                                                                                             \n",
            "                                                                                                  \n",
            " dense_3 (Dense)             (None, 128)                  8320      ['dense_2[0][0]']             \n",
            "                                                                                                  \n",
            " conv2d_7 (Conv2D)           (None, 12, 74, 64)           18496     ['max_pooling2d_6[0][0]']     \n",
            "                                                                                                  \n",
            " dropout (Dropout)           (None, 128)                  0         ['dense_3[0][0]']             \n",
            "                                                                                                  \n",
            " max_pooling2d_7 (MaxPoolin  (None, 6, 37, 64)            0         ['conv2d_7[0][0]']            \n",
            " g2D)                                                                                             \n",
            "                                                                                                  \n",
            " dense_4 (Dense)             (None, 128)                  16512     ['dropout[0][0]']             \n",
            "                                                                                                  \n",
            " global_average_pooling2d_1  (None, 64)                   0         ['max_pooling2d_7[0][0]']     \n",
            "  (GlobalAveragePooling2D)                                                                        \n",
            "                                                                                                  \n",
            " dense_5 (Dense)             (None, 64)                   8256      ['dense_4[0][0]']             \n",
            "                                                                                                  \n",
            " concatenate (Concatenate)   (None, 128)                  0         ['global_average_pooling2d_1[0\n",
            "                                                                    ][0]',                        \n",
            "                                                                     'dense_5[0][0]']             \n",
            "                                                                                                  \n",
            " dense_6 (Dense)             (None, 128)                  16512     ['concatenate[0][0]']         \n",
            "                                                                                                  \n",
            " dense_7 (Dense)             (None, 1)                    129       ['dense_6[0][0]']             \n",
            "                                                                                                  \n",
            "==================================================================================================\n",
            "Total params: 75537 (295.07 KB)\n",
            "Trainable params: 75537 (295.07 KB)\n",
            "Non-trainable params: 0 (0.00 Byte)\n",
            "__________________________________________________________________________________________________\n"
          ]
        }
      ],
      "source": [
        "# Define the model with two inputs\n",
        "model = tf.keras.Model(inputs=[mel_input, other_input], outputs=z)\n",
        "\n",
        "# Compile the model\n",
        "model.compile(optimizer='adam', loss='binary_crossentropy', metrics=['accuracy','recall','precision'])\n",
        "\n",
        "# Print model summary\n",
        "model.summary()"
      ]
    },
    {
      "cell_type": "code",
      "execution_count": 63,
      "metadata": {
        "scrolled": true,
        "id": "bRypOcVKwADk",
        "colab": {
          "base_uri": "https://localhost:8080/"
        },
        "outputId": "e1f5ad83-41f5-4fff-862f-23d7c5403903"
      },
      "outputs": [
        {
          "output_type": "stream",
          "name": "stdout",
          "text": [
            "Epoch 1/20\n",
            "160/160 - 88s - loss: 0.2469 - accuracy: 0.8866 - recall_3: 0.9471 - precision_3: 0.9189 - val_loss: 1.4615 - val_accuracy: 0.4103 - val_recall_3: 0.8846 - val_precision_3: 0.2180 - 88s/epoch - 548ms/step\n",
            "Epoch 2/20\n",
            "160/160 - 85s - loss: 0.2410 - accuracy: 0.8944 - recall_3: 0.9551 - precision_3: 0.9208 - val_loss: 1.7098 - val_accuracy: 0.3552 - val_recall_3: 0.9038 - val_precision_3: 0.2052 - 85s/epoch - 533ms/step\n",
            "Epoch 3/20\n",
            "160/160 - 85s - loss: 0.2218 - accuracy: 0.8995 - recall_3: 0.9528 - precision_3: 0.9282 - val_loss: 1.1645 - val_accuracy: 0.4690 - val_recall_3: 0.7308 - val_precision_3: 0.2135 - 85s/epoch - 529ms/step\n",
            "Epoch 4/20\n",
            "160/160 - 87s - loss: 0.2318 - accuracy: 0.8948 - recall_3: 0.9485 - precision_3: 0.9266 - val_loss: 1.6376 - val_accuracy: 0.3621 - val_recall_3: 0.9038 - val_precision_3: 0.2070 - 87s/epoch - 544ms/step\n",
            "Epoch 5/20\n",
            "160/160 - 85s - loss: 0.2237 - accuracy: 0.8995 - recall_3: 0.9565 - precision_3: 0.9251 - val_loss: 1.0298 - val_accuracy: 0.5586 - val_recall_3: 0.7115 - val_precision_3: 0.2467 - 85s/epoch - 529ms/step\n",
            "Epoch 6/20\n",
            "160/160 - 85s - loss: 0.2253 - accuracy: 0.9011 - recall_3: 0.9528 - precision_3: 0.9299 - val_loss: 1.4948 - val_accuracy: 0.4103 - val_recall_3: 0.7692 - val_precision_3: 0.2010 - 85s/epoch - 534ms/step\n",
            "Epoch 7/20\n",
            "160/160 - 86s - loss: 0.2178 - accuracy: 0.9007 - recall_3: 0.9556 - precision_3: 0.9271 - val_loss: 1.5302 - val_accuracy: 0.3862 - val_recall_3: 0.7885 - val_precision_3: 0.1971 - 86s/epoch - 537ms/step\n",
            "Epoch 8/20\n",
            "160/160 - 86s - loss: 0.2166 - accuracy: 0.9054 - recall_3: 0.9565 - precision_3: 0.9315 - val_loss: 1.3877 - val_accuracy: 0.4103 - val_recall_3: 0.8846 - val_precision_3: 0.2180 - 86s/epoch - 537ms/step\n",
            "Epoch 9/20\n",
            "160/160 - 86s - loss: 0.2162 - accuracy: 0.9019 - recall_3: 0.9537 - precision_3: 0.9300 - val_loss: 1.9136 - val_accuracy: 0.3483 - val_recall_3: 0.9038 - val_precision_3: 0.2035 - 86s/epoch - 541ms/step\n",
            "Epoch 10/20\n",
            "160/160 - 84s - loss: 0.2132 - accuracy: 0.9054 - recall_3: 0.9570 - precision_3: 0.9311 - val_loss: 1.2176 - val_accuracy: 0.5310 - val_recall_3: 0.8077 - val_precision_3: 0.2500 - 84s/epoch - 526ms/step\n",
            "Epoch 11/20\n",
            "160/160 - 86s - loss: 0.2018 - accuracy: 0.9133 - recall_3: 0.9589 - precision_3: 0.9381 - val_loss: 1.1674 - val_accuracy: 0.4931 - val_recall_3: 0.7308 - val_precision_3: 0.2222 - 86s/epoch - 535ms/step\n",
            "Epoch 12/20\n",
            "160/160 - 85s - loss: 0.2080 - accuracy: 0.9078 - recall_3: 0.9584 - precision_3: 0.9324 - val_loss: 1.9437 - val_accuracy: 0.3448 - val_recall_3: 0.9423 - val_precision_3: 0.2076 - 85s/epoch - 531ms/step\n",
            "Epoch 13/20\n",
            "160/160 - 85s - loss: 0.2127 - accuracy: 0.9062 - recall_3: 0.9570 - precision_3: 0.9319 - val_loss: 0.9327 - val_accuracy: 0.5862 - val_recall_3: 0.6346 - val_precision_3: 0.2463 - 85s/epoch - 529ms/step\n",
            "Epoch 14/20\n",
            "160/160 - 85s - loss: 0.2026 - accuracy: 0.9074 - recall_3: 0.9565 - precision_3: 0.9336 - val_loss: 1.1524 - val_accuracy: 0.4862 - val_recall_3: 0.7308 - val_precision_3: 0.2197 - 85s/epoch - 531ms/step\n",
            "Epoch 15/20\n",
            "160/160 - 85s - loss: 0.2062 - accuracy: 0.9086 - recall_3: 0.9565 - precision_3: 0.9349 - val_loss: 1.1092 - val_accuracy: 0.4793 - val_recall_3: 0.6923 - val_precision_3: 0.2105 - 85s/epoch - 531ms/step\n",
            "Epoch 16/20\n",
            "160/160 - 84s - loss: 0.2016 - accuracy: 0.9160 - recall_3: 0.9627 - precision_3: 0.9379 - val_loss: 1.0030 - val_accuracy: 0.5793 - val_recall_3: 0.5962 - val_precision_3: 0.2348 - 84s/epoch - 528ms/step\n",
            "Epoch 17/20\n",
            "160/160 - 85s - loss: 0.1967 - accuracy: 0.9109 - recall_3: 0.9580 - precision_3: 0.9363 - val_loss: 1.2705 - val_accuracy: 0.5138 - val_recall_3: 0.7308 - val_precision_3: 0.2303 - 85s/epoch - 529ms/step\n",
            "Epoch 18/20\n",
            "160/160 - 84s - loss: 0.1874 - accuracy: 0.9144 - recall_3: 0.9584 - precision_3: 0.9398 - val_loss: 1.5037 - val_accuracy: 0.4586 - val_recall_3: 0.7885 - val_precision_3: 0.2193 - 84s/epoch - 527ms/step\n",
            "Epoch 19/20\n",
            "160/160 - 85s - loss: 0.2001 - accuracy: 0.9144 - recall_3: 0.9589 - precision_3: 0.9394 - val_loss: 0.8158 - val_accuracy: 0.6621 - val_recall_3: 0.5192 - val_precision_3: 0.2700 - 85s/epoch - 529ms/step\n",
            "Epoch 20/20\n",
            "160/160 - 85s - loss: 0.1984 - accuracy: 0.9141 - recall_3: 0.9603 - precision_3: 0.9377 - val_loss: 1.3100 - val_accuracy: 0.4586 - val_recall_3: 0.8077 - val_precision_3: 0.2222 - 85s/epoch - 530ms/step\n"
          ]
        }
      ],
      "source": [
        "import tensorflow as tf\n",
        "from tensorflow.keras.layers import Input, Conv2D, MaxPooling2D, GlobalAveragePooling2D, Dense, Concatenate, Dropout\n",
        "from sklearn.model_selection import train_test_split\n",
        "\n",
        "# ... (Your previous code for data loading and preprocessing) ...\n",
        "\n",
        "# Split your data into training and validation sets\n",
        "X_train_combined = np.hstack([all_spectrograms_flattened, all_other_features])\n",
        "X_train, X_val, y_train, y_val = train_test_split(X_train_combined, all_labels, test_size=0.1, stratify=all_labels, random_state=42)\n",
        "\n",
        "# Resample the training data\n",
        "smote_enn = SMOTEENN(random_state=seed)\n",
        "X_train_resampled, y_train_resampled = smote_enn.fit_resample(X_train, y_train)\n",
        "\n",
        "# Separate and reshape spectrograms for training and validation data\n",
        "num_spectrogram_features = 128 * 626\n",
        "X_train_spectrograms = X_train_resampled[:, :num_spectrogram_features].reshape(-1, 128, 626, 1)\n",
        "X_train_others = X_train_resampled[:, num_spectrogram_features:]\n",
        "X_val_spectrograms = X_val[:, :num_spectrogram_features].reshape(-1, 128, 626, 1)\n",
        "X_val_others = X_val[:, num_spectrogram_features:]\n",
        "\n",
        "# ... (Your model definition code) ...\n",
        "\n",
        "# Compile the model with ordered metrics\n",
        "model.compile(optimizer='adam', loss='binary_crossentropy', metrics=['accuracy', tf.keras.metrics.Recall(), tf.keras.metrics.Precision()])\n",
        "\n",
        "# Fit the model using validation_data\n",
        "history = model.fit(\n",
        "    [X_train_spectrograms, X_train_others],\n",
        "    y_train_resampled,\n",
        "    validation_data=([X_val_spectrograms, X_val_others], y_val),\n",
        "    verbose=2,\n",
        "    epochs=20,\n",
        "    batch_size=16\n",
        ")"
      ]
    },
    {
      "cell_type": "code",
      "execution_count": 1,
      "metadata": {
        "id": "o-bu56LwwADk",
        "colab": {
          "base_uri": "https://localhost:8080/",
          "height": 144
        },
        "outputId": "8b8a30ba-934c-41bf-ae4d-3081aa87bf0f"
      },
      "outputs": [
        {
          "output_type": "error",
          "ename": "NameError",
          "evalue": "name 'X_train_spectrograms' is not defined",
          "traceback": [
            "\u001b[0;31m---------------------------------------------------------------------------\u001b[0m",
            "\u001b[0;31mNameError\u001b[0m                                 Traceback (most recent call last)",
            "\u001b[0;32m<ipython-input-1-3280776d9a8d>\u001b[0m in \u001b[0;36m<cell line: 1>\u001b[0;34m()\u001b[0m\n\u001b[0;32m----> 1\u001b[0;31m \u001b[0mX_train_spectrograms\u001b[0m\u001b[0;34m.\u001b[0m\u001b[0mshape\u001b[0m\u001b[0;34m\u001b[0m\u001b[0;34m\u001b[0m\u001b[0m\n\u001b[0m",
            "\u001b[0;31mNameError\u001b[0m: name 'X_train_spectrograms' is not defined"
          ]
        }
      ],
      "source": [
        "X_train_spectrograms.shape"
      ]
    },
    {
      "cell_type": "code",
      "execution_count": 47,
      "metadata": {
        "id": "HKpA6rTawADk",
        "colab": {
          "base_uri": "https://localhost:8080/"
        },
        "outputId": "eb58fb5f-009d-4a42-fb02-c6eb0242f927"
      },
      "outputs": [
        {
          "output_type": "execute_result",
          "data": {
            "text/plain": [
              "array([[1.89086137e-01, 2.07349165e+03],\n",
              "       [1.21557151e-01, 1.10675218e+03],\n",
              "       [9.12370621e-02, 1.27525876e+03],\n",
              "       ...,\n",
              "       [3.69502665e-01, 2.66839273e+03],\n",
              "       [1.77108496e-01, 2.00960918e+03],\n",
              "       [2.84412101e-01, 1.80930920e+03]])"
            ]
          },
          "metadata": {},
          "execution_count": 47
        }
      ],
      "source": [
        "X_train_others"
      ]
    },
    {
      "cell_type": "code",
      "execution_count": 48,
      "metadata": {
        "scrolled": true,
        "id": "zvxmF1m9wADk",
        "colab": {
          "base_uri": "https://localhost:8080/"
        },
        "outputId": "f77330ab-658e-459c-cd67-80110d103209"
      },
      "outputs": [
        {
          "output_type": "stream",
          "name": "stdout",
          "text": [
            "80/80 [==============================] - 28s 352ms/step\n"
          ]
        }
      ],
      "source": [
        "y_pred_train = model.predict([X_train_spectrograms, X_train_others])"
      ]
    },
    {
      "cell_type": "code",
      "execution_count": 49,
      "metadata": {
        "id": "zkcZoLsgwADk"
      },
      "outputs": [],
      "source": [
        "y_pred_train_binary = (y_pred_train > 0.99).astype(int)"
      ]
    },
    {
      "cell_type": "code",
      "execution_count": 51,
      "metadata": {
        "id": "GFwSBIq-wADk",
        "colab": {
          "base_uri": "https://localhost:8080/"
        },
        "outputId": "3e593f38-c6d1-415e-ec41-60045d454647"
      },
      "outputs": [
        {
          "output_type": "stream",
          "name": "stdout",
          "text": [
            "Training Accuracy: 0.5208006279434851\n"
          ]
        }
      ],
      "source": [
        "from sklearn.metrics import accuracy_score\n",
        "accuracy_train = accuracy_score(y_train_resampled, y_pred_train_binary)\n",
        "\n",
        "\n",
        "print(f\"Training Accuracy: {accuracy_train}\")"
      ]
    },
    {
      "cell_type": "code",
      "execution_count": 52,
      "metadata": {
        "id": "Kh5J-eHHwADk",
        "colab": {
          "base_uri": "https://localhost:8080/"
        },
        "outputId": "34088c34-5b66-4877-b84b-48de38f47733"
      },
      "outputs": [
        {
          "output_type": "execute_result",
          "data": {
            "text/plain": [
              "0.5208006279434851"
            ]
          },
          "metadata": {},
          "execution_count": 52
        }
      ],
      "source": [
        "accuracy_train"
      ]
    },
    {
      "cell_type": "code",
      "execution_count": 54,
      "metadata": {
        "id": "Uj4vAEwbwADk",
        "colab": {
          "base_uri": "https://localhost:8080/",
          "height": 472
        },
        "outputId": "10c1b1ae-9744-477a-f238-0c75c2aee352"
      },
      "outputs": [
        {
          "output_type": "display_data",
          "data": {
            "text/plain": [
              "<Figure size 640x480 with 2 Axes>"
            ],
            "image/png": "[encoded data removed]"
          },
          "metadata": {}
        }
      ],
      "source": [
        "cm = confusion_matrix(y_train_resampled, y_pred_train_binary)\n",
        "\n",
        "# Step 4: Visualize or print the confusion matrix\n",
        "disp = ConfusionMatrixDisplay(confusion_matrix=cm)\n",
        "disp.plot(cmap=plt.cm.Blues)\n",
        "plt.title(\"Confusion Matrix for Training Data\")\n",
        "plt.show()"
      ]
    },
    {
      "cell_type": "code",
      "execution_count": 55,
      "metadata": {
        "id": "tRWp3uWQwADk",
        "colab": {
          "base_uri": "https://localhost:8080/"
        },
        "outputId": "d810d066-34cd-41c2-9916-8a49378d9199"
      },
      "outputs": [
        {
          "output_type": "stream",
          "name": "stdout",
          "text": [
            "19/19 [==============================] - 7s 351ms/step\n"
          ]
        }
      ],
      "source": [
        "y_pred_test = model.predict([spectrograms_test_reshaped, other_features_test])"
      ]
    },
    {
      "cell_type": "code",
      "execution_count": 56,
      "metadata": {
        "id": "tujIUQljwADk"
      },
      "outputs": [],
      "source": [
        "y_pred_test_binary = (y_pred > 0.99).astype(int)"
      ]
    },
    {
      "cell_type": "code",
      "execution_count": 57,
      "metadata": {
        "id": "nSajYR3cwADk"
      },
      "outputs": [],
      "source": [
        "from sklearn.metrics import confusion_matrix, ConfusionMatrixDisplay\n",
        "cm = confusion_matrix(y_test, y_pred_test_binary)"
      ]
    },
    {
      "cell_type": "code",
      "execution_count": 58,
      "metadata": {
        "id": "gmZot2FewADk",
        "colab": {
          "base_uri": "https://localhost:8080/",
          "height": 472
        },
        "outputId": "686c14ed-6d8a-43fb-d76c-3ad864caa3c9"
      },
      "outputs": [
        {
          "output_type": "display_data",
          "data": {
            "text/plain": [
              "<Figure size 640x480 with 2 Axes>"
            ],
            "image/png": "[encoded data removed]"
          },
          "metadata": {}
        }
      ],
      "source": [
        "disp = ConfusionMatrixDisplay(cm)\n",
        "\n",
        "disp.plot()\n",
        "plt.title(\"Confusion Matrix for Testing Data\")\n",
        "plt.show()"
      ]
    },
    {
      "cell_type": "code",
      "execution_count": 59,
      "metadata": {
        "id": "YIkOoK25wADk"
      },
      "outputs": [],
      "source": [
        "from sklearn.metrics import accuracy_score\n",
        "\n",
        "accuracy_test = accuracy_score(y_test, y_pred_test_binary)"
      ]
    },
    {
      "cell_type": "code",
      "execution_count": 61,
      "metadata": {
        "id": "BZfHc0gSwADk",
        "colab": {
          "base_uri": "https://localhost:8080/"
        },
        "outputId": "6a64b3de-c45e-43eb-87f0-a3512991006b"
      },
      "outputs": [
        {
          "output_type": "execute_result",
          "data": {
            "text/plain": [
              "0.8151986183074266"
            ]
          },
          "metadata": {},
          "execution_count": 61
        }
      ],
      "source": [
        "accuracy_test"
      ]
    },
    {
      "cell_type": "code",
      "execution_count": null,
      "metadata": {
        "id": "oSWGsUMdwADk"
      },
      "outputs": [],
      "source": []
    }
  ],
  "metadata": {
    "colab": {
      "provenance": [],
      "gpuType": "V28"
    },
    "kernelspec": {
      "display_name": "Python 3",
      "name": "python3"
    },
    "language_info": {
      "codemirror_mode": {
        "name": "ipython",
        "version": 3
      },
      "file_extension": ".py",
      "mimetype": "text/x-python",
      "name": "python",
      "nbconvert_exporter": "python",
      "pygments_lexer": "ipython3",
      "version": "3.12.6"
    },
    "accelerator": "TPU"
  },
  "nbformat": 4,
  "nbformat_minor": 0
}