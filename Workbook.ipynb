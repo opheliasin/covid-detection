{
 "cells": [
  {
   "cell_type": "markdown",
   "metadata": {
    "id": "M-j9af2iwADY"
   },
   "source": [
    "# Workbook"
   ]
  },
  {
   "cell_type": "markdown",
   "metadata": {},
   "source": [
    "## Data Preprocessing"
   ]
  },
  {
   "cell_type": "code",
   "execution_count": 1,
   "metadata": {
    "id": "S0UnVeBCHXYJ"
   },
   "outputs": [],
   "source": [
    "# import necessary packages\n",
    "\n",
    "import os\n",
    "import pathlib\n",
    "\n",
    "import matplotlib.pyplot as plt\n",
    "import numpy as np\n",
    "import seaborn as sns\n",
    "import tensorflow as tf\n",
    "\n",
    "from IPython import display\n",
    "import tensorflow as tf\n",
    "import pandas as pd\n",
    "import librosa\n",
    "\n",
    "from sklearn.model_selection import train_test_split\n",
    "\n",
    "\n",
    "# Set the seed value for experiment reproducibility.\n",
    "seed = 42\n",
    "tf.random.set_seed(seed)\n",
    "np.random.seed(seed)"
   ]
  },
  {
   "cell_type": "code",
   "execution_count": 2,
   "metadata": {
    "colab": {
     "base_uri": "https://localhost:8080/"
    },
    "id": "gsel7TEhHhc9",
    "outputId": "0a061957-b5dc-4398-c154-497301fbee02"
   },
   "outputs": [],
   "source": [
    "# from google.colab import drive\n",
    "# drive.mount('/content/drive')\n",
    "# import os\n",
    "# os.listdir('/content/drive/My Drive/')\n",
    "\n",
    "# audio_path = '/content/drive/My Drive/dataset/AUDIO_NEW/'\n",
    "\n",
    "audio_path = 'dataset/AUDIO_NEW/'\n",
    "\n",
    "audio_types = ['breathing', 'cough', 'speech']"
   ]
  },
  {
   "cell_type": "code",
   "execution_count": 3,
   "metadata": {
    "id": "vc8NVOwZJwW6"
   },
   "outputs": [],
   "source": [
    "def get_directories(audio_path, audio_type):\n",
    "    from pathlib import Path\n",
    "\n",
    "    POS = os.path.join(audio_path + audio_type, 'COVID_Positive')\n",
    "    NEG = os.path.join(audio_path + audio_type, 'COVID_Negative')\n",
    "\n",
    "    # Specify the directory path\n",
    "    pos_directory = Path(POS)\n",
    "    neg_directory = Path(NEG)\n",
    "\n",
    "    # List all files in the directory using iterdir()\n",
    "    # pos_files = [file.name for file in pos_directory.iterdir() if file.is_file()]\n",
    "    # neg_files = [file.name for file in neg_directory.iterdir() if file.is_file()]\n",
    "\n",
    "    return pos_directory, neg_directory"
   ]
  },
  {
   "cell_type": "code",
   "execution_count": 4,
   "metadata": {
    "id": "dssmiF6YwADa"
   },
   "outputs": [],
   "source": [
    "# Load and process breathing data\n",
    "pos_directory_breathing, neg_directory_breathing = get_directories(audio_path, audio_types[0])\n",
    "\n",
    "# Load and process cough data\n",
    "pos_directory_cough, neg_directory_cough = get_directories(audio_path, audio_types[1]) # audio_types[1] is 'cough'\n",
    "\n",
    "# Load and process speech data\n",
    "pos_directory_speech, neg_directory_speech = get_directories(audio_path, audio_types[2]) # audio_types[2] is 'speech'\n"
   ]
  },
  {
   "cell_type": "markdown",
   "metadata": {},
   "source": [
    "Define custom metrics"
   ]
  },
  {
   "cell_type": "code",
   "execution_count": 5,
   "metadata": {},
   "outputs": [],
   "source": [
    "import tensorflow as tf\n",
    "from tensorflow.keras import backend as K\n",
    "\n",
    "# Custom Precision Metric for Class 1\n",
    "def precision_class_1(y_true, y_pred):\n",
    "    # Convert predictions to binary (0 or 1)\n",
    "    y_pred_binary = K.cast(K.greater(y_pred, 0.5), dtype='float32')\n",
    "    \n",
    "    # True positives for class 1\n",
    "    true_positives = K.sum(y_true * y_pred_binary)\n",
    "    \n",
    "    # Predicted positives for class 1\n",
    "    predicted_positives = K.sum(y_pred_binary)\n",
    "    \n",
    "    # Precision calculation\n",
    "    precision = true_positives / (predicted_positives + K.epsilon())\n",
    "    return precision\n",
    "\n",
    "# Custom Recall Metric for Class 1\n",
    "def recall_class_1(y_true, y_pred):\n",
    "    # Convert predictions to binary (0 or 1)\n",
    "    y_pred_binary = K.cast(K.greater(y_pred, 0.5), dtype='float32')\n",
    "    \n",
    "    # True positives for class 1\n",
    "    true_positives = K.sum(y_true * y_pred_binary)\n",
    "    \n",
    "    # Actual positives for class 1\n",
    "    actual_positives = K.sum(y_true)\n",
    "    \n",
    "    # Recall calculation\n",
    "    recall = true_positives / (actual_positives + K.epsilon())\n",
    "    return recall\n",
    "\n",
    "# Custom F1-Score Metric for Class 1\n",
    "def f1_score_class_1(y_true, y_pred):\n",
    "    precision = precision_class_1(y_true, y_pred)\n",
    "    recall = recall_class_1(y_true, y_pred)\n",
    "    \n",
    "    # F1-score calculation\n",
    "    f1_score = 2 * (precision * recall) / (precision + recall + K.epsilon())\n",
    "    return f1_score"
   ]
  },
  {
   "cell_type": "markdown",
   "metadata": {
    "id": "VIAK_wb5wADa"
   },
   "source": [
    "### Define features"
   ]
  },
  {
   "cell_type": "code",
   "execution_count": 6,
   "metadata": {
    "id": "ziRNcmVMwADa",
    "jupyter": {
     "source_hidden": true
    }
   },
   "outputs": [],
   "source": [
    "def create_mel_spectrogram(y, sr, file_path):\n",
    "    mel_spectrogram = librosa.feature.melspectrogram(y=y, sr=sr, n_fft=512, hop_length=128, n_mels=128)\n",
    "    log_mel_spectrogram = librosa.power_to_db(mel_spectrogram, ref=np.max)\n",
    "\n",
    "    # Normalize the spectrogram\n",
    "    if np.std(log_mel_spectrogram) == 0:\n",
    "        print(\"log_mel_spectrogram == 0: \", file_path.resolve())\n",
    "    \n",
    "    # Normalize the spectrogram\n",
    "    epsilon = 1e-6  # Small value to avoid division by zero\n",
    "    log_mel_spectrogram = (log_mel_spectrogram - np.mean(log_mel_spectrogram)) / (np.std(log_mel_spectrogram) + epsilon)\n",
    "\n",
    "    # Add channel dimension\n",
    "    log_mel_spectrogram = np.expand_dims(log_mel_spectrogram, axis=-1)\n",
    "\n",
    "    return log_mel_spectrogram\n",
    "\n",
    "def create_zero_crossing_rate(y):\n",
    "    return np.mean(librosa.feature.zero_crossing_rate(y))\n",
    "\n",
    "def create_spectral_centroid(y, sr):\n",
    "    return np.mean(librosa.feature.spectral_centroid(y=y, sr=sr))"
   ]
  },
  {
   "cell_type": "code",
   "execution_count": 7,
   "metadata": {},
   "outputs": [],
   "source": [
    "import random \n",
    "\n",
    "def augment_audio_random(y, sr, target_length):\n",
    "    \"\"\"\n",
    "    Applies a random augmentation (time stretching, pitch shifting, or adding noise) to an audio signal.\n",
    "\n",
    "    Args:\n",
    "        y (numpy.ndarray): The raw audio signal.\n",
    "        sr (int): Sampling rate of the audio signal.\n",
    "        target_length (int): Target length for padding/truncating the audio.\n",
    "\n",
    "    Returns:\n",
    "        numpy.ndarray: Augmented audio signal padded/truncated to the target length.\n",
    "    \"\"\"\n",
    "    # Randomly choose an augmentation type\n",
    "    augmentation_type = random.choice([\"time_stretch\", \"pitch_shift\", \"add_noise\"])\n",
    "\n",
    "    if augmentation_type == \"time_stretch\":\n",
    "        # Apply time stretching with a random rate between 0.8 and 1.2\n",
    "        rate = random.uniform(0.8, 1.2)\n",
    "        y_augmented = librosa.effects.time_stretch(y, rate=rate)\n",
    "\n",
    "    elif augmentation_type == \"pitch_shift\":\n",
    "        # Apply pitch shifting with a random number of semitones between -5 and +5\n",
    "        n_steps = random.randint(-5, 5)\n",
    "        y_augmented = librosa.effects.pitch_shift(y=y, sr=sr, n_steps=n_steps)\n",
    "\n",
    "    elif augmentation_type == \"add_noise\":\n",
    "        # Add random Gaussian noise with a standard deviation of up to 0.01\n",
    "        noise = np.random.normal(0, random.uniform(0.001, 0.01), y.shape)\n",
    "        y_augmented = y + noise\n",
    "\n",
    "    # Ensure the augmented audio is padded/truncated to the target length\n",
    "    zero_padding = np.zeros(max(0, target_length - len(y_augmented)), dtype=np.float32)\n",
    "    y_augmented_padded = np.concatenate([y_augmented[:target_length], zero_padding], axis=0)\n",
    "\n",
    "    return y_augmented_padded"
   ]
  },
  {
   "cell_type": "code",
   "execution_count": 8,
   "metadata": {},
   "outputs": [],
   "source": [
    "def augment_audio(y, sr, target_length):\n",
    "    augmented_audios = []\n",
    "\n",
    "    # Time Stretching\n",
    "    augmented_audios.append(librosa.effects.time_stretch(y, rate=0.8))  # Slow down\n",
    "    augmented_audios.append(librosa.effects.time_stretch(y, rate=1.2))  # Speed up\n",
    "\n",
    "    # Pitch Shifting (use keyword arguments)\n",
    "    augmented_audios.append(librosa.effects.pitch_shift(y=y, sr=sr, n_steps=2))  # Pitch up\n",
    "    augmented_audios.append(librosa.effects.pitch_shift(y=y, sr=sr, n_steps=-2))  # Pitch down\n",
    "\n",
    "    # Adding Noise\n",
    "    noise = np.random.normal(0, 0.005, y.shape)\n",
    "    augmented_audios.append(y + noise)\n",
    "\n",
    "    # Ensure all augmented audios are padded/truncated to target_length\n",
    "    padded_augmented_audios = []\n",
    "    for aug_y in augmented_audios:\n",
    "        zero_padding = np.zeros(max(0, target_length - len(aug_y)), dtype=np.float32)\n",
    "        aug_y_padded = np.concatenate([aug_y[:target_length], zero_padding], axis=0)\n",
    "        padded_augmented_audios.append(aug_y_padded)\n",
    "\n",
    "    return padded_augmented_audios"
   ]
  },
  {
   "cell_type": "markdown",
   "metadata": {},
   "source": [
    "### Create then split"
   ]
  },
  {
   "cell_type": "code",
   "execution_count": 9,
   "metadata": {
    "id": "u95_DIk_wADb",
    "jupyter": {
     "source_hidden": true
    }
   },
   "outputs": [],
   "source": [
    "def create_features(pos_directory, neg_directory, target_length, augment=False):\n",
    "    print(\"Creating features for {0} and {1}! \".format(pos_directory, neg_directory))\n",
    "    spectrograms = []\n",
    "    other_features = []\n",
    "    labels = []\n",
    "\n",
    "    # Access files directly using iterdir()\n",
    "    for file_path in sorted(pos_directory.iterdir()):\n",
    "        y, sr = librosa.load(file_path, sr=16000)\n",
    "        y = y[:target_length]\n",
    "        y = librosa.util.normalize(y)\n",
    "\n",
    "        zero_padding = np.zeros(target_length - len(y), dtype=np.float32)\n",
    "        y = np.concatenate([y, zero_padding], axis=0)\n",
    "\n",
    "        spectrograms.append(create_mel_spectrogram(y, sr, file_path))\n",
    "        other_features.append([create_zero_crossing_rate(y), create_spectral_centroid(y, sr)])\n",
    "        labels.append(1)\n",
    "\n",
    "\n",
    "        ## Augment random\n",
    "        # if augment:\n",
    "        #     y_augmented = augment_audio(y, sr, target_length)\n",
    "        #     spectrograms.append(create_mel_spectrogram(y_augmented, sr, file_path))\n",
    "        #     other_features.append([create_zero_crossing_rate(y_augmented), create_spectral_centroid(y_augmented, sr)])\n",
    "        #     labels.append(1)\n",
    "\n",
    "        ## Augment all\n",
    "        if augment:\n",
    "            augmented_audios = augment_audio(y, sr, target_length)\n",
    "            for aug_y in augmented_audios:\n",
    "                spectrograms.append(create_mel_spectrogram(aug_y, sr, file_path))\n",
    "                other_features.append([create_zero_crossing_rate(aug_y), create_spectral_centroid(aug_y, sr)])\n",
    "                labels.append(1)\n",
    "    \n",
    "    positive_samples = len(labels)\n",
    "\n",
    "    print(f\"Number of positive samples: {positive_samples}\")  \n",
    "\n",
    "    for file_path in sorted(neg_directory.iterdir()):\n",
    "        y, sr = librosa.load(file_path, sr=16000)\n",
    "        y = y[:target_length]\n",
    "\n",
    "        zero_padding = np.zeros(target_length - len(y), dtype=np.float32)\n",
    "        y = np.concatenate([y, zero_padding], axis=0)\n",
    "\n",
    "        spectrograms.append(create_mel_spectrogram(y, sr, file_path))\n",
    "        other_features.append([create_zero_crossing_rate(y), create_spectral_centroid(y, sr)])\n",
    "        labels.append(0)\n",
    "\n",
    "        # if augment:\n",
    "        #     y_augmented = augment_audio(y, sr, target_length)\n",
    "        #     spectrograms.append(create_mel_spectrogram(y_augmented, sr, file_path))\n",
    "        #     other_features.append([create_zero_crossing_rate(y_augmented), create_spectral_centroid(y_augmented, sr)])\n",
    "        #     labels.append(0)\n",
    "\n",
    "    print(f\"Number of negative samples: {len(labels) - positive_samples}\")           \n",
    "    print(\"Completed creating features for {0} and {1}! \".format(pos_directory, neg_directory))\n",
    "\n",
    "    return spectrograms, other_features, labels"
   ]
  },
  {
   "cell_type": "code",
   "execution_count": 10,
   "metadata": {
    "colab": {
     "base_uri": "https://localhost:8080/"
    },
    "id": "XrEps2IfwADb",
    "outputId": "b3b600de-4efd-4a2a-e28b-7a6887ffd858"
   },
   "outputs": [
    {
     "name": "stdout",
     "output_type": "stream",
     "text": [
      "Creating features for dataset/AUDIO_NEW/breathing/COVID_Positive and dataset/AUDIO_NEW/breathing/COVID_Negative! \n",
      "Number of positive samples: 172\n",
      "log_mel_spectrogram == 0:  /Users/opheliasin/covid-detection/dataset/AUDIO_NEW/breathing/COVID_Negative/GDOLSUHV.flac\n",
      "log_mel_spectrogram == 0:  /Users/opheliasin/covid-detection/dataset/AUDIO_NEW/breathing/COVID_Negative/HTUZHMVC.flac\n",
      "log_mel_spectrogram == 0:  /Users/opheliasin/covid-detection/dataset/AUDIO_NEW/breathing/COVID_Negative/TMWZXJNT.flac\n",
      "Number of negative samples: 793\n",
      "Completed creating features for dataset/AUDIO_NEW/breathing/COVID_Positive and dataset/AUDIO_NEW/breathing/COVID_Negative! \n"
     ]
    }
   ],
   "source": [
    "# creating spectrogram, other features, and labels for breathing, cough, and speech\n",
    "\n",
    "spectrograms_breathing, other_features_breathing, labels_breathing = create_features(pos_directory_breathing, neg_directory_breathing, 80000)"
   ]
  },
  {
   "cell_type": "code",
   "execution_count": 11,
   "metadata": {},
   "outputs": [
    {
     "name": "stdout",
     "output_type": "stream",
     "text": [
      "Creating features for dataset/AUDIO_NEW/cough/COVID_Positive and dataset/AUDIO_NEW/cough/COVID_Negative! \n",
      "Number of positive samples: 172\n",
      "log_mel_spectrogram == 0:  /Users/opheliasin/covid-detection/dataset/AUDIO_NEW/cough/COVID_Negative/TMWZXJNT.flac\n",
      "Number of negative samples: 793\n",
      "Completed creating features for dataset/AUDIO_NEW/cough/COVID_Positive and dataset/AUDIO_NEW/cough/COVID_Negative! \n"
     ]
    }
   ],
   "source": [
    "spectrograms_cough, other_features_cough, labels_cough = create_features(pos_directory_cough, neg_directory_cough, 96000) # 6 seconds \n",
    "\n",
    "# 25th Percentile Duration: 4.693333333333333\n",
    "# Median Duration: 6.058684807256236\n",
    "# 75th Percentile Duration: 7.509319727891157"
   ]
  },
  {
   "cell_type": "code",
   "execution_count": 12,
   "metadata": {},
   "outputs": [
    {
     "name": "stdout",
     "output_type": "stream",
     "text": [
      "Creating features for dataset/AUDIO_NEW/speech/COVID_Positive and dataset/AUDIO_NEW/speech/COVID_Negative! \n",
      "Number of positive samples: 172\n",
      "Number of negative samples: 793\n",
      "Completed creating features for dataset/AUDIO_NEW/speech/COVID_Positive and dataset/AUDIO_NEW/speech/COVID_Negative! \n"
     ]
    }
   ],
   "source": [
    "spectrograms_speech, other_features_speech, labels_speech = create_features(pos_directory_speech, neg_directory_speech, 160000) # 10 seconds\n",
    "\n",
    "# 25th Percentile Duration: 12.458684807256235\n",
    "# Median Duration: 14.421337868480725\n",
    "# 75th Percentile Duration: 16.55467120181406"
   ]
  },
  {
   "cell_type": "markdown",
   "metadata": {},
   "source": [
    "#### Create padding, combine, and create train_test_split"
   ]
  },
  {
   "cell_type": "code",
   "execution_count": 13,
   "metadata": {},
   "outputs": [],
   "source": [
    "# Define a function to pad spectrograms to the maximum time frame length\n",
    "def pad_spectrogram(spectrogram, max_time_frames):\n",
    "    current_time_frames = spectrogram.shape[1]  # Time frames are along axis 1\n",
    "    if current_time_frames < max_time_frames:\n",
    "        # Calculate padding amount\n",
    "        padding_amount = max_time_frames - current_time_frames\n",
    "        # Pad along the time axis (axis=1)\n",
    "        padded_spectrogram = np.pad(spectrogram, ((0, 0), (0, padding_amount), (0, 0)), mode='constant')\n",
    "    else:\n",
    "        padded_spectrogram = spectrogram\n",
    "    return padded_spectrogram"
   ]
  },
  {
   "cell_type": "code",
   "execution_count": 14,
   "metadata": {},
   "outputs": [],
   "source": [
    "# Maximum time frame length across all audio types\n",
    "max_time_frames = 1251\n",
    "\n",
    "# Pad all spectrograms to the maximum time frame length\n",
    "padded_spectrograms_breathing = [pad_spectrogram(s, max_time_frames) for s in spectrograms_breathing]\n",
    "padded_spectrograms_cough = [pad_spectrogram(s, max_time_frames) for s in spectrograms_cough]\n",
    "padded_spectrograms_speech = [pad_spectrogram(s, max_time_frames) for s in spectrograms_speech]"
   ]
  },
  {
   "cell_type": "code",
   "execution_count": 15,
   "metadata": {},
   "outputs": [],
   "source": [
    "# Combine spectrograms, other features, and labels for each participant\n",
    "all_spectrograms = []\n",
    "all_other_features = []\n",
    "all_labels = []\n",
    "\n",
    "# Assuming all lists are sorted in the same order and correspond to the same participants\n",
    "for i in range(len(spectrograms_breathing)):  # Iterate over participants\n",
    "\n",
    "    combined_spectrogram = np.concatenate(\n",
    "        [padded_spectrograms_breathing[i], padded_spectrograms_cough[i], padded_spectrograms_speech[i]], axis=1\n",
    "    )\n",
    "    \n",
    "    # Combine other features for breathing, coughing, and speech\n",
    "    combined_other_features = np.concatenate(\n",
    "        [other_features_breathing[i], other_features_cough[i], other_features_speech[i]], axis=0\n",
    "    )\n",
    "    \n",
    "    # Assume labels are consistent across all audio types for a participant\n",
    "    label = labels_breathing[i]  # You can use any of the label lists since they are consistent\n",
    "\n",
    "    # Append combined data to the final lists\n",
    "    all_spectrograms.append(combined_spectrogram)\n",
    "    all_other_features.append(combined_other_features)\n",
    "    all_labels.append(label)\n",
    "\n",
    "# Convert to NumPy arrays\n",
    "all_spectrograms = np.array(all_spectrograms)\n",
    "all_other_features = np.array(all_other_features)\n",
    "all_labels = np.array(all_labels)\n",
    "\n",
    "# Flatten spectrograms and combine with other features\n",
    "all_spectrograms_flattened = all_spectrograms.reshape(all_spectrograms.shape[0], -1)\n",
    "X_combined = np.hstack([all_spectrograms_flattened, all_other_features])\n"
   ]
  },
  {
   "cell_type": "code",
   "execution_count": 16,
   "metadata": {
    "id": "Vgdr4f6LwADc"
   },
   "outputs": [],
   "source": [
    "# Shazia's Code\n",
    "# all_spectrograms = spectrograms_cough + spectrograms_speech + spectrograms_breathing\n",
    "# all_other_features = other_features_cough + other_features_speech + other_features_breathing\n",
    "# all_labels = labels_cough + labels_speech + labels_breathing\n",
    "\n",
    "# # Convert to NumPy arrays\n",
    "# all_spectrograms = np.array(all_spectrograms)\n",
    "# all_other_features = np.array(all_other_features)\n",
    "# all_labels = np.array(all_labels)\n",
    "# all_spectrograms_flattened = all_spectrograms.reshape(all_spectrograms.shape[0], -1)"
   ]
  },
  {
   "cell_type": "code",
   "execution_count": 17,
   "metadata": {
    "id": "BolWjHFswADc"
   },
   "outputs": [],
   "source": [
    "# X_combined = np.hstack([all_spectrograms_flattened, all_other_features])"
   ]
  },
  {
   "cell_type": "code",
   "execution_count": 18,
   "metadata": {
    "id": "kMmIePLiwADc"
   },
   "outputs": [],
   "source": [
    "from sklearn.model_selection import train_test_split\n",
    "\n",
    "X_train, X_test, y_train, y_test = train_test_split(X_combined, all_labels, test_size=0.2, stratify=all_labels)"
   ]
  },
  {
   "cell_type": "code",
   "execution_count": 19,
   "metadata": {},
   "outputs": [
    {
     "data": {
      "text/plain": [
       "(Counter({np.int64(0): 793, np.int64(1): 172}),\n",
       " Counter({np.int64(0): 634, np.int64(1): 138}),\n",
       " Counter({np.int64(0): 159, np.int64(1): 34}))"
      ]
     },
     "execution_count": 19,
     "metadata": {},
     "output_type": "execute_result"
    }
   ],
   "source": [
    "from collections import Counter\n",
    "\n",
    "Counter(all_labels), Counter(y_train), Counter(y_test)"
   ]
  },
  {
   "cell_type": "code",
   "execution_count": null,
   "metadata": {
    "collapsed": true,
    "id": "Ct491GMTwADc",
    "jupyter": {
     "outputs_hidden": true,
     "source_hidden": true
    },
    "scrolled": true
   },
   "outputs": [],
   "source": [
    "# Flatten each spectrogram into a single vector\n",
    "# Resulting shape will be (num_samples, height * width * channels)\n",
    "# X_train_numpy = np.array(X_train)\n",
    "# X_train_flattened = X_train_numpy.reshape(X_train_numpy.shape[0], -1)\n",
    "\n",
    "# print(f\"Original shape: {X_train_numpy.shape}\")\n",
    "# print(f\"Flattened shape: {X_train_flattened.shape}\")"
   ]
  },
  {
   "cell_type": "markdown",
   "metadata": {},
   "source": [
    "### Split to train-test then create features"
   ]
  },
  {
   "cell_type": "code",
   "execution_count": 9,
   "metadata": {},
   "outputs": [],
   "source": [
    "import random\n",
    "from pathlib import Path\n",
    "\n",
    "def split_train_test_consistent(pos_dir, neg_dir, test_size=0.2, random_seed=42):\n",
    "    \"\"\"\n",
    "    Splits positive and negative directories into training and testing subsets with consistent shuffling.\n",
    "\n",
    "    Args:\n",
    "        pos_dirs (List[Path]): List of directories containing positive samples (e.g., cough, breathing, speech).\n",
    "        neg_dirs (List[Path]): List of directories containing negative samples (e.g., cough, breathing, speech).\n",
    "        test_size (float): Proportion of files to include in the test set (default is 0.2).\n",
    "        random_seed (int): Random seed for reproducibility.\n",
    "\n",
    "    Returns:\n",
    "        Tuple[Tuple[List[List[Path]], List[List[Path]]], Tuple[List[List[Path]], List[List[Path]]]]:\n",
    "            - ((train_pos_files_by_type, test_pos_files_by_type), (train_neg_files_by_type, test_neg_files_by_type))\n",
    "    \"\"\"\n",
    "    np.random.seed(random_seed)  # Set seed for reproducibility\n",
    "\n",
    "    train_pos_files_by_type = []\n",
    "    test_pos_files_by_type = []\n",
    "    train_neg_files_by_type = []\n",
    "    test_neg_files_by_type = []\n",
    "\n",
    "    # Process each audio type (cough, breathing, speech)\n",
    "    pos_files = sorted(list(pos_dir.iterdir()))\n",
    "    neg_files = sorted(list(neg_dir.iterdir()))\n",
    "\n",
    "    # Generate consistent shuffle indices\n",
    "    pos_indices = np.random.permutation(len(pos_files))\n",
    "    neg_indices = np.random.permutation(len(neg_files))\n",
    "\n",
    "    # Split indices into train and test sets\n",
    "    num_pos_test = int(len(pos_files) * test_size)\n",
    "    num_neg_test = int(len(neg_files) * test_size)\n",
    "\n",
    "\n",
    "    train_pos_indices = pos_indices[num_pos_test:]\n",
    "    test_pos_indices = pos_indices[:num_pos_test]\n",
    "\n",
    "    train_neg_indices = neg_indices[num_neg_test:]\n",
    "    test_neg_indices = neg_indices[:num_neg_test]\n",
    "\n",
    "    # Split files into train and test sets using the indices\n",
    "    train_pos_files = [pos_files[i] for i in train_pos_indices]\n",
    "    test_pos_files = [pos_files[i] for i in test_pos_indices]\n",
    "\n",
    "    train_neg_files = [neg_files[i] for i in train_neg_indices]\n",
    "    test_neg_files = [neg_files[i] for i in test_neg_indices]\n",
    "\n",
    "    # Append results for this audio type\n",
    "    return (train_pos_files, test_pos_files), (train_neg_files, test_neg_files)"
   ]
  },
  {
   "cell_type": "code",
   "execution_count": 10,
   "metadata": {},
   "outputs": [],
   "source": [
    "pos_breathing_path = Path(audio_path + 'breathing/COVID_Positive')\n",
    "neg_breathing_path = Path(audio_path + 'breathing/COVID_Negative')\n",
    "\n",
    "pos_cough_path = Path(audio_path + 'cough/COVID_Positive')\n",
    "neg_cough_path = Path(audio_path + 'cough/COVID_Negative')\n",
    "\n",
    "pos_speech_path = Path(audio_path + 'speech/COVID_Positive')\n",
    "neg_speech_path = Path(audio_path + 'speech/COVID_Negative')\n",
    "\n",
    "(train_pos_breathing_files, test_pos_breathing_files), (train_neg_breathing_files, test_neg_breathing_ffiles) = split_train_test_consistent(\n",
    "    pos_breathing_path,\n",
    "    neg_breathing_path,\n",
    "    test_size=0.2,\n",
    "    random_seed=42\n",
    ")\n",
    "\n",
    "(train_pos_cough_files, test_pos_breathing_files), (train_neg_cough_files, test_neg_cough_files)= split_train_test_consistent(\n",
    "    pos_cough_path,\n",
    "    neg_cough_path,\n",
    "    test_size=0.2,\n",
    "    random_seed=42\n",
    ")\n",
    "\n",
    "(train_pos_speech_files, test_pos_speech_files), (train_neg_speech_files, test_neg_speech_files) = split_train_test_consistent(\n",
    "    pos_speech_path,\n",
    "    neg_speech_path,\n",
    "    test_size=0.2,\n",
    "    random_seed=42\n",
    ")"
   ]
  },
  {
   "cell_type": "code",
   "execution_count": null,
   "metadata": {},
   "outputs": [],
   "source": [
    "def create_features_splitted(pos_directory, neg_directory, target_length, augment=True):\n",
    "    #print(\"Creating features for {0} and {1}! \".format(pos_directory, neg_directory))\n",
    "    spectrograms = []\n",
    "    other_features = []\n",
    "    labels = []\n",
    "\n",
    "    # Access files directly using iterdir()\n",
    "    for file_path in sorted(pos_directory):\n",
    "        y, sr = librosa.load(file_path, sr=16000)\n",
    "        y = y[:target_length]\n",
    "        y = librosa.util.normalize(y)\n",
    "\n",
    "        zero_padding = np.zeros(target_length - len(y), dtype=np.float32)\n",
    "        y = np.concatenate([y, zero_padding], axis=0)\n",
    "\n",
    "        spectrograms.append(create_mel_spectrogram(y, sr, file_path))\n",
    "        other_features.append([create_zero_crossing_rate(y), create_spectral_centroid(y, sr)])\n",
    "        labels.append(1)\n",
    "\n",
    "\n",
    "        ## Augment random\n",
    "        # if augment:\n",
    "        #     y_augmented = augment_audio(y, sr, target_length)\n",
    "        #     spectrograms.append(create_mel_spectrogram(y_augmented, sr, file_path))\n",
    "        #     other_features.append([create_zero_crossing_rate(y_augmented), create_spectral_centroid(y_augmented, sr)])\n",
    "        #     labels.append(1)\n",
    "\n",
    "        ## Augment all\n",
    "        if augment:\n",
    "            augmented_audios = augment_audio(y, sr, target_length)\n",
    "            for aug_y in augmented_audios:\n",
    "                spectrograms.append(create_mel_spectrogram(aug_y, sr, file_path))\n",
    "                other_features.append([create_zero_crossing_rate(aug_y), create_spectral_centroid(aug_y, sr)])\n",
    "                labels.append(1)\n",
    "    \n",
    "    positive_samples = len(labels)\n",
    "\n",
    "    print(f\"Number of positive samples: {positive_samples}\")  \n",
    "\n",
    "    for file_path in sorted(neg_directory):\n",
    "        y, sr = librosa.load(file_path, sr=16000)\n",
    "        y = y[:target_length]\n",
    "\n",
    "        zero_padding = np.zeros(target_length - len(y), dtype=np.float32)\n",
    "        y = np.concatenate([y, zero_padding], axis=0)\n",
    "\n",
    "        spectrograms.append(create_mel_spectrogram(y, sr, file_path))\n",
    "        other_features.append([create_zero_crossing_rate(y), create_spectral_centroid(y, sr)])\n",
    "        labels.append(0)\n",
    "\n",
    "        # if augment:\n",
    "        #     y_augmented = augment_audio(y, sr, target_length)\n",
    "        #     spectrograms.append(create_mel_spectrogram(y_augmented, sr, file_path))\n",
    "        #     other_features.append([create_zero_crossing_rate(y_augmented), create_spectral_centroid(y_augmented, sr)])\n",
    "        #     labels.append(0)\n",
    "\n",
    "    print(f\"Number of negative samples: {len(labels) - positive_samples}\")           \n",
    "    # print(\"Completed creating features for {0} and {1}! \".format(pos_directory, neg_directory))\n",
    "\n",
    "    return spectrograms, other_features, labels"
   ]
  },
  {
   "cell_type": "code",
   "execution_count": null,
   "metadata": {},
   "outputs": [
    {
     "name": "stdout",
     "output_type": "stream",
     "text": [
      "Number of positive samples: 828\n",
      "log_mel_spectrogram == 0:  /Users/opheliasin/covid-detection/dataset/AUDIO_NEW/breathing/COVID_Negative/GDOLSUHV.flac\n",
      "log_mel_spectrogram == 0:  /Users/opheliasin/covid-detection/dataset/AUDIO_NEW/breathing/COVID_Negative/HTUZHMVC.flac\n",
      "log_mel_spectrogram == 0:  /Users/opheliasin/covid-detection/dataset/AUDIO_NEW/breathing/COVID_Negative/TMWZXJNT.flac\n",
      "Number of negative samples: 635\n",
      "Completed creating features for [PosixPath('dataset/AUDIO_NEW/breathing/COVID_Positive/LWGYMJSP.flac'), PosixPath('dataset/AUDIO_NEW/breathing/COVID_Positive/RAZZZUHF.flac'), PosixPath('dataset/AUDIO_NEW/breathing/COVID_Positive/IMVMQMPG.flac'), PosixPath('dataset/AUDIO_NEW/breathing/COVID_Positive/GDWOVBBO.flac'), PosixPath('dataset/AUDIO_NEW/breathing/COVID_Positive/MEVKZFWH.flac'), PosixPath('dataset/AUDIO_NEW/breathing/COVID_Positive/JQLDLKIU.flac'), PosixPath('dataset/AUDIO_NEW/breathing/COVID_Positive/GPGASWOP.flac'), PosixPath('dataset/AUDIO_NEW/breathing/COVID_Positive/AFOHJNUB.flac'), PosixPath('dataset/AUDIO_NEW/breathing/COVID_Positive/PRAXIPZS.flac'), PosixPath('dataset/AUDIO_NEW/breathing/COVID_Positive/XDZIBGME.flac'), PosixPath('dataset/AUDIO_NEW/breathing/COVID_Positive/TTJCNUWS.flac'), PosixPath('dataset/AUDIO_NEW/breathing/COVID_Positive/QXNGHUAD.flac'), PosixPath('dataset/AUDIO_NEW/breathing/COVID_Positive/HMUZRBFK.flac'), PosixPath('dataset/AUDIO_NEW/breathing/COVID_Positive/DRMJWSBI.flac'), PosixPath('dataset/AUDIO_NEW/breathing/COVID_Positive/WVOEVNCU.flac'), PosixPath('dataset/AUDIO_NEW/breathing/COVID_Positive/VCTMLMTB.flac'), PosixPath('dataset/AUDIO_NEW/breathing/COVID_Positive/RAQRLISN.flac'), PosixPath('dataset/AUDIO_NEW/breathing/COVID_Positive/JRVXFFDL.flac'), PosixPath('dataset/AUDIO_NEW/breathing/COVID_Positive/ERFZNNFK.flac'), PosixPath('dataset/AUDIO_NEW/breathing/COVID_Positive/ULMHNFLI.flac'), PosixPath('dataset/AUDIO_NEW/breathing/COVID_Positive/CKRDCAJH.flac'), PosixPath('dataset/AUDIO_NEW/breathing/COVID_Positive/VLQKSTCA.flac'), PosixPath('dataset/AUDIO_NEW/breathing/COVID_Positive/PGBDRKJQ.flac'), PosixPath('dataset/AUDIO_NEW/breathing/COVID_Positive/JRIDBTOH.flac'), PosixPath('dataset/AUDIO_NEW/breathing/COVID_Positive/YSRLDVCS.flac'), PosixPath('dataset/AUDIO_NEW/breathing/COVID_Positive/AXWINTYF.flac'), PosixPath('dataset/AUDIO_NEW/breathing/COVID_Positive/KDYLNCDL.flac'), PosixPath('dataset/AUDIO_NEW/breathing/COVID_Positive/YVZNNTAW.flac'), PosixPath('dataset/AUDIO_NEW/breathing/COVID_Positive/ALBIXZJY.flac'), PosixPath('dataset/AUDIO_NEW/breathing/COVID_Positive/DXMUJJZO.flac'), PosixPath('dataset/AUDIO_NEW/breathing/COVID_Positive/TFGKRHUM.flac'), PosixPath('dataset/AUDIO_NEW/breathing/COVID_Positive/AJGPTLEM.flac'), PosixPath('dataset/AUDIO_NEW/breathing/COVID_Positive/EJUCFCMP.flac'), PosixPath('dataset/AUDIO_NEW/breathing/COVID_Positive/JXCPSHIB.flac'), PosixPath('dataset/AUDIO_NEW/breathing/COVID_Positive/THSEVCAS.flac'), PosixPath('dataset/AUDIO_NEW/breathing/COVID_Positive/VDYIGEGY.flac'), PosixPath('dataset/AUDIO_NEW/breathing/COVID_Positive/ASFNYPIP.flac'), PosixPath('dataset/AUDIO_NEW/breathing/COVID_Positive/SGISFSZA.flac'), PosixPath('dataset/AUDIO_NEW/breathing/COVID_Positive/UAWKKNHF.flac'), PosixPath('dataset/AUDIO_NEW/breathing/COVID_Positive/ABEEJBTZ.flac'), PosixPath('dataset/AUDIO_NEW/breathing/COVID_Positive/YJYUSESA.flac'), PosixPath('dataset/AUDIO_NEW/breathing/COVID_Positive/YZFQUGFD.flac'), PosixPath('dataset/AUDIO_NEW/breathing/COVID_Positive/JLISAUWH.flac'), PosixPath('dataset/AUDIO_NEW/breathing/COVID_Positive/GNIJMSNO.flac'), PosixPath('dataset/AUDIO_NEW/breathing/COVID_Positive/OTHQLMSW.flac'), PosixPath('dataset/AUDIO_NEW/breathing/COVID_Positive/DYQIILYA.flac'), PosixPath('dataset/AUDIO_NEW/breathing/COVID_Positive/FXTZOQME.flac'), PosixPath('dataset/AUDIO_NEW/breathing/COVID_Positive/UFEPYKMD.flac'), PosixPath('dataset/AUDIO_NEW/breathing/COVID_Positive/DOBXWEAK.flac'), PosixPath('dataset/AUDIO_NEW/breathing/COVID_Positive/CYZRARSB.flac'), PosixPath('dataset/AUDIO_NEW/breathing/COVID_Positive/UVNYKHCA.flac'), PosixPath('dataset/AUDIO_NEW/breathing/COVID_Positive/MAQAUBAA.flac'), PosixPath('dataset/AUDIO_NEW/breathing/COVID_Positive/LWWBEEQE.flac'), PosixPath('dataset/AUDIO_NEW/breathing/COVID_Positive/MPTVAMFL.flac'), PosixPath('dataset/AUDIO_NEW/breathing/COVID_Positive/FTBMVHFC.flac'), PosixPath('dataset/AUDIO_NEW/breathing/COVID_Positive/PXOBLVGW.flac'), PosixPath('dataset/AUDIO_NEW/breathing/COVID_Positive/MWVGAAEI.flac'), PosixPath('dataset/AUDIO_NEW/breathing/COVID_Positive/YTUUEWTN.flac'), PosixPath('dataset/AUDIO_NEW/breathing/COVID_Positive/ZIVMGJDH.flac'), PosixPath('dataset/AUDIO_NEW/breathing/COVID_Positive/VVXAOBIQ.flac'), PosixPath('dataset/AUDIO_NEW/breathing/COVID_Positive/HBJDPFKX.flac'), PosixPath('dataset/AUDIO_NEW/breathing/COVID_Positive/PADSFUKF.flac'), PosixPath('dataset/AUDIO_NEW/breathing/COVID_Positive/VIHAYLIR.flac'), PosixPath('dataset/AUDIO_NEW/breathing/COVID_Positive/JDCTZUCQ.flac'), PosixPath('dataset/AUDIO_NEW/breathing/COVID_Positive/KUEYJJHT.flac'), PosixPath('dataset/AUDIO_NEW/breathing/COVID_Positive/EJVCCKSN.flac'), PosixPath('dataset/AUDIO_NEW/breathing/COVID_Positive/UCBREFEO.flac'), PosixPath('dataset/AUDIO_NEW/breathing/COVID_Positive/UVTEGCPD.flac'), PosixPath('dataset/AUDIO_NEW/breathing/COVID_Positive/VEZCLNIH.flac'), PosixPath('dataset/AUDIO_NEW/breathing/COVID_Positive/JGFKEWPJ.flac'), PosixPath('dataset/AUDIO_NEW/breathing/COVID_Positive/ZUYTFZYB.flac'), PosixPath('dataset/AUDIO_NEW/breathing/COVID_Positive/RMVYQUCU.flac'), PosixPath('dataset/AUDIO_NEW/breathing/COVID_Positive/SBGLANZL.flac'), PosixPath('dataset/AUDIO_NEW/breathing/COVID_Positive/RIGPNZYT.flac'), PosixPath('dataset/AUDIO_NEW/breathing/COVID_Positive/HWTKPWRX.flac'), PosixPath('dataset/AUDIO_NEW/breathing/COVID_Positive/AKEKAWSC.flac'), PosixPath('dataset/AUDIO_NEW/breathing/COVID_Positive/UQMJSSEM.flac'), PosixPath('dataset/AUDIO_NEW/breathing/COVID_Positive/AHZMVOLO.flac'), PosixPath('dataset/AUDIO_NEW/breathing/COVID_Positive/YOIZLTMI.flac'), PosixPath('dataset/AUDIO_NEW/breathing/COVID_Positive/HJVPBHIK.flac'), PosixPath('dataset/AUDIO_NEW/breathing/COVID_Positive/EMRLKJCU.flac'), PosixPath('dataset/AUDIO_NEW/breathing/COVID_Positive/LZPQDKKB.flac'), PosixPath('dataset/AUDIO_NEW/breathing/COVID_Positive/LTLUEBKB.flac'), PosixPath('dataset/AUDIO_NEW/breathing/COVID_Positive/EKDSASKT.flac'), PosixPath('dataset/AUDIO_NEW/breathing/COVID_Positive/GSCDSZVF.flac'), PosixPath('dataset/AUDIO_NEW/breathing/COVID_Positive/ALVEHKKL.flac'), PosixPath('dataset/AUDIO_NEW/breathing/COVID_Positive/GLWCAKZT.flac'), PosixPath('dataset/AUDIO_NEW/breathing/COVID_Positive/KFDUHMPN.flac'), PosixPath('dataset/AUDIO_NEW/breathing/COVID_Positive/VDGXGAKJ.flac'), PosixPath('dataset/AUDIO_NEW/breathing/COVID_Positive/RTHBTMSA.flac'), PosixPath('dataset/AUDIO_NEW/breathing/COVID_Positive/OIDXSCNZ.flac'), PosixPath('dataset/AUDIO_NEW/breathing/COVID_Positive/MFOVBTXY.flac'), PosixPath('dataset/AUDIO_NEW/breathing/COVID_Positive/XKSBYHAB.flac'), PosixPath('dataset/AUDIO_NEW/breathing/COVID_Positive/XOXIOPIG.flac'), PosixPath('dataset/AUDIO_NEW/breathing/COVID_Positive/NWAXMTAI.flac'), PosixPath('dataset/AUDIO_NEW/breathing/COVID_Positive/ALWLORJT.flac'), PosixPath('dataset/AUDIO_NEW/breathing/COVID_Positive/BIATZVOE.flac'), PosixPath('dataset/AUDIO_NEW/breathing/COVID_Positive/IQYUYXTF.flac'), PosixPath('dataset/AUDIO_NEW/breathing/COVID_Positive/WHDWROXM.flac'), PosixPath('dataset/AUDIO_NEW/breathing/COVID_Positive/VBIAHODB.flac'), PosixPath('dataset/AUDIO_NEW/breathing/COVID_Positive/BVOJGHZS.flac'), PosixPath('dataset/AUDIO_NEW/breathing/COVID_Positive/KOOTDZHZ.flac'), PosixPath('dataset/AUDIO_NEW/breathing/COVID_Positive/WYJAGBSH.flac'), PosixPath('dataset/AUDIO_NEW/breathing/COVID_Positive/VDSQQXMU.flac'), PosixPath('dataset/AUDIO_NEW/breathing/COVID_Positive/VPCPFQVJ.flac'), PosixPath('dataset/AUDIO_NEW/breathing/COVID_Positive/YJMSPOGD.flac'), PosixPath('dataset/AUDIO_NEW/breathing/COVID_Positive/JKWWXNJA.flac'), PosixPath('dataset/AUDIO_NEW/breathing/COVID_Positive/IFPRPNRB.flac'), PosixPath('dataset/AUDIO_NEW/breathing/COVID_Positive/RLAOCLTO.flac'), PosixPath('dataset/AUDIO_NEW/breathing/COVID_Positive/HKBIVTRW.flac'), PosixPath('dataset/AUDIO_NEW/breathing/COVID_Positive/ZOIYEWCJ.flac'), PosixPath('dataset/AUDIO_NEW/breathing/COVID_Positive/IQLDNYJA.flac'), PosixPath('dataset/AUDIO_NEW/breathing/COVID_Positive/HISLBGDT.flac'), PosixPath('dataset/AUDIO_NEW/breathing/COVID_Positive/NOYALWYW.flac'), PosixPath('dataset/AUDIO_NEW/breathing/COVID_Positive/CEWKRUIC.flac'), PosixPath('dataset/AUDIO_NEW/breathing/COVID_Positive/IOHZIUVB.flac'), PosixPath('dataset/AUDIO_NEW/breathing/COVID_Positive/ZDEBFQCC.flac'), PosixPath('dataset/AUDIO_NEW/breathing/COVID_Positive/UWYAUHCW.flac'), PosixPath('dataset/AUDIO_NEW/breathing/COVID_Positive/ETTUXRXB.flac'), PosixPath('dataset/AUDIO_NEW/breathing/COVID_Positive/YVOTIZVE.flac'), PosixPath('dataset/AUDIO_NEW/breathing/COVID_Positive/ABVXITDD.flac'), PosixPath('dataset/AUDIO_NEW/breathing/COVID_Positive/HRDZUCAZ.flac'), PosixPath('dataset/AUDIO_NEW/breathing/COVID_Positive/WXWPGFPH.flac'), PosixPath('dataset/AUDIO_NEW/breathing/COVID_Positive/UXWQTBMI.flac'), PosixPath('dataset/AUDIO_NEW/breathing/COVID_Positive/XALJVEOO.flac'), PosixPath('dataset/AUDIO_NEW/breathing/COVID_Positive/RCROGMKQ.flac'), PosixPath('dataset/AUDIO_NEW/breathing/COVID_Positive/RACYUHKY.flac'), PosixPath('dataset/AUDIO_NEW/breathing/COVID_Positive/TFNTVHHQ.flac'), PosixPath('dataset/AUDIO_NEW/breathing/COVID_Positive/NAQJDQRR.flac'), PosixPath('dataset/AUDIO_NEW/breathing/COVID_Positive/KXYGVTKN.flac'), PosixPath('dataset/AUDIO_NEW/breathing/COVID_Positive/UEIFRCTO.flac'), PosixPath('dataset/AUDIO_NEW/breathing/COVID_Positive/ZYSOZDNN.flac'), PosixPath('dataset/AUDIO_NEW/breathing/COVID_Positive/BYSOGHCZ.flac'), PosixPath('dataset/AUDIO_NEW/breathing/COVID_Positive/KMKQNPHM.flac'), PosixPath('dataset/AUDIO_NEW/breathing/COVID_Positive/RKSAIEOB.flac'), PosixPath('dataset/AUDIO_NEW/breathing/COVID_Positive/BOFQIUDZ.flac'), PosixPath('dataset/AUDIO_NEW/breathing/COVID_Positive/OMVQVWZD.flac'), PosixPath('dataset/AUDIO_NEW/breathing/COVID_Positive/RCNCGHRA.flac')] and [PosixPath('dataset/AUDIO_NEW/breathing/COVID_Negative/BYZJWJWW.flac'), PosixPath('dataset/AUDIO_NEW/breathing/COVID_Negative/YVVLBKRI.flac'), PosixPath('dataset/AUDIO_NEW/breathing/COVID_Negative/TNVRWURN.flac'), PosixPath('dataset/AUDIO_NEW/breathing/COVID_Negative/ZAPQHJJI.flac'), PosixPath('dataset/AUDIO_NEW/breathing/COVID_Negative/VIPUEPTP.flac'), PosixPath('dataset/AUDIO_NEW/breathing/COVID_Negative/VJAZTMXN.flac'), PosixPath('dataset/AUDIO_NEW/breathing/COVID_Negative/TLPYAZFN.flac'), PosixPath('dataset/AUDIO_NEW/breathing/COVID_Negative/VXQWWWTL.flac'), PosixPath('dataset/AUDIO_NEW/breathing/COVID_Negative/JZHRAZQB.flac'), PosixPath('dataset/AUDIO_NEW/breathing/COVID_Negative/WJYRNUDG.flac'), PosixPath('dataset/AUDIO_NEW/breathing/COVID_Negative/KKCMMQPS.flac'), PosixPath('dataset/AUDIO_NEW/breathing/COVID_Negative/KHBVGVRW.flac'), PosixPath('dataset/AUDIO_NEW/breathing/COVID_Negative/MFCALAPF.flac'), PosixPath('dataset/AUDIO_NEW/breathing/COVID_Negative/PRVQTLFF.flac'), PosixPath('dataset/AUDIO_NEW/breathing/COVID_Negative/DIJIRFKR.flac'), PosixPath('dataset/AUDIO_NEW/breathing/COVID_Negative/PKUZJUOW.flac'), PosixPath('dataset/AUDIO_NEW/breathing/COVID_Negative/PYAQLXFV.flac'), PosixPath('dataset/AUDIO_NEW/breathing/COVID_Negative/MFGOJGGN.flac'), PosixPath('dataset/AUDIO_NEW/breathing/COVID_Negative/IJLZRFWZ.flac'), PosixPath('dataset/AUDIO_NEW/breathing/COVID_Negative/ILTNBDSW.flac'), PosixPath('dataset/AUDIO_NEW/breathing/COVID_Negative/SWLXYKOA.flac'), PosixPath('dataset/AUDIO_NEW/breathing/COVID_Negative/WCXGGZSJ.flac'), PosixPath('dataset/AUDIO_NEW/breathing/COVID_Negative/QCTSRTMN.flac'), PosixPath('dataset/AUDIO_NEW/breathing/COVID_Negative/VYLULJYU.flac'), PosixPath('dataset/AUDIO_NEW/breathing/COVID_Negative/MPEDVBJZ.flac'), PosixPath('dataset/AUDIO_NEW/breathing/COVID_Negative/QZQFAEBL.flac'), PosixPath('dataset/AUDIO_NEW/breathing/COVID_Negative/XQVWVWZA.flac'), PosixPath('dataset/AUDIO_NEW/breathing/COVID_Negative/EKFFNDJY.flac'), PosixPath('dataset/AUDIO_NEW/breathing/COVID_Negative/MBXASRGM.flac'), PosixPath('dataset/AUDIO_NEW/breathing/COVID_Negative/MHSTXVSO.flac'), PosixPath('dataset/AUDIO_NEW/breathing/COVID_Negative/VFYJDSHE.flac'), PosixPath('dataset/AUDIO_NEW/breathing/COVID_Negative/YIZQVXQY.flac'), PosixPath('dataset/AUDIO_NEW/breathing/COVID_Negative/HYVVAWMV.flac'), PosixPath('dataset/AUDIO_NEW/breathing/COVID_Negative/RWKLHEEK.flac'), PosixPath('dataset/AUDIO_NEW/breathing/COVID_Negative/VMVKRXVL.flac'), PosixPath('dataset/AUDIO_NEW/breathing/COVID_Negative/GOPVPXYE.flac'), PosixPath('dataset/AUDIO_NEW/breathing/COVID_Negative/HCZZQPKF.flac'), PosixPath('dataset/AUDIO_NEW/breathing/COVID_Negative/NMIAEGCX.flac'), PosixPath('dataset/AUDIO_NEW/breathing/COVID_Negative/LEDJDJPX.flac'), PosixPath('dataset/AUDIO_NEW/breathing/COVID_Negative/GZGAYWBV.flac'), PosixPath('dataset/AUDIO_NEW/breathing/COVID_Negative/TZCBTMVG.flac'), PosixPath('dataset/AUDIO_NEW/breathing/COVID_Negative/CJOXNLKG.flac'), PosixPath('dataset/AUDIO_NEW/breathing/COVID_Negative/BFLCOJQF.flac'), PosixPath('dataset/AUDIO_NEW/breathing/COVID_Negative/REXOHNHU.flac'), PosixPath('dataset/AUDIO_NEW/breathing/COVID_Negative/WOSMSWIS.flac'), PosixPath('dataset/AUDIO_NEW/breathing/COVID_Negative/RYYLOYKI.flac'), PosixPath('dataset/AUDIO_NEW/breathing/COVID_Negative/VBXMIXBC.flac'), PosixPath('dataset/AUDIO_NEW/breathing/COVID_Negative/TPUIJQGK.flac'), PosixPath('dataset/AUDIO_NEW/breathing/COVID_Negative/FCXKJTJN.flac'), PosixPath('dataset/AUDIO_NEW/breathing/COVID_Negative/SCEAOMNJ.flac'), PosixPath('dataset/AUDIO_NEW/breathing/COVID_Negative/QCWQWCAF.flac'), PosixPath('dataset/AUDIO_NEW/breathing/COVID_Negative/PICKYGGB.flac'), PosixPath('dataset/AUDIO_NEW/breathing/COVID_Negative/CDICVECX.flac'), PosixPath('dataset/AUDIO_NEW/breathing/COVID_Negative/ELKRANRQ.flac'), PosixPath('dataset/AUDIO_NEW/breathing/COVID_Negative/PDIDQEEN.flac'), PosixPath('dataset/AUDIO_NEW/breathing/COVID_Negative/GXUQHPPN.flac'), PosixPath('dataset/AUDIO_NEW/breathing/COVID_Negative/VMBVELLT.flac'), PosixPath('dataset/AUDIO_NEW/breathing/COVID_Negative/LBJXCOQG.flac'), PosixPath('dataset/AUDIO_NEW/breathing/COVID_Negative/VVYKYWAF.flac'), PosixPath('dataset/AUDIO_NEW/breathing/COVID_Negative/IFDSTSRI.flac'), PosixPath('dataset/AUDIO_NEW/breathing/COVID_Negative/NBZTVEJL.flac'), PosixPath('dataset/AUDIO_NEW/breathing/COVID_Negative/XBMYMBNI.flac'), PosixPath('dataset/AUDIO_NEW/breathing/COVID_Negative/KFKKKIVM.flac'), PosixPath('dataset/AUDIO_NEW/breathing/COVID_Negative/XUGFKOZJ.flac'), PosixPath('dataset/AUDIO_NEW/breathing/COVID_Negative/QBBUMYDL.flac'), PosixPath('dataset/AUDIO_NEW/breathing/COVID_Negative/BPXVMOVA.flac'), PosixPath('dataset/AUDIO_NEW/breathing/COVID_Negative/XQKBFPQJ.flac'), PosixPath('dataset/AUDIO_NEW/breathing/COVID_Negative/ACODNYKR.flac'), PosixPath('dataset/AUDIO_NEW/breathing/COVID_Negative/RJRGQDKK.flac'), PosixPath('dataset/AUDIO_NEW/breathing/COVID_Negative/LUBZHFGJ.flac'), PosixPath('dataset/AUDIO_NEW/breathing/COVID_Negative/FBINBZWT.flac'), PosixPath('dataset/AUDIO_NEW/breathing/COVID_Negative/RFDLXSQR.flac'), PosixPath('dataset/AUDIO_NEW/breathing/COVID_Negative/LOKISRFN.flac'), PosixPath('dataset/AUDIO_NEW/breathing/COVID_Negative/CFTTZNUZ.flac'), PosixPath('dataset/AUDIO_NEW/breathing/COVID_Negative/PTCHYHZG.flac'), PosixPath('dataset/AUDIO_NEW/breathing/COVID_Negative/SSGGLNQE.flac'), PosixPath('dataset/AUDIO_NEW/breathing/COVID_Negative/BJJYNQDQ.flac'), PosixPath('dataset/AUDIO_NEW/breathing/COVID_Negative/BGQKVUHH.flac'), PosixPath('dataset/AUDIO_NEW/breathing/COVID_Negative/HRJHKQAC.flac'), PosixPath('dataset/AUDIO_NEW/breathing/COVID_Negative/YGWHDXWN.flac'), PosixPath('dataset/AUDIO_NEW/breathing/COVID_Negative/GEJKXDZK.flac'), PosixPath('dataset/AUDIO_NEW/breathing/COVID_Negative/LFIBGWEJ.flac'), PosixPath('dataset/AUDIO_NEW/breathing/COVID_Negative/ADPCTBMH.flac'), PosixPath('dataset/AUDIO_NEW/breathing/COVID_Negative/GWMLKCDN.flac'), PosixPath('dataset/AUDIO_NEW/breathing/COVID_Negative/QOEUVQFA.flac'), PosixPath('dataset/AUDIO_NEW/breathing/COVID_Negative/SRTPYIDB.flac'), PosixPath('dataset/AUDIO_NEW/breathing/COVID_Negative/KFNSNSYN.flac'), PosixPath('dataset/AUDIO_NEW/breathing/COVID_Negative/DHJQCQRM.flac'), PosixPath('dataset/AUDIO_NEW/breathing/COVID_Negative/ONANMZAM.flac'), PosixPath('dataset/AUDIO_NEW/breathing/COVID_Negative/CILYIJMA.flac'), PosixPath('dataset/AUDIO_NEW/breathing/COVID_Negative/CQNHYYQV.flac'), PosixPath('dataset/AUDIO_NEW/breathing/COVID_Negative/JPGVRSKH.flac'), PosixPath('dataset/AUDIO_NEW/breathing/COVID_Negative/COOXTATD.flac'), PosixPath('dataset/AUDIO_NEW/breathing/COVID_Negative/UDFCMXSA.flac'), PosixPath('dataset/AUDIO_NEW/breathing/COVID_Negative/ZWOBBPQH.flac'), PosixPath('dataset/AUDIO_NEW/breathing/COVID_Negative/WTXHNNLN.flac'), PosixPath('dataset/AUDIO_NEW/breathing/COVID_Negative/MZXKYXPR.flac'), PosixPath('dataset/AUDIO_NEW/breathing/COVID_Negative/KRFGQQOT.flac'), PosixPath('dataset/AUDIO_NEW/breathing/COVID_Negative/QTPIOXBP.flac'), PosixPath('dataset/AUDIO_NEW/breathing/COVID_Negative/MTJCORVA.flac'), PosixPath('dataset/AUDIO_NEW/breathing/COVID_Negative/ZKHTQNVS.flac'), PosixPath('dataset/AUDIO_NEW/breathing/COVID_Negative/AEKPKDAQ.flac'), PosixPath('dataset/AUDIO_NEW/breathing/COVID_Negative/XTBNODYV.flac'), PosixPath('dataset/AUDIO_NEW/breathing/COVID_Negative/PKQTMYSJ.flac'), PosixPath('dataset/AUDIO_NEW/breathing/COVID_Negative/CZOBKKOJ.flac'), PosixPath('dataset/AUDIO_NEW/breathing/COVID_Negative/ITUVXRGB.flac'), PosixPath('dataset/AUDIO_NEW/breathing/COVID_Negative/MCKUCVCT.flac'), PosixPath('dataset/AUDIO_NEW/breathing/COVID_Negative/CAJBBDGE.flac'), PosixPath('dataset/AUDIO_NEW/breathing/COVID_Negative/VFNVWWDN.flac'), PosixPath('dataset/AUDIO_NEW/breathing/COVID_Negative/MQXKPIZS.flac'), PosixPath('dataset/AUDIO_NEW/breathing/COVID_Negative/UUNBNMEU.flac'), PosixPath('dataset/AUDIO_NEW/breathing/COVID_Negative/MRCAUGQD.flac'), PosixPath('dataset/AUDIO_NEW/breathing/COVID_Negative/QATIJZYL.flac'), PosixPath('dataset/AUDIO_NEW/breathing/COVID_Negative/DQLNGDSQ.flac'), PosixPath('dataset/AUDIO_NEW/breathing/COVID_Negative/NKRCUEMH.flac'), PosixPath('dataset/AUDIO_NEW/breathing/COVID_Negative/IFEZNKJP.flac'), PosixPath('dataset/AUDIO_NEW/breathing/COVID_Negative/QXAOCRAB.flac'), PosixPath('dataset/AUDIO_NEW/breathing/COVID_Negative/AGFNIAYJ.flac'), PosixPath('dataset/AUDIO_NEW/breathing/COVID_Negative/GHBRVBQV.flac'), PosixPath('dataset/AUDIO_NEW/breathing/COVID_Negative/TUIUXGMR.flac'), PosixPath('dataset/AUDIO_NEW/breathing/COVID_Negative/CMMJYEXY.flac'), PosixPath('dataset/AUDIO_NEW/breathing/COVID_Negative/ZRGHXYZK.flac'), PosixPath('dataset/AUDIO_NEW/breathing/COVID_Negative/THMGPHOF.flac'), PosixPath('dataset/AUDIO_NEW/breathing/COVID_Negative/UHNIMFEE.flac'), PosixPath('dataset/AUDIO_NEW/breathing/COVID_Negative/HVPRITDR.flac'), PosixPath('dataset/AUDIO_NEW/breathing/COVID_Negative/JTIPNSRF.flac'), PosixPath('dataset/AUDIO_NEW/breathing/COVID_Negative/HBXGTLVD.flac'), PosixPath('dataset/AUDIO_NEW/breathing/COVID_Negative/XJKRNFZY.flac'), PosixPath('dataset/AUDIO_NEW/breathing/COVID_Negative/MCPGSBRU.flac'), PosixPath('dataset/AUDIO_NEW/breathing/COVID_Negative/OZGVGHCG.flac'), PosixPath('dataset/AUDIO_NEW/breathing/COVID_Negative/HNRZFYVZ.flac'), PosixPath('dataset/AUDIO_NEW/breathing/COVID_Negative/BLPXKKFI.flac'), PosixPath('dataset/AUDIO_NEW/breathing/COVID_Negative/QIEGQBDV.flac'), PosixPath('dataset/AUDIO_NEW/breathing/COVID_Negative/BDTZXLZB.flac'), PosixPath('dataset/AUDIO_NEW/breathing/COVID_Negative/QGFCKCMR.flac'), PosixPath('dataset/AUDIO_NEW/breathing/COVID_Negative/PKFFCBBV.flac'), PosixPath('dataset/AUDIO_NEW/breathing/COVID_Negative/MFFYUDJV.flac'), PosixPath('dataset/AUDIO_NEW/breathing/COVID_Negative/PLYCCWYO.flac'), PosixPath('dataset/AUDIO_NEW/breathing/COVID_Negative/KKUXVCWL.flac'), PosixPath('dataset/AUDIO_NEW/breathing/COVID_Negative/OKQTLZRN.flac'), PosixPath('dataset/AUDIO_NEW/breathing/COVID_Negative/AFFRVSHO.flac'), PosixPath('dataset/AUDIO_NEW/breathing/COVID_Negative/EWLUREWH.flac'), PosixPath('dataset/AUDIO_NEW/breathing/COVID_Negative/RHHOTDPX.flac'), PosixPath('dataset/AUDIO_NEW/breathing/COVID_Negative/ORFSQAOL.flac'), PosixPath('dataset/AUDIO_NEW/breathing/COVID_Negative/PUPXHBVI.flac'), PosixPath('dataset/AUDIO_NEW/breathing/COVID_Negative/OCWHDAAF.flac'), PosixPath('dataset/AUDIO_NEW/breathing/COVID_Negative/ZMFAELDN.flac'), PosixPath('dataset/AUDIO_NEW/breathing/COVID_Negative/SGLFVDOV.flac'), PosixPath('dataset/AUDIO_NEW/breathing/COVID_Negative/LJCPVYJA.flac'), PosixPath('dataset/AUDIO_NEW/breathing/COVID_Negative/SSIVVUEB.flac'), PosixPath('dataset/AUDIO_NEW/breathing/COVID_Negative/AIAEQDZT.flac'), PosixPath('dataset/AUDIO_NEW/breathing/COVID_Negative/SHMLQOAR.flac'), PosixPath('dataset/AUDIO_NEW/breathing/COVID_Negative/TMWZXJNT.flac'), PosixPath('dataset/AUDIO_NEW/breathing/COVID_Negative/RCUOLUZF.flac'), PosixPath('dataset/AUDIO_NEW/breathing/COVID_Negative/TBYLKZRC.flac'), PosixPath('dataset/AUDIO_NEW/breathing/COVID_Negative/XBAINOHF.flac'), PosixPath('dataset/AUDIO_NEW/breathing/COVID_Negative/OZCQAXJF.flac'), PosixPath('dataset/AUDIO_NEW/breathing/COVID_Negative/PCTZIRHW.flac'), PosixPath('dataset/AUDIO_NEW/breathing/COVID_Negative/HPBOLRXN.flac'), PosixPath('dataset/AUDIO_NEW/breathing/COVID_Negative/LUWHROSH.flac'), PosixPath('dataset/AUDIO_NEW/breathing/COVID_Negative/XRACSBQI.flac'), PosixPath('dataset/AUDIO_NEW/breathing/COVID_Negative/HCUFTAWS.flac'), PosixPath('dataset/AUDIO_NEW/breathing/COVID_Negative/CLDSLEUZ.flac'), PosixPath('dataset/AUDIO_NEW/breathing/COVID_Negative/ETCUSZHJ.flac'), PosixPath('dataset/AUDIO_NEW/breathing/COVID_Negative/KDNSMAHC.flac'), PosixPath('dataset/AUDIO_NEW/breathing/COVID_Negative/USKMGNIT.flac'), PosixPath('dataset/AUDIO_NEW/breathing/COVID_Negative/ZLBIQUWI.flac'), PosixPath('dataset/AUDIO_NEW/breathing/COVID_Negative/QISGFQFX.flac'), PosixPath('dataset/AUDIO_NEW/breathing/COVID_Negative/LNQOLTRP.flac'), PosixPath('dataset/AUDIO_NEW/breathing/COVID_Negative/PWHWLIJC.flac'), PosixPath('dataset/AUDIO_NEW/breathing/COVID_Negative/XDMUAMWN.flac'), PosixPath('dataset/AUDIO_NEW/breathing/COVID_Negative/EFVTSQNK.flac'), PosixPath('dataset/AUDIO_NEW/breathing/COVID_Negative/WURNMMKC.flac'), PosixPath('dataset/AUDIO_NEW/breathing/COVID_Negative/KIOIRSIP.flac'), PosixPath('dataset/AUDIO_NEW/breathing/COVID_Negative/XOFYAGOX.flac'), PosixPath('dataset/AUDIO_NEW/breathing/COVID_Negative/UTGHIFRA.flac'), PosixPath('dataset/AUDIO_NEW/breathing/COVID_Negative/AATXXRQE.flac'), PosixPath('dataset/AUDIO_NEW/breathing/COVID_Negative/KLVYKAQX.flac'), PosixPath('dataset/AUDIO_NEW/breathing/COVID_Negative/WZKVXFBU.flac'), PosixPath('dataset/AUDIO_NEW/breathing/COVID_Negative/RKPEMSJZ.flac'), PosixPath('dataset/AUDIO_NEW/breathing/COVID_Negative/LOICXJSY.flac'), PosixPath('dataset/AUDIO_NEW/breathing/COVID_Negative/RDACIDXE.flac'), PosixPath('dataset/AUDIO_NEW/breathing/COVID_Negative/PQOANEDF.flac'), PosixPath('dataset/AUDIO_NEW/breathing/COVID_Negative/NIPDEULM.flac'), PosixPath('dataset/AUDIO_NEW/breathing/COVID_Negative/FMIQSEEK.flac'), PosixPath('dataset/AUDIO_NEW/breathing/COVID_Negative/EADSJIPK.flac'), PosixPath('dataset/AUDIO_NEW/breathing/COVID_Negative/MXPLZZHQ.flac'), PosixPath('dataset/AUDIO_NEW/breathing/COVID_Negative/OBZRGYUB.flac'), PosixPath('dataset/AUDIO_NEW/breathing/COVID_Negative/RSKFHDUD.flac'), PosixPath('dataset/AUDIO_NEW/breathing/COVID_Negative/GRQNNTXK.flac'), PosixPath('dataset/AUDIO_NEW/breathing/COVID_Negative/CVBQXHGH.flac'), PosixPath('dataset/AUDIO_NEW/breathing/COVID_Negative/FDMTSKPE.flac'), PosixPath('dataset/AUDIO_NEW/breathing/COVID_Negative/FUWSTPYO.flac'), PosixPath('dataset/AUDIO_NEW/breathing/COVID_Negative/JCAVTOWO.flac'), PosixPath('dataset/AUDIO_NEW/breathing/COVID_Negative/IGSXXTBT.flac'), PosixPath('dataset/AUDIO_NEW/breathing/COVID_Negative/CFDCCMXB.flac'), PosixPath('dataset/AUDIO_NEW/breathing/COVID_Negative/JVGBDGOQ.flac'), PosixPath('dataset/AUDIO_NEW/breathing/COVID_Negative/EFGPFZEK.flac'), PosixPath('dataset/AUDIO_NEW/breathing/COVID_Negative/KAINOELW.flac'), PosixPath('dataset/AUDIO_NEW/breathing/COVID_Negative/OFVPVUNZ.flac'), PosixPath('dataset/AUDIO_NEW/breathing/COVID_Negative/KTXQSLVA.flac'), PosixPath('dataset/AUDIO_NEW/breathing/COVID_Negative/EPUZURRV.flac'), PosixPath('dataset/AUDIO_NEW/breathing/COVID_Negative/OFOILIER.flac'), PosixPath('dataset/AUDIO_NEW/breathing/COVID_Negative/SZKPMRME.flac'), PosixPath('dataset/AUDIO_NEW/breathing/COVID_Negative/EIFBVZCO.flac'), PosixPath('dataset/AUDIO_NEW/breathing/COVID_Negative/OZRROOCL.flac'), PosixPath('dataset/AUDIO_NEW/breathing/COVID_Negative/FCRXGOGB.flac'), PosixPath('dataset/AUDIO_NEW/breathing/COVID_Negative/BEZPREAA.flac'), PosixPath('dataset/AUDIO_NEW/breathing/COVID_Negative/ZHYGSXDB.flac'), PosixPath('dataset/AUDIO_NEW/breathing/COVID_Negative/GEOVUQZY.flac'), PosixPath('dataset/AUDIO_NEW/breathing/COVID_Negative/MTKDWKLF.flac'), PosixPath('dataset/AUDIO_NEW/breathing/COVID_Negative/YABQTANE.flac'), PosixPath('dataset/AUDIO_NEW/breathing/COVID_Negative/FHIRVICU.flac'), PosixPath('dataset/AUDIO_NEW/breathing/COVID_Negative/WZDXOGFD.flac'), PosixPath('dataset/AUDIO_NEW/breathing/COVID_Negative/EKTAGYMP.flac'), PosixPath('dataset/AUDIO_NEW/breathing/COVID_Negative/FMQPFTDJ.flac'), PosixPath('dataset/AUDIO_NEW/breathing/COVID_Negative/AEVVWNSS.flac'), PosixPath('dataset/AUDIO_NEW/breathing/COVID_Negative/YFJNNLJB.flac'), PosixPath('dataset/AUDIO_NEW/breathing/COVID_Negative/PRRKIFVZ.flac'), PosixPath('dataset/AUDIO_NEW/breathing/COVID_Negative/CHFOOVXI.flac'), PosixPath('dataset/AUDIO_NEW/breathing/COVID_Negative/YELSEECR.flac'), PosixPath('dataset/AUDIO_NEW/breathing/COVID_Negative/YHUGLQHV.flac'), PosixPath('dataset/AUDIO_NEW/breathing/COVID_Negative/HVFSFYLQ.flac'), PosixPath('dataset/AUDIO_NEW/breathing/COVID_Negative/EQBWYXXN.flac'), PosixPath('dataset/AUDIO_NEW/breathing/COVID_Negative/ZZZCJPYV.flac'), PosixPath('dataset/AUDIO_NEW/breathing/COVID_Negative/HTUZHMVC.flac'), PosixPath('dataset/AUDIO_NEW/breathing/COVID_Negative/HHICXDDX.flac'), PosixPath('dataset/AUDIO_NEW/breathing/COVID_Negative/QJQJBBZN.flac'), PosixPath('dataset/AUDIO_NEW/breathing/COVID_Negative/QGCTUWYM.flac'), PosixPath('dataset/AUDIO_NEW/breathing/COVID_Negative/EFKALRTO.flac'), PosixPath('dataset/AUDIO_NEW/breathing/COVID_Negative/DRQKVDVA.flac'), PosixPath('dataset/AUDIO_NEW/breathing/COVID_Negative/ZKADNZII.flac'), PosixPath('dataset/AUDIO_NEW/breathing/COVID_Negative/FZOBENWW.flac'), PosixPath('dataset/AUDIO_NEW/breathing/COVID_Negative/BLQGZTCL.flac'), PosixPath('dataset/AUDIO_NEW/breathing/COVID_Negative/WPDXXPMP.flac'), PosixPath('dataset/AUDIO_NEW/breathing/COVID_Negative/DHGQCKVV.flac'), PosixPath('dataset/AUDIO_NEW/breathing/COVID_Negative/THQDJCPA.flac'), PosixPath('dataset/AUDIO_NEW/breathing/COVID_Negative/BTYFGFGB.flac'), PosixPath('dataset/AUDIO_NEW/breathing/COVID_Negative/NKJBUQCM.flac'), PosixPath('dataset/AUDIO_NEW/breathing/COVID_Negative/OTYAODCT.flac'), PosixPath('dataset/AUDIO_NEW/breathing/COVID_Negative/YPYYZZEY.flac'), PosixPath('dataset/AUDIO_NEW/breathing/COVID_Negative/MPTKQFYC.flac'), PosixPath('dataset/AUDIO_NEW/breathing/COVID_Negative/BAHAIBOR.flac'), PosixPath('dataset/AUDIO_NEW/breathing/COVID_Negative/PLDVFBJD.flac'), PosixPath('dataset/AUDIO_NEW/breathing/COVID_Negative/RGXQOKTX.flac'), PosixPath('dataset/AUDIO_NEW/breathing/COVID_Negative/RCURYJOC.flac'), PosixPath('dataset/AUDIO_NEW/breathing/COVID_Negative/UHAXJDNH.flac'), PosixPath('dataset/AUDIO_NEW/breathing/COVID_Negative/WOHJCIXX.flac'), PosixPath('dataset/AUDIO_NEW/breathing/COVID_Negative/MIADVPBC.flac'), PosixPath('dataset/AUDIO_NEW/breathing/COVID_Negative/LKVIJLIA.flac'), PosixPath('dataset/AUDIO_NEW/breathing/COVID_Negative/BQAFNMCP.flac'), PosixPath('dataset/AUDIO_NEW/breathing/COVID_Negative/QJNDSOVZ.flac'), PosixPath('dataset/AUDIO_NEW/breathing/COVID_Negative/QRSGHRRE.flac'), PosixPath('dataset/AUDIO_NEW/breathing/COVID_Negative/GXCWSEIN.flac'), PosixPath('dataset/AUDIO_NEW/breathing/COVID_Negative/ZNBDPXVG.flac'), PosixPath('dataset/AUDIO_NEW/breathing/COVID_Negative/ISIFMIBD.flac'), PosixPath('dataset/AUDIO_NEW/breathing/COVID_Negative/XUDJFRGQ.flac'), PosixPath('dataset/AUDIO_NEW/breathing/COVID_Negative/XCZYMKHV.flac'), PosixPath('dataset/AUDIO_NEW/breathing/COVID_Negative/WGZWXCAZ.flac'), PosixPath('dataset/AUDIO_NEW/breathing/COVID_Negative/QGLJOBJY.flac'), PosixPath('dataset/AUDIO_NEW/breathing/COVID_Negative/QTANUPDP.flac'), PosixPath('dataset/AUDIO_NEW/breathing/COVID_Negative/OYCFALWR.flac'), PosixPath('dataset/AUDIO_NEW/breathing/COVID_Negative/ASGERLCQ.flac'), PosixPath('dataset/AUDIO_NEW/breathing/COVID_Negative/XIEBBTTQ.flac'), PosixPath('dataset/AUDIO_NEW/breathing/COVID_Negative/PUUPHMFR.flac'), PosixPath('dataset/AUDIO_NEW/breathing/COVID_Negative/SJCYYBAH.flac'), PosixPath('dataset/AUDIO_NEW/breathing/COVID_Negative/ONWLHOYP.flac'), PosixPath('dataset/AUDIO_NEW/breathing/COVID_Negative/MIQXTRFE.flac'), PosixPath('dataset/AUDIO_NEW/breathing/COVID_Negative/CPANEIEB.flac'), PosixPath('dataset/AUDIO_NEW/breathing/COVID_Negative/BZEMRELI.flac'), PosixPath('dataset/AUDIO_NEW/breathing/COVID_Negative/VBDYSBRB.flac'), PosixPath('dataset/AUDIO_NEW/breathing/COVID_Negative/JABBZRHY.flac'), PosixPath('dataset/AUDIO_NEW/breathing/COVID_Negative/JPDVYSGP.flac'), PosixPath('dataset/AUDIO_NEW/breathing/COVID_Negative/MDNRVGIE.flac'), PosixPath('dataset/AUDIO_NEW/breathing/COVID_Negative/MAQNUZTX.flac'), PosixPath('dataset/AUDIO_NEW/breathing/COVID_Negative/PEHETLCK.flac'), PosixPath('dataset/AUDIO_NEW/breathing/COVID_Negative/JGLFZBMX.flac'), PosixPath('dataset/AUDIO_NEW/breathing/COVID_Negative/AHXDHEST.flac'), PosixPath('dataset/AUDIO_NEW/breathing/COVID_Negative/FVHRHOZO.flac'), PosixPath('dataset/AUDIO_NEW/breathing/COVID_Negative/MJJBCBWD.flac'), PosixPath('dataset/AUDIO_NEW/breathing/COVID_Negative/QCFUVKCY.flac'), PosixPath('dataset/AUDIO_NEW/breathing/COVID_Negative/UDGUTECX.flac'), PosixPath('dataset/AUDIO_NEW/breathing/COVID_Negative/HKIDSGWC.flac'), PosixPath('dataset/AUDIO_NEW/breathing/COVID_Negative/SOIJDUNN.flac'), PosixPath('dataset/AUDIO_NEW/breathing/COVID_Negative/WRPUARJU.flac'), PosixPath('dataset/AUDIO_NEW/breathing/COVID_Negative/VLJWJSJA.flac'), PosixPath('dataset/AUDIO_NEW/breathing/COVID_Negative/RKEWQQUP.flac'), PosixPath('dataset/AUDIO_NEW/breathing/COVID_Negative/TDBTOYWI.flac'), PosixPath('dataset/AUDIO_NEW/breathing/COVID_Negative/UVTFUGFJ.flac'), PosixPath('dataset/AUDIO_NEW/breathing/COVID_Negative/FONIOYTJ.flac'), PosixPath('dataset/AUDIO_NEW/breathing/COVID_Negative/VVZDPYMS.flac'), PosixPath('dataset/AUDIO_NEW/breathing/COVID_Negative/WBHPRNAP.flac'), PosixPath('dataset/AUDIO_NEW/breathing/COVID_Negative/TFPVBTJK.flac'), PosixPath('dataset/AUDIO_NEW/breathing/COVID_Negative/QUEKGCAE.flac'), PosixPath('dataset/AUDIO_NEW/breathing/COVID_Negative/MWMRAFWA.flac'), PosixPath('dataset/AUDIO_NEW/breathing/COVID_Negative/FCRNLSBU.flac'), PosixPath('dataset/AUDIO_NEW/breathing/COVID_Negative/IABKNPNG.flac'), PosixPath('dataset/AUDIO_NEW/breathing/COVID_Negative/UXUHXDRP.flac'), PosixPath('dataset/AUDIO_NEW/breathing/COVID_Negative/HFVGIGIA.flac'), PosixPath('dataset/AUDIO_NEW/breathing/COVID_Negative/VXTYCHWE.flac'), PosixPath('dataset/AUDIO_NEW/breathing/COVID_Negative/MMIEYFOK.flac'), PosixPath('dataset/AUDIO_NEW/breathing/COVID_Negative/NTMWMAKP.flac'), PosixPath('dataset/AUDIO_NEW/breathing/COVID_Negative/CHPEIPIH.flac'), PosixPath('dataset/AUDIO_NEW/breathing/COVID_Negative/DMILFZNV.flac'), PosixPath('dataset/AUDIO_NEW/breathing/COVID_Negative/TSFSAKJE.flac'), PosixPath('dataset/AUDIO_NEW/breathing/COVID_Negative/SAGEJEMB.flac'), PosixPath('dataset/AUDIO_NEW/breathing/COVID_Negative/MTWGTXLO.flac'), PosixPath('dataset/AUDIO_NEW/breathing/COVID_Negative/DDZQLYQB.flac'), PosixPath('dataset/AUDIO_NEW/breathing/COVID_Negative/DMPHGMRR.flac'), PosixPath('dataset/AUDIO_NEW/breathing/COVID_Negative/NWYGJZKY.flac'), PosixPath('dataset/AUDIO_NEW/breathing/COVID_Negative/QYDAHFNO.flac'), PosixPath('dataset/AUDIO_NEW/breathing/COVID_Negative/PEWOMHJE.flac'), PosixPath('dataset/AUDIO_NEW/breathing/COVID_Negative/NODJFFZA.flac'), PosixPath('dataset/AUDIO_NEW/breathing/COVID_Negative/CWOOGTGM.flac'), PosixPath('dataset/AUDIO_NEW/breathing/COVID_Negative/SFFACVGJ.flac'), PosixPath('dataset/AUDIO_NEW/breathing/COVID_Negative/CTYJXVRA.flac'), PosixPath('dataset/AUDIO_NEW/breathing/COVID_Negative/LKKFKPCL.flac'), PosixPath('dataset/AUDIO_NEW/breathing/COVID_Negative/HDNGEKSR.flac'), PosixPath('dataset/AUDIO_NEW/breathing/COVID_Negative/BJZNZTMY.flac'), PosixPath('dataset/AUDIO_NEW/breathing/COVID_Negative/HXWFDUNS.flac'), PosixPath('dataset/AUDIO_NEW/breathing/COVID_Negative/TUZJZIEN.flac'), PosixPath('dataset/AUDIO_NEW/breathing/COVID_Negative/TLTIYTFU.flac'), PosixPath('dataset/AUDIO_NEW/breathing/COVID_Negative/TXLCWXKB.flac'), PosixPath('dataset/AUDIO_NEW/breathing/COVID_Negative/CXPCODCN.flac'), PosixPath('dataset/AUDIO_NEW/breathing/COVID_Negative/AHTQDTIL.flac'), PosixPath('dataset/AUDIO_NEW/breathing/COVID_Negative/MYWFDEIO.flac'), PosixPath('dataset/AUDIO_NEW/breathing/COVID_Negative/RDPSKHVX.flac'), PosixPath('dataset/AUDIO_NEW/breathing/COVID_Negative/BMOFMLLF.flac'), PosixPath('dataset/AUDIO_NEW/breathing/COVID_Negative/BMHENHMR.flac'), PosixPath('dataset/AUDIO_NEW/breathing/COVID_Negative/KZXTYOPH.flac'), PosixPath('dataset/AUDIO_NEW/breathing/COVID_Negative/FGGZCWFV.flac'), PosixPath('dataset/AUDIO_NEW/breathing/COVID_Negative/QDJYGTTH.flac'), PosixPath('dataset/AUDIO_NEW/breathing/COVID_Negative/CBTOQZAE.flac'), PosixPath('dataset/AUDIO_NEW/breathing/COVID_Negative/TRLATMGO.flac'), PosixPath('dataset/AUDIO_NEW/breathing/COVID_Negative/YOQQZIMH.flac'), PosixPath('dataset/AUDIO_NEW/breathing/COVID_Negative/DAAIPYJU.flac'), PosixPath('dataset/AUDIO_NEW/breathing/COVID_Negative/OILJJHKJ.flac'), PosixPath('dataset/AUDIO_NEW/breathing/COVID_Negative/FRYSHWOF.flac'), PosixPath('dataset/AUDIO_NEW/breathing/COVID_Negative/OVNQDZBN.flac'), PosixPath('dataset/AUDIO_NEW/breathing/COVID_Negative/NWKKSYMO.flac'), PosixPath('dataset/AUDIO_NEW/breathing/COVID_Negative/VGTYHJAM.flac'), PosixPath('dataset/AUDIO_NEW/breathing/COVID_Negative/MQFQUIZI.flac'), PosixPath('dataset/AUDIO_NEW/breathing/COVID_Negative/WGJGPFYS.flac'), PosixPath('dataset/AUDIO_NEW/breathing/COVID_Negative/FPRJSKVG.flac'), PosixPath('dataset/AUDIO_NEW/breathing/COVID_Negative/MYQKATFS.flac'), PosixPath('dataset/AUDIO_NEW/breathing/COVID_Negative/ZFXYSDHQ.flac'), PosixPath('dataset/AUDIO_NEW/breathing/COVID_Negative/LLATIRWA.flac'), PosixPath('dataset/AUDIO_NEW/breathing/COVID_Negative/PNZLKRBL.flac'), PosixPath('dataset/AUDIO_NEW/breathing/COVID_Negative/WHXPXKVF.flac'), PosixPath('dataset/AUDIO_NEW/breathing/COVID_Negative/MRRLIWHA.flac'), PosixPath('dataset/AUDIO_NEW/breathing/COVID_Negative/POFSFOUV.flac'), PosixPath('dataset/AUDIO_NEW/breathing/COVID_Negative/YJPRNDYV.flac'), PosixPath('dataset/AUDIO_NEW/breathing/COVID_Negative/ILDIECBN.flac'), PosixPath('dataset/AUDIO_NEW/breathing/COVID_Negative/RFOTZFAP.flac'), PosixPath('dataset/AUDIO_NEW/breathing/COVID_Negative/LJDZFUDF.flac'), PosixPath('dataset/AUDIO_NEW/breathing/COVID_Negative/AQPORRMJ.flac'), PosixPath('dataset/AUDIO_NEW/breathing/COVID_Negative/KTADEVOT.flac'), PosixPath('dataset/AUDIO_NEW/breathing/COVID_Negative/YQUPZEUJ.flac'), PosixPath('dataset/AUDIO_NEW/breathing/COVID_Negative/HJGWRTCO.flac'), PosixPath('dataset/AUDIO_NEW/breathing/COVID_Negative/FTQQDOIM.flac'), PosixPath('dataset/AUDIO_NEW/breathing/COVID_Negative/CZYRAAVU.flac'), PosixPath('dataset/AUDIO_NEW/breathing/COVID_Negative/AXSBGAGC.flac'), PosixPath('dataset/AUDIO_NEW/breathing/COVID_Negative/MBYTGRBI.flac'), PosixPath('dataset/AUDIO_NEW/breathing/COVID_Negative/VWJFOBTG.flac'), PosixPath('dataset/AUDIO_NEW/breathing/COVID_Negative/JSKNCBWT.flac'), PosixPath('dataset/AUDIO_NEW/breathing/COVID_Negative/LNFUNOIQ.flac'), PosixPath('dataset/AUDIO_NEW/breathing/COVID_Negative/ONJQQGNW.flac'), PosixPath('dataset/AUDIO_NEW/breathing/COVID_Negative/RRCPLVAJ.flac'), PosixPath('dataset/AUDIO_NEW/breathing/COVID_Negative/HGIMLAQT.flac'), PosixPath('dataset/AUDIO_NEW/breathing/COVID_Negative/GUMXUNCQ.flac'), PosixPath('dataset/AUDIO_NEW/breathing/COVID_Negative/UTRLGUCS.flac'), PosixPath('dataset/AUDIO_NEW/breathing/COVID_Negative/CXLXAECL.flac'), PosixPath('dataset/AUDIO_NEW/breathing/COVID_Negative/RZJVAWOW.flac'), PosixPath('dataset/AUDIO_NEW/breathing/COVID_Negative/CEGWOSJH.flac'), PosixPath('dataset/AUDIO_NEW/breathing/COVID_Negative/UKCBKMQI.flac'), PosixPath('dataset/AUDIO_NEW/breathing/COVID_Negative/JNDPZZNZ.flac'), PosixPath('dataset/AUDIO_NEW/breathing/COVID_Negative/CRYKVDTJ.flac'), PosixPath('dataset/AUDIO_NEW/breathing/COVID_Negative/OOBTLUIO.flac'), PosixPath('dataset/AUDIO_NEW/breathing/COVID_Negative/EVNSSADY.flac'), PosixPath('dataset/AUDIO_NEW/breathing/COVID_Negative/CILDWOEA.flac'), PosixPath('dataset/AUDIO_NEW/breathing/COVID_Negative/XSCTDUMG.flac'), PosixPath('dataset/AUDIO_NEW/breathing/COVID_Negative/OWLIGQEJ.flac'), PosixPath('dataset/AUDIO_NEW/breathing/COVID_Negative/GCJFDYCF.flac'), PosixPath('dataset/AUDIO_NEW/breathing/COVID_Negative/IZKZCOOI.flac'), PosixPath('dataset/AUDIO_NEW/breathing/COVID_Negative/HUCGUQGH.flac'), PosixPath('dataset/AUDIO_NEW/breathing/COVID_Negative/PYJRHKQL.flac'), PosixPath('dataset/AUDIO_NEW/breathing/COVID_Negative/DQEMIVYM.flac'), PosixPath('dataset/AUDIO_NEW/breathing/COVID_Negative/CYQWSHIY.flac'), PosixPath('dataset/AUDIO_NEW/breathing/COVID_Negative/QMPIRWJY.flac'), PosixPath('dataset/AUDIO_NEW/breathing/COVID_Negative/RVEBFGPA.flac'), PosixPath('dataset/AUDIO_NEW/breathing/COVID_Negative/TKPLQJNH.flac'), PosixPath('dataset/AUDIO_NEW/breathing/COVID_Negative/EAKGCVDI.flac'), PosixPath('dataset/AUDIO_NEW/breathing/COVID_Negative/DNJLMNSQ.flac'), PosixPath('dataset/AUDIO_NEW/breathing/COVID_Negative/PNRHWWDQ.flac'), PosixPath('dataset/AUDIO_NEW/breathing/COVID_Negative/WNNQZYNF.flac'), PosixPath('dataset/AUDIO_NEW/breathing/COVID_Negative/BUNWMKYN.flac'), PosixPath('dataset/AUDIO_NEW/breathing/COVID_Negative/WBZAAXVF.flac'), PosixPath('dataset/AUDIO_NEW/breathing/COVID_Negative/DGHMRMCD.flac'), PosixPath('dataset/AUDIO_NEW/breathing/COVID_Negative/MJOTTQOC.flac'), PosixPath('dataset/AUDIO_NEW/breathing/COVID_Negative/IVUSUUDW.flac'), PosixPath('dataset/AUDIO_NEW/breathing/COVID_Negative/BOGBJKJR.flac'), PosixPath('dataset/AUDIO_NEW/breathing/COVID_Negative/LSQCJKPK.flac'), PosixPath('dataset/AUDIO_NEW/breathing/COVID_Negative/GGRHQOKX.flac'), PosixPath('dataset/AUDIO_NEW/breathing/COVID_Negative/DBXEBUVF.flac'), PosixPath('dataset/AUDIO_NEW/breathing/COVID_Negative/ADSWRERI.flac'), PosixPath('dataset/AUDIO_NEW/breathing/COVID_Negative/XXPRRNNB.flac'), PosixPath('dataset/AUDIO_NEW/breathing/COVID_Negative/IRCVNJAP.flac'), PosixPath('dataset/AUDIO_NEW/breathing/COVID_Negative/OUJTPFFY.flac'), PosixPath('dataset/AUDIO_NEW/breathing/COVID_Negative/WCCCUNGT.flac'), PosixPath('dataset/AUDIO_NEW/breathing/COVID_Negative/KECMMMNP.flac'), PosixPath('dataset/AUDIO_NEW/breathing/COVID_Negative/LNMVQXHA.flac'), PosixPath('dataset/AUDIO_NEW/breathing/COVID_Negative/KIYVGTOH.flac'), PosixPath('dataset/AUDIO_NEW/breathing/COVID_Negative/ETUQCKAJ.flac'), PosixPath('dataset/AUDIO_NEW/breathing/COVID_Negative/EADBNFIG.flac'), PosixPath('dataset/AUDIO_NEW/breathing/COVID_Negative/ZTYKLVVK.flac'), PosixPath('dataset/AUDIO_NEW/breathing/COVID_Negative/BPYMHHWL.flac'), PosixPath('dataset/AUDIO_NEW/breathing/COVID_Negative/LZREFSWI.flac'), PosixPath('dataset/AUDIO_NEW/breathing/COVID_Negative/CVVXCBXQ.flac'), PosixPath('dataset/AUDIO_NEW/breathing/COVID_Negative/EOFWJUKO.flac'), PosixPath('dataset/AUDIO_NEW/breathing/COVID_Negative/PMFNTEOZ.flac'), PosixPath('dataset/AUDIO_NEW/breathing/COVID_Negative/NAKJKWOE.flac'), PosixPath('dataset/AUDIO_NEW/breathing/COVID_Negative/UPIMUZGL.flac'), PosixPath('dataset/AUDIO_NEW/breathing/COVID_Negative/KPLLELWL.flac'), PosixPath('dataset/AUDIO_NEW/breathing/COVID_Negative/AVSFTYJR.flac'), PosixPath('dataset/AUDIO_NEW/breathing/COVID_Negative/BKCTERDN.flac'), PosixPath('dataset/AUDIO_NEW/breathing/COVID_Negative/ZWPLLIDN.flac'), PosixPath('dataset/AUDIO_NEW/breathing/COVID_Negative/QXIZREKM.flac'), PosixPath('dataset/AUDIO_NEW/breathing/COVID_Negative/NMGWSZSB.flac'), PosixPath('dataset/AUDIO_NEW/breathing/COVID_Negative/RFGZBAAP.flac'), PosixPath('dataset/AUDIO_NEW/breathing/COVID_Negative/UHUKGHOL.flac'), PosixPath('dataset/AUDIO_NEW/breathing/COVID_Negative/BLKVVIBD.flac'), PosixPath('dataset/AUDIO_NEW/breathing/COVID_Negative/FNJTPUTE.flac'), PosixPath('dataset/AUDIO_NEW/breathing/COVID_Negative/HYYFNYZD.flac'), PosixPath('dataset/AUDIO_NEW/breathing/COVID_Negative/MVGMEJTR.flac'), PosixPath('dataset/AUDIO_NEW/breathing/COVID_Negative/VXLUANEJ.flac'), PosixPath('dataset/AUDIO_NEW/breathing/COVID_Negative/YNRAGKQB.flac'), PosixPath('dataset/AUDIO_NEW/breathing/COVID_Negative/QASKTBON.flac'), PosixPath('dataset/AUDIO_NEW/breathing/COVID_Negative/EWGIZLWB.flac'), PosixPath('dataset/AUDIO_NEW/breathing/COVID_Negative/JREHYICU.flac'), PosixPath('dataset/AUDIO_NEW/breathing/COVID_Negative/TTOOYPWH.flac'), PosixPath('dataset/AUDIO_NEW/breathing/COVID_Negative/SJQBYREA.flac'), PosixPath('dataset/AUDIO_NEW/breathing/COVID_Negative/YEXLSOIQ.flac'), PosixPath('dataset/AUDIO_NEW/breathing/COVID_Negative/AQYCPTGU.flac'), PosixPath('dataset/AUDIO_NEW/breathing/COVID_Negative/EARABCCG.flac'), PosixPath('dataset/AUDIO_NEW/breathing/COVID_Negative/KQFFCGAC.flac'), PosixPath('dataset/AUDIO_NEW/breathing/COVID_Negative/IJQNKWFH.flac'), PosixPath('dataset/AUDIO_NEW/breathing/COVID_Negative/VPKFJEIB.flac'), PosixPath('dataset/AUDIO_NEW/breathing/COVID_Negative/IISJGBHF.flac'), PosixPath('dataset/AUDIO_NEW/breathing/COVID_Negative/GDLUFIGU.flac'), PosixPath('dataset/AUDIO_NEW/breathing/COVID_Negative/DNDKRUID.flac'), PosixPath('dataset/AUDIO_NEW/breathing/COVID_Negative/UFETCRVK.flac'), PosixPath('dataset/AUDIO_NEW/breathing/COVID_Negative/TVBNLTWK.flac'), PosixPath('dataset/AUDIO_NEW/breathing/COVID_Negative/FUFAQZZF.flac'), PosixPath('dataset/AUDIO_NEW/breathing/COVID_Negative/KBUQINNT.flac'), PosixPath('dataset/AUDIO_NEW/breathing/COVID_Negative/YTHOSZYQ.flac'), PosixPath('dataset/AUDIO_NEW/breathing/COVID_Negative/XDPQUWOB.flac'), PosixPath('dataset/AUDIO_NEW/breathing/COVID_Negative/XOQEGMWF.flac'), PosixPath('dataset/AUDIO_NEW/breathing/COVID_Negative/WHXYWXSI.flac'), PosixPath('dataset/AUDIO_NEW/breathing/COVID_Negative/VSFMQRIN.flac'), PosixPath('dataset/AUDIO_NEW/breathing/COVID_Negative/QSFJNKAQ.flac'), PosixPath('dataset/AUDIO_NEW/breathing/COVID_Negative/MKNEBWST.flac'), PosixPath('dataset/AUDIO_NEW/breathing/COVID_Negative/BNOSSCXT.flac'), PosixPath('dataset/AUDIO_NEW/breathing/COVID_Negative/PPZYQLAE.flac'), PosixPath('dataset/AUDIO_NEW/breathing/COVID_Negative/EZGCUMQO.flac'), PosixPath('dataset/AUDIO_NEW/breathing/COVID_Negative/ZMKMXFPB.flac'), PosixPath('dataset/AUDIO_NEW/breathing/COVID_Negative/FITZMPHI.flac'), PosixPath('dataset/AUDIO_NEW/breathing/COVID_Negative/AQRZWCND.flac'), PosixPath('dataset/AUDIO_NEW/breathing/COVID_Negative/QMJWRIEU.flac'), PosixPath('dataset/AUDIO_NEW/breathing/COVID_Negative/BOPYQXJZ.flac'), PosixPath('dataset/AUDIO_NEW/breathing/COVID_Negative/GDOLSUHV.flac'), PosixPath('dataset/AUDIO_NEW/breathing/COVID_Negative/RKHBYLTU.flac'), PosixPath('dataset/AUDIO_NEW/breathing/COVID_Negative/QQXOACGH.flac'), PosixPath('dataset/AUDIO_NEW/breathing/COVID_Negative/WIFHVYIP.flac'), PosixPath('dataset/AUDIO_NEW/breathing/COVID_Negative/PSJPQAEO.flac'), PosixPath('dataset/AUDIO_NEW/breathing/COVID_Negative/JLFHIEXD.flac'), PosixPath('dataset/AUDIO_NEW/breathing/COVID_Negative/XJSWKJNW.flac'), PosixPath('dataset/AUDIO_NEW/breathing/COVID_Negative/VLUGCLGQ.flac'), PosixPath('dataset/AUDIO_NEW/breathing/COVID_Negative/HLSWVWOF.flac'), PosixPath('dataset/AUDIO_NEW/breathing/COVID_Negative/BASLAKSY.flac'), PosixPath('dataset/AUDIO_NEW/breathing/COVID_Negative/ZQXZXBQF.flac'), PosixPath('dataset/AUDIO_NEW/breathing/COVID_Negative/OPPXZGHR.flac'), PosixPath('dataset/AUDIO_NEW/breathing/COVID_Negative/SDNWKUNV.flac'), PosixPath('dataset/AUDIO_NEW/breathing/COVID_Negative/MGBAKYDP.flac'), PosixPath('dataset/AUDIO_NEW/breathing/COVID_Negative/HPEJPIRC.flac'), PosixPath('dataset/AUDIO_NEW/breathing/COVID_Negative/BLIXBFUJ.flac'), PosixPath('dataset/AUDIO_NEW/breathing/COVID_Negative/AWLIQFHX.flac'), PosixPath('dataset/AUDIO_NEW/breathing/COVID_Negative/MMCFMRBY.flac'), PosixPath('dataset/AUDIO_NEW/breathing/COVID_Negative/PMEGFZMU.flac'), PosixPath('dataset/AUDIO_NEW/breathing/COVID_Negative/PHQKIHGR.flac'), PosixPath('dataset/AUDIO_NEW/breathing/COVID_Negative/BIVQYXUB.flac'), PosixPath('dataset/AUDIO_NEW/breathing/COVID_Negative/WWGPWNRX.flac'), PosixPath('dataset/AUDIO_NEW/breathing/COVID_Negative/XPNQSOYR.flac'), PosixPath('dataset/AUDIO_NEW/breathing/COVID_Negative/GGLFOCDX.flac'), PosixPath('dataset/AUDIO_NEW/breathing/COVID_Negative/EHEKWVXF.flac'), PosixPath('dataset/AUDIO_NEW/breathing/COVID_Negative/MUHWKEZJ.flac'), PosixPath('dataset/AUDIO_NEW/breathing/COVID_Negative/QGYDKYQQ.flac'), PosixPath('dataset/AUDIO_NEW/breathing/COVID_Negative/JCROBEXQ.flac'), PosixPath('dataset/AUDIO_NEW/breathing/COVID_Negative/MZHJXSTP.flac'), PosixPath('dataset/AUDIO_NEW/breathing/COVID_Negative/SZEQUURK.flac'), PosixPath('dataset/AUDIO_NEW/breathing/COVID_Negative/FBGTCZDE.flac'), PosixPath('dataset/AUDIO_NEW/breathing/COVID_Negative/FBQPAXSW.flac'), PosixPath('dataset/AUDIO_NEW/breathing/COVID_Negative/WUNICQWB.flac'), PosixPath('dataset/AUDIO_NEW/breathing/COVID_Negative/EVKWRRBM.flac'), PosixPath('dataset/AUDIO_NEW/breathing/COVID_Negative/WGQOILQG.flac'), PosixPath('dataset/AUDIO_NEW/breathing/COVID_Negative/WSGPSGGD.flac'), PosixPath('dataset/AUDIO_NEW/breathing/COVID_Negative/YNXJUZLA.flac'), PosixPath('dataset/AUDIO_NEW/breathing/COVID_Negative/DJGRCEOS.flac'), PosixPath('dataset/AUDIO_NEW/breathing/COVID_Negative/HNDBYDNB.flac'), PosixPath('dataset/AUDIO_NEW/breathing/COVID_Negative/WJGZILBZ.flac'), PosixPath('dataset/AUDIO_NEW/breathing/COVID_Negative/DCSHUZIZ.flac'), PosixPath('dataset/AUDIO_NEW/breathing/COVID_Negative/OCMFPIBZ.flac'), PosixPath('dataset/AUDIO_NEW/breathing/COVID_Negative/OBJXHJNV.flac'), PosixPath('dataset/AUDIO_NEW/breathing/COVID_Negative/YJDSGPWL.flac'), PosixPath('dataset/AUDIO_NEW/breathing/COVID_Negative/TFVKGBYX.flac'), PosixPath('dataset/AUDIO_NEW/breathing/COVID_Negative/ZMOCHYWQ.flac'), PosixPath('dataset/AUDIO_NEW/breathing/COVID_Negative/WAHCWJOD.flac'), PosixPath('dataset/AUDIO_NEW/breathing/COVID_Negative/DQZJUHKF.flac'), PosixPath('dataset/AUDIO_NEW/breathing/COVID_Negative/BQWFTBPS.flac'), PosixPath('dataset/AUDIO_NEW/breathing/COVID_Negative/EVFRPYTN.flac'), PosixPath('dataset/AUDIO_NEW/breathing/COVID_Negative/NGDWKOJW.flac'), PosixPath('dataset/AUDIO_NEW/breathing/COVID_Negative/EDVGTJME.flac'), PosixPath('dataset/AUDIO_NEW/breathing/COVID_Negative/GYEZORLW.flac'), PosixPath('dataset/AUDIO_NEW/breathing/COVID_Negative/VRUGLHAF.flac'), PosixPath('dataset/AUDIO_NEW/breathing/COVID_Negative/CZXZWJOY.flac'), PosixPath('dataset/AUDIO_NEW/breathing/COVID_Negative/YVDVAJDC.flac'), PosixPath('dataset/AUDIO_NEW/breathing/COVID_Negative/AFMGBOAW.flac'), PosixPath('dataset/AUDIO_NEW/breathing/COVID_Negative/FBFXHWRE.flac'), PosixPath('dataset/AUDIO_NEW/breathing/COVID_Negative/BKCTGCKU.flac'), PosixPath('dataset/AUDIO_NEW/breathing/COVID_Negative/PBVRFNMC.flac'), PosixPath('dataset/AUDIO_NEW/breathing/COVID_Negative/VJTXMHPK.flac'), PosixPath('dataset/AUDIO_NEW/breathing/COVID_Negative/IJJRDWYC.flac'), PosixPath('dataset/AUDIO_NEW/breathing/COVID_Negative/KDTFWVIN.flac'), PosixPath('dataset/AUDIO_NEW/breathing/COVID_Negative/YGBLGZEF.flac'), PosixPath('dataset/AUDIO_NEW/breathing/COVID_Negative/SLEAVGLQ.flac'), PosixPath('dataset/AUDIO_NEW/breathing/COVID_Negative/ULFDXYAB.flac'), PosixPath('dataset/AUDIO_NEW/breathing/COVID_Negative/XUCDBLZC.flac'), PosixPath('dataset/AUDIO_NEW/breathing/COVID_Negative/XLIOSZXS.flac'), PosixPath('dataset/AUDIO_NEW/breathing/COVID_Negative/IOZVRELD.flac'), PosixPath('dataset/AUDIO_NEW/breathing/COVID_Negative/TWRYLYTW.flac'), PosixPath('dataset/AUDIO_NEW/breathing/COVID_Negative/JZFNZWKU.flac'), PosixPath('dataset/AUDIO_NEW/breathing/COVID_Negative/NVDIGDXP.flac'), PosixPath('dataset/AUDIO_NEW/breathing/COVID_Negative/EUANSICC.flac'), PosixPath('dataset/AUDIO_NEW/breathing/COVID_Negative/ZVDOEVEZ.flac'), PosixPath('dataset/AUDIO_NEW/breathing/COVID_Negative/VBHKKVHJ.flac'), PosixPath('dataset/AUDIO_NEW/breathing/COVID_Negative/LKQZGUSO.flac'), PosixPath('dataset/AUDIO_NEW/breathing/COVID_Negative/RQARGEVK.flac'), PosixPath('dataset/AUDIO_NEW/breathing/COVID_Negative/ZZMCBPNY.flac'), PosixPath('dataset/AUDIO_NEW/breathing/COVID_Negative/PZIXLYOY.flac'), PosixPath('dataset/AUDIO_NEW/breathing/COVID_Negative/ESAJHQUY.flac'), PosixPath('dataset/AUDIO_NEW/breathing/COVID_Negative/ERYUZYCO.flac'), PosixPath('dataset/AUDIO_NEW/breathing/COVID_Negative/XLSGYZFW.flac'), PosixPath('dataset/AUDIO_NEW/breathing/COVID_Negative/LOVHVSMD.flac'), PosixPath('dataset/AUDIO_NEW/breathing/COVID_Negative/YBZOCJEH.flac'), PosixPath('dataset/AUDIO_NEW/breathing/COVID_Negative/VRWPHPNG.flac'), PosixPath('dataset/AUDIO_NEW/breathing/COVID_Negative/LSINIRUQ.flac'), PosixPath('dataset/AUDIO_NEW/breathing/COVID_Negative/PJLJEORH.flac'), PosixPath('dataset/AUDIO_NEW/breathing/COVID_Negative/KTWEOGEF.flac'), PosixPath('dataset/AUDIO_NEW/breathing/COVID_Negative/GAWPRABQ.flac'), PosixPath('dataset/AUDIO_NEW/breathing/COVID_Negative/DZEREGIM.flac'), PosixPath('dataset/AUDIO_NEW/breathing/COVID_Negative/GQTXDFXJ.flac'), PosixPath('dataset/AUDIO_NEW/breathing/COVID_Negative/TVYMBDIW.flac'), PosixPath('dataset/AUDIO_NEW/breathing/COVID_Negative/EOZIDSTG.flac'), PosixPath('dataset/AUDIO_NEW/breathing/COVID_Negative/QMEFBDBH.flac'), PosixPath('dataset/AUDIO_NEW/breathing/COVID_Negative/GIOMHKGH.flac'), PosixPath('dataset/AUDIO_NEW/breathing/COVID_Negative/TWJITJJK.flac'), PosixPath('dataset/AUDIO_NEW/breathing/COVID_Negative/JHIFUBTN.flac'), PosixPath('dataset/AUDIO_NEW/breathing/COVID_Negative/JXJZAFRH.flac'), PosixPath('dataset/AUDIO_NEW/breathing/COVID_Negative/NBILRRNT.flac'), PosixPath('dataset/AUDIO_NEW/breathing/COVID_Negative/DXYCLJPA.flac'), PosixPath('dataset/AUDIO_NEW/breathing/COVID_Negative/FYMQUHLA.flac'), PosixPath('dataset/AUDIO_NEW/breathing/COVID_Negative/GSXCTFGZ.flac'), PosixPath('dataset/AUDIO_NEW/breathing/COVID_Negative/OQEKLFQD.flac'), PosixPath('dataset/AUDIO_NEW/breathing/COVID_Negative/HZOOWHAU.flac'), PosixPath('dataset/AUDIO_NEW/breathing/COVID_Negative/NVSCECDA.flac'), PosixPath('dataset/AUDIO_NEW/breathing/COVID_Negative/ZKZJWUUK.flac'), PosixPath('dataset/AUDIO_NEW/breathing/COVID_Negative/ZACXGJWL.flac'), PosixPath('dataset/AUDIO_NEW/breathing/COVID_Negative/XRAYBFVF.flac'), PosixPath('dataset/AUDIO_NEW/breathing/COVID_Negative/ZBMFULWZ.flac'), PosixPath('dataset/AUDIO_NEW/breathing/COVID_Negative/BQNBSELL.flac'), PosixPath('dataset/AUDIO_NEW/breathing/COVID_Negative/ECXQFSYC.flac'), PosixPath('dataset/AUDIO_NEW/breathing/COVID_Negative/VAWXIJDH.flac'), PosixPath('dataset/AUDIO_NEW/breathing/COVID_Negative/NCOVLAVX.flac'), PosixPath('dataset/AUDIO_NEW/breathing/COVID_Negative/ZSNOUBNJ.flac'), PosixPath('dataset/AUDIO_NEW/breathing/COVID_Negative/ZDQBWRHT.flac'), PosixPath('dataset/AUDIO_NEW/breathing/COVID_Negative/XWMNUSQF.flac'), PosixPath('dataset/AUDIO_NEW/breathing/COVID_Negative/SFNJPWPN.flac'), PosixPath('dataset/AUDIO_NEW/breathing/COVID_Negative/HHGJYJXT.flac'), PosixPath('dataset/AUDIO_NEW/breathing/COVID_Negative/VBLTWXDS.flac'), PosixPath('dataset/AUDIO_NEW/breathing/COVID_Negative/ACLAPDXF.flac'), PosixPath('dataset/AUDIO_NEW/breathing/COVID_Negative/YLAXTREN.flac'), PosixPath('dataset/AUDIO_NEW/breathing/COVID_Negative/WRCVKPRS.flac'), PosixPath('dataset/AUDIO_NEW/breathing/COVID_Negative/CMGALPVU.flac'), PosixPath('dataset/AUDIO_NEW/breathing/COVID_Negative/UOGDTUQT.flac'), PosixPath('dataset/AUDIO_NEW/breathing/COVID_Negative/TXWHQOPP.flac'), PosixPath('dataset/AUDIO_NEW/breathing/COVID_Negative/YTVXHGIY.flac'), PosixPath('dataset/AUDIO_NEW/breathing/COVID_Negative/MSTBAUCK.flac'), PosixPath('dataset/AUDIO_NEW/breathing/COVID_Negative/MSBVHAZR.flac'), PosixPath('dataset/AUDIO_NEW/breathing/COVID_Negative/QMDOXZMG.flac'), PosixPath('dataset/AUDIO_NEW/breathing/COVID_Negative/IUNJIVUN.flac'), PosixPath('dataset/AUDIO_NEW/breathing/COVID_Negative/SECEYHKG.flac'), PosixPath('dataset/AUDIO_NEW/breathing/COVID_Negative/OTQNZHOZ.flac'), PosixPath('dataset/AUDIO_NEW/breathing/COVID_Negative/QDDCPOTP.flac'), PosixPath('dataset/AUDIO_NEW/breathing/COVID_Negative/DKWCDKOR.flac'), PosixPath('dataset/AUDIO_NEW/breathing/COVID_Negative/WNMNYPSW.flac'), PosixPath('dataset/AUDIO_NEW/breathing/COVID_Negative/HTAQTXGV.flac'), PosixPath('dataset/AUDIO_NEW/breathing/COVID_Negative/PMFTVRRS.flac'), PosixPath('dataset/AUDIO_NEW/breathing/COVID_Negative/TVLPZLCG.flac'), PosixPath('dataset/AUDIO_NEW/breathing/COVID_Negative/VYMBASHB.flac'), PosixPath('dataset/AUDIO_NEW/breathing/COVID_Negative/MLPVAFZM.flac'), PosixPath('dataset/AUDIO_NEW/breathing/COVID_Negative/VVUGGXWW.flac'), PosixPath('dataset/AUDIO_NEW/breathing/COVID_Negative/WHMJITMY.flac'), PosixPath('dataset/AUDIO_NEW/breathing/COVID_Negative/HTCFAFDO.flac'), PosixPath('dataset/AUDIO_NEW/breathing/COVID_Negative/ZTDRNUTC.flac'), PosixPath('dataset/AUDIO_NEW/breathing/COVID_Negative/WCGACSLP.flac'), PosixPath('dataset/AUDIO_NEW/breathing/COVID_Negative/KMOXPLUW.flac'), PosixPath('dataset/AUDIO_NEW/breathing/COVID_Negative/VHWVLMPZ.flac'), PosixPath('dataset/AUDIO_NEW/breathing/COVID_Negative/NPHYFCYK.flac'), PosixPath('dataset/AUDIO_NEW/breathing/COVID_Negative/PDVWUZWF.flac'), PosixPath('dataset/AUDIO_NEW/breathing/COVID_Negative/XCELQJNH.flac'), PosixPath('dataset/AUDIO_NEW/breathing/COVID_Negative/MCNAFCEF.flac'), PosixPath('dataset/AUDIO_NEW/breathing/COVID_Negative/ILFDYDWF.flac'), PosixPath('dataset/AUDIO_NEW/breathing/COVID_Negative/YFIRDUDE.flac'), PosixPath('dataset/AUDIO_NEW/breathing/COVID_Negative/UQPZHUKM.flac'), PosixPath('dataset/AUDIO_NEW/breathing/COVID_Negative/UUNFXSWL.flac'), PosixPath('dataset/AUDIO_NEW/breathing/COVID_Negative/JKVQXDDS.flac'), PosixPath('dataset/AUDIO_NEW/breathing/COVID_Negative/MMZKJKFZ.flac'), PosixPath('dataset/AUDIO_NEW/breathing/COVID_Negative/MRVTUMNZ.flac'), PosixPath('dataset/AUDIO_NEW/breathing/COVID_Negative/HKQFIXPG.flac'), PosixPath('dataset/AUDIO_NEW/breathing/COVID_Negative/GCWPUSSE.flac'), PosixPath('dataset/AUDIO_NEW/breathing/COVID_Negative/HRAMCPHD.flac'), PosixPath('dataset/AUDIO_NEW/breathing/COVID_Negative/PMJCLCIS.flac'), PosixPath('dataset/AUDIO_NEW/breathing/COVID_Negative/LPSDPGSW.flac'), PosixPath('dataset/AUDIO_NEW/breathing/COVID_Negative/QIKGTPWR.flac'), PosixPath('dataset/AUDIO_NEW/breathing/COVID_Negative/VBGUQIFD.flac'), PosixPath('dataset/AUDIO_NEW/breathing/COVID_Negative/LAEEFKHG.flac')]! \n",
      "Number of positive samples: 34\n",
      "Number of negative samples: 158\n",
      "Completed creating features for [PosixPath('dataset/AUDIO_NEW/cough/COVID_Positive/LHAWOQOA.flac'), PosixPath('dataset/AUDIO_NEW/cough/COVID_Positive/VGXDXWBW.flac'), PosixPath('dataset/AUDIO_NEW/cough/COVID_Positive/XAWZQFQZ.flac'), PosixPath('dataset/AUDIO_NEW/cough/COVID_Positive/IZNQFPTZ.flac'), PosixPath('dataset/AUDIO_NEW/cough/COVID_Positive/YAFNLTYD.flac'), PosixPath('dataset/AUDIO_NEW/cough/COVID_Positive/ZALDIGPM.flac'), PosixPath('dataset/AUDIO_NEW/cough/COVID_Positive/MTVTPSZZ.flac'), PosixPath('dataset/AUDIO_NEW/cough/COVID_Positive/VMZHVYBP.flac'), PosixPath('dataset/AUDIO_NEW/cough/COVID_Positive/SRAVSZTB.flac'), PosixPath('dataset/AUDIO_NEW/cough/COVID_Positive/EHHDACVI.flac'), PosixPath('dataset/AUDIO_NEW/cough/COVID_Positive/UFIFXQAP.flac'), PosixPath('dataset/AUDIO_NEW/cough/COVID_Positive/RSNVHYQJ.flac'), PosixPath('dataset/AUDIO_NEW/cough/COVID_Positive/GAUSATWC.flac'), PosixPath('dataset/AUDIO_NEW/cough/COVID_Positive/OEBNCSCD.flac'), PosixPath('dataset/AUDIO_NEW/cough/COVID_Positive/WGLAXOFO.flac'), PosixPath('dataset/AUDIO_NEW/cough/COVID_Positive/BOMXACHU.flac'), PosixPath('dataset/AUDIO_NEW/cough/COVID_Positive/VEXPGKXS.flac'), PosixPath('dataset/AUDIO_NEW/cough/COVID_Positive/DKXPLQIT.flac'), PosixPath('dataset/AUDIO_NEW/cough/COVID_Positive/LDXQBHQV.flac'), PosixPath('dataset/AUDIO_NEW/cough/COVID_Positive/WDBFDLUX.flac'), PosixPath('dataset/AUDIO_NEW/cough/COVID_Positive/DZWZGUXL.flac'), PosixPath('dataset/AUDIO_NEW/cough/COVID_Positive/EEFEJDNQ.flac'), PosixPath('dataset/AUDIO_NEW/cough/COVID_Positive/ILQLERFN.flac'), PosixPath('dataset/AUDIO_NEW/cough/COVID_Positive/SOAJJJRJ.flac'), PosixPath('dataset/AUDIO_NEW/cough/COVID_Positive/ZOHJBAHB.flac'), PosixPath('dataset/AUDIO_NEW/cough/COVID_Positive/BYDNBEEK.flac'), PosixPath('dataset/AUDIO_NEW/cough/COVID_Positive/BQDUGOVT.flac'), PosixPath('dataset/AUDIO_NEW/cough/COVID_Positive/RHLWBBCI.flac'), PosixPath('dataset/AUDIO_NEW/cough/COVID_Positive/BWXXVSVX.flac'), PosixPath('dataset/AUDIO_NEW/cough/COVID_Positive/BBNYYTCZ.flac'), PosixPath('dataset/AUDIO_NEW/cough/COVID_Positive/VKQYYUNP.flac'), PosixPath('dataset/AUDIO_NEW/cough/COVID_Positive/ARVDHJXU.flac'), PosixPath('dataset/AUDIO_NEW/cough/COVID_Positive/FGYDTCSG.flac'), PosixPath('dataset/AUDIO_NEW/cough/COVID_Positive/UFQSDOZX.flac')] and [PosixPath('dataset/AUDIO_NEW/breathing/COVID_Negative/QVVWAVMF.flac'), PosixPath('dataset/AUDIO_NEW/breathing/COVID_Negative/XZBQKTSK.flac'), PosixPath('dataset/AUDIO_NEW/breathing/COVID_Negative/YDCZWUOH.flac'), PosixPath('dataset/AUDIO_NEW/breathing/COVID_Negative/VSEBEJDD.flac'), PosixPath('dataset/AUDIO_NEW/breathing/COVID_Negative/NRIKZRIX.flac'), PosixPath('dataset/AUDIO_NEW/breathing/COVID_Negative/WDEZVJVD.flac'), PosixPath('dataset/AUDIO_NEW/breathing/COVID_Negative/UQKFGZUI.flac'), PosixPath('dataset/AUDIO_NEW/breathing/COVID_Negative/QNLEWKPH.flac'), PosixPath('dataset/AUDIO_NEW/breathing/COVID_Negative/ZHBVQRYX.flac'), PosixPath('dataset/AUDIO_NEW/breathing/COVID_Negative/EIZMRTLF.flac'), PosixPath('dataset/AUDIO_NEW/breathing/COVID_Negative/FISKGDQI.flac'), PosixPath('dataset/AUDIO_NEW/breathing/COVID_Negative/CILWQDUL.flac'), PosixPath('dataset/AUDIO_NEW/breathing/COVID_Negative/UZRWYLSZ.flac'), PosixPath('dataset/AUDIO_NEW/breathing/COVID_Negative/HYIPCRDX.flac'), PosixPath('dataset/AUDIO_NEW/breathing/COVID_Negative/JBJKLSRU.flac'), PosixPath('dataset/AUDIO_NEW/breathing/COVID_Negative/IZDSFCGK.flac'), PosixPath('dataset/AUDIO_NEW/breathing/COVID_Negative/JIFGOBDL.flac'), PosixPath('dataset/AUDIO_NEW/breathing/COVID_Negative/GBUJZAML.flac'), PosixPath('dataset/AUDIO_NEW/breathing/COVID_Negative/YUYZEDWL.flac'), PosixPath('dataset/AUDIO_NEW/breathing/COVID_Negative/KPGPEOCQ.flac'), PosixPath('dataset/AUDIO_NEW/breathing/COVID_Negative/RNULDCCD.flac'), PosixPath('dataset/AUDIO_NEW/breathing/COVID_Negative/FNBGZJGB.flac'), PosixPath('dataset/AUDIO_NEW/breathing/COVID_Negative/MJWDQQMZ.flac'), PosixPath('dataset/AUDIO_NEW/breathing/COVID_Negative/RATHNBXM.flac'), PosixPath('dataset/AUDIO_NEW/breathing/COVID_Negative/HBGPBVNK.flac'), PosixPath('dataset/AUDIO_NEW/breathing/COVID_Negative/HTVKVBPE.flac'), PosixPath('dataset/AUDIO_NEW/breathing/COVID_Negative/DAOJYZLP.flac'), PosixPath('dataset/AUDIO_NEW/breathing/COVID_Negative/PGARVXOB.flac'), PosixPath('dataset/AUDIO_NEW/breathing/COVID_Negative/IXDYYRAA.flac'), PosixPath('dataset/AUDIO_NEW/breathing/COVID_Negative/ZAMULFCD.flac'), PosixPath('dataset/AUDIO_NEW/breathing/COVID_Negative/LPIGMFBS.flac'), PosixPath('dataset/AUDIO_NEW/breathing/COVID_Negative/EKOSCTDP.flac'), PosixPath('dataset/AUDIO_NEW/breathing/COVID_Negative/UIKPAYTQ.flac'), PosixPath('dataset/AUDIO_NEW/breathing/COVID_Negative/QEJJIHWU.flac'), PosixPath('dataset/AUDIO_NEW/breathing/COVID_Negative/MJUNVFVA.flac'), PosixPath('dataset/AUDIO_NEW/breathing/COVID_Negative/GNKTWAYU.flac'), PosixPath('dataset/AUDIO_NEW/breathing/COVID_Negative/WIMSSIHS.flac'), PosixPath('dataset/AUDIO_NEW/breathing/COVID_Negative/TFPDKUUB.flac'), PosixPath('dataset/AUDIO_NEW/breathing/COVID_Negative/NXEWOFPP.flac'), PosixPath('dataset/AUDIO_NEW/breathing/COVID_Negative/BYLIIJIF.flac'), PosixPath('dataset/AUDIO_NEW/breathing/COVID_Negative/KWPAYCJY.flac'), PosixPath('dataset/AUDIO_NEW/breathing/COVID_Negative/CYUYAUBW.flac'), PosixPath('dataset/AUDIO_NEW/breathing/COVID_Negative/KIOUCLNC.flac'), PosixPath('dataset/AUDIO_NEW/breathing/COVID_Negative/NUXMKRTG.flac'), PosixPath('dataset/AUDIO_NEW/breathing/COVID_Negative/KAHQELVQ.flac'), PosixPath('dataset/AUDIO_NEW/breathing/COVID_Negative/JFDWVLPR.flac'), PosixPath('dataset/AUDIO_NEW/breathing/COVID_Negative/OKKURGBW.flac'), PosixPath('dataset/AUDIO_NEW/breathing/COVID_Negative/TTOILUFY.flac'), PosixPath('dataset/AUDIO_NEW/breathing/COVID_Negative/OQRBAXQB.flac'), PosixPath('dataset/AUDIO_NEW/breathing/COVID_Negative/PIJSVYUF.flac'), PosixPath('dataset/AUDIO_NEW/breathing/COVID_Negative/SLDFYASD.flac'), PosixPath('dataset/AUDIO_NEW/breathing/COVID_Negative/EZBKORPS.flac'), PosixPath('dataset/AUDIO_NEW/breathing/COVID_Negative/IOXRXLGN.flac'), PosixPath('dataset/AUDIO_NEW/breathing/COVID_Negative/SWSNHYXQ.flac'), PosixPath('dataset/AUDIO_NEW/breathing/COVID_Negative/AXXYUZNB.flac'), PosixPath('dataset/AUDIO_NEW/breathing/COVID_Negative/BGQINZDF.flac'), PosixPath('dataset/AUDIO_NEW/breathing/COVID_Negative/UFQLAGZU.flac'), PosixPath('dataset/AUDIO_NEW/breathing/COVID_Negative/AGVUCEHF.flac'), PosixPath('dataset/AUDIO_NEW/breathing/COVID_Negative/HIZWMXQV.flac'), PosixPath('dataset/AUDIO_NEW/breathing/COVID_Negative/HWZGHNUV.flac'), PosixPath('dataset/AUDIO_NEW/breathing/COVID_Negative/JYGPPNLO.flac'), PosixPath('dataset/AUDIO_NEW/breathing/COVID_Negative/BRFBRYNH.flac'), PosixPath('dataset/AUDIO_NEW/breathing/COVID_Negative/RIRKLDOP.flac'), PosixPath('dataset/AUDIO_NEW/breathing/COVID_Negative/GZSOKKGU.flac'), PosixPath('dataset/AUDIO_NEW/breathing/COVID_Negative/TUSNQCSS.flac'), PosixPath('dataset/AUDIO_NEW/breathing/COVID_Negative/WNMVYPYC.flac'), PosixPath('dataset/AUDIO_NEW/breathing/COVID_Negative/VSOQCRRM.flac'), PosixPath('dataset/AUDIO_NEW/breathing/COVID_Negative/QEECDWID.flac'), PosixPath('dataset/AUDIO_NEW/breathing/COVID_Negative/CFOZNKVX.flac'), PosixPath('dataset/AUDIO_NEW/breathing/COVID_Negative/RJNACDMA.flac'), PosixPath('dataset/AUDIO_NEW/breathing/COVID_Negative/DGVBOXRD.flac'), PosixPath('dataset/AUDIO_NEW/breathing/COVID_Negative/QCSVTKAG.flac'), PosixPath('dataset/AUDIO_NEW/breathing/COVID_Negative/TJNXHKLG.flac'), PosixPath('dataset/AUDIO_NEW/breathing/COVID_Negative/YDQGQEJY.flac'), PosixPath('dataset/AUDIO_NEW/breathing/COVID_Negative/JWDLTRNW.flac'), PosixPath('dataset/AUDIO_NEW/breathing/COVID_Negative/JSZMZDPR.flac'), PosixPath('dataset/AUDIO_NEW/breathing/COVID_Negative/VLGLJOHZ.flac'), PosixPath('dataset/AUDIO_NEW/breathing/COVID_Negative/BLLALITL.flac'), PosixPath('dataset/AUDIO_NEW/breathing/COVID_Negative/TIKMUJBL.flac'), PosixPath('dataset/AUDIO_NEW/breathing/COVID_Negative/KFOWNALN.flac'), PosixPath('dataset/AUDIO_NEW/breathing/COVID_Negative/WEOSJWAR.flac'), PosixPath('dataset/AUDIO_NEW/breathing/COVID_Negative/CDKOVAAF.flac'), PosixPath('dataset/AUDIO_NEW/breathing/COVID_Negative/JCQYJDPD.flac'), PosixPath('dataset/AUDIO_NEW/breathing/COVID_Negative/CEESRFAY.flac'), PosixPath('dataset/AUDIO_NEW/breathing/COVID_Negative/KNMPOTAM.flac'), PosixPath('dataset/AUDIO_NEW/breathing/COVID_Negative/RNRWJMQY.flac'), PosixPath('dataset/AUDIO_NEW/breathing/COVID_Negative/OOFLPSLD.flac'), PosixPath('dataset/AUDIO_NEW/breathing/COVID_Negative/XHSLIVFZ.flac'), PosixPath('dataset/AUDIO_NEW/breathing/COVID_Negative/YNMPOWMJ.flac'), PosixPath('dataset/AUDIO_NEW/breathing/COVID_Negative/KWBDTRUO.flac'), PosixPath('dataset/AUDIO_NEW/breathing/COVID_Negative/MRPWKEZE.flac'), PosixPath('dataset/AUDIO_NEW/breathing/COVID_Negative/PBMZKAMG.flac'), PosixPath('dataset/AUDIO_NEW/breathing/COVID_Negative/QWZGKNXN.flac'), PosixPath('dataset/AUDIO_NEW/breathing/COVID_Negative/HHEHCVKI.flac'), PosixPath('dataset/AUDIO_NEW/breathing/COVID_Negative/ZUHFTYAC.flac'), PosixPath('dataset/AUDIO_NEW/breathing/COVID_Negative/OPCIRRLE.flac'), PosixPath('dataset/AUDIO_NEW/breathing/COVID_Negative/YYNTGXHR.flac'), PosixPath('dataset/AUDIO_NEW/breathing/COVID_Negative/CTVXCLUT.flac'), PosixPath('dataset/AUDIO_NEW/breathing/COVID_Negative/CAUFHZEE.flac'), PosixPath('dataset/AUDIO_NEW/breathing/COVID_Negative/AKZNODSB.flac'), PosixPath('dataset/AUDIO_NEW/breathing/COVID_Negative/XIGZLRQW.flac'), PosixPath('dataset/AUDIO_NEW/breathing/COVID_Negative/LUQKGBJU.flac'), PosixPath('dataset/AUDIO_NEW/breathing/COVID_Negative/TSZUKQEY.flac'), PosixPath('dataset/AUDIO_NEW/breathing/COVID_Negative/ILDGBTKL.flac'), PosixPath('dataset/AUDIO_NEW/breathing/COVID_Negative/UYESHKIZ.flac'), PosixPath('dataset/AUDIO_NEW/breathing/COVID_Negative/VFMLUBVA.flac'), PosixPath('dataset/AUDIO_NEW/breathing/COVID_Negative/RVRUSVFU.flac'), PosixPath('dataset/AUDIO_NEW/breathing/COVID_Negative/BXBNMRCP.flac'), PosixPath('dataset/AUDIO_NEW/breathing/COVID_Negative/FGTNZSTY.flac'), PosixPath('dataset/AUDIO_NEW/breathing/COVID_Negative/ECRQIHWC.flac'), PosixPath('dataset/AUDIO_NEW/breathing/COVID_Negative/RBBOQYEV.flac'), PosixPath('dataset/AUDIO_NEW/breathing/COVID_Negative/WKPYQEPK.flac'), PosixPath('dataset/AUDIO_NEW/breathing/COVID_Negative/CTARUMOJ.flac'), PosixPath('dataset/AUDIO_NEW/breathing/COVID_Negative/PVOBFOGQ.flac'), PosixPath('dataset/AUDIO_NEW/breathing/COVID_Negative/CSWGJXWP.flac'), PosixPath('dataset/AUDIO_NEW/breathing/COVID_Negative/ONOTPBTG.flac'), PosixPath('dataset/AUDIO_NEW/breathing/COVID_Negative/FYYDNDDH.flac'), PosixPath('dataset/AUDIO_NEW/breathing/COVID_Negative/KFSAZMYX.flac'), PosixPath('dataset/AUDIO_NEW/breathing/COVID_Negative/RENULYPT.flac'), PosixPath('dataset/AUDIO_NEW/breathing/COVID_Negative/JXMZTTQM.flac'), PosixPath('dataset/AUDIO_NEW/breathing/COVID_Negative/XOVVNURO.flac'), PosixPath('dataset/AUDIO_NEW/breathing/COVID_Negative/OGPPZDKI.flac'), PosixPath('dataset/AUDIO_NEW/breathing/COVID_Negative/XEQWVUAB.flac'), PosixPath('dataset/AUDIO_NEW/breathing/COVID_Negative/IMXXDFSZ.flac'), PosixPath('dataset/AUDIO_NEW/breathing/COVID_Negative/HUDPGNFQ.flac'), PosixPath('dataset/AUDIO_NEW/breathing/COVID_Negative/SACIIKPU.flac'), PosixPath('dataset/AUDIO_NEW/breathing/COVID_Negative/TEOWORGS.flac'), PosixPath('dataset/AUDIO_NEW/breathing/COVID_Negative/OWDNLDWL.flac'), PosixPath('dataset/AUDIO_NEW/breathing/COVID_Negative/EKOHCANS.flac'), PosixPath('dataset/AUDIO_NEW/breathing/COVID_Negative/RXUBUCCN.flac'), PosixPath('dataset/AUDIO_NEW/breathing/COVID_Negative/TSKYEVMV.flac'), PosixPath('dataset/AUDIO_NEW/breathing/COVID_Negative/BOGVZXCJ.flac'), PosixPath('dataset/AUDIO_NEW/breathing/COVID_Negative/ITTUDODS.flac'), PosixPath('dataset/AUDIO_NEW/breathing/COVID_Negative/DGKYFAJM.flac'), PosixPath('dataset/AUDIO_NEW/breathing/COVID_Negative/RCKSGRZU.flac'), PosixPath('dataset/AUDIO_NEW/breathing/COVID_Negative/BSTTTNIY.flac'), PosixPath('dataset/AUDIO_NEW/breathing/COVID_Negative/DRCEAKUZ.flac'), PosixPath('dataset/AUDIO_NEW/breathing/COVID_Negative/HFLHVMMB.flac'), PosixPath('dataset/AUDIO_NEW/breathing/COVID_Negative/BAJDHDLE.flac'), PosixPath('dataset/AUDIO_NEW/breathing/COVID_Negative/CGIBOVKK.flac'), PosixPath('dataset/AUDIO_NEW/breathing/COVID_Negative/BMPQEXLH.flac'), PosixPath('dataset/AUDIO_NEW/breathing/COVID_Negative/HZSCMMOT.flac'), PosixPath('dataset/AUDIO_NEW/breathing/COVID_Negative/XOEMICRX.flac'), PosixPath('dataset/AUDIO_NEW/breathing/COVID_Negative/JISUZQHJ.flac'), PosixPath('dataset/AUDIO_NEW/breathing/COVID_Negative/JYDGBSYL.flac'), PosixPath('dataset/AUDIO_NEW/breathing/COVID_Negative/MTMZQOQU.flac'), PosixPath('dataset/AUDIO_NEW/breathing/COVID_Negative/RHDNXKED.flac'), PosixPath('dataset/AUDIO_NEW/breathing/COVID_Negative/HYVYXSCB.flac'), PosixPath('dataset/AUDIO_NEW/breathing/COVID_Negative/SSCKVNDN.flac'), PosixPath('dataset/AUDIO_NEW/breathing/COVID_Negative/KPTENCMG.flac'), PosixPath('dataset/AUDIO_NEW/breathing/COVID_Negative/VEZLFNEL.flac'), PosixPath('dataset/AUDIO_NEW/breathing/COVID_Negative/FAYAIBQU.flac'), PosixPath('dataset/AUDIO_NEW/breathing/COVID_Negative/ZBSUMCIO.flac'), PosixPath('dataset/AUDIO_NEW/breathing/COVID_Negative/OLOJOLQJ.flac'), PosixPath('dataset/AUDIO_NEW/breathing/COVID_Negative/AWBEGKDR.flac'), PosixPath('dataset/AUDIO_NEW/breathing/COVID_Negative/PIQGNUVC.flac'), PosixPath('dataset/AUDIO_NEW/breathing/COVID_Negative/KGSJHWXW.flac'), PosixPath('dataset/AUDIO_NEW/breathing/COVID_Negative/WPODUPZU.flac')]! \n",
      "Number of positive samples: 828\n",
      "log_mel_spectrogram == 0:  /Users/opheliasin/covid-detection/dataset/AUDIO_NEW/cough/COVID_Negative/TMWZXJNT.flac\n",
      "Number of negative samples: 635\n",
      "Completed creating features for [PosixPath('dataset/AUDIO_NEW/cough/COVID_Positive/LWGYMJSP.flac'), PosixPath('dataset/AUDIO_NEW/cough/COVID_Positive/RAZZZUHF.flac'), PosixPath('dataset/AUDIO_NEW/cough/COVID_Positive/IMVMQMPG.flac'), PosixPath('dataset/AUDIO_NEW/cough/COVID_Positive/GDWOVBBO.flac'), PosixPath('dataset/AUDIO_NEW/cough/COVID_Positive/MEVKZFWH.flac'), PosixPath('dataset/AUDIO_NEW/cough/COVID_Positive/JQLDLKIU.flac'), PosixPath('dataset/AUDIO_NEW/cough/COVID_Positive/GPGASWOP.flac'), PosixPath('dataset/AUDIO_NEW/cough/COVID_Positive/AFOHJNUB.flac'), PosixPath('dataset/AUDIO_NEW/cough/COVID_Positive/PRAXIPZS.flac'), PosixPath('dataset/AUDIO_NEW/cough/COVID_Positive/XDZIBGME.flac'), PosixPath('dataset/AUDIO_NEW/cough/COVID_Positive/TTJCNUWS.flac'), PosixPath('dataset/AUDIO_NEW/cough/COVID_Positive/QXNGHUAD.flac'), PosixPath('dataset/AUDIO_NEW/cough/COVID_Positive/HMUZRBFK.flac'), PosixPath('dataset/AUDIO_NEW/cough/COVID_Positive/DRMJWSBI.flac'), PosixPath('dataset/AUDIO_NEW/cough/COVID_Positive/WVOEVNCU.flac'), PosixPath('dataset/AUDIO_NEW/cough/COVID_Positive/VCTMLMTB.flac'), PosixPath('dataset/AUDIO_NEW/cough/COVID_Positive/RAQRLISN.flac'), PosixPath('dataset/AUDIO_NEW/cough/COVID_Positive/JRVXFFDL.flac'), PosixPath('dataset/AUDIO_NEW/cough/COVID_Positive/ERFZNNFK.flac'), PosixPath('dataset/AUDIO_NEW/cough/COVID_Positive/ULMHNFLI.flac'), PosixPath('dataset/AUDIO_NEW/cough/COVID_Positive/CKRDCAJH.flac'), PosixPath('dataset/AUDIO_NEW/cough/COVID_Positive/VLQKSTCA.flac'), PosixPath('dataset/AUDIO_NEW/cough/COVID_Positive/PGBDRKJQ.flac'), PosixPath('dataset/AUDIO_NEW/cough/COVID_Positive/JRIDBTOH.flac'), PosixPath('dataset/AUDIO_NEW/cough/COVID_Positive/YSRLDVCS.flac'), PosixPath('dataset/AUDIO_NEW/cough/COVID_Positive/AXWINTYF.flac'), PosixPath('dataset/AUDIO_NEW/cough/COVID_Positive/KDYLNCDL.flac'), PosixPath('dataset/AUDIO_NEW/cough/COVID_Positive/YVZNNTAW.flac'), PosixPath('dataset/AUDIO_NEW/cough/COVID_Positive/ALBIXZJY.flac'), PosixPath('dataset/AUDIO_NEW/cough/COVID_Positive/DXMUJJZO.flac'), PosixPath('dataset/AUDIO_NEW/cough/COVID_Positive/TFGKRHUM.flac'), PosixPath('dataset/AUDIO_NEW/cough/COVID_Positive/AJGPTLEM.flac'), PosixPath('dataset/AUDIO_NEW/cough/COVID_Positive/EJUCFCMP.flac'), PosixPath('dataset/AUDIO_NEW/cough/COVID_Positive/JXCPSHIB.flac'), PosixPath('dataset/AUDIO_NEW/cough/COVID_Positive/THSEVCAS.flac'), PosixPath('dataset/AUDIO_NEW/cough/COVID_Positive/VDYIGEGY.flac'), PosixPath('dataset/AUDIO_NEW/cough/COVID_Positive/ASFNYPIP.flac'), PosixPath('dataset/AUDIO_NEW/cough/COVID_Positive/SGISFSZA.flac'), PosixPath('dataset/AUDIO_NEW/cough/COVID_Positive/UAWKKNHF.flac'), PosixPath('dataset/AUDIO_NEW/cough/COVID_Positive/ABEEJBTZ.flac'), PosixPath('dataset/AUDIO_NEW/cough/COVID_Positive/YJYUSESA.flac'), PosixPath('dataset/AUDIO_NEW/cough/COVID_Positive/YZFQUGFD.flac'), PosixPath('dataset/AUDIO_NEW/cough/COVID_Positive/JLISAUWH.flac'), PosixPath('dataset/AUDIO_NEW/cough/COVID_Positive/GNIJMSNO.flac'), PosixPath('dataset/AUDIO_NEW/cough/COVID_Positive/OTHQLMSW.flac'), PosixPath('dataset/AUDIO_NEW/cough/COVID_Positive/DYQIILYA.flac'), PosixPath('dataset/AUDIO_NEW/cough/COVID_Positive/FXTZOQME.flac'), PosixPath('dataset/AUDIO_NEW/cough/COVID_Positive/UFEPYKMD.flac'), PosixPath('dataset/AUDIO_NEW/cough/COVID_Positive/DOBXWEAK.flac'), PosixPath('dataset/AUDIO_NEW/cough/COVID_Positive/CYZRARSB.flac'), PosixPath('dataset/AUDIO_NEW/cough/COVID_Positive/UVNYKHCA.flac'), PosixPath('dataset/AUDIO_NEW/cough/COVID_Positive/MAQAUBAA.flac'), PosixPath('dataset/AUDIO_NEW/cough/COVID_Positive/LWWBEEQE.flac'), PosixPath('dataset/AUDIO_NEW/cough/COVID_Positive/MPTVAMFL.flac'), PosixPath('dataset/AUDIO_NEW/cough/COVID_Positive/FTBMVHFC.flac'), PosixPath('dataset/AUDIO_NEW/cough/COVID_Positive/PXOBLVGW.flac'), PosixPath('dataset/AUDIO_NEW/cough/COVID_Positive/MWVGAAEI.flac'), PosixPath('dataset/AUDIO_NEW/cough/COVID_Positive/YTUUEWTN.flac'), PosixPath('dataset/AUDIO_NEW/cough/COVID_Positive/ZIVMGJDH.flac'), PosixPath('dataset/AUDIO_NEW/cough/COVID_Positive/VVXAOBIQ.flac'), PosixPath('dataset/AUDIO_NEW/cough/COVID_Positive/HBJDPFKX.flac'), PosixPath('dataset/AUDIO_NEW/cough/COVID_Positive/PADSFUKF.flac'), PosixPath('dataset/AUDIO_NEW/cough/COVID_Positive/VIHAYLIR.flac'), PosixPath('dataset/AUDIO_NEW/cough/COVID_Positive/JDCTZUCQ.flac'), PosixPath('dataset/AUDIO_NEW/cough/COVID_Positive/KUEYJJHT.flac'), PosixPath('dataset/AUDIO_NEW/cough/COVID_Positive/EJVCCKSN.flac'), PosixPath('dataset/AUDIO_NEW/cough/COVID_Positive/UCBREFEO.flac'), PosixPath('dataset/AUDIO_NEW/cough/COVID_Positive/UVTEGCPD.flac'), PosixPath('dataset/AUDIO_NEW/cough/COVID_Positive/VEZCLNIH.flac'), PosixPath('dataset/AUDIO_NEW/cough/COVID_Positive/JGFKEWPJ.flac'), PosixPath('dataset/AUDIO_NEW/cough/COVID_Positive/ZUYTFZYB.flac'), PosixPath('dataset/AUDIO_NEW/cough/COVID_Positive/RMVYQUCU.flac'), PosixPath('dataset/AUDIO_NEW/cough/COVID_Positive/SBGLANZL.flac'), PosixPath('dataset/AUDIO_NEW/cough/COVID_Positive/RIGPNZYT.flac'), PosixPath('dataset/AUDIO_NEW/cough/COVID_Positive/HWTKPWRX.flac'), PosixPath('dataset/AUDIO_NEW/cough/COVID_Positive/AKEKAWSC.flac'), PosixPath('dataset/AUDIO_NEW/cough/COVID_Positive/UQMJSSEM.flac'), PosixPath('dataset/AUDIO_NEW/cough/COVID_Positive/AHZMVOLO.flac'), PosixPath('dataset/AUDIO_NEW/cough/COVID_Positive/YOIZLTMI.flac'), PosixPath('dataset/AUDIO_NEW/cough/COVID_Positive/HJVPBHIK.flac'), PosixPath('dataset/AUDIO_NEW/cough/COVID_Positive/EMRLKJCU.flac'), PosixPath('dataset/AUDIO_NEW/cough/COVID_Positive/LZPQDKKB.flac'), PosixPath('dataset/AUDIO_NEW/cough/COVID_Positive/LTLUEBKB.flac'), PosixPath('dataset/AUDIO_NEW/cough/COVID_Positive/EKDSASKT.flac'), PosixPath('dataset/AUDIO_NEW/cough/COVID_Positive/GSCDSZVF.flac'), PosixPath('dataset/AUDIO_NEW/cough/COVID_Positive/ALVEHKKL.flac'), PosixPath('dataset/AUDIO_NEW/cough/COVID_Positive/GLWCAKZT.flac'), PosixPath('dataset/AUDIO_NEW/cough/COVID_Positive/KFDUHMPN.flac'), PosixPath('dataset/AUDIO_NEW/cough/COVID_Positive/VDGXGAKJ.flac'), PosixPath('dataset/AUDIO_NEW/cough/COVID_Positive/RTHBTMSA.flac'), PosixPath('dataset/AUDIO_NEW/cough/COVID_Positive/OIDXSCNZ.flac'), PosixPath('dataset/AUDIO_NEW/cough/COVID_Positive/MFOVBTXY.flac'), PosixPath('dataset/AUDIO_NEW/cough/COVID_Positive/XKSBYHAB.flac'), PosixPath('dataset/AUDIO_NEW/cough/COVID_Positive/XOXIOPIG.flac'), PosixPath('dataset/AUDIO_NEW/cough/COVID_Positive/NWAXMTAI.flac'), PosixPath('dataset/AUDIO_NEW/cough/COVID_Positive/ALWLORJT.flac'), PosixPath('dataset/AUDIO_NEW/cough/COVID_Positive/BIATZVOE.flac'), PosixPath('dataset/AUDIO_NEW/cough/COVID_Positive/IQYUYXTF.flac'), PosixPath('dataset/AUDIO_NEW/cough/COVID_Positive/WHDWROXM.flac'), PosixPath('dataset/AUDIO_NEW/cough/COVID_Positive/VBIAHODB.flac'), PosixPath('dataset/AUDIO_NEW/cough/COVID_Positive/BVOJGHZS.flac'), PosixPath('dataset/AUDIO_NEW/cough/COVID_Positive/KOOTDZHZ.flac'), PosixPath('dataset/AUDIO_NEW/cough/COVID_Positive/WYJAGBSH.flac'), PosixPath('dataset/AUDIO_NEW/cough/COVID_Positive/VDSQQXMU.flac'), PosixPath('dataset/AUDIO_NEW/cough/COVID_Positive/VPCPFQVJ.flac'), PosixPath('dataset/AUDIO_NEW/cough/COVID_Positive/YJMSPOGD.flac'), PosixPath('dataset/AUDIO_NEW/cough/COVID_Positive/JKWWXNJA.flac'), PosixPath('dataset/AUDIO_NEW/cough/COVID_Positive/IFPRPNRB.flac'), PosixPath('dataset/AUDIO_NEW/cough/COVID_Positive/RLAOCLTO.flac'), PosixPath('dataset/AUDIO_NEW/cough/COVID_Positive/HKBIVTRW.flac'), PosixPath('dataset/AUDIO_NEW/cough/COVID_Positive/ZOIYEWCJ.flac'), PosixPath('dataset/AUDIO_NEW/cough/COVID_Positive/IQLDNYJA.flac'), PosixPath('dataset/AUDIO_NEW/cough/COVID_Positive/HISLBGDT.flac'), PosixPath('dataset/AUDIO_NEW/cough/COVID_Positive/NOYALWYW.flac'), PosixPath('dataset/AUDIO_NEW/cough/COVID_Positive/CEWKRUIC.flac'), PosixPath('dataset/AUDIO_NEW/cough/COVID_Positive/IOHZIUVB.flac'), PosixPath('dataset/AUDIO_NEW/cough/COVID_Positive/ZDEBFQCC.flac'), PosixPath('dataset/AUDIO_NEW/cough/COVID_Positive/UWYAUHCW.flac'), PosixPath('dataset/AUDIO_NEW/cough/COVID_Positive/ETTUXRXB.flac'), PosixPath('dataset/AUDIO_NEW/cough/COVID_Positive/YVOTIZVE.flac'), PosixPath('dataset/AUDIO_NEW/cough/COVID_Positive/ABVXITDD.flac'), PosixPath('dataset/AUDIO_NEW/cough/COVID_Positive/HRDZUCAZ.flac'), PosixPath('dataset/AUDIO_NEW/cough/COVID_Positive/WXWPGFPH.flac'), PosixPath('dataset/AUDIO_NEW/cough/COVID_Positive/UXWQTBMI.flac'), PosixPath('dataset/AUDIO_NEW/cough/COVID_Positive/XALJVEOO.flac'), PosixPath('dataset/AUDIO_NEW/cough/COVID_Positive/RCROGMKQ.flac'), PosixPath('dataset/AUDIO_NEW/cough/COVID_Positive/RACYUHKY.flac'), PosixPath('dataset/AUDIO_NEW/cough/COVID_Positive/TFNTVHHQ.flac'), PosixPath('dataset/AUDIO_NEW/cough/COVID_Positive/NAQJDQRR.flac'), PosixPath('dataset/AUDIO_NEW/cough/COVID_Positive/KXYGVTKN.flac'), PosixPath('dataset/AUDIO_NEW/cough/COVID_Positive/UEIFRCTO.flac'), PosixPath('dataset/AUDIO_NEW/cough/COVID_Positive/ZYSOZDNN.flac'), PosixPath('dataset/AUDIO_NEW/cough/COVID_Positive/BYSOGHCZ.flac'), PosixPath('dataset/AUDIO_NEW/cough/COVID_Positive/KMKQNPHM.flac'), PosixPath('dataset/AUDIO_NEW/cough/COVID_Positive/RKSAIEOB.flac'), PosixPath('dataset/AUDIO_NEW/cough/COVID_Positive/BOFQIUDZ.flac'), PosixPath('dataset/AUDIO_NEW/cough/COVID_Positive/OMVQVWZD.flac'), PosixPath('dataset/AUDIO_NEW/cough/COVID_Positive/RCNCGHRA.flac')] and [PosixPath('dataset/AUDIO_NEW/cough/COVID_Negative/BYZJWJWW.flac'), PosixPath('dataset/AUDIO_NEW/cough/COVID_Negative/YVVLBKRI.flac'), PosixPath('dataset/AUDIO_NEW/cough/COVID_Negative/TNVRWURN.flac'), PosixPath('dataset/AUDIO_NEW/cough/COVID_Negative/ZAPQHJJI.flac'), PosixPath('dataset/AUDIO_NEW/cough/COVID_Negative/VIPUEPTP.flac'), PosixPath('dataset/AUDIO_NEW/cough/COVID_Negative/VJAZTMXN.flac'), PosixPath('dataset/AUDIO_NEW/cough/COVID_Negative/TLPYAZFN.flac'), PosixPath('dataset/AUDIO_NEW/cough/COVID_Negative/VXQWWWTL.flac'), PosixPath('dataset/AUDIO_NEW/cough/COVID_Negative/JZHRAZQB.flac'), PosixPath('dataset/AUDIO_NEW/cough/COVID_Negative/WJYRNUDG.flac'), PosixPath('dataset/AUDIO_NEW/cough/COVID_Negative/KKCMMQPS.flac'), PosixPath('dataset/AUDIO_NEW/cough/COVID_Negative/KHBVGVRW.flac'), PosixPath('dataset/AUDIO_NEW/cough/COVID_Negative/MFCALAPF.flac'), PosixPath('dataset/AUDIO_NEW/cough/COVID_Negative/PRVQTLFF.flac'), PosixPath('dataset/AUDIO_NEW/cough/COVID_Negative/DIJIRFKR.flac'), PosixPath('dataset/AUDIO_NEW/cough/COVID_Negative/PKUZJUOW.flac'), PosixPath('dataset/AUDIO_NEW/cough/COVID_Negative/PYAQLXFV.flac'), PosixPath('dataset/AUDIO_NEW/cough/COVID_Negative/MFGOJGGN.flac'), PosixPath('dataset/AUDIO_NEW/cough/COVID_Negative/IJLZRFWZ.flac'), PosixPath('dataset/AUDIO_NEW/cough/COVID_Negative/ILTNBDSW.flac'), PosixPath('dataset/AUDIO_NEW/cough/COVID_Negative/SWLXYKOA.flac'), PosixPath('dataset/AUDIO_NEW/cough/COVID_Negative/WCXGGZSJ.flac'), PosixPath('dataset/AUDIO_NEW/cough/COVID_Negative/QCTSRTMN.flac'), PosixPath('dataset/AUDIO_NEW/cough/COVID_Negative/VYLULJYU.flac'), PosixPath('dataset/AUDIO_NEW/cough/COVID_Negative/MPEDVBJZ.flac'), PosixPath('dataset/AUDIO_NEW/cough/COVID_Negative/QZQFAEBL.flac'), PosixPath('dataset/AUDIO_NEW/cough/COVID_Negative/XQVWVWZA.flac'), PosixPath('dataset/AUDIO_NEW/cough/COVID_Negative/EKFFNDJY.flac'), PosixPath('dataset/AUDIO_NEW/cough/COVID_Negative/MBXASRGM.flac'), PosixPath('dataset/AUDIO_NEW/cough/COVID_Negative/MHSTXVSO.flac'), PosixPath('dataset/AUDIO_NEW/cough/COVID_Negative/VFYJDSHE.flac'), PosixPath('dataset/AUDIO_NEW/cough/COVID_Negative/YIZQVXQY.flac'), PosixPath('dataset/AUDIO_NEW/cough/COVID_Negative/HYVVAWMV.flac'), PosixPath('dataset/AUDIO_NEW/cough/COVID_Negative/RWKLHEEK.flac'), PosixPath('dataset/AUDIO_NEW/cough/COVID_Negative/VMVKRXVL.flac'), PosixPath('dataset/AUDIO_NEW/cough/COVID_Negative/GOPVPXYE.flac'), PosixPath('dataset/AUDIO_NEW/cough/COVID_Negative/HCZZQPKF.flac'), PosixPath('dataset/AUDIO_NEW/cough/COVID_Negative/NMIAEGCX.flac'), PosixPath('dataset/AUDIO_NEW/cough/COVID_Negative/LEDJDJPX.flac'), PosixPath('dataset/AUDIO_NEW/cough/COVID_Negative/GZGAYWBV.flac'), PosixPath('dataset/AUDIO_NEW/cough/COVID_Negative/TZCBTMVG.flac'), PosixPath('dataset/AUDIO_NEW/cough/COVID_Negative/CJOXNLKG.flac'), PosixPath('dataset/AUDIO_NEW/cough/COVID_Negative/BFLCOJQF.flac'), PosixPath('dataset/AUDIO_NEW/cough/COVID_Negative/REXOHNHU.flac'), PosixPath('dataset/AUDIO_NEW/cough/COVID_Negative/WOSMSWIS.flac'), PosixPath('dataset/AUDIO_NEW/cough/COVID_Negative/RYYLOYKI.flac'), PosixPath('dataset/AUDIO_NEW/cough/COVID_Negative/VBXMIXBC.flac'), PosixPath('dataset/AUDIO_NEW/cough/COVID_Negative/TPUIJQGK.flac'), PosixPath('dataset/AUDIO_NEW/cough/COVID_Negative/FCXKJTJN.flac'), PosixPath('dataset/AUDIO_NEW/cough/COVID_Negative/SCEAOMNJ.flac'), PosixPath('dataset/AUDIO_NEW/cough/COVID_Negative/QCWQWCAF.flac'), PosixPath('dataset/AUDIO_NEW/cough/COVID_Negative/PICKYGGB.flac'), PosixPath('dataset/AUDIO_NEW/cough/COVID_Negative/CDICVECX.flac'), PosixPath('dataset/AUDIO_NEW/cough/COVID_Negative/ELKRANRQ.flac'), PosixPath('dataset/AUDIO_NEW/cough/COVID_Negative/PDIDQEEN.flac'), PosixPath('dataset/AUDIO_NEW/cough/COVID_Negative/GXUQHPPN.flac'), PosixPath('dataset/AUDIO_NEW/cough/COVID_Negative/VMBVELLT.flac'), PosixPath('dataset/AUDIO_NEW/cough/COVID_Negative/LBJXCOQG.flac'), PosixPath('dataset/AUDIO_NEW/cough/COVID_Negative/VVYKYWAF.flac'), PosixPath('dataset/AUDIO_NEW/cough/COVID_Negative/IFDSTSRI.flac'), PosixPath('dataset/AUDIO_NEW/cough/COVID_Negative/NBZTVEJL.flac'), PosixPath('dataset/AUDIO_NEW/cough/COVID_Negative/XBMYMBNI.flac'), PosixPath('dataset/AUDIO_NEW/cough/COVID_Negative/KFKKKIVM.flac'), PosixPath('dataset/AUDIO_NEW/cough/COVID_Negative/XUGFKOZJ.flac'), PosixPath('dataset/AUDIO_NEW/cough/COVID_Negative/QBBUMYDL.flac'), PosixPath('dataset/AUDIO_NEW/cough/COVID_Negative/BPXVMOVA.flac'), PosixPath('dataset/AUDIO_NEW/cough/COVID_Negative/XQKBFPQJ.flac'), PosixPath('dataset/AUDIO_NEW/cough/COVID_Negative/ACODNYKR.flac'), PosixPath('dataset/AUDIO_NEW/cough/COVID_Negative/RJRGQDKK.flac'), PosixPath('dataset/AUDIO_NEW/cough/COVID_Negative/LUBZHFGJ.flac'), PosixPath('dataset/AUDIO_NEW/cough/COVID_Negative/FBINBZWT.flac'), PosixPath('dataset/AUDIO_NEW/cough/COVID_Negative/RFDLXSQR.flac'), PosixPath('dataset/AUDIO_NEW/cough/COVID_Negative/LOKISRFN.flac'), PosixPath('dataset/AUDIO_NEW/cough/COVID_Negative/CFTTZNUZ.flac'), PosixPath('dataset/AUDIO_NEW/cough/COVID_Negative/PTCHYHZG.flac'), PosixPath('dataset/AUDIO_NEW/cough/COVID_Negative/SSGGLNQE.flac'), PosixPath('dataset/AUDIO_NEW/cough/COVID_Negative/BJJYNQDQ.flac'), PosixPath('dataset/AUDIO_NEW/cough/COVID_Negative/BGQKVUHH.flac'), PosixPath('dataset/AUDIO_NEW/cough/COVID_Negative/HRJHKQAC.flac'), PosixPath('dataset/AUDIO_NEW/cough/COVID_Negative/YGWHDXWN.flac'), PosixPath('dataset/AUDIO_NEW/cough/COVID_Negative/GEJKXDZK.flac'), PosixPath('dataset/AUDIO_NEW/cough/COVID_Negative/LFIBGWEJ.flac'), PosixPath('dataset/AUDIO_NEW/cough/COVID_Negative/ADPCTBMH.flac'), PosixPath('dataset/AUDIO_NEW/cough/COVID_Negative/GWMLKCDN.flac'), PosixPath('dataset/AUDIO_NEW/cough/COVID_Negative/QOEUVQFA.flac'), PosixPath('dataset/AUDIO_NEW/cough/COVID_Negative/SRTPYIDB.flac'), PosixPath('dataset/AUDIO_NEW/cough/COVID_Negative/KFNSNSYN.flac'), PosixPath('dataset/AUDIO_NEW/cough/COVID_Negative/DHJQCQRM.flac'), PosixPath('dataset/AUDIO_NEW/cough/COVID_Negative/ONANMZAM.flac'), PosixPath('dataset/AUDIO_NEW/cough/COVID_Negative/CILYIJMA.flac'), PosixPath('dataset/AUDIO_NEW/cough/COVID_Negative/CQNHYYQV.flac'), PosixPath('dataset/AUDIO_NEW/cough/COVID_Negative/JPGVRSKH.flac'), PosixPath('dataset/AUDIO_NEW/cough/COVID_Negative/COOXTATD.flac'), PosixPath('dataset/AUDIO_NEW/cough/COVID_Negative/UDFCMXSA.flac'), PosixPath('dataset/AUDIO_NEW/cough/COVID_Negative/ZWOBBPQH.flac'), PosixPath('dataset/AUDIO_NEW/cough/COVID_Negative/WTXHNNLN.flac'), PosixPath('dataset/AUDIO_NEW/cough/COVID_Negative/MZXKYXPR.flac'), PosixPath('dataset/AUDIO_NEW/cough/COVID_Negative/KRFGQQOT.flac'), PosixPath('dataset/AUDIO_NEW/cough/COVID_Negative/QTPIOXBP.flac'), PosixPath('dataset/AUDIO_NEW/cough/COVID_Negative/MTJCORVA.flac'), PosixPath('dataset/AUDIO_NEW/cough/COVID_Negative/ZKHTQNVS.flac'), PosixPath('dataset/AUDIO_NEW/cough/COVID_Negative/AEKPKDAQ.flac'), PosixPath('dataset/AUDIO_NEW/cough/COVID_Negative/XTBNODYV.flac'), PosixPath('dataset/AUDIO_NEW/cough/COVID_Negative/PKQTMYSJ.flac'), PosixPath('dataset/AUDIO_NEW/cough/COVID_Negative/CZOBKKOJ.flac'), PosixPath('dataset/AUDIO_NEW/cough/COVID_Negative/ITUVXRGB.flac'), PosixPath('dataset/AUDIO_NEW/cough/COVID_Negative/MCKUCVCT.flac'), PosixPath('dataset/AUDIO_NEW/cough/COVID_Negative/CAJBBDGE.flac'), PosixPath('dataset/AUDIO_NEW/cough/COVID_Negative/VFNVWWDN.flac'), PosixPath('dataset/AUDIO_NEW/cough/COVID_Negative/MQXKPIZS.flac'), PosixPath('dataset/AUDIO_NEW/cough/COVID_Negative/UUNBNMEU.flac'), PosixPath('dataset/AUDIO_NEW/cough/COVID_Negative/MRCAUGQD.flac'), PosixPath('dataset/AUDIO_NEW/cough/COVID_Negative/QATIJZYL.flac'), PosixPath('dataset/AUDIO_NEW/cough/COVID_Negative/DQLNGDSQ.flac'), PosixPath('dataset/AUDIO_NEW/cough/COVID_Negative/NKRCUEMH.flac'), PosixPath('dataset/AUDIO_NEW/cough/COVID_Negative/IFEZNKJP.flac'), PosixPath('dataset/AUDIO_NEW/cough/COVID_Negative/QXAOCRAB.flac'), PosixPath('dataset/AUDIO_NEW/cough/COVID_Negative/AGFNIAYJ.flac'), PosixPath('dataset/AUDIO_NEW/cough/COVID_Negative/GHBRVBQV.flac'), PosixPath('dataset/AUDIO_NEW/cough/COVID_Negative/TUIUXGMR.flac'), PosixPath('dataset/AUDIO_NEW/cough/COVID_Negative/CMMJYEXY.flac'), PosixPath('dataset/AUDIO_NEW/cough/COVID_Negative/ZRGHXYZK.flac'), PosixPath('dataset/AUDIO_NEW/cough/COVID_Negative/THMGPHOF.flac'), PosixPath('dataset/AUDIO_NEW/cough/COVID_Negative/UHNIMFEE.flac'), PosixPath('dataset/AUDIO_NEW/cough/COVID_Negative/HVPRITDR.flac'), PosixPath('dataset/AUDIO_NEW/cough/COVID_Negative/JTIPNSRF.flac'), PosixPath('dataset/AUDIO_NEW/cough/COVID_Negative/HBXGTLVD.flac'), PosixPath('dataset/AUDIO_NEW/cough/COVID_Negative/XJKRNFZY.flac'), PosixPath('dataset/AUDIO_NEW/cough/COVID_Negative/MCPGSBRU.flac'), PosixPath('dataset/AUDIO_NEW/cough/COVID_Negative/OZGVGHCG.flac'), PosixPath('dataset/AUDIO_NEW/cough/COVID_Negative/HNRZFYVZ.flac'), PosixPath('dataset/AUDIO_NEW/cough/COVID_Negative/BLPXKKFI.flac'), PosixPath('dataset/AUDIO_NEW/cough/COVID_Negative/QIEGQBDV.flac'), PosixPath('dataset/AUDIO_NEW/cough/COVID_Negative/BDTZXLZB.flac'), PosixPath('dataset/AUDIO_NEW/cough/COVID_Negative/QGFCKCMR.flac'), PosixPath('dataset/AUDIO_NEW/cough/COVID_Negative/PKFFCBBV.flac'), PosixPath('dataset/AUDIO_NEW/cough/COVID_Negative/MFFYUDJV.flac'), PosixPath('dataset/AUDIO_NEW/cough/COVID_Negative/PLYCCWYO.flac'), PosixPath('dataset/AUDIO_NEW/cough/COVID_Negative/KKUXVCWL.flac'), PosixPath('dataset/AUDIO_NEW/cough/COVID_Negative/OKQTLZRN.flac'), PosixPath('dataset/AUDIO_NEW/cough/COVID_Negative/AFFRVSHO.flac'), PosixPath('dataset/AUDIO_NEW/cough/COVID_Negative/EWLUREWH.flac'), PosixPath('dataset/AUDIO_NEW/cough/COVID_Negative/RHHOTDPX.flac'), PosixPath('dataset/AUDIO_NEW/cough/COVID_Negative/ORFSQAOL.flac'), PosixPath('dataset/AUDIO_NEW/cough/COVID_Negative/PUPXHBVI.flac'), PosixPath('dataset/AUDIO_NEW/cough/COVID_Negative/OCWHDAAF.flac'), PosixPath('dataset/AUDIO_NEW/cough/COVID_Negative/ZMFAELDN.flac'), PosixPath('dataset/AUDIO_NEW/cough/COVID_Negative/SGLFVDOV.flac'), PosixPath('dataset/AUDIO_NEW/cough/COVID_Negative/LJCPVYJA.flac'), PosixPath('dataset/AUDIO_NEW/cough/COVID_Negative/SSIVVUEB.flac'), PosixPath('dataset/AUDIO_NEW/cough/COVID_Negative/AIAEQDZT.flac'), PosixPath('dataset/AUDIO_NEW/cough/COVID_Negative/SHMLQOAR.flac'), PosixPath('dataset/AUDIO_NEW/cough/COVID_Negative/TMWZXJNT.flac'), PosixPath('dataset/AUDIO_NEW/cough/COVID_Negative/RCUOLUZF.flac'), PosixPath('dataset/AUDIO_NEW/cough/COVID_Negative/TBYLKZRC.flac'), PosixPath('dataset/AUDIO_NEW/cough/COVID_Negative/XBAINOHF.flac'), PosixPath('dataset/AUDIO_NEW/cough/COVID_Negative/OZCQAXJF.flac'), PosixPath('dataset/AUDIO_NEW/cough/COVID_Negative/PCTZIRHW.flac'), PosixPath('dataset/AUDIO_NEW/cough/COVID_Negative/HPBOLRXN.flac'), PosixPath('dataset/AUDIO_NEW/cough/COVID_Negative/LUWHROSH.flac'), PosixPath('dataset/AUDIO_NEW/cough/COVID_Negative/XRACSBQI.flac'), PosixPath('dataset/AUDIO_NEW/cough/COVID_Negative/HCUFTAWS.flac'), PosixPath('dataset/AUDIO_NEW/cough/COVID_Negative/CLDSLEUZ.flac'), PosixPath('dataset/AUDIO_NEW/cough/COVID_Negative/ETCUSZHJ.flac'), PosixPath('dataset/AUDIO_NEW/cough/COVID_Negative/KDNSMAHC.flac'), PosixPath('dataset/AUDIO_NEW/cough/COVID_Negative/USKMGNIT.flac'), PosixPath('dataset/AUDIO_NEW/cough/COVID_Negative/ZLBIQUWI.flac'), PosixPath('dataset/AUDIO_NEW/cough/COVID_Negative/QISGFQFX.flac'), PosixPath('dataset/AUDIO_NEW/cough/COVID_Negative/LNQOLTRP.flac'), PosixPath('dataset/AUDIO_NEW/cough/COVID_Negative/PWHWLIJC.flac'), PosixPath('dataset/AUDIO_NEW/cough/COVID_Negative/XDMUAMWN.flac'), PosixPath('dataset/AUDIO_NEW/cough/COVID_Negative/EFVTSQNK.flac'), PosixPath('dataset/AUDIO_NEW/cough/COVID_Negative/WURNMMKC.flac'), PosixPath('dataset/AUDIO_NEW/cough/COVID_Negative/KIOIRSIP.flac'), PosixPath('dataset/AUDIO_NEW/cough/COVID_Negative/XOFYAGOX.flac'), PosixPath('dataset/AUDIO_NEW/cough/COVID_Negative/UTGHIFRA.flac'), PosixPath('dataset/AUDIO_NEW/cough/COVID_Negative/AATXXRQE.flac'), PosixPath('dataset/AUDIO_NEW/cough/COVID_Negative/KLVYKAQX.flac'), PosixPath('dataset/AUDIO_NEW/cough/COVID_Negative/WZKVXFBU.flac'), PosixPath('dataset/AUDIO_NEW/cough/COVID_Negative/RKPEMSJZ.flac'), PosixPath('dataset/AUDIO_NEW/cough/COVID_Negative/LOICXJSY.flac'), PosixPath('dataset/AUDIO_NEW/cough/COVID_Negative/RDACIDXE.flac'), PosixPath('dataset/AUDIO_NEW/cough/COVID_Negative/PQOANEDF.flac'), PosixPath('dataset/AUDIO_NEW/cough/COVID_Negative/NIPDEULM.flac'), PosixPath('dataset/AUDIO_NEW/cough/COVID_Negative/FMIQSEEK.flac'), PosixPath('dataset/AUDIO_NEW/cough/COVID_Negative/EADSJIPK.flac'), PosixPath('dataset/AUDIO_NEW/cough/COVID_Negative/MXPLZZHQ.flac'), PosixPath('dataset/AUDIO_NEW/cough/COVID_Negative/OBZRGYUB.flac'), PosixPath('dataset/AUDIO_NEW/cough/COVID_Negative/RSKFHDUD.flac'), PosixPath('dataset/AUDIO_NEW/cough/COVID_Negative/GRQNNTXK.flac'), PosixPath('dataset/AUDIO_NEW/cough/COVID_Negative/CVBQXHGH.flac'), PosixPath('dataset/AUDIO_NEW/cough/COVID_Negative/FDMTSKPE.flac'), PosixPath('dataset/AUDIO_NEW/cough/COVID_Negative/FUWSTPYO.flac'), PosixPath('dataset/AUDIO_NEW/cough/COVID_Negative/JCAVTOWO.flac'), PosixPath('dataset/AUDIO_NEW/cough/COVID_Negative/IGSXXTBT.flac'), PosixPath('dataset/AUDIO_NEW/cough/COVID_Negative/CFDCCMXB.flac'), PosixPath('dataset/AUDIO_NEW/cough/COVID_Negative/JVGBDGOQ.flac'), PosixPath('dataset/AUDIO_NEW/cough/COVID_Negative/EFGPFZEK.flac'), PosixPath('dataset/AUDIO_NEW/cough/COVID_Negative/KAINOELW.flac'), PosixPath('dataset/AUDIO_NEW/cough/COVID_Negative/OFVPVUNZ.flac'), PosixPath('dataset/AUDIO_NEW/cough/COVID_Negative/KTXQSLVA.flac'), PosixPath('dataset/AUDIO_NEW/cough/COVID_Negative/EPUZURRV.flac'), PosixPath('dataset/AUDIO_NEW/cough/COVID_Negative/OFOILIER.flac'), PosixPath('dataset/AUDIO_NEW/cough/COVID_Negative/SZKPMRME.flac'), PosixPath('dataset/AUDIO_NEW/cough/COVID_Negative/EIFBVZCO.flac'), PosixPath('dataset/AUDIO_NEW/cough/COVID_Negative/OZRROOCL.flac'), PosixPath('dataset/AUDIO_NEW/cough/COVID_Negative/FCRXGOGB.flac'), PosixPath('dataset/AUDIO_NEW/cough/COVID_Negative/BEZPREAA.flac'), PosixPath('dataset/AUDIO_NEW/cough/COVID_Negative/ZHYGSXDB.flac'), PosixPath('dataset/AUDIO_NEW/cough/COVID_Negative/GEOVUQZY.flac'), PosixPath('dataset/AUDIO_NEW/cough/COVID_Negative/MTKDWKLF.flac'), PosixPath('dataset/AUDIO_NEW/cough/COVID_Negative/YABQTANE.flac'), PosixPath('dataset/AUDIO_NEW/cough/COVID_Negative/FHIRVICU.flac'), PosixPath('dataset/AUDIO_NEW/cough/COVID_Negative/WZDXOGFD.flac'), PosixPath('dataset/AUDIO_NEW/cough/COVID_Negative/EKTAGYMP.flac'), PosixPath('dataset/AUDIO_NEW/cough/COVID_Negative/FMQPFTDJ.flac'), PosixPath('dataset/AUDIO_NEW/cough/COVID_Negative/AEVVWNSS.flac'), PosixPath('dataset/AUDIO_NEW/cough/COVID_Negative/YFJNNLJB.flac'), PosixPath('dataset/AUDIO_NEW/cough/COVID_Negative/PRRKIFVZ.flac'), PosixPath('dataset/AUDIO_NEW/cough/COVID_Negative/CHFOOVXI.flac'), PosixPath('dataset/AUDIO_NEW/cough/COVID_Negative/YELSEECR.flac'), PosixPath('dataset/AUDIO_NEW/cough/COVID_Negative/YHUGLQHV.flac'), PosixPath('dataset/AUDIO_NEW/cough/COVID_Negative/HVFSFYLQ.flac'), PosixPath('dataset/AUDIO_NEW/cough/COVID_Negative/EQBWYXXN.flac'), PosixPath('dataset/AUDIO_NEW/cough/COVID_Negative/ZZZCJPYV.flac'), PosixPath('dataset/AUDIO_NEW/cough/COVID_Negative/HTUZHMVC.flac'), PosixPath('dataset/AUDIO_NEW/cough/COVID_Negative/HHICXDDX.flac'), PosixPath('dataset/AUDIO_NEW/cough/COVID_Negative/QJQJBBZN.flac'), PosixPath('dataset/AUDIO_NEW/cough/COVID_Negative/QGCTUWYM.flac'), PosixPath('dataset/AUDIO_NEW/cough/COVID_Negative/EFKALRTO.flac'), PosixPath('dataset/AUDIO_NEW/cough/COVID_Negative/DRQKVDVA.flac'), PosixPath('dataset/AUDIO_NEW/cough/COVID_Negative/ZKADNZII.flac'), PosixPath('dataset/AUDIO_NEW/cough/COVID_Negative/FZOBENWW.flac'), PosixPath('dataset/AUDIO_NEW/cough/COVID_Negative/BLQGZTCL.flac'), PosixPath('dataset/AUDIO_NEW/cough/COVID_Negative/WPDXXPMP.flac'), PosixPath('dataset/AUDIO_NEW/cough/COVID_Negative/DHGQCKVV.flac'), PosixPath('dataset/AUDIO_NEW/cough/COVID_Negative/THQDJCPA.flac'), PosixPath('dataset/AUDIO_NEW/cough/COVID_Negative/BTYFGFGB.flac'), PosixPath('dataset/AUDIO_NEW/cough/COVID_Negative/NKJBUQCM.flac'), PosixPath('dataset/AUDIO_NEW/cough/COVID_Negative/OTYAODCT.flac'), PosixPath('dataset/AUDIO_NEW/cough/COVID_Negative/YPYYZZEY.flac'), PosixPath('dataset/AUDIO_NEW/cough/COVID_Negative/MPTKQFYC.flac'), PosixPath('dataset/AUDIO_NEW/cough/COVID_Negative/BAHAIBOR.flac'), PosixPath('dataset/AUDIO_NEW/cough/COVID_Negative/PLDVFBJD.flac'), PosixPath('dataset/AUDIO_NEW/cough/COVID_Negative/RGXQOKTX.flac'), PosixPath('dataset/AUDIO_NEW/cough/COVID_Negative/RCURYJOC.flac'), PosixPath('dataset/AUDIO_NEW/cough/COVID_Negative/UHAXJDNH.flac'), PosixPath('dataset/AUDIO_NEW/cough/COVID_Negative/WOHJCIXX.flac'), PosixPath('dataset/AUDIO_NEW/cough/COVID_Negative/MIADVPBC.flac'), PosixPath('dataset/AUDIO_NEW/cough/COVID_Negative/LKVIJLIA.flac'), PosixPath('dataset/AUDIO_NEW/cough/COVID_Negative/BQAFNMCP.flac'), PosixPath('dataset/AUDIO_NEW/cough/COVID_Negative/QJNDSOVZ.flac'), PosixPath('dataset/AUDIO_NEW/cough/COVID_Negative/QRSGHRRE.flac'), PosixPath('dataset/AUDIO_NEW/cough/COVID_Negative/GXCWSEIN.flac'), PosixPath('dataset/AUDIO_NEW/cough/COVID_Negative/ZNBDPXVG.flac'), PosixPath('dataset/AUDIO_NEW/cough/COVID_Negative/ISIFMIBD.flac'), PosixPath('dataset/AUDIO_NEW/cough/COVID_Negative/XUDJFRGQ.flac'), PosixPath('dataset/AUDIO_NEW/cough/COVID_Negative/XCZYMKHV.flac'), PosixPath('dataset/AUDIO_NEW/cough/COVID_Negative/WGZWXCAZ.flac'), PosixPath('dataset/AUDIO_NEW/cough/COVID_Negative/QGLJOBJY.flac'), PosixPath('dataset/AUDIO_NEW/cough/COVID_Negative/QTANUPDP.flac'), PosixPath('dataset/AUDIO_NEW/cough/COVID_Negative/OYCFALWR.flac'), PosixPath('dataset/AUDIO_NEW/cough/COVID_Negative/ASGERLCQ.flac'), PosixPath('dataset/AUDIO_NEW/cough/COVID_Negative/XIEBBTTQ.flac'), PosixPath('dataset/AUDIO_NEW/cough/COVID_Negative/PUUPHMFR.flac'), PosixPath('dataset/AUDIO_NEW/cough/COVID_Negative/SJCYYBAH.flac'), PosixPath('dataset/AUDIO_NEW/cough/COVID_Negative/ONWLHOYP.flac'), PosixPath('dataset/AUDIO_NEW/cough/COVID_Negative/MIQXTRFE.flac'), PosixPath('dataset/AUDIO_NEW/cough/COVID_Negative/CPANEIEB.flac'), PosixPath('dataset/AUDIO_NEW/cough/COVID_Negative/BZEMRELI.flac'), PosixPath('dataset/AUDIO_NEW/cough/COVID_Negative/VBDYSBRB.flac'), PosixPath('dataset/AUDIO_NEW/cough/COVID_Negative/JABBZRHY.flac'), PosixPath('dataset/AUDIO_NEW/cough/COVID_Negative/JPDVYSGP.flac'), PosixPath('dataset/AUDIO_NEW/cough/COVID_Negative/MDNRVGIE.flac'), PosixPath('dataset/AUDIO_NEW/cough/COVID_Negative/MAQNUZTX.flac'), PosixPath('dataset/AUDIO_NEW/cough/COVID_Negative/PEHETLCK.flac'), PosixPath('dataset/AUDIO_NEW/cough/COVID_Negative/JGLFZBMX.flac'), PosixPath('dataset/AUDIO_NEW/cough/COVID_Negative/AHXDHEST.flac'), PosixPath('dataset/AUDIO_NEW/cough/COVID_Negative/FVHRHOZO.flac'), PosixPath('dataset/AUDIO_NEW/cough/COVID_Negative/MJJBCBWD.flac'), PosixPath('dataset/AUDIO_NEW/cough/COVID_Negative/QCFUVKCY.flac'), PosixPath('dataset/AUDIO_NEW/cough/COVID_Negative/UDGUTECX.flac'), PosixPath('dataset/AUDIO_NEW/cough/COVID_Negative/HKIDSGWC.flac'), PosixPath('dataset/AUDIO_NEW/cough/COVID_Negative/SOIJDUNN.flac'), PosixPath('dataset/AUDIO_NEW/cough/COVID_Negative/WRPUARJU.flac'), PosixPath('dataset/AUDIO_NEW/cough/COVID_Negative/VLJWJSJA.flac'), PosixPath('dataset/AUDIO_NEW/cough/COVID_Negative/RKEWQQUP.flac'), PosixPath('dataset/AUDIO_NEW/cough/COVID_Negative/TDBTOYWI.flac'), PosixPath('dataset/AUDIO_NEW/cough/COVID_Negative/UVTFUGFJ.flac'), PosixPath('dataset/AUDIO_NEW/cough/COVID_Negative/FONIOYTJ.flac'), PosixPath('dataset/AUDIO_NEW/cough/COVID_Negative/VVZDPYMS.flac'), PosixPath('dataset/AUDIO_NEW/cough/COVID_Negative/WBHPRNAP.flac'), PosixPath('dataset/AUDIO_NEW/cough/COVID_Negative/TFPVBTJK.flac'), PosixPath('dataset/AUDIO_NEW/cough/COVID_Negative/QUEKGCAE.flac'), PosixPath('dataset/AUDIO_NEW/cough/COVID_Negative/MWMRAFWA.flac'), PosixPath('dataset/AUDIO_NEW/cough/COVID_Negative/FCRNLSBU.flac'), PosixPath('dataset/AUDIO_NEW/cough/COVID_Negative/IABKNPNG.flac'), PosixPath('dataset/AUDIO_NEW/cough/COVID_Negative/UXUHXDRP.flac'), PosixPath('dataset/AUDIO_NEW/cough/COVID_Negative/HFVGIGIA.flac'), PosixPath('dataset/AUDIO_NEW/cough/COVID_Negative/VXTYCHWE.flac'), PosixPath('dataset/AUDIO_NEW/cough/COVID_Negative/MMIEYFOK.flac'), PosixPath('dataset/AUDIO_NEW/cough/COVID_Negative/NTMWMAKP.flac'), PosixPath('dataset/AUDIO_NEW/cough/COVID_Negative/CHPEIPIH.flac'), PosixPath('dataset/AUDIO_NEW/cough/COVID_Negative/DMILFZNV.flac'), PosixPath('dataset/AUDIO_NEW/cough/COVID_Negative/TSFSAKJE.flac'), PosixPath('dataset/AUDIO_NEW/cough/COVID_Negative/SAGEJEMB.flac'), PosixPath('dataset/AUDIO_NEW/cough/COVID_Negative/MTWGTXLO.flac'), PosixPath('dataset/AUDIO_NEW/cough/COVID_Negative/DDZQLYQB.flac'), PosixPath('dataset/AUDIO_NEW/cough/COVID_Negative/DMPHGMRR.flac'), PosixPath('dataset/AUDIO_NEW/cough/COVID_Negative/NWYGJZKY.flac'), PosixPath('dataset/AUDIO_NEW/cough/COVID_Negative/QYDAHFNO.flac'), PosixPath('dataset/AUDIO_NEW/cough/COVID_Negative/PEWOMHJE.flac'), PosixPath('dataset/AUDIO_NEW/cough/COVID_Negative/NODJFFZA.flac'), PosixPath('dataset/AUDIO_NEW/cough/COVID_Negative/CWOOGTGM.flac'), PosixPath('dataset/AUDIO_NEW/cough/COVID_Negative/SFFACVGJ.flac'), PosixPath('dataset/AUDIO_NEW/cough/COVID_Negative/CTYJXVRA.flac'), PosixPath('dataset/AUDIO_NEW/cough/COVID_Negative/LKKFKPCL.flac'), PosixPath('dataset/AUDIO_NEW/cough/COVID_Negative/HDNGEKSR.flac'), PosixPath('dataset/AUDIO_NEW/cough/COVID_Negative/BJZNZTMY.flac'), PosixPath('dataset/AUDIO_NEW/cough/COVID_Negative/HXWFDUNS.flac'), PosixPath('dataset/AUDIO_NEW/cough/COVID_Negative/TUZJZIEN.flac'), PosixPath('dataset/AUDIO_NEW/cough/COVID_Negative/TLTIYTFU.flac'), PosixPath('dataset/AUDIO_NEW/cough/COVID_Negative/TXLCWXKB.flac'), PosixPath('dataset/AUDIO_NEW/cough/COVID_Negative/CXPCODCN.flac'), PosixPath('dataset/AUDIO_NEW/cough/COVID_Negative/AHTQDTIL.flac'), PosixPath('dataset/AUDIO_NEW/cough/COVID_Negative/MYWFDEIO.flac'), PosixPath('dataset/AUDIO_NEW/cough/COVID_Negative/RDPSKHVX.flac'), PosixPath('dataset/AUDIO_NEW/cough/COVID_Negative/BMOFMLLF.flac'), PosixPath('dataset/AUDIO_NEW/cough/COVID_Negative/BMHENHMR.flac'), PosixPath('dataset/AUDIO_NEW/cough/COVID_Negative/KZXTYOPH.flac'), PosixPath('dataset/AUDIO_NEW/cough/COVID_Negative/FGGZCWFV.flac'), PosixPath('dataset/AUDIO_NEW/cough/COVID_Negative/QDJYGTTH.flac'), PosixPath('dataset/AUDIO_NEW/cough/COVID_Negative/CBTOQZAE.flac'), PosixPath('dataset/AUDIO_NEW/cough/COVID_Negative/TRLATMGO.flac'), PosixPath('dataset/AUDIO_NEW/cough/COVID_Negative/YOQQZIMH.flac'), PosixPath('dataset/AUDIO_NEW/cough/COVID_Negative/DAAIPYJU.flac'), PosixPath('dataset/AUDIO_NEW/cough/COVID_Negative/OILJJHKJ.flac'), PosixPath('dataset/AUDIO_NEW/cough/COVID_Negative/FRYSHWOF.flac'), PosixPath('dataset/AUDIO_NEW/cough/COVID_Negative/OVNQDZBN.flac'), PosixPath('dataset/AUDIO_NEW/cough/COVID_Negative/NWKKSYMO.flac'), PosixPath('dataset/AUDIO_NEW/cough/COVID_Negative/VGTYHJAM.flac'), PosixPath('dataset/AUDIO_NEW/cough/COVID_Negative/MQFQUIZI.flac'), PosixPath('dataset/AUDIO_NEW/cough/COVID_Negative/WGJGPFYS.flac'), PosixPath('dataset/AUDIO_NEW/cough/COVID_Negative/FPRJSKVG.flac'), PosixPath('dataset/AUDIO_NEW/cough/COVID_Negative/MYQKATFS.flac'), PosixPath('dataset/AUDIO_NEW/cough/COVID_Negative/ZFXYSDHQ.flac'), PosixPath('dataset/AUDIO_NEW/cough/COVID_Negative/LLATIRWA.flac'), PosixPath('dataset/AUDIO_NEW/cough/COVID_Negative/PNZLKRBL.flac'), PosixPath('dataset/AUDIO_NEW/cough/COVID_Negative/WHXPXKVF.flac'), PosixPath('dataset/AUDIO_NEW/cough/COVID_Negative/MRRLIWHA.flac'), PosixPath('dataset/AUDIO_NEW/cough/COVID_Negative/POFSFOUV.flac'), PosixPath('dataset/AUDIO_NEW/cough/COVID_Negative/YJPRNDYV.flac'), PosixPath('dataset/AUDIO_NEW/cough/COVID_Negative/ILDIECBN.flac'), PosixPath('dataset/AUDIO_NEW/cough/COVID_Negative/RFOTZFAP.flac'), PosixPath('dataset/AUDIO_NEW/cough/COVID_Negative/LJDZFUDF.flac'), PosixPath('dataset/AUDIO_NEW/cough/COVID_Negative/AQPORRMJ.flac'), PosixPath('dataset/AUDIO_NEW/cough/COVID_Negative/KTADEVOT.flac'), PosixPath('dataset/AUDIO_NEW/cough/COVID_Negative/YQUPZEUJ.flac'), PosixPath('dataset/AUDIO_NEW/cough/COVID_Negative/HJGWRTCO.flac'), PosixPath('dataset/AUDIO_NEW/cough/COVID_Negative/FTQQDOIM.flac'), PosixPath('dataset/AUDIO_NEW/cough/COVID_Negative/CZYRAAVU.flac'), PosixPath('dataset/AUDIO_NEW/cough/COVID_Negative/AXSBGAGC.flac'), PosixPath('dataset/AUDIO_NEW/cough/COVID_Negative/MBYTGRBI.flac'), PosixPath('dataset/AUDIO_NEW/cough/COVID_Negative/VWJFOBTG.flac'), PosixPath('dataset/AUDIO_NEW/cough/COVID_Negative/JSKNCBWT.flac'), PosixPath('dataset/AUDIO_NEW/cough/COVID_Negative/LNFUNOIQ.flac'), PosixPath('dataset/AUDIO_NEW/cough/COVID_Negative/ONJQQGNW.flac'), PosixPath('dataset/AUDIO_NEW/cough/COVID_Negative/RRCPLVAJ.flac'), PosixPath('dataset/AUDIO_NEW/cough/COVID_Negative/HGIMLAQT.flac'), PosixPath('dataset/AUDIO_NEW/cough/COVID_Negative/GUMXUNCQ.flac'), PosixPath('dataset/AUDIO_NEW/cough/COVID_Negative/UTRLGUCS.flac'), PosixPath('dataset/AUDIO_NEW/cough/COVID_Negative/CXLXAECL.flac'), PosixPath('dataset/AUDIO_NEW/cough/COVID_Negative/RZJVAWOW.flac'), PosixPath('dataset/AUDIO_NEW/cough/COVID_Negative/CEGWOSJH.flac'), PosixPath('dataset/AUDIO_NEW/cough/COVID_Negative/UKCBKMQI.flac'), PosixPath('dataset/AUDIO_NEW/cough/COVID_Negative/JNDPZZNZ.flac'), PosixPath('dataset/AUDIO_NEW/cough/COVID_Negative/CRYKVDTJ.flac'), PosixPath('dataset/AUDIO_NEW/cough/COVID_Negative/OOBTLUIO.flac'), PosixPath('dataset/AUDIO_NEW/cough/COVID_Negative/EVNSSADY.flac'), PosixPath('dataset/AUDIO_NEW/cough/COVID_Negative/CILDWOEA.flac'), PosixPath('dataset/AUDIO_NEW/cough/COVID_Negative/XSCTDUMG.flac'), PosixPath('dataset/AUDIO_NEW/cough/COVID_Negative/OWLIGQEJ.flac'), PosixPath('dataset/AUDIO_NEW/cough/COVID_Negative/GCJFDYCF.flac'), PosixPath('dataset/AUDIO_NEW/cough/COVID_Negative/IZKZCOOI.flac'), PosixPath('dataset/AUDIO_NEW/cough/COVID_Negative/HUCGUQGH.flac'), PosixPath('dataset/AUDIO_NEW/cough/COVID_Negative/PYJRHKQL.flac'), PosixPath('dataset/AUDIO_NEW/cough/COVID_Negative/DQEMIVYM.flac'), PosixPath('dataset/AUDIO_NEW/cough/COVID_Negative/CYQWSHIY.flac'), PosixPath('dataset/AUDIO_NEW/cough/COVID_Negative/QMPIRWJY.flac'), PosixPath('dataset/AUDIO_NEW/cough/COVID_Negative/RVEBFGPA.flac'), PosixPath('dataset/AUDIO_NEW/cough/COVID_Negative/TKPLQJNH.flac'), PosixPath('dataset/AUDIO_NEW/cough/COVID_Negative/EAKGCVDI.flac'), PosixPath('dataset/AUDIO_NEW/cough/COVID_Negative/DNJLMNSQ.flac'), PosixPath('dataset/AUDIO_NEW/cough/COVID_Negative/PNRHWWDQ.flac'), PosixPath('dataset/AUDIO_NEW/cough/COVID_Negative/WNNQZYNF.flac'), PosixPath('dataset/AUDIO_NEW/cough/COVID_Negative/BUNWMKYN.flac'), PosixPath('dataset/AUDIO_NEW/cough/COVID_Negative/WBZAAXVF.flac'), PosixPath('dataset/AUDIO_NEW/cough/COVID_Negative/DGHMRMCD.flac'), PosixPath('dataset/AUDIO_NEW/cough/COVID_Negative/MJOTTQOC.flac'), PosixPath('dataset/AUDIO_NEW/cough/COVID_Negative/IVUSUUDW.flac'), PosixPath('dataset/AUDIO_NEW/cough/COVID_Negative/BOGBJKJR.flac'), PosixPath('dataset/AUDIO_NEW/cough/COVID_Negative/LSQCJKPK.flac'), PosixPath('dataset/AUDIO_NEW/cough/COVID_Negative/GGRHQOKX.flac'), PosixPath('dataset/AUDIO_NEW/cough/COVID_Negative/DBXEBUVF.flac'), PosixPath('dataset/AUDIO_NEW/cough/COVID_Negative/ADSWRERI.flac'), PosixPath('dataset/AUDIO_NEW/cough/COVID_Negative/XXPRRNNB.flac'), PosixPath('dataset/AUDIO_NEW/cough/COVID_Negative/IRCVNJAP.flac'), PosixPath('dataset/AUDIO_NEW/cough/COVID_Negative/OUJTPFFY.flac'), PosixPath('dataset/AUDIO_NEW/cough/COVID_Negative/WCCCUNGT.flac'), PosixPath('dataset/AUDIO_NEW/cough/COVID_Negative/KECMMMNP.flac'), PosixPath('dataset/AUDIO_NEW/cough/COVID_Negative/LNMVQXHA.flac'), PosixPath('dataset/AUDIO_NEW/cough/COVID_Negative/KIYVGTOH.flac'), PosixPath('dataset/AUDIO_NEW/cough/COVID_Negative/ETUQCKAJ.flac'), PosixPath('dataset/AUDIO_NEW/cough/COVID_Negative/EADBNFIG.flac'), PosixPath('dataset/AUDIO_NEW/cough/COVID_Negative/ZTYKLVVK.flac'), PosixPath('dataset/AUDIO_NEW/cough/COVID_Negative/BPYMHHWL.flac'), PosixPath('dataset/AUDIO_NEW/cough/COVID_Negative/LZREFSWI.flac'), PosixPath('dataset/AUDIO_NEW/cough/COVID_Negative/CVVXCBXQ.flac'), PosixPath('dataset/AUDIO_NEW/cough/COVID_Negative/EOFWJUKO.flac'), PosixPath('dataset/AUDIO_NEW/cough/COVID_Negative/PMFNTEOZ.flac'), PosixPath('dataset/AUDIO_NEW/cough/COVID_Negative/NAKJKWOE.flac'), PosixPath('dataset/AUDIO_NEW/cough/COVID_Negative/UPIMUZGL.flac'), PosixPath('dataset/AUDIO_NEW/cough/COVID_Negative/KPLLELWL.flac'), PosixPath('dataset/AUDIO_NEW/cough/COVID_Negative/AVSFTYJR.flac'), PosixPath('dataset/AUDIO_NEW/cough/COVID_Negative/BKCTERDN.flac'), PosixPath('dataset/AUDIO_NEW/cough/COVID_Negative/ZWPLLIDN.flac'), PosixPath('dataset/AUDIO_NEW/cough/COVID_Negative/QXIZREKM.flac'), PosixPath('dataset/AUDIO_NEW/cough/COVID_Negative/NMGWSZSB.flac'), PosixPath('dataset/AUDIO_NEW/cough/COVID_Negative/RFGZBAAP.flac'), PosixPath('dataset/AUDIO_NEW/cough/COVID_Negative/UHUKGHOL.flac'), PosixPath('dataset/AUDIO_NEW/cough/COVID_Negative/BLKVVIBD.flac'), PosixPath('dataset/AUDIO_NEW/cough/COVID_Negative/FNJTPUTE.flac'), PosixPath('dataset/AUDIO_NEW/cough/COVID_Negative/HYYFNYZD.flac'), PosixPath('dataset/AUDIO_NEW/cough/COVID_Negative/MVGMEJTR.flac'), PosixPath('dataset/AUDIO_NEW/cough/COVID_Negative/VXLUANEJ.flac'), PosixPath('dataset/AUDIO_NEW/cough/COVID_Negative/YNRAGKQB.flac'), PosixPath('dataset/AUDIO_NEW/cough/COVID_Negative/QASKTBON.flac'), PosixPath('dataset/AUDIO_NEW/cough/COVID_Negative/EWGIZLWB.flac'), PosixPath('dataset/AUDIO_NEW/cough/COVID_Negative/JREHYICU.flac'), PosixPath('dataset/AUDIO_NEW/cough/COVID_Negative/TTOOYPWH.flac'), PosixPath('dataset/AUDIO_NEW/cough/COVID_Negative/SJQBYREA.flac'), PosixPath('dataset/AUDIO_NEW/cough/COVID_Negative/YEXLSOIQ.flac'), PosixPath('dataset/AUDIO_NEW/cough/COVID_Negative/AQYCPTGU.flac'), PosixPath('dataset/AUDIO_NEW/cough/COVID_Negative/EARABCCG.flac'), PosixPath('dataset/AUDIO_NEW/cough/COVID_Negative/KQFFCGAC.flac'), PosixPath('dataset/AUDIO_NEW/cough/COVID_Negative/IJQNKWFH.flac'), PosixPath('dataset/AUDIO_NEW/cough/COVID_Negative/VPKFJEIB.flac'), PosixPath('dataset/AUDIO_NEW/cough/COVID_Negative/IISJGBHF.flac'), PosixPath('dataset/AUDIO_NEW/cough/COVID_Negative/GDLUFIGU.flac'), PosixPath('dataset/AUDIO_NEW/cough/COVID_Negative/DNDKRUID.flac'), PosixPath('dataset/AUDIO_NEW/cough/COVID_Negative/UFETCRVK.flac'), PosixPath('dataset/AUDIO_NEW/cough/COVID_Negative/TVBNLTWK.flac'), PosixPath('dataset/AUDIO_NEW/cough/COVID_Negative/FUFAQZZF.flac'), PosixPath('dataset/AUDIO_NEW/cough/COVID_Negative/KBUQINNT.flac'), PosixPath('dataset/AUDIO_NEW/cough/COVID_Negative/YTHOSZYQ.flac'), PosixPath('dataset/AUDIO_NEW/cough/COVID_Negative/XDPQUWOB.flac'), PosixPath('dataset/AUDIO_NEW/cough/COVID_Negative/XOQEGMWF.flac'), PosixPath('dataset/AUDIO_NEW/cough/COVID_Negative/WHXYWXSI.flac'), PosixPath('dataset/AUDIO_NEW/cough/COVID_Negative/VSFMQRIN.flac'), PosixPath('dataset/AUDIO_NEW/cough/COVID_Negative/QSFJNKAQ.flac'), PosixPath('dataset/AUDIO_NEW/cough/COVID_Negative/MKNEBWST.flac'), PosixPath('dataset/AUDIO_NEW/cough/COVID_Negative/BNOSSCXT.flac'), PosixPath('dataset/AUDIO_NEW/cough/COVID_Negative/PPZYQLAE.flac'), PosixPath('dataset/AUDIO_NEW/cough/COVID_Negative/EZGCUMQO.flac'), PosixPath('dataset/AUDIO_NEW/cough/COVID_Negative/ZMKMXFPB.flac'), PosixPath('dataset/AUDIO_NEW/cough/COVID_Negative/FITZMPHI.flac'), PosixPath('dataset/AUDIO_NEW/cough/COVID_Negative/AQRZWCND.flac'), PosixPath('dataset/AUDIO_NEW/cough/COVID_Negative/QMJWRIEU.flac'), PosixPath('dataset/AUDIO_NEW/cough/COVID_Negative/BOPYQXJZ.flac'), PosixPath('dataset/AUDIO_NEW/cough/COVID_Negative/GDOLSUHV.flac'), PosixPath('dataset/AUDIO_NEW/cough/COVID_Negative/RKHBYLTU.flac'), PosixPath('dataset/AUDIO_NEW/cough/COVID_Negative/QQXOACGH.flac'), PosixPath('dataset/AUDIO_NEW/cough/COVID_Negative/WIFHVYIP.flac'), PosixPath('dataset/AUDIO_NEW/cough/COVID_Negative/PSJPQAEO.flac'), PosixPath('dataset/AUDIO_NEW/cough/COVID_Negative/JLFHIEXD.flac'), PosixPath('dataset/AUDIO_NEW/cough/COVID_Negative/XJSWKJNW.flac'), PosixPath('dataset/AUDIO_NEW/cough/COVID_Negative/VLUGCLGQ.flac'), PosixPath('dataset/AUDIO_NEW/cough/COVID_Negative/HLSWVWOF.flac'), PosixPath('dataset/AUDIO_NEW/cough/COVID_Negative/BASLAKSY.flac'), PosixPath('dataset/AUDIO_NEW/cough/COVID_Negative/ZQXZXBQF.flac'), PosixPath('dataset/AUDIO_NEW/cough/COVID_Negative/OPPXZGHR.flac'), PosixPath('dataset/AUDIO_NEW/cough/COVID_Negative/SDNWKUNV.flac'), PosixPath('dataset/AUDIO_NEW/cough/COVID_Negative/MGBAKYDP.flac'), PosixPath('dataset/AUDIO_NEW/cough/COVID_Negative/HPEJPIRC.flac'), PosixPath('dataset/AUDIO_NEW/cough/COVID_Negative/BLIXBFUJ.flac'), PosixPath('dataset/AUDIO_NEW/cough/COVID_Negative/AWLIQFHX.flac'), PosixPath('dataset/AUDIO_NEW/cough/COVID_Negative/MMCFMRBY.flac'), PosixPath('dataset/AUDIO_NEW/cough/COVID_Negative/PMEGFZMU.flac'), PosixPath('dataset/AUDIO_NEW/cough/COVID_Negative/PHQKIHGR.flac'), PosixPath('dataset/AUDIO_NEW/cough/COVID_Negative/BIVQYXUB.flac'), PosixPath('dataset/AUDIO_NEW/cough/COVID_Negative/WWGPWNRX.flac'), PosixPath('dataset/AUDIO_NEW/cough/COVID_Negative/XPNQSOYR.flac'), PosixPath('dataset/AUDIO_NEW/cough/COVID_Negative/GGLFOCDX.flac'), PosixPath('dataset/AUDIO_NEW/cough/COVID_Negative/EHEKWVXF.flac'), PosixPath('dataset/AUDIO_NEW/cough/COVID_Negative/MUHWKEZJ.flac'), PosixPath('dataset/AUDIO_NEW/cough/COVID_Negative/QGYDKYQQ.flac'), PosixPath('dataset/AUDIO_NEW/cough/COVID_Negative/JCROBEXQ.flac'), PosixPath('dataset/AUDIO_NEW/cough/COVID_Negative/MZHJXSTP.flac'), PosixPath('dataset/AUDIO_NEW/cough/COVID_Negative/SZEQUURK.flac'), PosixPath('dataset/AUDIO_NEW/cough/COVID_Negative/FBGTCZDE.flac'), PosixPath('dataset/AUDIO_NEW/cough/COVID_Negative/FBQPAXSW.flac'), PosixPath('dataset/AUDIO_NEW/cough/COVID_Negative/WUNICQWB.flac'), PosixPath('dataset/AUDIO_NEW/cough/COVID_Negative/EVKWRRBM.flac'), PosixPath('dataset/AUDIO_NEW/cough/COVID_Negative/WGQOILQG.flac'), PosixPath('dataset/AUDIO_NEW/cough/COVID_Negative/WSGPSGGD.flac'), PosixPath('dataset/AUDIO_NEW/cough/COVID_Negative/YNXJUZLA.flac'), PosixPath('dataset/AUDIO_NEW/cough/COVID_Negative/DJGRCEOS.flac'), PosixPath('dataset/AUDIO_NEW/cough/COVID_Negative/HNDBYDNB.flac'), PosixPath('dataset/AUDIO_NEW/cough/COVID_Negative/WJGZILBZ.flac'), PosixPath('dataset/AUDIO_NEW/cough/COVID_Negative/DCSHUZIZ.flac'), PosixPath('dataset/AUDIO_NEW/cough/COVID_Negative/OCMFPIBZ.flac'), PosixPath('dataset/AUDIO_NEW/cough/COVID_Negative/OBJXHJNV.flac'), PosixPath('dataset/AUDIO_NEW/cough/COVID_Negative/YJDSGPWL.flac'), PosixPath('dataset/AUDIO_NEW/cough/COVID_Negative/TFVKGBYX.flac'), PosixPath('dataset/AUDIO_NEW/cough/COVID_Negative/ZMOCHYWQ.flac'), PosixPath('dataset/AUDIO_NEW/cough/COVID_Negative/WAHCWJOD.flac'), PosixPath('dataset/AUDIO_NEW/cough/COVID_Negative/DQZJUHKF.flac'), PosixPath('dataset/AUDIO_NEW/cough/COVID_Negative/BQWFTBPS.flac'), PosixPath('dataset/AUDIO_NEW/cough/COVID_Negative/EVFRPYTN.flac'), PosixPath('dataset/AUDIO_NEW/cough/COVID_Negative/NGDWKOJW.flac'), PosixPath('dataset/AUDIO_NEW/cough/COVID_Negative/EDVGTJME.flac'), PosixPath('dataset/AUDIO_NEW/cough/COVID_Negative/GYEZORLW.flac'), PosixPath('dataset/AUDIO_NEW/cough/COVID_Negative/VRUGLHAF.flac'), PosixPath('dataset/AUDIO_NEW/cough/COVID_Negative/CZXZWJOY.flac'), PosixPath('dataset/AUDIO_NEW/cough/COVID_Negative/YVDVAJDC.flac'), PosixPath('dataset/AUDIO_NEW/cough/COVID_Negative/AFMGBOAW.flac'), PosixPath('dataset/AUDIO_NEW/cough/COVID_Negative/FBFXHWRE.flac'), PosixPath('dataset/AUDIO_NEW/cough/COVID_Negative/BKCTGCKU.flac'), PosixPath('dataset/AUDIO_NEW/cough/COVID_Negative/PBVRFNMC.flac'), PosixPath('dataset/AUDIO_NEW/cough/COVID_Negative/VJTXMHPK.flac'), PosixPath('dataset/AUDIO_NEW/cough/COVID_Negative/IJJRDWYC.flac'), PosixPath('dataset/AUDIO_NEW/cough/COVID_Negative/KDTFWVIN.flac'), PosixPath('dataset/AUDIO_NEW/cough/COVID_Negative/YGBLGZEF.flac'), PosixPath('dataset/AUDIO_NEW/cough/COVID_Negative/SLEAVGLQ.flac'), PosixPath('dataset/AUDIO_NEW/cough/COVID_Negative/ULFDXYAB.flac'), PosixPath('dataset/AUDIO_NEW/cough/COVID_Negative/XUCDBLZC.flac'), PosixPath('dataset/AUDIO_NEW/cough/COVID_Negative/XLIOSZXS.flac'), PosixPath('dataset/AUDIO_NEW/cough/COVID_Negative/IOZVRELD.flac'), PosixPath('dataset/AUDIO_NEW/cough/COVID_Negative/TWRYLYTW.flac'), PosixPath('dataset/AUDIO_NEW/cough/COVID_Negative/JZFNZWKU.flac'), PosixPath('dataset/AUDIO_NEW/cough/COVID_Negative/NVDIGDXP.flac'), PosixPath('dataset/AUDIO_NEW/cough/COVID_Negative/EUANSICC.flac'), PosixPath('dataset/AUDIO_NEW/cough/COVID_Negative/ZVDOEVEZ.flac'), PosixPath('dataset/AUDIO_NEW/cough/COVID_Negative/VBHKKVHJ.flac'), PosixPath('dataset/AUDIO_NEW/cough/COVID_Negative/LKQZGUSO.flac'), PosixPath('dataset/AUDIO_NEW/cough/COVID_Negative/RQARGEVK.flac'), PosixPath('dataset/AUDIO_NEW/cough/COVID_Negative/ZZMCBPNY.flac'), PosixPath('dataset/AUDIO_NEW/cough/COVID_Negative/PZIXLYOY.flac'), PosixPath('dataset/AUDIO_NEW/cough/COVID_Negative/ESAJHQUY.flac'), PosixPath('dataset/AUDIO_NEW/cough/COVID_Negative/ERYUZYCO.flac'), PosixPath('dataset/AUDIO_NEW/cough/COVID_Negative/XLSGYZFW.flac'), PosixPath('dataset/AUDIO_NEW/cough/COVID_Negative/LOVHVSMD.flac'), PosixPath('dataset/AUDIO_NEW/cough/COVID_Negative/YBZOCJEH.flac'), PosixPath('dataset/AUDIO_NEW/cough/COVID_Negative/VRWPHPNG.flac'), PosixPath('dataset/AUDIO_NEW/cough/COVID_Negative/LSINIRUQ.flac'), PosixPath('dataset/AUDIO_NEW/cough/COVID_Negative/PJLJEORH.flac'), PosixPath('dataset/AUDIO_NEW/cough/COVID_Negative/KTWEOGEF.flac'), PosixPath('dataset/AUDIO_NEW/cough/COVID_Negative/GAWPRABQ.flac'), PosixPath('dataset/AUDIO_NEW/cough/COVID_Negative/DZEREGIM.flac'), PosixPath('dataset/AUDIO_NEW/cough/COVID_Negative/GQTXDFXJ.flac'), PosixPath('dataset/AUDIO_NEW/cough/COVID_Negative/TVYMBDIW.flac'), PosixPath('dataset/AUDIO_NEW/cough/COVID_Negative/EOZIDSTG.flac'), PosixPath('dataset/AUDIO_NEW/cough/COVID_Negative/QMEFBDBH.flac'), PosixPath('dataset/AUDIO_NEW/cough/COVID_Negative/GIOMHKGH.flac'), PosixPath('dataset/AUDIO_NEW/cough/COVID_Negative/TWJITJJK.flac'), PosixPath('dataset/AUDIO_NEW/cough/COVID_Negative/JHIFUBTN.flac'), PosixPath('dataset/AUDIO_NEW/cough/COVID_Negative/JXJZAFRH.flac'), PosixPath('dataset/AUDIO_NEW/cough/COVID_Negative/NBILRRNT.flac'), PosixPath('dataset/AUDIO_NEW/cough/COVID_Negative/DXYCLJPA.flac'), PosixPath('dataset/AUDIO_NEW/cough/COVID_Negative/FYMQUHLA.flac'), PosixPath('dataset/AUDIO_NEW/cough/COVID_Negative/GSXCTFGZ.flac'), PosixPath('dataset/AUDIO_NEW/cough/COVID_Negative/OQEKLFQD.flac'), PosixPath('dataset/AUDIO_NEW/cough/COVID_Negative/HZOOWHAU.flac'), PosixPath('dataset/AUDIO_NEW/cough/COVID_Negative/NVSCECDA.flac'), PosixPath('dataset/AUDIO_NEW/cough/COVID_Negative/ZKZJWUUK.flac'), PosixPath('dataset/AUDIO_NEW/cough/COVID_Negative/ZACXGJWL.flac'), PosixPath('dataset/AUDIO_NEW/cough/COVID_Negative/XRAYBFVF.flac'), PosixPath('dataset/AUDIO_NEW/cough/COVID_Negative/ZBMFULWZ.flac'), PosixPath('dataset/AUDIO_NEW/cough/COVID_Negative/BQNBSELL.flac'), PosixPath('dataset/AUDIO_NEW/cough/COVID_Negative/ECXQFSYC.flac'), PosixPath('dataset/AUDIO_NEW/cough/COVID_Negative/VAWXIJDH.flac'), PosixPath('dataset/AUDIO_NEW/cough/COVID_Negative/NCOVLAVX.flac'), PosixPath('dataset/AUDIO_NEW/cough/COVID_Negative/ZSNOUBNJ.flac'), PosixPath('dataset/AUDIO_NEW/cough/COVID_Negative/ZDQBWRHT.flac'), PosixPath('dataset/AUDIO_NEW/cough/COVID_Negative/XWMNUSQF.flac'), PosixPath('dataset/AUDIO_NEW/cough/COVID_Negative/SFNJPWPN.flac'), PosixPath('dataset/AUDIO_NEW/cough/COVID_Negative/HHGJYJXT.flac'), PosixPath('dataset/AUDIO_NEW/cough/COVID_Negative/VBLTWXDS.flac'), PosixPath('dataset/AUDIO_NEW/cough/COVID_Negative/ACLAPDXF.flac'), PosixPath('dataset/AUDIO_NEW/cough/COVID_Negative/YLAXTREN.flac'), PosixPath('dataset/AUDIO_NEW/cough/COVID_Negative/WRCVKPRS.flac'), PosixPath('dataset/AUDIO_NEW/cough/COVID_Negative/CMGALPVU.flac'), PosixPath('dataset/AUDIO_NEW/cough/COVID_Negative/UOGDTUQT.flac'), PosixPath('dataset/AUDIO_NEW/cough/COVID_Negative/TXWHQOPP.flac'), PosixPath('dataset/AUDIO_NEW/cough/COVID_Negative/YTVXHGIY.flac'), PosixPath('dataset/AUDIO_NEW/cough/COVID_Negative/MSTBAUCK.flac'), PosixPath('dataset/AUDIO_NEW/cough/COVID_Negative/MSBVHAZR.flac'), PosixPath('dataset/AUDIO_NEW/cough/COVID_Negative/QMDOXZMG.flac'), PosixPath('dataset/AUDIO_NEW/cough/COVID_Negative/IUNJIVUN.flac'), PosixPath('dataset/AUDIO_NEW/cough/COVID_Negative/SECEYHKG.flac'), PosixPath('dataset/AUDIO_NEW/cough/COVID_Negative/OTQNZHOZ.flac'), PosixPath('dataset/AUDIO_NEW/cough/COVID_Negative/QDDCPOTP.flac'), PosixPath('dataset/AUDIO_NEW/cough/COVID_Negative/DKWCDKOR.flac'), PosixPath('dataset/AUDIO_NEW/cough/COVID_Negative/WNMNYPSW.flac'), PosixPath('dataset/AUDIO_NEW/cough/COVID_Negative/HTAQTXGV.flac'), PosixPath('dataset/AUDIO_NEW/cough/COVID_Negative/PMFTVRRS.flac'), PosixPath('dataset/AUDIO_NEW/cough/COVID_Negative/TVLPZLCG.flac'), PosixPath('dataset/AUDIO_NEW/cough/COVID_Negative/VYMBASHB.flac'), PosixPath('dataset/AUDIO_NEW/cough/COVID_Negative/MLPVAFZM.flac'), PosixPath('dataset/AUDIO_NEW/cough/COVID_Negative/VVUGGXWW.flac'), PosixPath('dataset/AUDIO_NEW/cough/COVID_Negative/WHMJITMY.flac'), PosixPath('dataset/AUDIO_NEW/cough/COVID_Negative/HTCFAFDO.flac'), PosixPath('dataset/AUDIO_NEW/cough/COVID_Negative/ZTDRNUTC.flac'), PosixPath('dataset/AUDIO_NEW/cough/COVID_Negative/WCGACSLP.flac'), PosixPath('dataset/AUDIO_NEW/cough/COVID_Negative/KMOXPLUW.flac'), PosixPath('dataset/AUDIO_NEW/cough/COVID_Negative/VHWVLMPZ.flac'), PosixPath('dataset/AUDIO_NEW/cough/COVID_Negative/NPHYFCYK.flac'), PosixPath('dataset/AUDIO_NEW/cough/COVID_Negative/PDVWUZWF.flac'), PosixPath('dataset/AUDIO_NEW/cough/COVID_Negative/XCELQJNH.flac'), PosixPath('dataset/AUDIO_NEW/cough/COVID_Negative/MCNAFCEF.flac'), PosixPath('dataset/AUDIO_NEW/cough/COVID_Negative/ILFDYDWF.flac'), PosixPath('dataset/AUDIO_NEW/cough/COVID_Negative/YFIRDUDE.flac'), PosixPath('dataset/AUDIO_NEW/cough/COVID_Negative/UQPZHUKM.flac'), PosixPath('dataset/AUDIO_NEW/cough/COVID_Negative/UUNFXSWL.flac'), PosixPath('dataset/AUDIO_NEW/cough/COVID_Negative/JKVQXDDS.flac'), PosixPath('dataset/AUDIO_NEW/cough/COVID_Negative/MMZKJKFZ.flac'), PosixPath('dataset/AUDIO_NEW/cough/COVID_Negative/MRVTUMNZ.flac'), PosixPath('dataset/AUDIO_NEW/cough/COVID_Negative/HKQFIXPG.flac'), PosixPath('dataset/AUDIO_NEW/cough/COVID_Negative/GCWPUSSE.flac'), PosixPath('dataset/AUDIO_NEW/cough/COVID_Negative/HRAMCPHD.flac'), PosixPath('dataset/AUDIO_NEW/cough/COVID_Negative/PMJCLCIS.flac'), PosixPath('dataset/AUDIO_NEW/cough/COVID_Negative/LPSDPGSW.flac'), PosixPath('dataset/AUDIO_NEW/cough/COVID_Negative/QIKGTPWR.flac'), PosixPath('dataset/AUDIO_NEW/cough/COVID_Negative/VBGUQIFD.flac'), PosixPath('dataset/AUDIO_NEW/cough/COVID_Negative/LAEEFKHG.flac')]! \n",
      "Number of positive samples: 34\n",
      "Number of negative samples: 158\n",
      "Completed creating features for [PosixPath('dataset/AUDIO_NEW/cough/COVID_Positive/LHAWOQOA.flac'), PosixPath('dataset/AUDIO_NEW/cough/COVID_Positive/VGXDXWBW.flac'), PosixPath('dataset/AUDIO_NEW/cough/COVID_Positive/XAWZQFQZ.flac'), PosixPath('dataset/AUDIO_NEW/cough/COVID_Positive/IZNQFPTZ.flac'), PosixPath('dataset/AUDIO_NEW/cough/COVID_Positive/YAFNLTYD.flac'), PosixPath('dataset/AUDIO_NEW/cough/COVID_Positive/ZALDIGPM.flac'), PosixPath('dataset/AUDIO_NEW/cough/COVID_Positive/MTVTPSZZ.flac'), PosixPath('dataset/AUDIO_NEW/cough/COVID_Positive/VMZHVYBP.flac'), PosixPath('dataset/AUDIO_NEW/cough/COVID_Positive/SRAVSZTB.flac'), PosixPath('dataset/AUDIO_NEW/cough/COVID_Positive/EHHDACVI.flac'), PosixPath('dataset/AUDIO_NEW/cough/COVID_Positive/UFIFXQAP.flac'), PosixPath('dataset/AUDIO_NEW/cough/COVID_Positive/RSNVHYQJ.flac'), PosixPath('dataset/AUDIO_NEW/cough/COVID_Positive/GAUSATWC.flac'), PosixPath('dataset/AUDIO_NEW/cough/COVID_Positive/OEBNCSCD.flac'), PosixPath('dataset/AUDIO_NEW/cough/COVID_Positive/WGLAXOFO.flac'), PosixPath('dataset/AUDIO_NEW/cough/COVID_Positive/BOMXACHU.flac'), PosixPath('dataset/AUDIO_NEW/cough/COVID_Positive/VEXPGKXS.flac'), PosixPath('dataset/AUDIO_NEW/cough/COVID_Positive/DKXPLQIT.flac'), PosixPath('dataset/AUDIO_NEW/cough/COVID_Positive/LDXQBHQV.flac'), PosixPath('dataset/AUDIO_NEW/cough/COVID_Positive/WDBFDLUX.flac'), PosixPath('dataset/AUDIO_NEW/cough/COVID_Positive/DZWZGUXL.flac'), PosixPath('dataset/AUDIO_NEW/cough/COVID_Positive/EEFEJDNQ.flac'), PosixPath('dataset/AUDIO_NEW/cough/COVID_Positive/ILQLERFN.flac'), PosixPath('dataset/AUDIO_NEW/cough/COVID_Positive/SOAJJJRJ.flac'), PosixPath('dataset/AUDIO_NEW/cough/COVID_Positive/ZOHJBAHB.flac'), PosixPath('dataset/AUDIO_NEW/cough/COVID_Positive/BYDNBEEK.flac'), PosixPath('dataset/AUDIO_NEW/cough/COVID_Positive/BQDUGOVT.flac'), PosixPath('dataset/AUDIO_NEW/cough/COVID_Positive/RHLWBBCI.flac'), PosixPath('dataset/AUDIO_NEW/cough/COVID_Positive/BWXXVSVX.flac'), PosixPath('dataset/AUDIO_NEW/cough/COVID_Positive/BBNYYTCZ.flac'), PosixPath('dataset/AUDIO_NEW/cough/COVID_Positive/VKQYYUNP.flac'), PosixPath('dataset/AUDIO_NEW/cough/COVID_Positive/ARVDHJXU.flac'), PosixPath('dataset/AUDIO_NEW/cough/COVID_Positive/FGYDTCSG.flac'), PosixPath('dataset/AUDIO_NEW/cough/COVID_Positive/UFQSDOZX.flac')] and [PosixPath('dataset/AUDIO_NEW/cough/COVID_Negative/QVVWAVMF.flac'), PosixPath('dataset/AUDIO_NEW/cough/COVID_Negative/XZBQKTSK.flac'), PosixPath('dataset/AUDIO_NEW/cough/COVID_Negative/YDCZWUOH.flac'), PosixPath('dataset/AUDIO_NEW/cough/COVID_Negative/VSEBEJDD.flac'), PosixPath('dataset/AUDIO_NEW/cough/COVID_Negative/NRIKZRIX.flac'), PosixPath('dataset/AUDIO_NEW/cough/COVID_Negative/WDEZVJVD.flac'), PosixPath('dataset/AUDIO_NEW/cough/COVID_Negative/UQKFGZUI.flac'), PosixPath('dataset/AUDIO_NEW/cough/COVID_Negative/QNLEWKPH.flac'), PosixPath('dataset/AUDIO_NEW/cough/COVID_Negative/ZHBVQRYX.flac'), PosixPath('dataset/AUDIO_NEW/cough/COVID_Negative/EIZMRTLF.flac'), PosixPath('dataset/AUDIO_NEW/cough/COVID_Negative/FISKGDQI.flac'), PosixPath('dataset/AUDIO_NEW/cough/COVID_Negative/CILWQDUL.flac'), PosixPath('dataset/AUDIO_NEW/cough/COVID_Negative/UZRWYLSZ.flac'), PosixPath('dataset/AUDIO_NEW/cough/COVID_Negative/HYIPCRDX.flac'), PosixPath('dataset/AUDIO_NEW/cough/COVID_Negative/JBJKLSRU.flac'), PosixPath('dataset/AUDIO_NEW/cough/COVID_Negative/IZDSFCGK.flac'), PosixPath('dataset/AUDIO_NEW/cough/COVID_Negative/JIFGOBDL.flac'), PosixPath('dataset/AUDIO_NEW/cough/COVID_Negative/GBUJZAML.flac'), PosixPath('dataset/AUDIO_NEW/cough/COVID_Negative/YUYZEDWL.flac'), PosixPath('dataset/AUDIO_NEW/cough/COVID_Negative/KPGPEOCQ.flac'), PosixPath('dataset/AUDIO_NEW/cough/COVID_Negative/RNULDCCD.flac'), PosixPath('dataset/AUDIO_NEW/cough/COVID_Negative/FNBGZJGB.flac'), PosixPath('dataset/AUDIO_NEW/cough/COVID_Negative/MJWDQQMZ.flac'), PosixPath('dataset/AUDIO_NEW/cough/COVID_Negative/RATHNBXM.flac'), PosixPath('dataset/AUDIO_NEW/cough/COVID_Negative/HBGPBVNK.flac'), PosixPath('dataset/AUDIO_NEW/cough/COVID_Negative/HTVKVBPE.flac'), PosixPath('dataset/AUDIO_NEW/cough/COVID_Negative/DAOJYZLP.flac'), PosixPath('dataset/AUDIO_NEW/cough/COVID_Negative/PGARVXOB.flac'), PosixPath('dataset/AUDIO_NEW/cough/COVID_Negative/IXDYYRAA.flac'), PosixPath('dataset/AUDIO_NEW/cough/COVID_Negative/ZAMULFCD.flac'), PosixPath('dataset/AUDIO_NEW/cough/COVID_Negative/LPIGMFBS.flac'), PosixPath('dataset/AUDIO_NEW/cough/COVID_Negative/EKOSCTDP.flac'), PosixPath('dataset/AUDIO_NEW/cough/COVID_Negative/UIKPAYTQ.flac'), PosixPath('dataset/AUDIO_NEW/cough/COVID_Negative/QEJJIHWU.flac'), PosixPath('dataset/AUDIO_NEW/cough/COVID_Negative/MJUNVFVA.flac'), PosixPath('dataset/AUDIO_NEW/cough/COVID_Negative/GNKTWAYU.flac'), PosixPath('dataset/AUDIO_NEW/cough/COVID_Negative/WIMSSIHS.flac'), PosixPath('dataset/AUDIO_NEW/cough/COVID_Negative/TFPDKUUB.flac'), PosixPath('dataset/AUDIO_NEW/cough/COVID_Negative/NXEWOFPP.flac'), PosixPath('dataset/AUDIO_NEW/cough/COVID_Negative/BYLIIJIF.flac'), PosixPath('dataset/AUDIO_NEW/cough/COVID_Negative/KWPAYCJY.flac'), PosixPath('dataset/AUDIO_NEW/cough/COVID_Negative/CYUYAUBW.flac'), PosixPath('dataset/AUDIO_NEW/cough/COVID_Negative/KIOUCLNC.flac'), PosixPath('dataset/AUDIO_NEW/cough/COVID_Negative/NUXMKRTG.flac'), PosixPath('dataset/AUDIO_NEW/cough/COVID_Negative/KAHQELVQ.flac'), PosixPath('dataset/AUDIO_NEW/cough/COVID_Negative/JFDWVLPR.flac'), PosixPath('dataset/AUDIO_NEW/cough/COVID_Negative/OKKURGBW.flac'), PosixPath('dataset/AUDIO_NEW/cough/COVID_Negative/TTOILUFY.flac'), PosixPath('dataset/AUDIO_NEW/cough/COVID_Negative/OQRBAXQB.flac'), PosixPath('dataset/AUDIO_NEW/cough/COVID_Negative/PIJSVYUF.flac'), PosixPath('dataset/AUDIO_NEW/cough/COVID_Negative/SLDFYASD.flac'), PosixPath('dataset/AUDIO_NEW/cough/COVID_Negative/EZBKORPS.flac'), PosixPath('dataset/AUDIO_NEW/cough/COVID_Negative/IOXRXLGN.flac'), PosixPath('dataset/AUDIO_NEW/cough/COVID_Negative/SWSNHYXQ.flac'), PosixPath('dataset/AUDIO_NEW/cough/COVID_Negative/AXXYUZNB.flac'), PosixPath('dataset/AUDIO_NEW/cough/COVID_Negative/BGQINZDF.flac'), PosixPath('dataset/AUDIO_NEW/cough/COVID_Negative/UFQLAGZU.flac'), PosixPath('dataset/AUDIO_NEW/cough/COVID_Negative/AGVUCEHF.flac'), PosixPath('dataset/AUDIO_NEW/cough/COVID_Negative/HIZWMXQV.flac'), PosixPath('dataset/AUDIO_NEW/cough/COVID_Negative/HWZGHNUV.flac'), PosixPath('dataset/AUDIO_NEW/cough/COVID_Negative/JYGPPNLO.flac'), PosixPath('dataset/AUDIO_NEW/cough/COVID_Negative/BRFBRYNH.flac'), PosixPath('dataset/AUDIO_NEW/cough/COVID_Negative/RIRKLDOP.flac'), PosixPath('dataset/AUDIO_NEW/cough/COVID_Negative/GZSOKKGU.flac'), PosixPath('dataset/AUDIO_NEW/cough/COVID_Negative/TUSNQCSS.flac'), PosixPath('dataset/AUDIO_NEW/cough/COVID_Negative/WNMVYPYC.flac'), PosixPath('dataset/AUDIO_NEW/cough/COVID_Negative/VSOQCRRM.flac'), PosixPath('dataset/AUDIO_NEW/cough/COVID_Negative/QEECDWID.flac'), PosixPath('dataset/AUDIO_NEW/cough/COVID_Negative/CFOZNKVX.flac'), PosixPath('dataset/AUDIO_NEW/cough/COVID_Negative/RJNACDMA.flac'), PosixPath('dataset/AUDIO_NEW/cough/COVID_Negative/DGVBOXRD.flac'), PosixPath('dataset/AUDIO_NEW/cough/COVID_Negative/QCSVTKAG.flac'), PosixPath('dataset/AUDIO_NEW/cough/COVID_Negative/TJNXHKLG.flac'), PosixPath('dataset/AUDIO_NEW/cough/COVID_Negative/YDQGQEJY.flac'), PosixPath('dataset/AUDIO_NEW/cough/COVID_Negative/JWDLTRNW.flac'), PosixPath('dataset/AUDIO_NEW/cough/COVID_Negative/JSZMZDPR.flac'), PosixPath('dataset/AUDIO_NEW/cough/COVID_Negative/VLGLJOHZ.flac'), PosixPath('dataset/AUDIO_NEW/cough/COVID_Negative/BLLALITL.flac'), PosixPath('dataset/AUDIO_NEW/cough/COVID_Negative/TIKMUJBL.flac'), PosixPath('dataset/AUDIO_NEW/cough/COVID_Negative/KFOWNALN.flac'), PosixPath('dataset/AUDIO_NEW/cough/COVID_Negative/WEOSJWAR.flac'), PosixPath('dataset/AUDIO_NEW/cough/COVID_Negative/CDKOVAAF.flac'), PosixPath('dataset/AUDIO_NEW/cough/COVID_Negative/JCQYJDPD.flac'), PosixPath('dataset/AUDIO_NEW/cough/COVID_Negative/CEESRFAY.flac'), PosixPath('dataset/AUDIO_NEW/cough/COVID_Negative/KNMPOTAM.flac'), PosixPath('dataset/AUDIO_NEW/cough/COVID_Negative/RNRWJMQY.flac'), PosixPath('dataset/AUDIO_NEW/cough/COVID_Negative/OOFLPSLD.flac'), PosixPath('dataset/AUDIO_NEW/cough/COVID_Negative/XHSLIVFZ.flac'), PosixPath('dataset/AUDIO_NEW/cough/COVID_Negative/YNMPOWMJ.flac'), PosixPath('dataset/AUDIO_NEW/cough/COVID_Negative/KWBDTRUO.flac'), PosixPath('dataset/AUDIO_NEW/cough/COVID_Negative/MRPWKEZE.flac'), PosixPath('dataset/AUDIO_NEW/cough/COVID_Negative/PBMZKAMG.flac'), PosixPath('dataset/AUDIO_NEW/cough/COVID_Negative/QWZGKNXN.flac'), PosixPath('dataset/AUDIO_NEW/cough/COVID_Negative/HHEHCVKI.flac'), PosixPath('dataset/AUDIO_NEW/cough/COVID_Negative/ZUHFTYAC.flac'), PosixPath('dataset/AUDIO_NEW/cough/COVID_Negative/OPCIRRLE.flac'), PosixPath('dataset/AUDIO_NEW/cough/COVID_Negative/YYNTGXHR.flac'), PosixPath('dataset/AUDIO_NEW/cough/COVID_Negative/CTVXCLUT.flac'), PosixPath('dataset/AUDIO_NEW/cough/COVID_Negative/CAUFHZEE.flac'), PosixPath('dataset/AUDIO_NEW/cough/COVID_Negative/AKZNODSB.flac'), PosixPath('dataset/AUDIO_NEW/cough/COVID_Negative/XIGZLRQW.flac'), PosixPath('dataset/AUDIO_NEW/cough/COVID_Negative/LUQKGBJU.flac'), PosixPath('dataset/AUDIO_NEW/cough/COVID_Negative/TSZUKQEY.flac'), PosixPath('dataset/AUDIO_NEW/cough/COVID_Negative/ILDGBTKL.flac'), PosixPath('dataset/AUDIO_NEW/cough/COVID_Negative/UYESHKIZ.flac'), PosixPath('dataset/AUDIO_NEW/cough/COVID_Negative/VFMLUBVA.flac'), PosixPath('dataset/AUDIO_NEW/cough/COVID_Negative/RVRUSVFU.flac'), PosixPath('dataset/AUDIO_NEW/cough/COVID_Negative/BXBNMRCP.flac'), PosixPath('dataset/AUDIO_NEW/cough/COVID_Negative/FGTNZSTY.flac'), PosixPath('dataset/AUDIO_NEW/cough/COVID_Negative/ECRQIHWC.flac'), PosixPath('dataset/AUDIO_NEW/cough/COVID_Negative/RBBOQYEV.flac'), PosixPath('dataset/AUDIO_NEW/cough/COVID_Negative/WKPYQEPK.flac'), PosixPath('dataset/AUDIO_NEW/cough/COVID_Negative/CTARUMOJ.flac'), PosixPath('dataset/AUDIO_NEW/cough/COVID_Negative/PVOBFOGQ.flac'), PosixPath('dataset/AUDIO_NEW/cough/COVID_Negative/CSWGJXWP.flac'), PosixPath('dataset/AUDIO_NEW/cough/COVID_Negative/ONOTPBTG.flac'), PosixPath('dataset/AUDIO_NEW/cough/COVID_Negative/FYYDNDDH.flac'), PosixPath('dataset/AUDIO_NEW/cough/COVID_Negative/KFSAZMYX.flac'), PosixPath('dataset/AUDIO_NEW/cough/COVID_Negative/RENULYPT.flac'), PosixPath('dataset/AUDIO_NEW/cough/COVID_Negative/JXMZTTQM.flac'), PosixPath('dataset/AUDIO_NEW/cough/COVID_Negative/XOVVNURO.flac'), PosixPath('dataset/AUDIO_NEW/cough/COVID_Negative/OGPPZDKI.flac'), PosixPath('dataset/AUDIO_NEW/cough/COVID_Negative/XEQWVUAB.flac'), PosixPath('dataset/AUDIO_NEW/cough/COVID_Negative/IMXXDFSZ.flac'), PosixPath('dataset/AUDIO_NEW/cough/COVID_Negative/HUDPGNFQ.flac'), PosixPath('dataset/AUDIO_NEW/cough/COVID_Negative/SACIIKPU.flac'), PosixPath('dataset/AUDIO_NEW/cough/COVID_Negative/TEOWORGS.flac'), PosixPath('dataset/AUDIO_NEW/cough/COVID_Negative/OWDNLDWL.flac'), PosixPath('dataset/AUDIO_NEW/cough/COVID_Negative/EKOHCANS.flac'), PosixPath('dataset/AUDIO_NEW/cough/COVID_Negative/RXUBUCCN.flac'), PosixPath('dataset/AUDIO_NEW/cough/COVID_Negative/TSKYEVMV.flac'), PosixPath('dataset/AUDIO_NEW/cough/COVID_Negative/BOGVZXCJ.flac'), PosixPath('dataset/AUDIO_NEW/cough/COVID_Negative/ITTUDODS.flac'), PosixPath('dataset/AUDIO_NEW/cough/COVID_Negative/DGKYFAJM.flac'), PosixPath('dataset/AUDIO_NEW/cough/COVID_Negative/RCKSGRZU.flac'), PosixPath('dataset/AUDIO_NEW/cough/COVID_Negative/BSTTTNIY.flac'), PosixPath('dataset/AUDIO_NEW/cough/COVID_Negative/DRCEAKUZ.flac'), PosixPath('dataset/AUDIO_NEW/cough/COVID_Negative/HFLHVMMB.flac'), PosixPath('dataset/AUDIO_NEW/cough/COVID_Negative/BAJDHDLE.flac'), PosixPath('dataset/AUDIO_NEW/cough/COVID_Negative/CGIBOVKK.flac'), PosixPath('dataset/AUDIO_NEW/cough/COVID_Negative/BMPQEXLH.flac'), PosixPath('dataset/AUDIO_NEW/cough/COVID_Negative/HZSCMMOT.flac'), PosixPath('dataset/AUDIO_NEW/cough/COVID_Negative/XOEMICRX.flac'), PosixPath('dataset/AUDIO_NEW/cough/COVID_Negative/JISUZQHJ.flac'), PosixPath('dataset/AUDIO_NEW/cough/COVID_Negative/JYDGBSYL.flac'), PosixPath('dataset/AUDIO_NEW/cough/COVID_Negative/MTMZQOQU.flac'), PosixPath('dataset/AUDIO_NEW/cough/COVID_Negative/RHDNXKED.flac'), PosixPath('dataset/AUDIO_NEW/cough/COVID_Negative/HYVYXSCB.flac'), PosixPath('dataset/AUDIO_NEW/cough/COVID_Negative/SSCKVNDN.flac'), PosixPath('dataset/AUDIO_NEW/cough/COVID_Negative/KPTENCMG.flac'), PosixPath('dataset/AUDIO_NEW/cough/COVID_Negative/VEZLFNEL.flac'), PosixPath('dataset/AUDIO_NEW/cough/COVID_Negative/FAYAIBQU.flac'), PosixPath('dataset/AUDIO_NEW/cough/COVID_Negative/ZBSUMCIO.flac'), PosixPath('dataset/AUDIO_NEW/cough/COVID_Negative/OLOJOLQJ.flac'), PosixPath('dataset/AUDIO_NEW/cough/COVID_Negative/AWBEGKDR.flac'), PosixPath('dataset/AUDIO_NEW/cough/COVID_Negative/PIQGNUVC.flac'), PosixPath('dataset/AUDIO_NEW/cough/COVID_Negative/KGSJHWXW.flac'), PosixPath('dataset/AUDIO_NEW/cough/COVID_Negative/WPODUPZU.flac')]! \n",
      "Number of positive samples: 828\n",
      "Number of negative samples: 635\n",
      "Completed creating features for [PosixPath('dataset/AUDIO_NEW/speech/COVID_Positive/LWGYMJSP.flac'), PosixPath('dataset/AUDIO_NEW/speech/COVID_Positive/RAZZZUHF.flac'), PosixPath('dataset/AUDIO_NEW/speech/COVID_Positive/IMVMQMPG.flac'), PosixPath('dataset/AUDIO_NEW/speech/COVID_Positive/GDWOVBBO.flac'), PosixPath('dataset/AUDIO_NEW/speech/COVID_Positive/MEVKZFWH.flac'), PosixPath('dataset/AUDIO_NEW/speech/COVID_Positive/JQLDLKIU.flac'), PosixPath('dataset/AUDIO_NEW/speech/COVID_Positive/GPGASWOP.flac'), PosixPath('dataset/AUDIO_NEW/speech/COVID_Positive/AFOHJNUB.flac'), PosixPath('dataset/AUDIO_NEW/speech/COVID_Positive/PRAXIPZS.flac'), PosixPath('dataset/AUDIO_NEW/speech/COVID_Positive/XDZIBGME.flac'), PosixPath('dataset/AUDIO_NEW/speech/COVID_Positive/TTJCNUWS.flac'), PosixPath('dataset/AUDIO_NEW/speech/COVID_Positive/QXNGHUAD.flac'), PosixPath('dataset/AUDIO_NEW/speech/COVID_Positive/HMUZRBFK.flac'), PosixPath('dataset/AUDIO_NEW/speech/COVID_Positive/DRMJWSBI.flac'), PosixPath('dataset/AUDIO_NEW/speech/COVID_Positive/WVOEVNCU.flac'), PosixPath('dataset/AUDIO_NEW/speech/COVID_Positive/VCTMLMTB.flac'), PosixPath('dataset/AUDIO_NEW/speech/COVID_Positive/RAQRLISN.flac'), PosixPath('dataset/AUDIO_NEW/speech/COVID_Positive/JRVXFFDL.flac'), PosixPath('dataset/AUDIO_NEW/speech/COVID_Positive/ERFZNNFK.flac'), PosixPath('dataset/AUDIO_NEW/speech/COVID_Positive/ULMHNFLI.flac'), PosixPath('dataset/AUDIO_NEW/speech/COVID_Positive/CKRDCAJH.flac'), PosixPath('dataset/AUDIO_NEW/speech/COVID_Positive/VLQKSTCA.flac'), PosixPath('dataset/AUDIO_NEW/speech/COVID_Positive/PGBDRKJQ.flac'), PosixPath('dataset/AUDIO_NEW/speech/COVID_Positive/JRIDBTOH.flac'), PosixPath('dataset/AUDIO_NEW/speech/COVID_Positive/YSRLDVCS.flac'), PosixPath('dataset/AUDIO_NEW/speech/COVID_Positive/AXWINTYF.flac'), PosixPath('dataset/AUDIO_NEW/speech/COVID_Positive/KDYLNCDL.flac'), PosixPath('dataset/AUDIO_NEW/speech/COVID_Positive/YVZNNTAW.flac'), PosixPath('dataset/AUDIO_NEW/speech/COVID_Positive/ALBIXZJY.flac'), PosixPath('dataset/AUDIO_NEW/speech/COVID_Positive/DXMUJJZO.flac'), PosixPath('dataset/AUDIO_NEW/speech/COVID_Positive/TFGKRHUM.flac'), PosixPath('dataset/AUDIO_NEW/speech/COVID_Positive/AJGPTLEM.flac'), PosixPath('dataset/AUDIO_NEW/speech/COVID_Positive/EJUCFCMP.flac'), PosixPath('dataset/AUDIO_NEW/speech/COVID_Positive/JXCPSHIB.flac'), PosixPath('dataset/AUDIO_NEW/speech/COVID_Positive/THSEVCAS.flac'), PosixPath('dataset/AUDIO_NEW/speech/COVID_Positive/VDYIGEGY.flac'), PosixPath('dataset/AUDIO_NEW/speech/COVID_Positive/ASFNYPIP.flac'), PosixPath('dataset/AUDIO_NEW/speech/COVID_Positive/SGISFSZA.flac'), PosixPath('dataset/AUDIO_NEW/speech/COVID_Positive/UAWKKNHF.flac'), PosixPath('dataset/AUDIO_NEW/speech/COVID_Positive/ABEEJBTZ.flac'), PosixPath('dataset/AUDIO_NEW/speech/COVID_Positive/YJYUSESA.flac'), PosixPath('dataset/AUDIO_NEW/speech/COVID_Positive/YZFQUGFD.flac'), PosixPath('dataset/AUDIO_NEW/speech/COVID_Positive/JLISAUWH.flac'), PosixPath('dataset/AUDIO_NEW/speech/COVID_Positive/GNIJMSNO.flac'), PosixPath('dataset/AUDIO_NEW/speech/COVID_Positive/OTHQLMSW.flac'), PosixPath('dataset/AUDIO_NEW/speech/COVID_Positive/DYQIILYA.flac'), PosixPath('dataset/AUDIO_NEW/speech/COVID_Positive/FXTZOQME.flac'), PosixPath('dataset/AUDIO_NEW/speech/COVID_Positive/UFEPYKMD.flac'), PosixPath('dataset/AUDIO_NEW/speech/COVID_Positive/DOBXWEAK.flac'), PosixPath('dataset/AUDIO_NEW/speech/COVID_Positive/CYZRARSB.flac'), PosixPath('dataset/AUDIO_NEW/speech/COVID_Positive/UVNYKHCA.flac'), PosixPath('dataset/AUDIO_NEW/speech/COVID_Positive/MAQAUBAA.flac'), PosixPath('dataset/AUDIO_NEW/speech/COVID_Positive/LWWBEEQE.flac'), PosixPath('dataset/AUDIO_NEW/speech/COVID_Positive/MPTVAMFL.flac'), PosixPath('dataset/AUDIO_NEW/speech/COVID_Positive/FTBMVHFC.flac'), PosixPath('dataset/AUDIO_NEW/speech/COVID_Positive/PXOBLVGW.flac'), PosixPath('dataset/AUDIO_NEW/speech/COVID_Positive/MWVGAAEI.flac'), PosixPath('dataset/AUDIO_NEW/speech/COVID_Positive/YTUUEWTN.flac'), PosixPath('dataset/AUDIO_NEW/speech/COVID_Positive/ZIVMGJDH.flac'), PosixPath('dataset/AUDIO_NEW/speech/COVID_Positive/VVXAOBIQ.flac'), PosixPath('dataset/AUDIO_NEW/speech/COVID_Positive/HBJDPFKX.flac'), PosixPath('dataset/AUDIO_NEW/speech/COVID_Positive/PADSFUKF.flac'), PosixPath('dataset/AUDIO_NEW/speech/COVID_Positive/VIHAYLIR.flac'), PosixPath('dataset/AUDIO_NEW/speech/COVID_Positive/JDCTZUCQ.flac'), PosixPath('dataset/AUDIO_NEW/speech/COVID_Positive/KUEYJJHT.flac'), PosixPath('dataset/AUDIO_NEW/speech/COVID_Positive/EJVCCKSN.flac'), PosixPath('dataset/AUDIO_NEW/speech/COVID_Positive/UCBREFEO.flac'), PosixPath('dataset/AUDIO_NEW/speech/COVID_Positive/UVTEGCPD.flac'), PosixPath('dataset/AUDIO_NEW/speech/COVID_Positive/VEZCLNIH.flac'), PosixPath('dataset/AUDIO_NEW/speech/COVID_Positive/JGFKEWPJ.flac'), PosixPath('dataset/AUDIO_NEW/speech/COVID_Positive/ZUYTFZYB.flac'), PosixPath('dataset/AUDIO_NEW/speech/COVID_Positive/RMVYQUCU.flac'), PosixPath('dataset/AUDIO_NEW/speech/COVID_Positive/SBGLANZL.flac'), PosixPath('dataset/AUDIO_NEW/speech/COVID_Positive/RIGPNZYT.flac'), PosixPath('dataset/AUDIO_NEW/speech/COVID_Positive/HWTKPWRX.flac'), PosixPath('dataset/AUDIO_NEW/speech/COVID_Positive/AKEKAWSC.flac'), PosixPath('dataset/AUDIO_NEW/speech/COVID_Positive/UQMJSSEM.flac'), PosixPath('dataset/AUDIO_NEW/speech/COVID_Positive/AHZMVOLO.flac'), PosixPath('dataset/AUDIO_NEW/speech/COVID_Positive/YOIZLTMI.flac'), PosixPath('dataset/AUDIO_NEW/speech/COVID_Positive/HJVPBHIK.flac'), PosixPath('dataset/AUDIO_NEW/speech/COVID_Positive/EMRLKJCU.flac'), PosixPath('dataset/AUDIO_NEW/speech/COVID_Positive/LZPQDKKB.flac'), PosixPath('dataset/AUDIO_NEW/speech/COVID_Positive/LTLUEBKB.flac'), PosixPath('dataset/AUDIO_NEW/speech/COVID_Positive/EKDSASKT.flac'), PosixPath('dataset/AUDIO_NEW/speech/COVID_Positive/GSCDSZVF.flac'), PosixPath('dataset/AUDIO_NEW/speech/COVID_Positive/ALVEHKKL.flac'), PosixPath('dataset/AUDIO_NEW/speech/COVID_Positive/GLWCAKZT.flac'), PosixPath('dataset/AUDIO_NEW/speech/COVID_Positive/KFDUHMPN.flac'), PosixPath('dataset/AUDIO_NEW/speech/COVID_Positive/VDGXGAKJ.flac'), PosixPath('dataset/AUDIO_NEW/speech/COVID_Positive/RTHBTMSA.flac'), PosixPath('dataset/AUDIO_NEW/speech/COVID_Positive/OIDXSCNZ.flac'), PosixPath('dataset/AUDIO_NEW/speech/COVID_Positive/MFOVBTXY.flac'), PosixPath('dataset/AUDIO_NEW/speech/COVID_Positive/XKSBYHAB.flac'), PosixPath('dataset/AUDIO_NEW/speech/COVID_Positive/XOXIOPIG.flac'), PosixPath('dataset/AUDIO_NEW/speech/COVID_Positive/NWAXMTAI.flac'), PosixPath('dataset/AUDIO_NEW/speech/COVID_Positive/ALWLORJT.flac'), PosixPath('dataset/AUDIO_NEW/speech/COVID_Positive/BIATZVOE.flac'), PosixPath('dataset/AUDIO_NEW/speech/COVID_Positive/IQYUYXTF.flac'), PosixPath('dataset/AUDIO_NEW/speech/COVID_Positive/WHDWROXM.flac'), PosixPath('dataset/AUDIO_NEW/speech/COVID_Positive/VBIAHODB.flac'), PosixPath('dataset/AUDIO_NEW/speech/COVID_Positive/BVOJGHZS.flac'), PosixPath('dataset/AUDIO_NEW/speech/COVID_Positive/KOOTDZHZ.flac'), PosixPath('dataset/AUDIO_NEW/speech/COVID_Positive/WYJAGBSH.flac'), PosixPath('dataset/AUDIO_NEW/speech/COVID_Positive/VDSQQXMU.flac'), PosixPath('dataset/AUDIO_NEW/speech/COVID_Positive/VPCPFQVJ.flac'), PosixPath('dataset/AUDIO_NEW/speech/COVID_Positive/YJMSPOGD.flac'), PosixPath('dataset/AUDIO_NEW/speech/COVID_Positive/JKWWXNJA.flac'), PosixPath('dataset/AUDIO_NEW/speech/COVID_Positive/IFPRPNRB.flac'), PosixPath('dataset/AUDIO_NEW/speech/COVID_Positive/RLAOCLTO.flac'), PosixPath('dataset/AUDIO_NEW/speech/COVID_Positive/HKBIVTRW.flac'), PosixPath('dataset/AUDIO_NEW/speech/COVID_Positive/ZOIYEWCJ.flac'), PosixPath('dataset/AUDIO_NEW/speech/COVID_Positive/IQLDNYJA.flac'), PosixPath('dataset/AUDIO_NEW/speech/COVID_Positive/HISLBGDT.flac'), PosixPath('dataset/AUDIO_NEW/speech/COVID_Positive/NOYALWYW.flac'), PosixPath('dataset/AUDIO_NEW/speech/COVID_Positive/CEWKRUIC.flac'), PosixPath('dataset/AUDIO_NEW/speech/COVID_Positive/IOHZIUVB.flac'), PosixPath('dataset/AUDIO_NEW/speech/COVID_Positive/ZDEBFQCC.flac'), PosixPath('dataset/AUDIO_NEW/speech/COVID_Positive/UWYAUHCW.flac'), PosixPath('dataset/AUDIO_NEW/speech/COVID_Positive/ETTUXRXB.flac'), PosixPath('dataset/AUDIO_NEW/speech/COVID_Positive/YVOTIZVE.flac'), PosixPath('dataset/AUDIO_NEW/speech/COVID_Positive/ABVXITDD.flac'), PosixPath('dataset/AUDIO_NEW/speech/COVID_Positive/HRDZUCAZ.flac'), PosixPath('dataset/AUDIO_NEW/speech/COVID_Positive/WXWPGFPH.flac'), PosixPath('dataset/AUDIO_NEW/speech/COVID_Positive/UXWQTBMI.flac'), PosixPath('dataset/AUDIO_NEW/speech/COVID_Positive/XALJVEOO.flac'), PosixPath('dataset/AUDIO_NEW/speech/COVID_Positive/RCROGMKQ.flac'), PosixPath('dataset/AUDIO_NEW/speech/COVID_Positive/RACYUHKY.flac'), PosixPath('dataset/AUDIO_NEW/speech/COVID_Positive/TFNTVHHQ.flac'), PosixPath('dataset/AUDIO_NEW/speech/COVID_Positive/NAQJDQRR.flac'), PosixPath('dataset/AUDIO_NEW/speech/COVID_Positive/KXYGVTKN.flac'), PosixPath('dataset/AUDIO_NEW/speech/COVID_Positive/UEIFRCTO.flac'), PosixPath('dataset/AUDIO_NEW/speech/COVID_Positive/ZYSOZDNN.flac'), PosixPath('dataset/AUDIO_NEW/speech/COVID_Positive/BYSOGHCZ.flac'), PosixPath('dataset/AUDIO_NEW/speech/COVID_Positive/KMKQNPHM.flac'), PosixPath('dataset/AUDIO_NEW/speech/COVID_Positive/RKSAIEOB.flac'), PosixPath('dataset/AUDIO_NEW/speech/COVID_Positive/BOFQIUDZ.flac'), PosixPath('dataset/AUDIO_NEW/speech/COVID_Positive/OMVQVWZD.flac'), PosixPath('dataset/AUDIO_NEW/speech/COVID_Positive/RCNCGHRA.flac')] and [PosixPath('dataset/AUDIO_NEW/speech/COVID_Negative/BYZJWJWW.flac'), PosixPath('dataset/AUDIO_NEW/speech/COVID_Negative/YVVLBKRI.flac'), PosixPath('dataset/AUDIO_NEW/speech/COVID_Negative/TNVRWURN.flac'), PosixPath('dataset/AUDIO_NEW/speech/COVID_Negative/ZAPQHJJI.flac'), PosixPath('dataset/AUDIO_NEW/speech/COVID_Negative/VIPUEPTP.flac'), PosixPath('dataset/AUDIO_NEW/speech/COVID_Negative/VJAZTMXN.flac'), PosixPath('dataset/AUDIO_NEW/speech/COVID_Negative/TLPYAZFN.flac'), PosixPath('dataset/AUDIO_NEW/speech/COVID_Negative/VXQWWWTL.flac'), PosixPath('dataset/AUDIO_NEW/speech/COVID_Negative/JZHRAZQB.flac'), PosixPath('dataset/AUDIO_NEW/speech/COVID_Negative/WJYRNUDG.flac'), PosixPath('dataset/AUDIO_NEW/speech/COVID_Negative/KKCMMQPS.flac'), PosixPath('dataset/AUDIO_NEW/speech/COVID_Negative/KHBVGVRW.flac'), PosixPath('dataset/AUDIO_NEW/speech/COVID_Negative/MFCALAPF.flac'), PosixPath('dataset/AUDIO_NEW/speech/COVID_Negative/PRVQTLFF.flac'), PosixPath('dataset/AUDIO_NEW/speech/COVID_Negative/DIJIRFKR.flac'), PosixPath('dataset/AUDIO_NEW/speech/COVID_Negative/PKUZJUOW.flac'), PosixPath('dataset/AUDIO_NEW/speech/COVID_Negative/PYAQLXFV.flac'), PosixPath('dataset/AUDIO_NEW/speech/COVID_Negative/MFGOJGGN.flac'), PosixPath('dataset/AUDIO_NEW/speech/COVID_Negative/IJLZRFWZ.flac'), PosixPath('dataset/AUDIO_NEW/speech/COVID_Negative/ILTNBDSW.flac'), PosixPath('dataset/AUDIO_NEW/speech/COVID_Negative/SWLXYKOA.flac'), PosixPath('dataset/AUDIO_NEW/speech/COVID_Negative/WCXGGZSJ.flac'), PosixPath('dataset/AUDIO_NEW/speech/COVID_Negative/QCTSRTMN.flac'), PosixPath('dataset/AUDIO_NEW/speech/COVID_Negative/VYLULJYU.flac'), PosixPath('dataset/AUDIO_NEW/speech/COVID_Negative/MPEDVBJZ.flac'), PosixPath('dataset/AUDIO_NEW/speech/COVID_Negative/QZQFAEBL.flac'), PosixPath('dataset/AUDIO_NEW/speech/COVID_Negative/XQVWVWZA.flac'), PosixPath('dataset/AUDIO_NEW/speech/COVID_Negative/EKFFNDJY.flac'), PosixPath('dataset/AUDIO_NEW/speech/COVID_Negative/MBXASRGM.flac'), PosixPath('dataset/AUDIO_NEW/speech/COVID_Negative/MHSTXVSO.flac'), PosixPath('dataset/AUDIO_NEW/speech/COVID_Negative/VFYJDSHE.flac'), PosixPath('dataset/AUDIO_NEW/speech/COVID_Negative/YIZQVXQY.flac'), PosixPath('dataset/AUDIO_NEW/speech/COVID_Negative/HYVVAWMV.flac'), PosixPath('dataset/AUDIO_NEW/speech/COVID_Negative/RWKLHEEK.flac'), PosixPath('dataset/AUDIO_NEW/speech/COVID_Negative/VMVKRXVL.flac'), PosixPath('dataset/AUDIO_NEW/speech/COVID_Negative/GOPVPXYE.flac'), PosixPath('dataset/AUDIO_NEW/speech/COVID_Negative/HCZZQPKF.flac'), PosixPath('dataset/AUDIO_NEW/speech/COVID_Negative/NMIAEGCX.flac'), PosixPath('dataset/AUDIO_NEW/speech/COVID_Negative/LEDJDJPX.flac'), PosixPath('dataset/AUDIO_NEW/speech/COVID_Negative/GZGAYWBV.flac'), PosixPath('dataset/AUDIO_NEW/speech/COVID_Negative/TZCBTMVG.flac'), PosixPath('dataset/AUDIO_NEW/speech/COVID_Negative/CJOXNLKG.flac'), PosixPath('dataset/AUDIO_NEW/speech/COVID_Negative/BFLCOJQF.flac'), PosixPath('dataset/AUDIO_NEW/speech/COVID_Negative/REXOHNHU.flac'), PosixPath('dataset/AUDIO_NEW/speech/COVID_Negative/WOSMSWIS.flac'), PosixPath('dataset/AUDIO_NEW/speech/COVID_Negative/RYYLOYKI.flac'), PosixPath('dataset/AUDIO_NEW/speech/COVID_Negative/VBXMIXBC.flac'), PosixPath('dataset/AUDIO_NEW/speech/COVID_Negative/TPUIJQGK.flac'), PosixPath('dataset/AUDIO_NEW/speech/COVID_Negative/FCXKJTJN.flac'), PosixPath('dataset/AUDIO_NEW/speech/COVID_Negative/SCEAOMNJ.flac'), PosixPath('dataset/AUDIO_NEW/speech/COVID_Negative/QCWQWCAF.flac'), PosixPath('dataset/AUDIO_NEW/speech/COVID_Negative/PICKYGGB.flac'), PosixPath('dataset/AUDIO_NEW/speech/COVID_Negative/CDICVECX.flac'), PosixPath('dataset/AUDIO_NEW/speech/COVID_Negative/ELKRANRQ.flac'), PosixPath('dataset/AUDIO_NEW/speech/COVID_Negative/PDIDQEEN.flac'), PosixPath('dataset/AUDIO_NEW/speech/COVID_Negative/GXUQHPPN.flac'), PosixPath('dataset/AUDIO_NEW/speech/COVID_Negative/VMBVELLT.flac'), PosixPath('dataset/AUDIO_NEW/speech/COVID_Negative/LBJXCOQG.flac'), PosixPath('dataset/AUDIO_NEW/speech/COVID_Negative/VVYKYWAF.flac'), PosixPath('dataset/AUDIO_NEW/speech/COVID_Negative/IFDSTSRI.flac'), PosixPath('dataset/AUDIO_NEW/speech/COVID_Negative/NBZTVEJL.flac'), PosixPath('dataset/AUDIO_NEW/speech/COVID_Negative/XBMYMBNI.flac'), PosixPath('dataset/AUDIO_NEW/speech/COVID_Negative/KFKKKIVM.flac'), PosixPath('dataset/AUDIO_NEW/speech/COVID_Negative/XUGFKOZJ.flac'), PosixPath('dataset/AUDIO_NEW/speech/COVID_Negative/QBBUMYDL.flac'), PosixPath('dataset/AUDIO_NEW/speech/COVID_Negative/BPXVMOVA.flac'), PosixPath('dataset/AUDIO_NEW/speech/COVID_Negative/XQKBFPQJ.flac'), PosixPath('dataset/AUDIO_NEW/speech/COVID_Negative/ACODNYKR.flac'), PosixPath('dataset/AUDIO_NEW/speech/COVID_Negative/RJRGQDKK.flac'), PosixPath('dataset/AUDIO_NEW/speech/COVID_Negative/LUBZHFGJ.flac'), PosixPath('dataset/AUDIO_NEW/speech/COVID_Negative/FBINBZWT.flac'), PosixPath('dataset/AUDIO_NEW/speech/COVID_Negative/RFDLXSQR.flac'), PosixPath('dataset/AUDIO_NEW/speech/COVID_Negative/LOKISRFN.flac'), PosixPath('dataset/AUDIO_NEW/speech/COVID_Negative/CFTTZNUZ.flac'), PosixPath('dataset/AUDIO_NEW/speech/COVID_Negative/PTCHYHZG.flac'), PosixPath('dataset/AUDIO_NEW/speech/COVID_Negative/SSGGLNQE.flac'), PosixPath('dataset/AUDIO_NEW/speech/COVID_Negative/BJJYNQDQ.flac'), PosixPath('dataset/AUDIO_NEW/speech/COVID_Negative/BGQKVUHH.flac'), PosixPath('dataset/AUDIO_NEW/speech/COVID_Negative/HRJHKQAC.flac'), PosixPath('dataset/AUDIO_NEW/speech/COVID_Negative/YGWHDXWN.flac'), PosixPath('dataset/AUDIO_NEW/speech/COVID_Negative/GEJKXDZK.flac'), PosixPath('dataset/AUDIO_NEW/speech/COVID_Negative/LFIBGWEJ.flac'), PosixPath('dataset/AUDIO_NEW/speech/COVID_Negative/ADPCTBMH.flac'), PosixPath('dataset/AUDIO_NEW/speech/COVID_Negative/GWMLKCDN.flac'), PosixPath('dataset/AUDIO_NEW/speech/COVID_Negative/QOEUVQFA.flac'), PosixPath('dataset/AUDIO_NEW/speech/COVID_Negative/SRTPYIDB.flac'), PosixPath('dataset/AUDIO_NEW/speech/COVID_Negative/KFNSNSYN.flac'), PosixPath('dataset/AUDIO_NEW/speech/COVID_Negative/DHJQCQRM.flac'), PosixPath('dataset/AUDIO_NEW/speech/COVID_Negative/ONANMZAM.flac'), PosixPath('dataset/AUDIO_NEW/speech/COVID_Negative/CILYIJMA.flac'), PosixPath('dataset/AUDIO_NEW/speech/COVID_Negative/CQNHYYQV.flac'), PosixPath('dataset/AUDIO_NEW/speech/COVID_Negative/JPGVRSKH.flac'), PosixPath('dataset/AUDIO_NEW/speech/COVID_Negative/COOXTATD.flac'), PosixPath('dataset/AUDIO_NEW/speech/COVID_Negative/UDFCMXSA.flac'), PosixPath('dataset/AUDIO_NEW/speech/COVID_Negative/ZWOBBPQH.flac'), PosixPath('dataset/AUDIO_NEW/speech/COVID_Negative/WTXHNNLN.flac'), PosixPath('dataset/AUDIO_NEW/speech/COVID_Negative/MZXKYXPR.flac'), PosixPath('dataset/AUDIO_NEW/speech/COVID_Negative/KRFGQQOT.flac'), PosixPath('dataset/AUDIO_NEW/speech/COVID_Negative/QTPIOXBP.flac'), PosixPath('dataset/AUDIO_NEW/speech/COVID_Negative/MTJCORVA.flac'), PosixPath('dataset/AUDIO_NEW/speech/COVID_Negative/ZKHTQNVS.flac'), PosixPath('dataset/AUDIO_NEW/speech/COVID_Negative/AEKPKDAQ.flac'), PosixPath('dataset/AUDIO_NEW/speech/COVID_Negative/XTBNODYV.flac'), PosixPath('dataset/AUDIO_NEW/speech/COVID_Negative/PKQTMYSJ.flac'), PosixPath('dataset/AUDIO_NEW/speech/COVID_Negative/CZOBKKOJ.flac'), PosixPath('dataset/AUDIO_NEW/speech/COVID_Negative/ITUVXRGB.flac'), PosixPath('dataset/AUDIO_NEW/speech/COVID_Negative/MCKUCVCT.flac'), PosixPath('dataset/AUDIO_NEW/speech/COVID_Negative/CAJBBDGE.flac'), PosixPath('dataset/AUDIO_NEW/speech/COVID_Negative/VFNVWWDN.flac'), PosixPath('dataset/AUDIO_NEW/speech/COVID_Negative/MQXKPIZS.flac'), PosixPath('dataset/AUDIO_NEW/speech/COVID_Negative/UUNBNMEU.flac'), PosixPath('dataset/AUDIO_NEW/speech/COVID_Negative/MRCAUGQD.flac'), PosixPath('dataset/AUDIO_NEW/speech/COVID_Negative/QATIJZYL.flac'), PosixPath('dataset/AUDIO_NEW/speech/COVID_Negative/DQLNGDSQ.flac'), PosixPath('dataset/AUDIO_NEW/speech/COVID_Negative/NKRCUEMH.flac'), PosixPath('dataset/AUDIO_NEW/speech/COVID_Negative/IFEZNKJP.flac'), PosixPath('dataset/AUDIO_NEW/speech/COVID_Negative/QXAOCRAB.flac'), PosixPath('dataset/AUDIO_NEW/speech/COVID_Negative/AGFNIAYJ.flac'), PosixPath('dataset/AUDIO_NEW/speech/COVID_Negative/GHBRVBQV.flac'), PosixPath('dataset/AUDIO_NEW/speech/COVID_Negative/TUIUXGMR.flac'), PosixPath('dataset/AUDIO_NEW/speech/COVID_Negative/CMMJYEXY.flac'), PosixPath('dataset/AUDIO_NEW/speech/COVID_Negative/ZRGHXYZK.flac'), PosixPath('dataset/AUDIO_NEW/speech/COVID_Negative/THMGPHOF.flac'), PosixPath('dataset/AUDIO_NEW/speech/COVID_Negative/UHNIMFEE.flac'), PosixPath('dataset/AUDIO_NEW/speech/COVID_Negative/HVPRITDR.flac'), PosixPath('dataset/AUDIO_NEW/speech/COVID_Negative/JTIPNSRF.flac'), PosixPath('dataset/AUDIO_NEW/speech/COVID_Negative/HBXGTLVD.flac'), PosixPath('dataset/AUDIO_NEW/speech/COVID_Negative/XJKRNFZY.flac'), PosixPath('dataset/AUDIO_NEW/speech/COVID_Negative/MCPGSBRU.flac'), PosixPath('dataset/AUDIO_NEW/speech/COVID_Negative/OZGVGHCG.flac'), PosixPath('dataset/AUDIO_NEW/speech/COVID_Negative/HNRZFYVZ.flac'), PosixPath('dataset/AUDIO_NEW/speech/COVID_Negative/BLPXKKFI.flac'), PosixPath('dataset/AUDIO_NEW/speech/COVID_Negative/QIEGQBDV.flac'), PosixPath('dataset/AUDIO_NEW/speech/COVID_Negative/BDTZXLZB.flac'), PosixPath('dataset/AUDIO_NEW/speech/COVID_Negative/QGFCKCMR.flac'), PosixPath('dataset/AUDIO_NEW/speech/COVID_Negative/PKFFCBBV.flac'), PosixPath('dataset/AUDIO_NEW/speech/COVID_Negative/MFFYUDJV.flac'), PosixPath('dataset/AUDIO_NEW/speech/COVID_Negative/PLYCCWYO.flac'), PosixPath('dataset/AUDIO_NEW/speech/COVID_Negative/KKUXVCWL.flac'), PosixPath('dataset/AUDIO_NEW/speech/COVID_Negative/OKQTLZRN.flac'), PosixPath('dataset/AUDIO_NEW/speech/COVID_Negative/AFFRVSHO.flac'), PosixPath('dataset/AUDIO_NEW/speech/COVID_Negative/EWLUREWH.flac'), PosixPath('dataset/AUDIO_NEW/speech/COVID_Negative/RHHOTDPX.flac'), PosixPath('dataset/AUDIO_NEW/speech/COVID_Negative/ORFSQAOL.flac'), PosixPath('dataset/AUDIO_NEW/speech/COVID_Negative/PUPXHBVI.flac'), PosixPath('dataset/AUDIO_NEW/speech/COVID_Negative/OCWHDAAF.flac'), PosixPath('dataset/AUDIO_NEW/speech/COVID_Negative/ZMFAELDN.flac'), PosixPath('dataset/AUDIO_NEW/speech/COVID_Negative/SGLFVDOV.flac'), PosixPath('dataset/AUDIO_NEW/speech/COVID_Negative/LJCPVYJA.flac'), PosixPath('dataset/AUDIO_NEW/speech/COVID_Negative/SSIVVUEB.flac'), PosixPath('dataset/AUDIO_NEW/speech/COVID_Negative/AIAEQDZT.flac'), PosixPath('dataset/AUDIO_NEW/speech/COVID_Negative/SHMLQOAR.flac'), PosixPath('dataset/AUDIO_NEW/speech/COVID_Negative/TMWZXJNT.flac'), PosixPath('dataset/AUDIO_NEW/speech/COVID_Negative/RCUOLUZF.flac'), PosixPath('dataset/AUDIO_NEW/speech/COVID_Negative/TBYLKZRC.flac'), PosixPath('dataset/AUDIO_NEW/speech/COVID_Negative/XBAINOHF.flac'), PosixPath('dataset/AUDIO_NEW/speech/COVID_Negative/OZCQAXJF.flac'), PosixPath('dataset/AUDIO_NEW/speech/COVID_Negative/PCTZIRHW.flac'), PosixPath('dataset/AUDIO_NEW/speech/COVID_Negative/HPBOLRXN.flac'), PosixPath('dataset/AUDIO_NEW/speech/COVID_Negative/LUWHROSH.flac'), PosixPath('dataset/AUDIO_NEW/speech/COVID_Negative/XRACSBQI.flac'), PosixPath('dataset/AUDIO_NEW/speech/COVID_Negative/HCUFTAWS.flac'), PosixPath('dataset/AUDIO_NEW/speech/COVID_Negative/CLDSLEUZ.flac'), PosixPath('dataset/AUDIO_NEW/speech/COVID_Negative/ETCUSZHJ.flac'), PosixPath('dataset/AUDIO_NEW/speech/COVID_Negative/KDNSMAHC.flac'), PosixPath('dataset/AUDIO_NEW/speech/COVID_Negative/USKMGNIT.flac'), PosixPath('dataset/AUDIO_NEW/speech/COVID_Negative/ZLBIQUWI.flac'), PosixPath('dataset/AUDIO_NEW/speech/COVID_Negative/QISGFQFX.flac'), PosixPath('dataset/AUDIO_NEW/speech/COVID_Negative/LNQOLTRP.flac'), PosixPath('dataset/AUDIO_NEW/speech/COVID_Negative/PWHWLIJC.flac'), PosixPath('dataset/AUDIO_NEW/speech/COVID_Negative/XDMUAMWN.flac'), PosixPath('dataset/AUDIO_NEW/speech/COVID_Negative/EFVTSQNK.flac'), PosixPath('dataset/AUDIO_NEW/speech/COVID_Negative/WURNMMKC.flac'), PosixPath('dataset/AUDIO_NEW/speech/COVID_Negative/KIOIRSIP.flac'), PosixPath('dataset/AUDIO_NEW/speech/COVID_Negative/XOFYAGOX.flac'), PosixPath('dataset/AUDIO_NEW/speech/COVID_Negative/UTGHIFRA.flac'), PosixPath('dataset/AUDIO_NEW/speech/COVID_Negative/AATXXRQE.flac'), PosixPath('dataset/AUDIO_NEW/speech/COVID_Negative/KLVYKAQX.flac'), PosixPath('dataset/AUDIO_NEW/speech/COVID_Negative/WZKVXFBU.flac'), PosixPath('dataset/AUDIO_NEW/speech/COVID_Negative/RKPEMSJZ.flac'), PosixPath('dataset/AUDIO_NEW/speech/COVID_Negative/LOICXJSY.flac'), PosixPath('dataset/AUDIO_NEW/speech/COVID_Negative/RDACIDXE.flac'), PosixPath('dataset/AUDIO_NEW/speech/COVID_Negative/PQOANEDF.flac'), PosixPath('dataset/AUDIO_NEW/speech/COVID_Negative/NIPDEULM.flac'), PosixPath('dataset/AUDIO_NEW/speech/COVID_Negative/FMIQSEEK.flac'), PosixPath('dataset/AUDIO_NEW/speech/COVID_Negative/EADSJIPK.flac'), PosixPath('dataset/AUDIO_NEW/speech/COVID_Negative/MXPLZZHQ.flac'), PosixPath('dataset/AUDIO_NEW/speech/COVID_Negative/OBZRGYUB.flac'), PosixPath('dataset/AUDIO_NEW/speech/COVID_Negative/RSKFHDUD.flac'), PosixPath('dataset/AUDIO_NEW/speech/COVID_Negative/GRQNNTXK.flac'), PosixPath('dataset/AUDIO_NEW/speech/COVID_Negative/CVBQXHGH.flac'), PosixPath('dataset/AUDIO_NEW/speech/COVID_Negative/FDMTSKPE.flac'), PosixPath('dataset/AUDIO_NEW/speech/COVID_Negative/FUWSTPYO.flac'), PosixPath('dataset/AUDIO_NEW/speech/COVID_Negative/JCAVTOWO.flac'), PosixPath('dataset/AUDIO_NEW/speech/COVID_Negative/IGSXXTBT.flac'), PosixPath('dataset/AUDIO_NEW/speech/COVID_Negative/CFDCCMXB.flac'), PosixPath('dataset/AUDIO_NEW/speech/COVID_Negative/JVGBDGOQ.flac'), PosixPath('dataset/AUDIO_NEW/speech/COVID_Negative/EFGPFZEK.flac'), PosixPath('dataset/AUDIO_NEW/speech/COVID_Negative/KAINOELW.flac'), PosixPath('dataset/AUDIO_NEW/speech/COVID_Negative/OFVPVUNZ.flac'), PosixPath('dataset/AUDIO_NEW/speech/COVID_Negative/KTXQSLVA.flac'), PosixPath('dataset/AUDIO_NEW/speech/COVID_Negative/EPUZURRV.flac'), PosixPath('dataset/AUDIO_NEW/speech/COVID_Negative/OFOILIER.flac'), PosixPath('dataset/AUDIO_NEW/speech/COVID_Negative/SZKPMRME.flac'), PosixPath('dataset/AUDIO_NEW/speech/COVID_Negative/EIFBVZCO.flac'), PosixPath('dataset/AUDIO_NEW/speech/COVID_Negative/OZRROOCL.flac'), PosixPath('dataset/AUDIO_NEW/speech/COVID_Negative/FCRXGOGB.flac'), PosixPath('dataset/AUDIO_NEW/speech/COVID_Negative/BEZPREAA.flac'), PosixPath('dataset/AUDIO_NEW/speech/COVID_Negative/ZHYGSXDB.flac'), PosixPath('dataset/AUDIO_NEW/speech/COVID_Negative/GEOVUQZY.flac'), PosixPath('dataset/AUDIO_NEW/speech/COVID_Negative/MTKDWKLF.flac'), PosixPath('dataset/AUDIO_NEW/speech/COVID_Negative/YABQTANE.flac'), PosixPath('dataset/AUDIO_NEW/speech/COVID_Negative/FHIRVICU.flac'), PosixPath('dataset/AUDIO_NEW/speech/COVID_Negative/WZDXOGFD.flac'), PosixPath('dataset/AUDIO_NEW/speech/COVID_Negative/EKTAGYMP.flac'), PosixPath('dataset/AUDIO_NEW/speech/COVID_Negative/FMQPFTDJ.flac'), PosixPath('dataset/AUDIO_NEW/speech/COVID_Negative/AEVVWNSS.flac'), PosixPath('dataset/AUDIO_NEW/speech/COVID_Negative/YFJNNLJB.flac'), PosixPath('dataset/AUDIO_NEW/speech/COVID_Negative/PRRKIFVZ.flac'), PosixPath('dataset/AUDIO_NEW/speech/COVID_Negative/CHFOOVXI.flac'), PosixPath('dataset/AUDIO_NEW/speech/COVID_Negative/YELSEECR.flac'), PosixPath('dataset/AUDIO_NEW/speech/COVID_Negative/YHUGLQHV.flac'), PosixPath('dataset/AUDIO_NEW/speech/COVID_Negative/HVFSFYLQ.flac'), PosixPath('dataset/AUDIO_NEW/speech/COVID_Negative/EQBWYXXN.flac'), PosixPath('dataset/AUDIO_NEW/speech/COVID_Negative/ZZZCJPYV.flac'), PosixPath('dataset/AUDIO_NEW/speech/COVID_Negative/HTUZHMVC.flac'), PosixPath('dataset/AUDIO_NEW/speech/COVID_Negative/HHICXDDX.flac'), PosixPath('dataset/AUDIO_NEW/speech/COVID_Negative/QJQJBBZN.flac'), PosixPath('dataset/AUDIO_NEW/speech/COVID_Negative/QGCTUWYM.flac'), PosixPath('dataset/AUDIO_NEW/speech/COVID_Negative/EFKALRTO.flac'), PosixPath('dataset/AUDIO_NEW/speech/COVID_Negative/DRQKVDVA.flac'), PosixPath('dataset/AUDIO_NEW/speech/COVID_Negative/ZKADNZII.flac'), PosixPath('dataset/AUDIO_NEW/speech/COVID_Negative/FZOBENWW.flac'), PosixPath('dataset/AUDIO_NEW/speech/COVID_Negative/BLQGZTCL.flac'), PosixPath('dataset/AUDIO_NEW/speech/COVID_Negative/WPDXXPMP.flac'), PosixPath('dataset/AUDIO_NEW/speech/COVID_Negative/DHGQCKVV.flac'), PosixPath('dataset/AUDIO_NEW/speech/COVID_Negative/THQDJCPA.flac'), PosixPath('dataset/AUDIO_NEW/speech/COVID_Negative/BTYFGFGB.flac'), PosixPath('dataset/AUDIO_NEW/speech/COVID_Negative/NKJBUQCM.flac'), PosixPath('dataset/AUDIO_NEW/speech/COVID_Negative/OTYAODCT.flac'), PosixPath('dataset/AUDIO_NEW/speech/COVID_Negative/YPYYZZEY.flac'), PosixPath('dataset/AUDIO_NEW/speech/COVID_Negative/MPTKQFYC.flac'), PosixPath('dataset/AUDIO_NEW/speech/COVID_Negative/BAHAIBOR.flac'), PosixPath('dataset/AUDIO_NEW/speech/COVID_Negative/PLDVFBJD.flac'), PosixPath('dataset/AUDIO_NEW/speech/COVID_Negative/RGXQOKTX.flac'), PosixPath('dataset/AUDIO_NEW/speech/COVID_Negative/RCURYJOC.flac'), PosixPath('dataset/AUDIO_NEW/speech/COVID_Negative/UHAXJDNH.flac'), PosixPath('dataset/AUDIO_NEW/speech/COVID_Negative/WOHJCIXX.flac'), PosixPath('dataset/AUDIO_NEW/speech/COVID_Negative/MIADVPBC.flac'), PosixPath('dataset/AUDIO_NEW/speech/COVID_Negative/LKVIJLIA.flac'), PosixPath('dataset/AUDIO_NEW/speech/COVID_Negative/BQAFNMCP.flac'), PosixPath('dataset/AUDIO_NEW/speech/COVID_Negative/QJNDSOVZ.flac'), PosixPath('dataset/AUDIO_NEW/speech/COVID_Negative/QRSGHRRE.flac'), PosixPath('dataset/AUDIO_NEW/speech/COVID_Negative/GXCWSEIN.flac'), PosixPath('dataset/AUDIO_NEW/speech/COVID_Negative/ZNBDPXVG.flac'), PosixPath('dataset/AUDIO_NEW/speech/COVID_Negative/ISIFMIBD.flac'), PosixPath('dataset/AUDIO_NEW/speech/COVID_Negative/XUDJFRGQ.flac'), PosixPath('dataset/AUDIO_NEW/speech/COVID_Negative/XCZYMKHV.flac'), PosixPath('dataset/AUDIO_NEW/speech/COVID_Negative/WGZWXCAZ.flac'), PosixPath('dataset/AUDIO_NEW/speech/COVID_Negative/QGLJOBJY.flac'), PosixPath('dataset/AUDIO_NEW/speech/COVID_Negative/QTANUPDP.flac'), PosixPath('dataset/AUDIO_NEW/speech/COVID_Negative/OYCFALWR.flac'), PosixPath('dataset/AUDIO_NEW/speech/COVID_Negative/ASGERLCQ.flac'), PosixPath('dataset/AUDIO_NEW/speech/COVID_Negative/XIEBBTTQ.flac'), PosixPath('dataset/AUDIO_NEW/speech/COVID_Negative/PUUPHMFR.flac'), PosixPath('dataset/AUDIO_NEW/speech/COVID_Negative/SJCYYBAH.flac'), PosixPath('dataset/AUDIO_NEW/speech/COVID_Negative/ONWLHOYP.flac'), PosixPath('dataset/AUDIO_NEW/speech/COVID_Negative/MIQXTRFE.flac'), PosixPath('dataset/AUDIO_NEW/speech/COVID_Negative/CPANEIEB.flac'), PosixPath('dataset/AUDIO_NEW/speech/COVID_Negative/BZEMRELI.flac'), PosixPath('dataset/AUDIO_NEW/speech/COVID_Negative/VBDYSBRB.flac'), PosixPath('dataset/AUDIO_NEW/speech/COVID_Negative/JABBZRHY.flac'), PosixPath('dataset/AUDIO_NEW/speech/COVID_Negative/JPDVYSGP.flac'), PosixPath('dataset/AUDIO_NEW/speech/COVID_Negative/MDNRVGIE.flac'), PosixPath('dataset/AUDIO_NEW/speech/COVID_Negative/MAQNUZTX.flac'), PosixPath('dataset/AUDIO_NEW/speech/COVID_Negative/PEHETLCK.flac'), PosixPath('dataset/AUDIO_NEW/speech/COVID_Negative/JGLFZBMX.flac'), PosixPath('dataset/AUDIO_NEW/speech/COVID_Negative/AHXDHEST.flac'), PosixPath('dataset/AUDIO_NEW/speech/COVID_Negative/FVHRHOZO.flac'), PosixPath('dataset/AUDIO_NEW/speech/COVID_Negative/MJJBCBWD.flac'), PosixPath('dataset/AUDIO_NEW/speech/COVID_Negative/QCFUVKCY.flac'), PosixPath('dataset/AUDIO_NEW/speech/COVID_Negative/UDGUTECX.flac'), PosixPath('dataset/AUDIO_NEW/speech/COVID_Negative/HKIDSGWC.flac'), PosixPath('dataset/AUDIO_NEW/speech/COVID_Negative/SOIJDUNN.flac'), PosixPath('dataset/AUDIO_NEW/speech/COVID_Negative/WRPUARJU.flac'), PosixPath('dataset/AUDIO_NEW/speech/COVID_Negative/VLJWJSJA.flac'), PosixPath('dataset/AUDIO_NEW/speech/COVID_Negative/RKEWQQUP.flac'), PosixPath('dataset/AUDIO_NEW/speech/COVID_Negative/TDBTOYWI.flac'), PosixPath('dataset/AUDIO_NEW/speech/COVID_Negative/UVTFUGFJ.flac'), PosixPath('dataset/AUDIO_NEW/speech/COVID_Negative/FONIOYTJ.flac'), PosixPath('dataset/AUDIO_NEW/speech/COVID_Negative/VVZDPYMS.flac'), PosixPath('dataset/AUDIO_NEW/speech/COVID_Negative/WBHPRNAP.flac'), PosixPath('dataset/AUDIO_NEW/speech/COVID_Negative/TFPVBTJK.flac'), PosixPath('dataset/AUDIO_NEW/speech/COVID_Negative/QUEKGCAE.flac'), PosixPath('dataset/AUDIO_NEW/speech/COVID_Negative/MWMRAFWA.flac'), PosixPath('dataset/AUDIO_NEW/speech/COVID_Negative/FCRNLSBU.flac'), PosixPath('dataset/AUDIO_NEW/speech/COVID_Negative/IABKNPNG.flac'), PosixPath('dataset/AUDIO_NEW/speech/COVID_Negative/UXUHXDRP.flac'), PosixPath('dataset/AUDIO_NEW/speech/COVID_Negative/HFVGIGIA.flac'), PosixPath('dataset/AUDIO_NEW/speech/COVID_Negative/VXTYCHWE.flac'), PosixPath('dataset/AUDIO_NEW/speech/COVID_Negative/MMIEYFOK.flac'), PosixPath('dataset/AUDIO_NEW/speech/COVID_Negative/NTMWMAKP.flac'), PosixPath('dataset/AUDIO_NEW/speech/COVID_Negative/CHPEIPIH.flac'), PosixPath('dataset/AUDIO_NEW/speech/COVID_Negative/DMILFZNV.flac'), PosixPath('dataset/AUDIO_NEW/speech/COVID_Negative/TSFSAKJE.flac'), PosixPath('dataset/AUDIO_NEW/speech/COVID_Negative/SAGEJEMB.flac'), PosixPath('dataset/AUDIO_NEW/speech/COVID_Negative/MTWGTXLO.flac'), PosixPath('dataset/AUDIO_NEW/speech/COVID_Negative/DDZQLYQB.flac'), PosixPath('dataset/AUDIO_NEW/speech/COVID_Negative/DMPHGMRR.flac'), PosixPath('dataset/AUDIO_NEW/speech/COVID_Negative/NWYGJZKY.flac'), PosixPath('dataset/AUDIO_NEW/speech/COVID_Negative/QYDAHFNO.flac'), PosixPath('dataset/AUDIO_NEW/speech/COVID_Negative/PEWOMHJE.flac'), PosixPath('dataset/AUDIO_NEW/speech/COVID_Negative/NODJFFZA.flac'), PosixPath('dataset/AUDIO_NEW/speech/COVID_Negative/CWOOGTGM.flac'), PosixPath('dataset/AUDIO_NEW/speech/COVID_Negative/SFFACVGJ.flac'), PosixPath('dataset/AUDIO_NEW/speech/COVID_Negative/CTYJXVRA.flac'), PosixPath('dataset/AUDIO_NEW/speech/COVID_Negative/LKKFKPCL.flac'), PosixPath('dataset/AUDIO_NEW/speech/COVID_Negative/HDNGEKSR.flac'), PosixPath('dataset/AUDIO_NEW/speech/COVID_Negative/BJZNZTMY.flac'), PosixPath('dataset/AUDIO_NEW/speech/COVID_Negative/HXWFDUNS.flac'), PosixPath('dataset/AUDIO_NEW/speech/COVID_Negative/TUZJZIEN.flac'), PosixPath('dataset/AUDIO_NEW/speech/COVID_Negative/TLTIYTFU.flac'), PosixPath('dataset/AUDIO_NEW/speech/COVID_Negative/TXLCWXKB.flac'), PosixPath('dataset/AUDIO_NEW/speech/COVID_Negative/CXPCODCN.flac'), PosixPath('dataset/AUDIO_NEW/speech/COVID_Negative/AHTQDTIL.flac'), PosixPath('dataset/AUDIO_NEW/speech/COVID_Negative/MYWFDEIO.flac'), PosixPath('dataset/AUDIO_NEW/speech/COVID_Negative/RDPSKHVX.flac'), PosixPath('dataset/AUDIO_NEW/speech/COVID_Negative/BMOFMLLF.flac'), PosixPath('dataset/AUDIO_NEW/speech/COVID_Negative/BMHENHMR.flac'), PosixPath('dataset/AUDIO_NEW/speech/COVID_Negative/KZXTYOPH.flac'), PosixPath('dataset/AUDIO_NEW/speech/COVID_Negative/FGGZCWFV.flac'), PosixPath('dataset/AUDIO_NEW/speech/COVID_Negative/QDJYGTTH.flac'), PosixPath('dataset/AUDIO_NEW/speech/COVID_Negative/CBTOQZAE.flac'), PosixPath('dataset/AUDIO_NEW/speech/COVID_Negative/TRLATMGO.flac'), PosixPath('dataset/AUDIO_NEW/speech/COVID_Negative/YOQQZIMH.flac'), PosixPath('dataset/AUDIO_NEW/speech/COVID_Negative/DAAIPYJU.flac'), PosixPath('dataset/AUDIO_NEW/speech/COVID_Negative/OILJJHKJ.flac'), PosixPath('dataset/AUDIO_NEW/speech/COVID_Negative/FRYSHWOF.flac'), PosixPath('dataset/AUDIO_NEW/speech/COVID_Negative/OVNQDZBN.flac'), PosixPath('dataset/AUDIO_NEW/speech/COVID_Negative/NWKKSYMO.flac'), PosixPath('dataset/AUDIO_NEW/speech/COVID_Negative/VGTYHJAM.flac'), PosixPath('dataset/AUDIO_NEW/speech/COVID_Negative/MQFQUIZI.flac'), PosixPath('dataset/AUDIO_NEW/speech/COVID_Negative/WGJGPFYS.flac'), PosixPath('dataset/AUDIO_NEW/speech/COVID_Negative/FPRJSKVG.flac'), PosixPath('dataset/AUDIO_NEW/speech/COVID_Negative/MYQKATFS.flac'), PosixPath('dataset/AUDIO_NEW/speech/COVID_Negative/ZFXYSDHQ.flac'), PosixPath('dataset/AUDIO_NEW/speech/COVID_Negative/LLATIRWA.flac'), PosixPath('dataset/AUDIO_NEW/speech/COVID_Negative/PNZLKRBL.flac'), PosixPath('dataset/AUDIO_NEW/speech/COVID_Negative/WHXPXKVF.flac'), PosixPath('dataset/AUDIO_NEW/speech/COVID_Negative/MRRLIWHA.flac'), PosixPath('dataset/AUDIO_NEW/speech/COVID_Negative/POFSFOUV.flac'), PosixPath('dataset/AUDIO_NEW/speech/COVID_Negative/YJPRNDYV.flac'), PosixPath('dataset/AUDIO_NEW/speech/COVID_Negative/ILDIECBN.flac'), PosixPath('dataset/AUDIO_NEW/speech/COVID_Negative/RFOTZFAP.flac'), PosixPath('dataset/AUDIO_NEW/speech/COVID_Negative/LJDZFUDF.flac'), PosixPath('dataset/AUDIO_NEW/speech/COVID_Negative/AQPORRMJ.flac'), PosixPath('dataset/AUDIO_NEW/speech/COVID_Negative/KTADEVOT.flac'), PosixPath('dataset/AUDIO_NEW/speech/COVID_Negative/YQUPZEUJ.flac'), PosixPath('dataset/AUDIO_NEW/speech/COVID_Negative/HJGWRTCO.flac'), PosixPath('dataset/AUDIO_NEW/speech/COVID_Negative/FTQQDOIM.flac'), PosixPath('dataset/AUDIO_NEW/speech/COVID_Negative/CZYRAAVU.flac'), PosixPath('dataset/AUDIO_NEW/speech/COVID_Negative/AXSBGAGC.flac'), PosixPath('dataset/AUDIO_NEW/speech/COVID_Negative/MBYTGRBI.flac'), PosixPath('dataset/AUDIO_NEW/speech/COVID_Negative/VWJFOBTG.flac'), PosixPath('dataset/AUDIO_NEW/speech/COVID_Negative/JSKNCBWT.flac'), PosixPath('dataset/AUDIO_NEW/speech/COVID_Negative/LNFUNOIQ.flac'), PosixPath('dataset/AUDIO_NEW/speech/COVID_Negative/ONJQQGNW.flac'), PosixPath('dataset/AUDIO_NEW/speech/COVID_Negative/RRCPLVAJ.flac'), PosixPath('dataset/AUDIO_NEW/speech/COVID_Negative/HGIMLAQT.flac'), PosixPath('dataset/AUDIO_NEW/speech/COVID_Negative/GUMXUNCQ.flac'), PosixPath('dataset/AUDIO_NEW/speech/COVID_Negative/UTRLGUCS.flac'), PosixPath('dataset/AUDIO_NEW/speech/COVID_Negative/CXLXAECL.flac'), PosixPath('dataset/AUDIO_NEW/speech/COVID_Negative/RZJVAWOW.flac'), PosixPath('dataset/AUDIO_NEW/speech/COVID_Negative/CEGWOSJH.flac'), PosixPath('dataset/AUDIO_NEW/speech/COVID_Negative/UKCBKMQI.flac'), PosixPath('dataset/AUDIO_NEW/speech/COVID_Negative/JNDPZZNZ.flac'), PosixPath('dataset/AUDIO_NEW/speech/COVID_Negative/CRYKVDTJ.flac'), PosixPath('dataset/AUDIO_NEW/speech/COVID_Negative/OOBTLUIO.flac'), PosixPath('dataset/AUDIO_NEW/speech/COVID_Negative/EVNSSADY.flac'), PosixPath('dataset/AUDIO_NEW/speech/COVID_Negative/CILDWOEA.flac'), PosixPath('dataset/AUDIO_NEW/speech/COVID_Negative/XSCTDUMG.flac'), PosixPath('dataset/AUDIO_NEW/speech/COVID_Negative/OWLIGQEJ.flac'), PosixPath('dataset/AUDIO_NEW/speech/COVID_Negative/GCJFDYCF.flac'), PosixPath('dataset/AUDIO_NEW/speech/COVID_Negative/IZKZCOOI.flac'), PosixPath('dataset/AUDIO_NEW/speech/COVID_Negative/HUCGUQGH.flac'), PosixPath('dataset/AUDIO_NEW/speech/COVID_Negative/PYJRHKQL.flac'), PosixPath('dataset/AUDIO_NEW/speech/COVID_Negative/DQEMIVYM.flac'), PosixPath('dataset/AUDIO_NEW/speech/COVID_Negative/CYQWSHIY.flac'), PosixPath('dataset/AUDIO_NEW/speech/COVID_Negative/QMPIRWJY.flac'), PosixPath('dataset/AUDIO_NEW/speech/COVID_Negative/RVEBFGPA.flac'), PosixPath('dataset/AUDIO_NEW/speech/COVID_Negative/TKPLQJNH.flac'), PosixPath('dataset/AUDIO_NEW/speech/COVID_Negative/EAKGCVDI.flac'), PosixPath('dataset/AUDIO_NEW/speech/COVID_Negative/DNJLMNSQ.flac'), PosixPath('dataset/AUDIO_NEW/speech/COVID_Negative/PNRHWWDQ.flac'), PosixPath('dataset/AUDIO_NEW/speech/COVID_Negative/WNNQZYNF.flac'), PosixPath('dataset/AUDIO_NEW/speech/COVID_Negative/BUNWMKYN.flac'), PosixPath('dataset/AUDIO_NEW/speech/COVID_Negative/WBZAAXVF.flac'), PosixPath('dataset/AUDIO_NEW/speech/COVID_Negative/DGHMRMCD.flac'), PosixPath('dataset/AUDIO_NEW/speech/COVID_Negative/MJOTTQOC.flac'), PosixPath('dataset/AUDIO_NEW/speech/COVID_Negative/IVUSUUDW.flac'), PosixPath('dataset/AUDIO_NEW/speech/COVID_Negative/BOGBJKJR.flac'), PosixPath('dataset/AUDIO_NEW/speech/COVID_Negative/LSQCJKPK.flac'), PosixPath('dataset/AUDIO_NEW/speech/COVID_Negative/GGRHQOKX.flac'), PosixPath('dataset/AUDIO_NEW/speech/COVID_Negative/DBXEBUVF.flac'), PosixPath('dataset/AUDIO_NEW/speech/COVID_Negative/ADSWRERI.flac'), PosixPath('dataset/AUDIO_NEW/speech/COVID_Negative/XXPRRNNB.flac'), PosixPath('dataset/AUDIO_NEW/speech/COVID_Negative/IRCVNJAP.flac'), PosixPath('dataset/AUDIO_NEW/speech/COVID_Negative/OUJTPFFY.flac'), PosixPath('dataset/AUDIO_NEW/speech/COVID_Negative/WCCCUNGT.flac'), PosixPath('dataset/AUDIO_NEW/speech/COVID_Negative/KECMMMNP.flac'), PosixPath('dataset/AUDIO_NEW/speech/COVID_Negative/LNMVQXHA.flac'), PosixPath('dataset/AUDIO_NEW/speech/COVID_Negative/KIYVGTOH.flac'), PosixPath('dataset/AUDIO_NEW/speech/COVID_Negative/ETUQCKAJ.flac'), PosixPath('dataset/AUDIO_NEW/speech/COVID_Negative/EADBNFIG.flac'), PosixPath('dataset/AUDIO_NEW/speech/COVID_Negative/ZTYKLVVK.flac'), PosixPath('dataset/AUDIO_NEW/speech/COVID_Negative/BPYMHHWL.flac'), PosixPath('dataset/AUDIO_NEW/speech/COVID_Negative/LZREFSWI.flac'), PosixPath('dataset/AUDIO_NEW/speech/COVID_Negative/CVVXCBXQ.flac'), PosixPath('dataset/AUDIO_NEW/speech/COVID_Negative/EOFWJUKO.flac'), PosixPath('dataset/AUDIO_NEW/speech/COVID_Negative/PMFNTEOZ.flac'), PosixPath('dataset/AUDIO_NEW/speech/COVID_Negative/NAKJKWOE.flac'), PosixPath('dataset/AUDIO_NEW/speech/COVID_Negative/UPIMUZGL.flac'), PosixPath('dataset/AUDIO_NEW/speech/COVID_Negative/KPLLELWL.flac'), PosixPath('dataset/AUDIO_NEW/speech/COVID_Negative/AVSFTYJR.flac'), PosixPath('dataset/AUDIO_NEW/speech/COVID_Negative/BKCTERDN.flac'), PosixPath('dataset/AUDIO_NEW/speech/COVID_Negative/ZWPLLIDN.flac'), PosixPath('dataset/AUDIO_NEW/speech/COVID_Negative/QXIZREKM.flac'), PosixPath('dataset/AUDIO_NEW/speech/COVID_Negative/NMGWSZSB.flac'), PosixPath('dataset/AUDIO_NEW/speech/COVID_Negative/RFGZBAAP.flac'), PosixPath('dataset/AUDIO_NEW/speech/COVID_Negative/UHUKGHOL.flac'), PosixPath('dataset/AUDIO_NEW/speech/COVID_Negative/BLKVVIBD.flac'), PosixPath('dataset/AUDIO_NEW/speech/COVID_Negative/FNJTPUTE.flac'), PosixPath('dataset/AUDIO_NEW/speech/COVID_Negative/HYYFNYZD.flac'), PosixPath('dataset/AUDIO_NEW/speech/COVID_Negative/MVGMEJTR.flac'), PosixPath('dataset/AUDIO_NEW/speech/COVID_Negative/VXLUANEJ.flac'), PosixPath('dataset/AUDIO_NEW/speech/COVID_Negative/YNRAGKQB.flac'), PosixPath('dataset/AUDIO_NEW/speech/COVID_Negative/QASKTBON.flac'), PosixPath('dataset/AUDIO_NEW/speech/COVID_Negative/EWGIZLWB.flac'), PosixPath('dataset/AUDIO_NEW/speech/COVID_Negative/JREHYICU.flac'), PosixPath('dataset/AUDIO_NEW/speech/COVID_Negative/TTOOYPWH.flac'), PosixPath('dataset/AUDIO_NEW/speech/COVID_Negative/SJQBYREA.flac'), PosixPath('dataset/AUDIO_NEW/speech/COVID_Negative/YEXLSOIQ.flac'), PosixPath('dataset/AUDIO_NEW/speech/COVID_Negative/AQYCPTGU.flac'), PosixPath('dataset/AUDIO_NEW/speech/COVID_Negative/EARABCCG.flac'), PosixPath('dataset/AUDIO_NEW/speech/COVID_Negative/KQFFCGAC.flac'), PosixPath('dataset/AUDIO_NEW/speech/COVID_Negative/IJQNKWFH.flac'), PosixPath('dataset/AUDIO_NEW/speech/COVID_Negative/VPKFJEIB.flac'), PosixPath('dataset/AUDIO_NEW/speech/COVID_Negative/IISJGBHF.flac'), PosixPath('dataset/AUDIO_NEW/speech/COVID_Negative/GDLUFIGU.flac'), PosixPath('dataset/AUDIO_NEW/speech/COVID_Negative/DNDKRUID.flac'), PosixPath('dataset/AUDIO_NEW/speech/COVID_Negative/UFETCRVK.flac'), PosixPath('dataset/AUDIO_NEW/speech/COVID_Negative/TVBNLTWK.flac'), PosixPath('dataset/AUDIO_NEW/speech/COVID_Negative/FUFAQZZF.flac'), PosixPath('dataset/AUDIO_NEW/speech/COVID_Negative/KBUQINNT.flac'), PosixPath('dataset/AUDIO_NEW/speech/COVID_Negative/YTHOSZYQ.flac'), PosixPath('dataset/AUDIO_NEW/speech/COVID_Negative/XDPQUWOB.flac'), PosixPath('dataset/AUDIO_NEW/speech/COVID_Negative/XOQEGMWF.flac'), PosixPath('dataset/AUDIO_NEW/speech/COVID_Negative/WHXYWXSI.flac'), PosixPath('dataset/AUDIO_NEW/speech/COVID_Negative/VSFMQRIN.flac'), PosixPath('dataset/AUDIO_NEW/speech/COVID_Negative/QSFJNKAQ.flac'), PosixPath('dataset/AUDIO_NEW/speech/COVID_Negative/MKNEBWST.flac'), PosixPath('dataset/AUDIO_NEW/speech/COVID_Negative/BNOSSCXT.flac'), PosixPath('dataset/AUDIO_NEW/speech/COVID_Negative/PPZYQLAE.flac'), PosixPath('dataset/AUDIO_NEW/speech/COVID_Negative/EZGCUMQO.flac'), PosixPath('dataset/AUDIO_NEW/speech/COVID_Negative/ZMKMXFPB.flac'), PosixPath('dataset/AUDIO_NEW/speech/COVID_Negative/FITZMPHI.flac'), PosixPath('dataset/AUDIO_NEW/speech/COVID_Negative/AQRZWCND.flac'), PosixPath('dataset/AUDIO_NEW/speech/COVID_Negative/QMJWRIEU.flac'), PosixPath('dataset/AUDIO_NEW/speech/COVID_Negative/BOPYQXJZ.flac'), PosixPath('dataset/AUDIO_NEW/speech/COVID_Negative/GDOLSUHV.flac'), PosixPath('dataset/AUDIO_NEW/speech/COVID_Negative/RKHBYLTU.flac'), PosixPath('dataset/AUDIO_NEW/speech/COVID_Negative/QQXOACGH.flac'), PosixPath('dataset/AUDIO_NEW/speech/COVID_Negative/WIFHVYIP.flac'), PosixPath('dataset/AUDIO_NEW/speech/COVID_Negative/PSJPQAEO.flac'), PosixPath('dataset/AUDIO_NEW/speech/COVID_Negative/JLFHIEXD.flac'), PosixPath('dataset/AUDIO_NEW/speech/COVID_Negative/XJSWKJNW.flac'), PosixPath('dataset/AUDIO_NEW/speech/COVID_Negative/VLUGCLGQ.flac'), PosixPath('dataset/AUDIO_NEW/speech/COVID_Negative/HLSWVWOF.flac'), PosixPath('dataset/AUDIO_NEW/speech/COVID_Negative/BASLAKSY.flac'), PosixPath('dataset/AUDIO_NEW/speech/COVID_Negative/ZQXZXBQF.flac'), PosixPath('dataset/AUDIO_NEW/speech/COVID_Negative/OPPXZGHR.flac'), PosixPath('dataset/AUDIO_NEW/speech/COVID_Negative/SDNWKUNV.flac'), PosixPath('dataset/AUDIO_NEW/speech/COVID_Negative/MGBAKYDP.flac'), PosixPath('dataset/AUDIO_NEW/speech/COVID_Negative/HPEJPIRC.flac'), PosixPath('dataset/AUDIO_NEW/speech/COVID_Negative/BLIXBFUJ.flac'), PosixPath('dataset/AUDIO_NEW/speech/COVID_Negative/AWLIQFHX.flac'), PosixPath('dataset/AUDIO_NEW/speech/COVID_Negative/MMCFMRBY.flac'), PosixPath('dataset/AUDIO_NEW/speech/COVID_Negative/PMEGFZMU.flac'), PosixPath('dataset/AUDIO_NEW/speech/COVID_Negative/PHQKIHGR.flac'), PosixPath('dataset/AUDIO_NEW/speech/COVID_Negative/BIVQYXUB.flac'), PosixPath('dataset/AUDIO_NEW/speech/COVID_Negative/WWGPWNRX.flac'), PosixPath('dataset/AUDIO_NEW/speech/COVID_Negative/XPNQSOYR.flac'), PosixPath('dataset/AUDIO_NEW/speech/COVID_Negative/GGLFOCDX.flac'), PosixPath('dataset/AUDIO_NEW/speech/COVID_Negative/EHEKWVXF.flac'), PosixPath('dataset/AUDIO_NEW/speech/COVID_Negative/MUHWKEZJ.flac'), PosixPath('dataset/AUDIO_NEW/speech/COVID_Negative/QGYDKYQQ.flac'), PosixPath('dataset/AUDIO_NEW/speech/COVID_Negative/JCROBEXQ.flac'), PosixPath('dataset/AUDIO_NEW/speech/COVID_Negative/MZHJXSTP.flac'), PosixPath('dataset/AUDIO_NEW/speech/COVID_Negative/SZEQUURK.flac'), PosixPath('dataset/AUDIO_NEW/speech/COVID_Negative/FBGTCZDE.flac'), PosixPath('dataset/AUDIO_NEW/speech/COVID_Negative/FBQPAXSW.flac'), PosixPath('dataset/AUDIO_NEW/speech/COVID_Negative/WUNICQWB.flac'), PosixPath('dataset/AUDIO_NEW/speech/COVID_Negative/EVKWRRBM.flac'), PosixPath('dataset/AUDIO_NEW/speech/COVID_Negative/WGQOILQG.flac'), PosixPath('dataset/AUDIO_NEW/speech/COVID_Negative/WSGPSGGD.flac'), PosixPath('dataset/AUDIO_NEW/speech/COVID_Negative/YNXJUZLA.flac'), PosixPath('dataset/AUDIO_NEW/speech/COVID_Negative/DJGRCEOS.flac'), PosixPath('dataset/AUDIO_NEW/speech/COVID_Negative/HNDBYDNB.flac'), PosixPath('dataset/AUDIO_NEW/speech/COVID_Negative/WJGZILBZ.flac'), PosixPath('dataset/AUDIO_NEW/speech/COVID_Negative/DCSHUZIZ.flac'), PosixPath('dataset/AUDIO_NEW/speech/COVID_Negative/OCMFPIBZ.flac'), PosixPath('dataset/AUDIO_NEW/speech/COVID_Negative/OBJXHJNV.flac'), PosixPath('dataset/AUDIO_NEW/speech/COVID_Negative/YJDSGPWL.flac'), PosixPath('dataset/AUDIO_NEW/speech/COVID_Negative/TFVKGBYX.flac'), PosixPath('dataset/AUDIO_NEW/speech/COVID_Negative/ZMOCHYWQ.flac'), PosixPath('dataset/AUDIO_NEW/speech/COVID_Negative/WAHCWJOD.flac'), PosixPath('dataset/AUDIO_NEW/speech/COVID_Negative/DQZJUHKF.flac'), PosixPath('dataset/AUDIO_NEW/speech/COVID_Negative/BQWFTBPS.flac'), PosixPath('dataset/AUDIO_NEW/speech/COVID_Negative/EVFRPYTN.flac'), PosixPath('dataset/AUDIO_NEW/speech/COVID_Negative/NGDWKOJW.flac'), PosixPath('dataset/AUDIO_NEW/speech/COVID_Negative/EDVGTJME.flac'), PosixPath('dataset/AUDIO_NEW/speech/COVID_Negative/GYEZORLW.flac'), PosixPath('dataset/AUDIO_NEW/speech/COVID_Negative/VRUGLHAF.flac'), PosixPath('dataset/AUDIO_NEW/speech/COVID_Negative/CZXZWJOY.flac'), PosixPath('dataset/AUDIO_NEW/speech/COVID_Negative/YVDVAJDC.flac'), PosixPath('dataset/AUDIO_NEW/speech/COVID_Negative/AFMGBOAW.flac'), PosixPath('dataset/AUDIO_NEW/speech/COVID_Negative/FBFXHWRE.flac'), PosixPath('dataset/AUDIO_NEW/speech/COVID_Negative/BKCTGCKU.flac'), PosixPath('dataset/AUDIO_NEW/speech/COVID_Negative/PBVRFNMC.flac'), PosixPath('dataset/AUDIO_NEW/speech/COVID_Negative/VJTXMHPK.flac'), PosixPath('dataset/AUDIO_NEW/speech/COVID_Negative/IJJRDWYC.flac'), PosixPath('dataset/AUDIO_NEW/speech/COVID_Negative/KDTFWVIN.flac'), PosixPath('dataset/AUDIO_NEW/speech/COVID_Negative/YGBLGZEF.flac'), PosixPath('dataset/AUDIO_NEW/speech/COVID_Negative/SLEAVGLQ.flac'), PosixPath('dataset/AUDIO_NEW/speech/COVID_Negative/ULFDXYAB.flac'), PosixPath('dataset/AUDIO_NEW/speech/COVID_Negative/XUCDBLZC.flac'), PosixPath('dataset/AUDIO_NEW/speech/COVID_Negative/XLIOSZXS.flac'), PosixPath('dataset/AUDIO_NEW/speech/COVID_Negative/IOZVRELD.flac'), PosixPath('dataset/AUDIO_NEW/speech/COVID_Negative/TWRYLYTW.flac'), PosixPath('dataset/AUDIO_NEW/speech/COVID_Negative/JZFNZWKU.flac'), PosixPath('dataset/AUDIO_NEW/speech/COVID_Negative/NVDIGDXP.flac'), PosixPath('dataset/AUDIO_NEW/speech/COVID_Negative/EUANSICC.flac'), PosixPath('dataset/AUDIO_NEW/speech/COVID_Negative/ZVDOEVEZ.flac'), PosixPath('dataset/AUDIO_NEW/speech/COVID_Negative/VBHKKVHJ.flac'), PosixPath('dataset/AUDIO_NEW/speech/COVID_Negative/LKQZGUSO.flac'), PosixPath('dataset/AUDIO_NEW/speech/COVID_Negative/RQARGEVK.flac'), PosixPath('dataset/AUDIO_NEW/speech/COVID_Negative/ZZMCBPNY.flac'), PosixPath('dataset/AUDIO_NEW/speech/COVID_Negative/PZIXLYOY.flac'), PosixPath('dataset/AUDIO_NEW/speech/COVID_Negative/ESAJHQUY.flac'), PosixPath('dataset/AUDIO_NEW/speech/COVID_Negative/ERYUZYCO.flac'), PosixPath('dataset/AUDIO_NEW/speech/COVID_Negative/XLSGYZFW.flac'), PosixPath('dataset/AUDIO_NEW/speech/COVID_Negative/LOVHVSMD.flac'), PosixPath('dataset/AUDIO_NEW/speech/COVID_Negative/YBZOCJEH.flac'), PosixPath('dataset/AUDIO_NEW/speech/COVID_Negative/VRWPHPNG.flac'), PosixPath('dataset/AUDIO_NEW/speech/COVID_Negative/LSINIRUQ.flac'), PosixPath('dataset/AUDIO_NEW/speech/COVID_Negative/PJLJEORH.flac'), PosixPath('dataset/AUDIO_NEW/speech/COVID_Negative/KTWEOGEF.flac'), PosixPath('dataset/AUDIO_NEW/speech/COVID_Negative/GAWPRABQ.flac'), PosixPath('dataset/AUDIO_NEW/speech/COVID_Negative/DZEREGIM.flac'), PosixPath('dataset/AUDIO_NEW/speech/COVID_Negative/GQTXDFXJ.flac'), PosixPath('dataset/AUDIO_NEW/speech/COVID_Negative/TVYMBDIW.flac'), PosixPath('dataset/AUDIO_NEW/speech/COVID_Negative/EOZIDSTG.flac'), PosixPath('dataset/AUDIO_NEW/speech/COVID_Negative/QMEFBDBH.flac'), PosixPath('dataset/AUDIO_NEW/speech/COVID_Negative/GIOMHKGH.flac'), PosixPath('dataset/AUDIO_NEW/speech/COVID_Negative/TWJITJJK.flac'), PosixPath('dataset/AUDIO_NEW/speech/COVID_Negative/JHIFUBTN.flac'), PosixPath('dataset/AUDIO_NEW/speech/COVID_Negative/JXJZAFRH.flac'), PosixPath('dataset/AUDIO_NEW/speech/COVID_Negative/NBILRRNT.flac'), PosixPath('dataset/AUDIO_NEW/speech/COVID_Negative/DXYCLJPA.flac'), PosixPath('dataset/AUDIO_NEW/speech/COVID_Negative/FYMQUHLA.flac'), PosixPath('dataset/AUDIO_NEW/speech/COVID_Negative/GSXCTFGZ.flac'), PosixPath('dataset/AUDIO_NEW/speech/COVID_Negative/OQEKLFQD.flac'), PosixPath('dataset/AUDIO_NEW/speech/COVID_Negative/HZOOWHAU.flac'), PosixPath('dataset/AUDIO_NEW/speech/COVID_Negative/NVSCECDA.flac'), PosixPath('dataset/AUDIO_NEW/speech/COVID_Negative/ZKZJWUUK.flac'), PosixPath('dataset/AUDIO_NEW/speech/COVID_Negative/ZACXGJWL.flac'), PosixPath('dataset/AUDIO_NEW/speech/COVID_Negative/XRAYBFVF.flac'), PosixPath('dataset/AUDIO_NEW/speech/COVID_Negative/ZBMFULWZ.flac'), PosixPath('dataset/AUDIO_NEW/speech/COVID_Negative/BQNBSELL.flac'), PosixPath('dataset/AUDIO_NEW/speech/COVID_Negative/ECXQFSYC.flac'), PosixPath('dataset/AUDIO_NEW/speech/COVID_Negative/VAWXIJDH.flac'), PosixPath('dataset/AUDIO_NEW/speech/COVID_Negative/NCOVLAVX.flac'), PosixPath('dataset/AUDIO_NEW/speech/COVID_Negative/ZSNOUBNJ.flac'), PosixPath('dataset/AUDIO_NEW/speech/COVID_Negative/ZDQBWRHT.flac'), PosixPath('dataset/AUDIO_NEW/speech/COVID_Negative/XWMNUSQF.flac'), PosixPath('dataset/AUDIO_NEW/speech/COVID_Negative/SFNJPWPN.flac'), PosixPath('dataset/AUDIO_NEW/speech/COVID_Negative/HHGJYJXT.flac'), PosixPath('dataset/AUDIO_NEW/speech/COVID_Negative/VBLTWXDS.flac'), PosixPath('dataset/AUDIO_NEW/speech/COVID_Negative/ACLAPDXF.flac'), PosixPath('dataset/AUDIO_NEW/speech/COVID_Negative/YLAXTREN.flac'), PosixPath('dataset/AUDIO_NEW/speech/COVID_Negative/WRCVKPRS.flac'), PosixPath('dataset/AUDIO_NEW/speech/COVID_Negative/CMGALPVU.flac'), PosixPath('dataset/AUDIO_NEW/speech/COVID_Negative/UOGDTUQT.flac'), PosixPath('dataset/AUDIO_NEW/speech/COVID_Negative/TXWHQOPP.flac'), PosixPath('dataset/AUDIO_NEW/speech/COVID_Negative/YTVXHGIY.flac'), PosixPath('dataset/AUDIO_NEW/speech/COVID_Negative/MSTBAUCK.flac'), PosixPath('dataset/AUDIO_NEW/speech/COVID_Negative/MSBVHAZR.flac'), PosixPath('dataset/AUDIO_NEW/speech/COVID_Negative/QMDOXZMG.flac'), PosixPath('dataset/AUDIO_NEW/speech/COVID_Negative/IUNJIVUN.flac'), PosixPath('dataset/AUDIO_NEW/speech/COVID_Negative/SECEYHKG.flac'), PosixPath('dataset/AUDIO_NEW/speech/COVID_Negative/OTQNZHOZ.flac'), PosixPath('dataset/AUDIO_NEW/speech/COVID_Negative/QDDCPOTP.flac'), PosixPath('dataset/AUDIO_NEW/speech/COVID_Negative/DKWCDKOR.flac'), PosixPath('dataset/AUDIO_NEW/speech/COVID_Negative/WNMNYPSW.flac'), PosixPath('dataset/AUDIO_NEW/speech/COVID_Negative/HTAQTXGV.flac'), PosixPath('dataset/AUDIO_NEW/speech/COVID_Negative/PMFTVRRS.flac'), PosixPath('dataset/AUDIO_NEW/speech/COVID_Negative/TVLPZLCG.flac'), PosixPath('dataset/AUDIO_NEW/speech/COVID_Negative/VYMBASHB.flac'), PosixPath('dataset/AUDIO_NEW/speech/COVID_Negative/MLPVAFZM.flac'), PosixPath('dataset/AUDIO_NEW/speech/COVID_Negative/VVUGGXWW.flac'), PosixPath('dataset/AUDIO_NEW/speech/COVID_Negative/WHMJITMY.flac'), PosixPath('dataset/AUDIO_NEW/speech/COVID_Negative/HTCFAFDO.flac'), PosixPath('dataset/AUDIO_NEW/speech/COVID_Negative/ZTDRNUTC.flac'), PosixPath('dataset/AUDIO_NEW/speech/COVID_Negative/WCGACSLP.flac'), PosixPath('dataset/AUDIO_NEW/speech/COVID_Negative/KMOXPLUW.flac'), PosixPath('dataset/AUDIO_NEW/speech/COVID_Negative/VHWVLMPZ.flac'), PosixPath('dataset/AUDIO_NEW/speech/COVID_Negative/NPHYFCYK.flac'), PosixPath('dataset/AUDIO_NEW/speech/COVID_Negative/PDVWUZWF.flac'), PosixPath('dataset/AUDIO_NEW/speech/COVID_Negative/XCELQJNH.flac'), PosixPath('dataset/AUDIO_NEW/speech/COVID_Negative/MCNAFCEF.flac'), PosixPath('dataset/AUDIO_NEW/speech/COVID_Negative/ILFDYDWF.flac'), PosixPath('dataset/AUDIO_NEW/speech/COVID_Negative/YFIRDUDE.flac'), PosixPath('dataset/AUDIO_NEW/speech/COVID_Negative/UQPZHUKM.flac'), PosixPath('dataset/AUDIO_NEW/speech/COVID_Negative/UUNFXSWL.flac'), PosixPath('dataset/AUDIO_NEW/speech/COVID_Negative/JKVQXDDS.flac'), PosixPath('dataset/AUDIO_NEW/speech/COVID_Negative/MMZKJKFZ.flac'), PosixPath('dataset/AUDIO_NEW/speech/COVID_Negative/MRVTUMNZ.flac'), PosixPath('dataset/AUDIO_NEW/speech/COVID_Negative/HKQFIXPG.flac'), PosixPath('dataset/AUDIO_NEW/speech/COVID_Negative/GCWPUSSE.flac'), PosixPath('dataset/AUDIO_NEW/speech/COVID_Negative/HRAMCPHD.flac'), PosixPath('dataset/AUDIO_NEW/speech/COVID_Negative/PMJCLCIS.flac'), PosixPath('dataset/AUDIO_NEW/speech/COVID_Negative/LPSDPGSW.flac'), PosixPath('dataset/AUDIO_NEW/speech/COVID_Negative/QIKGTPWR.flac'), PosixPath('dataset/AUDIO_NEW/speech/COVID_Negative/VBGUQIFD.flac'), PosixPath('dataset/AUDIO_NEW/speech/COVID_Negative/LAEEFKHG.flac')]! \n",
      "Number of positive samples: 34\n",
      "Number of negative samples: 158\n",
      "Completed creating features for [PosixPath('dataset/AUDIO_NEW/speech/COVID_Positive/LHAWOQOA.flac'), PosixPath('dataset/AUDIO_NEW/speech/COVID_Positive/VGXDXWBW.flac'), PosixPath('dataset/AUDIO_NEW/speech/COVID_Positive/XAWZQFQZ.flac'), PosixPath('dataset/AUDIO_NEW/speech/COVID_Positive/IZNQFPTZ.flac'), PosixPath('dataset/AUDIO_NEW/speech/COVID_Positive/YAFNLTYD.flac'), PosixPath('dataset/AUDIO_NEW/speech/COVID_Positive/ZALDIGPM.flac'), PosixPath('dataset/AUDIO_NEW/speech/COVID_Positive/MTVTPSZZ.flac'), PosixPath('dataset/AUDIO_NEW/speech/COVID_Positive/VMZHVYBP.flac'), PosixPath('dataset/AUDIO_NEW/speech/COVID_Positive/SRAVSZTB.flac'), PosixPath('dataset/AUDIO_NEW/speech/COVID_Positive/EHHDACVI.flac'), PosixPath('dataset/AUDIO_NEW/speech/COVID_Positive/UFIFXQAP.flac'), PosixPath('dataset/AUDIO_NEW/speech/COVID_Positive/RSNVHYQJ.flac'), PosixPath('dataset/AUDIO_NEW/speech/COVID_Positive/GAUSATWC.flac'), PosixPath('dataset/AUDIO_NEW/speech/COVID_Positive/OEBNCSCD.flac'), PosixPath('dataset/AUDIO_NEW/speech/COVID_Positive/WGLAXOFO.flac'), PosixPath('dataset/AUDIO_NEW/speech/COVID_Positive/BOMXACHU.flac'), PosixPath('dataset/AUDIO_NEW/speech/COVID_Positive/VEXPGKXS.flac'), PosixPath('dataset/AUDIO_NEW/speech/COVID_Positive/DKXPLQIT.flac'), PosixPath('dataset/AUDIO_NEW/speech/COVID_Positive/LDXQBHQV.flac'), PosixPath('dataset/AUDIO_NEW/speech/COVID_Positive/WDBFDLUX.flac'), PosixPath('dataset/AUDIO_NEW/speech/COVID_Positive/DZWZGUXL.flac'), PosixPath('dataset/AUDIO_NEW/speech/COVID_Positive/EEFEJDNQ.flac'), PosixPath('dataset/AUDIO_NEW/speech/COVID_Positive/ILQLERFN.flac'), PosixPath('dataset/AUDIO_NEW/speech/COVID_Positive/SOAJJJRJ.flac'), PosixPath('dataset/AUDIO_NEW/speech/COVID_Positive/ZOHJBAHB.flac'), PosixPath('dataset/AUDIO_NEW/speech/COVID_Positive/BYDNBEEK.flac'), PosixPath('dataset/AUDIO_NEW/speech/COVID_Positive/BQDUGOVT.flac'), PosixPath('dataset/AUDIO_NEW/speech/COVID_Positive/RHLWBBCI.flac'), PosixPath('dataset/AUDIO_NEW/speech/COVID_Positive/BWXXVSVX.flac'), PosixPath('dataset/AUDIO_NEW/speech/COVID_Positive/BBNYYTCZ.flac'), PosixPath('dataset/AUDIO_NEW/speech/COVID_Positive/VKQYYUNP.flac'), PosixPath('dataset/AUDIO_NEW/speech/COVID_Positive/ARVDHJXU.flac'), PosixPath('dataset/AUDIO_NEW/speech/COVID_Positive/FGYDTCSG.flac'), PosixPath('dataset/AUDIO_NEW/speech/COVID_Positive/UFQSDOZX.flac')] and [PosixPath('dataset/AUDIO_NEW/speech/COVID_Negative/QVVWAVMF.flac'), PosixPath('dataset/AUDIO_NEW/speech/COVID_Negative/XZBQKTSK.flac'), PosixPath('dataset/AUDIO_NEW/speech/COVID_Negative/YDCZWUOH.flac'), PosixPath('dataset/AUDIO_NEW/speech/COVID_Negative/VSEBEJDD.flac'), PosixPath('dataset/AUDIO_NEW/speech/COVID_Negative/NRIKZRIX.flac'), PosixPath('dataset/AUDIO_NEW/speech/COVID_Negative/WDEZVJVD.flac'), PosixPath('dataset/AUDIO_NEW/speech/COVID_Negative/UQKFGZUI.flac'), PosixPath('dataset/AUDIO_NEW/speech/COVID_Negative/QNLEWKPH.flac'), PosixPath('dataset/AUDIO_NEW/speech/COVID_Negative/ZHBVQRYX.flac'), PosixPath('dataset/AUDIO_NEW/speech/COVID_Negative/EIZMRTLF.flac'), PosixPath('dataset/AUDIO_NEW/speech/COVID_Negative/FISKGDQI.flac'), PosixPath('dataset/AUDIO_NEW/speech/COVID_Negative/CILWQDUL.flac'), PosixPath('dataset/AUDIO_NEW/speech/COVID_Negative/UZRWYLSZ.flac'), PosixPath('dataset/AUDIO_NEW/speech/COVID_Negative/HYIPCRDX.flac'), PosixPath('dataset/AUDIO_NEW/speech/COVID_Negative/JBJKLSRU.flac'), PosixPath('dataset/AUDIO_NEW/speech/COVID_Negative/IZDSFCGK.flac'), PosixPath('dataset/AUDIO_NEW/speech/COVID_Negative/JIFGOBDL.flac'), PosixPath('dataset/AUDIO_NEW/speech/COVID_Negative/GBUJZAML.flac'), PosixPath('dataset/AUDIO_NEW/speech/COVID_Negative/YUYZEDWL.flac'), PosixPath('dataset/AUDIO_NEW/speech/COVID_Negative/KPGPEOCQ.flac'), PosixPath('dataset/AUDIO_NEW/speech/COVID_Negative/RNULDCCD.flac'), PosixPath('dataset/AUDIO_NEW/speech/COVID_Negative/FNBGZJGB.flac'), PosixPath('dataset/AUDIO_NEW/speech/COVID_Negative/MJWDQQMZ.flac'), PosixPath('dataset/AUDIO_NEW/speech/COVID_Negative/RATHNBXM.flac'), PosixPath('dataset/AUDIO_NEW/speech/COVID_Negative/HBGPBVNK.flac'), PosixPath('dataset/AUDIO_NEW/speech/COVID_Negative/HTVKVBPE.flac'), PosixPath('dataset/AUDIO_NEW/speech/COVID_Negative/DAOJYZLP.flac'), PosixPath('dataset/AUDIO_NEW/speech/COVID_Negative/PGARVXOB.flac'), PosixPath('dataset/AUDIO_NEW/speech/COVID_Negative/IXDYYRAA.flac'), PosixPath('dataset/AUDIO_NEW/speech/COVID_Negative/ZAMULFCD.flac'), PosixPath('dataset/AUDIO_NEW/speech/COVID_Negative/LPIGMFBS.flac'), PosixPath('dataset/AUDIO_NEW/speech/COVID_Negative/EKOSCTDP.flac'), PosixPath('dataset/AUDIO_NEW/speech/COVID_Negative/UIKPAYTQ.flac'), PosixPath('dataset/AUDIO_NEW/speech/COVID_Negative/QEJJIHWU.flac'), PosixPath('dataset/AUDIO_NEW/speech/COVID_Negative/MJUNVFVA.flac'), PosixPath('dataset/AUDIO_NEW/speech/COVID_Negative/GNKTWAYU.flac'), PosixPath('dataset/AUDIO_NEW/speech/COVID_Negative/WIMSSIHS.flac'), PosixPath('dataset/AUDIO_NEW/speech/COVID_Negative/TFPDKUUB.flac'), PosixPath('dataset/AUDIO_NEW/speech/COVID_Negative/NXEWOFPP.flac'), PosixPath('dataset/AUDIO_NEW/speech/COVID_Negative/BYLIIJIF.flac'), PosixPath('dataset/AUDIO_NEW/speech/COVID_Negative/KWPAYCJY.flac'), PosixPath('dataset/AUDIO_NEW/speech/COVID_Negative/CYUYAUBW.flac'), PosixPath('dataset/AUDIO_NEW/speech/COVID_Negative/KIOUCLNC.flac'), PosixPath('dataset/AUDIO_NEW/speech/COVID_Negative/NUXMKRTG.flac'), PosixPath('dataset/AUDIO_NEW/speech/COVID_Negative/KAHQELVQ.flac'), PosixPath('dataset/AUDIO_NEW/speech/COVID_Negative/JFDWVLPR.flac'), PosixPath('dataset/AUDIO_NEW/speech/COVID_Negative/OKKURGBW.flac'), PosixPath('dataset/AUDIO_NEW/speech/COVID_Negative/TTOILUFY.flac'), PosixPath('dataset/AUDIO_NEW/speech/COVID_Negative/OQRBAXQB.flac'), PosixPath('dataset/AUDIO_NEW/speech/COVID_Negative/PIJSVYUF.flac'), PosixPath('dataset/AUDIO_NEW/speech/COVID_Negative/SLDFYASD.flac'), PosixPath('dataset/AUDIO_NEW/speech/COVID_Negative/EZBKORPS.flac'), PosixPath('dataset/AUDIO_NEW/speech/COVID_Negative/IOXRXLGN.flac'), PosixPath('dataset/AUDIO_NEW/speech/COVID_Negative/SWSNHYXQ.flac'), PosixPath('dataset/AUDIO_NEW/speech/COVID_Negative/AXXYUZNB.flac'), PosixPath('dataset/AUDIO_NEW/speech/COVID_Negative/BGQINZDF.flac'), PosixPath('dataset/AUDIO_NEW/speech/COVID_Negative/UFQLAGZU.flac'), PosixPath('dataset/AUDIO_NEW/speech/COVID_Negative/AGVUCEHF.flac'), PosixPath('dataset/AUDIO_NEW/speech/COVID_Negative/HIZWMXQV.flac'), PosixPath('dataset/AUDIO_NEW/speech/COVID_Negative/HWZGHNUV.flac'), PosixPath('dataset/AUDIO_NEW/speech/COVID_Negative/JYGPPNLO.flac'), PosixPath('dataset/AUDIO_NEW/speech/COVID_Negative/BRFBRYNH.flac'), PosixPath('dataset/AUDIO_NEW/speech/COVID_Negative/RIRKLDOP.flac'), PosixPath('dataset/AUDIO_NEW/speech/COVID_Negative/GZSOKKGU.flac'), PosixPath('dataset/AUDIO_NEW/speech/COVID_Negative/TUSNQCSS.flac'), PosixPath('dataset/AUDIO_NEW/speech/COVID_Negative/WNMVYPYC.flac'), PosixPath('dataset/AUDIO_NEW/speech/COVID_Negative/VSOQCRRM.flac'), PosixPath('dataset/AUDIO_NEW/speech/COVID_Negative/QEECDWID.flac'), PosixPath('dataset/AUDIO_NEW/speech/COVID_Negative/CFOZNKVX.flac'), PosixPath('dataset/AUDIO_NEW/speech/COVID_Negative/RJNACDMA.flac'), PosixPath('dataset/AUDIO_NEW/speech/COVID_Negative/DGVBOXRD.flac'), PosixPath('dataset/AUDIO_NEW/speech/COVID_Negative/QCSVTKAG.flac'), PosixPath('dataset/AUDIO_NEW/speech/COVID_Negative/TJNXHKLG.flac'), PosixPath('dataset/AUDIO_NEW/speech/COVID_Negative/YDQGQEJY.flac'), PosixPath('dataset/AUDIO_NEW/speech/COVID_Negative/JWDLTRNW.flac'), PosixPath('dataset/AUDIO_NEW/speech/COVID_Negative/JSZMZDPR.flac'), PosixPath('dataset/AUDIO_NEW/speech/COVID_Negative/VLGLJOHZ.flac'), PosixPath('dataset/AUDIO_NEW/speech/COVID_Negative/BLLALITL.flac'), PosixPath('dataset/AUDIO_NEW/speech/COVID_Negative/TIKMUJBL.flac'), PosixPath('dataset/AUDIO_NEW/speech/COVID_Negative/KFOWNALN.flac'), PosixPath('dataset/AUDIO_NEW/speech/COVID_Negative/WEOSJWAR.flac'), PosixPath('dataset/AUDIO_NEW/speech/COVID_Negative/CDKOVAAF.flac'), PosixPath('dataset/AUDIO_NEW/speech/COVID_Negative/JCQYJDPD.flac'), PosixPath('dataset/AUDIO_NEW/speech/COVID_Negative/CEESRFAY.flac'), PosixPath('dataset/AUDIO_NEW/speech/COVID_Negative/KNMPOTAM.flac'), PosixPath('dataset/AUDIO_NEW/speech/COVID_Negative/RNRWJMQY.flac'), PosixPath('dataset/AUDIO_NEW/speech/COVID_Negative/OOFLPSLD.flac'), PosixPath('dataset/AUDIO_NEW/speech/COVID_Negative/XHSLIVFZ.flac'), PosixPath('dataset/AUDIO_NEW/speech/COVID_Negative/YNMPOWMJ.flac'), PosixPath('dataset/AUDIO_NEW/speech/COVID_Negative/KWBDTRUO.flac'), PosixPath('dataset/AUDIO_NEW/speech/COVID_Negative/MRPWKEZE.flac'), PosixPath('dataset/AUDIO_NEW/speech/COVID_Negative/PBMZKAMG.flac'), PosixPath('dataset/AUDIO_NEW/speech/COVID_Negative/QWZGKNXN.flac'), PosixPath('dataset/AUDIO_NEW/speech/COVID_Negative/HHEHCVKI.flac'), PosixPath('dataset/AUDIO_NEW/speech/COVID_Negative/ZUHFTYAC.flac'), PosixPath('dataset/AUDIO_NEW/speech/COVID_Negative/OPCIRRLE.flac'), PosixPath('dataset/AUDIO_NEW/speech/COVID_Negative/YYNTGXHR.flac'), PosixPath('dataset/AUDIO_NEW/speech/COVID_Negative/CTVXCLUT.flac'), PosixPath('dataset/AUDIO_NEW/speech/COVID_Negative/CAUFHZEE.flac'), PosixPath('dataset/AUDIO_NEW/speech/COVID_Negative/AKZNODSB.flac'), PosixPath('dataset/AUDIO_NEW/speech/COVID_Negative/XIGZLRQW.flac'), PosixPath('dataset/AUDIO_NEW/speech/COVID_Negative/LUQKGBJU.flac'), PosixPath('dataset/AUDIO_NEW/speech/COVID_Negative/TSZUKQEY.flac'), PosixPath('dataset/AUDIO_NEW/speech/COVID_Negative/ILDGBTKL.flac'), PosixPath('dataset/AUDIO_NEW/speech/COVID_Negative/UYESHKIZ.flac'), PosixPath('dataset/AUDIO_NEW/speech/COVID_Negative/VFMLUBVA.flac'), PosixPath('dataset/AUDIO_NEW/speech/COVID_Negative/RVRUSVFU.flac'), PosixPath('dataset/AUDIO_NEW/speech/COVID_Negative/BXBNMRCP.flac'), PosixPath('dataset/AUDIO_NEW/speech/COVID_Negative/FGTNZSTY.flac'), PosixPath('dataset/AUDIO_NEW/speech/COVID_Negative/ECRQIHWC.flac'), PosixPath('dataset/AUDIO_NEW/speech/COVID_Negative/RBBOQYEV.flac'), PosixPath('dataset/AUDIO_NEW/speech/COVID_Negative/WKPYQEPK.flac'), PosixPath('dataset/AUDIO_NEW/speech/COVID_Negative/CTARUMOJ.flac'), PosixPath('dataset/AUDIO_NEW/speech/COVID_Negative/PVOBFOGQ.flac'), PosixPath('dataset/AUDIO_NEW/speech/COVID_Negative/CSWGJXWP.flac'), PosixPath('dataset/AUDIO_NEW/speech/COVID_Negative/ONOTPBTG.flac'), PosixPath('dataset/AUDIO_NEW/speech/COVID_Negative/FYYDNDDH.flac'), PosixPath('dataset/AUDIO_NEW/speech/COVID_Negative/KFSAZMYX.flac'), PosixPath('dataset/AUDIO_NEW/speech/COVID_Negative/RENULYPT.flac'), PosixPath('dataset/AUDIO_NEW/speech/COVID_Negative/JXMZTTQM.flac'), PosixPath('dataset/AUDIO_NEW/speech/COVID_Negative/XOVVNURO.flac'), PosixPath('dataset/AUDIO_NEW/speech/COVID_Negative/OGPPZDKI.flac'), PosixPath('dataset/AUDIO_NEW/speech/COVID_Negative/XEQWVUAB.flac'), PosixPath('dataset/AUDIO_NEW/speech/COVID_Negative/IMXXDFSZ.flac'), PosixPath('dataset/AUDIO_NEW/speech/COVID_Negative/HUDPGNFQ.flac'), PosixPath('dataset/AUDIO_NEW/speech/COVID_Negative/SACIIKPU.flac'), PosixPath('dataset/AUDIO_NEW/speech/COVID_Negative/TEOWORGS.flac'), PosixPath('dataset/AUDIO_NEW/speech/COVID_Negative/OWDNLDWL.flac'), PosixPath('dataset/AUDIO_NEW/speech/COVID_Negative/EKOHCANS.flac'), PosixPath('dataset/AUDIO_NEW/speech/COVID_Negative/RXUBUCCN.flac'), PosixPath('dataset/AUDIO_NEW/speech/COVID_Negative/TSKYEVMV.flac'), PosixPath('dataset/AUDIO_NEW/speech/COVID_Negative/BOGVZXCJ.flac'), PosixPath('dataset/AUDIO_NEW/speech/COVID_Negative/ITTUDODS.flac'), PosixPath('dataset/AUDIO_NEW/speech/COVID_Negative/DGKYFAJM.flac'), PosixPath('dataset/AUDIO_NEW/speech/COVID_Negative/RCKSGRZU.flac'), PosixPath('dataset/AUDIO_NEW/speech/COVID_Negative/BSTTTNIY.flac'), PosixPath('dataset/AUDIO_NEW/speech/COVID_Negative/DRCEAKUZ.flac'), PosixPath('dataset/AUDIO_NEW/speech/COVID_Negative/HFLHVMMB.flac'), PosixPath('dataset/AUDIO_NEW/speech/COVID_Negative/BAJDHDLE.flac'), PosixPath('dataset/AUDIO_NEW/speech/COVID_Negative/CGIBOVKK.flac'), PosixPath('dataset/AUDIO_NEW/speech/COVID_Negative/BMPQEXLH.flac'), PosixPath('dataset/AUDIO_NEW/speech/COVID_Negative/HZSCMMOT.flac'), PosixPath('dataset/AUDIO_NEW/speech/COVID_Negative/XOEMICRX.flac'), PosixPath('dataset/AUDIO_NEW/speech/COVID_Negative/JISUZQHJ.flac'), PosixPath('dataset/AUDIO_NEW/speech/COVID_Negative/JYDGBSYL.flac'), PosixPath('dataset/AUDIO_NEW/speech/COVID_Negative/MTMZQOQU.flac'), PosixPath('dataset/AUDIO_NEW/speech/COVID_Negative/RHDNXKED.flac'), PosixPath('dataset/AUDIO_NEW/speech/COVID_Negative/HYVYXSCB.flac'), PosixPath('dataset/AUDIO_NEW/speech/COVID_Negative/SSCKVNDN.flac'), PosixPath('dataset/AUDIO_NEW/speech/COVID_Negative/KPTENCMG.flac'), PosixPath('dataset/AUDIO_NEW/speech/COVID_Negative/VEZLFNEL.flac'), PosixPath('dataset/AUDIO_NEW/speech/COVID_Negative/FAYAIBQU.flac'), PosixPath('dataset/AUDIO_NEW/speech/COVID_Negative/ZBSUMCIO.flac'), PosixPath('dataset/AUDIO_NEW/speech/COVID_Negative/OLOJOLQJ.flac'), PosixPath('dataset/AUDIO_NEW/speech/COVID_Negative/AWBEGKDR.flac'), PosixPath('dataset/AUDIO_NEW/speech/COVID_Negative/PIQGNUVC.flac'), PosixPath('dataset/AUDIO_NEW/speech/COVID_Negative/KGSJHWXW.flac'), PosixPath('dataset/AUDIO_NEW/speech/COVID_Negative/WPODUPZU.flac')]! \n"
     ]
    }
   ],
   "source": [
    "spectrograms_breathing_train, other_features_breathing_train, labels_breathing_train  = create_features_splitted(train_pos_breathing_files, train_neg_breathing_files, 80000)\n",
    "spectrograms_breathing_test, other_features_breathing_test, labels_breathing_test  = create_features_splitted(test_pos_breathing_files, test_neg_breathing_ffiles, 80000, augment=False)\n",
    "spectrograms_cough_train, other_features_cough_train, labels_cough_train  =  create_features_splitted(train_pos_cough_files, train_neg_cough_files, 96000)\n",
    "spectrograms_cough_test , other_features_cough_test , labels_cough_test  =  create_features_splitted(test_pos_breathing_files, test_neg_cough_files, 96000, augment=False)\n",
    "spectrograms_speech_train, other_features_speech_train, labels_speech_train  =  create_features_splitted(train_pos_speech_files, train_neg_speech_files, 160000)\n",
    "spectrograms_speech_test, other_features_speech_test, labels_speech_test  = create_features_splitted(test_pos_speech_files, test_neg_speech_files, 160000, augment=False)\n"
   ]
  },
  {
   "cell_type": "code",
   "execution_count": null,
   "metadata": {},
   "outputs": [],
   "source": [
    "# Maximum time frame length across all audio types\n",
    "# max_time_frames = 1251\n",
    "\n",
    "# # Pad all spectrograms to the maximum time frame length\n",
    "# padded_spectrograms_breathing_train = [pad_spectrogram(s, max_time_frames) for s in spectrograms_breathing_train]\n",
    "# padded_spectrograms_breathing_test = [pad_spectrogram(s, max_time_frames) for s in spectrograms_breathing_test]\n",
    "\n",
    "# padded_spectrograms_cough_train = [pad_spectrogram(s, max_time_frames) for s in spectrograms_cough_train]\n",
    "# padded_spectrograms_cough_test = [pad_spectrogram(s, max_time_frames) for s in spectrograms_cough_test]\n",
    "\n",
    "# padded_spectrograms_speech_train = [pad_spectrogram(s, max_time_frames) for s in spectrograms_speech_train]\n",
    "# padded_spectrograms_speech_test = [pad_spectrogram(s, max_time_frames) for s in spectrograms_speech_test]"
   ]
  },
  {
   "cell_type": "code",
   "execution_count": 34,
   "metadata": {},
   "outputs": [],
   "source": [
    "# # Combine spectrograms, other features, and labels for each participant\n",
    "# all_spectrograms_train = []\n",
    "all_other_features_train = []\n",
    "all_labels_train = []\n",
    "\n",
    "# all_spectrograms_test = []\n",
    "all_other_features_test = []\n",
    "all_labels_test = []\n",
    "\n",
    "for i in range(len(spectrograms_breathing_train)):  # Iterate over participants\n",
    "\n",
    "#     combined_spectrogram_train = np.concatenate(\n",
    "#         [padded_spectrograms_breathing_train[i], padded_spectrograms_cough_train[i], padded_spectrograms_speech_train[i]], axis=1\n",
    "#     )\n",
    "    \n",
    "    # Combine other features for breathing, coughing, and speech\n",
    "    combined_other_features_train = np.concatenate(\n",
    "        [other_features_breathing_train[i], other_features_cough_train[i], other_features_speech_train[i]], axis=0\n",
    "    )\n",
    "    \n",
    "    # Assume labels are consistent across all audio types for a participant\n",
    "    label_train = labels_breathing_train[i]  # You can use any of the label lists since they are consistent\n",
    "\n",
    "#     # Append combined data to the final lists\n",
    "#     all_spectrograms_train.append(combined_spectrogram_train)\n",
    "    all_other_features_train.append(combined_other_features_train)\n",
    "    all_labels_train.append(label_train)\n",
    "\n",
    "\n",
    "for i in range(len(spectrograms_breathing_test)):  # Iterate over participants\n",
    "    \n",
    "        # combined_spectrogram_test = np.concatenate(\n",
    "        #     [padded_spectrograms_breathing_test[i], padded_spectrograms_cough_test[i], padded_spectrograms_speech_test[i]], axis=1\n",
    "        # )\n",
    "        \n",
    "        # Combine other features for breathing, coughing, and speech\n",
    "        combined_other_features_test = np.concatenate(\n",
    "            [other_features_breathing_test[i], other_features_cough_test[i], other_features_speech_test[i]], axis=0\n",
    "        )\n",
    "        \n",
    "        # Assume labels are consistent across all audio types for a participant\n",
    "        label_test = labels_breathing_test[i]  # You can use any of the label lists since they are consistent\n",
    "    \n",
    "#         # Append combined data to the final lists\n",
    "#         all_spectrograms_test.append(combined_spectrogram_test)\n",
    "        all_other_features_test.append(combined_other_features_test)\n",
    "        all_labels_test.append(label_test)\n",
    "    \n",
    "\n",
    "# # Convert to NumPy arrays\n",
    "# all_spectrograms_train = np.array(all_spectrograms_train)\n",
    "all_other_features_train = np.array(all_other_features_train)\n",
    "all_labels_train = np.array(all_labels_train)\n",
    "\n",
    "# all_spectrograms_test = np.array(all_spectrograms_test)\n",
    "all_other_features_test = np.array(all_other_features_test)\n",
    "all_labels_test = np.array(all_labels_test)\n",
    "\n",
    "\n",
    "# # Flatten spectrograms and combine with other features\n",
    "# all_spectrograms_train_flattened = all_spectrograms_train.reshape(all_spectrograms_train.shape[0], -1)\n",
    "# X_combined_train = np.hstack([all_spectrograms_train_flattened, all_other_features_train])\n",
    "\n",
    "# all_spectrograms_test_flattened = all_spectrograms_test.reshape(all_spectrograms_test.shape[0], -1)\n",
    "# X_combined_test = np.hstack([all_spectrograms_test_flattened, all_other_features_test])"
   ]
  },
  {
   "cell_type": "markdown",
   "metadata": {},
   "source": [
    "## Training only after data augmentation\n",
    "\n",
    "- 0.49 balanced accuracy"
   ]
  },
  {
   "cell_type": "code",
   "execution_count": 21,
   "metadata": {},
   "outputs": [],
   "source": [
    "# Constants for updated time frames\n",
    "num_mel_bands = 128\n",
    "original_time_frames_breathing = 626 # prev: 622\n",
    "original_time_frames_coughing = 751 # prev: 747\n",
    "original_time_frames_speech = 1251 # prev: 1247\n",
    "\n",
    "# Total original time frames\n",
    "original_total_time_frames = original_time_frames_breathing + original_time_frames_coughing + original_time_frames_speech\n",
    "\n",
    "# Total spectrogram features\n",
    "total_padded_spectrogram_features = num_mel_bands * (max_time_frames * 3)"
   ]
  },
  {
   "cell_type": "code",
   "execution_count": null,
   "metadata": {},
   "outputs": [],
   "source": [
    "# # Separate resampled padded spectrograms and other features for X_train_resampled\n",
    "# padded_spectrograms_resampled_X_train = X_combined_train[:, :total_padded_spectrogram_features]\n",
    "# other_features_resampled_X_train = X_combined_train[:, total_padded_spectrogram_features:]\n",
    "\n",
    "# padded_spectrograms_resampled_X_test = X_combined_test[:, :total_padded_spectrogram_features]\n",
    "# other_features_resampled_X_test = X_combined_test[:, total_padded_spectrogram_features:]"
   ]
  },
  {
   "cell_type": "code",
   "execution_count": null,
   "metadata": {},
   "outputs": [],
   "source": [
    "# padded_spectrograms_resampled_reshaped = padded_spectrograms_resampled.reshape(\n",
    "#     padded_spectrograms_resampled.shape[0], num_mel_bands,\n",
    "#     max_time_frames * 3, 1\n",
    "# )\n"
   ]
  },
  {
   "cell_type": "code",
   "execution_count": null,
   "metadata": {},
   "outputs": [
    {
     "data": {
      "text/plain": [
       "(1460, 128, 3753, 1)"
      ]
     },
     "execution_count": 34,
     "metadata": {},
     "output_type": "execute_result"
    }
   ],
   "source": [
    "# padded_spectrograms_resampled_reshaped.shape"
   ]
  },
  {
   "cell_type": "code",
   "execution_count": null,
   "metadata": {},
   "outputs": [],
   "source": [
    "# # Define a function to extract the original spectrograms without padding\n",
    "# def extract_original_spectrograms(padded_spectrograms, time_frames_breathing, time_frames_coughing, time_frames_speech):\n",
    "#     # Extract breathing spectrogram\n",
    "#     breathing = padded_spectrograms[:, :, :time_frames_breathing, :]\n",
    "    \n",
    "#     # Extract coughing spectrogram\n",
    "#     coughing_start = time_frames_breathing\n",
    "#     coughing_end = time_frames_breathing + time_frames_coughing\n",
    "#     coughing = padded_spectrograms[:, :, coughing_start:coughing_end, :]\n",
    "    \n",
    "#     # Extract speech spectrogram\n",
    "#     speech_start = coughing_end\n",
    "#     speech_end = speech_start + time_frames_speech\n",
    "#     speech = padded_spectrograms[:, :, speech_start:speech_end, :]\n",
    "    \n",
    "#     return breathing, coughing, speech"
   ]
  },
  {
   "cell_type": "code",
   "execution_count": null,
   "metadata": {},
   "outputs": [],
   "source": [
    "# # Extract the original spectrograms from the padded data\n",
    "# spectrograms_train_breathing, spectrograms_train_coughing, spectrograms_train_speech = extract_original_spectrograms(\n",
    "#     all_spectrograms_train_flattened,\n",
    "#     original_time_frames_breathing,\n",
    "#     original_time_frames_coughing,\n",
    "#     original_time_frames_speech\n",
    "# )"
   ]
  },
  {
   "cell_type": "code",
   "execution_count": null,
   "metadata": {},
   "outputs": [
    {
     "name": "stdout",
     "output_type": "stream",
     "text": [
      "Breathing Spectrogram Shape: (1460, 128, 626, 1)\n",
      "Coughing Spectrogram Shape: (1460, 128, 751, 1)\n",
      "Speech Spectrogram Shape: (1460, 128, 1251, 1)\n"
     ]
    }
   ],
   "source": [
    "# # Verify the shapes of the extracted spectrograms\n",
    "# print(\"Breathing Spectrogram Shape:\", spectrograms_train_breathing.shape)  # Expected: (num_samples, 128, 622, 1)\n",
    "# print(\"Coughing Spectrogram Shape:\", spectrograms_train_coughing.shape)   # Expected: (num_samples, 128, 747, 1)\n",
    "# print(\"Speech Spectrogram Shape:\", spectrograms_train_speech.shape)       # Expected: (num_samples, 128, 1247, 1)"
   ]
  },
  {
   "cell_type": "code",
   "execution_count": 24,
   "metadata": {},
   "outputs": [],
   "source": [
    "spectrograms_breathing_train = np.array(spectrograms_breathing_train)\n",
    "spectrograms_breathing_test = np.array(spectrograms_breathing_test)\n",
    "\n",
    "spectrograms_cough_train = np.array(spectrograms_cough_train)\n",
    "spectrograms_cough_test = np.array(spectrograms_cough_test)\n",
    "\n",
    "spectrograms_speech_train = np.array(spectrograms_speech_train)\n",
    "spectrograms_speech_test = np.array(spectrograms_speech_test)"
   ]
  },
  {
   "cell_type": "code",
   "execution_count": null,
   "metadata": {},
   "outputs": [],
   "source": [
    "# # For X_test (no resampling needed), separate and reshape the spectrograms\n",
    "# spectrograms_test = X_test[:, :total_padded_spectrogram_features]\n",
    "# other_features_test = X_test[:, total_padded_spectrogram_features:]"
   ]
  },
  {
   "cell_type": "code",
   "execution_count": null,
   "metadata": {},
   "outputs": [
    {
     "data": {
      "text/plain": [
       "((365, 480384), (365, 6))"
      ]
     },
     "execution_count": 38,
     "metadata": {},
     "output_type": "execute_result"
    }
   ],
   "source": [
    "# spectrograms_test.shape, other_features_test.shape"
   ]
  },
  {
   "cell_type": "code",
   "execution_count": null,
   "metadata": {},
   "outputs": [],
   "source": [
    "# spectrograms_test_reshaped = spectrograms_test.reshape(\n",
    "#     spectrograms_test.shape[0], num_mel_bands, max_time_frames * 3, 1\n",
    "# )"
   ]
  },
  {
   "cell_type": "code",
   "execution_count": null,
   "metadata": {},
   "outputs": [
    {
     "name": "stdout",
     "output_type": "stream",
     "text": [
      "Breathing Spectrogram Shape: (365, 128, 626, 1)\n",
      "Coughing Spectrogram Shape: (365, 128, 751, 1)\n",
      "Speech Spectrogram Shape: (365, 128, 1251, 1)\n"
     ]
    }
   ],
   "source": [
    "# Separate spectrogram_test_reshaped into breathing, coughing, and speech\n",
    "# spectrograms_test_breathing_resampled = spectrograms_test_reshaped[:, :, :num_time_frames, :]\n",
    "# spectrograms_test_coughing_resampled = spectrograms_test_reshaped[:, :, num_time_frames:num_time_frames*2, :]\n",
    "# spectrograms_test_speech_resampled = spectrograms_test_reshaped[:, :, num_time_frames*2:, :]\n",
    "\n",
    "# spectrograms_test_breathing, spectrograms_test_coughing, spectrograms_test_speech = extract_original_spectrograms(\n",
    "#     spectrograms_test_reshaped,\n",
    "#     original_time_frames_breathing,\n",
    "#     original_time_frames_coughing,\n",
    "#     original_time_frames_speech\n",
    "# )\n",
    "# # Verify shapes\n",
    "# print(\"Breathing Spectrogram Shape:\", spectrograms_test_breathing.shape)\n",
    "# print(\"Coughing Spectrogram Shape:\", spectrograms_test_coughing.shape)\n",
    "# print(\"Speech Spectrogram Shape:\", spectrograms_test_speech.shape)\n"
   ]
  },
  {
   "cell_type": "code",
   "execution_count": 25,
   "metadata": {},
   "outputs": [],
   "source": [
    "import tensorflow as tf\n",
    "from tensorflow.keras.layers import Input, Conv2D, MaxPooling2D, GlobalAveragePooling2D, Dense, Concatenate, Dropout\n",
    "\n",
    "# Define input for Mel spectrogram (shape: 625 time frames x 128 frequency bins x 1 channel)\n",
    "mel_input_breathing = Input(shape=(128, 626, 1), name='mel_spectrogram_breathing')\n",
    "mel_input_cough = Input(shape=(128, 751, 1), name='mel_spectrogram_cough')\n",
    "mel_input_speech = Input(shape=(128, 1251, 1), name='mel_spectrogram_speech')\n",
    "\n",
    "\n",
    "# Define CNN sub-network for Mel spectrogram\n",
    "def create_cnn_subnetwork(input_layer):\n",
    "    x = Conv2D(16, (3,3), activation='relu')(input_layer)\n",
    "    x = MaxPooling2D(pool_size=(2,2))(x)\n",
    "    x = Conv2D(16, (3,3), activation='relu')(x)\n",
    "    x = MaxPooling2D(pool_size=(2,2))(x)\n",
    "    x = Conv2D(32, (3,3), activation='relu')(x)\n",
    "    x = MaxPooling2D(pool_size=(2,2))(x)\n",
    "    x = Conv2D(64, (3,3), activation='relu')(x)\n",
    "    x = MaxPooling2D(pool_size=(2,2))(x)\n",
    "    x = GlobalAveragePooling2D()(x)\n",
    "\n",
    "    return x\n",
    "\n",
    "# Create CNN sub-networks for each spectrogram input\n",
    "cnn_breathing_output = create_cnn_subnetwork(mel_input_breathing)\n",
    "cnn_cough_output = create_cnn_subnetwork(mel_input_cough)\n",
    "cnn_speech_output = create_cnn_subnetwork(mel_input_speech)\n",
    "\n",
    "# Define input for other features (zero-crossing rate and spectral centroid)\n",
    "other_input = Input(shape=(6,), name='other_features')\n",
    "\n",
    "# Define a simple dense sub-network for other features\n",
    "y = Dense(64, activation='relu')(other_input)\n",
    "y = Dense(128, activation='relu')(y)  # Add more dense layers\n",
    "y = Dropout(0.3)(y)                   # Add dropout to prevent overfitting\n",
    "y = Dense(128, activation='relu')(y)   # Another dense layer\n",
    "y = Dense(64, activation='relu')(y)    # Another dense layer\n",
    "\n",
    "# Concatenate both sub-networks\n",
    "combined = Concatenate()([cnn_breathing_output, cnn_cough_output, cnn_speech_output, y])\n",
    "\n",
    "# Add final classification layers\n",
    "z = Dense(128, activation='relu')(combined)\n",
    "z = Dropout(0.3)(z)                    # Add dropout to prevent overfitting\n",
    "z = Dense(64, activation='relu')(z)\n",
    "z = Dense(1, activation='sigmoid')(z)  # Binary classification"
   ]
  },
  {
   "cell_type": "code",
   "execution_count": 26,
   "metadata": {},
   "outputs": [],
   "source": [
    "# Define the model with two inputs\n",
    "model = tf.keras.Model(inputs=[mel_input_breathing, mel_input_cough, mel_input_speech, other_input], outputs=z)\n",
    "\n",
    "# Compile the model\n",
    "model.compile(optimizer='adam', loss='binary_crossentropy', metrics=['accuracy','recall','precision'])\n",
    "\n",
    "# Print model summary\n",
    "# model.summary()"
   ]
  },
  {
   "cell_type": "code",
   "execution_count": 39,
   "metadata": {},
   "outputs": [],
   "source": [
    "y_train = np.array(labels_breathing_train)"
   ]
  },
  {
   "cell_type": "code",
   "execution_count": 40,
   "metadata": {},
   "outputs": [
    {
     "name": "stdout",
     "output_type": "stream",
     "text": [
      "Training set shapes:\n",
      "Breathing: (1170, 128, 626, 1)\n",
      "Coughing: (1170, 128, 751, 1)\n",
      "Speech: (1170, 128, 1251, 1)\n",
      "Other Features: (1170, 6)\n",
      "Labels: (1170,)\n",
      "\n",
      "Validation set shapes:\n",
      "Breathing: (293, 128, 626, 1)\n",
      "Coughing: (293, 128, 751, 1)\n",
      "Speech: (293, 128, 1251, 1)\n",
      "Other Features: (293, 6)\n",
      "Labels: (293,)\n"
     ]
    }
   ],
   "source": [
    "X_train_breathing, X_val_breathing, \\\n",
    "X_train_coughing, X_val_coughing, \\\n",
    "X_train_speech, X_val_speech, \\\n",
    "X_train_other_features, X_val_other_features, \\\n",
    "y_train, y_val = train_test_split(\n",
    "    spectrograms_breathing_train,\n",
    "    spectrograms_cough_train,\n",
    "    spectrograms_speech_train,\n",
    "    all_other_features_train,\n",
    "    y_train,\n",
    "    test_size=0.2,\n",
    "    random_state=seed,\n",
    "    stratify=y_train\n",
    ")\n",
    "\n",
    "# Step 2: Verify shapes of training and validation sets\n",
    "print(\"Training set shapes:\")\n",
    "print(\"Breathing:\", X_train_breathing.shape)\n",
    "print(\"Coughing:\", X_train_coughing.shape)\n",
    "print(\"Speech:\", X_train_speech.shape)\n",
    "print(\"Other Features:\", X_train_other_features.shape)\n",
    "print(\"Labels:\", y_train.shape)\n",
    "\n",
    "print(\"\\nValidation set shapes:\")\n",
    "print(\"Breathing:\", X_val_breathing.shape)\n",
    "print(\"Coughing:\", X_val_coughing.shape)\n",
    "print(\"Speech:\", X_val_speech.shape)\n",
    "print(\"Other Features:\", X_val_other_features.shape)\n",
    "print(\"Labels:\", y_val.shape)\n"
   ]
  },
  {
   "cell_type": "code",
   "execution_count": 66,
   "metadata": {},
   "outputs": [],
   "source": [
    "from tensorflow.keras.callbacks import EarlyStopping\n",
    "from sklearn.utils.class_weight import compute_class_weight\n",
    "\n",
    "# EarlyStopping callback\n",
    "early_stopping = EarlyStopping(\n",
    "    monitor='val_loss',         # Metric to monitor (e.g., validation loss)\n",
    "    patience=5,                 # Number of epochs with no improvement before stopping\n",
    "    restore_best_weights=True,  # Restore the weights of the best epoch\n",
    "    verbose=1                   # Print messages when early stopping is triggered\n",
    ")\n",
    "\n",
    "\n",
    "# Compute class weights\n",
    "class_weights = {0: 1.0, 1: 2.0} "
   ]
  },
  {
   "cell_type": "code",
   "execution_count": 69,
   "metadata": {},
   "outputs": [
    {
     "name": "stdout",
     "output_type": "stream",
     "text": [
      "Epoch 1/20\n"
     ]
    },
    {
     "name": "stderr",
     "output_type": "stream",
     "text": [
      "/Users/opheliasin/covid-detection/venv/lib/python3.12/site-packages/keras/src/models/functional.py:225: UserWarning: The structure of `inputs` doesn't match the expected structure: ['mel_spectrogram_breathing', 'mel_spectrogram_cough', 'mel_spectrogram_speech', 'other_features']. Received: the structure of inputs=('*', '*', '*', '*')\n",
      "  warnings.warn(\n"
     ]
    },
    {
     "name": "stdout",
     "output_type": "stream",
     "text": [
      "\u001b[1m37/37\u001b[0m \u001b[32m━━━━━━━━━━━━━━━━━━━━\u001b[0m\u001b[37m\u001b[0m \u001b[1m75s\u001b[0m 2s/step - accuracy: 0.8322 - loss: 0.5209 - precision: 0.8473 - recall: 0.8473 - val_accuracy: 0.8976 - val_loss: 0.3842 - val_precision: 0.9304 - val_recall: 0.8855\n",
      "Epoch 2/20\n",
      "\u001b[1m37/37\u001b[0m \u001b[32m━━━━━━━━━━━━━━━━━━━━\u001b[0m\u001b[37m\u001b[0m \u001b[1m77s\u001b[0m 2s/step - accuracy: 0.8283 - loss: 0.5419 - precision: 0.8429 - recall: 0.8456 - val_accuracy: 0.9044 - val_loss: 0.3355 - val_precision: 0.9539 - val_recall: 0.8735\n",
      "Epoch 3/20\n",
      "\u001b[1m37/37\u001b[0m \u001b[32m━━━━━━━━━━━━━━━━━━━━\u001b[0m\u001b[37m\u001b[0m \u001b[1m71s\u001b[0m 2s/step - accuracy: 0.8424 - loss: 0.5110 - precision: 0.8578 - recall: 0.8555 - val_accuracy: 0.8771 - val_loss: 0.3852 - val_precision: 0.8963 - val_recall: 0.8855\n",
      "Epoch 4/20\n",
      "\u001b[1m37/37\u001b[0m \u001b[32m━━━━━━━━━━━━━━━━━━━━\u001b[0m\u001b[37m\u001b[0m \u001b[1m61s\u001b[0m 2s/step - accuracy: 0.8391 - loss: 0.5093 - precision: 0.8554 - recall: 0.8516 - val_accuracy: 0.9010 - val_loss: 0.3365 - val_precision: 0.9419 - val_recall: 0.8795\n",
      "Epoch 5/20\n",
      "\u001b[1m37/37\u001b[0m \u001b[32m━━━━━━━━━━━━━━━━━━━━\u001b[0m\u001b[37m\u001b[0m \u001b[1m64s\u001b[0m 2s/step - accuracy: 0.8575 - loss: 0.5037 - precision: 0.8858 - recall: 0.8508 - val_accuracy: 0.9044 - val_loss: 0.3647 - val_precision: 0.9423 - val_recall: 0.8855\n",
      "Epoch 6/20\n",
      "\u001b[1m37/37\u001b[0m \u001b[32m━━━━━━━━━━━━━━━━━━━━\u001b[0m\u001b[37m\u001b[0m \u001b[1m65s\u001b[0m 2s/step - accuracy: 0.8577 - loss: 0.4990 - precision: 0.8913 - recall: 0.8442 - val_accuracy: 0.9044 - val_loss: 0.3610 - val_precision: 0.9423 - val_recall: 0.8855\n",
      "Epoch 7/20\n",
      "\u001b[1m37/37\u001b[0m \u001b[32m━━━━━━━━━━━━━━━━━━━━\u001b[0m\u001b[37m\u001b[0m \u001b[1m87s\u001b[0m 2s/step - accuracy: 0.8603 - loss: 0.4835 - precision: 0.8971 - recall: 0.8428 - val_accuracy: 0.9044 - val_loss: 0.3502 - val_precision: 0.9423 - val_recall: 0.8855\n",
      "Epoch 7: early stopping\n",
      "Restoring model weights from the end of the best epoch: 2.\n",
      "\u001b[1m10/10\u001b[0m \u001b[32m━━━━━━━━━━━━━━━━━━━━\u001b[0m\u001b[37m\u001b[0m \u001b[1m4s\u001b[0m 383ms/step - accuracy: 0.9070 - loss: 0.3268 - precision: 0.9549 - recall: 0.8780\n"
     ]
    }
   ],
   "source": [
    "history = model.fit(\n",
    "    [X_train_breathing, X_train_coughing, X_train_speech, X_train_other_features],\n",
    "    y_train,\n",
    "    validation_data=(\n",
    "        [X_val_breathing, X_val_coughing, X_val_speech, X_val_other_features],\n",
    "        y_val\n",
    "    ),\n",
    "    epochs=20,\n",
    "    batch_size=32,\n",
    "    class_weight = class_weights,\n",
    "    callbacks=[early_stopping]\n",
    ")\n",
    "\n",
    "\n",
    "# Step 4: Evaluate the model on the validation set\n",
    "results = model.evaluate(\n",
    "    [X_val_breathing, X_val_coughing, X_val_speech, X_val_other_features],\n",
    "    y_val\n",
    ")"
   ]
  },
  {
   "cell_type": "code",
   "execution_count": 77,
   "metadata": {},
   "outputs": [
    {
     "name": "stdout",
     "output_type": "stream",
     "text": [
      "\u001b[1m46/46\u001b[0m \u001b[32m━━━━━━━━━━━━━━━━━━━━\u001b[0m\u001b[37m\u001b[0m \u001b[1m17s\u001b[0m 358ms/step\n"
     ]
    }
   ],
   "source": [
    "y_pred_train = model.predict([spectrograms_breathing_train, spectrograms_cough_train, spectrograms_speech_train, all_other_features_train])"
   ]
  },
  {
   "cell_type": "code",
   "execution_count": 78,
   "metadata": {},
   "outputs": [],
   "source": [
    "y_pred_train_binary = (y_pred_train > 0.6).astype(int)"
   ]
  },
  {
   "cell_type": "code",
   "execution_count": 82,
   "metadata": {},
   "outputs": [
    {
     "name": "stdout",
     "output_type": "stream",
     "text": [
      "Balanced Accuracy: 0.8908126973258778\n",
      "Training Accuracy: 0.8824333561175667\n"
     ]
    }
   ],
   "source": [
    "from sklearn.metrics import accuracy_score\n",
    "from sklearn.metrics import balanced_accuracy_score\n",
    "\n",
    "balanced_acc = balanced_accuracy_score(all_labels_train, y_pred_train_binary)\n",
    "print(f\"Balanced Accuracy: {balanced_acc}\")\n",
    "\n",
    "accuracy_train = accuracy_score(all_labels_train, y_pred_train_binary)\n",
    "\n",
    "print(f\"Training Accuracy: {accuracy_train}\")"
   ]
  },
  {
   "cell_type": "code",
   "execution_count": 80,
   "metadata": {},
   "outputs": [
    {
     "data": {
      "image/png": "[encoded data removed]",
      "text/plain": [
       "<Figure size 640x480 with 2 Axes>"
      ]
     },
     "metadata": {},
     "output_type": "display_data"
    }
   ],
   "source": [
    "from sklearn.metrics import confusion_matrix, ConfusionMatrixDisplay\n",
    "\n",
    "cm = confusion_matrix(all_labels_train, y_pred_train_binary)\n",
    "\n",
    "# Step 4: Visualize or print the confusion matrix\n",
    "disp = ConfusionMatrixDisplay(confusion_matrix=cm)\n",
    "disp.plot(cmap=plt.cm.Blues)\n",
    "plt.title(\"Confusion Matrix for Training Data\")\n",
    "plt.show()"
   ]
  },
  {
   "cell_type": "markdown",
   "metadata": {},
   "source": [
    "#### Test"
   ]
  },
  {
   "cell_type": "code",
   "execution_count": 84,
   "metadata": {},
   "outputs": [
    {
     "name": "stdout",
     "output_type": "stream",
     "text": [
      "\u001b[1m6/6\u001b[0m \u001b[32m━━━━━━━━━━━━━━━━━━━━\u001b[0m\u001b[37m\u001b[0m \u001b[1m3s\u001b[0m 366ms/step\n"
     ]
    }
   ],
   "source": [
    "y_pred_test = model.predict([spectrograms_breathing_test, spectrograms_cough_test, spectrograms_speech_test, all_other_features_test])\n",
    "y_pred_test_binary = (y_pred_test > 0.6).astype(int)"
   ]
  },
  {
   "cell_type": "code",
   "execution_count": 85,
   "metadata": {},
   "outputs": [
    {
     "name": "stdout",
     "output_type": "stream",
     "text": [
      "Balanced Accuracy: 0.5020476545048399\n",
      "Training Accuracy: 0.8072916666666666\n"
     ]
    }
   ],
   "source": [
    "from sklearn.metrics import accuracy_score\n",
    "from sklearn.metrics import balanced_accuracy_score\n",
    "\n",
    "balanced_acc = balanced_accuracy_score(all_labels_test, y_pred_test_binary)\n",
    "print(f\"Balanced Accuracy: {balanced_acc}\")\n",
    "\n",
    "accuracy_train = accuracy_score(all_labels_test, y_pred_test_binary)\n",
    "\n",
    "print(f\"Training Accuracy: {accuracy_train}\")"
   ]
  },
  {
   "cell_type": "code",
   "execution_count": 89,
   "metadata": {},
   "outputs": [
    {
     "data": {
      "image/png": "[encoded data removed]",
      "text/plain": [
       "<Figure size 640x480 with 2 Axes>"
      ]
     },
     "metadata": {},
     "output_type": "display_data"
    }
   ],
   "source": [
    "from sklearn.metrics import confusion_matrix, ConfusionMatrixDisplay\n",
    "\n",
    "cm = confusion_matrix(all_labels_test, y_pred_test_binary)\n",
    "\n",
    "# Step 4: Visualize or print the confusion matrix\n",
    "disp = ConfusionMatrixDisplay(confusion_matrix=cm)\n",
    "disp.plot(cmap=plt.cm.Blues)\n",
    "plt.title(\"Confusion Matrix for Testing Data\")\n",
    "plt.show()"
   ]
  },
  {
   "cell_type": "code",
   "execution_count": 90,
   "metadata": {},
   "outputs": [
    {
     "name": "stdout",
     "output_type": "stream",
     "text": [
      "              precision    recall  f1-score   support\n",
      "\n",
      "           0       0.82      0.97      0.89       158\n",
      "           1       0.20      0.03      0.05        34\n",
      "\n",
      "    accuracy                           0.81       192\n",
      "   macro avg       0.51      0.50      0.47       192\n",
      "weighted avg       0.71      0.81      0.74       192\n",
      "\n"
     ]
    }
   ],
   "source": [
    "from sklearn.metrics import classification_report\n",
    "\n",
    "print(classification_report(all_labels_test, y_pred_test_binary))"
   ]
  },
  {
   "cell_type": "markdown",
   "metadata": {},
   "source": [
    "## SMOTEENN\n",
    "\n",
    "- training balanced accuracy: `0.6131474932390264`\n",
    "- testing balanced accuracy: `0.4841842397336293`"
   ]
  },
  {
   "cell_type": "markdown",
   "metadata": {},
   "source": [
    "We used the `SMOTEENN` function in the imblearn library to handle imbalanced datasets by oversampling `1`, the minority class and remove noisy samples. "
   ]
  },
  {
   "cell_type": "code",
   "execution_count": 29,
   "metadata": {
    "colab": {
     "base_uri": "https://localhost:8080/"
    },
    "id": "C3W5W-NnwADc",
    "outputId": "9e606b1a-b401-422b-aa8d-e07f23474713"
   },
   "outputs": [],
   "source": [
    "from imblearn.combine import SMOTEENN\n",
    "from imblearn.over_sampling import SMOTE\n",
    "from imblearn.under_sampling import EditedNearestNeighbours\n",
    "from collections import Counter\n",
    "\n",
    "\n",
    "# smote = SMOTE(sampling_strategy=0.5)  # Oversample minority class to 50% of majority class\n",
    "enn = EditedNearestNeighbours(n_neighbors=5, kind_sel=\"mode\") \n",
    "# smote_enn = SMOTEENN(smote=smote, enn=enn, random_state=seed)\n",
    "\n",
    "# smote_enn = SMOTEENN(random_state=seed, sampling_strategy={0: 634, 1: 300})\n",
    "\n",
    "smote_enn = SMOTEENN(random_state=seed, sampling_strategy='minority', enn=enn)\n",
    "X_train_resampled, y_train_resampled = smote_enn.fit_resample(X_train, y_train)"
   ]
  },
  {
   "cell_type": "code",
   "execution_count": 30,
   "metadata": {},
   "outputs": [
    {
     "name": "stdout",
     "output_type": "stream",
     "text": [
      "Original class distribution: Counter({np.int64(0): 634, np.int64(1): 138})\n",
      "Resampled class distribution: Counter({np.int64(0): 634, np.int64(1): 632})\n"
     ]
    }
   ],
   "source": [
    "# Print resampled class distribution\n",
    "print(f\"Original class distribution: {Counter(y_train)}\")\n",
    "print(f\"Resampled class distribution: {Counter(y_train_resampled)}\")"
   ]
  },
  {
   "cell_type": "code",
   "execution_count": null,
   "metadata": {
    "id": "ZdGqYAuAwADc",
    "jupyter": {
     "source_hidden": true
    }
   },
   "outputs": [],
   "source": [
    "# # Reshape back to original format after resampling\n",
    "# X_resampled = X_resampled.reshape(X_resampled.shape[0], 128, 626, 1)\n",
    "\n",
    "# print(f\"Reshaped back to original format: {X_resampled.shape}\")"
   ]
  },
  {
   "cell_type": "code",
   "execution_count": 31,
   "metadata": {
    "id": "xrMFrAkYwADc"
   },
   "outputs": [],
   "source": [
    "# Constants for updated time frames\n",
    "num_mel_bands = 128\n",
    "original_time_frames_breathing = 626 # prev: 622\n",
    "original_time_frames_coughing = 751 # prev: 747\n",
    "original_time_frames_speech = 1251 # prev: 1247\n",
    "\n",
    "# Total original time frames\n",
    "original_total_time_frames = original_time_frames_breathing + original_time_frames_coughing + original_time_frames_speech\n",
    "\n",
    "# Total spectrogram features\n",
    "total_padded_spectrogram_features = num_mel_bands * (max_time_frames * 3)"
   ]
  },
  {
   "cell_type": "code",
   "execution_count": 32,
   "metadata": {
    "id": "CSMxwd6bwADd"
   },
   "outputs": [],
   "source": [
    "# Separate resampled padded spectrograms and other features for X_train_resampled\n",
    "padded_spectrograms_resampled = X_train_resampled[:, :total_padded_spectrogram_features]\n",
    "other_features_resampled = X_train_resampled[:, total_padded_spectrogram_features:]"
   ]
  },
  {
   "cell_type": "code",
   "execution_count": 33,
   "metadata": {},
   "outputs": [
    {
     "data": {
      "text/plain": [
       "((1266, 480384), (1266, 6))"
      ]
     },
     "execution_count": 33,
     "metadata": {},
     "output_type": "execute_result"
    }
   ],
   "source": [
    "padded_spectrograms_resampled.shape, other_features_resampled.shape"
   ]
  },
  {
   "cell_type": "code",
   "execution_count": 34,
   "metadata": {
    "id": "2VkWNbZywADd"
   },
   "outputs": [],
   "source": [
    "padded_spectrograms_resampled_reshaped = padded_spectrograms_resampled.reshape(\n",
    "    padded_spectrograms_resampled.shape[0], num_mel_bands,\n",
    "    max_time_frames * 3, 1\n",
    ")\n"
   ]
  },
  {
   "cell_type": "code",
   "execution_count": 35,
   "metadata": {},
   "outputs": [
    {
     "data": {
      "text/plain": [
       "(1266, 128, 3753, 1)"
      ]
     },
     "execution_count": 35,
     "metadata": {},
     "output_type": "execute_result"
    }
   ],
   "source": [
    "padded_spectrograms_resampled_reshaped.shape"
   ]
  },
  {
   "cell_type": "code",
   "execution_count": 36,
   "metadata": {},
   "outputs": [],
   "source": [
    "# Define a function to extract the original spectrograms without padding\n",
    "def extract_original_spectrograms(padded_spectrograms, time_frames_breathing, time_frames_coughing, time_frames_speech):\n",
    "    # Extract breathing spectrogram\n",
    "    breathing = padded_spectrograms[:, :, :time_frames_breathing, :]\n",
    "    \n",
    "    # Extract coughing spectrogram\n",
    "    coughing_start = time_frames_breathing\n",
    "    coughing_end = time_frames_breathing + time_frames_coughing\n",
    "    coughing = padded_spectrograms[:, :, coughing_start:coughing_end, :]\n",
    "    \n",
    "    # Extract speech spectrogram\n",
    "    speech_start = coughing_end\n",
    "    speech_end = speech_start + time_frames_speech\n",
    "    speech = padded_spectrograms[:, :, speech_start:speech_end, :]\n",
    "    \n",
    "    return breathing, coughing, speech\n",
    "\n",
    "# Extract the original spectrograms from the padded data\n",
    "spectrograms_train_breathing, spectrograms_train_coughing, spectrograms_train_speech = extract_original_spectrograms(\n",
    "    padded_spectrograms_resampled_reshaped,\n",
    "    original_time_frames_breathing,\n",
    "    original_time_frames_coughing,\n",
    "    original_time_frames_speech\n",
    ")"
   ]
  },
  {
   "cell_type": "code",
   "execution_count": 37,
   "metadata": {},
   "outputs": [
    {
     "name": "stdout",
     "output_type": "stream",
     "text": [
      "Breathing Spectrogram Shape: (1266, 128, 626, 1)\n",
      "Coughing Spectrogram Shape: (1266, 128, 751, 1)\n",
      "Speech Spectrogram Shape: (1266, 128, 1251, 1)\n"
     ]
    }
   ],
   "source": [
    "# Verify the shapes of the extracted spectrograms\n",
    "print(\"Breathing Spectrogram Shape:\", spectrograms_train_breathing.shape)  # Expected: (num_samples, 128, 622, 1)\n",
    "print(\"Coughing Spectrogram Shape:\", spectrograms_train_coughing.shape)   # Expected: (num_samples, 128, 747, 1)\n",
    "print(\"Speech Spectrogram Shape:\", spectrograms_train_speech.shape)       # Expected: (num_samples, 128, 1247, 1)"
   ]
  },
  {
   "cell_type": "markdown",
   "metadata": {},
   "source": [
    "### Process X_test"
   ]
  },
  {
   "cell_type": "code",
   "execution_count": 38,
   "metadata": {
    "id": "pQCUw-luwADd"
   },
   "outputs": [],
   "source": [
    "# For X_test (no resampling needed), separate and reshape the spectrograms\n",
    "spectrograms_test = X_test[:, :total_padded_spectrogram_features]\n",
    "other_features_test = X_test[:, total_padded_spectrogram_features:]"
   ]
  },
  {
   "cell_type": "code",
   "execution_count": 39,
   "metadata": {},
   "outputs": [
    {
     "data": {
      "text/plain": [
       "((193, 480384), (193, 6))"
      ]
     },
     "execution_count": 39,
     "metadata": {},
     "output_type": "execute_result"
    }
   ],
   "source": [
    "spectrograms_test.shape, other_features_test.shape"
   ]
  },
  {
   "cell_type": "code",
   "execution_count": 40,
   "metadata": {},
   "outputs": [],
   "source": [
    "spectrograms_test_reshaped = spectrograms_test.reshape(\n",
    "    spectrograms_test.shape[0], num_mel_bands, max_time_frames * 3, 1\n",
    ")"
   ]
  },
  {
   "cell_type": "code",
   "execution_count": 41,
   "metadata": {},
   "outputs": [
    {
     "name": "stdout",
     "output_type": "stream",
     "text": [
      "Breathing Spectrogram Shape: (193, 128, 626, 1)\n",
      "Coughing Spectrogram Shape: (193, 128, 751, 1)\n",
      "Speech Spectrogram Shape: (193, 128, 1251, 1)\n"
     ]
    }
   ],
   "source": [
    "# Separate spectrogram_test_reshaped into breathing, coughing, and speech\n",
    "# spectrograms_test_breathing_resampled = spectrograms_test_reshaped[:, :, :num_time_frames, :]\n",
    "# spectrograms_test_coughing_resampled = spectrograms_test_reshaped[:, :, num_time_frames:num_time_frames*2, :]\n",
    "# spectrograms_test_speech_resampled = spectrograms_test_reshaped[:, :, num_time_frames*2:, :]\n",
    "\n",
    "spectrograms_test_breathing, spectrograms_test_coughing, spectrograms_test_speech = extract_original_spectrograms(\n",
    "    spectrograms_test_reshaped,\n",
    "    original_time_frames_breathing,\n",
    "    original_time_frames_coughing,\n",
    "    original_time_frames_speech\n",
    ")\n",
    "# Verify shapes\n",
    "print(\"Breathing Spectrogram Shape:\", spectrograms_test_breathing.shape)\n",
    "print(\"Coughing Spectrogram Shape:\", spectrograms_test_coughing.shape)\n",
    "print(\"Speech Spectrogram Shape:\", spectrograms_test_speech.shape)\n"
   ]
  },
  {
   "cell_type": "code",
   "execution_count": 42,
   "metadata": {
    "id": "sysTwmRVwADd"
   },
   "outputs": [],
   "source": [
    "#convert y_train_resampled and y_test to numpy arrays\n",
    "\n",
    "y_train_resampled = np.array(y_train_resampled)\n",
    "y_test = np.array(y_test)"
   ]
  },
  {
   "cell_type": "markdown",
   "metadata": {
    "id": "SK7RwJ-3wADj"
   },
   "source": [
    "### Multi-input model"
   ]
  },
  {
   "cell_type": "code",
   "execution_count": 43,
   "metadata": {
    "id": "36EjQru0wADj"
   },
   "outputs": [],
   "source": [
    "import tensorflow as tf\n",
    "from tensorflow.keras.layers import Input, Conv2D, MaxPooling2D, GlobalAveragePooling2D, Dense, Concatenate, Dropout\n",
    "\n",
    "# Define input for Mel spectrogram (shape: 625 time frames x 128 frequency bins x 1 channel)\n",
    "mel_input_breathing = Input(shape=(128, 626, 1), name='mel_spectrogram_breathing')\n",
    "mel_input_cough = Input(shape=(128, 751, 1), name='mel_spectrogram_cough')\n",
    "mel_input_speech = Input(shape=(128, 1251, 1), name='mel_spectrogram_speech')\n",
    "\n",
    "\n",
    "# Define CNN sub-network for Mel spectrogram\n",
    "def create_cnn_subnetwork(input_layer):\n",
    "    x = Conv2D(16, (3,3), activation='relu')(input_layer)\n",
    "    x = MaxPooling2D(pool_size=(2,2))(x)\n",
    "    x = Conv2D(16, (3,3), activation='relu')(x)\n",
    "    x = MaxPooling2D(pool_size=(2,2))(x)\n",
    "    x = Conv2D(32, (3,3), activation='relu')(x)\n",
    "    x = MaxPooling2D(pool_size=(2,2))(x)\n",
    "    x = Conv2D(64, (3,3), activation='relu')(x)\n",
    "    x = MaxPooling2D(pool_size=(2,2))(x)\n",
    "    x = GlobalAveragePooling2D()(x)\n",
    "\n",
    "    return x\n",
    "\n",
    "# Create CNN sub-networks for each spectrogram input\n",
    "cnn_breathing_output = create_cnn_subnetwork(mel_input_breathing)\n",
    "cnn_cough_output = create_cnn_subnetwork(mel_input_cough)\n",
    "cnn_speech_output = create_cnn_subnetwork(mel_input_speech)\n",
    "\n",
    "# Define input for other features (zero-crossing rate and spectral centroid)\n",
    "other_input = Input(shape=(6,), name='other_features')\n",
    "\n",
    "# Define a simple dense sub-network for other features\n",
    "y = Dense(64, activation='relu')(other_input)\n",
    "y = Dense(128, activation='relu')(y)  # Add more dense layers\n",
    "y = Dropout(0.3)(y)                   # Add dropout to prevent overfitting\n",
    "y = Dense(128, activation='relu')(y)   # Another dense layer\n",
    "y = Dense(64, activation='relu')(y)    # Another dense layer\n",
    "\n",
    "# Concatenate both sub-networks\n",
    "combined = Concatenate()([cnn_breathing_output, cnn_cough_output, cnn_speech_output, y])\n",
    "\n",
    "# Add final classification layers\n",
    "z = Dense(128, activation='relu')(combined)\n",
    "z = Dropout(0.3)(z)                    # Add dropout to prevent overfitting\n",
    "z = Dense(64, activation='relu')(z)\n",
    "z = Dense(1, activation='sigmoid')(z)  # Binary classification"
   ]
  },
  {
   "cell_type": "code",
   "execution_count": 44,
   "metadata": {
    "colab": {
     "base_uri": "https://localhost:8080/"
    },
    "id": "QNiB1dM0wADj",
    "outputId": "d98890aa-5663-4760-c432-9cf9dff2fd50"
   },
   "outputs": [
    {
     "data": {
      "text/html": [
       "<pre style=\"white-space:pre;overflow-x:auto;line-height:normal;font-family:Menlo,'DejaVu Sans Mono',consolas,'Courier New',monospace\"><span style=\"font-weight: bold\">Model: \"functional\"</span>\n",
       "</pre>\n"
      ],
      "text/plain": [
       "\u001b[1mModel: \"functional\"\u001b[0m\n"
      ]
     },
     "metadata": {},
     "output_type": "display_data"
    },
    {
     "data": {
      "text/html": [
       "<pre style=\"white-space:pre;overflow-x:auto;line-height:normal;font-family:Menlo,'DejaVu Sans Mono',consolas,'Courier New',monospace\">┏━━━━━━━━━━━━━━━━━━━━━┳━━━━━━━━━━━━━━━━━━━┳━━━━━━━━━━━━┳━━━━━━━━━━━━━━━━━━━┓\n",
       "┃<span style=\"font-weight: bold\"> Layer (type)        </span>┃<span style=\"font-weight: bold\"> Output Shape      </span>┃<span style=\"font-weight: bold\">    Param # </span>┃<span style=\"font-weight: bold\"> Connected to      </span>┃\n",
       "┡━━━━━━━━━━━━━━━━━━━━━╇━━━━━━━━━━━━━━━━━━━╇━━━━━━━━━━━━╇━━━━━━━━━━━━━━━━━━━┩\n",
       "│ mel_spectrogram_br… │ (<span style=\"color: #00d7ff; text-decoration-color: #00d7ff\">None</span>, <span style=\"color: #00af00; text-decoration-color: #00af00\">128</span>, <span style=\"color: #00af00; text-decoration-color: #00af00\">626</span>,  │          <span style=\"color: #00af00; text-decoration-color: #00af00\">0</span> │ -                 │\n",
       "│ (<span style=\"color: #0087ff; text-decoration-color: #0087ff\">InputLayer</span>)        │ <span style=\"color: #00af00; text-decoration-color: #00af00\">1</span>)                │            │                   │\n",
       "├─────────────────────┼───────────────────┼────────────┼───────────────────┤\n",
       "│ mel_spectrogram_co… │ (<span style=\"color: #00d7ff; text-decoration-color: #00d7ff\">None</span>, <span style=\"color: #00af00; text-decoration-color: #00af00\">128</span>, <span style=\"color: #00af00; text-decoration-color: #00af00\">751</span>,  │          <span style=\"color: #00af00; text-decoration-color: #00af00\">0</span> │ -                 │\n",
       "│ (<span style=\"color: #0087ff; text-decoration-color: #0087ff\">InputLayer</span>)        │ <span style=\"color: #00af00; text-decoration-color: #00af00\">1</span>)                │            │                   │\n",
       "├─────────────────────┼───────────────────┼────────────┼───────────────────┤\n",
       "│ mel_spectrogram_sp… │ (<span style=\"color: #00d7ff; text-decoration-color: #00d7ff\">None</span>, <span style=\"color: #00af00; text-decoration-color: #00af00\">128</span>, <span style=\"color: #00af00; text-decoration-color: #00af00\">1251</span>, │          <span style=\"color: #00af00; text-decoration-color: #00af00\">0</span> │ -                 │\n",
       "│ (<span style=\"color: #0087ff; text-decoration-color: #0087ff\">InputLayer</span>)        │ <span style=\"color: #00af00; text-decoration-color: #00af00\">1</span>)                │            │                   │\n",
       "├─────────────────────┼───────────────────┼────────────┼───────────────────┤\n",
       "│ conv2d (<span style=\"color: #0087ff; text-decoration-color: #0087ff\">Conv2D</span>)     │ (<span style=\"color: #00d7ff; text-decoration-color: #00d7ff\">None</span>, <span style=\"color: #00af00; text-decoration-color: #00af00\">126</span>, <span style=\"color: #00af00; text-decoration-color: #00af00\">624</span>,  │        <span style=\"color: #00af00; text-decoration-color: #00af00\">160</span> │ mel_spectrogram_… │\n",
       "│                     │ <span style=\"color: #00af00; text-decoration-color: #00af00\">16</span>)               │            │                   │\n",
       "├─────────────────────┼───────────────────┼────────────┼───────────────────┤\n",
       "│ conv2d_4 (<span style=\"color: #0087ff; text-decoration-color: #0087ff\">Conv2D</span>)   │ (<span style=\"color: #00d7ff; text-decoration-color: #00d7ff\">None</span>, <span style=\"color: #00af00; text-decoration-color: #00af00\">126</span>, <span style=\"color: #00af00; text-decoration-color: #00af00\">749</span>,  │        <span style=\"color: #00af00; text-decoration-color: #00af00\">160</span> │ mel_spectrogram_… │\n",
       "│                     │ <span style=\"color: #00af00; text-decoration-color: #00af00\">16</span>)               │            │                   │\n",
       "├─────────────────────┼───────────────────┼────────────┼───────────────────┤\n",
       "│ conv2d_8 (<span style=\"color: #0087ff; text-decoration-color: #0087ff\">Conv2D</span>)   │ (<span style=\"color: #00d7ff; text-decoration-color: #00d7ff\">None</span>, <span style=\"color: #00af00; text-decoration-color: #00af00\">126</span>, <span style=\"color: #00af00; text-decoration-color: #00af00\">1249</span>, │        <span style=\"color: #00af00; text-decoration-color: #00af00\">160</span> │ mel_spectrogram_… │\n",
       "│                     │ <span style=\"color: #00af00; text-decoration-color: #00af00\">16</span>)               │            │                   │\n",
       "├─────────────────────┼───────────────────┼────────────┼───────────────────┤\n",
       "│ max_pooling2d       │ (<span style=\"color: #00d7ff; text-decoration-color: #00d7ff\">None</span>, <span style=\"color: #00af00; text-decoration-color: #00af00\">63</span>, <span style=\"color: #00af00; text-decoration-color: #00af00\">312</span>,   │          <span style=\"color: #00af00; text-decoration-color: #00af00\">0</span> │ conv2d[<span style=\"color: #00af00; text-decoration-color: #00af00\">0</span>][<span style=\"color: #00af00; text-decoration-color: #00af00\">0</span>]      │\n",
       "│ (<span style=\"color: #0087ff; text-decoration-color: #0087ff\">MaxPooling2D</span>)      │ <span style=\"color: #00af00; text-decoration-color: #00af00\">16</span>)               │            │                   │\n",
       "├─────────────────────┼───────────────────┼────────────┼───────────────────┤\n",
       "│ max_pooling2d_4     │ (<span style=\"color: #00d7ff; text-decoration-color: #00d7ff\">None</span>, <span style=\"color: #00af00; text-decoration-color: #00af00\">63</span>, <span style=\"color: #00af00; text-decoration-color: #00af00\">374</span>,   │          <span style=\"color: #00af00; text-decoration-color: #00af00\">0</span> │ conv2d_4[<span style=\"color: #00af00; text-decoration-color: #00af00\">0</span>][<span style=\"color: #00af00; text-decoration-color: #00af00\">0</span>]    │\n",
       "│ (<span style=\"color: #0087ff; text-decoration-color: #0087ff\">MaxPooling2D</span>)      │ <span style=\"color: #00af00; text-decoration-color: #00af00\">16</span>)               │            │                   │\n",
       "├─────────────────────┼───────────────────┼────────────┼───────────────────┤\n",
       "│ max_pooling2d_8     │ (<span style=\"color: #00d7ff; text-decoration-color: #00d7ff\">None</span>, <span style=\"color: #00af00; text-decoration-color: #00af00\">63</span>, <span style=\"color: #00af00; text-decoration-color: #00af00\">624</span>,   │          <span style=\"color: #00af00; text-decoration-color: #00af00\">0</span> │ conv2d_8[<span style=\"color: #00af00; text-decoration-color: #00af00\">0</span>][<span style=\"color: #00af00; text-decoration-color: #00af00\">0</span>]    │\n",
       "│ (<span style=\"color: #0087ff; text-decoration-color: #0087ff\">MaxPooling2D</span>)      │ <span style=\"color: #00af00; text-decoration-color: #00af00\">16</span>)               │            │                   │\n",
       "├─────────────────────┼───────────────────┼────────────┼───────────────────┤\n",
       "│ conv2d_1 (<span style=\"color: #0087ff; text-decoration-color: #0087ff\">Conv2D</span>)   │ (<span style=\"color: #00d7ff; text-decoration-color: #00d7ff\">None</span>, <span style=\"color: #00af00; text-decoration-color: #00af00\">61</span>, <span style=\"color: #00af00; text-decoration-color: #00af00\">310</span>,   │      <span style=\"color: #00af00; text-decoration-color: #00af00\">2,320</span> │ max_pooling2d[<span style=\"color: #00af00; text-decoration-color: #00af00\">0</span>]… │\n",
       "│                     │ <span style=\"color: #00af00; text-decoration-color: #00af00\">16</span>)               │            │                   │\n",
       "├─────────────────────┼───────────────────┼────────────┼───────────────────┤\n",
       "│ conv2d_5 (<span style=\"color: #0087ff; text-decoration-color: #0087ff\">Conv2D</span>)   │ (<span style=\"color: #00d7ff; text-decoration-color: #00d7ff\">None</span>, <span style=\"color: #00af00; text-decoration-color: #00af00\">61</span>, <span style=\"color: #00af00; text-decoration-color: #00af00\">372</span>,   │      <span style=\"color: #00af00; text-decoration-color: #00af00\">2,320</span> │ max_pooling2d_4[<span style=\"color: #00af00; text-decoration-color: #00af00\">…</span> │\n",
       "│                     │ <span style=\"color: #00af00; text-decoration-color: #00af00\">16</span>)               │            │                   │\n",
       "├─────────────────────┼───────────────────┼────────────┼───────────────────┤\n",
       "│ conv2d_9 (<span style=\"color: #0087ff; text-decoration-color: #0087ff\">Conv2D</span>)   │ (<span style=\"color: #00d7ff; text-decoration-color: #00d7ff\">None</span>, <span style=\"color: #00af00; text-decoration-color: #00af00\">61</span>, <span style=\"color: #00af00; text-decoration-color: #00af00\">622</span>,   │      <span style=\"color: #00af00; text-decoration-color: #00af00\">2,320</span> │ max_pooling2d_8[<span style=\"color: #00af00; text-decoration-color: #00af00\">…</span> │\n",
       "│                     │ <span style=\"color: #00af00; text-decoration-color: #00af00\">16</span>)               │            │                   │\n",
       "├─────────────────────┼───────────────────┼────────────┼───────────────────┤\n",
       "│ max_pooling2d_1     │ (<span style=\"color: #00d7ff; text-decoration-color: #00d7ff\">None</span>, <span style=\"color: #00af00; text-decoration-color: #00af00\">30</span>, <span style=\"color: #00af00; text-decoration-color: #00af00\">155</span>,   │          <span style=\"color: #00af00; text-decoration-color: #00af00\">0</span> │ conv2d_1[<span style=\"color: #00af00; text-decoration-color: #00af00\">0</span>][<span style=\"color: #00af00; text-decoration-color: #00af00\">0</span>]    │\n",
       "│ (<span style=\"color: #0087ff; text-decoration-color: #0087ff\">MaxPooling2D</span>)      │ <span style=\"color: #00af00; text-decoration-color: #00af00\">16</span>)               │            │                   │\n",
       "├─────────────────────┼───────────────────┼────────────┼───────────────────┤\n",
       "│ max_pooling2d_5     │ (<span style=\"color: #00d7ff; text-decoration-color: #00d7ff\">None</span>, <span style=\"color: #00af00; text-decoration-color: #00af00\">30</span>, <span style=\"color: #00af00; text-decoration-color: #00af00\">186</span>,   │          <span style=\"color: #00af00; text-decoration-color: #00af00\">0</span> │ conv2d_5[<span style=\"color: #00af00; text-decoration-color: #00af00\">0</span>][<span style=\"color: #00af00; text-decoration-color: #00af00\">0</span>]    │\n",
       "│ (<span style=\"color: #0087ff; text-decoration-color: #0087ff\">MaxPooling2D</span>)      │ <span style=\"color: #00af00; text-decoration-color: #00af00\">16</span>)               │            │                   │\n",
       "├─────────────────────┼───────────────────┼────────────┼───────────────────┤\n",
       "│ max_pooling2d_9     │ (<span style=\"color: #00d7ff; text-decoration-color: #00d7ff\">None</span>, <span style=\"color: #00af00; text-decoration-color: #00af00\">30</span>, <span style=\"color: #00af00; text-decoration-color: #00af00\">311</span>,   │          <span style=\"color: #00af00; text-decoration-color: #00af00\">0</span> │ conv2d_9[<span style=\"color: #00af00; text-decoration-color: #00af00\">0</span>][<span style=\"color: #00af00; text-decoration-color: #00af00\">0</span>]    │\n",
       "│ (<span style=\"color: #0087ff; text-decoration-color: #0087ff\">MaxPooling2D</span>)      │ <span style=\"color: #00af00; text-decoration-color: #00af00\">16</span>)               │            │                   │\n",
       "├─────────────────────┼───────────────────┼────────────┼───────────────────┤\n",
       "│ other_features      │ (<span style=\"color: #00d7ff; text-decoration-color: #00d7ff\">None</span>, <span style=\"color: #00af00; text-decoration-color: #00af00\">6</span>)         │          <span style=\"color: #00af00; text-decoration-color: #00af00\">0</span> │ -                 │\n",
       "│ (<span style=\"color: #0087ff; text-decoration-color: #0087ff\">InputLayer</span>)        │                   │            │                   │\n",
       "├─────────────────────┼───────────────────┼────────────┼───────────────────┤\n",
       "│ conv2d_2 (<span style=\"color: #0087ff; text-decoration-color: #0087ff\">Conv2D</span>)   │ (<span style=\"color: #00d7ff; text-decoration-color: #00d7ff\">None</span>, <span style=\"color: #00af00; text-decoration-color: #00af00\">28</span>, <span style=\"color: #00af00; text-decoration-color: #00af00\">153</span>,   │      <span style=\"color: #00af00; text-decoration-color: #00af00\">4,640</span> │ max_pooling2d_1[<span style=\"color: #00af00; text-decoration-color: #00af00\">…</span> │\n",
       "│                     │ <span style=\"color: #00af00; text-decoration-color: #00af00\">32</span>)               │            │                   │\n",
       "├─────────────────────┼───────────────────┼────────────┼───────────────────┤\n",
       "│ conv2d_6 (<span style=\"color: #0087ff; text-decoration-color: #0087ff\">Conv2D</span>)   │ (<span style=\"color: #00d7ff; text-decoration-color: #00d7ff\">None</span>, <span style=\"color: #00af00; text-decoration-color: #00af00\">28</span>, <span style=\"color: #00af00; text-decoration-color: #00af00\">184</span>,   │      <span style=\"color: #00af00; text-decoration-color: #00af00\">4,640</span> │ max_pooling2d_5[<span style=\"color: #00af00; text-decoration-color: #00af00\">…</span> │\n",
       "│                     │ <span style=\"color: #00af00; text-decoration-color: #00af00\">32</span>)               │            │                   │\n",
       "├─────────────────────┼───────────────────┼────────────┼───────────────────┤\n",
       "│ conv2d_10 (<span style=\"color: #0087ff; text-decoration-color: #0087ff\">Conv2D</span>)  │ (<span style=\"color: #00d7ff; text-decoration-color: #00d7ff\">None</span>, <span style=\"color: #00af00; text-decoration-color: #00af00\">28</span>, <span style=\"color: #00af00; text-decoration-color: #00af00\">309</span>,   │      <span style=\"color: #00af00; text-decoration-color: #00af00\">4,640</span> │ max_pooling2d_9[<span style=\"color: #00af00; text-decoration-color: #00af00\">…</span> │\n",
       "│                     │ <span style=\"color: #00af00; text-decoration-color: #00af00\">32</span>)               │            │                   │\n",
       "├─────────────────────┼───────────────────┼────────────┼───────────────────┤\n",
       "│ dense (<span style=\"color: #0087ff; text-decoration-color: #0087ff\">Dense</span>)       │ (<span style=\"color: #00d7ff; text-decoration-color: #00d7ff\">None</span>, <span style=\"color: #00af00; text-decoration-color: #00af00\">64</span>)        │        <span style=\"color: #00af00; text-decoration-color: #00af00\">448</span> │ other_features[<span style=\"color: #00af00; text-decoration-color: #00af00\">0</span>… │\n",
       "├─────────────────────┼───────────────────┼────────────┼───────────────────┤\n",
       "│ max_pooling2d_2     │ (<span style=\"color: #00d7ff; text-decoration-color: #00d7ff\">None</span>, <span style=\"color: #00af00; text-decoration-color: #00af00\">14</span>, <span style=\"color: #00af00; text-decoration-color: #00af00\">76</span>,    │          <span style=\"color: #00af00; text-decoration-color: #00af00\">0</span> │ conv2d_2[<span style=\"color: #00af00; text-decoration-color: #00af00\">0</span>][<span style=\"color: #00af00; text-decoration-color: #00af00\">0</span>]    │\n",
       "│ (<span style=\"color: #0087ff; text-decoration-color: #0087ff\">MaxPooling2D</span>)      │ <span style=\"color: #00af00; text-decoration-color: #00af00\">32</span>)               │            │                   │\n",
       "├─────────────────────┼───────────────────┼────────────┼───────────────────┤\n",
       "│ max_pooling2d_6     │ (<span style=\"color: #00d7ff; text-decoration-color: #00d7ff\">None</span>, <span style=\"color: #00af00; text-decoration-color: #00af00\">14</span>, <span style=\"color: #00af00; text-decoration-color: #00af00\">92</span>,    │          <span style=\"color: #00af00; text-decoration-color: #00af00\">0</span> │ conv2d_6[<span style=\"color: #00af00; text-decoration-color: #00af00\">0</span>][<span style=\"color: #00af00; text-decoration-color: #00af00\">0</span>]    │\n",
       "│ (<span style=\"color: #0087ff; text-decoration-color: #0087ff\">MaxPooling2D</span>)      │ <span style=\"color: #00af00; text-decoration-color: #00af00\">32</span>)               │            │                   │\n",
       "├─────────────────────┼───────────────────┼────────────┼───────────────────┤\n",
       "│ max_pooling2d_10    │ (<span style=\"color: #00d7ff; text-decoration-color: #00d7ff\">None</span>, <span style=\"color: #00af00; text-decoration-color: #00af00\">14</span>, <span style=\"color: #00af00; text-decoration-color: #00af00\">154</span>,   │          <span style=\"color: #00af00; text-decoration-color: #00af00\">0</span> │ conv2d_10[<span style=\"color: #00af00; text-decoration-color: #00af00\">0</span>][<span style=\"color: #00af00; text-decoration-color: #00af00\">0</span>]   │\n",
       "│ (<span style=\"color: #0087ff; text-decoration-color: #0087ff\">MaxPooling2D</span>)      │ <span style=\"color: #00af00; text-decoration-color: #00af00\">32</span>)               │            │                   │\n",
       "├─────────────────────┼───────────────────┼────────────┼───────────────────┤\n",
       "│ dense_1 (<span style=\"color: #0087ff; text-decoration-color: #0087ff\">Dense</span>)     │ (<span style=\"color: #00d7ff; text-decoration-color: #00d7ff\">None</span>, <span style=\"color: #00af00; text-decoration-color: #00af00\">128</span>)       │      <span style=\"color: #00af00; text-decoration-color: #00af00\">8,320</span> │ dense[<span style=\"color: #00af00; text-decoration-color: #00af00\">0</span>][<span style=\"color: #00af00; text-decoration-color: #00af00\">0</span>]       │\n",
       "├─────────────────────┼───────────────────┼────────────┼───────────────────┤\n",
       "│ conv2d_3 (<span style=\"color: #0087ff; text-decoration-color: #0087ff\">Conv2D</span>)   │ (<span style=\"color: #00d7ff; text-decoration-color: #00d7ff\">None</span>, <span style=\"color: #00af00; text-decoration-color: #00af00\">12</span>, <span style=\"color: #00af00; text-decoration-color: #00af00\">74</span>,    │     <span style=\"color: #00af00; text-decoration-color: #00af00\">18,496</span> │ max_pooling2d_2[<span style=\"color: #00af00; text-decoration-color: #00af00\">…</span> │\n",
       "│                     │ <span style=\"color: #00af00; text-decoration-color: #00af00\">64</span>)               │            │                   │\n",
       "├─────────────────────┼───────────────────┼────────────┼───────────────────┤\n",
       "│ conv2d_7 (<span style=\"color: #0087ff; text-decoration-color: #0087ff\">Conv2D</span>)   │ (<span style=\"color: #00d7ff; text-decoration-color: #00d7ff\">None</span>, <span style=\"color: #00af00; text-decoration-color: #00af00\">12</span>, <span style=\"color: #00af00; text-decoration-color: #00af00\">90</span>,    │     <span style=\"color: #00af00; text-decoration-color: #00af00\">18,496</span> │ max_pooling2d_6[<span style=\"color: #00af00; text-decoration-color: #00af00\">…</span> │\n",
       "│                     │ <span style=\"color: #00af00; text-decoration-color: #00af00\">64</span>)               │            │                   │\n",
       "├─────────────────────┼───────────────────┼────────────┼───────────────────┤\n",
       "│ conv2d_11 (<span style=\"color: #0087ff; text-decoration-color: #0087ff\">Conv2D</span>)  │ (<span style=\"color: #00d7ff; text-decoration-color: #00d7ff\">None</span>, <span style=\"color: #00af00; text-decoration-color: #00af00\">12</span>, <span style=\"color: #00af00; text-decoration-color: #00af00\">152</span>,   │     <span style=\"color: #00af00; text-decoration-color: #00af00\">18,496</span> │ max_pooling2d_10… │\n",
       "│                     │ <span style=\"color: #00af00; text-decoration-color: #00af00\">64</span>)               │            │                   │\n",
       "├─────────────────────┼───────────────────┼────────────┼───────────────────┤\n",
       "│ dropout (<span style=\"color: #0087ff; text-decoration-color: #0087ff\">Dropout</span>)   │ (<span style=\"color: #00d7ff; text-decoration-color: #00d7ff\">None</span>, <span style=\"color: #00af00; text-decoration-color: #00af00\">128</span>)       │          <span style=\"color: #00af00; text-decoration-color: #00af00\">0</span> │ dense_1[<span style=\"color: #00af00; text-decoration-color: #00af00\">0</span>][<span style=\"color: #00af00; text-decoration-color: #00af00\">0</span>]     │\n",
       "├─────────────────────┼───────────────────┼────────────┼───────────────────┤\n",
       "│ max_pooling2d_3     │ (<span style=\"color: #00d7ff; text-decoration-color: #00d7ff\">None</span>, <span style=\"color: #00af00; text-decoration-color: #00af00\">6</span>, <span style=\"color: #00af00; text-decoration-color: #00af00\">37</span>, <span style=\"color: #00af00; text-decoration-color: #00af00\">64</span>) │          <span style=\"color: #00af00; text-decoration-color: #00af00\">0</span> │ conv2d_3[<span style=\"color: #00af00; text-decoration-color: #00af00\">0</span>][<span style=\"color: #00af00; text-decoration-color: #00af00\">0</span>]    │\n",
       "│ (<span style=\"color: #0087ff; text-decoration-color: #0087ff\">MaxPooling2D</span>)      │                   │            │                   │\n",
       "├─────────────────────┼───────────────────┼────────────┼───────────────────┤\n",
       "│ max_pooling2d_7     │ (<span style=\"color: #00d7ff; text-decoration-color: #00d7ff\">None</span>, <span style=\"color: #00af00; text-decoration-color: #00af00\">6</span>, <span style=\"color: #00af00; text-decoration-color: #00af00\">45</span>, <span style=\"color: #00af00; text-decoration-color: #00af00\">64</span>) │          <span style=\"color: #00af00; text-decoration-color: #00af00\">0</span> │ conv2d_7[<span style=\"color: #00af00; text-decoration-color: #00af00\">0</span>][<span style=\"color: #00af00; text-decoration-color: #00af00\">0</span>]    │\n",
       "│ (<span style=\"color: #0087ff; text-decoration-color: #0087ff\">MaxPooling2D</span>)      │                   │            │                   │\n",
       "├─────────────────────┼───────────────────┼────────────┼───────────────────┤\n",
       "│ max_pooling2d_11    │ (<span style=\"color: #00d7ff; text-decoration-color: #00d7ff\">None</span>, <span style=\"color: #00af00; text-decoration-color: #00af00\">6</span>, <span style=\"color: #00af00; text-decoration-color: #00af00\">76</span>, <span style=\"color: #00af00; text-decoration-color: #00af00\">64</span>) │          <span style=\"color: #00af00; text-decoration-color: #00af00\">0</span> │ conv2d_11[<span style=\"color: #00af00; text-decoration-color: #00af00\">0</span>][<span style=\"color: #00af00; text-decoration-color: #00af00\">0</span>]   │\n",
       "│ (<span style=\"color: #0087ff; text-decoration-color: #0087ff\">MaxPooling2D</span>)      │                   │            │                   │\n",
       "├─────────────────────┼───────────────────┼────────────┼───────────────────┤\n",
       "│ dense_2 (<span style=\"color: #0087ff; text-decoration-color: #0087ff\">Dense</span>)     │ (<span style=\"color: #00d7ff; text-decoration-color: #00d7ff\">None</span>, <span style=\"color: #00af00; text-decoration-color: #00af00\">128</span>)       │     <span style=\"color: #00af00; text-decoration-color: #00af00\">16,512</span> │ dropout[<span style=\"color: #00af00; text-decoration-color: #00af00\">0</span>][<span style=\"color: #00af00; text-decoration-color: #00af00\">0</span>]     │\n",
       "├─────────────────────┼───────────────────┼────────────┼───────────────────┤\n",
       "│ global_average_poo… │ (<span style=\"color: #00d7ff; text-decoration-color: #00d7ff\">None</span>, <span style=\"color: #00af00; text-decoration-color: #00af00\">64</span>)        │          <span style=\"color: #00af00; text-decoration-color: #00af00\">0</span> │ max_pooling2d_3[<span style=\"color: #00af00; text-decoration-color: #00af00\">…</span> │\n",
       "│ (<span style=\"color: #0087ff; text-decoration-color: #0087ff\">GlobalAveragePool…</span> │                   │            │                   │\n",
       "├─────────────────────┼───────────────────┼────────────┼───────────────────┤\n",
       "│ global_average_poo… │ (<span style=\"color: #00d7ff; text-decoration-color: #00d7ff\">None</span>, <span style=\"color: #00af00; text-decoration-color: #00af00\">64</span>)        │          <span style=\"color: #00af00; text-decoration-color: #00af00\">0</span> │ max_pooling2d_7[<span style=\"color: #00af00; text-decoration-color: #00af00\">…</span> │\n",
       "│ (<span style=\"color: #0087ff; text-decoration-color: #0087ff\">GlobalAveragePool…</span> │                   │            │                   │\n",
       "├─────────────────────┼───────────────────┼────────────┼───────────────────┤\n",
       "│ global_average_poo… │ (<span style=\"color: #00d7ff; text-decoration-color: #00d7ff\">None</span>, <span style=\"color: #00af00; text-decoration-color: #00af00\">64</span>)        │          <span style=\"color: #00af00; text-decoration-color: #00af00\">0</span> │ max_pooling2d_11… │\n",
       "│ (<span style=\"color: #0087ff; text-decoration-color: #0087ff\">GlobalAveragePool…</span> │                   │            │                   │\n",
       "├─────────────────────┼───────────────────┼────────────┼───────────────────┤\n",
       "│ dense_3 (<span style=\"color: #0087ff; text-decoration-color: #0087ff\">Dense</span>)     │ (<span style=\"color: #00d7ff; text-decoration-color: #00d7ff\">None</span>, <span style=\"color: #00af00; text-decoration-color: #00af00\">64</span>)        │      <span style=\"color: #00af00; text-decoration-color: #00af00\">8,256</span> │ dense_2[<span style=\"color: #00af00; text-decoration-color: #00af00\">0</span>][<span style=\"color: #00af00; text-decoration-color: #00af00\">0</span>]     │\n",
       "├─────────────────────┼───────────────────┼────────────┼───────────────────┤\n",
       "│ concatenate         │ (<span style=\"color: #00d7ff; text-decoration-color: #00d7ff\">None</span>, <span style=\"color: #00af00; text-decoration-color: #00af00\">256</span>)       │          <span style=\"color: #00af00; text-decoration-color: #00af00\">0</span> │ global_average_p… │\n",
       "│ (<span style=\"color: #0087ff; text-decoration-color: #0087ff\">Concatenate</span>)       │                   │            │ global_average_p… │\n",
       "│                     │                   │            │ global_average_p… │\n",
       "│                     │                   │            │ dense_3[<span style=\"color: #00af00; text-decoration-color: #00af00\">0</span>][<span style=\"color: #00af00; text-decoration-color: #00af00\">0</span>]     │\n",
       "├─────────────────────┼───────────────────┼────────────┼───────────────────┤\n",
       "│ dense_4 (<span style=\"color: #0087ff; text-decoration-color: #0087ff\">Dense</span>)     │ (<span style=\"color: #00d7ff; text-decoration-color: #00d7ff\">None</span>, <span style=\"color: #00af00; text-decoration-color: #00af00\">128</span>)       │     <span style=\"color: #00af00; text-decoration-color: #00af00\">32,896</span> │ concatenate[<span style=\"color: #00af00; text-decoration-color: #00af00\">0</span>][<span style=\"color: #00af00; text-decoration-color: #00af00\">0</span>] │\n",
       "├─────────────────────┼───────────────────┼────────────┼───────────────────┤\n",
       "│ dropout_1 (<span style=\"color: #0087ff; text-decoration-color: #0087ff\">Dropout</span>) │ (<span style=\"color: #00d7ff; text-decoration-color: #00d7ff\">None</span>, <span style=\"color: #00af00; text-decoration-color: #00af00\">128</span>)       │          <span style=\"color: #00af00; text-decoration-color: #00af00\">0</span> │ dense_4[<span style=\"color: #00af00; text-decoration-color: #00af00\">0</span>][<span style=\"color: #00af00; text-decoration-color: #00af00\">0</span>]     │\n",
       "├─────────────────────┼───────────────────┼────────────┼───────────────────┤\n",
       "│ dense_5 (<span style=\"color: #0087ff; text-decoration-color: #0087ff\">Dense</span>)     │ (<span style=\"color: #00d7ff; text-decoration-color: #00d7ff\">None</span>, <span style=\"color: #00af00; text-decoration-color: #00af00\">64</span>)        │      <span style=\"color: #00af00; text-decoration-color: #00af00\">8,256</span> │ dropout_1[<span style=\"color: #00af00; text-decoration-color: #00af00\">0</span>][<span style=\"color: #00af00; text-decoration-color: #00af00\">0</span>]   │\n",
       "├─────────────────────┼───────────────────┼────────────┼───────────────────┤\n",
       "│ dense_6 (<span style=\"color: #0087ff; text-decoration-color: #0087ff\">Dense</span>)     │ (<span style=\"color: #00d7ff; text-decoration-color: #00d7ff\">None</span>, <span style=\"color: #00af00; text-decoration-color: #00af00\">1</span>)         │         <span style=\"color: #00af00; text-decoration-color: #00af00\">65</span> │ dense_5[<span style=\"color: #00af00; text-decoration-color: #00af00\">0</span>][<span style=\"color: #00af00; text-decoration-color: #00af00\">0</span>]     │\n",
       "└─────────────────────┴───────────────────┴────────────┴───────────────────┘\n",
       "</pre>\n"
      ],
      "text/plain": [
       "┏━━━━━━━━━━━━━━━━━━━━━┳━━━━━━━━━━━━━━━━━━━┳━━━━━━━━━━━━┳━━━━━━━━━━━━━━━━━━━┓\n",
       "┃\u001b[1m \u001b[0m\u001b[1mLayer (type)       \u001b[0m\u001b[1m \u001b[0m┃\u001b[1m \u001b[0m\u001b[1mOutput Shape     \u001b[0m\u001b[1m \u001b[0m┃\u001b[1m \u001b[0m\u001b[1m   Param #\u001b[0m\u001b[1m \u001b[0m┃\u001b[1m \u001b[0m\u001b[1mConnected to     \u001b[0m\u001b[1m \u001b[0m┃\n",
       "┡━━━━━━━━━━━━━━━━━━━━━╇━━━━━━━━━━━━━━━━━━━╇━━━━━━━━━━━━╇━━━━━━━━━━━━━━━━━━━┩\n",
       "│ mel_spectrogram_br… │ (\u001b[38;5;45mNone\u001b[0m, \u001b[38;5;34m128\u001b[0m, \u001b[38;5;34m626\u001b[0m,  │          \u001b[38;5;34m0\u001b[0m │ -                 │\n",
       "│ (\u001b[38;5;33mInputLayer\u001b[0m)        │ \u001b[38;5;34m1\u001b[0m)                │            │                   │\n",
       "├─────────────────────┼───────────────────┼────────────┼───────────────────┤\n",
       "│ mel_spectrogram_co… │ (\u001b[38;5;45mNone\u001b[0m, \u001b[38;5;34m128\u001b[0m, \u001b[38;5;34m751\u001b[0m,  │          \u001b[38;5;34m0\u001b[0m │ -                 │\n",
       "│ (\u001b[38;5;33mInputLayer\u001b[0m)        │ \u001b[38;5;34m1\u001b[0m)                │            │                   │\n",
       "├─────────────────────┼───────────────────┼────────────┼───────────────────┤\n",
       "│ mel_spectrogram_sp… │ (\u001b[38;5;45mNone\u001b[0m, \u001b[38;5;34m128\u001b[0m, \u001b[38;5;34m1251\u001b[0m, │          \u001b[38;5;34m0\u001b[0m │ -                 │\n",
       "│ (\u001b[38;5;33mInputLayer\u001b[0m)        │ \u001b[38;5;34m1\u001b[0m)                │            │                   │\n",
       "├─────────────────────┼───────────────────┼────────────┼───────────────────┤\n",
       "│ conv2d (\u001b[38;5;33mConv2D\u001b[0m)     │ (\u001b[38;5;45mNone\u001b[0m, \u001b[38;5;34m126\u001b[0m, \u001b[38;5;34m624\u001b[0m,  │        \u001b[38;5;34m160\u001b[0m │ mel_spectrogram_… │\n",
       "│                     │ \u001b[38;5;34m16\u001b[0m)               │            │                   │\n",
       "├─────────────────────┼───────────────────┼────────────┼───────────────────┤\n",
       "│ conv2d_4 (\u001b[38;5;33mConv2D\u001b[0m)   │ (\u001b[38;5;45mNone\u001b[0m, \u001b[38;5;34m126\u001b[0m, \u001b[38;5;34m749\u001b[0m,  │        \u001b[38;5;34m160\u001b[0m │ mel_spectrogram_… │\n",
       "│                     │ \u001b[38;5;34m16\u001b[0m)               │            │                   │\n",
       "├─────────────────────┼───────────────────┼────────────┼───────────────────┤\n",
       "│ conv2d_8 (\u001b[38;5;33mConv2D\u001b[0m)   │ (\u001b[38;5;45mNone\u001b[0m, \u001b[38;5;34m126\u001b[0m, \u001b[38;5;34m1249\u001b[0m, │        \u001b[38;5;34m160\u001b[0m │ mel_spectrogram_… │\n",
       "│                     │ \u001b[38;5;34m16\u001b[0m)               │            │                   │\n",
       "├─────────────────────┼───────────────────┼────────────┼───────────────────┤\n",
       "│ max_pooling2d       │ (\u001b[38;5;45mNone\u001b[0m, \u001b[38;5;34m63\u001b[0m, \u001b[38;5;34m312\u001b[0m,   │          \u001b[38;5;34m0\u001b[0m │ conv2d[\u001b[38;5;34m0\u001b[0m][\u001b[38;5;34m0\u001b[0m]      │\n",
       "│ (\u001b[38;5;33mMaxPooling2D\u001b[0m)      │ \u001b[38;5;34m16\u001b[0m)               │            │                   │\n",
       "├─────────────────────┼───────────────────┼────────────┼───────────────────┤\n",
       "│ max_pooling2d_4     │ (\u001b[38;5;45mNone\u001b[0m, \u001b[38;5;34m63\u001b[0m, \u001b[38;5;34m374\u001b[0m,   │          \u001b[38;5;34m0\u001b[0m │ conv2d_4[\u001b[38;5;34m0\u001b[0m][\u001b[38;5;34m0\u001b[0m]    │\n",
       "│ (\u001b[38;5;33mMaxPooling2D\u001b[0m)      │ \u001b[38;5;34m16\u001b[0m)               │            │                   │\n",
       "├─────────────────────┼───────────────────┼────────────┼───────────────────┤\n",
       "│ max_pooling2d_8     │ (\u001b[38;5;45mNone\u001b[0m, \u001b[38;5;34m63\u001b[0m, \u001b[38;5;34m624\u001b[0m,   │          \u001b[38;5;34m0\u001b[0m │ conv2d_8[\u001b[38;5;34m0\u001b[0m][\u001b[38;5;34m0\u001b[0m]    │\n",
       "│ (\u001b[38;5;33mMaxPooling2D\u001b[0m)      │ \u001b[38;5;34m16\u001b[0m)               │            │                   │\n",
       "├─────────────────────┼───────────────────┼────────────┼───────────────────┤\n",
       "│ conv2d_1 (\u001b[38;5;33mConv2D\u001b[0m)   │ (\u001b[38;5;45mNone\u001b[0m, \u001b[38;5;34m61\u001b[0m, \u001b[38;5;34m310\u001b[0m,   │      \u001b[38;5;34m2,320\u001b[0m │ max_pooling2d[\u001b[38;5;34m0\u001b[0m]… │\n",
       "│                     │ \u001b[38;5;34m16\u001b[0m)               │            │                   │\n",
       "├─────────────────────┼───────────────────┼────────────┼───────────────────┤\n",
       "│ conv2d_5 (\u001b[38;5;33mConv2D\u001b[0m)   │ (\u001b[38;5;45mNone\u001b[0m, \u001b[38;5;34m61\u001b[0m, \u001b[38;5;34m372\u001b[0m,   │      \u001b[38;5;34m2,320\u001b[0m │ max_pooling2d_4[\u001b[38;5;34m…\u001b[0m │\n",
       "│                     │ \u001b[38;5;34m16\u001b[0m)               │            │                   │\n",
       "├─────────────────────┼───────────────────┼────────────┼───────────────────┤\n",
       "│ conv2d_9 (\u001b[38;5;33mConv2D\u001b[0m)   │ (\u001b[38;5;45mNone\u001b[0m, \u001b[38;5;34m61\u001b[0m, \u001b[38;5;34m622\u001b[0m,   │      \u001b[38;5;34m2,320\u001b[0m │ max_pooling2d_8[\u001b[38;5;34m…\u001b[0m │\n",
       "│                     │ \u001b[38;5;34m16\u001b[0m)               │            │                   │\n",
       "├─────────────────────┼───────────────────┼────────────┼───────────────────┤\n",
       "│ max_pooling2d_1     │ (\u001b[38;5;45mNone\u001b[0m, \u001b[38;5;34m30\u001b[0m, \u001b[38;5;34m155\u001b[0m,   │          \u001b[38;5;34m0\u001b[0m │ conv2d_1[\u001b[38;5;34m0\u001b[0m][\u001b[38;5;34m0\u001b[0m]    │\n",
       "│ (\u001b[38;5;33mMaxPooling2D\u001b[0m)      │ \u001b[38;5;34m16\u001b[0m)               │            │                   │\n",
       "├─────────────────────┼───────────────────┼────────────┼───────────────────┤\n",
       "│ max_pooling2d_5     │ (\u001b[38;5;45mNone\u001b[0m, \u001b[38;5;34m30\u001b[0m, \u001b[38;5;34m186\u001b[0m,   │          \u001b[38;5;34m0\u001b[0m │ conv2d_5[\u001b[38;5;34m0\u001b[0m][\u001b[38;5;34m0\u001b[0m]    │\n",
       "│ (\u001b[38;5;33mMaxPooling2D\u001b[0m)      │ \u001b[38;5;34m16\u001b[0m)               │            │                   │\n",
       "├─────────────────────┼───────────────────┼────────────┼───────────────────┤\n",
       "│ max_pooling2d_9     │ (\u001b[38;5;45mNone\u001b[0m, \u001b[38;5;34m30\u001b[0m, \u001b[38;5;34m311\u001b[0m,   │          \u001b[38;5;34m0\u001b[0m │ conv2d_9[\u001b[38;5;34m0\u001b[0m][\u001b[38;5;34m0\u001b[0m]    │\n",
       "│ (\u001b[38;5;33mMaxPooling2D\u001b[0m)      │ \u001b[38;5;34m16\u001b[0m)               │            │                   │\n",
       "├─────────────────────┼───────────────────┼────────────┼───────────────────┤\n",
       "│ other_features      │ (\u001b[38;5;45mNone\u001b[0m, \u001b[38;5;34m6\u001b[0m)         │          \u001b[38;5;34m0\u001b[0m │ -                 │\n",
       "│ (\u001b[38;5;33mInputLayer\u001b[0m)        │                   │            │                   │\n",
       "├─────────────────────┼───────────────────┼────────────┼───────────────────┤\n",
       "│ conv2d_2 (\u001b[38;5;33mConv2D\u001b[0m)   │ (\u001b[38;5;45mNone\u001b[0m, \u001b[38;5;34m28\u001b[0m, \u001b[38;5;34m153\u001b[0m,   │      \u001b[38;5;34m4,640\u001b[0m │ max_pooling2d_1[\u001b[38;5;34m…\u001b[0m │\n",
       "│                     │ \u001b[38;5;34m32\u001b[0m)               │            │                   │\n",
       "├─────────────────────┼───────────────────┼────────────┼───────────────────┤\n",
       "│ conv2d_6 (\u001b[38;5;33mConv2D\u001b[0m)   │ (\u001b[38;5;45mNone\u001b[0m, \u001b[38;5;34m28\u001b[0m, \u001b[38;5;34m184\u001b[0m,   │      \u001b[38;5;34m4,640\u001b[0m │ max_pooling2d_5[\u001b[38;5;34m…\u001b[0m │\n",
       "│                     │ \u001b[38;5;34m32\u001b[0m)               │            │                   │\n",
       "├─────────────────────┼───────────────────┼────────────┼───────────────────┤\n",
       "│ conv2d_10 (\u001b[38;5;33mConv2D\u001b[0m)  │ (\u001b[38;5;45mNone\u001b[0m, \u001b[38;5;34m28\u001b[0m, \u001b[38;5;34m309\u001b[0m,   │      \u001b[38;5;34m4,640\u001b[0m │ max_pooling2d_9[\u001b[38;5;34m…\u001b[0m │\n",
       "│                     │ \u001b[38;5;34m32\u001b[0m)               │            │                   │\n",
       "├─────────────────────┼───────────────────┼────────────┼───────────────────┤\n",
       "│ dense (\u001b[38;5;33mDense\u001b[0m)       │ (\u001b[38;5;45mNone\u001b[0m, \u001b[38;5;34m64\u001b[0m)        │        \u001b[38;5;34m448\u001b[0m │ other_features[\u001b[38;5;34m0\u001b[0m… │\n",
       "├─────────────────────┼───────────────────┼────────────┼───────────────────┤\n",
       "│ max_pooling2d_2     │ (\u001b[38;5;45mNone\u001b[0m, \u001b[38;5;34m14\u001b[0m, \u001b[38;5;34m76\u001b[0m,    │          \u001b[38;5;34m0\u001b[0m │ conv2d_2[\u001b[38;5;34m0\u001b[0m][\u001b[38;5;34m0\u001b[0m]    │\n",
       "│ (\u001b[38;5;33mMaxPooling2D\u001b[0m)      │ \u001b[38;5;34m32\u001b[0m)               │            │                   │\n",
       "├─────────────────────┼───────────────────┼────────────┼───────────────────┤\n",
       "│ max_pooling2d_6     │ (\u001b[38;5;45mNone\u001b[0m, \u001b[38;5;34m14\u001b[0m, \u001b[38;5;34m92\u001b[0m,    │          \u001b[38;5;34m0\u001b[0m │ conv2d_6[\u001b[38;5;34m0\u001b[0m][\u001b[38;5;34m0\u001b[0m]    │\n",
       "│ (\u001b[38;5;33mMaxPooling2D\u001b[0m)      │ \u001b[38;5;34m32\u001b[0m)               │            │                   │\n",
       "├─────────────────────┼───────────────────┼────────────┼───────────────────┤\n",
       "│ max_pooling2d_10    │ (\u001b[38;5;45mNone\u001b[0m, \u001b[38;5;34m14\u001b[0m, \u001b[38;5;34m154\u001b[0m,   │          \u001b[38;5;34m0\u001b[0m │ conv2d_10[\u001b[38;5;34m0\u001b[0m][\u001b[38;5;34m0\u001b[0m]   │\n",
       "│ (\u001b[38;5;33mMaxPooling2D\u001b[0m)      │ \u001b[38;5;34m32\u001b[0m)               │            │                   │\n",
       "├─────────────────────┼───────────────────┼────────────┼───────────────────┤\n",
       "│ dense_1 (\u001b[38;5;33mDense\u001b[0m)     │ (\u001b[38;5;45mNone\u001b[0m, \u001b[38;5;34m128\u001b[0m)       │      \u001b[38;5;34m8,320\u001b[0m │ dense[\u001b[38;5;34m0\u001b[0m][\u001b[38;5;34m0\u001b[0m]       │\n",
       "├─────────────────────┼───────────────────┼────────────┼───────────────────┤\n",
       "│ conv2d_3 (\u001b[38;5;33mConv2D\u001b[0m)   │ (\u001b[38;5;45mNone\u001b[0m, \u001b[38;5;34m12\u001b[0m, \u001b[38;5;34m74\u001b[0m,    │     \u001b[38;5;34m18,496\u001b[0m │ max_pooling2d_2[\u001b[38;5;34m…\u001b[0m │\n",
       "│                     │ \u001b[38;5;34m64\u001b[0m)               │            │                   │\n",
       "├─────────────────────┼───────────────────┼────────────┼───────────────────┤\n",
       "│ conv2d_7 (\u001b[38;5;33mConv2D\u001b[0m)   │ (\u001b[38;5;45mNone\u001b[0m, \u001b[38;5;34m12\u001b[0m, \u001b[38;5;34m90\u001b[0m,    │     \u001b[38;5;34m18,496\u001b[0m │ max_pooling2d_6[\u001b[38;5;34m…\u001b[0m │\n",
       "│                     │ \u001b[38;5;34m64\u001b[0m)               │            │                   │\n",
       "├─────────────────────┼───────────────────┼────────────┼───────────────────┤\n",
       "│ conv2d_11 (\u001b[38;5;33mConv2D\u001b[0m)  │ (\u001b[38;5;45mNone\u001b[0m, \u001b[38;5;34m12\u001b[0m, \u001b[38;5;34m152\u001b[0m,   │     \u001b[38;5;34m18,496\u001b[0m │ max_pooling2d_10… │\n",
       "│                     │ \u001b[38;5;34m64\u001b[0m)               │            │                   │\n",
       "├─────────────────────┼───────────────────┼────────────┼───────────────────┤\n",
       "│ dropout (\u001b[38;5;33mDropout\u001b[0m)   │ (\u001b[38;5;45mNone\u001b[0m, \u001b[38;5;34m128\u001b[0m)       │          \u001b[38;5;34m0\u001b[0m │ dense_1[\u001b[38;5;34m0\u001b[0m][\u001b[38;5;34m0\u001b[0m]     │\n",
       "├─────────────────────┼───────────────────┼────────────┼───────────────────┤\n",
       "│ max_pooling2d_3     │ (\u001b[38;5;45mNone\u001b[0m, \u001b[38;5;34m6\u001b[0m, \u001b[38;5;34m37\u001b[0m, \u001b[38;5;34m64\u001b[0m) │          \u001b[38;5;34m0\u001b[0m │ conv2d_3[\u001b[38;5;34m0\u001b[0m][\u001b[38;5;34m0\u001b[0m]    │\n",
       "│ (\u001b[38;5;33mMaxPooling2D\u001b[0m)      │                   │            │                   │\n",
       "├─────────────────────┼───────────────────┼────────────┼───────────────────┤\n",
       "│ max_pooling2d_7     │ (\u001b[38;5;45mNone\u001b[0m, \u001b[38;5;34m6\u001b[0m, \u001b[38;5;34m45\u001b[0m, \u001b[38;5;34m64\u001b[0m) │          \u001b[38;5;34m0\u001b[0m │ conv2d_7[\u001b[38;5;34m0\u001b[0m][\u001b[38;5;34m0\u001b[0m]    │\n",
       "│ (\u001b[38;5;33mMaxPooling2D\u001b[0m)      │                   │            │                   │\n",
       "├─────────────────────┼───────────────────┼────────────┼───────────────────┤\n",
       "│ max_pooling2d_11    │ (\u001b[38;5;45mNone\u001b[0m, \u001b[38;5;34m6\u001b[0m, \u001b[38;5;34m76\u001b[0m, \u001b[38;5;34m64\u001b[0m) │          \u001b[38;5;34m0\u001b[0m │ conv2d_11[\u001b[38;5;34m0\u001b[0m][\u001b[38;5;34m0\u001b[0m]   │\n",
       "│ (\u001b[38;5;33mMaxPooling2D\u001b[0m)      │                   │            │                   │\n",
       "├─────────────────────┼───────────────────┼────────────┼───────────────────┤\n",
       "│ dense_2 (\u001b[38;5;33mDense\u001b[0m)     │ (\u001b[38;5;45mNone\u001b[0m, \u001b[38;5;34m128\u001b[0m)       │     \u001b[38;5;34m16,512\u001b[0m │ dropout[\u001b[38;5;34m0\u001b[0m][\u001b[38;5;34m0\u001b[0m]     │\n",
       "├─────────────────────┼───────────────────┼────────────┼───────────────────┤\n",
       "│ global_average_poo… │ (\u001b[38;5;45mNone\u001b[0m, \u001b[38;5;34m64\u001b[0m)        │          \u001b[38;5;34m0\u001b[0m │ max_pooling2d_3[\u001b[38;5;34m…\u001b[0m │\n",
       "│ (\u001b[38;5;33mGlobalAveragePool…\u001b[0m │                   │            │                   │\n",
       "├─────────────────────┼───────────────────┼────────────┼───────────────────┤\n",
       "│ global_average_poo… │ (\u001b[38;5;45mNone\u001b[0m, \u001b[38;5;34m64\u001b[0m)        │          \u001b[38;5;34m0\u001b[0m │ max_pooling2d_7[\u001b[38;5;34m…\u001b[0m │\n",
       "│ (\u001b[38;5;33mGlobalAveragePool…\u001b[0m │                   │            │                   │\n",
       "├─────────────────────┼───────────────────┼────────────┼───────────────────┤\n",
       "│ global_average_poo… │ (\u001b[38;5;45mNone\u001b[0m, \u001b[38;5;34m64\u001b[0m)        │          \u001b[38;5;34m0\u001b[0m │ max_pooling2d_11… │\n",
       "│ (\u001b[38;5;33mGlobalAveragePool…\u001b[0m │                   │            │                   │\n",
       "├─────────────────────┼───────────────────┼────────────┼───────────────────┤\n",
       "│ dense_3 (\u001b[38;5;33mDense\u001b[0m)     │ (\u001b[38;5;45mNone\u001b[0m, \u001b[38;5;34m64\u001b[0m)        │      \u001b[38;5;34m8,256\u001b[0m │ dense_2[\u001b[38;5;34m0\u001b[0m][\u001b[38;5;34m0\u001b[0m]     │\n",
       "├─────────────────────┼───────────────────┼────────────┼───────────────────┤\n",
       "│ concatenate         │ (\u001b[38;5;45mNone\u001b[0m, \u001b[38;5;34m256\u001b[0m)       │          \u001b[38;5;34m0\u001b[0m │ global_average_p… │\n",
       "│ (\u001b[38;5;33mConcatenate\u001b[0m)       │                   │            │ global_average_p… │\n",
       "│                     │                   │            │ global_average_p… │\n",
       "│                     │                   │            │ dense_3[\u001b[38;5;34m0\u001b[0m][\u001b[38;5;34m0\u001b[0m]     │\n",
       "├─────────────────────┼───────────────────┼────────────┼───────────────────┤\n",
       "│ dense_4 (\u001b[38;5;33mDense\u001b[0m)     │ (\u001b[38;5;45mNone\u001b[0m, \u001b[38;5;34m128\u001b[0m)       │     \u001b[38;5;34m32,896\u001b[0m │ concatenate[\u001b[38;5;34m0\u001b[0m][\u001b[38;5;34m0\u001b[0m] │\n",
       "├─────────────────────┼───────────────────┼────────────┼───────────────────┤\n",
       "│ dropout_1 (\u001b[38;5;33mDropout\u001b[0m) │ (\u001b[38;5;45mNone\u001b[0m, \u001b[38;5;34m128\u001b[0m)       │          \u001b[38;5;34m0\u001b[0m │ dense_4[\u001b[38;5;34m0\u001b[0m][\u001b[38;5;34m0\u001b[0m]     │\n",
       "├─────────────────────┼───────────────────┼────────────┼───────────────────┤\n",
       "│ dense_5 (\u001b[38;5;33mDense\u001b[0m)     │ (\u001b[38;5;45mNone\u001b[0m, \u001b[38;5;34m64\u001b[0m)        │      \u001b[38;5;34m8,256\u001b[0m │ dropout_1[\u001b[38;5;34m0\u001b[0m][\u001b[38;5;34m0\u001b[0m]   │\n",
       "├─────────────────────┼───────────────────┼────────────┼───────────────────┤\n",
       "│ dense_6 (\u001b[38;5;33mDense\u001b[0m)     │ (\u001b[38;5;45mNone\u001b[0m, \u001b[38;5;34m1\u001b[0m)         │         \u001b[38;5;34m65\u001b[0m │ dense_5[\u001b[38;5;34m0\u001b[0m][\u001b[38;5;34m0\u001b[0m]     │\n",
       "└─────────────────────┴───────────────────┴────────────┴───────────────────┘\n"
      ]
     },
     "metadata": {},
     "output_type": "display_data"
    },
    {
     "data": {
      "text/html": [
       "<pre style=\"white-space:pre;overflow-x:auto;line-height:normal;font-family:Menlo,'DejaVu Sans Mono',consolas,'Courier New',monospace\"><span style=\"font-weight: bold\"> Total params: </span><span style=\"color: #00af00; text-decoration-color: #00af00\">151,601</span> (592.19 KB)\n",
       "</pre>\n"
      ],
      "text/plain": [
       "\u001b[1m Total params: \u001b[0m\u001b[38;5;34m151,601\u001b[0m (592.19 KB)\n"
      ]
     },
     "metadata": {},
     "output_type": "display_data"
    },
    {
     "data": {
      "text/html": [
       "<pre style=\"white-space:pre;overflow-x:auto;line-height:normal;font-family:Menlo,'DejaVu Sans Mono',consolas,'Courier New',monospace\"><span style=\"font-weight: bold\"> Trainable params: </span><span style=\"color: #00af00; text-decoration-color: #00af00\">151,601</span> (592.19 KB)\n",
       "</pre>\n"
      ],
      "text/plain": [
       "\u001b[1m Trainable params: \u001b[0m\u001b[38;5;34m151,601\u001b[0m (592.19 KB)\n"
      ]
     },
     "metadata": {},
     "output_type": "display_data"
    },
    {
     "data": {
      "text/html": [
       "<pre style=\"white-space:pre;overflow-x:auto;line-height:normal;font-family:Menlo,'DejaVu Sans Mono',consolas,'Courier New',monospace\"><span style=\"font-weight: bold\"> Non-trainable params: </span><span style=\"color: #00af00; text-decoration-color: #00af00\">0</span> (0.00 B)\n",
       "</pre>\n"
      ],
      "text/plain": [
       "\u001b[1m Non-trainable params: \u001b[0m\u001b[38;5;34m0\u001b[0m (0.00 B)\n"
      ]
     },
     "metadata": {},
     "output_type": "display_data"
    }
   ],
   "source": [
    "# Define the model with two inputs\n",
    "model = tf.keras.Model(inputs=[mel_input_breathing, mel_input_cough, mel_input_speech, other_input], outputs=z)\n",
    "\n",
    "# Compile the model\n",
    "model.compile(optimizer='adam', loss='binary_crossentropy', metrics=['accuracy','recall','precision'])\n",
    "\n",
    "# Print model summary\n",
    "model.summary()"
   ]
  },
  {
   "cell_type": "code",
   "execution_count": 45,
   "metadata": {},
   "outputs": [
    {
     "data": {
      "text/plain": [
       "(1266,)"
      ]
     },
     "execution_count": 45,
     "metadata": {},
     "output_type": "execute_result"
    }
   ],
   "source": [
    "y_train_resampled.shape"
   ]
  },
  {
   "cell_type": "code",
   "execution_count": 46,
   "metadata": {},
   "outputs": [
    {
     "name": "stdout",
     "output_type": "stream",
     "text": [
      "Training set shapes:\n",
      "Breathing: (1012, 128, 626, 1)\n",
      "Coughing: (1012, 128, 751, 1)\n",
      "Speech: (1012, 128, 1251, 1)\n",
      "Other Features: (1012, 6)\n",
      "Labels: (1012,)\n",
      "\n",
      "Validation set shapes:\n",
      "Breathing: (254, 128, 626, 1)\n",
      "Coughing: (254, 128, 751, 1)\n",
      "Speech: (254, 128, 1251, 1)\n",
      "Other Features: (254, 6)\n",
      "Labels: (254,)\n"
     ]
    }
   ],
   "source": [
    "X_train_breathing, X_val_breathing, \\\n",
    "X_train_coughing, X_val_coughing, \\\n",
    "X_train_speech, X_val_speech, \\\n",
    "X_train_other_features, X_val_other_features, \\\n",
    "y_train, y_val = train_test_split(\n",
    "    spectrograms_train_breathing,\n",
    "    spectrograms_train_coughing,\n",
    "    spectrograms_train_speech,\n",
    "    other_features_resampled,\n",
    "    y_train_resampled,\n",
    "    test_size=0.2,\n",
    "    random_state=seed,\n",
    "    stratify=y_train_resampled\n",
    ")\n",
    "\n",
    "# Step 2: Verify shapes of training and validation sets\n",
    "print(\"Training set shapes:\")\n",
    "print(\"Breathing:\", X_train_breathing.shape)\n",
    "print(\"Coughing:\", X_train_coughing.shape)\n",
    "print(\"Speech:\", X_train_speech.shape)\n",
    "print(\"Other Features:\", X_train_other_features.shape)\n",
    "print(\"Labels:\", y_train.shape)\n",
    "\n",
    "print(\"\\nValidation set shapes:\")\n",
    "print(\"Breathing:\", X_val_breathing.shape)\n",
    "print(\"Coughing:\", X_val_coughing.shape)\n",
    "print(\"Speech:\", X_val_speech.shape)\n",
    "print(\"Other Features:\", X_val_other_features.shape)\n",
    "print(\"Labels:\", y_val.shape)\n"
   ]
  },
  {
   "cell_type": "code",
   "execution_count": 47,
   "metadata": {
    "colab": {
     "base_uri": "https://localhost:8080/"
    },
    "id": "bRypOcVKwADk",
    "outputId": "e1f5ad83-41f5-4fff-862f-23d7c5403903",
    "scrolled": true
   },
   "outputs": [
    {
     "name": "stdout",
     "output_type": "stream",
     "text": [
      "Epoch 1/50\n"
     ]
    },
    {
     "name": "stderr",
     "output_type": "stream",
     "text": [
      "/Users/opheliasin/covid-detection/venv/lib/python3.12/site-packages/keras/src/models/functional.py:225: UserWarning: The structure of `inputs` doesn't match the expected structure: ['mel_spectrogram_breathing', 'mel_spectrogram_cough', 'mel_spectrogram_speech', 'other_features']. Received: the structure of inputs=('*', '*', '*', '*')\n",
      "  warnings.warn(\n"
     ]
    },
    {
     "name": "stdout",
     "output_type": "stream",
     "text": [
      "\u001b[1m32/32\u001b[0m \u001b[32m━━━━━━━━━━━━━━━━━━━━\u001b[0m\u001b[37m\u001b[0m \u001b[1m58s\u001b[0m 2s/step - accuracy: 0.4883 - loss: 19.2814 - precision: 0.4808 - recall: 0.4641 - val_accuracy: 0.5079 - val_loss: 5.3011 - val_precision: 0.5040 - val_recall: 1.0000\n",
      "Epoch 2/50\n",
      "\u001b[1m32/32\u001b[0m \u001b[32m━━━━━━━━━━━━━━━━━━━━\u001b[0m\u001b[37m\u001b[0m \u001b[1m57s\u001b[0m 2s/step - accuracy: 0.5101 - loss: 4.2630 - precision: 0.5035 - recall: 0.5557 - val_accuracy: 0.5118 - val_loss: 0.8206 - val_precision: 0.5064 - val_recall: 0.9370\n",
      "Epoch 3/50\n",
      "\u001b[1m32/32\u001b[0m \u001b[32m━━━━━━━━━━━━━━━━━━━━\u001b[0m\u001b[37m\u001b[0m \u001b[1m62s\u001b[0m 2s/step - accuracy: 0.5101 - loss: 2.0978 - precision: 0.5022 - recall: 0.5754 - val_accuracy: 0.5551 - val_loss: 0.6859 - val_precision: 0.6250 - val_recall: 0.2756\n",
      "Epoch 4/50\n",
      "\u001b[1m32/32\u001b[0m \u001b[32m━━━━━━━━━━━━━━━━━━━━\u001b[0m\u001b[37m\u001b[0m \u001b[1m52s\u001b[0m 2s/step - accuracy: 0.5242 - loss: 0.9527 - precision: 0.5155 - recall: 0.5305 - val_accuracy: 0.5118 - val_loss: 0.6918 - val_precision: 0.6667 - val_recall: 0.0472\n",
      "Epoch 5/50\n",
      "\u001b[1m32/32\u001b[0m \u001b[32m━━━━━━━━━━━━━━━━━━━━\u001b[0m\u001b[37m\u001b[0m \u001b[1m60s\u001b[0m 2s/step - accuracy: 0.5309 - loss: 0.7536 - precision: 0.5250 - recall: 0.5066 - val_accuracy: 0.5827 - val_loss: 0.6830 - val_precision: 0.5686 - val_recall: 0.6850\n",
      "Epoch 6/50\n",
      "\u001b[1m32/32\u001b[0m \u001b[32m━━━━━━━━━━━━━━━━━━━━\u001b[0m\u001b[37m\u001b[0m \u001b[1m50s\u001b[0m 2s/step - accuracy: 0.5934 - loss: 0.7140 - precision: 0.5847 - recall: 0.6183 - val_accuracy: 0.5709 - val_loss: 0.6760 - val_precision: 0.5882 - val_recall: 0.4724\n",
      "Epoch 7/50\n",
      "\u001b[1m32/32\u001b[0m \u001b[32m━━━━━━━━━━━━━━━━━━━━\u001b[0m\u001b[37m\u001b[0m \u001b[1m49s\u001b[0m 2s/step - accuracy: 0.5724 - loss: 0.7417 - precision: 0.5649 - recall: 0.5697 - val_accuracy: 0.5945 - val_loss: 0.6717 - val_precision: 0.6111 - val_recall: 0.5197\n",
      "Epoch 8/50\n",
      "\u001b[1m32/32\u001b[0m \u001b[32m━━━━━━━━━━━━━━━━━━━━\u001b[0m\u001b[37m\u001b[0m \u001b[1m50s\u001b[0m 2s/step - accuracy: 0.6119 - loss: 0.6936 - precision: 0.6088 - recall: 0.5935 - val_accuracy: 0.6063 - val_loss: 0.6706 - val_precision: 0.5714 - val_recall: 0.8504\n",
      "Epoch 9/50\n",
      "\u001b[1m32/32\u001b[0m \u001b[32m━━━━━━━━━━━━━━━━━━━━\u001b[0m\u001b[37m\u001b[0m \u001b[1m47s\u001b[0m 1s/step - accuracy: 0.5956 - loss: 0.6759 - precision: 0.5934 - recall: 0.5786 - val_accuracy: 0.5984 - val_loss: 0.6527 - val_precision: 0.6761 - val_recall: 0.3780\n",
      "Epoch 10/50\n",
      "\u001b[1m32/32\u001b[0m \u001b[32m━━━━━━━━━━━━━━━━━━━━\u001b[0m\u001b[37m\u001b[0m \u001b[1m50s\u001b[0m 2s/step - accuracy: 0.6685 - loss: 0.6373 - precision: 0.6814 - recall: 0.6158 - val_accuracy: 0.6575 - val_loss: 0.6329 - val_precision: 0.6333 - val_recall: 0.7480\n",
      "Epoch 11/50\n",
      "\u001b[1m32/32\u001b[0m \u001b[32m━━━━━━━━━━━━━━━━━━━━\u001b[0m\u001b[37m\u001b[0m \u001b[1m49s\u001b[0m 2s/step - accuracy: 0.6715 - loss: 0.6174 - precision: 0.6964 - recall: 0.5895 - val_accuracy: 0.6850 - val_loss: 0.6007 - val_precision: 0.6850 - val_recall: 0.6850\n",
      "Epoch 12/50\n",
      "\u001b[1m32/32\u001b[0m \u001b[32m━━━━━━━━━━━━━━━━━━━━\u001b[0m\u001b[37m\u001b[0m \u001b[1m51s\u001b[0m 2s/step - accuracy: 0.7118 - loss: 0.5838 - precision: 0.7099 - recall: 0.7021 - val_accuracy: 0.7087 - val_loss: 0.5924 - val_precision: 0.6828 - val_recall: 0.7795\n",
      "Epoch 13/50\n",
      "\u001b[1m32/32\u001b[0m \u001b[32m━━━━━━━━━━━━━━━━━━━━\u001b[0m\u001b[37m\u001b[0m \u001b[1m60s\u001b[0m 2s/step - accuracy: 0.7193 - loss: 0.5903 - precision: 0.7081 - recall: 0.7385 - val_accuracy: 0.6969 - val_loss: 0.5796 - val_precision: 0.7315 - val_recall: 0.6220\n",
      "Epoch 14/50\n",
      "\u001b[1m32/32\u001b[0m \u001b[32m━━━━━━━━━━━━━━━━━━━━\u001b[0m\u001b[37m\u001b[0m \u001b[1m53s\u001b[0m 2s/step - accuracy: 0.7476 - loss: 0.5562 - precision: 0.7393 - recall: 0.7530 - val_accuracy: 0.6929 - val_loss: 0.5864 - val_precision: 0.6485 - val_recall: 0.8425\n",
      "Epoch 15/50\n",
      "\u001b[1m32/32\u001b[0m \u001b[32m━━━━━━━━━━━━━━━━━━━━\u001b[0m\u001b[37m\u001b[0m \u001b[1m56s\u001b[0m 2s/step - accuracy: 0.7737 - loss: 0.5497 - precision: 0.7649 - recall: 0.7874 - val_accuracy: 0.7638 - val_loss: 0.5434 - val_precision: 0.7519 - val_recall: 0.7874\n",
      "Epoch 16/50\n",
      "\u001b[1m32/32\u001b[0m \u001b[32m━━━━━━━━━━━━━━━━━━━━\u001b[0m\u001b[37m\u001b[0m \u001b[1m51s\u001b[0m 2s/step - accuracy: 0.7858 - loss: 0.5093 - precision: 0.7769 - recall: 0.7948 - val_accuracy: 0.7677 - val_loss: 0.5333 - val_precision: 0.7394 - val_recall: 0.8268\n",
      "Epoch 17/50\n",
      "\u001b[1m32/32\u001b[0m \u001b[32m━━━━━━━━━━━━━━━━━━━━\u001b[0m\u001b[37m\u001b[0m \u001b[1m63s\u001b[0m 2s/step - accuracy: 0.7907 - loss: 0.4796 - precision: 0.7891 - recall: 0.7903 - val_accuracy: 0.7756 - val_loss: 0.5312 - val_precision: 0.7574 - val_recall: 0.8110\n",
      "Epoch 18/50\n",
      "\u001b[1m32/32\u001b[0m \u001b[32m━━━━━━━━━━━━━━━━━━━━\u001b[0m\u001b[37m\u001b[0m \u001b[1m66s\u001b[0m 2s/step - accuracy: 0.7920 - loss: 0.4545 - precision: 0.8040 - recall: 0.7672 - val_accuracy: 0.7913 - val_loss: 0.5056 - val_precision: 0.7891 - val_recall: 0.7953\n",
      "Epoch 19/50\n",
      "\u001b[1m32/32\u001b[0m \u001b[32m━━━━━━━━━━━━━━━━━━━━\u001b[0m\u001b[37m\u001b[0m \u001b[1m79s\u001b[0m 2s/step - accuracy: 0.8128 - loss: 0.4403 - precision: 0.8282 - recall: 0.7830 - val_accuracy: 0.7756 - val_loss: 0.5079 - val_precision: 0.7652 - val_recall: 0.7953\n",
      "Epoch 20/50\n",
      "\u001b[1m32/32\u001b[0m \u001b[32m━━━━━━━━━━━━━━━━━━━━\u001b[0m\u001b[37m\u001b[0m \u001b[1m58s\u001b[0m 2s/step - accuracy: 0.7869 - loss: 0.4577 - precision: 0.8104 - recall: 0.7419 - val_accuracy: 0.7717 - val_loss: 0.5081 - val_precision: 0.7556 - val_recall: 0.8031\n",
      "Epoch 21/50\n",
      "\u001b[1m32/32\u001b[0m \u001b[32m━━━━━━━━━━━━━━━━━━━━\u001b[0m\u001b[37m\u001b[0m \u001b[1m55s\u001b[0m 2s/step - accuracy: 0.7997 - loss: 0.4464 - precision: 0.8207 - recall: 0.7640 - val_accuracy: 0.8071 - val_loss: 0.5100 - val_precision: 0.8421 - val_recall: 0.7559\n",
      "Epoch 22/50\n",
      "\u001b[1m32/32\u001b[0m \u001b[32m━━━━━━━━━━━━━━━━━━━━\u001b[0m\u001b[37m\u001b[0m \u001b[1m53s\u001b[0m 2s/step - accuracy: 0.8080 - loss: 0.4345 - precision: 0.8324 - recall: 0.7645 - val_accuracy: 0.7953 - val_loss: 0.4628 - val_precision: 0.7953 - val_recall: 0.7953\n",
      "Epoch 23/50\n",
      "\u001b[1m32/32\u001b[0m \u001b[32m━━━━━━━━━━━━━━━━━━━━\u001b[0m\u001b[37m\u001b[0m \u001b[1m57s\u001b[0m 2s/step - accuracy: 0.8200 - loss: 0.4219 - precision: 0.8455 - recall: 0.7776 - val_accuracy: 0.7835 - val_loss: 0.4772 - val_precision: 0.7727 - val_recall: 0.8031\n",
      "Epoch 24/50\n",
      "\u001b[1m32/32\u001b[0m \u001b[32m━━━━━━━━━━━━━━━━━━━━\u001b[0m\u001b[37m\u001b[0m \u001b[1m52s\u001b[0m 2s/step - accuracy: 0.7977 - loss: 0.4535 - precision: 0.8101 - recall: 0.7739 - val_accuracy: 0.7953 - val_loss: 0.4855 - val_precision: 0.8319 - val_recall: 0.7402\n",
      "Epoch 25/50\n",
      "\u001b[1m32/32\u001b[0m \u001b[32m━━━━━━━━━━━━━━━━━━━━\u001b[0m\u001b[37m\u001b[0m \u001b[1m52s\u001b[0m 2s/step - accuracy: 0.8268 - loss: 0.4054 - precision: 0.8446 - recall: 0.7950 - val_accuracy: 0.8189 - val_loss: 0.4561 - val_precision: 0.8462 - val_recall: 0.7795\n",
      "Epoch 26/50\n",
      "\u001b[1m32/32\u001b[0m \u001b[32m━━━━━━━━━━━━━━━━━━━━\u001b[0m\u001b[37m\u001b[0m \u001b[1m51s\u001b[0m 2s/step - accuracy: 0.8151 - loss: 0.4211 - precision: 0.8495 - recall: 0.7601 - val_accuracy: 0.8150 - val_loss: 0.4575 - val_precision: 0.8390 - val_recall: 0.7795\n",
      "Epoch 27/50\n",
      "\u001b[1m32/32\u001b[0m \u001b[32m━━━━━━━━━━━━━━━━━━━━\u001b[0m\u001b[37m\u001b[0m \u001b[1m49s\u001b[0m 2s/step - accuracy: 0.8300 - loss: 0.3900 - precision: 0.8674 - recall: 0.7730 - val_accuracy: 0.7953 - val_loss: 0.4857 - val_precision: 0.7820 - val_recall: 0.8189\n",
      "Epoch 28/50\n",
      "\u001b[1m32/32\u001b[0m \u001b[32m━━━━━━━━━━━━━━━━━━━━\u001b[0m\u001b[37m\u001b[0m \u001b[1m51s\u001b[0m 2s/step - accuracy: 0.8235 - loss: 0.4110 - precision: 0.8650 - recall: 0.7615 - val_accuracy: 0.7992 - val_loss: 0.4824 - val_precision: 0.8276 - val_recall: 0.7559\n",
      "Epoch 29/50\n",
      "\u001b[1m32/32\u001b[0m \u001b[32m━━━━━━━━━━━━━━━━━━━━\u001b[0m\u001b[37m\u001b[0m \u001b[1m51s\u001b[0m 2s/step - accuracy: 0.8148 - loss: 0.4037 - precision: 0.8532 - recall: 0.7546 - val_accuracy: 0.8110 - val_loss: 0.4574 - val_precision: 0.8264 - val_recall: 0.7874\n",
      "Epoch 30/50\n",
      "\u001b[1m32/32\u001b[0m \u001b[32m━━━━━━━━━━━━━━━━━━━━\u001b[0m\u001b[37m\u001b[0m \u001b[1m51s\u001b[0m 2s/step - accuracy: 0.8264 - loss: 0.3888 - precision: 0.8736 - recall: 0.7579 - val_accuracy: 0.8071 - val_loss: 0.4390 - val_precision: 0.8362 - val_recall: 0.7638\n",
      "Epoch 31/50\n",
      "\u001b[1m32/32\u001b[0m \u001b[32m━━━━━━━━━━━━━━━━━━━━\u001b[0m\u001b[37m\u001b[0m \u001b[1m49s\u001b[0m 2s/step - accuracy: 0.8317 - loss: 0.3813 - precision: 0.8731 - recall: 0.7710 - val_accuracy: 0.8110 - val_loss: 0.4554 - val_precision: 0.8062 - val_recall: 0.8189\n",
      "Epoch 32/50\n",
      "\u001b[1m32/32\u001b[0m \u001b[32m━━━━━━━━━━━━━━━━━━━━\u001b[0m\u001b[37m\u001b[0m \u001b[1m50s\u001b[0m 2s/step - accuracy: 0.8213 - loss: 0.3807 - precision: 0.8607 - recall: 0.7619 - val_accuracy: 0.7992 - val_loss: 0.4685 - val_precision: 0.8585 - val_recall: 0.7165\n",
      "Epoch 33/50\n",
      "\u001b[1m32/32\u001b[0m \u001b[32m━━━━━━━━━━━━━━━━━━━━\u001b[0m\u001b[37m\u001b[0m \u001b[1m53s\u001b[0m 2s/step - accuracy: 0.8561 - loss: 0.3580 - precision: 0.9001 - recall: 0.7958 - val_accuracy: 0.8110 - val_loss: 0.4505 - val_precision: 0.8376 - val_recall: 0.7717\n",
      "Epoch 34/50\n",
      "\u001b[1m32/32\u001b[0m \u001b[32m━━━━━━━━━━━━━━━━━━━━\u001b[0m\u001b[37m\u001b[0m \u001b[1m50s\u001b[0m 2s/step - accuracy: 0.8327 - loss: 0.3746 - precision: 0.8794 - recall: 0.7654 - val_accuracy: 0.8150 - val_loss: 0.4386 - val_precision: 0.8390 - val_recall: 0.7795\n",
      "Epoch 35/50\n",
      "\u001b[1m32/32\u001b[0m \u001b[32m━━━━━━━━━━━━━━━━━━━━\u001b[0m\u001b[37m\u001b[0m \u001b[1m51s\u001b[0m 2s/step - accuracy: 0.8452 - loss: 0.3674 - precision: 0.8813 - recall: 0.7932 - val_accuracy: 0.8189 - val_loss: 0.4532 - val_precision: 0.8189 - val_recall: 0.8189\n",
      "Epoch 36/50\n",
      "\u001b[1m32/32\u001b[0m \u001b[32m━━━━━━━━━━━━━━━━━━━━\u001b[0m\u001b[37m\u001b[0m \u001b[1m101s\u001b[0m 3s/step - accuracy: 0.8302 - loss: 0.3809 - precision: 0.8710 - recall: 0.7711 - val_accuracy: 0.8031 - val_loss: 0.4875 - val_precision: 0.8468 - val_recall: 0.7402\n",
      "Epoch 37/50\n",
      "\u001b[1m32/32\u001b[0m \u001b[32m━━━━━━━━━━━━━━━━━━━━\u001b[0m\u001b[37m\u001b[0m \u001b[1m56s\u001b[0m 2s/step - accuracy: 0.8568 - loss: 0.3348 - precision: 0.9102 - recall: 0.7865 - val_accuracy: 0.8071 - val_loss: 0.4428 - val_precision: 0.8250 - val_recall: 0.7795\n",
      "Epoch 38/50\n",
      "\u001b[1m32/32\u001b[0m \u001b[32m━━━━━━━━━━━━━━━━━━━━\u001b[0m\u001b[37m\u001b[0m \u001b[1m58s\u001b[0m 2s/step - accuracy: 0.8543 - loss: 0.3399 - precision: 0.9000 - recall: 0.7923 - val_accuracy: 0.7953 - val_loss: 0.4490 - val_precision: 0.8151 - val_recall: 0.7638\n",
      "Epoch 39/50\n",
      "\u001b[1m32/32\u001b[0m \u001b[32m━━━━━━━━━━━━━━━━━━━━\u001b[0m\u001b[37m\u001b[0m \u001b[1m55s\u001b[0m 2s/step - accuracy: 0.8539 - loss: 0.3542 - precision: 0.8985 - recall: 0.7926 - val_accuracy: 0.8071 - val_loss: 0.4434 - val_precision: 0.8679 - val_recall: 0.7244\n",
      "Epoch 39: early stopping\n",
      "Restoring model weights from the end of the best epoch: 34.\n",
      "\u001b[1m8/8\u001b[0m \u001b[32m━━━━━━━━━━━━━━━━━━━━\u001b[0m\u001b[37m\u001b[0m \u001b[1m3s\u001b[0m 347ms/step - accuracy: 0.7775 - loss: 0.5121 - precision: 0.7982 - recall: 0.7598\n"
     ]
    }
   ],
   "source": [
    "from tensorflow.keras.callbacks import EarlyStopping\n",
    "\n",
    "# EarlyStopping callback\n",
    "early_stopping = EarlyStopping(\n",
    "    monitor='val_loss',         # Metric to monitor (e.g., validation loss)\n",
    "    patience=5,                 # Number of epochs with no improvement before stopping\n",
    "    restore_best_weights=True,  # Restore the weights of the best epoch\n",
    "    verbose=1                   # Print messages when early stopping is triggered\n",
    ")\n",
    "\n",
    "history = model.fit(\n",
    "    [X_train_breathing, X_train_coughing, X_train_speech, X_train_other_features],\n",
    "    y_train,\n",
    "    validation_data=(\n",
    "        [X_val_breathing, X_val_coughing, X_val_speech, X_val_other_features],\n",
    "        y_val\n",
    "    ),\n",
    "    epochs=20,\n",
    "    batch_size=32,\n",
    "    callbacks=[early_stopping]\n",
    ")\n",
    "\n",
    "\n",
    "# Step 4: Evaluate the model on the validation set\n",
    "results = model.evaluate(\n",
    "    [X_val_breathing, X_val_coughing, X_val_speech, X_val_other_features],\n",
    "    y_val\n",
    ")"
   ]
  },
  {
   "cell_type": "code",
   "execution_count": null,
   "metadata": {},
   "outputs": [],
   "source": [
    "# recall = TP / TP + FN "
   ]
  },
  {
   "cell_type": "code",
   "execution_count": 48,
   "metadata": {
    "colab": {
     "base_uri": "https://localhost:8080/"
    },
    "id": "zvxmF1m9wADk",
    "outputId": "f77330ab-658e-459c-cd67-80110d103209",
    "scrolled": true
   },
   "outputs": [
    {
     "name": "stdout",
     "output_type": "stream",
     "text": [
      "\u001b[1m32/32\u001b[0m \u001b[32m━━━━━━━━━━━━━━━━━━━━\u001b[0m\u001b[37m\u001b[0m \u001b[1m15s\u001b[0m 453ms/step\n"
     ]
    }
   ],
   "source": [
    "y_pred_train = model.predict([X_train_breathing, X_train_coughing, X_train_speech, X_train_other_features])"
   ]
  },
  {
   "cell_type": "code",
   "execution_count": 49,
   "metadata": {
    "id": "zkcZoLsgwADk"
   },
   "outputs": [],
   "source": [
    "y_pred_train_binary = (y_pred_train > 0.6).astype(int)"
   ]
  },
  {
   "cell_type": "code",
   "execution_count": 50,
   "metadata": {},
   "outputs": [
    {
     "data": {
      "text/plain": [
       "((1012,), (1012, 1))"
      ]
     },
     "execution_count": 50,
     "metadata": {},
     "output_type": "execute_result"
    }
   ],
   "source": [
    "y_train.shape, y_pred_train_binary.shape"
   ]
  },
  {
   "cell_type": "code",
   "execution_count": 51,
   "metadata": {
    "colab": {
     "base_uri": "https://localhost:8080/"
    },
    "id": "GFwSBIq-wADk",
    "outputId": "3e593f38-c6d1-415e-ec41-60045d454647"
   },
   "outputs": [
    {
     "name": "stdout",
     "output_type": "stream",
     "text": [
      "Training Accuracy: 0.8596837944664032\n"
     ]
    }
   ],
   "source": [
    "from sklearn.metrics import accuracy_score\n",
    "accuracy_train = accuracy_score(y_train, y_pred_train_binary)\n",
    "\n",
    "print(f\"Training Accuracy: {accuracy_train}\")"
   ]
  },
  {
   "cell_type": "code",
   "execution_count": 53,
   "metadata": {
    "colab": {
     "base_uri": "https://localhost:8080/",
     "height": 472
    },
    "id": "Uj4vAEwbwADk",
    "outputId": "10c1b1ae-9744-477a-f238-0c75c2aee352"
   },
   "outputs": [
    {
     "data": {
      "image/png": "[encoded data removed]",
      "text/plain": [
       "<Figure size 640x480 with 2 Axes>"
      ]
     },
     "metadata": {},
     "output_type": "display_data"
    }
   ],
   "source": [
    "from sklearn.metrics import confusion_matrix, ConfusionMatrixDisplay\n",
    "\n",
    "cm = confusion_matrix(y_train, y_pred_train_binary)\n",
    "\n",
    "# Step 4: Visualize or print the confusion matrix\n",
    "disp = ConfusionMatrixDisplay(confusion_matrix=cm)\n",
    "disp.plot(cmap=plt.cm.Blues)\n",
    "plt.title(\"Confusion Matrix for Training Data\")\n",
    "plt.show()"
   ]
  },
  {
   "cell_type": "code",
   "execution_count": 54,
   "metadata": {},
   "outputs": [
    {
     "name": "stdout",
     "output_type": "stream",
     "text": [
      "Balanced Accuracy: 0.8595348292225673\n"
     ]
    }
   ],
   "source": [
    "from sklearn.metrics import balanced_accuracy_score\n",
    "\n",
    "# Calculate balanced accuracy\n",
    "balanced_acc = balanced_accuracy_score(y_train, y_pred_train_binary)\n",
    "print(f\"Balanced Accuracy: {balanced_acc}\")"
   ]
  },
  {
   "cell_type": "code",
   "execution_count": 55,
   "metadata": {
    "colab": {
     "base_uri": "https://localhost:8080/"
    },
    "id": "tRWp3uWQwADk",
    "outputId": "d810d066-34cd-41c2-9916-8a49378d9199"
   },
   "outputs": [
    {
     "name": "stdout",
     "output_type": "stream",
     "text": [
      "\u001b[1m7/7\u001b[0m \u001b[32m━━━━━━━━━━━━━━━━━━━━\u001b[0m\u001b[37m\u001b[0m \u001b[1m2s\u001b[0m 265ms/step\n"
     ]
    }
   ],
   "source": [
    "y_pred_test = model.predict([spectrograms_test_breathing, spectrograms_test_coughing, spectrograms_test_speech, other_features_test])"
   ]
  },
  {
   "cell_type": "code",
   "execution_count": 56,
   "metadata": {
    "id": "tujIUQljwADk"
   },
   "outputs": [],
   "source": [
    "y_pred_test_binary = (y_pred_test > 0.6).astype(int)"
   ]
  },
  {
   "cell_type": "code",
   "execution_count": 57,
   "metadata": {
    "id": "nSajYR3cwADk"
   },
   "outputs": [],
   "source": [
    "cm = confusion_matrix(y_test, y_pred_test_binary)"
   ]
  },
  {
   "cell_type": "code",
   "execution_count": 58,
   "metadata": {
    "colab": {
     "base_uri": "https://localhost:8080/",
     "height": 472
    },
    "id": "gmZot2FewADk",
    "outputId": "686c14ed-6d8a-43fb-d76c-3ad864caa3c9"
   },
   "outputs": [
    {
     "data": {
      "image/png": "[encoded data removed]",
      "text/plain": [
       "<Figure size 640x480 with 2 Axes>"
      ]
     },
     "metadata": {},
     "output_type": "display_data"
    }
   ],
   "source": [
    "disp = ConfusionMatrixDisplay(cm)\n",
    "\n",
    "disp.plot()\n",
    "plt.title(\"Confusion Matrix for Testing Data\")\n",
    "plt.show()"
   ]
  },
  {
   "cell_type": "code",
   "execution_count": 59,
   "metadata": {
    "id": "YIkOoK25wADk"
   },
   "outputs": [
    {
     "name": "stdout",
     "output_type": "stream",
     "text": [
      "Balanced Accuracy: 0.6481687014428413\n"
     ]
    }
   ],
   "source": [
    "balanced_acc = balanced_accuracy_score(y_test, y_pred_test_binary)\n",
    "print(f\"Balanced Accuracy: {balanced_acc}\")"
   ]
  },
  {
   "cell_type": "markdown",
   "metadata": {},
   "source": [
    "## SMOTE\n",
    "\n",
    "sampling_strategy = {1:300} -> Counter({np.int64(0): 634, np.int64(1): 300})\n",
    "\n",
    "regular SMOTE -> Resampled class distribution: Counter({np.int64(0): 634, np.int64(1): 634})"
   ]
  },
  {
   "cell_type": "code",
   "execution_count": 57,
   "metadata": {},
   "outputs": [],
   "source": [
    "from imblearn.over_sampling import SMOTE\n",
    "from collections import Counter\n",
    "\n",
    "# smote = SMOTE(random_state=seed)\n",
    "#smote = SMOTE(random_state=seed, sampling_strategy={1: 300})\n",
    "smote = SMOTE(sampling_strategy=0.5, random_state=seed)\n",
    "\n",
    "X_train_resampled, y_train_resampled = smote.fit_resample(X_train, y_train)"
   ]
  },
  {
   "cell_type": "code",
   "execution_count": 22,
   "metadata": {},
   "outputs": [],
   "source": [
    "# smote = SMOTE(sampling_strategy=0.5, random_state=seed)\n",
    "# X_train_resampled_1, y_train_resampled_1 = smote.fit_resample(X_train, y_train)"
   ]
  },
  {
   "cell_type": "code",
   "execution_count": 58,
   "metadata": {},
   "outputs": [
    {
     "name": "stdout",
     "output_type": "stream",
     "text": [
      "Original class distribution: Counter({np.int64(0): 634, np.int64(1): 275})\n",
      "Resampled class distribution: Counter({np.int64(0): 634, np.int64(1): 317})\n"
     ]
    }
   ],
   "source": [
    "# Print resampled class distribution\n",
    "print(f\"Original class distribution: {Counter(y_train)}\")\n",
    "print(f\"Resampled class distribution: {Counter(y_train_resampled)}\")\n",
    "#print(f\"Resampled class distribution: {Counter(y_train_resampled_1)}\")"
   ]
  },
  {
   "cell_type": "code",
   "execution_count": 24,
   "metadata": {},
   "outputs": [],
   "source": [
    "# Constants for updated time frames\n",
    "num_mel_bands = 128\n",
    "original_time_frames_breathing = 626 # prev: 622\n",
    "original_time_frames_coughing = 751 # prev: 747\n",
    "original_time_frames_speech = 1251 # prev: 1247\n",
    "\n",
    "# Total original time frames\n",
    "original_total_time_frames = original_time_frames_breathing + original_time_frames_coughing + original_time_frames_speech\n",
    "\n",
    "# Total spectrogram features\n",
    "total_padded_spectrogram_features = num_mel_bands * (max_time_frames * 3)"
   ]
  },
  {
   "cell_type": "code",
   "execution_count": 25,
   "metadata": {},
   "outputs": [],
   "source": [
    "# Separate resampled padded spectrograms and other features for X_train_resampled\n",
    "padded_spectrograms_resampled = X_train_resampled[:, :total_padded_spectrogram_features]\n",
    "other_features_resampled = X_train_resampled[:, total_padded_spectrogram_features:]"
   ]
  },
  {
   "cell_type": "code",
   "execution_count": 26,
   "metadata": {},
   "outputs": [
    {
     "data": {
      "text/plain": [
       "((951, 480384), (951, 6))"
      ]
     },
     "execution_count": 26,
     "metadata": {},
     "output_type": "execute_result"
    }
   ],
   "source": [
    "padded_spectrograms_resampled.shape, other_features_resampled.shape"
   ]
  },
  {
   "cell_type": "code",
   "execution_count": 27,
   "metadata": {},
   "outputs": [
    {
     "name": "stdout",
     "output_type": "stream",
     "text": [
      "Actual size of padded_spectrograms_resampled: 456845184\n",
      "Expected size for reshaping: 343954944\n"
     ]
    }
   ],
   "source": [
    "# Verify actual size\n",
    "print(\"Actual size of padded_spectrograms_resampled:\", padded_spectrograms_resampled.size)\n",
    "\n",
    "# Calculate expected size\n",
    "expected_size = 716 * 128 * (max_time_frames * 3) * 1\n",
    "print(\"Expected size for reshaping:\", expected_size)"
   ]
  },
  {
   "cell_type": "code",
   "execution_count": 28,
   "metadata": {},
   "outputs": [],
   "source": [
    "padded_spectrograms_resampled_reshaped = padded_spectrograms_resampled.reshape(\n",
    "    padded_spectrograms_resampled.shape[0], num_mel_bands,\n",
    "    max_time_frames * 3, 1\n",
    ")"
   ]
  },
  {
   "cell_type": "code",
   "execution_count": 29,
   "metadata": {},
   "outputs": [],
   "source": [
    "# Define a function to extract the original spectrograms without padding\n",
    "def extract_original_spectrograms(padded_spectrograms, time_frames_breathing, time_frames_coughing, time_frames_speech):\n",
    "    # Extract breathing spectrogram\n",
    "    breathing = padded_spectrograms[:, :, :time_frames_breathing, :]\n",
    "    \n",
    "    # Extract coughing spectrogram\n",
    "    coughing_start = time_frames_breathing\n",
    "    coughing_end = time_frames_breathing + time_frames_coughing\n",
    "    coughing = padded_spectrograms[:, :, coughing_start:coughing_end, :]\n",
    "    \n",
    "    # Extract speech spectrogram\n",
    "    speech_start = coughing_end\n",
    "    speech_end = speech_start + time_frames_speech\n",
    "    speech = padded_spectrograms[:, :, speech_start:speech_end, :]\n",
    "    \n",
    "    return breathing, coughing, speech\n",
    "\n",
    "# Extract the original spectrograms from the padded data\n",
    "spectrograms_train_breathing, spectrograms_train_coughing, spectrograms_train_speech = extract_original_spectrograms(\n",
    "    padded_spectrograms_resampled_reshaped,\n",
    "    original_time_frames_breathing,\n",
    "    original_time_frames_coughing,\n",
    "    original_time_frames_speech\n",
    ")"
   ]
  },
  {
   "cell_type": "code",
   "execution_count": 30,
   "metadata": {},
   "outputs": [
    {
     "name": "stdout",
     "output_type": "stream",
     "text": [
      "Breathing Spectrogram Shape: (951, 128, 626, 1)\n",
      "Coughing Spectrogram Shape: (951, 128, 751, 1)\n",
      "Speech Spectrogram Shape: (951, 128, 1251, 1)\n"
     ]
    }
   ],
   "source": [
    "# Verify the shapes of the extracted spectrograms\n",
    "print(\"Breathing Spectrogram Shape:\", spectrograms_train_breathing.shape)  # Expected: (num_samples, 128, 622, 1)\n",
    "print(\"Coughing Spectrogram Shape:\", spectrograms_train_coughing.shape)   # Expected: (num_samples, 128, 747, 1)\n",
    "print(\"Speech Spectrogram Shape:\", spectrograms_train_speech.shape)       # Expected: (num_samples, 128, 1247, 1)"
   ]
  },
  {
   "cell_type": "code",
   "execution_count": 31,
   "metadata": {},
   "outputs": [],
   "source": [
    "# For X_test (no resampling needed), separate and reshape the spectrograms\n",
    "spectrograms_test = X_test[:, :total_padded_spectrogram_features]\n",
    "other_features_test = X_test[:, total_padded_spectrogram_features:]"
   ]
  },
  {
   "cell_type": "code",
   "execution_count": 32,
   "metadata": {},
   "outputs": [
    {
     "data": {
      "text/plain": [
       "((228, 480384), (228, 6))"
      ]
     },
     "execution_count": 32,
     "metadata": {},
     "output_type": "execute_result"
    }
   ],
   "source": [
    "spectrograms_test.shape, other_features_test.shape"
   ]
  },
  {
   "cell_type": "code",
   "execution_count": 33,
   "metadata": {},
   "outputs": [],
   "source": [
    "spectrograms_test_reshaped = spectrograms_test.reshape(\n",
    "    spectrograms_test.shape[0], num_mel_bands, max_time_frames * 3, 1\n",
    ")"
   ]
  },
  {
   "cell_type": "code",
   "execution_count": 34,
   "metadata": {},
   "outputs": [
    {
     "name": "stdout",
     "output_type": "stream",
     "text": [
      "Breathing Spectrogram Shape: (228, 128, 626, 1)\n",
      "Coughing Spectrogram Shape: (228, 128, 751, 1)\n",
      "Speech Spectrogram Shape: (228, 128, 1251, 1)\n"
     ]
    }
   ],
   "source": [
    "spectrograms_test_breathing, spectrograms_test_coughing, spectrograms_test_speech = extract_original_spectrograms(\n",
    "    spectrograms_test_reshaped,\n",
    "    original_time_frames_breathing,\n",
    "    original_time_frames_coughing,\n",
    "    original_time_frames_speech\n",
    ")\n",
    "# Verify shapes\n",
    "print(\"Breathing Spectrogram Shape:\", spectrograms_test_breathing.shape)\n",
    "print(\"Coughing Spectrogram Shape:\", spectrograms_test_coughing.shape)\n",
    "print(\"Speech Spectrogram Shape:\", spectrograms_test_speech.shape)\n"
   ]
  },
  {
   "cell_type": "code",
   "execution_count": 35,
   "metadata": {},
   "outputs": [],
   "source": [
    "#convert y_train_resampled and y_test to numpy arrays\n",
    "\n",
    "y_train_resampled = np.array(y_train_resampled)\n",
    "y_test = np.array(y_test)"
   ]
  },
  {
   "cell_type": "code",
   "execution_count": 36,
   "metadata": {},
   "outputs": [],
   "source": [
    "import tensorflow as tf\n",
    "from tensorflow.keras.layers import Input, Conv2D, MaxPooling2D, GlobalAveragePooling2D, Dense, Concatenate, Dropout\n",
    "\n",
    "# Define input for Mel spectrogram (shape: 625 time frames x 128 frequency bins x 1 channel)\n",
    "mel_input_breathing = Input(shape=(128, 626, 1), name='mel_spectrogram_breathing')\n",
    "mel_input_cough = Input(shape=(128, 751, 1), name='mel_spectrogram_cough')\n",
    "mel_input_speech = Input(shape=(128, 1251, 1), name='mel_spectrogram_speech')\n",
    "\n",
    "\n",
    "# Define CNN sub-network for Mel spectrogram\n",
    "def create_cnn_subnetwork(input_layer):\n",
    "    x = Conv2D(16, (3,3), activation='relu')(input_layer)\n",
    "    x = MaxPooling2D(pool_size=(2,2))(x)\n",
    "    x = Conv2D(16, (3,3), activation='relu')(x)\n",
    "    x = MaxPooling2D(pool_size=(2,2))(x)\n",
    "    x = Conv2D(32, (3,3), activation='relu')(x)\n",
    "    x = MaxPooling2D(pool_size=(2,2))(x)\n",
    "    x = Conv2D(64, (3,3), activation='relu')(x)\n",
    "    x = MaxPooling2D(pool_size=(2,2))(x)\n",
    "    x = GlobalAveragePooling2D()(x)\n",
    "\n",
    "    return x\n",
    "\n",
    "# Create CNN sub-networks for each spectrogram input\n",
    "cnn_breathing_output = create_cnn_subnetwork(mel_input_breathing)\n",
    "cnn_cough_output = create_cnn_subnetwork(mel_input_cough)\n",
    "cnn_speech_output = create_cnn_subnetwork(mel_input_speech)\n",
    "\n",
    "# Define input for other features (zero-crossing rate and spectral centroid)\n",
    "other_input = Input(shape=(6,), name='other_features')\n",
    "\n",
    "# Define a simple dense sub-network for other features\n",
    "y = Dense(64, activation='relu')(other_input)\n",
    "y = Dense(128, activation='relu')(y)  # Add more dense layers\n",
    "y = Dropout(0.3)(y)                   # Add dropout to prevent overfitting\n",
    "y = Dense(128, activation='relu')(y)   # Another dense layer\n",
    "y = Dense(64, activation='relu')(y)    # Another dense layer\n",
    "\n",
    "# Concatenate both sub-networks\n",
    "combined = Concatenate()([cnn_breathing_output, cnn_cough_output, cnn_speech_output, y])\n",
    "\n",
    "# Add final classification layers\n",
    "z = Dense(128, activation='relu')(combined)\n",
    "z = Dropout(0.3)(z)                    # Add dropout to prevent overfitting\n",
    "z = Dense(64, activation='relu')(z)\n",
    "z = Dense(1, activation='sigmoid')(z)  # Binary classification"
   ]
  },
  {
   "cell_type": "code",
   "execution_count": 37,
   "metadata": {},
   "outputs": [
    {
     "data": {
      "text/html": [
       "<pre style=\"white-space:pre;overflow-x:auto;line-height:normal;font-family:Menlo,'DejaVu Sans Mono',consolas,'Courier New',monospace\"><span style=\"font-weight: bold\">Model: \"functional\"</span>\n",
       "</pre>\n"
      ],
      "text/plain": [
       "\u001b[1mModel: \"functional\"\u001b[0m\n"
      ]
     },
     "metadata": {},
     "output_type": "display_data"
    },
    {
     "data": {
      "text/html": [
       "<pre style=\"white-space:pre;overflow-x:auto;line-height:normal;font-family:Menlo,'DejaVu Sans Mono',consolas,'Courier New',monospace\">┏━━━━━━━━━━━━━━━━━━━━━┳━━━━━━━━━━━━━━━━━━━┳━━━━━━━━━━━━┳━━━━━━━━━━━━━━━━━━━┓\n",
       "┃<span style=\"font-weight: bold\"> Layer (type)        </span>┃<span style=\"font-weight: bold\"> Output Shape      </span>┃<span style=\"font-weight: bold\">    Param # </span>┃<span style=\"font-weight: bold\"> Connected to      </span>┃\n",
       "┡━━━━━━━━━━━━━━━━━━━━━╇━━━━━━━━━━━━━━━━━━━╇━━━━━━━━━━━━╇━━━━━━━━━━━━━━━━━━━┩\n",
       "│ mel_spectrogram_br… │ (<span style=\"color: #00d7ff; text-decoration-color: #00d7ff\">None</span>, <span style=\"color: #00af00; text-decoration-color: #00af00\">128</span>, <span style=\"color: #00af00; text-decoration-color: #00af00\">626</span>,  │          <span style=\"color: #00af00; text-decoration-color: #00af00\">0</span> │ -                 │\n",
       "│ (<span style=\"color: #0087ff; text-decoration-color: #0087ff\">InputLayer</span>)        │ <span style=\"color: #00af00; text-decoration-color: #00af00\">1</span>)                │            │                   │\n",
       "├─────────────────────┼───────────────────┼────────────┼───────────────────┤\n",
       "│ mel_spectrogram_co… │ (<span style=\"color: #00d7ff; text-decoration-color: #00d7ff\">None</span>, <span style=\"color: #00af00; text-decoration-color: #00af00\">128</span>, <span style=\"color: #00af00; text-decoration-color: #00af00\">751</span>,  │          <span style=\"color: #00af00; text-decoration-color: #00af00\">0</span> │ -                 │\n",
       "│ (<span style=\"color: #0087ff; text-decoration-color: #0087ff\">InputLayer</span>)        │ <span style=\"color: #00af00; text-decoration-color: #00af00\">1</span>)                │            │                   │\n",
       "├─────────────────────┼───────────────────┼────────────┼───────────────────┤\n",
       "│ mel_spectrogram_sp… │ (<span style=\"color: #00d7ff; text-decoration-color: #00d7ff\">None</span>, <span style=\"color: #00af00; text-decoration-color: #00af00\">128</span>, <span style=\"color: #00af00; text-decoration-color: #00af00\">1251</span>, │          <span style=\"color: #00af00; text-decoration-color: #00af00\">0</span> │ -                 │\n",
       "│ (<span style=\"color: #0087ff; text-decoration-color: #0087ff\">InputLayer</span>)        │ <span style=\"color: #00af00; text-decoration-color: #00af00\">1</span>)                │            │                   │\n",
       "├─────────────────────┼───────────────────┼────────────┼───────────────────┤\n",
       "│ conv2d (<span style=\"color: #0087ff; text-decoration-color: #0087ff\">Conv2D</span>)     │ (<span style=\"color: #00d7ff; text-decoration-color: #00d7ff\">None</span>, <span style=\"color: #00af00; text-decoration-color: #00af00\">126</span>, <span style=\"color: #00af00; text-decoration-color: #00af00\">624</span>,  │        <span style=\"color: #00af00; text-decoration-color: #00af00\">160</span> │ mel_spectrogram_… │\n",
       "│                     │ <span style=\"color: #00af00; text-decoration-color: #00af00\">16</span>)               │            │                   │\n",
       "├─────────────────────┼───────────────────┼────────────┼───────────────────┤\n",
       "│ conv2d_4 (<span style=\"color: #0087ff; text-decoration-color: #0087ff\">Conv2D</span>)   │ (<span style=\"color: #00d7ff; text-decoration-color: #00d7ff\">None</span>, <span style=\"color: #00af00; text-decoration-color: #00af00\">126</span>, <span style=\"color: #00af00; text-decoration-color: #00af00\">749</span>,  │        <span style=\"color: #00af00; text-decoration-color: #00af00\">160</span> │ mel_spectrogram_… │\n",
       "│                     │ <span style=\"color: #00af00; text-decoration-color: #00af00\">16</span>)               │            │                   │\n",
       "├─────────────────────┼───────────────────┼────────────┼───────────────────┤\n",
       "│ conv2d_8 (<span style=\"color: #0087ff; text-decoration-color: #0087ff\">Conv2D</span>)   │ (<span style=\"color: #00d7ff; text-decoration-color: #00d7ff\">None</span>, <span style=\"color: #00af00; text-decoration-color: #00af00\">126</span>, <span style=\"color: #00af00; text-decoration-color: #00af00\">1249</span>, │        <span style=\"color: #00af00; text-decoration-color: #00af00\">160</span> │ mel_spectrogram_… │\n",
       "│                     │ <span style=\"color: #00af00; text-decoration-color: #00af00\">16</span>)               │            │                   │\n",
       "├─────────────────────┼───────────────────┼────────────┼───────────────────┤\n",
       "│ max_pooling2d       │ (<span style=\"color: #00d7ff; text-decoration-color: #00d7ff\">None</span>, <span style=\"color: #00af00; text-decoration-color: #00af00\">63</span>, <span style=\"color: #00af00; text-decoration-color: #00af00\">312</span>,   │          <span style=\"color: #00af00; text-decoration-color: #00af00\">0</span> │ conv2d[<span style=\"color: #00af00; text-decoration-color: #00af00\">0</span>][<span style=\"color: #00af00; text-decoration-color: #00af00\">0</span>]      │\n",
       "│ (<span style=\"color: #0087ff; text-decoration-color: #0087ff\">MaxPooling2D</span>)      │ <span style=\"color: #00af00; text-decoration-color: #00af00\">16</span>)               │            │                   │\n",
       "├─────────────────────┼───────────────────┼────────────┼───────────────────┤\n",
       "│ max_pooling2d_4     │ (<span style=\"color: #00d7ff; text-decoration-color: #00d7ff\">None</span>, <span style=\"color: #00af00; text-decoration-color: #00af00\">63</span>, <span style=\"color: #00af00; text-decoration-color: #00af00\">374</span>,   │          <span style=\"color: #00af00; text-decoration-color: #00af00\">0</span> │ conv2d_4[<span style=\"color: #00af00; text-decoration-color: #00af00\">0</span>][<span style=\"color: #00af00; text-decoration-color: #00af00\">0</span>]    │\n",
       "│ (<span style=\"color: #0087ff; text-decoration-color: #0087ff\">MaxPooling2D</span>)      │ <span style=\"color: #00af00; text-decoration-color: #00af00\">16</span>)               │            │                   │\n",
       "├─────────────────────┼───────────────────┼────────────┼───────────────────┤\n",
       "│ max_pooling2d_8     │ (<span style=\"color: #00d7ff; text-decoration-color: #00d7ff\">None</span>, <span style=\"color: #00af00; text-decoration-color: #00af00\">63</span>, <span style=\"color: #00af00; text-decoration-color: #00af00\">624</span>,   │          <span style=\"color: #00af00; text-decoration-color: #00af00\">0</span> │ conv2d_8[<span style=\"color: #00af00; text-decoration-color: #00af00\">0</span>][<span style=\"color: #00af00; text-decoration-color: #00af00\">0</span>]    │\n",
       "│ (<span style=\"color: #0087ff; text-decoration-color: #0087ff\">MaxPooling2D</span>)      │ <span style=\"color: #00af00; text-decoration-color: #00af00\">16</span>)               │            │                   │\n",
       "├─────────────────────┼───────────────────┼────────────┼───────────────────┤\n",
       "│ conv2d_1 (<span style=\"color: #0087ff; text-decoration-color: #0087ff\">Conv2D</span>)   │ (<span style=\"color: #00d7ff; text-decoration-color: #00d7ff\">None</span>, <span style=\"color: #00af00; text-decoration-color: #00af00\">61</span>, <span style=\"color: #00af00; text-decoration-color: #00af00\">310</span>,   │      <span style=\"color: #00af00; text-decoration-color: #00af00\">2,320</span> │ max_pooling2d[<span style=\"color: #00af00; text-decoration-color: #00af00\">0</span>]… │\n",
       "│                     │ <span style=\"color: #00af00; text-decoration-color: #00af00\">16</span>)               │            │                   │\n",
       "├─────────────────────┼───────────────────┼────────────┼───────────────────┤\n",
       "│ conv2d_5 (<span style=\"color: #0087ff; text-decoration-color: #0087ff\">Conv2D</span>)   │ (<span style=\"color: #00d7ff; text-decoration-color: #00d7ff\">None</span>, <span style=\"color: #00af00; text-decoration-color: #00af00\">61</span>, <span style=\"color: #00af00; text-decoration-color: #00af00\">372</span>,   │      <span style=\"color: #00af00; text-decoration-color: #00af00\">2,320</span> │ max_pooling2d_4[<span style=\"color: #00af00; text-decoration-color: #00af00\">…</span> │\n",
       "│                     │ <span style=\"color: #00af00; text-decoration-color: #00af00\">16</span>)               │            │                   │\n",
       "├─────────────────────┼───────────────────┼────────────┼───────────────────┤\n",
       "│ conv2d_9 (<span style=\"color: #0087ff; text-decoration-color: #0087ff\">Conv2D</span>)   │ (<span style=\"color: #00d7ff; text-decoration-color: #00d7ff\">None</span>, <span style=\"color: #00af00; text-decoration-color: #00af00\">61</span>, <span style=\"color: #00af00; text-decoration-color: #00af00\">622</span>,   │      <span style=\"color: #00af00; text-decoration-color: #00af00\">2,320</span> │ max_pooling2d_8[<span style=\"color: #00af00; text-decoration-color: #00af00\">…</span> │\n",
       "│                     │ <span style=\"color: #00af00; text-decoration-color: #00af00\">16</span>)               │            │                   │\n",
       "├─────────────────────┼───────────────────┼────────────┼───────────────────┤\n",
       "│ max_pooling2d_1     │ (<span style=\"color: #00d7ff; text-decoration-color: #00d7ff\">None</span>, <span style=\"color: #00af00; text-decoration-color: #00af00\">30</span>, <span style=\"color: #00af00; text-decoration-color: #00af00\">155</span>,   │          <span style=\"color: #00af00; text-decoration-color: #00af00\">0</span> │ conv2d_1[<span style=\"color: #00af00; text-decoration-color: #00af00\">0</span>][<span style=\"color: #00af00; text-decoration-color: #00af00\">0</span>]    │\n",
       "│ (<span style=\"color: #0087ff; text-decoration-color: #0087ff\">MaxPooling2D</span>)      │ <span style=\"color: #00af00; text-decoration-color: #00af00\">16</span>)               │            │                   │\n",
       "├─────────────────────┼───────────────────┼────────────┼───────────────────┤\n",
       "│ max_pooling2d_5     │ (<span style=\"color: #00d7ff; text-decoration-color: #00d7ff\">None</span>, <span style=\"color: #00af00; text-decoration-color: #00af00\">30</span>, <span style=\"color: #00af00; text-decoration-color: #00af00\">186</span>,   │          <span style=\"color: #00af00; text-decoration-color: #00af00\">0</span> │ conv2d_5[<span style=\"color: #00af00; text-decoration-color: #00af00\">0</span>][<span style=\"color: #00af00; text-decoration-color: #00af00\">0</span>]    │\n",
       "│ (<span style=\"color: #0087ff; text-decoration-color: #0087ff\">MaxPooling2D</span>)      │ <span style=\"color: #00af00; text-decoration-color: #00af00\">16</span>)               │            │                   │\n",
       "├─────────────────────┼───────────────────┼────────────┼───────────────────┤\n",
       "│ max_pooling2d_9     │ (<span style=\"color: #00d7ff; text-decoration-color: #00d7ff\">None</span>, <span style=\"color: #00af00; text-decoration-color: #00af00\">30</span>, <span style=\"color: #00af00; text-decoration-color: #00af00\">311</span>,   │          <span style=\"color: #00af00; text-decoration-color: #00af00\">0</span> │ conv2d_9[<span style=\"color: #00af00; text-decoration-color: #00af00\">0</span>][<span style=\"color: #00af00; text-decoration-color: #00af00\">0</span>]    │\n",
       "│ (<span style=\"color: #0087ff; text-decoration-color: #0087ff\">MaxPooling2D</span>)      │ <span style=\"color: #00af00; text-decoration-color: #00af00\">16</span>)               │            │                   │\n",
       "├─────────────────────┼───────────────────┼────────────┼───────────────────┤\n",
       "│ other_features      │ (<span style=\"color: #00d7ff; text-decoration-color: #00d7ff\">None</span>, <span style=\"color: #00af00; text-decoration-color: #00af00\">6</span>)         │          <span style=\"color: #00af00; text-decoration-color: #00af00\">0</span> │ -                 │\n",
       "│ (<span style=\"color: #0087ff; text-decoration-color: #0087ff\">InputLayer</span>)        │                   │            │                   │\n",
       "├─────────────────────┼───────────────────┼────────────┼───────────────────┤\n",
       "│ conv2d_2 (<span style=\"color: #0087ff; text-decoration-color: #0087ff\">Conv2D</span>)   │ (<span style=\"color: #00d7ff; text-decoration-color: #00d7ff\">None</span>, <span style=\"color: #00af00; text-decoration-color: #00af00\">28</span>, <span style=\"color: #00af00; text-decoration-color: #00af00\">153</span>,   │      <span style=\"color: #00af00; text-decoration-color: #00af00\">4,640</span> │ max_pooling2d_1[<span style=\"color: #00af00; text-decoration-color: #00af00\">…</span> │\n",
       "│                     │ <span style=\"color: #00af00; text-decoration-color: #00af00\">32</span>)               │            │                   │\n",
       "├─────────────────────┼───────────────────┼────────────┼───────────────────┤\n",
       "│ conv2d_6 (<span style=\"color: #0087ff; text-decoration-color: #0087ff\">Conv2D</span>)   │ (<span style=\"color: #00d7ff; text-decoration-color: #00d7ff\">None</span>, <span style=\"color: #00af00; text-decoration-color: #00af00\">28</span>, <span style=\"color: #00af00; text-decoration-color: #00af00\">184</span>,   │      <span style=\"color: #00af00; text-decoration-color: #00af00\">4,640</span> │ max_pooling2d_5[<span style=\"color: #00af00; text-decoration-color: #00af00\">…</span> │\n",
       "│                     │ <span style=\"color: #00af00; text-decoration-color: #00af00\">32</span>)               │            │                   │\n",
       "├─────────────────────┼───────────────────┼────────────┼───────────────────┤\n",
       "│ conv2d_10 (<span style=\"color: #0087ff; text-decoration-color: #0087ff\">Conv2D</span>)  │ (<span style=\"color: #00d7ff; text-decoration-color: #00d7ff\">None</span>, <span style=\"color: #00af00; text-decoration-color: #00af00\">28</span>, <span style=\"color: #00af00; text-decoration-color: #00af00\">309</span>,   │      <span style=\"color: #00af00; text-decoration-color: #00af00\">4,640</span> │ max_pooling2d_9[<span style=\"color: #00af00; text-decoration-color: #00af00\">…</span> │\n",
       "│                     │ <span style=\"color: #00af00; text-decoration-color: #00af00\">32</span>)               │            │                   │\n",
       "├─────────────────────┼───────────────────┼────────────┼───────────────────┤\n",
       "│ dense (<span style=\"color: #0087ff; text-decoration-color: #0087ff\">Dense</span>)       │ (<span style=\"color: #00d7ff; text-decoration-color: #00d7ff\">None</span>, <span style=\"color: #00af00; text-decoration-color: #00af00\">64</span>)        │        <span style=\"color: #00af00; text-decoration-color: #00af00\">448</span> │ other_features[<span style=\"color: #00af00; text-decoration-color: #00af00\">0</span>… │\n",
       "├─────────────────────┼───────────────────┼────────────┼───────────────────┤\n",
       "│ max_pooling2d_2     │ (<span style=\"color: #00d7ff; text-decoration-color: #00d7ff\">None</span>, <span style=\"color: #00af00; text-decoration-color: #00af00\">14</span>, <span style=\"color: #00af00; text-decoration-color: #00af00\">76</span>,    │          <span style=\"color: #00af00; text-decoration-color: #00af00\">0</span> │ conv2d_2[<span style=\"color: #00af00; text-decoration-color: #00af00\">0</span>][<span style=\"color: #00af00; text-decoration-color: #00af00\">0</span>]    │\n",
       "│ (<span style=\"color: #0087ff; text-decoration-color: #0087ff\">MaxPooling2D</span>)      │ <span style=\"color: #00af00; text-decoration-color: #00af00\">32</span>)               │            │                   │\n",
       "├─────────────────────┼───────────────────┼────────────┼───────────────────┤\n",
       "│ max_pooling2d_6     │ (<span style=\"color: #00d7ff; text-decoration-color: #00d7ff\">None</span>, <span style=\"color: #00af00; text-decoration-color: #00af00\">14</span>, <span style=\"color: #00af00; text-decoration-color: #00af00\">92</span>,    │          <span style=\"color: #00af00; text-decoration-color: #00af00\">0</span> │ conv2d_6[<span style=\"color: #00af00; text-decoration-color: #00af00\">0</span>][<span style=\"color: #00af00; text-decoration-color: #00af00\">0</span>]    │\n",
       "│ (<span style=\"color: #0087ff; text-decoration-color: #0087ff\">MaxPooling2D</span>)      │ <span style=\"color: #00af00; text-decoration-color: #00af00\">32</span>)               │            │                   │\n",
       "├─────────────────────┼───────────────────┼────────────┼───────────────────┤\n",
       "│ max_pooling2d_10    │ (<span style=\"color: #00d7ff; text-decoration-color: #00d7ff\">None</span>, <span style=\"color: #00af00; text-decoration-color: #00af00\">14</span>, <span style=\"color: #00af00; text-decoration-color: #00af00\">154</span>,   │          <span style=\"color: #00af00; text-decoration-color: #00af00\">0</span> │ conv2d_10[<span style=\"color: #00af00; text-decoration-color: #00af00\">0</span>][<span style=\"color: #00af00; text-decoration-color: #00af00\">0</span>]   │\n",
       "│ (<span style=\"color: #0087ff; text-decoration-color: #0087ff\">MaxPooling2D</span>)      │ <span style=\"color: #00af00; text-decoration-color: #00af00\">32</span>)               │            │                   │\n",
       "├─────────────────────┼───────────────────┼────────────┼───────────────────┤\n",
       "│ dense_1 (<span style=\"color: #0087ff; text-decoration-color: #0087ff\">Dense</span>)     │ (<span style=\"color: #00d7ff; text-decoration-color: #00d7ff\">None</span>, <span style=\"color: #00af00; text-decoration-color: #00af00\">128</span>)       │      <span style=\"color: #00af00; text-decoration-color: #00af00\">8,320</span> │ dense[<span style=\"color: #00af00; text-decoration-color: #00af00\">0</span>][<span style=\"color: #00af00; text-decoration-color: #00af00\">0</span>]       │\n",
       "├─────────────────────┼───────────────────┼────────────┼───────────────────┤\n",
       "│ conv2d_3 (<span style=\"color: #0087ff; text-decoration-color: #0087ff\">Conv2D</span>)   │ (<span style=\"color: #00d7ff; text-decoration-color: #00d7ff\">None</span>, <span style=\"color: #00af00; text-decoration-color: #00af00\">12</span>, <span style=\"color: #00af00; text-decoration-color: #00af00\">74</span>,    │     <span style=\"color: #00af00; text-decoration-color: #00af00\">18,496</span> │ max_pooling2d_2[<span style=\"color: #00af00; text-decoration-color: #00af00\">…</span> │\n",
       "│                     │ <span style=\"color: #00af00; text-decoration-color: #00af00\">64</span>)               │            │                   │\n",
       "├─────────────────────┼───────────────────┼────────────┼───────────────────┤\n",
       "│ conv2d_7 (<span style=\"color: #0087ff; text-decoration-color: #0087ff\">Conv2D</span>)   │ (<span style=\"color: #00d7ff; text-decoration-color: #00d7ff\">None</span>, <span style=\"color: #00af00; text-decoration-color: #00af00\">12</span>, <span style=\"color: #00af00; text-decoration-color: #00af00\">90</span>,    │     <span style=\"color: #00af00; text-decoration-color: #00af00\">18,496</span> │ max_pooling2d_6[<span style=\"color: #00af00; text-decoration-color: #00af00\">…</span> │\n",
       "│                     │ <span style=\"color: #00af00; text-decoration-color: #00af00\">64</span>)               │            │                   │\n",
       "├─────────────────────┼───────────────────┼────────────┼───────────────────┤\n",
       "│ conv2d_11 (<span style=\"color: #0087ff; text-decoration-color: #0087ff\">Conv2D</span>)  │ (<span style=\"color: #00d7ff; text-decoration-color: #00d7ff\">None</span>, <span style=\"color: #00af00; text-decoration-color: #00af00\">12</span>, <span style=\"color: #00af00; text-decoration-color: #00af00\">152</span>,   │     <span style=\"color: #00af00; text-decoration-color: #00af00\">18,496</span> │ max_pooling2d_10… │\n",
       "│                     │ <span style=\"color: #00af00; text-decoration-color: #00af00\">64</span>)               │            │                   │\n",
       "├─────────────────────┼───────────────────┼────────────┼───────────────────┤\n",
       "│ dropout (<span style=\"color: #0087ff; text-decoration-color: #0087ff\">Dropout</span>)   │ (<span style=\"color: #00d7ff; text-decoration-color: #00d7ff\">None</span>, <span style=\"color: #00af00; text-decoration-color: #00af00\">128</span>)       │          <span style=\"color: #00af00; text-decoration-color: #00af00\">0</span> │ dense_1[<span style=\"color: #00af00; text-decoration-color: #00af00\">0</span>][<span style=\"color: #00af00; text-decoration-color: #00af00\">0</span>]     │\n",
       "├─────────────────────┼───────────────────┼────────────┼───────────────────┤\n",
       "│ max_pooling2d_3     │ (<span style=\"color: #00d7ff; text-decoration-color: #00d7ff\">None</span>, <span style=\"color: #00af00; text-decoration-color: #00af00\">6</span>, <span style=\"color: #00af00; text-decoration-color: #00af00\">37</span>, <span style=\"color: #00af00; text-decoration-color: #00af00\">64</span>) │          <span style=\"color: #00af00; text-decoration-color: #00af00\">0</span> │ conv2d_3[<span style=\"color: #00af00; text-decoration-color: #00af00\">0</span>][<span style=\"color: #00af00; text-decoration-color: #00af00\">0</span>]    │\n",
       "│ (<span style=\"color: #0087ff; text-decoration-color: #0087ff\">MaxPooling2D</span>)      │                   │            │                   │\n",
       "├─────────────────────┼───────────────────┼────────────┼───────────────────┤\n",
       "│ max_pooling2d_7     │ (<span style=\"color: #00d7ff; text-decoration-color: #00d7ff\">None</span>, <span style=\"color: #00af00; text-decoration-color: #00af00\">6</span>, <span style=\"color: #00af00; text-decoration-color: #00af00\">45</span>, <span style=\"color: #00af00; text-decoration-color: #00af00\">64</span>) │          <span style=\"color: #00af00; text-decoration-color: #00af00\">0</span> │ conv2d_7[<span style=\"color: #00af00; text-decoration-color: #00af00\">0</span>][<span style=\"color: #00af00; text-decoration-color: #00af00\">0</span>]    │\n",
       "│ (<span style=\"color: #0087ff; text-decoration-color: #0087ff\">MaxPooling2D</span>)      │                   │            │                   │\n",
       "├─────────────────────┼───────────────────┼────────────┼───────────────────┤\n",
       "│ max_pooling2d_11    │ (<span style=\"color: #00d7ff; text-decoration-color: #00d7ff\">None</span>, <span style=\"color: #00af00; text-decoration-color: #00af00\">6</span>, <span style=\"color: #00af00; text-decoration-color: #00af00\">76</span>, <span style=\"color: #00af00; text-decoration-color: #00af00\">64</span>) │          <span style=\"color: #00af00; text-decoration-color: #00af00\">0</span> │ conv2d_11[<span style=\"color: #00af00; text-decoration-color: #00af00\">0</span>][<span style=\"color: #00af00; text-decoration-color: #00af00\">0</span>]   │\n",
       "│ (<span style=\"color: #0087ff; text-decoration-color: #0087ff\">MaxPooling2D</span>)      │                   │            │                   │\n",
       "├─────────────────────┼───────────────────┼────────────┼───────────────────┤\n",
       "│ dense_2 (<span style=\"color: #0087ff; text-decoration-color: #0087ff\">Dense</span>)     │ (<span style=\"color: #00d7ff; text-decoration-color: #00d7ff\">None</span>, <span style=\"color: #00af00; text-decoration-color: #00af00\">128</span>)       │     <span style=\"color: #00af00; text-decoration-color: #00af00\">16,512</span> │ dropout[<span style=\"color: #00af00; text-decoration-color: #00af00\">0</span>][<span style=\"color: #00af00; text-decoration-color: #00af00\">0</span>]     │\n",
       "├─────────────────────┼───────────────────┼────────────┼───────────────────┤\n",
       "│ global_average_poo… │ (<span style=\"color: #00d7ff; text-decoration-color: #00d7ff\">None</span>, <span style=\"color: #00af00; text-decoration-color: #00af00\">64</span>)        │          <span style=\"color: #00af00; text-decoration-color: #00af00\">0</span> │ max_pooling2d_3[<span style=\"color: #00af00; text-decoration-color: #00af00\">…</span> │\n",
       "│ (<span style=\"color: #0087ff; text-decoration-color: #0087ff\">GlobalAveragePool…</span> │                   │            │                   │\n",
       "├─────────────────────┼───────────────────┼────────────┼───────────────────┤\n",
       "│ global_average_poo… │ (<span style=\"color: #00d7ff; text-decoration-color: #00d7ff\">None</span>, <span style=\"color: #00af00; text-decoration-color: #00af00\">64</span>)        │          <span style=\"color: #00af00; text-decoration-color: #00af00\">0</span> │ max_pooling2d_7[<span style=\"color: #00af00; text-decoration-color: #00af00\">…</span> │\n",
       "│ (<span style=\"color: #0087ff; text-decoration-color: #0087ff\">GlobalAveragePool…</span> │                   │            │                   │\n",
       "├─────────────────────┼───────────────────┼────────────┼───────────────────┤\n",
       "│ global_average_poo… │ (<span style=\"color: #00d7ff; text-decoration-color: #00d7ff\">None</span>, <span style=\"color: #00af00; text-decoration-color: #00af00\">64</span>)        │          <span style=\"color: #00af00; text-decoration-color: #00af00\">0</span> │ max_pooling2d_11… │\n",
       "│ (<span style=\"color: #0087ff; text-decoration-color: #0087ff\">GlobalAveragePool…</span> │                   │            │                   │\n",
       "├─────────────────────┼───────────────────┼────────────┼───────────────────┤\n",
       "│ dense_3 (<span style=\"color: #0087ff; text-decoration-color: #0087ff\">Dense</span>)     │ (<span style=\"color: #00d7ff; text-decoration-color: #00d7ff\">None</span>, <span style=\"color: #00af00; text-decoration-color: #00af00\">64</span>)        │      <span style=\"color: #00af00; text-decoration-color: #00af00\">8,256</span> │ dense_2[<span style=\"color: #00af00; text-decoration-color: #00af00\">0</span>][<span style=\"color: #00af00; text-decoration-color: #00af00\">0</span>]     │\n",
       "├─────────────────────┼───────────────────┼────────────┼───────────────────┤\n",
       "│ concatenate         │ (<span style=\"color: #00d7ff; text-decoration-color: #00d7ff\">None</span>, <span style=\"color: #00af00; text-decoration-color: #00af00\">256</span>)       │          <span style=\"color: #00af00; text-decoration-color: #00af00\">0</span> │ global_average_p… │\n",
       "│ (<span style=\"color: #0087ff; text-decoration-color: #0087ff\">Concatenate</span>)       │                   │            │ global_average_p… │\n",
       "│                     │                   │            │ global_average_p… │\n",
       "│                     │                   │            │ dense_3[<span style=\"color: #00af00; text-decoration-color: #00af00\">0</span>][<span style=\"color: #00af00; text-decoration-color: #00af00\">0</span>]     │\n",
       "├─────────────────────┼───────────────────┼────────────┼───────────────────┤\n",
       "│ dense_4 (<span style=\"color: #0087ff; text-decoration-color: #0087ff\">Dense</span>)     │ (<span style=\"color: #00d7ff; text-decoration-color: #00d7ff\">None</span>, <span style=\"color: #00af00; text-decoration-color: #00af00\">128</span>)       │     <span style=\"color: #00af00; text-decoration-color: #00af00\">32,896</span> │ concatenate[<span style=\"color: #00af00; text-decoration-color: #00af00\">0</span>][<span style=\"color: #00af00; text-decoration-color: #00af00\">0</span>] │\n",
       "├─────────────────────┼───────────────────┼────────────┼───────────────────┤\n",
       "│ dropout_1 (<span style=\"color: #0087ff; text-decoration-color: #0087ff\">Dropout</span>) │ (<span style=\"color: #00d7ff; text-decoration-color: #00d7ff\">None</span>, <span style=\"color: #00af00; text-decoration-color: #00af00\">128</span>)       │          <span style=\"color: #00af00; text-decoration-color: #00af00\">0</span> │ dense_4[<span style=\"color: #00af00; text-decoration-color: #00af00\">0</span>][<span style=\"color: #00af00; text-decoration-color: #00af00\">0</span>]     │\n",
       "├─────────────────────┼───────────────────┼────────────┼───────────────────┤\n",
       "│ dense_5 (<span style=\"color: #0087ff; text-decoration-color: #0087ff\">Dense</span>)     │ (<span style=\"color: #00d7ff; text-decoration-color: #00d7ff\">None</span>, <span style=\"color: #00af00; text-decoration-color: #00af00\">64</span>)        │      <span style=\"color: #00af00; text-decoration-color: #00af00\">8,256</span> │ dropout_1[<span style=\"color: #00af00; text-decoration-color: #00af00\">0</span>][<span style=\"color: #00af00; text-decoration-color: #00af00\">0</span>]   │\n",
       "├─────────────────────┼───────────────────┼────────────┼───────────────────┤\n",
       "│ dense_6 (<span style=\"color: #0087ff; text-decoration-color: #0087ff\">Dense</span>)     │ (<span style=\"color: #00d7ff; text-decoration-color: #00d7ff\">None</span>, <span style=\"color: #00af00; text-decoration-color: #00af00\">1</span>)         │         <span style=\"color: #00af00; text-decoration-color: #00af00\">65</span> │ dense_5[<span style=\"color: #00af00; text-decoration-color: #00af00\">0</span>][<span style=\"color: #00af00; text-decoration-color: #00af00\">0</span>]     │\n",
       "└─────────────────────┴───────────────────┴────────────┴───────────────────┘\n",
       "</pre>\n"
      ],
      "text/plain": [
       "┏━━━━━━━━━━━━━━━━━━━━━┳━━━━━━━━━━━━━━━━━━━┳━━━━━━━━━━━━┳━━━━━━━━━━━━━━━━━━━┓\n",
       "┃\u001b[1m \u001b[0m\u001b[1mLayer (type)       \u001b[0m\u001b[1m \u001b[0m┃\u001b[1m \u001b[0m\u001b[1mOutput Shape     \u001b[0m\u001b[1m \u001b[0m┃\u001b[1m \u001b[0m\u001b[1m   Param #\u001b[0m\u001b[1m \u001b[0m┃\u001b[1m \u001b[0m\u001b[1mConnected to     \u001b[0m\u001b[1m \u001b[0m┃\n",
       "┡━━━━━━━━━━━━━━━━━━━━━╇━━━━━━━━━━━━━━━━━━━╇━━━━━━━━━━━━╇━━━━━━━━━━━━━━━━━━━┩\n",
       "│ mel_spectrogram_br… │ (\u001b[38;5;45mNone\u001b[0m, \u001b[38;5;34m128\u001b[0m, \u001b[38;5;34m626\u001b[0m,  │          \u001b[38;5;34m0\u001b[0m │ -                 │\n",
       "│ (\u001b[38;5;33mInputLayer\u001b[0m)        │ \u001b[38;5;34m1\u001b[0m)                │            │                   │\n",
       "├─────────────────────┼───────────────────┼────────────┼───────────────────┤\n",
       "│ mel_spectrogram_co… │ (\u001b[38;5;45mNone\u001b[0m, \u001b[38;5;34m128\u001b[0m, \u001b[38;5;34m751\u001b[0m,  │          \u001b[38;5;34m0\u001b[0m │ -                 │\n",
       "│ (\u001b[38;5;33mInputLayer\u001b[0m)        │ \u001b[38;5;34m1\u001b[0m)                │            │                   │\n",
       "├─────────────────────┼───────────────────┼────────────┼───────────────────┤\n",
       "│ mel_spectrogram_sp… │ (\u001b[38;5;45mNone\u001b[0m, \u001b[38;5;34m128\u001b[0m, \u001b[38;5;34m1251\u001b[0m, │          \u001b[38;5;34m0\u001b[0m │ -                 │\n",
       "│ (\u001b[38;5;33mInputLayer\u001b[0m)        │ \u001b[38;5;34m1\u001b[0m)                │            │                   │\n",
       "├─────────────────────┼───────────────────┼────────────┼───────────────────┤\n",
       "│ conv2d (\u001b[38;5;33mConv2D\u001b[0m)     │ (\u001b[38;5;45mNone\u001b[0m, \u001b[38;5;34m126\u001b[0m, \u001b[38;5;34m624\u001b[0m,  │        \u001b[38;5;34m160\u001b[0m │ mel_spectrogram_… │\n",
       "│                     │ \u001b[38;5;34m16\u001b[0m)               │            │                   │\n",
       "├─────────────────────┼───────────────────┼────────────┼───────────────────┤\n",
       "│ conv2d_4 (\u001b[38;5;33mConv2D\u001b[0m)   │ (\u001b[38;5;45mNone\u001b[0m, \u001b[38;5;34m126\u001b[0m, \u001b[38;5;34m749\u001b[0m,  │        \u001b[38;5;34m160\u001b[0m │ mel_spectrogram_… │\n",
       "│                     │ \u001b[38;5;34m16\u001b[0m)               │            │                   │\n",
       "├─────────────────────┼───────────────────┼────────────┼───────────────────┤\n",
       "│ conv2d_8 (\u001b[38;5;33mConv2D\u001b[0m)   │ (\u001b[38;5;45mNone\u001b[0m, \u001b[38;5;34m126\u001b[0m, \u001b[38;5;34m1249\u001b[0m, │        \u001b[38;5;34m160\u001b[0m │ mel_spectrogram_… │\n",
       "│                     │ \u001b[38;5;34m16\u001b[0m)               │            │                   │\n",
       "├─────────────────────┼───────────────────┼────────────┼───────────────────┤\n",
       "│ max_pooling2d       │ (\u001b[38;5;45mNone\u001b[0m, \u001b[38;5;34m63\u001b[0m, \u001b[38;5;34m312\u001b[0m,   │          \u001b[38;5;34m0\u001b[0m │ conv2d[\u001b[38;5;34m0\u001b[0m][\u001b[38;5;34m0\u001b[0m]      │\n",
       "│ (\u001b[38;5;33mMaxPooling2D\u001b[0m)      │ \u001b[38;5;34m16\u001b[0m)               │            │                   │\n",
       "├─────────────────────┼───────────────────┼────────────┼───────────────────┤\n",
       "│ max_pooling2d_4     │ (\u001b[38;5;45mNone\u001b[0m, \u001b[38;5;34m63\u001b[0m, \u001b[38;5;34m374\u001b[0m,   │          \u001b[38;5;34m0\u001b[0m │ conv2d_4[\u001b[38;5;34m0\u001b[0m][\u001b[38;5;34m0\u001b[0m]    │\n",
       "│ (\u001b[38;5;33mMaxPooling2D\u001b[0m)      │ \u001b[38;5;34m16\u001b[0m)               │            │                   │\n",
       "├─────────────────────┼───────────────────┼────────────┼───────────────────┤\n",
       "│ max_pooling2d_8     │ (\u001b[38;5;45mNone\u001b[0m, \u001b[38;5;34m63\u001b[0m, \u001b[38;5;34m624\u001b[0m,   │          \u001b[38;5;34m0\u001b[0m │ conv2d_8[\u001b[38;5;34m0\u001b[0m][\u001b[38;5;34m0\u001b[0m]    │\n",
       "│ (\u001b[38;5;33mMaxPooling2D\u001b[0m)      │ \u001b[38;5;34m16\u001b[0m)               │            │                   │\n",
       "├─────────────────────┼───────────────────┼────────────┼───────────────────┤\n",
       "│ conv2d_1 (\u001b[38;5;33mConv2D\u001b[0m)   │ (\u001b[38;5;45mNone\u001b[0m, \u001b[38;5;34m61\u001b[0m, \u001b[38;5;34m310\u001b[0m,   │      \u001b[38;5;34m2,320\u001b[0m │ max_pooling2d[\u001b[38;5;34m0\u001b[0m]… │\n",
       "│                     │ \u001b[38;5;34m16\u001b[0m)               │            │                   │\n",
       "├─────────────────────┼───────────────────┼────────────┼───────────────────┤\n",
       "│ conv2d_5 (\u001b[38;5;33mConv2D\u001b[0m)   │ (\u001b[38;5;45mNone\u001b[0m, \u001b[38;5;34m61\u001b[0m, \u001b[38;5;34m372\u001b[0m,   │      \u001b[38;5;34m2,320\u001b[0m │ max_pooling2d_4[\u001b[38;5;34m…\u001b[0m │\n",
       "│                     │ \u001b[38;5;34m16\u001b[0m)               │            │                   │\n",
       "├─────────────────────┼───────────────────┼────────────┼───────────────────┤\n",
       "│ conv2d_9 (\u001b[38;5;33mConv2D\u001b[0m)   │ (\u001b[38;5;45mNone\u001b[0m, \u001b[38;5;34m61\u001b[0m, \u001b[38;5;34m622\u001b[0m,   │      \u001b[38;5;34m2,320\u001b[0m │ max_pooling2d_8[\u001b[38;5;34m…\u001b[0m │\n",
       "│                     │ \u001b[38;5;34m16\u001b[0m)               │            │                   │\n",
       "├─────────────────────┼───────────────────┼────────────┼───────────────────┤\n",
       "│ max_pooling2d_1     │ (\u001b[38;5;45mNone\u001b[0m, \u001b[38;5;34m30\u001b[0m, \u001b[38;5;34m155\u001b[0m,   │          \u001b[38;5;34m0\u001b[0m │ conv2d_1[\u001b[38;5;34m0\u001b[0m][\u001b[38;5;34m0\u001b[0m]    │\n",
       "│ (\u001b[38;5;33mMaxPooling2D\u001b[0m)      │ \u001b[38;5;34m16\u001b[0m)               │            │                   │\n",
       "├─────────────────────┼───────────────────┼────────────┼───────────────────┤\n",
       "│ max_pooling2d_5     │ (\u001b[38;5;45mNone\u001b[0m, \u001b[38;5;34m30\u001b[0m, \u001b[38;5;34m186\u001b[0m,   │          \u001b[38;5;34m0\u001b[0m │ conv2d_5[\u001b[38;5;34m0\u001b[0m][\u001b[38;5;34m0\u001b[0m]    │\n",
       "│ (\u001b[38;5;33mMaxPooling2D\u001b[0m)      │ \u001b[38;5;34m16\u001b[0m)               │            │                   │\n",
       "├─────────────────────┼───────────────────┼────────────┼───────────────────┤\n",
       "│ max_pooling2d_9     │ (\u001b[38;5;45mNone\u001b[0m, \u001b[38;5;34m30\u001b[0m, \u001b[38;5;34m311\u001b[0m,   │          \u001b[38;5;34m0\u001b[0m │ conv2d_9[\u001b[38;5;34m0\u001b[0m][\u001b[38;5;34m0\u001b[0m]    │\n",
       "│ (\u001b[38;5;33mMaxPooling2D\u001b[0m)      │ \u001b[38;5;34m16\u001b[0m)               │            │                   │\n",
       "├─────────────────────┼───────────────────┼────────────┼───────────────────┤\n",
       "│ other_features      │ (\u001b[38;5;45mNone\u001b[0m, \u001b[38;5;34m6\u001b[0m)         │          \u001b[38;5;34m0\u001b[0m │ -                 │\n",
       "│ (\u001b[38;5;33mInputLayer\u001b[0m)        │                   │            │                   │\n",
       "├─────────────────────┼───────────────────┼────────────┼───────────────────┤\n",
       "│ conv2d_2 (\u001b[38;5;33mConv2D\u001b[0m)   │ (\u001b[38;5;45mNone\u001b[0m, \u001b[38;5;34m28\u001b[0m, \u001b[38;5;34m153\u001b[0m,   │      \u001b[38;5;34m4,640\u001b[0m │ max_pooling2d_1[\u001b[38;5;34m…\u001b[0m │\n",
       "│                     │ \u001b[38;5;34m32\u001b[0m)               │            │                   │\n",
       "├─────────────────────┼───────────────────┼────────────┼───────────────────┤\n",
       "│ conv2d_6 (\u001b[38;5;33mConv2D\u001b[0m)   │ (\u001b[38;5;45mNone\u001b[0m, \u001b[38;5;34m28\u001b[0m, \u001b[38;5;34m184\u001b[0m,   │      \u001b[38;5;34m4,640\u001b[0m │ max_pooling2d_5[\u001b[38;5;34m…\u001b[0m │\n",
       "│                     │ \u001b[38;5;34m32\u001b[0m)               │            │                   │\n",
       "├─────────────────────┼───────────────────┼────────────┼───────────────────┤\n",
       "│ conv2d_10 (\u001b[38;5;33mConv2D\u001b[0m)  │ (\u001b[38;5;45mNone\u001b[0m, \u001b[38;5;34m28\u001b[0m, \u001b[38;5;34m309\u001b[0m,   │      \u001b[38;5;34m4,640\u001b[0m │ max_pooling2d_9[\u001b[38;5;34m…\u001b[0m │\n",
       "│                     │ \u001b[38;5;34m32\u001b[0m)               │            │                   │\n",
       "├─────────────────────┼───────────────────┼────────────┼───────────────────┤\n",
       "│ dense (\u001b[38;5;33mDense\u001b[0m)       │ (\u001b[38;5;45mNone\u001b[0m, \u001b[38;5;34m64\u001b[0m)        │        \u001b[38;5;34m448\u001b[0m │ other_features[\u001b[38;5;34m0\u001b[0m… │\n",
       "├─────────────────────┼───────────────────┼────────────┼───────────────────┤\n",
       "│ max_pooling2d_2     │ (\u001b[38;5;45mNone\u001b[0m, \u001b[38;5;34m14\u001b[0m, \u001b[38;5;34m76\u001b[0m,    │          \u001b[38;5;34m0\u001b[0m │ conv2d_2[\u001b[38;5;34m0\u001b[0m][\u001b[38;5;34m0\u001b[0m]    │\n",
       "│ (\u001b[38;5;33mMaxPooling2D\u001b[0m)      │ \u001b[38;5;34m32\u001b[0m)               │            │                   │\n",
       "├─────────────────────┼───────────────────┼────────────┼───────────────────┤\n",
       "│ max_pooling2d_6     │ (\u001b[38;5;45mNone\u001b[0m, \u001b[38;5;34m14\u001b[0m, \u001b[38;5;34m92\u001b[0m,    │          \u001b[38;5;34m0\u001b[0m │ conv2d_6[\u001b[38;5;34m0\u001b[0m][\u001b[38;5;34m0\u001b[0m]    │\n",
       "│ (\u001b[38;5;33mMaxPooling2D\u001b[0m)      │ \u001b[38;5;34m32\u001b[0m)               │            │                   │\n",
       "├─────────────────────┼───────────────────┼────────────┼───────────────────┤\n",
       "│ max_pooling2d_10    │ (\u001b[38;5;45mNone\u001b[0m, \u001b[38;5;34m14\u001b[0m, \u001b[38;5;34m154\u001b[0m,   │          \u001b[38;5;34m0\u001b[0m │ conv2d_10[\u001b[38;5;34m0\u001b[0m][\u001b[38;5;34m0\u001b[0m]   │\n",
       "│ (\u001b[38;5;33mMaxPooling2D\u001b[0m)      │ \u001b[38;5;34m32\u001b[0m)               │            │                   │\n",
       "├─────────────────────┼───────────────────┼────────────┼───────────────────┤\n",
       "│ dense_1 (\u001b[38;5;33mDense\u001b[0m)     │ (\u001b[38;5;45mNone\u001b[0m, \u001b[38;5;34m128\u001b[0m)       │      \u001b[38;5;34m8,320\u001b[0m │ dense[\u001b[38;5;34m0\u001b[0m][\u001b[38;5;34m0\u001b[0m]       │\n",
       "├─────────────────────┼───────────────────┼────────────┼───────────────────┤\n",
       "│ conv2d_3 (\u001b[38;5;33mConv2D\u001b[0m)   │ (\u001b[38;5;45mNone\u001b[0m, \u001b[38;5;34m12\u001b[0m, \u001b[38;5;34m74\u001b[0m,    │     \u001b[38;5;34m18,496\u001b[0m │ max_pooling2d_2[\u001b[38;5;34m…\u001b[0m │\n",
       "│                     │ \u001b[38;5;34m64\u001b[0m)               │            │                   │\n",
       "├─────────────────────┼───────────────────┼────────────┼───────────────────┤\n",
       "│ conv2d_7 (\u001b[38;5;33mConv2D\u001b[0m)   │ (\u001b[38;5;45mNone\u001b[0m, \u001b[38;5;34m12\u001b[0m, \u001b[38;5;34m90\u001b[0m,    │     \u001b[38;5;34m18,496\u001b[0m │ max_pooling2d_6[\u001b[38;5;34m…\u001b[0m │\n",
       "│                     │ \u001b[38;5;34m64\u001b[0m)               │            │                   │\n",
       "├─────────────────────┼───────────────────┼────────────┼───────────────────┤\n",
       "│ conv2d_11 (\u001b[38;5;33mConv2D\u001b[0m)  │ (\u001b[38;5;45mNone\u001b[0m, \u001b[38;5;34m12\u001b[0m, \u001b[38;5;34m152\u001b[0m,   │     \u001b[38;5;34m18,496\u001b[0m │ max_pooling2d_10… │\n",
       "│                     │ \u001b[38;5;34m64\u001b[0m)               │            │                   │\n",
       "├─────────────────────┼───────────────────┼────────────┼───────────────────┤\n",
       "│ dropout (\u001b[38;5;33mDropout\u001b[0m)   │ (\u001b[38;5;45mNone\u001b[0m, \u001b[38;5;34m128\u001b[0m)       │          \u001b[38;5;34m0\u001b[0m │ dense_1[\u001b[38;5;34m0\u001b[0m][\u001b[38;5;34m0\u001b[0m]     │\n",
       "├─────────────────────┼───────────────────┼────────────┼───────────────────┤\n",
       "│ max_pooling2d_3     │ (\u001b[38;5;45mNone\u001b[0m, \u001b[38;5;34m6\u001b[0m, \u001b[38;5;34m37\u001b[0m, \u001b[38;5;34m64\u001b[0m) │          \u001b[38;5;34m0\u001b[0m │ conv2d_3[\u001b[38;5;34m0\u001b[0m][\u001b[38;5;34m0\u001b[0m]    │\n",
       "│ (\u001b[38;5;33mMaxPooling2D\u001b[0m)      │                   │            │                   │\n",
       "├─────────────────────┼───────────────────┼────────────┼───────────────────┤\n",
       "│ max_pooling2d_7     │ (\u001b[38;5;45mNone\u001b[0m, \u001b[38;5;34m6\u001b[0m, \u001b[38;5;34m45\u001b[0m, \u001b[38;5;34m64\u001b[0m) │          \u001b[38;5;34m0\u001b[0m │ conv2d_7[\u001b[38;5;34m0\u001b[0m][\u001b[38;5;34m0\u001b[0m]    │\n",
       "│ (\u001b[38;5;33mMaxPooling2D\u001b[0m)      │                   │            │                   │\n",
       "├─────────────────────┼───────────────────┼────────────┼───────────────────┤\n",
       "│ max_pooling2d_11    │ (\u001b[38;5;45mNone\u001b[0m, \u001b[38;5;34m6\u001b[0m, \u001b[38;5;34m76\u001b[0m, \u001b[38;5;34m64\u001b[0m) │          \u001b[38;5;34m0\u001b[0m │ conv2d_11[\u001b[38;5;34m0\u001b[0m][\u001b[38;5;34m0\u001b[0m]   │\n",
       "│ (\u001b[38;5;33mMaxPooling2D\u001b[0m)      │                   │            │                   │\n",
       "├─────────────────────┼───────────────────┼────────────┼───────────────────┤\n",
       "│ dense_2 (\u001b[38;5;33mDense\u001b[0m)     │ (\u001b[38;5;45mNone\u001b[0m, \u001b[38;5;34m128\u001b[0m)       │     \u001b[38;5;34m16,512\u001b[0m │ dropout[\u001b[38;5;34m0\u001b[0m][\u001b[38;5;34m0\u001b[0m]     │\n",
       "├─────────────────────┼───────────────────┼────────────┼───────────────────┤\n",
       "│ global_average_poo… │ (\u001b[38;5;45mNone\u001b[0m, \u001b[38;5;34m64\u001b[0m)        │          \u001b[38;5;34m0\u001b[0m │ max_pooling2d_3[\u001b[38;5;34m…\u001b[0m │\n",
       "│ (\u001b[38;5;33mGlobalAveragePool…\u001b[0m │                   │            │                   │\n",
       "├─────────────────────┼───────────────────┼────────────┼───────────────────┤\n",
       "│ global_average_poo… │ (\u001b[38;5;45mNone\u001b[0m, \u001b[38;5;34m64\u001b[0m)        │          \u001b[38;5;34m0\u001b[0m │ max_pooling2d_7[\u001b[38;5;34m…\u001b[0m │\n",
       "│ (\u001b[38;5;33mGlobalAveragePool…\u001b[0m │                   │            │                   │\n",
       "├─────────────────────┼───────────────────┼────────────┼───────────────────┤\n",
       "│ global_average_poo… │ (\u001b[38;5;45mNone\u001b[0m, \u001b[38;5;34m64\u001b[0m)        │          \u001b[38;5;34m0\u001b[0m │ max_pooling2d_11… │\n",
       "│ (\u001b[38;5;33mGlobalAveragePool…\u001b[0m │                   │            │                   │\n",
       "├─────────────────────┼───────────────────┼────────────┼───────────────────┤\n",
       "│ dense_3 (\u001b[38;5;33mDense\u001b[0m)     │ (\u001b[38;5;45mNone\u001b[0m, \u001b[38;5;34m64\u001b[0m)        │      \u001b[38;5;34m8,256\u001b[0m │ dense_2[\u001b[38;5;34m0\u001b[0m][\u001b[38;5;34m0\u001b[0m]     │\n",
       "├─────────────────────┼───────────────────┼────────────┼───────────────────┤\n",
       "│ concatenate         │ (\u001b[38;5;45mNone\u001b[0m, \u001b[38;5;34m256\u001b[0m)       │          \u001b[38;5;34m0\u001b[0m │ global_average_p… │\n",
       "│ (\u001b[38;5;33mConcatenate\u001b[0m)       │                   │            │ global_average_p… │\n",
       "│                     │                   │            │ global_average_p… │\n",
       "│                     │                   │            │ dense_3[\u001b[38;5;34m0\u001b[0m][\u001b[38;5;34m0\u001b[0m]     │\n",
       "├─────────────────────┼───────────────────┼────────────┼───────────────────┤\n",
       "│ dense_4 (\u001b[38;5;33mDense\u001b[0m)     │ (\u001b[38;5;45mNone\u001b[0m, \u001b[38;5;34m128\u001b[0m)       │     \u001b[38;5;34m32,896\u001b[0m │ concatenate[\u001b[38;5;34m0\u001b[0m][\u001b[38;5;34m0\u001b[0m] │\n",
       "├─────────────────────┼───────────────────┼────────────┼───────────────────┤\n",
       "│ dropout_1 (\u001b[38;5;33mDropout\u001b[0m) │ (\u001b[38;5;45mNone\u001b[0m, \u001b[38;5;34m128\u001b[0m)       │          \u001b[38;5;34m0\u001b[0m │ dense_4[\u001b[38;5;34m0\u001b[0m][\u001b[38;5;34m0\u001b[0m]     │\n",
       "├─────────────────────┼───────────────────┼────────────┼───────────────────┤\n",
       "│ dense_5 (\u001b[38;5;33mDense\u001b[0m)     │ (\u001b[38;5;45mNone\u001b[0m, \u001b[38;5;34m64\u001b[0m)        │      \u001b[38;5;34m8,256\u001b[0m │ dropout_1[\u001b[38;5;34m0\u001b[0m][\u001b[38;5;34m0\u001b[0m]   │\n",
       "├─────────────────────┼───────────────────┼────────────┼───────────────────┤\n",
       "│ dense_6 (\u001b[38;5;33mDense\u001b[0m)     │ (\u001b[38;5;45mNone\u001b[0m, \u001b[38;5;34m1\u001b[0m)         │         \u001b[38;5;34m65\u001b[0m │ dense_5[\u001b[38;5;34m0\u001b[0m][\u001b[38;5;34m0\u001b[0m]     │\n",
       "└─────────────────────┴───────────────────┴────────────┴───────────────────┘\n"
      ]
     },
     "metadata": {},
     "output_type": "display_data"
    },
    {
     "data": {
      "text/html": [
       "<pre style=\"white-space:pre;overflow-x:auto;line-height:normal;font-family:Menlo,'DejaVu Sans Mono',consolas,'Courier New',monospace\"><span style=\"font-weight: bold\"> Total params: </span><span style=\"color: #00af00; text-decoration-color: #00af00\">151,601</span> (592.19 KB)\n",
       "</pre>\n"
      ],
      "text/plain": [
       "\u001b[1m Total params: \u001b[0m\u001b[38;5;34m151,601\u001b[0m (592.19 KB)\n"
      ]
     },
     "metadata": {},
     "output_type": "display_data"
    },
    {
     "data": {
      "text/html": [
       "<pre style=\"white-space:pre;overflow-x:auto;line-height:normal;font-family:Menlo,'DejaVu Sans Mono',consolas,'Courier New',monospace\"><span style=\"font-weight: bold\"> Trainable params: </span><span style=\"color: #00af00; text-decoration-color: #00af00\">151,601</span> (592.19 KB)\n",
       "</pre>\n"
      ],
      "text/plain": [
       "\u001b[1m Trainable params: \u001b[0m\u001b[38;5;34m151,601\u001b[0m (592.19 KB)\n"
      ]
     },
     "metadata": {},
     "output_type": "display_data"
    },
    {
     "data": {
      "text/html": [
       "<pre style=\"white-space:pre;overflow-x:auto;line-height:normal;font-family:Menlo,'DejaVu Sans Mono',consolas,'Courier New',monospace\"><span style=\"font-weight: bold\"> Non-trainable params: </span><span style=\"color: #00af00; text-decoration-color: #00af00\">0</span> (0.00 B)\n",
       "</pre>\n"
      ],
      "text/plain": [
       "\u001b[1m Non-trainable params: \u001b[0m\u001b[38;5;34m0\u001b[0m (0.00 B)\n"
      ]
     },
     "metadata": {},
     "output_type": "display_data"
    }
   ],
   "source": [
    "# Define the model with two inputs\n",
    "model = tf.keras.Model(inputs=[mel_input_breathing, mel_input_cough, mel_input_speech, other_input], outputs=z)\n",
    "\n",
    "# Compile the model\n",
    "model.compile(optimizer='adam', loss='binary_crossentropy', metrics=['accuracy','recall','precision'])\n",
    "\n",
    "# Print model summary\n",
    "model.summary()"
   ]
  },
  {
   "cell_type": "code",
   "execution_count": 38,
   "metadata": {},
   "outputs": [
    {
     "name": "stdout",
     "output_type": "stream",
     "text": [
      "Training set shapes:\n",
      "Breathing: (760, 128, 626, 1)\n",
      "Coughing: (760, 128, 751, 1)\n",
      "Speech: (760, 128, 1251, 1)\n",
      "Other Features: (760, 6)\n",
      "Labels: (760,)\n",
      "\n",
      "Validation set shapes:\n",
      "Breathing: (191, 128, 626, 1)\n",
      "Coughing: (191, 128, 751, 1)\n",
      "Speech: (191, 128, 1251, 1)\n",
      "Other Features: (191, 6)\n",
      "Labels: (191,)\n"
     ]
    }
   ],
   "source": [
    "X_train_breathing, X_val_breathing, \\\n",
    "X_train_coughing, X_val_coughing, \\\n",
    "X_train_speech, X_val_speech, \\\n",
    "X_train_other_features, X_val_other_features, \\\n",
    "y_train, y_val = train_test_split(\n",
    "    spectrograms_train_breathing,\n",
    "    spectrograms_train_coughing,\n",
    "    spectrograms_train_speech,\n",
    "    other_features_resampled,\n",
    "    y_train_resampled,\n",
    "    test_size=0.2,\n",
    "    random_state=seed,\n",
    "    stratify=y_train_resampled\n",
    ")\n",
    "\n",
    "# Step 2: Verify shapes of training and validation sets\n",
    "print(\"Training set shapes:\")\n",
    "print(\"Breathing:\", X_train_breathing.shape)\n",
    "print(\"Coughing:\", X_train_coughing.shape)\n",
    "print(\"Speech:\", X_train_speech.shape)\n",
    "print(\"Other Features:\", X_train_other_features.shape)\n",
    "print(\"Labels:\", y_train.shape)\n",
    "\n",
    "print(\"\\nValidation set shapes:\")\n",
    "print(\"Breathing:\", X_val_breathing.shape)\n",
    "print(\"Coughing:\", X_val_coughing.shape)\n",
    "print(\"Speech:\", X_val_speech.shape)\n",
    "print(\"Other Features:\", X_val_other_features.shape)\n",
    "print(\"Labels:\", y_val.shape)\n"
   ]
  },
  {
   "cell_type": "code",
   "execution_count": 39,
   "metadata": {},
   "outputs": [
    {
     "name": "stdout",
     "output_type": "stream",
     "text": [
      "Epoch 1/20\n"
     ]
    },
    {
     "name": "stderr",
     "output_type": "stream",
     "text": [
      "/Users/opheliasin/covid-detection/venv/lib/python3.12/site-packages/keras/src/models/functional.py:225: UserWarning: The structure of `inputs` doesn't match the expected structure: ['mel_spectrogram_breathing', 'mel_spectrogram_cough', 'mel_spectrogram_speech', 'other_features']. Received: the structure of inputs=('*', '*', '*', '*')\n",
      "  warnings.warn(\n"
     ]
    },
    {
     "name": "stdout",
     "output_type": "stream",
     "text": [
      "\u001b[1m24/24\u001b[0m \u001b[32m━━━━━━━━━━━━━━━━━━━━\u001b[0m\u001b[37m\u001b[0m \u001b[1m45s\u001b[0m 2s/step - accuracy: 0.5649 - loss: 14.4194 - precision: 0.3417 - recall: 0.3599 - val_accuracy: 0.3298 - val_loss: 2.9478 - val_precision: 0.3298 - val_recall: 0.9688\n",
      "Epoch 2/20\n",
      "\u001b[1m24/24\u001b[0m \u001b[32m━━━━━━━━━━━━━━━━━━━━\u001b[0m\u001b[37m\u001b[0m \u001b[1m44s\u001b[0m 2s/step - accuracy: 0.5164 - loss: 4.9246 - precision: 0.2776 - recall: 0.2960 - val_accuracy: 0.6649 - val_loss: 1.0493 - val_precision: 0.5000 - val_recall: 0.0469\n",
      "Epoch 3/20\n",
      "\u001b[1m24/24\u001b[0m \u001b[32m━━━━━━━━━━━━━━━━━━━━\u001b[0m\u001b[37m\u001b[0m \u001b[1m47s\u001b[0m 2s/step - accuracy: 0.5354 - loss: 2.1964 - precision: 0.2992 - recall: 0.3206 - val_accuracy: 0.3508 - val_loss: 0.8354 - val_precision: 0.3333 - val_recall: 0.9375\n",
      "Epoch 4/20\n",
      "\u001b[1m24/24\u001b[0m \u001b[32m━━━━━━━━━━━━━━━━━━━━\u001b[0m\u001b[37m\u001b[0m \u001b[1m43s\u001b[0m 2s/step - accuracy: 0.5152 - loss: 1.5188 - precision: 0.2978 - recall: 0.3565 - val_accuracy: 0.5340 - val_loss: 0.8320 - val_precision: 0.2642 - val_recall: 0.2188\n",
      "Epoch 5/20\n",
      "\u001b[1m24/24\u001b[0m \u001b[32m━━━━━━━━━━━━━━━━━━━━\u001b[0m\u001b[37m\u001b[0m \u001b[1m41s\u001b[0m 2s/step - accuracy: 0.5847 - loss: 1.0480 - precision: 0.3579 - recall: 0.3516 - val_accuracy: 0.6859 - val_loss: 0.6365 - val_precision: 0.6667 - val_recall: 0.1250\n",
      "Epoch 6/20\n",
      "\u001b[1m24/24\u001b[0m \u001b[32m━━━━━━━━━━━━━━━━━━━━\u001b[0m\u001b[37m\u001b[0m \u001b[1m41s\u001b[0m 2s/step - accuracy: 0.5749 - loss: 0.9979 - precision: 0.3463 - recall: 0.3219 - val_accuracy: 0.4398 - val_loss: 0.7042 - val_precision: 0.2784 - val_recall: 0.4219\n",
      "Epoch 7/20\n",
      "\u001b[1m24/24\u001b[0m \u001b[32m━━━━━━━━━━━━━━━━━━━━\u001b[0m\u001b[37m\u001b[0m \u001b[1m40s\u001b[0m 2s/step - accuracy: 0.5919 - loss: 0.7967 - precision: 0.3779 - recall: 0.4051 - val_accuracy: 0.6859 - val_loss: 0.6290 - val_precision: 0.5833 - val_recall: 0.2188\n",
      "Epoch 8/20\n",
      "\u001b[1m24/24\u001b[0m \u001b[32m━━━━━━━━━━━━━━━━━━━━\u001b[0m\u001b[37m\u001b[0m \u001b[1m41s\u001b[0m 2s/step - accuracy: 0.6057 - loss: 0.7763 - precision: 0.3497 - recall: 0.2361 - val_accuracy: 0.7330 - val_loss: 0.6248 - val_precision: 0.8095 - val_recall: 0.2656\n",
      "Epoch 9/20\n",
      "\u001b[1m24/24\u001b[0m \u001b[32m━━━━━━━━━━━━━━━━━━━━\u001b[0m\u001b[37m\u001b[0m \u001b[1m40s\u001b[0m 2s/step - accuracy: 0.6505 - loss: 0.6755 - precision: 0.4440 - recall: 0.3224 - val_accuracy: 0.7068 - val_loss: 0.6201 - val_precision: 0.6667 - val_recall: 0.2500\n",
      "Epoch 10/20\n",
      "\u001b[1m24/24\u001b[0m \u001b[32m━━━━━━━━━━━━━━━━━━━━\u001b[0m\u001b[37m\u001b[0m \u001b[1m41s\u001b[0m 2s/step - accuracy: 0.6193 - loss: 0.7045 - precision: 0.3821 - recall: 0.2700 - val_accuracy: 0.6126 - val_loss: 0.6595 - val_precision: 0.4432 - val_recall: 0.6094\n",
      "Epoch 11/20\n",
      "\u001b[1m24/24\u001b[0m \u001b[32m━━━━━━━━━━━━━━━━━━━━\u001b[0m\u001b[37m\u001b[0m \u001b[1m42s\u001b[0m 2s/step - accuracy: 0.6515 - loss: 0.7364 - precision: 0.4107 - recall: 0.1625 - val_accuracy: 0.6597 - val_loss: 0.6595 - val_precision: 0.4000 - val_recall: 0.0312\n",
      "Epoch 12/20\n",
      "\u001b[1m24/24\u001b[0m \u001b[32m━━━━━━━━━━━━━━━━━━━━\u001b[0m\u001b[37m\u001b[0m \u001b[1m40s\u001b[0m 2s/step - accuracy: 0.6351 - loss: 0.6670 - precision: 0.3635 - recall: 0.1747 - val_accuracy: 0.6806 - val_loss: 0.6425 - val_precision: 1.0000 - val_recall: 0.0469\n",
      "Epoch 13/20\n",
      "\u001b[1m24/24\u001b[0m \u001b[32m━━━━━━━━━━━━━━━━━━━━\u001b[0m\u001b[37m\u001b[0m \u001b[1m41s\u001b[0m 2s/step - accuracy: 0.6652 - loss: 0.6481 - precision: 0.4601 - recall: 0.1652 - val_accuracy: 0.6806 - val_loss: 0.6348 - val_precision: 1.0000 - val_recall: 0.0469\n",
      "Epoch 14/20\n",
      "\u001b[1m24/24\u001b[0m \u001b[32m━━━━━━━━━━━━━━━━━━━━\u001b[0m\u001b[37m\u001b[0m \u001b[1m39s\u001b[0m 2s/step - accuracy: 0.6400 - loss: 0.6584 - precision: 0.3819 - recall: 0.1611 - val_accuracy: 0.6702 - val_loss: 0.6326 - val_precision: 1.0000 - val_recall: 0.0156\n",
      "Epoch 14: early stopping\n",
      "Restoring model weights from the end of the best epoch: 9.\n",
      "\u001b[1m6/6\u001b[0m \u001b[32m━━━━━━━━━━━━━━━━━━━━\u001b[0m\u001b[37m\u001b[0m \u001b[1m3s\u001b[0m 453ms/step - accuracy: 0.7133 - loss: 0.6156 - precision: 0.6287 - recall: 0.2484\n"
     ]
    }
   ],
   "source": [
    "from tensorflow.keras.callbacks import EarlyStopping\n",
    "\n",
    "# EarlyStopping callback\n",
    "early_stopping = EarlyStopping(\n",
    "    monitor='val_loss',         # Metric to monitor (e.g., validation loss)\n",
    "    patience=5,                 # Number of epochs with no improvement before stopping\n",
    "    restore_best_weights=True,  # Restore the weights of the best epoch\n",
    "    verbose=1                   # Print messages when early stopping is triggered\n",
    ")\n",
    "\n",
    "history = model.fit(\n",
    "    [X_train_breathing, X_train_coughing, X_train_speech, X_train_other_features],\n",
    "    y_train,\n",
    "    validation_data=(\n",
    "        [X_val_breathing, X_val_coughing, X_val_speech, X_val_other_features],\n",
    "        y_val\n",
    "    ),\n",
    "    epochs=20,\n",
    "    batch_size=32,\n",
    "    callbacks=[early_stopping]\n",
    ")\n",
    "\n",
    "\n",
    "# Step 4: Evaluate the model on the validation set\n",
    "results = model.evaluate(\n",
    "    [X_val_breathing, X_val_coughing, X_val_speech, X_val_other_features],\n",
    "    y_val\n",
    ")"
   ]
  },
  {
   "cell_type": "code",
   "execution_count": null,
   "metadata": {},
   "outputs": [
    {
     "name": "stdout",
     "output_type": "stream",
     "text": [
      "\u001b[1m24/24\u001b[0m \u001b[32m━━━━━━━━━━━━━━━━━━━━\u001b[0m\u001b[37m\u001b[0m \u001b[1m17s\u001b[0m 680ms/step\n"
     ]
    }
   ],
   "source": [
    "y_pred_train = model.predict([X_train_breathing, X_train_coughing, X_train_speech, X_train_other_features])"
   ]
  },
  {
   "cell_type": "code",
   "execution_count": null,
   "metadata": {},
   "outputs": [],
   "source": [
    "y_pred_train_binary = (y_pred_train > 0.6).astype(int)"
   ]
  },
  {
   "cell_type": "code",
   "execution_count": null,
   "metadata": {},
   "outputs": [
    {
     "name": "stdout",
     "output_type": "stream",
     "text": [
      "Training Accuracy: 0.7781065088757396\n"
     ]
    }
   ],
   "source": [
    "from sklearn.metrics import accuracy_score\n",
    "accuracy_train = accuracy_score(y_train, y_pred_train_binary)\n",
    "\n",
    "print(f\"Training Accuracy: {accuracy_train}\")"
   ]
  },
  {
   "cell_type": "code",
   "execution_count": null,
   "metadata": {},
   "outputs": [
    {
     "data": {
      "image/png": "[encoded data removed]",
      "text/plain": [
       "<Figure size 640x480 with 2 Axes>"
      ]
     },
     "metadata": {},
     "output_type": "display_data"
    }
   ],
   "source": [
    "from sklearn.metrics import confusion_matrix, ConfusionMatrixDisplay\n",
    "\n",
    "cm = confusion_matrix(y_train, y_pred_train_binary)\n",
    "\n",
    "# Step 4: Visualize or print the confusion matrix\n",
    "disp = ConfusionMatrixDisplay(confusion_matrix=cm)\n",
    "disp.plot(cmap=plt.cm.Blues)\n",
    "plt.title(\"Confusion Matrix for Training Data\")\n",
    "plt.show()"
   ]
  },
  {
   "cell_type": "code",
   "execution_count": null,
   "metadata": {},
   "outputs": [
    {
     "name": "stdout",
     "output_type": "stream",
     "text": [
      "              precision    recall  f1-score   support\n",
      "\n",
      "           0       0.67      0.99      0.80       507\n",
      "           1       0.65      0.04      0.08       253\n",
      "\n",
      "    accuracy                           0.67       760\n",
      "   macro avg       0.66      0.52      0.44       760\n",
      "weighted avg       0.67      0.67      0.56       760\n",
      "\n"
     ]
    }
   ],
   "source": [
    "from sklearn.metrics import classification_report\n",
    "\n",
    "print(classification_report(y_train, y_pred_train_binary))"
   ]
  },
  {
   "cell_type": "code",
   "execution_count": null,
   "metadata": {},
   "outputs": [
    {
     "name": "stdout",
     "output_type": "stream",
     "text": [
      "\u001b[1m7/7\u001b[0m \u001b[32m━━━━━━━━━━━━━━━━━━━━\u001b[0m\u001b[37m\u001b[0m \u001b[1m2s\u001b[0m 277ms/step\n"
     ]
    }
   ],
   "source": [
    "y_pred_test = model.predict([spectrograms_test_breathing, spectrograms_test_coughing, spectrograms_test_speech, other_features_test])"
   ]
  },
  {
   "cell_type": "code",
   "execution_count": null,
   "metadata": {},
   "outputs": [],
   "source": [
    "y_pred_test_binary = (y_pred_test > 0.6).astype(int)"
   ]
  },
  {
   "cell_type": "code",
   "execution_count": null,
   "metadata": {},
   "outputs": [],
   "source": [
    "cm = confusion_matrix(y_test, y_pred_test_binary)"
   ]
  },
  {
   "cell_type": "code",
   "execution_count": null,
   "metadata": {},
   "outputs": [
    {
     "data": {
      "image/png": "[encoded data removed]",
      "text/plain": [
       "<Figure size 640x480 with 2 Axes>"
      ]
     },
     "metadata": {},
     "output_type": "display_data"
    }
   ],
   "source": [
    "disp = ConfusionMatrixDisplay(cm)\n",
    "\n",
    "disp.plot()\n",
    "plt.title(\"Confusion Matrix for Testing Data\")\n",
    "plt.show()"
   ]
  },
  {
   "cell_type": "code",
   "execution_count": null,
   "metadata": {},
   "outputs": [
    {
     "data": {
      "text/plain": [
       "0.7823834196891192"
      ]
     },
     "execution_count": 62,
     "metadata": {},
     "output_type": "execute_result"
    }
   ],
   "source": [
    "accuracy_test = accuracy_score(y_test, y_pred_test_binary)\n",
    "accuracy_test"
   ]
  },
  {
   "cell_type": "code",
   "execution_count": null,
   "metadata": {},
   "outputs": [
    {
     "name": "stdout",
     "output_type": "stream",
     "text": [
      "              precision    recall  f1-score   support\n",
      "\n",
      "           0       0.83      0.99      0.91       159\n",
      "           1       0.67      0.06      0.11        34\n",
      "\n",
      "    accuracy                           0.83       193\n",
      "   macro avg       0.75      0.53      0.51       193\n",
      "weighted avg       0.80      0.83      0.76       193\n",
      "\n"
     ]
    }
   ],
   "source": [
    "from sklearn.metrics import classification_report\n",
    "\n",
    "print(classification_report(y_test, y_pred_test_binary))"
   ]
  },
  {
   "cell_type": "code",
   "execution_count": null,
   "metadata": {},
   "outputs": [
    {
     "name": "stdout",
     "output_type": "stream",
     "text": [
      "Weighted F1 Score: 0.7738685534941594\n"
     ]
    }
   ],
   "source": [
    "from sklearn.metrics import f1_score\n",
    "\n",
    "weighted_f1 = f1_score(y_test, y_pred_test_binary, average='weighted')\n",
    "print(f\"Weighted F1 Score: {weighted_f1}\")"
   ]
  },
  {
   "cell_type": "code",
   "execution_count": null,
   "metadata": {},
   "outputs": [
    {
     "data": {
      "image/png": "[encoded data removed]",
      "text/plain": [
       "<Figure size 640x480 with 1 Axes>"
      ]
     },
     "metadata": {},
     "output_type": "display_data"
    }
   ],
   "source": [
    "from sklearn.metrics import precision_recall_curve\n",
    "\n",
    "precision, recall, thresholds = precision_recall_curve(y_test, y_pred_test)\n",
    "\n",
    "plt.plot(recall, precision)\n",
    "plt.xlabel('Recall')\n",
    "plt.ylabel('Precision')\n",
    "plt.title('Precision-Recall Curve')\n",
    "plt.show()"
   ]
  },
  {
   "cell_type": "markdown",
   "metadata": {},
   "source": [
    "## Using Class Weights\n",
    "\n",
    "- Doesn't categorize '1's correctly"
   ]
  },
  {
   "cell_type": "code",
   "execution_count": null,
   "metadata": {},
   "outputs": [],
   "source": [
    "# Constants for updated time frames\n",
    "num_mel_bands = 128\n",
    "original_time_frames_breathing = 626 # prev: 622\n",
    "original_time_frames_coughing = 751 # prev: 747\n",
    "original_time_frames_speech = 1251 # prev: 1247\n",
    "\n",
    "# Total original time frames\n",
    "original_total_time_frames = original_time_frames_breathing + original_time_frames_coughing + original_time_frames_speech\n",
    "\n",
    "# Total spectrogram features\n",
    "total_padded_spectrogram_features = num_mel_bands * (max_time_frames * 3)"
   ]
  },
  {
   "cell_type": "code",
   "execution_count": null,
   "metadata": {},
   "outputs": [],
   "source": [
    "# Separate resampled padded spectrograms and other features for X_train_resampled\n",
    "padded_spectrograms_resampled = X_train[:, :total_padded_spectrogram_features]\n",
    "other_features_resampled = X_train[:, total_padded_spectrogram_features:]"
   ]
  },
  {
   "cell_type": "code",
   "execution_count": null,
   "metadata": {},
   "outputs": [
    {
     "data": {
      "text/plain": [
       "((772, 480384), (772, 6))"
      ]
     },
     "execution_count": 87,
     "metadata": {},
     "output_type": "execute_result"
    }
   ],
   "source": [
    "padded_spectrograms_resampled.shape, other_features_resampled.shape"
   ]
  },
  {
   "cell_type": "code",
   "execution_count": null,
   "metadata": {},
   "outputs": [
    {
     "name": "stdout",
     "output_type": "stream",
     "text": [
      "Actual size of padded_spectrograms_resampled: 370856448\n",
      "Expected size for reshaping: 343954944\n"
     ]
    }
   ],
   "source": [
    "# Verify actual size\n",
    "print(\"Actual size of padded_spectrograms_resampled:\", padded_spectrograms_resampled.size)\n",
    "\n",
    "# Calculate expected size\n",
    "expected_size = 716 * 128 * (max_time_frames * 3) * 1\n",
    "print(\"Expected size for reshaping:\", expected_size)"
   ]
  },
  {
   "cell_type": "code",
   "execution_count": null,
   "metadata": {},
   "outputs": [],
   "source": [
    "padded_spectrograms_resampled_reshaped = padded_spectrograms_resampled.reshape(\n",
    "    padded_spectrograms_resampled.shape[0], num_mel_bands,\n",
    "    max_time_frames * 3, 1\n",
    ")\n"
   ]
  },
  {
   "cell_type": "code",
   "execution_count": null,
   "metadata": {},
   "outputs": [
    {
     "data": {
      "text/plain": [
       "(772, 128, 3753, 1)"
      ]
     },
     "execution_count": 90,
     "metadata": {},
     "output_type": "execute_result"
    }
   ],
   "source": [
    "padded_spectrograms_resampled_reshaped.shape"
   ]
  },
  {
   "cell_type": "code",
   "execution_count": null,
   "metadata": {},
   "outputs": [],
   "source": [
    "# Define a function to extract the original spectrograms without padding\n",
    "def extract_original_spectrograms(padded_spectrograms, time_frames_breathing, time_frames_coughing, time_frames_speech):\n",
    "    # Extract breathing spectrogram\n",
    "    breathing = padded_spectrograms[:, :, :time_frames_breathing, :]\n",
    "    \n",
    "    # Extract coughing spectrogram\n",
    "    coughing_start = time_frames_breathing\n",
    "    coughing_end = time_frames_breathing + time_frames_coughing\n",
    "    coughing = padded_spectrograms[:, :, coughing_start:coughing_end, :]\n",
    "    \n",
    "    # Extract speech spectrogram\n",
    "    speech_start = coughing_end\n",
    "    speech_end = speech_start + time_frames_speech\n",
    "    speech = padded_spectrograms[:, :, speech_start:speech_end, :]\n",
    "    \n",
    "    return breathing, coughing, speech\n",
    "\n",
    "# Extract the original spectrograms from the padded data\n",
    "spectrograms_train_breathing, spectrograms_train_coughing, spectrograms_train_speech = extract_original_spectrograms(\n",
    "    padded_spectrograms_resampled_reshaped,\n",
    "    original_time_frames_breathing,\n",
    "    original_time_frames_coughing,\n",
    "    original_time_frames_speech\n",
    ")"
   ]
  },
  {
   "cell_type": "code",
   "execution_count": null,
   "metadata": {},
   "outputs": [
    {
     "name": "stdout",
     "output_type": "stream",
     "text": [
      "Breathing Spectrogram Shape: (772, 128, 626, 1)\n",
      "Coughing Spectrogram Shape: (772, 128, 751, 1)\n",
      "Speech Spectrogram Shape: (772, 128, 1251, 1)\n"
     ]
    }
   ],
   "source": [
    "# Verify the shapes of the extracted spectrograms\n",
    "print(\"Breathing Spectrogram Shape:\", spectrograms_train_breathing.shape)  # Expected: (num_samples, 128, 622, 1)\n",
    "print(\"Coughing Spectrogram Shape:\", spectrograms_train_coughing.shape)   # Expected: (num_samples, 128, 747, 1)\n",
    "print(\"Speech Spectrogram Shape:\", spectrograms_train_speech.shape)       # Expected: (num_samples, 128, 1247, 1)"
   ]
  },
  {
   "cell_type": "code",
   "execution_count": null,
   "metadata": {},
   "outputs": [],
   "source": [
    "# For X_test (no resampling needed), separate and reshape the spectrograms\n",
    "spectrograms_test = X_test[:, :total_padded_spectrogram_features]\n",
    "other_features_test = X_test[:, total_padded_spectrogram_features:]"
   ]
  },
  {
   "cell_type": "code",
   "execution_count": null,
   "metadata": {},
   "outputs": [
    {
     "data": {
      "text/plain": [
       "((193, 480384), (193, 6))"
      ]
     },
     "execution_count": 94,
     "metadata": {},
     "output_type": "execute_result"
    }
   ],
   "source": [
    "spectrograms_test.shape, other_features_test.shape"
   ]
  },
  {
   "cell_type": "code",
   "execution_count": null,
   "metadata": {},
   "outputs": [],
   "source": [
    "spectrograms_test_reshaped = spectrograms_test.reshape(\n",
    "    spectrograms_test.shape[0], num_mel_bands, max_time_frames * 3, 1\n",
    ")"
   ]
  },
  {
   "cell_type": "code",
   "execution_count": null,
   "metadata": {},
   "outputs": [
    {
     "name": "stdout",
     "output_type": "stream",
     "text": [
      "Breathing Spectrogram Shape: (193, 128, 626, 1)\n",
      "Coughing Spectrogram Shape: (193, 128, 751, 1)\n",
      "Speech Spectrogram Shape: (193, 128, 1251, 1)\n"
     ]
    }
   ],
   "source": [
    "spectrograms_test_breathing, spectrograms_test_coughing, spectrograms_test_speech = extract_original_spectrograms(\n",
    "    spectrograms_test_reshaped,\n",
    "    original_time_frames_breathing,\n",
    "    original_time_frames_coughing,\n",
    "    original_time_frames_speech\n",
    ")\n",
    "# Verify shapes\n",
    "print(\"Breathing Spectrogram Shape:\", spectrograms_test_breathing.shape)\n",
    "print(\"Coughing Spectrogram Shape:\", spectrograms_test_coughing.shape)\n",
    "print(\"Speech Spectrogram Shape:\", spectrograms_test_speech.shape)\n"
   ]
  },
  {
   "cell_type": "code",
   "execution_count": null,
   "metadata": {},
   "outputs": [],
   "source": [
    "#convert y_train_resampled and y_test to numpy arrays\n",
    "\n",
    "y_train = np.array(y_train)\n",
    "y_test = np.array(y_test)"
   ]
  },
  {
   "cell_type": "code",
   "execution_count": null,
   "metadata": {},
   "outputs": [],
   "source": [
    "import tensorflow as tf\n",
    "from tensorflow.keras.layers import Input, Conv2D, MaxPooling2D, GlobalAveragePooling2D, Dense, Concatenate, Dropout\n",
    "\n",
    "# Define input for Mel spectrogram (shape: 625 time frames x 128 frequency bins x 1 channel)\n",
    "mel_input_breathing = Input(shape=(128, 626, 1), name='mel_spectrogram_breathing')\n",
    "mel_input_cough = Input(shape=(128, 751, 1), name='mel_spectrogram_cough')\n",
    "mel_input_speech = Input(shape=(128, 1251, 1), name='mel_spectrogram_speech')\n",
    "\n",
    "\n",
    "# Define CNN sub-network for Mel spectrogram\n",
    "def create_cnn_subnetwork(input_layer):\n",
    "    x = Conv2D(16, (3,3), activation='relu')(input_layer)\n",
    "    x = MaxPooling2D(pool_size=(2,2))(x)\n",
    "    x = Conv2D(16, (3,3), activation='relu')(x)\n",
    "    x = MaxPooling2D(pool_size=(2,2))(x)\n",
    "    x = Conv2D(32, (3,3), activation='relu')(x)\n",
    "    x = MaxPooling2D(pool_size=(2,2))(x)\n",
    "    x = Conv2D(64, (3,3), activation='relu')(x)\n",
    "    x = MaxPooling2D(pool_size=(2,2))(x)\n",
    "    x = GlobalAveragePooling2D()(x)\n",
    "\n",
    "    return x\n",
    "\n",
    "# Create CNN sub-networks for each spectrogram input\n",
    "cnn_breathing_output = create_cnn_subnetwork(mel_input_breathing)\n",
    "cnn_cough_output = create_cnn_subnetwork(mel_input_cough)\n",
    "cnn_speech_output = create_cnn_subnetwork(mel_input_speech)\n",
    "\n",
    "# Define input for other features (zero-crossing rate and spectral centroid)\n",
    "other_input = Input(shape=(6,), name='other_features')\n",
    "\n",
    "# Define a simple dense sub-network for other features\n",
    "y = Dense(64, activation='relu')(other_input)\n",
    "y = Dense(128, activation='relu')(y)  # Add more dense layers\n",
    "y = Dropout(0.3)(y)                   # Add dropout to prevent overfitting\n",
    "y = Dense(128, activation='relu')(y)   # Another dense layer\n",
    "y = Dense(64, activation='relu')(y)    # Another dense layer\n",
    "\n",
    "# Concatenate both sub-networks\n",
    "combined = Concatenate()([cnn_breathing_output, cnn_cough_output, cnn_speech_output, y])\n",
    "\n",
    "# Add final classification layers\n",
    "z = Dense(128, activation='relu')(combined)\n",
    "z = Dropout(0.3)(z)                    # Add dropout to prevent overfitting\n",
    "z = Dense(64, activation='relu')(z)\n",
    "z = Dense(1, activation='sigmoid')(z)  # Binary classification"
   ]
  },
  {
   "cell_type": "code",
   "execution_count": null,
   "metadata": {},
   "outputs": [
    {
     "data": {
      "text/html": [
       "<pre style=\"white-space:pre;overflow-x:auto;line-height:normal;font-family:Menlo,'DejaVu Sans Mono',consolas,'Courier New',monospace\"><span style=\"font-weight: bold\">Model: \"functional_2\"</span>\n",
       "</pre>\n"
      ],
      "text/plain": [
       "\u001b[1mModel: \"functional_2\"\u001b[0m\n"
      ]
     },
     "metadata": {},
     "output_type": "display_data"
    },
    {
     "data": {
      "text/html": [
       "<pre style=\"white-space:pre;overflow-x:auto;line-height:normal;font-family:Menlo,'DejaVu Sans Mono',consolas,'Courier New',monospace\">┏━━━━━━━━━━━━━━━━━━━━━┳━━━━━━━━━━━━━━━━━━━┳━━━━━━━━━━━━┳━━━━━━━━━━━━━━━━━━━┓\n",
       "┃<span style=\"font-weight: bold\"> Layer (type)        </span>┃<span style=\"font-weight: bold\"> Output Shape      </span>┃<span style=\"font-weight: bold\">    Param # </span>┃<span style=\"font-weight: bold\"> Connected to      </span>┃\n",
       "┡━━━━━━━━━━━━━━━━━━━━━╇━━━━━━━━━━━━━━━━━━━╇━━━━━━━━━━━━╇━━━━━━━━━━━━━━━━━━━┩\n",
       "│ mel_spectrogram_br… │ (<span style=\"color: #00d7ff; text-decoration-color: #00d7ff\">None</span>, <span style=\"color: #00af00; text-decoration-color: #00af00\">128</span>, <span style=\"color: #00af00; text-decoration-color: #00af00\">626</span>,  │          <span style=\"color: #00af00; text-decoration-color: #00af00\">0</span> │ -                 │\n",
       "│ (<span style=\"color: #0087ff; text-decoration-color: #0087ff\">InputLayer</span>)        │ <span style=\"color: #00af00; text-decoration-color: #00af00\">1</span>)                │            │                   │\n",
       "├─────────────────────┼───────────────────┼────────────┼───────────────────┤\n",
       "│ mel_spectrogram_co… │ (<span style=\"color: #00d7ff; text-decoration-color: #00d7ff\">None</span>, <span style=\"color: #00af00; text-decoration-color: #00af00\">128</span>, <span style=\"color: #00af00; text-decoration-color: #00af00\">751</span>,  │          <span style=\"color: #00af00; text-decoration-color: #00af00\">0</span> │ -                 │\n",
       "│ (<span style=\"color: #0087ff; text-decoration-color: #0087ff\">InputLayer</span>)        │ <span style=\"color: #00af00; text-decoration-color: #00af00\">1</span>)                │            │                   │\n",
       "├─────────────────────┼───────────────────┼────────────┼───────────────────┤\n",
       "│ mel_spectrogram_sp… │ (<span style=\"color: #00d7ff; text-decoration-color: #00d7ff\">None</span>, <span style=\"color: #00af00; text-decoration-color: #00af00\">128</span>, <span style=\"color: #00af00; text-decoration-color: #00af00\">1251</span>, │          <span style=\"color: #00af00; text-decoration-color: #00af00\">0</span> │ -                 │\n",
       "│ (<span style=\"color: #0087ff; text-decoration-color: #0087ff\">InputLayer</span>)        │ <span style=\"color: #00af00; text-decoration-color: #00af00\">1</span>)                │            │                   │\n",
       "├─────────────────────┼───────────────────┼────────────┼───────────────────┤\n",
       "│ conv2d_24 (<span style=\"color: #0087ff; text-decoration-color: #0087ff\">Conv2D</span>)  │ (<span style=\"color: #00d7ff; text-decoration-color: #00d7ff\">None</span>, <span style=\"color: #00af00; text-decoration-color: #00af00\">126</span>, <span style=\"color: #00af00; text-decoration-color: #00af00\">624</span>,  │        <span style=\"color: #00af00; text-decoration-color: #00af00\">160</span> │ mel_spectrogram_… │\n",
       "│                     │ <span style=\"color: #00af00; text-decoration-color: #00af00\">16</span>)               │            │                   │\n",
       "├─────────────────────┼───────────────────┼────────────┼───────────────────┤\n",
       "│ conv2d_28 (<span style=\"color: #0087ff; text-decoration-color: #0087ff\">Conv2D</span>)  │ (<span style=\"color: #00d7ff; text-decoration-color: #00d7ff\">None</span>, <span style=\"color: #00af00; text-decoration-color: #00af00\">126</span>, <span style=\"color: #00af00; text-decoration-color: #00af00\">749</span>,  │        <span style=\"color: #00af00; text-decoration-color: #00af00\">160</span> │ mel_spectrogram_… │\n",
       "│                     │ <span style=\"color: #00af00; text-decoration-color: #00af00\">16</span>)               │            │                   │\n",
       "├─────────────────────┼───────────────────┼────────────┼───────────────────┤\n",
       "│ conv2d_32 (<span style=\"color: #0087ff; text-decoration-color: #0087ff\">Conv2D</span>)  │ (<span style=\"color: #00d7ff; text-decoration-color: #00d7ff\">None</span>, <span style=\"color: #00af00; text-decoration-color: #00af00\">126</span>, <span style=\"color: #00af00; text-decoration-color: #00af00\">1249</span>, │        <span style=\"color: #00af00; text-decoration-color: #00af00\">160</span> │ mel_spectrogram_… │\n",
       "│                     │ <span style=\"color: #00af00; text-decoration-color: #00af00\">16</span>)               │            │                   │\n",
       "├─────────────────────┼───────────────────┼────────────┼───────────────────┤\n",
       "│ max_pooling2d_24    │ (<span style=\"color: #00d7ff; text-decoration-color: #00d7ff\">None</span>, <span style=\"color: #00af00; text-decoration-color: #00af00\">63</span>, <span style=\"color: #00af00; text-decoration-color: #00af00\">312</span>,   │          <span style=\"color: #00af00; text-decoration-color: #00af00\">0</span> │ conv2d_24[<span style=\"color: #00af00; text-decoration-color: #00af00\">0</span>][<span style=\"color: #00af00; text-decoration-color: #00af00\">0</span>]   │\n",
       "│ (<span style=\"color: #0087ff; text-decoration-color: #0087ff\">MaxPooling2D</span>)      │ <span style=\"color: #00af00; text-decoration-color: #00af00\">16</span>)               │            │                   │\n",
       "├─────────────────────┼───────────────────┼────────────┼───────────────────┤\n",
       "│ max_pooling2d_28    │ (<span style=\"color: #00d7ff; text-decoration-color: #00d7ff\">None</span>, <span style=\"color: #00af00; text-decoration-color: #00af00\">63</span>, <span style=\"color: #00af00; text-decoration-color: #00af00\">374</span>,   │          <span style=\"color: #00af00; text-decoration-color: #00af00\">0</span> │ conv2d_28[<span style=\"color: #00af00; text-decoration-color: #00af00\">0</span>][<span style=\"color: #00af00; text-decoration-color: #00af00\">0</span>]   │\n",
       "│ (<span style=\"color: #0087ff; text-decoration-color: #0087ff\">MaxPooling2D</span>)      │ <span style=\"color: #00af00; text-decoration-color: #00af00\">16</span>)               │            │                   │\n",
       "├─────────────────────┼───────────────────┼────────────┼───────────────────┤\n",
       "│ max_pooling2d_32    │ (<span style=\"color: #00d7ff; text-decoration-color: #00d7ff\">None</span>, <span style=\"color: #00af00; text-decoration-color: #00af00\">63</span>, <span style=\"color: #00af00; text-decoration-color: #00af00\">624</span>,   │          <span style=\"color: #00af00; text-decoration-color: #00af00\">0</span> │ conv2d_32[<span style=\"color: #00af00; text-decoration-color: #00af00\">0</span>][<span style=\"color: #00af00; text-decoration-color: #00af00\">0</span>]   │\n",
       "│ (<span style=\"color: #0087ff; text-decoration-color: #0087ff\">MaxPooling2D</span>)      │ <span style=\"color: #00af00; text-decoration-color: #00af00\">16</span>)               │            │                   │\n",
       "├─────────────────────┼───────────────────┼────────────┼───────────────────┤\n",
       "│ conv2d_25 (<span style=\"color: #0087ff; text-decoration-color: #0087ff\">Conv2D</span>)  │ (<span style=\"color: #00d7ff; text-decoration-color: #00d7ff\">None</span>, <span style=\"color: #00af00; text-decoration-color: #00af00\">61</span>, <span style=\"color: #00af00; text-decoration-color: #00af00\">310</span>,   │      <span style=\"color: #00af00; text-decoration-color: #00af00\">2,320</span> │ max_pooling2d_24… │\n",
       "│                     │ <span style=\"color: #00af00; text-decoration-color: #00af00\">16</span>)               │            │                   │\n",
       "├─────────────────────┼───────────────────┼────────────┼───────────────────┤\n",
       "│ conv2d_29 (<span style=\"color: #0087ff; text-decoration-color: #0087ff\">Conv2D</span>)  │ (<span style=\"color: #00d7ff; text-decoration-color: #00d7ff\">None</span>, <span style=\"color: #00af00; text-decoration-color: #00af00\">61</span>, <span style=\"color: #00af00; text-decoration-color: #00af00\">372</span>,   │      <span style=\"color: #00af00; text-decoration-color: #00af00\">2,320</span> │ max_pooling2d_28… │\n",
       "│                     │ <span style=\"color: #00af00; text-decoration-color: #00af00\">16</span>)               │            │                   │\n",
       "├─────────────────────┼───────────────────┼────────────┼───────────────────┤\n",
       "│ conv2d_33 (<span style=\"color: #0087ff; text-decoration-color: #0087ff\">Conv2D</span>)  │ (<span style=\"color: #00d7ff; text-decoration-color: #00d7ff\">None</span>, <span style=\"color: #00af00; text-decoration-color: #00af00\">61</span>, <span style=\"color: #00af00; text-decoration-color: #00af00\">622</span>,   │      <span style=\"color: #00af00; text-decoration-color: #00af00\">2,320</span> │ max_pooling2d_32… │\n",
       "│                     │ <span style=\"color: #00af00; text-decoration-color: #00af00\">16</span>)               │            │                   │\n",
       "├─────────────────────┼───────────────────┼────────────┼───────────────────┤\n",
       "│ max_pooling2d_25    │ (<span style=\"color: #00d7ff; text-decoration-color: #00d7ff\">None</span>, <span style=\"color: #00af00; text-decoration-color: #00af00\">30</span>, <span style=\"color: #00af00; text-decoration-color: #00af00\">155</span>,   │          <span style=\"color: #00af00; text-decoration-color: #00af00\">0</span> │ conv2d_25[<span style=\"color: #00af00; text-decoration-color: #00af00\">0</span>][<span style=\"color: #00af00; text-decoration-color: #00af00\">0</span>]   │\n",
       "│ (<span style=\"color: #0087ff; text-decoration-color: #0087ff\">MaxPooling2D</span>)      │ <span style=\"color: #00af00; text-decoration-color: #00af00\">16</span>)               │            │                   │\n",
       "├─────────────────────┼───────────────────┼────────────┼───────────────────┤\n",
       "│ max_pooling2d_29    │ (<span style=\"color: #00d7ff; text-decoration-color: #00d7ff\">None</span>, <span style=\"color: #00af00; text-decoration-color: #00af00\">30</span>, <span style=\"color: #00af00; text-decoration-color: #00af00\">186</span>,   │          <span style=\"color: #00af00; text-decoration-color: #00af00\">0</span> │ conv2d_29[<span style=\"color: #00af00; text-decoration-color: #00af00\">0</span>][<span style=\"color: #00af00; text-decoration-color: #00af00\">0</span>]   │\n",
       "│ (<span style=\"color: #0087ff; text-decoration-color: #0087ff\">MaxPooling2D</span>)      │ <span style=\"color: #00af00; text-decoration-color: #00af00\">16</span>)               │            │                   │\n",
       "├─────────────────────┼───────────────────┼────────────┼───────────────────┤\n",
       "│ max_pooling2d_33    │ (<span style=\"color: #00d7ff; text-decoration-color: #00d7ff\">None</span>, <span style=\"color: #00af00; text-decoration-color: #00af00\">30</span>, <span style=\"color: #00af00; text-decoration-color: #00af00\">311</span>,   │          <span style=\"color: #00af00; text-decoration-color: #00af00\">0</span> │ conv2d_33[<span style=\"color: #00af00; text-decoration-color: #00af00\">0</span>][<span style=\"color: #00af00; text-decoration-color: #00af00\">0</span>]   │\n",
       "│ (<span style=\"color: #0087ff; text-decoration-color: #0087ff\">MaxPooling2D</span>)      │ <span style=\"color: #00af00; text-decoration-color: #00af00\">16</span>)               │            │                   │\n",
       "├─────────────────────┼───────────────────┼────────────┼───────────────────┤\n",
       "│ other_features      │ (<span style=\"color: #00d7ff; text-decoration-color: #00d7ff\">None</span>, <span style=\"color: #00af00; text-decoration-color: #00af00\">6</span>)         │          <span style=\"color: #00af00; text-decoration-color: #00af00\">0</span> │ -                 │\n",
       "│ (<span style=\"color: #0087ff; text-decoration-color: #0087ff\">InputLayer</span>)        │                   │            │                   │\n",
       "├─────────────────────┼───────────────────┼────────────┼───────────────────┤\n",
       "│ conv2d_26 (<span style=\"color: #0087ff; text-decoration-color: #0087ff\">Conv2D</span>)  │ (<span style=\"color: #00d7ff; text-decoration-color: #00d7ff\">None</span>, <span style=\"color: #00af00; text-decoration-color: #00af00\">28</span>, <span style=\"color: #00af00; text-decoration-color: #00af00\">153</span>,   │      <span style=\"color: #00af00; text-decoration-color: #00af00\">4,640</span> │ max_pooling2d_25… │\n",
       "│                     │ <span style=\"color: #00af00; text-decoration-color: #00af00\">32</span>)               │            │                   │\n",
       "├─────────────────────┼───────────────────┼────────────┼───────────────────┤\n",
       "│ conv2d_30 (<span style=\"color: #0087ff; text-decoration-color: #0087ff\">Conv2D</span>)  │ (<span style=\"color: #00d7ff; text-decoration-color: #00d7ff\">None</span>, <span style=\"color: #00af00; text-decoration-color: #00af00\">28</span>, <span style=\"color: #00af00; text-decoration-color: #00af00\">184</span>,   │      <span style=\"color: #00af00; text-decoration-color: #00af00\">4,640</span> │ max_pooling2d_29… │\n",
       "│                     │ <span style=\"color: #00af00; text-decoration-color: #00af00\">32</span>)               │            │                   │\n",
       "├─────────────────────┼───────────────────┼────────────┼───────────────────┤\n",
       "│ conv2d_34 (<span style=\"color: #0087ff; text-decoration-color: #0087ff\">Conv2D</span>)  │ (<span style=\"color: #00d7ff; text-decoration-color: #00d7ff\">None</span>, <span style=\"color: #00af00; text-decoration-color: #00af00\">28</span>, <span style=\"color: #00af00; text-decoration-color: #00af00\">309</span>,   │      <span style=\"color: #00af00; text-decoration-color: #00af00\">4,640</span> │ max_pooling2d_33… │\n",
       "│                     │ <span style=\"color: #00af00; text-decoration-color: #00af00\">32</span>)               │            │                   │\n",
       "├─────────────────────┼───────────────────┼────────────┼───────────────────┤\n",
       "│ dense_14 (<span style=\"color: #0087ff; text-decoration-color: #0087ff\">Dense</span>)    │ (<span style=\"color: #00d7ff; text-decoration-color: #00d7ff\">None</span>, <span style=\"color: #00af00; text-decoration-color: #00af00\">64</span>)        │        <span style=\"color: #00af00; text-decoration-color: #00af00\">448</span> │ other_features[<span style=\"color: #00af00; text-decoration-color: #00af00\">0</span>… │\n",
       "├─────────────────────┼───────────────────┼────────────┼───────────────────┤\n",
       "│ max_pooling2d_26    │ (<span style=\"color: #00d7ff; text-decoration-color: #00d7ff\">None</span>, <span style=\"color: #00af00; text-decoration-color: #00af00\">14</span>, <span style=\"color: #00af00; text-decoration-color: #00af00\">76</span>,    │          <span style=\"color: #00af00; text-decoration-color: #00af00\">0</span> │ conv2d_26[<span style=\"color: #00af00; text-decoration-color: #00af00\">0</span>][<span style=\"color: #00af00; text-decoration-color: #00af00\">0</span>]   │\n",
       "│ (<span style=\"color: #0087ff; text-decoration-color: #0087ff\">MaxPooling2D</span>)      │ <span style=\"color: #00af00; text-decoration-color: #00af00\">32</span>)               │            │                   │\n",
       "├─────────────────────┼───────────────────┼────────────┼───────────────────┤\n",
       "│ max_pooling2d_30    │ (<span style=\"color: #00d7ff; text-decoration-color: #00d7ff\">None</span>, <span style=\"color: #00af00; text-decoration-color: #00af00\">14</span>, <span style=\"color: #00af00; text-decoration-color: #00af00\">92</span>,    │          <span style=\"color: #00af00; text-decoration-color: #00af00\">0</span> │ conv2d_30[<span style=\"color: #00af00; text-decoration-color: #00af00\">0</span>][<span style=\"color: #00af00; text-decoration-color: #00af00\">0</span>]   │\n",
       "│ (<span style=\"color: #0087ff; text-decoration-color: #0087ff\">MaxPooling2D</span>)      │ <span style=\"color: #00af00; text-decoration-color: #00af00\">32</span>)               │            │                   │\n",
       "├─────────────────────┼───────────────────┼────────────┼───────────────────┤\n",
       "│ max_pooling2d_34    │ (<span style=\"color: #00d7ff; text-decoration-color: #00d7ff\">None</span>, <span style=\"color: #00af00; text-decoration-color: #00af00\">14</span>, <span style=\"color: #00af00; text-decoration-color: #00af00\">154</span>,   │          <span style=\"color: #00af00; text-decoration-color: #00af00\">0</span> │ conv2d_34[<span style=\"color: #00af00; text-decoration-color: #00af00\">0</span>][<span style=\"color: #00af00; text-decoration-color: #00af00\">0</span>]   │\n",
       "│ (<span style=\"color: #0087ff; text-decoration-color: #0087ff\">MaxPooling2D</span>)      │ <span style=\"color: #00af00; text-decoration-color: #00af00\">32</span>)               │            │                   │\n",
       "├─────────────────────┼───────────────────┼────────────┼───────────────────┤\n",
       "│ dense_15 (<span style=\"color: #0087ff; text-decoration-color: #0087ff\">Dense</span>)    │ (<span style=\"color: #00d7ff; text-decoration-color: #00d7ff\">None</span>, <span style=\"color: #00af00; text-decoration-color: #00af00\">128</span>)       │      <span style=\"color: #00af00; text-decoration-color: #00af00\">8,320</span> │ dense_14[<span style=\"color: #00af00; text-decoration-color: #00af00\">0</span>][<span style=\"color: #00af00; text-decoration-color: #00af00\">0</span>]    │\n",
       "├─────────────────────┼───────────────────┼────────────┼───────────────────┤\n",
       "│ conv2d_27 (<span style=\"color: #0087ff; text-decoration-color: #0087ff\">Conv2D</span>)  │ (<span style=\"color: #00d7ff; text-decoration-color: #00d7ff\">None</span>, <span style=\"color: #00af00; text-decoration-color: #00af00\">12</span>, <span style=\"color: #00af00; text-decoration-color: #00af00\">74</span>,    │     <span style=\"color: #00af00; text-decoration-color: #00af00\">18,496</span> │ max_pooling2d_26… │\n",
       "│                     │ <span style=\"color: #00af00; text-decoration-color: #00af00\">64</span>)               │            │                   │\n",
       "├─────────────────────┼───────────────────┼────────────┼───────────────────┤\n",
       "│ conv2d_31 (<span style=\"color: #0087ff; text-decoration-color: #0087ff\">Conv2D</span>)  │ (<span style=\"color: #00d7ff; text-decoration-color: #00d7ff\">None</span>, <span style=\"color: #00af00; text-decoration-color: #00af00\">12</span>, <span style=\"color: #00af00; text-decoration-color: #00af00\">90</span>,    │     <span style=\"color: #00af00; text-decoration-color: #00af00\">18,496</span> │ max_pooling2d_30… │\n",
       "│                     │ <span style=\"color: #00af00; text-decoration-color: #00af00\">64</span>)               │            │                   │\n",
       "├─────────────────────┼───────────────────┼────────────┼───────────────────┤\n",
       "│ conv2d_35 (<span style=\"color: #0087ff; text-decoration-color: #0087ff\">Conv2D</span>)  │ (<span style=\"color: #00d7ff; text-decoration-color: #00d7ff\">None</span>, <span style=\"color: #00af00; text-decoration-color: #00af00\">12</span>, <span style=\"color: #00af00; text-decoration-color: #00af00\">152</span>,   │     <span style=\"color: #00af00; text-decoration-color: #00af00\">18,496</span> │ max_pooling2d_34… │\n",
       "│                     │ <span style=\"color: #00af00; text-decoration-color: #00af00\">64</span>)               │            │                   │\n",
       "├─────────────────────┼───────────────────┼────────────┼───────────────────┤\n",
       "│ dropout_4 (<span style=\"color: #0087ff; text-decoration-color: #0087ff\">Dropout</span>) │ (<span style=\"color: #00d7ff; text-decoration-color: #00d7ff\">None</span>, <span style=\"color: #00af00; text-decoration-color: #00af00\">128</span>)       │          <span style=\"color: #00af00; text-decoration-color: #00af00\">0</span> │ dense_15[<span style=\"color: #00af00; text-decoration-color: #00af00\">0</span>][<span style=\"color: #00af00; text-decoration-color: #00af00\">0</span>]    │\n",
       "├─────────────────────┼───────────────────┼────────────┼───────────────────┤\n",
       "│ max_pooling2d_27    │ (<span style=\"color: #00d7ff; text-decoration-color: #00d7ff\">None</span>, <span style=\"color: #00af00; text-decoration-color: #00af00\">6</span>, <span style=\"color: #00af00; text-decoration-color: #00af00\">37</span>, <span style=\"color: #00af00; text-decoration-color: #00af00\">64</span>) │          <span style=\"color: #00af00; text-decoration-color: #00af00\">0</span> │ conv2d_27[<span style=\"color: #00af00; text-decoration-color: #00af00\">0</span>][<span style=\"color: #00af00; text-decoration-color: #00af00\">0</span>]   │\n",
       "│ (<span style=\"color: #0087ff; text-decoration-color: #0087ff\">MaxPooling2D</span>)      │                   │            │                   │\n",
       "├─────────────────────┼───────────────────┼────────────┼───────────────────┤\n",
       "│ max_pooling2d_31    │ (<span style=\"color: #00d7ff; text-decoration-color: #00d7ff\">None</span>, <span style=\"color: #00af00; text-decoration-color: #00af00\">6</span>, <span style=\"color: #00af00; text-decoration-color: #00af00\">45</span>, <span style=\"color: #00af00; text-decoration-color: #00af00\">64</span>) │          <span style=\"color: #00af00; text-decoration-color: #00af00\">0</span> │ conv2d_31[<span style=\"color: #00af00; text-decoration-color: #00af00\">0</span>][<span style=\"color: #00af00; text-decoration-color: #00af00\">0</span>]   │\n",
       "│ (<span style=\"color: #0087ff; text-decoration-color: #0087ff\">MaxPooling2D</span>)      │                   │            │                   │\n",
       "├─────────────────────┼───────────────────┼────────────┼───────────────────┤\n",
       "│ max_pooling2d_35    │ (<span style=\"color: #00d7ff; text-decoration-color: #00d7ff\">None</span>, <span style=\"color: #00af00; text-decoration-color: #00af00\">6</span>, <span style=\"color: #00af00; text-decoration-color: #00af00\">76</span>, <span style=\"color: #00af00; text-decoration-color: #00af00\">64</span>) │          <span style=\"color: #00af00; text-decoration-color: #00af00\">0</span> │ conv2d_35[<span style=\"color: #00af00; text-decoration-color: #00af00\">0</span>][<span style=\"color: #00af00; text-decoration-color: #00af00\">0</span>]   │\n",
       "│ (<span style=\"color: #0087ff; text-decoration-color: #0087ff\">MaxPooling2D</span>)      │                   │            │                   │\n",
       "├─────────────────────┼───────────────────┼────────────┼───────────────────┤\n",
       "│ dense_16 (<span style=\"color: #0087ff; text-decoration-color: #0087ff\">Dense</span>)    │ (<span style=\"color: #00d7ff; text-decoration-color: #00d7ff\">None</span>, <span style=\"color: #00af00; text-decoration-color: #00af00\">128</span>)       │     <span style=\"color: #00af00; text-decoration-color: #00af00\">16,512</span> │ dropout_4[<span style=\"color: #00af00; text-decoration-color: #00af00\">0</span>][<span style=\"color: #00af00; text-decoration-color: #00af00\">0</span>]   │\n",
       "├─────────────────────┼───────────────────┼────────────┼───────────────────┤\n",
       "│ global_average_poo… │ (<span style=\"color: #00d7ff; text-decoration-color: #00d7ff\">None</span>, <span style=\"color: #00af00; text-decoration-color: #00af00\">64</span>)        │          <span style=\"color: #00af00; text-decoration-color: #00af00\">0</span> │ max_pooling2d_27… │\n",
       "│ (<span style=\"color: #0087ff; text-decoration-color: #0087ff\">GlobalAveragePool…</span> │                   │            │                   │\n",
       "├─────────────────────┼───────────────────┼────────────┼───────────────────┤\n",
       "│ global_average_poo… │ (<span style=\"color: #00d7ff; text-decoration-color: #00d7ff\">None</span>, <span style=\"color: #00af00; text-decoration-color: #00af00\">64</span>)        │          <span style=\"color: #00af00; text-decoration-color: #00af00\">0</span> │ max_pooling2d_31… │\n",
       "│ (<span style=\"color: #0087ff; text-decoration-color: #0087ff\">GlobalAveragePool…</span> │                   │            │                   │\n",
       "├─────────────────────┼───────────────────┼────────────┼───────────────────┤\n",
       "│ global_average_poo… │ (<span style=\"color: #00d7ff; text-decoration-color: #00d7ff\">None</span>, <span style=\"color: #00af00; text-decoration-color: #00af00\">64</span>)        │          <span style=\"color: #00af00; text-decoration-color: #00af00\">0</span> │ max_pooling2d_35… │\n",
       "│ (<span style=\"color: #0087ff; text-decoration-color: #0087ff\">GlobalAveragePool…</span> │                   │            │                   │\n",
       "├─────────────────────┼───────────────────┼────────────┼───────────────────┤\n",
       "│ dense_17 (<span style=\"color: #0087ff; text-decoration-color: #0087ff\">Dense</span>)    │ (<span style=\"color: #00d7ff; text-decoration-color: #00d7ff\">None</span>, <span style=\"color: #00af00; text-decoration-color: #00af00\">64</span>)        │      <span style=\"color: #00af00; text-decoration-color: #00af00\">8,256</span> │ dense_16[<span style=\"color: #00af00; text-decoration-color: #00af00\">0</span>][<span style=\"color: #00af00; text-decoration-color: #00af00\">0</span>]    │\n",
       "├─────────────────────┼───────────────────┼────────────┼───────────────────┤\n",
       "│ concatenate_2       │ (<span style=\"color: #00d7ff; text-decoration-color: #00d7ff\">None</span>, <span style=\"color: #00af00; text-decoration-color: #00af00\">256</span>)       │          <span style=\"color: #00af00; text-decoration-color: #00af00\">0</span> │ global_average_p… │\n",
       "│ (<span style=\"color: #0087ff; text-decoration-color: #0087ff\">Concatenate</span>)       │                   │            │ global_average_p… │\n",
       "│                     │                   │            │ global_average_p… │\n",
       "│                     │                   │            │ dense_17[<span style=\"color: #00af00; text-decoration-color: #00af00\">0</span>][<span style=\"color: #00af00; text-decoration-color: #00af00\">0</span>]    │\n",
       "├─────────────────────┼───────────────────┼────────────┼───────────────────┤\n",
       "│ dense_18 (<span style=\"color: #0087ff; text-decoration-color: #0087ff\">Dense</span>)    │ (<span style=\"color: #00d7ff; text-decoration-color: #00d7ff\">None</span>, <span style=\"color: #00af00; text-decoration-color: #00af00\">128</span>)       │     <span style=\"color: #00af00; text-decoration-color: #00af00\">32,896</span> │ concatenate_2[<span style=\"color: #00af00; text-decoration-color: #00af00\">0</span>]… │\n",
       "├─────────────────────┼───────────────────┼────────────┼───────────────────┤\n",
       "│ dropout_5 (<span style=\"color: #0087ff; text-decoration-color: #0087ff\">Dropout</span>) │ (<span style=\"color: #00d7ff; text-decoration-color: #00d7ff\">None</span>, <span style=\"color: #00af00; text-decoration-color: #00af00\">128</span>)       │          <span style=\"color: #00af00; text-decoration-color: #00af00\">0</span> │ dense_18[<span style=\"color: #00af00; text-decoration-color: #00af00\">0</span>][<span style=\"color: #00af00; text-decoration-color: #00af00\">0</span>]    │\n",
       "├─────────────────────┼───────────────────┼────────────┼───────────────────┤\n",
       "│ dense_19 (<span style=\"color: #0087ff; text-decoration-color: #0087ff\">Dense</span>)    │ (<span style=\"color: #00d7ff; text-decoration-color: #00d7ff\">None</span>, <span style=\"color: #00af00; text-decoration-color: #00af00\">64</span>)        │      <span style=\"color: #00af00; text-decoration-color: #00af00\">8,256</span> │ dropout_5[<span style=\"color: #00af00; text-decoration-color: #00af00\">0</span>][<span style=\"color: #00af00; text-decoration-color: #00af00\">0</span>]   │\n",
       "├─────────────────────┼───────────────────┼────────────┼───────────────────┤\n",
       "│ dense_20 (<span style=\"color: #0087ff; text-decoration-color: #0087ff\">Dense</span>)    │ (<span style=\"color: #00d7ff; text-decoration-color: #00d7ff\">None</span>, <span style=\"color: #00af00; text-decoration-color: #00af00\">1</span>)         │         <span style=\"color: #00af00; text-decoration-color: #00af00\">65</span> │ dense_19[<span style=\"color: #00af00; text-decoration-color: #00af00\">0</span>][<span style=\"color: #00af00; text-decoration-color: #00af00\">0</span>]    │\n",
       "└─────────────────────┴───────────────────┴────────────┴───────────────────┘\n",
       "</pre>\n"
      ],
      "text/plain": [
       "┏━━━━━━━━━━━━━━━━━━━━━┳━━━━━━━━━━━━━━━━━━━┳━━━━━━━━━━━━┳━━━━━━━━━━━━━━━━━━━┓\n",
       "┃\u001b[1m \u001b[0m\u001b[1mLayer (type)       \u001b[0m\u001b[1m \u001b[0m┃\u001b[1m \u001b[0m\u001b[1mOutput Shape     \u001b[0m\u001b[1m \u001b[0m┃\u001b[1m \u001b[0m\u001b[1m   Param #\u001b[0m\u001b[1m \u001b[0m┃\u001b[1m \u001b[0m\u001b[1mConnected to     \u001b[0m\u001b[1m \u001b[0m┃\n",
       "┡━━━━━━━━━━━━━━━━━━━━━╇━━━━━━━━━━━━━━━━━━━╇━━━━━━━━━━━━╇━━━━━━━━━━━━━━━━━━━┩\n",
       "│ mel_spectrogram_br… │ (\u001b[38;5;45mNone\u001b[0m, \u001b[38;5;34m128\u001b[0m, \u001b[38;5;34m626\u001b[0m,  │          \u001b[38;5;34m0\u001b[0m │ -                 │\n",
       "│ (\u001b[38;5;33mInputLayer\u001b[0m)        │ \u001b[38;5;34m1\u001b[0m)                │            │                   │\n",
       "├─────────────────────┼───────────────────┼────────────┼───────────────────┤\n",
       "│ mel_spectrogram_co… │ (\u001b[38;5;45mNone\u001b[0m, \u001b[38;5;34m128\u001b[0m, \u001b[38;5;34m751\u001b[0m,  │          \u001b[38;5;34m0\u001b[0m │ -                 │\n",
       "│ (\u001b[38;5;33mInputLayer\u001b[0m)        │ \u001b[38;5;34m1\u001b[0m)                │            │                   │\n",
       "├─────────────────────┼───────────────────┼────────────┼───────────────────┤\n",
       "│ mel_spectrogram_sp… │ (\u001b[38;5;45mNone\u001b[0m, \u001b[38;5;34m128\u001b[0m, \u001b[38;5;34m1251\u001b[0m, │          \u001b[38;5;34m0\u001b[0m │ -                 │\n",
       "│ (\u001b[38;5;33mInputLayer\u001b[0m)        │ \u001b[38;5;34m1\u001b[0m)                │            │                   │\n",
       "├─────────────────────┼───────────────────┼────────────┼───────────────────┤\n",
       "│ conv2d_24 (\u001b[38;5;33mConv2D\u001b[0m)  │ (\u001b[38;5;45mNone\u001b[0m, \u001b[38;5;34m126\u001b[0m, \u001b[38;5;34m624\u001b[0m,  │        \u001b[38;5;34m160\u001b[0m │ mel_spectrogram_… │\n",
       "│                     │ \u001b[38;5;34m16\u001b[0m)               │            │                   │\n",
       "├─────────────────────┼───────────────────┼────────────┼───────────────────┤\n",
       "│ conv2d_28 (\u001b[38;5;33mConv2D\u001b[0m)  │ (\u001b[38;5;45mNone\u001b[0m, \u001b[38;5;34m126\u001b[0m, \u001b[38;5;34m749\u001b[0m,  │        \u001b[38;5;34m160\u001b[0m │ mel_spectrogram_… │\n",
       "│                     │ \u001b[38;5;34m16\u001b[0m)               │            │                   │\n",
       "├─────────────────────┼───────────────────┼────────────┼───────────────────┤\n",
       "│ conv2d_32 (\u001b[38;5;33mConv2D\u001b[0m)  │ (\u001b[38;5;45mNone\u001b[0m, \u001b[38;5;34m126\u001b[0m, \u001b[38;5;34m1249\u001b[0m, │        \u001b[38;5;34m160\u001b[0m │ mel_spectrogram_… │\n",
       "│                     │ \u001b[38;5;34m16\u001b[0m)               │            │                   │\n",
       "├─────────────────────┼───────────────────┼────────────┼───────────────────┤\n",
       "│ max_pooling2d_24    │ (\u001b[38;5;45mNone\u001b[0m, \u001b[38;5;34m63\u001b[0m, \u001b[38;5;34m312\u001b[0m,   │          \u001b[38;5;34m0\u001b[0m │ conv2d_24[\u001b[38;5;34m0\u001b[0m][\u001b[38;5;34m0\u001b[0m]   │\n",
       "│ (\u001b[38;5;33mMaxPooling2D\u001b[0m)      │ \u001b[38;5;34m16\u001b[0m)               │            │                   │\n",
       "├─────────────────────┼───────────────────┼────────────┼───────────────────┤\n",
       "│ max_pooling2d_28    │ (\u001b[38;5;45mNone\u001b[0m, \u001b[38;5;34m63\u001b[0m, \u001b[38;5;34m374\u001b[0m,   │          \u001b[38;5;34m0\u001b[0m │ conv2d_28[\u001b[38;5;34m0\u001b[0m][\u001b[38;5;34m0\u001b[0m]   │\n",
       "│ (\u001b[38;5;33mMaxPooling2D\u001b[0m)      │ \u001b[38;5;34m16\u001b[0m)               │            │                   │\n",
       "├─────────────────────┼───────────────────┼────────────┼───────────────────┤\n",
       "│ max_pooling2d_32    │ (\u001b[38;5;45mNone\u001b[0m, \u001b[38;5;34m63\u001b[0m, \u001b[38;5;34m624\u001b[0m,   │          \u001b[38;5;34m0\u001b[0m │ conv2d_32[\u001b[38;5;34m0\u001b[0m][\u001b[38;5;34m0\u001b[0m]   │\n",
       "│ (\u001b[38;5;33mMaxPooling2D\u001b[0m)      │ \u001b[38;5;34m16\u001b[0m)               │            │                   │\n",
       "├─────────────────────┼───────────────────┼────────────┼───────────────────┤\n",
       "│ conv2d_25 (\u001b[38;5;33mConv2D\u001b[0m)  │ (\u001b[38;5;45mNone\u001b[0m, \u001b[38;5;34m61\u001b[0m, \u001b[38;5;34m310\u001b[0m,   │      \u001b[38;5;34m2,320\u001b[0m │ max_pooling2d_24… │\n",
       "│                     │ \u001b[38;5;34m16\u001b[0m)               │            │                   │\n",
       "├─────────────────────┼───────────────────┼────────────┼───────────────────┤\n",
       "│ conv2d_29 (\u001b[38;5;33mConv2D\u001b[0m)  │ (\u001b[38;5;45mNone\u001b[0m, \u001b[38;5;34m61\u001b[0m, \u001b[38;5;34m372\u001b[0m,   │      \u001b[38;5;34m2,320\u001b[0m │ max_pooling2d_28… │\n",
       "│                     │ \u001b[38;5;34m16\u001b[0m)               │            │                   │\n",
       "├─────────────────────┼───────────────────┼────────────┼───────────────────┤\n",
       "│ conv2d_33 (\u001b[38;5;33mConv2D\u001b[0m)  │ (\u001b[38;5;45mNone\u001b[0m, \u001b[38;5;34m61\u001b[0m, \u001b[38;5;34m622\u001b[0m,   │      \u001b[38;5;34m2,320\u001b[0m │ max_pooling2d_32… │\n",
       "│                     │ \u001b[38;5;34m16\u001b[0m)               │            │                   │\n",
       "├─────────────────────┼───────────────────┼────────────┼───────────────────┤\n",
       "│ max_pooling2d_25    │ (\u001b[38;5;45mNone\u001b[0m, \u001b[38;5;34m30\u001b[0m, \u001b[38;5;34m155\u001b[0m,   │          \u001b[38;5;34m0\u001b[0m │ conv2d_25[\u001b[38;5;34m0\u001b[0m][\u001b[38;5;34m0\u001b[0m]   │\n",
       "│ (\u001b[38;5;33mMaxPooling2D\u001b[0m)      │ \u001b[38;5;34m16\u001b[0m)               │            │                   │\n",
       "├─────────────────────┼───────────────────┼────────────┼───────────────────┤\n",
       "│ max_pooling2d_29    │ (\u001b[38;5;45mNone\u001b[0m, \u001b[38;5;34m30\u001b[0m, \u001b[38;5;34m186\u001b[0m,   │          \u001b[38;5;34m0\u001b[0m │ conv2d_29[\u001b[38;5;34m0\u001b[0m][\u001b[38;5;34m0\u001b[0m]   │\n",
       "│ (\u001b[38;5;33mMaxPooling2D\u001b[0m)      │ \u001b[38;5;34m16\u001b[0m)               │            │                   │\n",
       "├─────────────────────┼───────────────────┼────────────┼───────────────────┤\n",
       "│ max_pooling2d_33    │ (\u001b[38;5;45mNone\u001b[0m, \u001b[38;5;34m30\u001b[0m, \u001b[38;5;34m311\u001b[0m,   │          \u001b[38;5;34m0\u001b[0m │ conv2d_33[\u001b[38;5;34m0\u001b[0m][\u001b[38;5;34m0\u001b[0m]   │\n",
       "│ (\u001b[38;5;33mMaxPooling2D\u001b[0m)      │ \u001b[38;5;34m16\u001b[0m)               │            │                   │\n",
       "├─────────────────────┼───────────────────┼────────────┼───────────────────┤\n",
       "│ other_features      │ (\u001b[38;5;45mNone\u001b[0m, \u001b[38;5;34m6\u001b[0m)         │          \u001b[38;5;34m0\u001b[0m │ -                 │\n",
       "│ (\u001b[38;5;33mInputLayer\u001b[0m)        │                   │            │                   │\n",
       "├─────────────────────┼───────────────────┼────────────┼───────────────────┤\n",
       "│ conv2d_26 (\u001b[38;5;33mConv2D\u001b[0m)  │ (\u001b[38;5;45mNone\u001b[0m, \u001b[38;5;34m28\u001b[0m, \u001b[38;5;34m153\u001b[0m,   │      \u001b[38;5;34m4,640\u001b[0m │ max_pooling2d_25… │\n",
       "│                     │ \u001b[38;5;34m32\u001b[0m)               │            │                   │\n",
       "├─────────────────────┼───────────────────┼────────────┼───────────────────┤\n",
       "│ conv2d_30 (\u001b[38;5;33mConv2D\u001b[0m)  │ (\u001b[38;5;45mNone\u001b[0m, \u001b[38;5;34m28\u001b[0m, \u001b[38;5;34m184\u001b[0m,   │      \u001b[38;5;34m4,640\u001b[0m │ max_pooling2d_29… │\n",
       "│                     │ \u001b[38;5;34m32\u001b[0m)               │            │                   │\n",
       "├─────────────────────┼───────────────────┼────────────┼───────────────────┤\n",
       "│ conv2d_34 (\u001b[38;5;33mConv2D\u001b[0m)  │ (\u001b[38;5;45mNone\u001b[0m, \u001b[38;5;34m28\u001b[0m, \u001b[38;5;34m309\u001b[0m,   │      \u001b[38;5;34m4,640\u001b[0m │ max_pooling2d_33… │\n",
       "│                     │ \u001b[38;5;34m32\u001b[0m)               │            │                   │\n",
       "├─────────────────────┼───────────────────┼────────────┼───────────────────┤\n",
       "│ dense_14 (\u001b[38;5;33mDense\u001b[0m)    │ (\u001b[38;5;45mNone\u001b[0m, \u001b[38;5;34m64\u001b[0m)        │        \u001b[38;5;34m448\u001b[0m │ other_features[\u001b[38;5;34m0\u001b[0m… │\n",
       "├─────────────────────┼───────────────────┼────────────┼───────────────────┤\n",
       "│ max_pooling2d_26    │ (\u001b[38;5;45mNone\u001b[0m, \u001b[38;5;34m14\u001b[0m, \u001b[38;5;34m76\u001b[0m,    │          \u001b[38;5;34m0\u001b[0m │ conv2d_26[\u001b[38;5;34m0\u001b[0m][\u001b[38;5;34m0\u001b[0m]   │\n",
       "│ (\u001b[38;5;33mMaxPooling2D\u001b[0m)      │ \u001b[38;5;34m32\u001b[0m)               │            │                   │\n",
       "├─────────────────────┼───────────────────┼────────────┼───────────────────┤\n",
       "│ max_pooling2d_30    │ (\u001b[38;5;45mNone\u001b[0m, \u001b[38;5;34m14\u001b[0m, \u001b[38;5;34m92\u001b[0m,    │          \u001b[38;5;34m0\u001b[0m │ conv2d_30[\u001b[38;5;34m0\u001b[0m][\u001b[38;5;34m0\u001b[0m]   │\n",
       "│ (\u001b[38;5;33mMaxPooling2D\u001b[0m)      │ \u001b[38;5;34m32\u001b[0m)               │            │                   │\n",
       "├─────────────────────┼───────────────────┼────────────┼───────────────────┤\n",
       "│ max_pooling2d_34    │ (\u001b[38;5;45mNone\u001b[0m, \u001b[38;5;34m14\u001b[0m, \u001b[38;5;34m154\u001b[0m,   │          \u001b[38;5;34m0\u001b[0m │ conv2d_34[\u001b[38;5;34m0\u001b[0m][\u001b[38;5;34m0\u001b[0m]   │\n",
       "│ (\u001b[38;5;33mMaxPooling2D\u001b[0m)      │ \u001b[38;5;34m32\u001b[0m)               │            │                   │\n",
       "├─────────────────────┼───────────────────┼────────────┼───────────────────┤\n",
       "│ dense_15 (\u001b[38;5;33mDense\u001b[0m)    │ (\u001b[38;5;45mNone\u001b[0m, \u001b[38;5;34m128\u001b[0m)       │      \u001b[38;5;34m8,320\u001b[0m │ dense_14[\u001b[38;5;34m0\u001b[0m][\u001b[38;5;34m0\u001b[0m]    │\n",
       "├─────────────────────┼───────────────────┼────────────┼───────────────────┤\n",
       "│ conv2d_27 (\u001b[38;5;33mConv2D\u001b[0m)  │ (\u001b[38;5;45mNone\u001b[0m, \u001b[38;5;34m12\u001b[0m, \u001b[38;5;34m74\u001b[0m,    │     \u001b[38;5;34m18,496\u001b[0m │ max_pooling2d_26… │\n",
       "│                     │ \u001b[38;5;34m64\u001b[0m)               │            │                   │\n",
       "├─────────────────────┼───────────────────┼────────────┼───────────────────┤\n",
       "│ conv2d_31 (\u001b[38;5;33mConv2D\u001b[0m)  │ (\u001b[38;5;45mNone\u001b[0m, \u001b[38;5;34m12\u001b[0m, \u001b[38;5;34m90\u001b[0m,    │     \u001b[38;5;34m18,496\u001b[0m │ max_pooling2d_30… │\n",
       "│                     │ \u001b[38;5;34m64\u001b[0m)               │            │                   │\n",
       "├─────────────────────┼───────────────────┼────────────┼───────────────────┤\n",
       "│ conv2d_35 (\u001b[38;5;33mConv2D\u001b[0m)  │ (\u001b[38;5;45mNone\u001b[0m, \u001b[38;5;34m12\u001b[0m, \u001b[38;5;34m152\u001b[0m,   │     \u001b[38;5;34m18,496\u001b[0m │ max_pooling2d_34… │\n",
       "│                     │ \u001b[38;5;34m64\u001b[0m)               │            │                   │\n",
       "├─────────────────────┼───────────────────┼────────────┼───────────────────┤\n",
       "│ dropout_4 (\u001b[38;5;33mDropout\u001b[0m) │ (\u001b[38;5;45mNone\u001b[0m, \u001b[38;5;34m128\u001b[0m)       │          \u001b[38;5;34m0\u001b[0m │ dense_15[\u001b[38;5;34m0\u001b[0m][\u001b[38;5;34m0\u001b[0m]    │\n",
       "├─────────────────────┼───────────────────┼────────────┼───────────────────┤\n",
       "│ max_pooling2d_27    │ (\u001b[38;5;45mNone\u001b[0m, \u001b[38;5;34m6\u001b[0m, \u001b[38;5;34m37\u001b[0m, \u001b[38;5;34m64\u001b[0m) │          \u001b[38;5;34m0\u001b[0m │ conv2d_27[\u001b[38;5;34m0\u001b[0m][\u001b[38;5;34m0\u001b[0m]   │\n",
       "│ (\u001b[38;5;33mMaxPooling2D\u001b[0m)      │                   │            │                   │\n",
       "├─────────────────────┼───────────────────┼────────────┼───────────────────┤\n",
       "│ max_pooling2d_31    │ (\u001b[38;5;45mNone\u001b[0m, \u001b[38;5;34m6\u001b[0m, \u001b[38;5;34m45\u001b[0m, \u001b[38;5;34m64\u001b[0m) │          \u001b[38;5;34m0\u001b[0m │ conv2d_31[\u001b[38;5;34m0\u001b[0m][\u001b[38;5;34m0\u001b[0m]   │\n",
       "│ (\u001b[38;5;33mMaxPooling2D\u001b[0m)      │                   │            │                   │\n",
       "├─────────────────────┼───────────────────┼────────────┼───────────────────┤\n",
       "│ max_pooling2d_35    │ (\u001b[38;5;45mNone\u001b[0m, \u001b[38;5;34m6\u001b[0m, \u001b[38;5;34m76\u001b[0m, \u001b[38;5;34m64\u001b[0m) │          \u001b[38;5;34m0\u001b[0m │ conv2d_35[\u001b[38;5;34m0\u001b[0m][\u001b[38;5;34m0\u001b[0m]   │\n",
       "│ (\u001b[38;5;33mMaxPooling2D\u001b[0m)      │                   │            │                   │\n",
       "├─────────────────────┼───────────────────┼────────────┼───────────────────┤\n",
       "│ dense_16 (\u001b[38;5;33mDense\u001b[0m)    │ (\u001b[38;5;45mNone\u001b[0m, \u001b[38;5;34m128\u001b[0m)       │     \u001b[38;5;34m16,512\u001b[0m │ dropout_4[\u001b[38;5;34m0\u001b[0m][\u001b[38;5;34m0\u001b[0m]   │\n",
       "├─────────────────────┼───────────────────┼────────────┼───────────────────┤\n",
       "│ global_average_poo… │ (\u001b[38;5;45mNone\u001b[0m, \u001b[38;5;34m64\u001b[0m)        │          \u001b[38;5;34m0\u001b[0m │ max_pooling2d_27… │\n",
       "│ (\u001b[38;5;33mGlobalAveragePool…\u001b[0m │                   │            │                   │\n",
       "├─────────────────────┼───────────────────┼────────────┼───────────────────┤\n",
       "│ global_average_poo… │ (\u001b[38;5;45mNone\u001b[0m, \u001b[38;5;34m64\u001b[0m)        │          \u001b[38;5;34m0\u001b[0m │ max_pooling2d_31… │\n",
       "│ (\u001b[38;5;33mGlobalAveragePool…\u001b[0m │                   │            │                   │\n",
       "├─────────────────────┼───────────────────┼────────────┼───────────────────┤\n",
       "│ global_average_poo… │ (\u001b[38;5;45mNone\u001b[0m, \u001b[38;5;34m64\u001b[0m)        │          \u001b[38;5;34m0\u001b[0m │ max_pooling2d_35… │\n",
       "│ (\u001b[38;5;33mGlobalAveragePool…\u001b[0m │                   │            │                   │\n",
       "├─────────────────────┼───────────────────┼────────────┼───────────────────┤\n",
       "│ dense_17 (\u001b[38;5;33mDense\u001b[0m)    │ (\u001b[38;5;45mNone\u001b[0m, \u001b[38;5;34m64\u001b[0m)        │      \u001b[38;5;34m8,256\u001b[0m │ dense_16[\u001b[38;5;34m0\u001b[0m][\u001b[38;5;34m0\u001b[0m]    │\n",
       "├─────────────────────┼───────────────────┼────────────┼───────────────────┤\n",
       "│ concatenate_2       │ (\u001b[38;5;45mNone\u001b[0m, \u001b[38;5;34m256\u001b[0m)       │          \u001b[38;5;34m0\u001b[0m │ global_average_p… │\n",
       "│ (\u001b[38;5;33mConcatenate\u001b[0m)       │                   │            │ global_average_p… │\n",
       "│                     │                   │            │ global_average_p… │\n",
       "│                     │                   │            │ dense_17[\u001b[38;5;34m0\u001b[0m][\u001b[38;5;34m0\u001b[0m]    │\n",
       "├─────────────────────┼───────────────────┼────────────┼───────────────────┤\n",
       "│ dense_18 (\u001b[38;5;33mDense\u001b[0m)    │ (\u001b[38;5;45mNone\u001b[0m, \u001b[38;5;34m128\u001b[0m)       │     \u001b[38;5;34m32,896\u001b[0m │ concatenate_2[\u001b[38;5;34m0\u001b[0m]… │\n",
       "├─────────────────────┼───────────────────┼────────────┼───────────────────┤\n",
       "│ dropout_5 (\u001b[38;5;33mDropout\u001b[0m) │ (\u001b[38;5;45mNone\u001b[0m, \u001b[38;5;34m128\u001b[0m)       │          \u001b[38;5;34m0\u001b[0m │ dense_18[\u001b[38;5;34m0\u001b[0m][\u001b[38;5;34m0\u001b[0m]    │\n",
       "├─────────────────────┼───────────────────┼────────────┼───────────────────┤\n",
       "│ dense_19 (\u001b[38;5;33mDense\u001b[0m)    │ (\u001b[38;5;45mNone\u001b[0m, \u001b[38;5;34m64\u001b[0m)        │      \u001b[38;5;34m8,256\u001b[0m │ dropout_5[\u001b[38;5;34m0\u001b[0m][\u001b[38;5;34m0\u001b[0m]   │\n",
       "├─────────────────────┼───────────────────┼────────────┼───────────────────┤\n",
       "│ dense_20 (\u001b[38;5;33mDense\u001b[0m)    │ (\u001b[38;5;45mNone\u001b[0m, \u001b[38;5;34m1\u001b[0m)         │         \u001b[38;5;34m65\u001b[0m │ dense_19[\u001b[38;5;34m0\u001b[0m][\u001b[38;5;34m0\u001b[0m]    │\n",
       "└─────────────────────┴───────────────────┴────────────┴───────────────────┘\n"
      ]
     },
     "metadata": {},
     "output_type": "display_data"
    },
    {
     "data": {
      "text/html": [
       "<pre style=\"white-space:pre;overflow-x:auto;line-height:normal;font-family:Menlo,'DejaVu Sans Mono',consolas,'Courier New',monospace\"><span style=\"font-weight: bold\"> Total params: </span><span style=\"color: #00af00; text-decoration-color: #00af00\">151,601</span> (592.19 KB)\n",
       "</pre>\n"
      ],
      "text/plain": [
       "\u001b[1m Total params: \u001b[0m\u001b[38;5;34m151,601\u001b[0m (592.19 KB)\n"
      ]
     },
     "metadata": {},
     "output_type": "display_data"
    },
    {
     "data": {
      "text/html": [
       "<pre style=\"white-space:pre;overflow-x:auto;line-height:normal;font-family:Menlo,'DejaVu Sans Mono',consolas,'Courier New',monospace\"><span style=\"font-weight: bold\"> Trainable params: </span><span style=\"color: #00af00; text-decoration-color: #00af00\">151,601</span> (592.19 KB)\n",
       "</pre>\n"
      ],
      "text/plain": [
       "\u001b[1m Trainable params: \u001b[0m\u001b[38;5;34m151,601\u001b[0m (592.19 KB)\n"
      ]
     },
     "metadata": {},
     "output_type": "display_data"
    },
    {
     "data": {
      "text/html": [
       "<pre style=\"white-space:pre;overflow-x:auto;line-height:normal;font-family:Menlo,'DejaVu Sans Mono',consolas,'Courier New',monospace\"><span style=\"font-weight: bold\"> Non-trainable params: </span><span style=\"color: #00af00; text-decoration-color: #00af00\">0</span> (0.00 B)\n",
       "</pre>\n"
      ],
      "text/plain": [
       "\u001b[1m Non-trainable params: \u001b[0m\u001b[38;5;34m0\u001b[0m (0.00 B)\n"
      ]
     },
     "metadata": {},
     "output_type": "display_data"
    }
   ],
   "source": [
    "# Define the model with two inputs\n",
    "model = tf.keras.Model(inputs=[mel_input_breathing, mel_input_cough, mel_input_speech, other_input], outputs=z)\n",
    "\n",
    "# Compile the model\n",
    "model.compile(optimizer='adam', loss='binary_crossentropy', metrics=['accuracy','recall','precision'])\n",
    "\n",
    "# Print model summary\n",
    "model.summary()"
   ]
  },
  {
   "cell_type": "code",
   "execution_count": null,
   "metadata": {},
   "outputs": [
    {
     "name": "stdout",
     "output_type": "stream",
     "text": [
      "Training set shapes:\n",
      "Breathing: (617, 128, 626, 1)\n",
      "Coughing: (617, 128, 751, 1)\n",
      "Speech: (617, 128, 1251, 1)\n",
      "Other Features: (617, 6)\n",
      "Labels: (617,)\n",
      "\n",
      "Validation set shapes:\n",
      "Breathing: (155, 128, 626, 1)\n",
      "Coughing: (155, 128, 751, 1)\n",
      "Speech: (155, 128, 1251, 1)\n",
      "Other Features: (155, 6)\n",
      "Labels: (155,)\n"
     ]
    }
   ],
   "source": [
    "X_train_breathing, X_val_breathing, \\\n",
    "X_train_coughing, X_val_coughing, \\\n",
    "X_train_speech, X_val_speech, \\\n",
    "X_train_other_features, X_val_other_features, \\\n",
    "y_train, y_val = train_test_split(\n",
    "    spectrograms_train_breathing,\n",
    "    spectrograms_train_coughing,\n",
    "    spectrograms_train_speech,\n",
    "    other_features_resampled,\n",
    "    y_train,\n",
    "    test_size=0.2,\n",
    "    random_state=seed,\n",
    "    stratify=y_train\n",
    ")\n",
    "\n",
    "# Step 2: Verify shapes of training and validation sets\n",
    "print(\"Training set shapes:\")\n",
    "print(\"Breathing:\", X_train_breathing.shape)\n",
    "print(\"Coughing:\", X_train_coughing.shape)\n",
    "print(\"Speech:\", X_train_speech.shape)\n",
    "print(\"Other Features:\", X_train_other_features.shape)\n",
    "print(\"Labels:\", y_train.shape)\n",
    "\n",
    "print(\"\\nValidation set shapes:\")\n",
    "print(\"Breathing:\", X_val_breathing.shape)\n",
    "print(\"Coughing:\", X_val_coughing.shape)\n",
    "print(\"Speech:\", X_val_speech.shape)\n",
    "print(\"Other Features:\", X_val_other_features.shape)\n",
    "print(\"Labels:\", y_val.shape)\n"
   ]
  },
  {
   "cell_type": "code",
   "execution_count": null,
   "metadata": {},
   "outputs": [],
   "source": [
    "from sklearn.utils.class_weight import compute_class_weight\n",
    "\n",
    "class_weights = compute_class_weight(\n",
    "    class_weight='balanced',\n",
    "    classes=np.unique(y_train),\n",
    "    y=y_train\n",
    ")"
   ]
  },
  {
   "cell_type": "code",
   "execution_count": null,
   "metadata": {},
   "outputs": [
    {
     "name": "stdout",
     "output_type": "stream",
     "text": [
      "Epoch 1/50\n",
      "\u001b[1m20/20\u001b[0m \u001b[32m━━━━━━━━━━━━━━━━━━━━\u001b[0m\u001b[37m\u001b[0m \u001b[1m29s\u001b[0m 1s/step - accuracy: 0.4916 - loss: 11.1316 - precision: 0.1816 - recall: 0.4538 - val_accuracy: 0.6194 - val_loss: 1.0005 - val_precision: 0.1961 - val_recall: 0.3571\n",
      "Epoch 2/50\n",
      "\u001b[1m20/20\u001b[0m \u001b[32m━━━━━━━━━━━━━━━━━━━━\u001b[0m\u001b[37m\u001b[0m \u001b[1m28s\u001b[0m 1s/step - accuracy: 0.5173 - loss: 5.3053 - precision: 0.2067 - recall: 0.5093 - val_accuracy: 0.1935 - val_loss: 1.7798 - val_precision: 0.1830 - val_recall: 1.0000\n",
      "Epoch 3/50\n",
      "\u001b[1m20/20\u001b[0m \u001b[32m━━━━━━━━━━━━━━━━━━━━\u001b[0m\u001b[37m\u001b[0m \u001b[1m27s\u001b[0m 1s/step - accuracy: 0.5203 - loss: 3.4475 - precision: 0.1966 - recall: 0.4604 - val_accuracy: 0.7871 - val_loss: 0.5310 - val_precision: 0.2727 - val_recall: 0.1071\n",
      "Epoch 4/50\n",
      "\u001b[1m20/20\u001b[0m \u001b[32m━━━━━━━━━━━━━━━━━━━━\u001b[0m\u001b[37m\u001b[0m \u001b[1m29s\u001b[0m 1s/step - accuracy: 0.5112 - loss: 2.5075 - precision: 0.1854 - recall: 0.4364 - val_accuracy: 0.2000 - val_loss: 1.1630 - val_precision: 0.1757 - val_recall: 0.9286\n",
      "Epoch 5/50\n",
      "\u001b[1m20/20\u001b[0m \u001b[32m━━━━━━━━━━━━━━━━━━━━\u001b[0m\u001b[37m\u001b[0m \u001b[1m29s\u001b[0m 1s/step - accuracy: 0.5223 - loss: 1.3940 - precision: 0.2222 - recall: 0.5717 - val_accuracy: 0.8065 - val_loss: 0.5405 - val_precision: 0.4000 - val_recall: 0.1429\n",
      "Epoch 6/50\n",
      "\u001b[1m20/20\u001b[0m \u001b[32m━━━━━━━━━━━━━━━━━━━━\u001b[0m\u001b[37m\u001b[0m \u001b[1m29s\u001b[0m 1s/step - accuracy: 0.5446 - loss: 1.2207 - precision: 0.2175 - recall: 0.5059 - val_accuracy: 0.8194 - val_loss: 0.4839 - val_precision: 0.5000 - val_recall: 0.0714\n",
      "Epoch 7/50\n",
      "\u001b[1m20/20\u001b[0m \u001b[32m━━━━━━━━━━━━━━━━━━━━\u001b[0m\u001b[37m\u001b[0m \u001b[1m28s\u001b[0m 1s/step - accuracy: 0.5162 - loss: 1.4267 - precision: 0.1601 - recall: 0.3477 - val_accuracy: 0.8129 - val_loss: 0.4708 - val_precision: 0.3333 - val_recall: 0.0357\n",
      "Epoch 8/50\n",
      "\u001b[1m20/20\u001b[0m \u001b[32m━━━━━━━━━━━━━━━━━━━━\u001b[0m\u001b[37m\u001b[0m \u001b[1m28s\u001b[0m 1s/step - accuracy: 0.5436 - loss: 1.0078 - precision: 0.2155 - recall: 0.4951 - val_accuracy: 0.8129 - val_loss: 0.6215 - val_precision: 0.4444 - val_recall: 0.1429\n",
      "Epoch 9/50\n",
      "\u001b[1m20/20\u001b[0m \u001b[32m━━━━━━━━━━━━━━━━━━━━\u001b[0m\u001b[37m\u001b[0m \u001b[1m29s\u001b[0m 1s/step - accuracy: 0.4027 - loss: 0.9153 - precision: 0.1734 - recall: 0.5464 - val_accuracy: 0.1871 - val_loss: 0.7518 - val_precision: 0.1818 - val_recall: 1.0000\n",
      "Epoch 10/50\n",
      "\u001b[1m20/20\u001b[0m \u001b[32m━━━━━━━━━━━━━━━━━━━━\u001b[0m\u001b[37m\u001b[0m \u001b[1m28s\u001b[0m 1s/step - accuracy: 0.4878 - loss: 0.7953 - precision: 0.2263 - recall: 0.6634 - val_accuracy: 0.3226 - val_loss: 0.7023 - val_precision: 0.1818 - val_recall: 0.7857\n",
      "Epoch 11/50\n",
      "\u001b[1m20/20\u001b[0m \u001b[32m━━━━━━━━━━━━━━━━━━━━\u001b[0m\u001b[37m\u001b[0m \u001b[1m31s\u001b[0m 2s/step - accuracy: 0.4794 - loss: 0.7812 - precision: 0.1833 - recall: 0.4825 - val_accuracy: 0.1806 - val_loss: 0.7423 - val_precision: 0.1806 - val_recall: 1.0000\n",
      "Epoch 12/50\n",
      "\u001b[1m20/20\u001b[0m \u001b[32m━━━━━━━━━━━━━━━━━━━━\u001b[0m\u001b[37m\u001b[0m \u001b[1m31s\u001b[0m 2s/step - accuracy: 0.5599 - loss: 0.7235 - precision: 0.2394 - recall: 0.5647 - val_accuracy: 0.3484 - val_loss: 0.7183 - val_precision: 0.2126 - val_recall: 0.9643\n",
      "Epoch 12: early stopping\n",
      "Restoring model weights from the end of the best epoch: 7.\n",
      "\u001b[1m5/5\u001b[0m \u001b[32m━━━━━━━━━━━━━━━━━━━━\u001b[0m\u001b[37m\u001b[0m \u001b[1m2s\u001b[0m 300ms/step - accuracy: 0.8161 - loss: 0.4713 - precision: 0.3889 - recall: 0.0412    \n",
      "loss: 0.4707532227039337\n",
      "compile_metrics: 0.8129032254219055\n"
     ]
    }
   ],
   "source": [
    "from tensorflow.keras.callbacks import EarlyStopping\n",
    "\n",
    "# EarlyStopping callback\n",
    "early_stopping = EarlyStopping(\n",
    "    monitor='val_loss',         # Metric to monitor (e.g., validation loss)\n",
    "    patience=5,                 # Number of epochs with no improvement before stopping\n",
    "    restore_best_weights=True,  # Restore the weights of the best epoch\n",
    "    verbose=1                   # Print messages when early stopping is triggered\n",
    ")\n",
    "\n",
    "history = model.fit(\n",
    "    [X_train_breathing, X_train_coughing, X_train_speech, X_train_other_features],\n",
    "    y_train,\n",
    "    validation_data=(\n",
    "        [X_val_breathing, X_val_coughing, X_val_speech, X_val_other_features],\n",
    "        y_val\n",
    "    ),\n",
    "    epochs=50,\n",
    "    batch_size=32,\n",
    "    callbacks=[early_stopping],\n",
    "    class_weight=dict(enumerate(class_weights))\n",
    ")\n",
    "\n",
    "\n",
    "# Step 4: Evaluate the model on the validation set\n",
    "results = model.evaluate(\n",
    "    [X_val_breathing, X_val_coughing, X_val_speech, X_val_other_features],\n",
    "    y_val\n",
    ")\n",
    "\n",
    "# Print all evaluation metrics\n",
    "for metric_name, metric_value in zip(model.metrics_names, results):\n",
    "    print(f\"{metric_name}: {metric_value}\")"
   ]
  },
  {
   "cell_type": "code",
   "execution_count": null,
   "metadata": {},
   "outputs": [
    {
     "name": "stdout",
     "output_type": "stream",
     "text": [
      "\u001b[1m20/20\u001b[0m \u001b[32m━━━━━━━━━━━━━━━━━━━━\u001b[0m\u001b[37m\u001b[0m \u001b[1m6s\u001b[0m 304ms/step\n"
     ]
    }
   ],
   "source": [
    "y_pred_train = model.predict([X_train_breathing, X_train_coughing, X_train_speech, X_train_other_features])"
   ]
  },
  {
   "cell_type": "code",
   "execution_count": null,
   "metadata": {},
   "outputs": [],
   "source": [
    "y_pred_train_binary = (y_pred_train > 0.6).astype(int)"
   ]
  },
  {
   "cell_type": "code",
   "execution_count": null,
   "metadata": {},
   "outputs": [
    {
     "data": {
      "text/plain": [
       "((617,), (617, 1))"
      ]
     },
     "execution_count": 111,
     "metadata": {},
     "output_type": "execute_result"
    }
   ],
   "source": [
    "y_train.shape, y_pred_train_binary.shape"
   ]
  },
  {
   "cell_type": "code",
   "execution_count": null,
   "metadata": {},
   "outputs": [
    {
     "name": "stdout",
     "output_type": "stream",
     "text": [
      "Training Accuracy: 0.8233387358184765\n"
     ]
    }
   ],
   "source": [
    "from sklearn.metrics import accuracy_score\n",
    "accuracy_train = accuracy_score(y_train, y_pred_train_binary)\n",
    "\n",
    "print(f\"Training Accuracy: {accuracy_train}\")"
   ]
  },
  {
   "cell_type": "code",
   "execution_count": null,
   "metadata": {},
   "outputs": [
    {
     "data": {
      "text/plain": [
       "0.8233387358184765"
      ]
     },
     "execution_count": 113,
     "metadata": {},
     "output_type": "execute_result"
    }
   ],
   "source": [
    "accuracy_train"
   ]
  },
  {
   "cell_type": "code",
   "execution_count": null,
   "metadata": {},
   "outputs": [
    {
     "data": {
      "image/png": "[encoded data removed]",
      "text/plain": [
       "<Figure size 640x480 with 2 Axes>"
      ]
     },
     "metadata": {},
     "output_type": "display_data"
    }
   ],
   "source": [
    "from sklearn.metrics import confusion_matrix, ConfusionMatrixDisplay\n",
    "\n",
    "cm = confusion_matrix(y_train, y_pred_train_binary)\n",
    "\n",
    "# Step 4: Visualize or print the confusion matrix\n",
    "disp = ConfusionMatrixDisplay(confusion_matrix=cm)\n",
    "disp.plot(cmap=plt.cm.Blues)\n",
    "plt.title(\"Confusion Matrix for Training Data\")\n",
    "plt.show()"
   ]
  },
  {
   "cell_type": "code",
   "execution_count": null,
   "metadata": {},
   "outputs": [
    {
     "name": "stdout",
     "output_type": "stream",
     "text": [
      "\u001b[1m7/7\u001b[0m \u001b[32m━━━━━━━━━━━━━━━━━━━━\u001b[0m\u001b[37m\u001b[0m \u001b[1m2s\u001b[0m 280ms/step\n"
     ]
    }
   ],
   "source": [
    "y_pred_test = model.predict([spectrograms_test_breathing, spectrograms_test_coughing, spectrograms_test_speech, other_features_test])"
   ]
  },
  {
   "cell_type": "code",
   "execution_count": null,
   "metadata": {},
   "outputs": [],
   "source": [
    "y_pred_test_binary = (y_pred_test > 0.6).astype(int)"
   ]
  },
  {
   "cell_type": "code",
   "execution_count": null,
   "metadata": {},
   "outputs": [],
   "source": [
    "cm = confusion_matrix(y_test, y_pred_test_binary)"
   ]
  },
  {
   "cell_type": "code",
   "execution_count": null,
   "metadata": {},
   "outputs": [
    {
     "data": {
      "image/png": "[encoded data removed]",
      "text/plain": [
       "<Figure size 640x480 with 2 Axes>"
      ]
     },
     "metadata": {},
     "output_type": "display_data"
    }
   ],
   "source": [
    "disp = ConfusionMatrixDisplay(cm)\n",
    "\n",
    "disp.plot()\n",
    "plt.title(\"Confusion Matrix for Testing Data\")\n",
    "plt.show()"
   ]
  },
  {
   "cell_type": "code",
   "execution_count": null,
   "metadata": {},
   "outputs": [
    {
     "data": {
      "text/plain": [
       "0.8238341968911918"
      ]
     },
     "execution_count": 119,
     "metadata": {},
     "output_type": "execute_result"
    }
   ],
   "source": [
    "accuracy_test = accuracy_score(y_test, y_pred_test_binary)\n",
    "accuracy_test"
   ]
  },
  {
   "cell_type": "markdown",
   "metadata": {},
   "source": [
    "## SMOTETomek\n",
    "- Doesn't categorize '1's correctly"
   ]
  },
  {
   "cell_type": "code",
   "execution_count": null,
   "metadata": {},
   "outputs": [],
   "source": [
    "from imblearn.combine import SMOTETomek\n",
    "\n",
    "smote_tomek = SMOTETomek(smote=smote, random_state=seed)\n",
    "X_train_resampled, y_train_resampled = smote_tomek.fit_resample(X_train, y_train)"
   ]
  },
  {
   "cell_type": "code",
   "execution_count": null,
   "metadata": {},
   "outputs": [
    {
     "name": "stdout",
     "output_type": "stream",
     "text": [
      "Original class distribution: Counter({np.int64(0): 634, np.int64(1): 138})\n",
      "Resampled class distribution: Counter({np.int64(0): 629, np.int64(1): 312})\n"
     ]
    }
   ],
   "source": [
    "# Print resampled class distribution\n",
    "print(f\"Original class distribution: {Counter(y_train)}\")\n",
    "print(f\"Resampled class distribution: {Counter(y_train_resampled)}\")"
   ]
  },
  {
   "cell_type": "code",
   "execution_count": null,
   "metadata": {},
   "outputs": [],
   "source": [
    "# Constants for updated time frames\n",
    "num_mel_bands = 128\n",
    "original_time_frames_breathing = 626 # prev: 622\n",
    "original_time_frames_coughing = 751 # prev: 747\n",
    "original_time_frames_speech = 1251 # prev: 1247\n",
    "\n",
    "# Total original time frames\n",
    "original_total_time_frames = original_time_frames_breathing + original_time_frames_coughing + original_time_frames_speech\n",
    "\n",
    "# Total spectrogram features\n",
    "total_padded_spectrogram_features = num_mel_bands * (max_time_frames * 3)"
   ]
  },
  {
   "cell_type": "code",
   "execution_count": null,
   "metadata": {},
   "outputs": [],
   "source": [
    "# Separate resampled padded spectrograms and other features for X_train_resampled\n",
    "padded_spectrograms_resampled = X_train_resampled[:, :total_padded_spectrogram_features]\n",
    "other_features_resampled = X_train_resampled[:, total_padded_spectrogram_features:]"
   ]
  },
  {
   "cell_type": "code",
   "execution_count": null,
   "metadata": {},
   "outputs": [],
   "source": [
    "padded_spectrograms_resampled_reshaped = padded_spectrograms_resampled.reshape(\n",
    "    padded_spectrograms_resampled.shape[0], num_mel_bands,\n",
    "    max_time_frames * 3, 1\n",
    ")"
   ]
  },
  {
   "cell_type": "code",
   "execution_count": null,
   "metadata": {},
   "outputs": [],
   "source": [
    "# Define a function to extract the original spectrograms without padding\n",
    "def extract_original_spectrograms(padded_spectrograms, time_frames_breathing, time_frames_coughing, time_frames_speech):\n",
    "    # Extract breathing spectrogram\n",
    "    breathing = padded_spectrograms[:, :, :time_frames_breathing, :]\n",
    "    \n",
    "    # Extract coughing spectrogram\n",
    "    coughing_start = time_frames_breathing\n",
    "    coughing_end = time_frames_breathing + time_frames_coughing\n",
    "    coughing = padded_spectrograms[:, :, coughing_start:coughing_end, :]\n",
    "    \n",
    "    # Extract speech spectrogram\n",
    "    speech_start = coughing_end\n",
    "    speech_end = speech_start + time_frames_speech\n",
    "    speech = padded_spectrograms[:, :, speech_start:speech_end, :]\n",
    "    \n",
    "    return breathing, coughing, speech\n",
    "\n",
    "# Extract the original spectrograms from the padded data\n",
    "spectrograms_train_breathing, spectrograms_train_coughing, spectrograms_train_speech = extract_original_spectrograms(\n",
    "    padded_spectrograms_resampled_reshaped,\n",
    "    original_time_frames_breathing,\n",
    "    original_time_frames_coughing,\n",
    "    original_time_frames_speech\n",
    ")"
   ]
  },
  {
   "cell_type": "code",
   "execution_count": null,
   "metadata": {},
   "outputs": [
    {
     "name": "stdout",
     "output_type": "stream",
     "text": [
      "Breathing Spectrogram Shape: (941, 128, 626, 1)\n",
      "Coughing Spectrogram Shape: (941, 128, 751, 1)\n",
      "Speech Spectrogram Shape: (941, 128, 1251, 1)\n"
     ]
    }
   ],
   "source": [
    "# Verify the shapes of the extracted spectrograms\n",
    "print(\"Breathing Spectrogram Shape:\", spectrograms_train_breathing.shape)  # Expected: (num_samples, 128, 622, 1)\n",
    "print(\"Coughing Spectrogram Shape:\", spectrograms_train_coughing.shape)   # Expected: (num_samples, 128, 747, 1)\n",
    "print(\"Speech Spectrogram Shape:\", spectrograms_train_speech.shape)       # Expected: (num_samples, 128, 1247, 1)"
   ]
  },
  {
   "cell_type": "code",
   "execution_count": null,
   "metadata": {},
   "outputs": [],
   "source": [
    "# For X_test (no resampling needed), separate and reshape the spectrograms\n",
    "spectrograms_test = X_test[:, :total_padded_spectrogram_features]\n",
    "other_features_test = X_test[:, total_padded_spectrogram_features:]"
   ]
  },
  {
   "cell_type": "code",
   "execution_count": null,
   "metadata": {},
   "outputs": [
    {
     "data": {
      "text/plain": [
       "((193, 480384), (193, 6))"
      ]
     },
     "execution_count": 30,
     "metadata": {},
     "output_type": "execute_result"
    }
   ],
   "source": [
    "spectrograms_test.shape, other_features_test.shape"
   ]
  },
  {
   "cell_type": "code",
   "execution_count": null,
   "metadata": {},
   "outputs": [],
   "source": [
    "spectrograms_test_reshaped = spectrograms_test.reshape(\n",
    "    spectrograms_test.shape[0], num_mel_bands, max_time_frames * 3, 1\n",
    ")"
   ]
  },
  {
   "cell_type": "code",
   "execution_count": null,
   "metadata": {},
   "outputs": [
    {
     "name": "stdout",
     "output_type": "stream",
     "text": [
      "Breathing Spectrogram Shape: (193, 128, 626, 1)\n",
      "Coughing Spectrogram Shape: (193, 128, 751, 1)\n",
      "Speech Spectrogram Shape: (193, 128, 1251, 1)\n"
     ]
    }
   ],
   "source": [
    "# Separate spectrogram_test_reshaped into breathing, coughing, and speech\n",
    "# spectrograms_test_breathing_resampled = spectrograms_test_reshaped[:, :, :num_time_frames, :]\n",
    "# spectrograms_test_coughing_resampled = spectrograms_test_reshaped[:, :, num_time_frames:num_time_frames*2, :]\n",
    "# spectrograms_test_speech_resampled = spectrograms_test_reshaped[:, :, num_time_frames*2:, :]\n",
    "\n",
    "spectrograms_test_breathing, spectrograms_test_coughing, spectrograms_test_speech = extract_original_spectrograms(\n",
    "    spectrograms_test_reshaped,\n",
    "    original_time_frames_breathing,\n",
    "    original_time_frames_coughing,\n",
    "    original_time_frames_speech\n",
    ")\n",
    "# Verify shapes\n",
    "print(\"Breathing Spectrogram Shape:\", spectrograms_test_breathing.shape)\n",
    "print(\"Coughing Spectrogram Shape:\", spectrograms_test_coughing.shape)\n",
    "print(\"Speech Spectrogram Shape:\", spectrograms_test_speech.shape)\n"
   ]
  },
  {
   "cell_type": "code",
   "execution_count": null,
   "metadata": {},
   "outputs": [],
   "source": [
    "#convert y_train_resampled and y_test to numpy arrays\n",
    "\n",
    "y_train_resampled = np.array(y_train_resampled)\n",
    "y_test = np.array(y_test)"
   ]
  },
  {
   "cell_type": "code",
   "execution_count": null,
   "metadata": {},
   "outputs": [],
   "source": [
    "import tensorflow as tf\n",
    "from tensorflow.keras.layers import Input, Conv2D, MaxPooling2D, GlobalAveragePooling2D, Dense, Concatenate, Dropout\n",
    "\n",
    "# Define input for Mel spectrogram (shape: 625 time frames x 128 frequency bins x 1 channel)\n",
    "mel_input_breathing = Input(shape=(128, 626, 1), name='mel_spectrogram_breathing')\n",
    "mel_input_cough = Input(shape=(128, 751, 1), name='mel_spectrogram_cough')\n",
    "mel_input_speech = Input(shape=(128, 1251, 1), name='mel_spectrogram_speech')\n",
    "\n",
    "\n",
    "# Define CNN sub-network for Mel spectrogram\n",
    "def create_cnn_subnetwork(input_layer):\n",
    "    x = Conv2D(16, (3,3), activation='relu')(input_layer)\n",
    "    x = MaxPooling2D(pool_size=(2,2))(x)\n",
    "    x = Conv2D(16, (3,3), activation='relu')(x)\n",
    "    x = MaxPooling2D(pool_size=(2,2))(x)\n",
    "    x = Conv2D(32, (3,3), activation='relu')(x)\n",
    "    x = MaxPooling2D(pool_size=(2,2))(x)\n",
    "    x = Conv2D(64, (3,3), activation='relu')(x)\n",
    "    x = MaxPooling2D(pool_size=(2,2))(x)\n",
    "    x = GlobalAveragePooling2D()(x)\n",
    "\n",
    "    return x\n",
    "\n",
    "# Create CNN sub-networks for each spectrogram input\n",
    "cnn_breathing_output = create_cnn_subnetwork(mel_input_breathing)\n",
    "cnn_cough_output = create_cnn_subnetwork(mel_input_cough)\n",
    "cnn_speech_output = create_cnn_subnetwork(mel_input_speech)\n",
    "\n",
    "# Define input for other features (zero-crossing rate and spectral centroid)\n",
    "other_input = Input(shape=(6,), name='other_features')\n",
    "\n",
    "# Define a simple dense sub-network for other features\n",
    "y = Dense(64, activation='relu')(other_input)\n",
    "y = Dense(128, activation='relu')(y)  # Add more dense layers\n",
    "y = Dropout(0.3)(y)                   # Add dropout to prevent overfitting\n",
    "y = Dense(128, activation='relu')(y)   # Another dense layer\n",
    "y = Dense(64, activation='relu')(y)    # Another dense layer\n",
    "\n",
    "# Concatenate both sub-networks\n",
    "combined = Concatenate()([cnn_breathing_output, cnn_cough_output, cnn_speech_output, y])\n",
    "\n",
    "# Add final classification layers\n",
    "z = Dense(128, activation='relu')(combined)\n",
    "z = Dropout(0.3)(z)                    # Add dropout to prevent overfitting\n",
    "z = Dense(64, activation='relu')(z)\n",
    "z = Dense(1, activation='sigmoid')(z)  # Binary classification"
   ]
  },
  {
   "cell_type": "code",
   "execution_count": null,
   "metadata": {},
   "outputs": [
    {
     "data": {
      "text/html": [
       "<pre style=\"white-space:pre;overflow-x:auto;line-height:normal;font-family:Menlo,'DejaVu Sans Mono',consolas,'Courier New',monospace\"><span style=\"font-weight: bold\">Model: \"functional\"</span>\n",
       "</pre>\n"
      ],
      "text/plain": [
       "\u001b[1mModel: \"functional\"\u001b[0m\n"
      ]
     },
     "metadata": {},
     "output_type": "display_data"
    },
    {
     "data": {
      "text/html": [
       "<pre style=\"white-space:pre;overflow-x:auto;line-height:normal;font-family:Menlo,'DejaVu Sans Mono',consolas,'Courier New',monospace\">┏━━━━━━━━━━━━━━━━━━━━━┳━━━━━━━━━━━━━━━━━━━┳━━━━━━━━━━━━┳━━━━━━━━━━━━━━━━━━━┓\n",
       "┃<span style=\"font-weight: bold\"> Layer (type)        </span>┃<span style=\"font-weight: bold\"> Output Shape      </span>┃<span style=\"font-weight: bold\">    Param # </span>┃<span style=\"font-weight: bold\"> Connected to      </span>┃\n",
       "┡━━━━━━━━━━━━━━━━━━━━━╇━━━━━━━━━━━━━━━━━━━╇━━━━━━━━━━━━╇━━━━━━━━━━━━━━━━━━━┩\n",
       "│ mel_spectrogram_br… │ (<span style=\"color: #00d7ff; text-decoration-color: #00d7ff\">None</span>, <span style=\"color: #00af00; text-decoration-color: #00af00\">128</span>, <span style=\"color: #00af00; text-decoration-color: #00af00\">626</span>,  │          <span style=\"color: #00af00; text-decoration-color: #00af00\">0</span> │ -                 │\n",
       "│ (<span style=\"color: #0087ff; text-decoration-color: #0087ff\">InputLayer</span>)        │ <span style=\"color: #00af00; text-decoration-color: #00af00\">1</span>)                │            │                   │\n",
       "├─────────────────────┼───────────────────┼────────────┼───────────────────┤\n",
       "│ mel_spectrogram_co… │ (<span style=\"color: #00d7ff; text-decoration-color: #00d7ff\">None</span>, <span style=\"color: #00af00; text-decoration-color: #00af00\">128</span>, <span style=\"color: #00af00; text-decoration-color: #00af00\">751</span>,  │          <span style=\"color: #00af00; text-decoration-color: #00af00\">0</span> │ -                 │\n",
       "│ (<span style=\"color: #0087ff; text-decoration-color: #0087ff\">InputLayer</span>)        │ <span style=\"color: #00af00; text-decoration-color: #00af00\">1</span>)                │            │                   │\n",
       "├─────────────────────┼───────────────────┼────────────┼───────────────────┤\n",
       "│ mel_spectrogram_sp… │ (<span style=\"color: #00d7ff; text-decoration-color: #00d7ff\">None</span>, <span style=\"color: #00af00; text-decoration-color: #00af00\">128</span>, <span style=\"color: #00af00; text-decoration-color: #00af00\">1251</span>, │          <span style=\"color: #00af00; text-decoration-color: #00af00\">0</span> │ -                 │\n",
       "│ (<span style=\"color: #0087ff; text-decoration-color: #0087ff\">InputLayer</span>)        │ <span style=\"color: #00af00; text-decoration-color: #00af00\">1</span>)                │            │                   │\n",
       "├─────────────────────┼───────────────────┼────────────┼───────────────────┤\n",
       "│ conv2d (<span style=\"color: #0087ff; text-decoration-color: #0087ff\">Conv2D</span>)     │ (<span style=\"color: #00d7ff; text-decoration-color: #00d7ff\">None</span>, <span style=\"color: #00af00; text-decoration-color: #00af00\">126</span>, <span style=\"color: #00af00; text-decoration-color: #00af00\">624</span>,  │        <span style=\"color: #00af00; text-decoration-color: #00af00\">160</span> │ mel_spectrogram_… │\n",
       "│                     │ <span style=\"color: #00af00; text-decoration-color: #00af00\">16</span>)               │            │                   │\n",
       "├─────────────────────┼───────────────────┼────────────┼───────────────────┤\n",
       "│ conv2d_4 (<span style=\"color: #0087ff; text-decoration-color: #0087ff\">Conv2D</span>)   │ (<span style=\"color: #00d7ff; text-decoration-color: #00d7ff\">None</span>, <span style=\"color: #00af00; text-decoration-color: #00af00\">126</span>, <span style=\"color: #00af00; text-decoration-color: #00af00\">749</span>,  │        <span style=\"color: #00af00; text-decoration-color: #00af00\">160</span> │ mel_spectrogram_… │\n",
       "│                     │ <span style=\"color: #00af00; text-decoration-color: #00af00\">16</span>)               │            │                   │\n",
       "├─────────────────────┼───────────────────┼────────────┼───────────────────┤\n",
       "│ conv2d_8 (<span style=\"color: #0087ff; text-decoration-color: #0087ff\">Conv2D</span>)   │ (<span style=\"color: #00d7ff; text-decoration-color: #00d7ff\">None</span>, <span style=\"color: #00af00; text-decoration-color: #00af00\">126</span>, <span style=\"color: #00af00; text-decoration-color: #00af00\">1249</span>, │        <span style=\"color: #00af00; text-decoration-color: #00af00\">160</span> │ mel_spectrogram_… │\n",
       "│                     │ <span style=\"color: #00af00; text-decoration-color: #00af00\">16</span>)               │            │                   │\n",
       "├─────────────────────┼───────────────────┼────────────┼───────────────────┤\n",
       "│ max_pooling2d       │ (<span style=\"color: #00d7ff; text-decoration-color: #00d7ff\">None</span>, <span style=\"color: #00af00; text-decoration-color: #00af00\">63</span>, <span style=\"color: #00af00; text-decoration-color: #00af00\">312</span>,   │          <span style=\"color: #00af00; text-decoration-color: #00af00\">0</span> │ conv2d[<span style=\"color: #00af00; text-decoration-color: #00af00\">0</span>][<span style=\"color: #00af00; text-decoration-color: #00af00\">0</span>]      │\n",
       "│ (<span style=\"color: #0087ff; text-decoration-color: #0087ff\">MaxPooling2D</span>)      │ <span style=\"color: #00af00; text-decoration-color: #00af00\">16</span>)               │            │                   │\n",
       "├─────────────────────┼───────────────────┼────────────┼───────────────────┤\n",
       "│ max_pooling2d_4     │ (<span style=\"color: #00d7ff; text-decoration-color: #00d7ff\">None</span>, <span style=\"color: #00af00; text-decoration-color: #00af00\">63</span>, <span style=\"color: #00af00; text-decoration-color: #00af00\">374</span>,   │          <span style=\"color: #00af00; text-decoration-color: #00af00\">0</span> │ conv2d_4[<span style=\"color: #00af00; text-decoration-color: #00af00\">0</span>][<span style=\"color: #00af00; text-decoration-color: #00af00\">0</span>]    │\n",
       "│ (<span style=\"color: #0087ff; text-decoration-color: #0087ff\">MaxPooling2D</span>)      │ <span style=\"color: #00af00; text-decoration-color: #00af00\">16</span>)               │            │                   │\n",
       "├─────────────────────┼───────────────────┼────────────┼───────────────────┤\n",
       "│ max_pooling2d_8     │ (<span style=\"color: #00d7ff; text-decoration-color: #00d7ff\">None</span>, <span style=\"color: #00af00; text-decoration-color: #00af00\">63</span>, <span style=\"color: #00af00; text-decoration-color: #00af00\">624</span>,   │          <span style=\"color: #00af00; text-decoration-color: #00af00\">0</span> │ conv2d_8[<span style=\"color: #00af00; text-decoration-color: #00af00\">0</span>][<span style=\"color: #00af00; text-decoration-color: #00af00\">0</span>]    │\n",
       "│ (<span style=\"color: #0087ff; text-decoration-color: #0087ff\">MaxPooling2D</span>)      │ <span style=\"color: #00af00; text-decoration-color: #00af00\">16</span>)               │            │                   │\n",
       "├─────────────────────┼───────────────────┼────────────┼───────────────────┤\n",
       "│ conv2d_1 (<span style=\"color: #0087ff; text-decoration-color: #0087ff\">Conv2D</span>)   │ (<span style=\"color: #00d7ff; text-decoration-color: #00d7ff\">None</span>, <span style=\"color: #00af00; text-decoration-color: #00af00\">61</span>, <span style=\"color: #00af00; text-decoration-color: #00af00\">310</span>,   │      <span style=\"color: #00af00; text-decoration-color: #00af00\">2,320</span> │ max_pooling2d[<span style=\"color: #00af00; text-decoration-color: #00af00\">0</span>]… │\n",
       "│                     │ <span style=\"color: #00af00; text-decoration-color: #00af00\">16</span>)               │            │                   │\n",
       "├─────────────────────┼───────────────────┼────────────┼───────────────────┤\n",
       "│ conv2d_5 (<span style=\"color: #0087ff; text-decoration-color: #0087ff\">Conv2D</span>)   │ (<span style=\"color: #00d7ff; text-decoration-color: #00d7ff\">None</span>, <span style=\"color: #00af00; text-decoration-color: #00af00\">61</span>, <span style=\"color: #00af00; text-decoration-color: #00af00\">372</span>,   │      <span style=\"color: #00af00; text-decoration-color: #00af00\">2,320</span> │ max_pooling2d_4[<span style=\"color: #00af00; text-decoration-color: #00af00\">…</span> │\n",
       "│                     │ <span style=\"color: #00af00; text-decoration-color: #00af00\">16</span>)               │            │                   │\n",
       "├─────────────────────┼───────────────────┼────────────┼───────────────────┤\n",
       "│ conv2d_9 (<span style=\"color: #0087ff; text-decoration-color: #0087ff\">Conv2D</span>)   │ (<span style=\"color: #00d7ff; text-decoration-color: #00d7ff\">None</span>, <span style=\"color: #00af00; text-decoration-color: #00af00\">61</span>, <span style=\"color: #00af00; text-decoration-color: #00af00\">622</span>,   │      <span style=\"color: #00af00; text-decoration-color: #00af00\">2,320</span> │ max_pooling2d_8[<span style=\"color: #00af00; text-decoration-color: #00af00\">…</span> │\n",
       "│                     │ <span style=\"color: #00af00; text-decoration-color: #00af00\">16</span>)               │            │                   │\n",
       "├─────────────────────┼───────────────────┼────────────┼───────────────────┤\n",
       "│ max_pooling2d_1     │ (<span style=\"color: #00d7ff; text-decoration-color: #00d7ff\">None</span>, <span style=\"color: #00af00; text-decoration-color: #00af00\">30</span>, <span style=\"color: #00af00; text-decoration-color: #00af00\">155</span>,   │          <span style=\"color: #00af00; text-decoration-color: #00af00\">0</span> │ conv2d_1[<span style=\"color: #00af00; text-decoration-color: #00af00\">0</span>][<span style=\"color: #00af00; text-decoration-color: #00af00\">0</span>]    │\n",
       "│ (<span style=\"color: #0087ff; text-decoration-color: #0087ff\">MaxPooling2D</span>)      │ <span style=\"color: #00af00; text-decoration-color: #00af00\">16</span>)               │            │                   │\n",
       "├─────────────────────┼───────────────────┼────────────┼───────────────────┤\n",
       "│ max_pooling2d_5     │ (<span style=\"color: #00d7ff; text-decoration-color: #00d7ff\">None</span>, <span style=\"color: #00af00; text-decoration-color: #00af00\">30</span>, <span style=\"color: #00af00; text-decoration-color: #00af00\">186</span>,   │          <span style=\"color: #00af00; text-decoration-color: #00af00\">0</span> │ conv2d_5[<span style=\"color: #00af00; text-decoration-color: #00af00\">0</span>][<span style=\"color: #00af00; text-decoration-color: #00af00\">0</span>]    │\n",
       "│ (<span style=\"color: #0087ff; text-decoration-color: #0087ff\">MaxPooling2D</span>)      │ <span style=\"color: #00af00; text-decoration-color: #00af00\">16</span>)               │            │                   │\n",
       "├─────────────────────┼───────────────────┼────────────┼───────────────────┤\n",
       "│ max_pooling2d_9     │ (<span style=\"color: #00d7ff; text-decoration-color: #00d7ff\">None</span>, <span style=\"color: #00af00; text-decoration-color: #00af00\">30</span>, <span style=\"color: #00af00; text-decoration-color: #00af00\">311</span>,   │          <span style=\"color: #00af00; text-decoration-color: #00af00\">0</span> │ conv2d_9[<span style=\"color: #00af00; text-decoration-color: #00af00\">0</span>][<span style=\"color: #00af00; text-decoration-color: #00af00\">0</span>]    │\n",
       "│ (<span style=\"color: #0087ff; text-decoration-color: #0087ff\">MaxPooling2D</span>)      │ <span style=\"color: #00af00; text-decoration-color: #00af00\">16</span>)               │            │                   │\n",
       "├─────────────────────┼───────────────────┼────────────┼───────────────────┤\n",
       "│ other_features      │ (<span style=\"color: #00d7ff; text-decoration-color: #00d7ff\">None</span>, <span style=\"color: #00af00; text-decoration-color: #00af00\">6</span>)         │          <span style=\"color: #00af00; text-decoration-color: #00af00\">0</span> │ -                 │\n",
       "│ (<span style=\"color: #0087ff; text-decoration-color: #0087ff\">InputLayer</span>)        │                   │            │                   │\n",
       "├─────────────────────┼───────────────────┼────────────┼───────────────────┤\n",
       "│ conv2d_2 (<span style=\"color: #0087ff; text-decoration-color: #0087ff\">Conv2D</span>)   │ (<span style=\"color: #00d7ff; text-decoration-color: #00d7ff\">None</span>, <span style=\"color: #00af00; text-decoration-color: #00af00\">28</span>, <span style=\"color: #00af00; text-decoration-color: #00af00\">153</span>,   │      <span style=\"color: #00af00; text-decoration-color: #00af00\">4,640</span> │ max_pooling2d_1[<span style=\"color: #00af00; text-decoration-color: #00af00\">…</span> │\n",
       "│                     │ <span style=\"color: #00af00; text-decoration-color: #00af00\">32</span>)               │            │                   │\n",
       "├─────────────────────┼───────────────────┼────────────┼───────────────────┤\n",
       "│ conv2d_6 (<span style=\"color: #0087ff; text-decoration-color: #0087ff\">Conv2D</span>)   │ (<span style=\"color: #00d7ff; text-decoration-color: #00d7ff\">None</span>, <span style=\"color: #00af00; text-decoration-color: #00af00\">28</span>, <span style=\"color: #00af00; text-decoration-color: #00af00\">184</span>,   │      <span style=\"color: #00af00; text-decoration-color: #00af00\">4,640</span> │ max_pooling2d_5[<span style=\"color: #00af00; text-decoration-color: #00af00\">…</span> │\n",
       "│                     │ <span style=\"color: #00af00; text-decoration-color: #00af00\">32</span>)               │            │                   │\n",
       "├─────────────────────┼───────────────────┼────────────┼───────────────────┤\n",
       "│ conv2d_10 (<span style=\"color: #0087ff; text-decoration-color: #0087ff\">Conv2D</span>)  │ (<span style=\"color: #00d7ff; text-decoration-color: #00d7ff\">None</span>, <span style=\"color: #00af00; text-decoration-color: #00af00\">28</span>, <span style=\"color: #00af00; text-decoration-color: #00af00\">309</span>,   │      <span style=\"color: #00af00; text-decoration-color: #00af00\">4,640</span> │ max_pooling2d_9[<span style=\"color: #00af00; text-decoration-color: #00af00\">…</span> │\n",
       "│                     │ <span style=\"color: #00af00; text-decoration-color: #00af00\">32</span>)               │            │                   │\n",
       "├─────────────────────┼───────────────────┼────────────┼───────────────────┤\n",
       "│ dense (<span style=\"color: #0087ff; text-decoration-color: #0087ff\">Dense</span>)       │ (<span style=\"color: #00d7ff; text-decoration-color: #00d7ff\">None</span>, <span style=\"color: #00af00; text-decoration-color: #00af00\">64</span>)        │        <span style=\"color: #00af00; text-decoration-color: #00af00\">448</span> │ other_features[<span style=\"color: #00af00; text-decoration-color: #00af00\">0</span>… │\n",
       "├─────────────────────┼───────────────────┼────────────┼───────────────────┤\n",
       "│ max_pooling2d_2     │ (<span style=\"color: #00d7ff; text-decoration-color: #00d7ff\">None</span>, <span style=\"color: #00af00; text-decoration-color: #00af00\">14</span>, <span style=\"color: #00af00; text-decoration-color: #00af00\">76</span>,    │          <span style=\"color: #00af00; text-decoration-color: #00af00\">0</span> │ conv2d_2[<span style=\"color: #00af00; text-decoration-color: #00af00\">0</span>][<span style=\"color: #00af00; text-decoration-color: #00af00\">0</span>]    │\n",
       "│ (<span style=\"color: #0087ff; text-decoration-color: #0087ff\">MaxPooling2D</span>)      │ <span style=\"color: #00af00; text-decoration-color: #00af00\">32</span>)               │            │                   │\n",
       "├─────────────────────┼───────────────────┼────────────┼───────────────────┤\n",
       "│ max_pooling2d_6     │ (<span style=\"color: #00d7ff; text-decoration-color: #00d7ff\">None</span>, <span style=\"color: #00af00; text-decoration-color: #00af00\">14</span>, <span style=\"color: #00af00; text-decoration-color: #00af00\">92</span>,    │          <span style=\"color: #00af00; text-decoration-color: #00af00\">0</span> │ conv2d_6[<span style=\"color: #00af00; text-decoration-color: #00af00\">0</span>][<span style=\"color: #00af00; text-decoration-color: #00af00\">0</span>]    │\n",
       "│ (<span style=\"color: #0087ff; text-decoration-color: #0087ff\">MaxPooling2D</span>)      │ <span style=\"color: #00af00; text-decoration-color: #00af00\">32</span>)               │            │                   │\n",
       "├─────────────────────┼───────────────────┼────────────┼───────────────────┤\n",
       "│ max_pooling2d_10    │ (<span style=\"color: #00d7ff; text-decoration-color: #00d7ff\">None</span>, <span style=\"color: #00af00; text-decoration-color: #00af00\">14</span>, <span style=\"color: #00af00; text-decoration-color: #00af00\">154</span>,   │          <span style=\"color: #00af00; text-decoration-color: #00af00\">0</span> │ conv2d_10[<span style=\"color: #00af00; text-decoration-color: #00af00\">0</span>][<span style=\"color: #00af00; text-decoration-color: #00af00\">0</span>]   │\n",
       "│ (<span style=\"color: #0087ff; text-decoration-color: #0087ff\">MaxPooling2D</span>)      │ <span style=\"color: #00af00; text-decoration-color: #00af00\">32</span>)               │            │                   │\n",
       "├─────────────────────┼───────────────────┼────────────┼───────────────────┤\n",
       "│ dense_1 (<span style=\"color: #0087ff; text-decoration-color: #0087ff\">Dense</span>)     │ (<span style=\"color: #00d7ff; text-decoration-color: #00d7ff\">None</span>, <span style=\"color: #00af00; text-decoration-color: #00af00\">128</span>)       │      <span style=\"color: #00af00; text-decoration-color: #00af00\">8,320</span> │ dense[<span style=\"color: #00af00; text-decoration-color: #00af00\">0</span>][<span style=\"color: #00af00; text-decoration-color: #00af00\">0</span>]       │\n",
       "├─────────────────────┼───────────────────┼────────────┼───────────────────┤\n",
       "│ conv2d_3 (<span style=\"color: #0087ff; text-decoration-color: #0087ff\">Conv2D</span>)   │ (<span style=\"color: #00d7ff; text-decoration-color: #00d7ff\">None</span>, <span style=\"color: #00af00; text-decoration-color: #00af00\">12</span>, <span style=\"color: #00af00; text-decoration-color: #00af00\">74</span>,    │     <span style=\"color: #00af00; text-decoration-color: #00af00\">18,496</span> │ max_pooling2d_2[<span style=\"color: #00af00; text-decoration-color: #00af00\">…</span> │\n",
       "│                     │ <span style=\"color: #00af00; text-decoration-color: #00af00\">64</span>)               │            │                   │\n",
       "├─────────────────────┼───────────────────┼────────────┼───────────────────┤\n",
       "│ conv2d_7 (<span style=\"color: #0087ff; text-decoration-color: #0087ff\">Conv2D</span>)   │ (<span style=\"color: #00d7ff; text-decoration-color: #00d7ff\">None</span>, <span style=\"color: #00af00; text-decoration-color: #00af00\">12</span>, <span style=\"color: #00af00; text-decoration-color: #00af00\">90</span>,    │     <span style=\"color: #00af00; text-decoration-color: #00af00\">18,496</span> │ max_pooling2d_6[<span style=\"color: #00af00; text-decoration-color: #00af00\">…</span> │\n",
       "│                     │ <span style=\"color: #00af00; text-decoration-color: #00af00\">64</span>)               │            │                   │\n",
       "├─────────────────────┼───────────────────┼────────────┼───────────────────┤\n",
       "│ conv2d_11 (<span style=\"color: #0087ff; text-decoration-color: #0087ff\">Conv2D</span>)  │ (<span style=\"color: #00d7ff; text-decoration-color: #00d7ff\">None</span>, <span style=\"color: #00af00; text-decoration-color: #00af00\">12</span>, <span style=\"color: #00af00; text-decoration-color: #00af00\">152</span>,   │     <span style=\"color: #00af00; text-decoration-color: #00af00\">18,496</span> │ max_pooling2d_10… │\n",
       "│                     │ <span style=\"color: #00af00; text-decoration-color: #00af00\">64</span>)               │            │                   │\n",
       "├─────────────────────┼───────────────────┼────────────┼───────────────────┤\n",
       "│ dropout (<span style=\"color: #0087ff; text-decoration-color: #0087ff\">Dropout</span>)   │ (<span style=\"color: #00d7ff; text-decoration-color: #00d7ff\">None</span>, <span style=\"color: #00af00; text-decoration-color: #00af00\">128</span>)       │          <span style=\"color: #00af00; text-decoration-color: #00af00\">0</span> │ dense_1[<span style=\"color: #00af00; text-decoration-color: #00af00\">0</span>][<span style=\"color: #00af00; text-decoration-color: #00af00\">0</span>]     │\n",
       "├─────────────────────┼───────────────────┼────────────┼───────────────────┤\n",
       "│ max_pooling2d_3     │ (<span style=\"color: #00d7ff; text-decoration-color: #00d7ff\">None</span>, <span style=\"color: #00af00; text-decoration-color: #00af00\">6</span>, <span style=\"color: #00af00; text-decoration-color: #00af00\">37</span>, <span style=\"color: #00af00; text-decoration-color: #00af00\">64</span>) │          <span style=\"color: #00af00; text-decoration-color: #00af00\">0</span> │ conv2d_3[<span style=\"color: #00af00; text-decoration-color: #00af00\">0</span>][<span style=\"color: #00af00; text-decoration-color: #00af00\">0</span>]    │\n",
       "│ (<span style=\"color: #0087ff; text-decoration-color: #0087ff\">MaxPooling2D</span>)      │                   │            │                   │\n",
       "├─────────────────────┼───────────────────┼────────────┼───────────────────┤\n",
       "│ max_pooling2d_7     │ (<span style=\"color: #00d7ff; text-decoration-color: #00d7ff\">None</span>, <span style=\"color: #00af00; text-decoration-color: #00af00\">6</span>, <span style=\"color: #00af00; text-decoration-color: #00af00\">45</span>, <span style=\"color: #00af00; text-decoration-color: #00af00\">64</span>) │          <span style=\"color: #00af00; text-decoration-color: #00af00\">0</span> │ conv2d_7[<span style=\"color: #00af00; text-decoration-color: #00af00\">0</span>][<span style=\"color: #00af00; text-decoration-color: #00af00\">0</span>]    │\n",
       "│ (<span style=\"color: #0087ff; text-decoration-color: #0087ff\">MaxPooling2D</span>)      │                   │            │                   │\n",
       "├─────────────────────┼───────────────────┼────────────┼───────────────────┤\n",
       "│ max_pooling2d_11    │ (<span style=\"color: #00d7ff; text-decoration-color: #00d7ff\">None</span>, <span style=\"color: #00af00; text-decoration-color: #00af00\">6</span>, <span style=\"color: #00af00; text-decoration-color: #00af00\">76</span>, <span style=\"color: #00af00; text-decoration-color: #00af00\">64</span>) │          <span style=\"color: #00af00; text-decoration-color: #00af00\">0</span> │ conv2d_11[<span style=\"color: #00af00; text-decoration-color: #00af00\">0</span>][<span style=\"color: #00af00; text-decoration-color: #00af00\">0</span>]   │\n",
       "│ (<span style=\"color: #0087ff; text-decoration-color: #0087ff\">MaxPooling2D</span>)      │                   │            │                   │\n",
       "├─────────────────────┼───────────────────┼────────────┼───────────────────┤\n",
       "│ dense_2 (<span style=\"color: #0087ff; text-decoration-color: #0087ff\">Dense</span>)     │ (<span style=\"color: #00d7ff; text-decoration-color: #00d7ff\">None</span>, <span style=\"color: #00af00; text-decoration-color: #00af00\">128</span>)       │     <span style=\"color: #00af00; text-decoration-color: #00af00\">16,512</span> │ dropout[<span style=\"color: #00af00; text-decoration-color: #00af00\">0</span>][<span style=\"color: #00af00; text-decoration-color: #00af00\">0</span>]     │\n",
       "├─────────────────────┼───────────────────┼────────────┼───────────────────┤\n",
       "│ global_average_poo… │ (<span style=\"color: #00d7ff; text-decoration-color: #00d7ff\">None</span>, <span style=\"color: #00af00; text-decoration-color: #00af00\">64</span>)        │          <span style=\"color: #00af00; text-decoration-color: #00af00\">0</span> │ max_pooling2d_3[<span style=\"color: #00af00; text-decoration-color: #00af00\">…</span> │\n",
       "│ (<span style=\"color: #0087ff; text-decoration-color: #0087ff\">GlobalAveragePool…</span> │                   │            │                   │\n",
       "├─────────────────────┼───────────────────┼────────────┼───────────────────┤\n",
       "│ global_average_poo… │ (<span style=\"color: #00d7ff; text-decoration-color: #00d7ff\">None</span>, <span style=\"color: #00af00; text-decoration-color: #00af00\">64</span>)        │          <span style=\"color: #00af00; text-decoration-color: #00af00\">0</span> │ max_pooling2d_7[<span style=\"color: #00af00; text-decoration-color: #00af00\">…</span> │\n",
       "│ (<span style=\"color: #0087ff; text-decoration-color: #0087ff\">GlobalAveragePool…</span> │                   │            │                   │\n",
       "├─────────────────────┼───────────────────┼────────────┼───────────────────┤\n",
       "│ global_average_poo… │ (<span style=\"color: #00d7ff; text-decoration-color: #00d7ff\">None</span>, <span style=\"color: #00af00; text-decoration-color: #00af00\">64</span>)        │          <span style=\"color: #00af00; text-decoration-color: #00af00\">0</span> │ max_pooling2d_11… │\n",
       "│ (<span style=\"color: #0087ff; text-decoration-color: #0087ff\">GlobalAveragePool…</span> │                   │            │                   │\n",
       "├─────────────────────┼───────────────────┼────────────┼───────────────────┤\n",
       "│ dense_3 (<span style=\"color: #0087ff; text-decoration-color: #0087ff\">Dense</span>)     │ (<span style=\"color: #00d7ff; text-decoration-color: #00d7ff\">None</span>, <span style=\"color: #00af00; text-decoration-color: #00af00\">64</span>)        │      <span style=\"color: #00af00; text-decoration-color: #00af00\">8,256</span> │ dense_2[<span style=\"color: #00af00; text-decoration-color: #00af00\">0</span>][<span style=\"color: #00af00; text-decoration-color: #00af00\">0</span>]     │\n",
       "├─────────────────────┼───────────────────┼────────────┼───────────────────┤\n",
       "│ concatenate         │ (<span style=\"color: #00d7ff; text-decoration-color: #00d7ff\">None</span>, <span style=\"color: #00af00; text-decoration-color: #00af00\">256</span>)       │          <span style=\"color: #00af00; text-decoration-color: #00af00\">0</span> │ global_average_p… │\n",
       "│ (<span style=\"color: #0087ff; text-decoration-color: #0087ff\">Concatenate</span>)       │                   │            │ global_average_p… │\n",
       "│                     │                   │            │ global_average_p… │\n",
       "│                     │                   │            │ dense_3[<span style=\"color: #00af00; text-decoration-color: #00af00\">0</span>][<span style=\"color: #00af00; text-decoration-color: #00af00\">0</span>]     │\n",
       "├─────────────────────┼───────────────────┼────────────┼───────────────────┤\n",
       "│ dense_4 (<span style=\"color: #0087ff; text-decoration-color: #0087ff\">Dense</span>)     │ (<span style=\"color: #00d7ff; text-decoration-color: #00d7ff\">None</span>, <span style=\"color: #00af00; text-decoration-color: #00af00\">128</span>)       │     <span style=\"color: #00af00; text-decoration-color: #00af00\">32,896</span> │ concatenate[<span style=\"color: #00af00; text-decoration-color: #00af00\">0</span>][<span style=\"color: #00af00; text-decoration-color: #00af00\">0</span>] │\n",
       "├─────────────────────┼───────────────────┼────────────┼───────────────────┤\n",
       "│ dropout_1 (<span style=\"color: #0087ff; text-decoration-color: #0087ff\">Dropout</span>) │ (<span style=\"color: #00d7ff; text-decoration-color: #00d7ff\">None</span>, <span style=\"color: #00af00; text-decoration-color: #00af00\">128</span>)       │          <span style=\"color: #00af00; text-decoration-color: #00af00\">0</span> │ dense_4[<span style=\"color: #00af00; text-decoration-color: #00af00\">0</span>][<span style=\"color: #00af00; text-decoration-color: #00af00\">0</span>]     │\n",
       "├─────────────────────┼───────────────────┼────────────┼───────────────────┤\n",
       "│ dense_5 (<span style=\"color: #0087ff; text-decoration-color: #0087ff\">Dense</span>)     │ (<span style=\"color: #00d7ff; text-decoration-color: #00d7ff\">None</span>, <span style=\"color: #00af00; text-decoration-color: #00af00\">64</span>)        │      <span style=\"color: #00af00; text-decoration-color: #00af00\">8,256</span> │ dropout_1[<span style=\"color: #00af00; text-decoration-color: #00af00\">0</span>][<span style=\"color: #00af00; text-decoration-color: #00af00\">0</span>]   │\n",
       "├─────────────────────┼───────────────────┼────────────┼───────────────────┤\n",
       "│ dense_6 (<span style=\"color: #0087ff; text-decoration-color: #0087ff\">Dense</span>)     │ (<span style=\"color: #00d7ff; text-decoration-color: #00d7ff\">None</span>, <span style=\"color: #00af00; text-decoration-color: #00af00\">1</span>)         │         <span style=\"color: #00af00; text-decoration-color: #00af00\">65</span> │ dense_5[<span style=\"color: #00af00; text-decoration-color: #00af00\">0</span>][<span style=\"color: #00af00; text-decoration-color: #00af00\">0</span>]     │\n",
       "└─────────────────────┴───────────────────┴────────────┴───────────────────┘\n",
       "</pre>\n"
      ],
      "text/plain": [
       "┏━━━━━━━━━━━━━━━━━━━━━┳━━━━━━━━━━━━━━━━━━━┳━━━━━━━━━━━━┳━━━━━━━━━━━━━━━━━━━┓\n",
       "┃\u001b[1m \u001b[0m\u001b[1mLayer (type)       \u001b[0m\u001b[1m \u001b[0m┃\u001b[1m \u001b[0m\u001b[1mOutput Shape     \u001b[0m\u001b[1m \u001b[0m┃\u001b[1m \u001b[0m\u001b[1m   Param #\u001b[0m\u001b[1m \u001b[0m┃\u001b[1m \u001b[0m\u001b[1mConnected to     \u001b[0m\u001b[1m \u001b[0m┃\n",
       "┡━━━━━━━━━━━━━━━━━━━━━╇━━━━━━━━━━━━━━━━━━━╇━━━━━━━━━━━━╇━━━━━━━━━━━━━━━━━━━┩\n",
       "│ mel_spectrogram_br… │ (\u001b[38;5;45mNone\u001b[0m, \u001b[38;5;34m128\u001b[0m, \u001b[38;5;34m626\u001b[0m,  │          \u001b[38;5;34m0\u001b[0m │ -                 │\n",
       "│ (\u001b[38;5;33mInputLayer\u001b[0m)        │ \u001b[38;5;34m1\u001b[0m)                │            │                   │\n",
       "├─────────────────────┼───────────────────┼────────────┼───────────────────┤\n",
       "│ mel_spectrogram_co… │ (\u001b[38;5;45mNone\u001b[0m, \u001b[38;5;34m128\u001b[0m, \u001b[38;5;34m751\u001b[0m,  │          \u001b[38;5;34m0\u001b[0m │ -                 │\n",
       "│ (\u001b[38;5;33mInputLayer\u001b[0m)        │ \u001b[38;5;34m1\u001b[0m)                │            │                   │\n",
       "├─────────────────────┼───────────────────┼────────────┼───────────────────┤\n",
       "│ mel_spectrogram_sp… │ (\u001b[38;5;45mNone\u001b[0m, \u001b[38;5;34m128\u001b[0m, \u001b[38;5;34m1251\u001b[0m, │          \u001b[38;5;34m0\u001b[0m │ -                 │\n",
       "│ (\u001b[38;5;33mInputLayer\u001b[0m)        │ \u001b[38;5;34m1\u001b[0m)                │            │                   │\n",
       "├─────────────────────┼───────────────────┼────────────┼───────────────────┤\n",
       "│ conv2d (\u001b[38;5;33mConv2D\u001b[0m)     │ (\u001b[38;5;45mNone\u001b[0m, \u001b[38;5;34m126\u001b[0m, \u001b[38;5;34m624\u001b[0m,  │        \u001b[38;5;34m160\u001b[0m │ mel_spectrogram_… │\n",
       "│                     │ \u001b[38;5;34m16\u001b[0m)               │            │                   │\n",
       "├─────────────────────┼───────────────────┼────────────┼───────────────────┤\n",
       "│ conv2d_4 (\u001b[38;5;33mConv2D\u001b[0m)   │ (\u001b[38;5;45mNone\u001b[0m, \u001b[38;5;34m126\u001b[0m, \u001b[38;5;34m749\u001b[0m,  │        \u001b[38;5;34m160\u001b[0m │ mel_spectrogram_… │\n",
       "│                     │ \u001b[38;5;34m16\u001b[0m)               │            │                   │\n",
       "├─────────────────────┼───────────────────┼────────────┼───────────────────┤\n",
       "│ conv2d_8 (\u001b[38;5;33mConv2D\u001b[0m)   │ (\u001b[38;5;45mNone\u001b[0m, \u001b[38;5;34m126\u001b[0m, \u001b[38;5;34m1249\u001b[0m, │        \u001b[38;5;34m160\u001b[0m │ mel_spectrogram_… │\n",
       "│                     │ \u001b[38;5;34m16\u001b[0m)               │            │                   │\n",
       "├─────────────────────┼───────────────────┼────────────┼───────────────────┤\n",
       "│ max_pooling2d       │ (\u001b[38;5;45mNone\u001b[0m, \u001b[38;5;34m63\u001b[0m, \u001b[38;5;34m312\u001b[0m,   │          \u001b[38;5;34m0\u001b[0m │ conv2d[\u001b[38;5;34m0\u001b[0m][\u001b[38;5;34m0\u001b[0m]      │\n",
       "│ (\u001b[38;5;33mMaxPooling2D\u001b[0m)      │ \u001b[38;5;34m16\u001b[0m)               │            │                   │\n",
       "├─────────────────────┼───────────────────┼────────────┼───────────────────┤\n",
       "│ max_pooling2d_4     │ (\u001b[38;5;45mNone\u001b[0m, \u001b[38;5;34m63\u001b[0m, \u001b[38;5;34m374\u001b[0m,   │          \u001b[38;5;34m0\u001b[0m │ conv2d_4[\u001b[38;5;34m0\u001b[0m][\u001b[38;5;34m0\u001b[0m]    │\n",
       "│ (\u001b[38;5;33mMaxPooling2D\u001b[0m)      │ \u001b[38;5;34m16\u001b[0m)               │            │                   │\n",
       "├─────────────────────┼───────────────────┼────────────┼───────────────────┤\n",
       "│ max_pooling2d_8     │ (\u001b[38;5;45mNone\u001b[0m, \u001b[38;5;34m63\u001b[0m, \u001b[38;5;34m624\u001b[0m,   │          \u001b[38;5;34m0\u001b[0m │ conv2d_8[\u001b[38;5;34m0\u001b[0m][\u001b[38;5;34m0\u001b[0m]    │\n",
       "│ (\u001b[38;5;33mMaxPooling2D\u001b[0m)      │ \u001b[38;5;34m16\u001b[0m)               │            │                   │\n",
       "├─────────────────────┼───────────────────┼────────────┼───────────────────┤\n",
       "│ conv2d_1 (\u001b[38;5;33mConv2D\u001b[0m)   │ (\u001b[38;5;45mNone\u001b[0m, \u001b[38;5;34m61\u001b[0m, \u001b[38;5;34m310\u001b[0m,   │      \u001b[38;5;34m2,320\u001b[0m │ max_pooling2d[\u001b[38;5;34m0\u001b[0m]… │\n",
       "│                     │ \u001b[38;5;34m16\u001b[0m)               │            │                   │\n",
       "├─────────────────────┼───────────────────┼────────────┼───────────────────┤\n",
       "│ conv2d_5 (\u001b[38;5;33mConv2D\u001b[0m)   │ (\u001b[38;5;45mNone\u001b[0m, \u001b[38;5;34m61\u001b[0m, \u001b[38;5;34m372\u001b[0m,   │      \u001b[38;5;34m2,320\u001b[0m │ max_pooling2d_4[\u001b[38;5;34m…\u001b[0m │\n",
       "│                     │ \u001b[38;5;34m16\u001b[0m)               │            │                   │\n",
       "├─────────────────────┼───────────────────┼────────────┼───────────────────┤\n",
       "│ conv2d_9 (\u001b[38;5;33mConv2D\u001b[0m)   │ (\u001b[38;5;45mNone\u001b[0m, \u001b[38;5;34m61\u001b[0m, \u001b[38;5;34m622\u001b[0m,   │      \u001b[38;5;34m2,320\u001b[0m │ max_pooling2d_8[\u001b[38;5;34m…\u001b[0m │\n",
       "│                     │ \u001b[38;5;34m16\u001b[0m)               │            │                   │\n",
       "├─────────────────────┼───────────────────┼────────────┼───────────────────┤\n",
       "│ max_pooling2d_1     │ (\u001b[38;5;45mNone\u001b[0m, \u001b[38;5;34m30\u001b[0m, \u001b[38;5;34m155\u001b[0m,   │          \u001b[38;5;34m0\u001b[0m │ conv2d_1[\u001b[38;5;34m0\u001b[0m][\u001b[38;5;34m0\u001b[0m]    │\n",
       "│ (\u001b[38;5;33mMaxPooling2D\u001b[0m)      │ \u001b[38;5;34m16\u001b[0m)               │            │                   │\n",
       "├─────────────────────┼───────────────────┼────────────┼───────────────────┤\n",
       "│ max_pooling2d_5     │ (\u001b[38;5;45mNone\u001b[0m, \u001b[38;5;34m30\u001b[0m, \u001b[38;5;34m186\u001b[0m,   │          \u001b[38;5;34m0\u001b[0m │ conv2d_5[\u001b[38;5;34m0\u001b[0m][\u001b[38;5;34m0\u001b[0m]    │\n",
       "│ (\u001b[38;5;33mMaxPooling2D\u001b[0m)      │ \u001b[38;5;34m16\u001b[0m)               │            │                   │\n",
       "├─────────────────────┼───────────────────┼────────────┼───────────────────┤\n",
       "│ max_pooling2d_9     │ (\u001b[38;5;45mNone\u001b[0m, \u001b[38;5;34m30\u001b[0m, \u001b[38;5;34m311\u001b[0m,   │          \u001b[38;5;34m0\u001b[0m │ conv2d_9[\u001b[38;5;34m0\u001b[0m][\u001b[38;5;34m0\u001b[0m]    │\n",
       "│ (\u001b[38;5;33mMaxPooling2D\u001b[0m)      │ \u001b[38;5;34m16\u001b[0m)               │            │                   │\n",
       "├─────────────────────┼───────────────────┼────────────┼───────────────────┤\n",
       "│ other_features      │ (\u001b[38;5;45mNone\u001b[0m, \u001b[38;5;34m6\u001b[0m)         │          \u001b[38;5;34m0\u001b[0m │ -                 │\n",
       "│ (\u001b[38;5;33mInputLayer\u001b[0m)        │                   │            │                   │\n",
       "├─────────────────────┼───────────────────┼────────────┼───────────────────┤\n",
       "│ conv2d_2 (\u001b[38;5;33mConv2D\u001b[0m)   │ (\u001b[38;5;45mNone\u001b[0m, \u001b[38;5;34m28\u001b[0m, \u001b[38;5;34m153\u001b[0m,   │      \u001b[38;5;34m4,640\u001b[0m │ max_pooling2d_1[\u001b[38;5;34m…\u001b[0m │\n",
       "│                     │ \u001b[38;5;34m32\u001b[0m)               │            │                   │\n",
       "├─────────────────────┼───────────────────┼────────────┼───────────────────┤\n",
       "│ conv2d_6 (\u001b[38;5;33mConv2D\u001b[0m)   │ (\u001b[38;5;45mNone\u001b[0m, \u001b[38;5;34m28\u001b[0m, \u001b[38;5;34m184\u001b[0m,   │      \u001b[38;5;34m4,640\u001b[0m │ max_pooling2d_5[\u001b[38;5;34m…\u001b[0m │\n",
       "│                     │ \u001b[38;5;34m32\u001b[0m)               │            │                   │\n",
       "├─────────────────────┼───────────────────┼────────────┼───────────────────┤\n",
       "│ conv2d_10 (\u001b[38;5;33mConv2D\u001b[0m)  │ (\u001b[38;5;45mNone\u001b[0m, \u001b[38;5;34m28\u001b[0m, \u001b[38;5;34m309\u001b[0m,   │      \u001b[38;5;34m4,640\u001b[0m │ max_pooling2d_9[\u001b[38;5;34m…\u001b[0m │\n",
       "│                     │ \u001b[38;5;34m32\u001b[0m)               │            │                   │\n",
       "├─────────────────────┼───────────────────┼────────────┼───────────────────┤\n",
       "│ dense (\u001b[38;5;33mDense\u001b[0m)       │ (\u001b[38;5;45mNone\u001b[0m, \u001b[38;5;34m64\u001b[0m)        │        \u001b[38;5;34m448\u001b[0m │ other_features[\u001b[38;5;34m0\u001b[0m… │\n",
       "├─────────────────────┼───────────────────┼────────────┼───────────────────┤\n",
       "│ max_pooling2d_2     │ (\u001b[38;5;45mNone\u001b[0m, \u001b[38;5;34m14\u001b[0m, \u001b[38;5;34m76\u001b[0m,    │          \u001b[38;5;34m0\u001b[0m │ conv2d_2[\u001b[38;5;34m0\u001b[0m][\u001b[38;5;34m0\u001b[0m]    │\n",
       "│ (\u001b[38;5;33mMaxPooling2D\u001b[0m)      │ \u001b[38;5;34m32\u001b[0m)               │            │                   │\n",
       "├─────────────────────┼───────────────────┼────────────┼───────────────────┤\n",
       "│ max_pooling2d_6     │ (\u001b[38;5;45mNone\u001b[0m, \u001b[38;5;34m14\u001b[0m, \u001b[38;5;34m92\u001b[0m,    │          \u001b[38;5;34m0\u001b[0m │ conv2d_6[\u001b[38;5;34m0\u001b[0m][\u001b[38;5;34m0\u001b[0m]    │\n",
       "│ (\u001b[38;5;33mMaxPooling2D\u001b[0m)      │ \u001b[38;5;34m32\u001b[0m)               │            │                   │\n",
       "├─────────────────────┼───────────────────┼────────────┼───────────────────┤\n",
       "│ max_pooling2d_10    │ (\u001b[38;5;45mNone\u001b[0m, \u001b[38;5;34m14\u001b[0m, \u001b[38;5;34m154\u001b[0m,   │          \u001b[38;5;34m0\u001b[0m │ conv2d_10[\u001b[38;5;34m0\u001b[0m][\u001b[38;5;34m0\u001b[0m]   │\n",
       "│ (\u001b[38;5;33mMaxPooling2D\u001b[0m)      │ \u001b[38;5;34m32\u001b[0m)               │            │                   │\n",
       "├─────────────────────┼───────────────────┼────────────┼───────────────────┤\n",
       "│ dense_1 (\u001b[38;5;33mDense\u001b[0m)     │ (\u001b[38;5;45mNone\u001b[0m, \u001b[38;5;34m128\u001b[0m)       │      \u001b[38;5;34m8,320\u001b[0m │ dense[\u001b[38;5;34m0\u001b[0m][\u001b[38;5;34m0\u001b[0m]       │\n",
       "├─────────────────────┼───────────────────┼────────────┼───────────────────┤\n",
       "│ conv2d_3 (\u001b[38;5;33mConv2D\u001b[0m)   │ (\u001b[38;5;45mNone\u001b[0m, \u001b[38;5;34m12\u001b[0m, \u001b[38;5;34m74\u001b[0m,    │     \u001b[38;5;34m18,496\u001b[0m │ max_pooling2d_2[\u001b[38;5;34m…\u001b[0m │\n",
       "│                     │ \u001b[38;5;34m64\u001b[0m)               │            │                   │\n",
       "├─────────────────────┼───────────────────┼────────────┼───────────────────┤\n",
       "│ conv2d_7 (\u001b[38;5;33mConv2D\u001b[0m)   │ (\u001b[38;5;45mNone\u001b[0m, \u001b[38;5;34m12\u001b[0m, \u001b[38;5;34m90\u001b[0m,    │     \u001b[38;5;34m18,496\u001b[0m │ max_pooling2d_6[\u001b[38;5;34m…\u001b[0m │\n",
       "│                     │ \u001b[38;5;34m64\u001b[0m)               │            │                   │\n",
       "├─────────────────────┼───────────────────┼────────────┼───────────────────┤\n",
       "│ conv2d_11 (\u001b[38;5;33mConv2D\u001b[0m)  │ (\u001b[38;5;45mNone\u001b[0m, \u001b[38;5;34m12\u001b[0m, \u001b[38;5;34m152\u001b[0m,   │     \u001b[38;5;34m18,496\u001b[0m │ max_pooling2d_10… │\n",
       "│                     │ \u001b[38;5;34m64\u001b[0m)               │            │                   │\n",
       "├─────────────────────┼───────────────────┼────────────┼───────────────────┤\n",
       "│ dropout (\u001b[38;5;33mDropout\u001b[0m)   │ (\u001b[38;5;45mNone\u001b[0m, \u001b[38;5;34m128\u001b[0m)       │          \u001b[38;5;34m0\u001b[0m │ dense_1[\u001b[38;5;34m0\u001b[0m][\u001b[38;5;34m0\u001b[0m]     │\n",
       "├─────────────────────┼───────────────────┼────────────┼───────────────────┤\n",
       "│ max_pooling2d_3     │ (\u001b[38;5;45mNone\u001b[0m, \u001b[38;5;34m6\u001b[0m, \u001b[38;5;34m37\u001b[0m, \u001b[38;5;34m64\u001b[0m) │          \u001b[38;5;34m0\u001b[0m │ conv2d_3[\u001b[38;5;34m0\u001b[0m][\u001b[38;5;34m0\u001b[0m]    │\n",
       "│ (\u001b[38;5;33mMaxPooling2D\u001b[0m)      │                   │            │                   │\n",
       "├─────────────────────┼───────────────────┼────────────┼───────────────────┤\n",
       "│ max_pooling2d_7     │ (\u001b[38;5;45mNone\u001b[0m, \u001b[38;5;34m6\u001b[0m, \u001b[38;5;34m45\u001b[0m, \u001b[38;5;34m64\u001b[0m) │          \u001b[38;5;34m0\u001b[0m │ conv2d_7[\u001b[38;5;34m0\u001b[0m][\u001b[38;5;34m0\u001b[0m]    │\n",
       "│ (\u001b[38;5;33mMaxPooling2D\u001b[0m)      │                   │            │                   │\n",
       "├─────────────────────┼───────────────────┼────────────┼───────────────────┤\n",
       "│ max_pooling2d_11    │ (\u001b[38;5;45mNone\u001b[0m, \u001b[38;5;34m6\u001b[0m, \u001b[38;5;34m76\u001b[0m, \u001b[38;5;34m64\u001b[0m) │          \u001b[38;5;34m0\u001b[0m │ conv2d_11[\u001b[38;5;34m0\u001b[0m][\u001b[38;5;34m0\u001b[0m]   │\n",
       "│ (\u001b[38;5;33mMaxPooling2D\u001b[0m)      │                   │            │                   │\n",
       "├─────────────────────┼───────────────────┼────────────┼───────────────────┤\n",
       "│ dense_2 (\u001b[38;5;33mDense\u001b[0m)     │ (\u001b[38;5;45mNone\u001b[0m, \u001b[38;5;34m128\u001b[0m)       │     \u001b[38;5;34m16,512\u001b[0m │ dropout[\u001b[38;5;34m0\u001b[0m][\u001b[38;5;34m0\u001b[0m]     │\n",
       "├─────────────────────┼───────────────────┼────────────┼───────────────────┤\n",
       "│ global_average_poo… │ (\u001b[38;5;45mNone\u001b[0m, \u001b[38;5;34m64\u001b[0m)        │          \u001b[38;5;34m0\u001b[0m │ max_pooling2d_3[\u001b[38;5;34m…\u001b[0m │\n",
       "│ (\u001b[38;5;33mGlobalAveragePool…\u001b[0m │                   │            │                   │\n",
       "├─────────────────────┼───────────────────┼────────────┼───────────────────┤\n",
       "│ global_average_poo… │ (\u001b[38;5;45mNone\u001b[0m, \u001b[38;5;34m64\u001b[0m)        │          \u001b[38;5;34m0\u001b[0m │ max_pooling2d_7[\u001b[38;5;34m…\u001b[0m │\n",
       "│ (\u001b[38;5;33mGlobalAveragePool…\u001b[0m │                   │            │                   │\n",
       "├─────────────────────┼───────────────────┼────────────┼───────────────────┤\n",
       "│ global_average_poo… │ (\u001b[38;5;45mNone\u001b[0m, \u001b[38;5;34m64\u001b[0m)        │          \u001b[38;5;34m0\u001b[0m │ max_pooling2d_11… │\n",
       "│ (\u001b[38;5;33mGlobalAveragePool…\u001b[0m │                   │            │                   │\n",
       "├─────────────────────┼───────────────────┼────────────┼───────────────────┤\n",
       "│ dense_3 (\u001b[38;5;33mDense\u001b[0m)     │ (\u001b[38;5;45mNone\u001b[0m, \u001b[38;5;34m64\u001b[0m)        │      \u001b[38;5;34m8,256\u001b[0m │ dense_2[\u001b[38;5;34m0\u001b[0m][\u001b[38;5;34m0\u001b[0m]     │\n",
       "├─────────────────────┼───────────────────┼────────────┼───────────────────┤\n",
       "│ concatenate         │ (\u001b[38;5;45mNone\u001b[0m, \u001b[38;5;34m256\u001b[0m)       │          \u001b[38;5;34m0\u001b[0m │ global_average_p… │\n",
       "│ (\u001b[38;5;33mConcatenate\u001b[0m)       │                   │            │ global_average_p… │\n",
       "│                     │                   │            │ global_average_p… │\n",
       "│                     │                   │            │ dense_3[\u001b[38;5;34m0\u001b[0m][\u001b[38;5;34m0\u001b[0m]     │\n",
       "├─────────────────────┼───────────────────┼────────────┼───────────────────┤\n",
       "│ dense_4 (\u001b[38;5;33mDense\u001b[0m)     │ (\u001b[38;5;45mNone\u001b[0m, \u001b[38;5;34m128\u001b[0m)       │     \u001b[38;5;34m32,896\u001b[0m │ concatenate[\u001b[38;5;34m0\u001b[0m][\u001b[38;5;34m0\u001b[0m] │\n",
       "├─────────────────────┼───────────────────┼────────────┼───────────────────┤\n",
       "│ dropout_1 (\u001b[38;5;33mDropout\u001b[0m) │ (\u001b[38;5;45mNone\u001b[0m, \u001b[38;5;34m128\u001b[0m)       │          \u001b[38;5;34m0\u001b[0m │ dense_4[\u001b[38;5;34m0\u001b[0m][\u001b[38;5;34m0\u001b[0m]     │\n",
       "├─────────────────────┼───────────────────┼────────────┼───────────────────┤\n",
       "│ dense_5 (\u001b[38;5;33mDense\u001b[0m)     │ (\u001b[38;5;45mNone\u001b[0m, \u001b[38;5;34m64\u001b[0m)        │      \u001b[38;5;34m8,256\u001b[0m │ dropout_1[\u001b[38;5;34m0\u001b[0m][\u001b[38;5;34m0\u001b[0m]   │\n",
       "├─────────────────────┼───────────────────┼────────────┼───────────────────┤\n",
       "│ dense_6 (\u001b[38;5;33mDense\u001b[0m)     │ (\u001b[38;5;45mNone\u001b[0m, \u001b[38;5;34m1\u001b[0m)         │         \u001b[38;5;34m65\u001b[0m │ dense_5[\u001b[38;5;34m0\u001b[0m][\u001b[38;5;34m0\u001b[0m]     │\n",
       "└─────────────────────┴───────────────────┴────────────┴───────────────────┘\n"
      ]
     },
     "metadata": {},
     "output_type": "display_data"
    },
    {
     "data": {
      "text/html": [
       "<pre style=\"white-space:pre;overflow-x:auto;line-height:normal;font-family:Menlo,'DejaVu Sans Mono',consolas,'Courier New',monospace\"><span style=\"font-weight: bold\"> Total params: </span><span style=\"color: #00af00; text-decoration-color: #00af00\">151,601</span> (592.19 KB)\n",
       "</pre>\n"
      ],
      "text/plain": [
       "\u001b[1m Total params: \u001b[0m\u001b[38;5;34m151,601\u001b[0m (592.19 KB)\n"
      ]
     },
     "metadata": {},
     "output_type": "display_data"
    },
    {
     "data": {
      "text/html": [
       "<pre style=\"white-space:pre;overflow-x:auto;line-height:normal;font-family:Menlo,'DejaVu Sans Mono',consolas,'Courier New',monospace\"><span style=\"font-weight: bold\"> Trainable params: </span><span style=\"color: #00af00; text-decoration-color: #00af00\">151,601</span> (592.19 KB)\n",
       "</pre>\n"
      ],
      "text/plain": [
       "\u001b[1m Trainable params: \u001b[0m\u001b[38;5;34m151,601\u001b[0m (592.19 KB)\n"
      ]
     },
     "metadata": {},
     "output_type": "display_data"
    },
    {
     "data": {
      "text/html": [
       "<pre style=\"white-space:pre;overflow-x:auto;line-height:normal;font-family:Menlo,'DejaVu Sans Mono',consolas,'Courier New',monospace\"><span style=\"font-weight: bold\"> Non-trainable params: </span><span style=\"color: #00af00; text-decoration-color: #00af00\">0</span> (0.00 B)\n",
       "</pre>\n"
      ],
      "text/plain": [
       "\u001b[1m Non-trainable params: \u001b[0m\u001b[38;5;34m0\u001b[0m (0.00 B)\n"
      ]
     },
     "metadata": {},
     "output_type": "display_data"
    }
   ],
   "source": [
    "# Define the model with two inputs\n",
    "model = tf.keras.Model(inputs=[mel_input_breathing, mel_input_cough, mel_input_speech, other_input], outputs=z)\n",
    "\n",
    "# Compile the model\n",
    "model.compile(optimizer='adam', loss='binary_crossentropy', metrics=['accuracy','recall','precision'])\n",
    "\n",
    "# Print model summary\n",
    "model.summary()"
   ]
  },
  {
   "cell_type": "code",
   "execution_count": null,
   "metadata": {},
   "outputs": [
    {
     "name": "stdout",
     "output_type": "stream",
     "text": [
      "Training set shapes:\n",
      "Breathing: (752, 128, 626, 1)\n",
      "Coughing: (752, 128, 751, 1)\n",
      "Speech: (752, 128, 1251, 1)\n",
      "Other Features: (752, 6)\n",
      "Labels: (752,)\n",
      "\n",
      "Validation set shapes:\n",
      "Breathing: (189, 128, 626, 1)\n",
      "Coughing: (189, 128, 751, 1)\n",
      "Speech: (189, 128, 1251, 1)\n",
      "Other Features: (189, 6)\n",
      "Labels: (189,)\n"
     ]
    }
   ],
   "source": [
    "X_train_breathing, X_val_breathing, \\\n",
    "X_train_coughing, X_val_coughing, \\\n",
    "X_train_speech, X_val_speech, \\\n",
    "X_train_other_features, X_val_other_features, \\\n",
    "y_train_tomek, y_val_tomek = train_test_split(\n",
    "    spectrograms_train_breathing,\n",
    "    spectrograms_train_coughing,\n",
    "    spectrograms_train_speech,\n",
    "    other_features_resampled,\n",
    "    y_train_resampled,\n",
    "    test_size=0.2,\n",
    "    random_state=seed,\n",
    "    stratify=y_train_resampled\n",
    ")\n",
    "\n",
    "# Step 2: Verify shapes of training and validation sets\n",
    "print(\"Training set shapes:\")\n",
    "print(\"Breathing:\", X_train_breathing.shape)\n",
    "print(\"Coughing:\", X_train_coughing.shape)\n",
    "print(\"Speech:\", X_train_speech.shape)\n",
    "print(\"Other Features:\", X_train_other_features.shape)\n",
    "print(\"Labels:\", y_train_tomek.shape)\n",
    "\n",
    "print(\"\\nValidation set shapes:\")\n",
    "print(\"Breathing:\", X_val_breathing.shape)\n",
    "print(\"Coughing:\", X_val_coughing.shape)\n",
    "print(\"Speech:\", X_val_speech.shape)\n",
    "print(\"Other Features:\", X_val_other_features.shape)\n",
    "print(\"Labels:\", y_val_tomek.shape)\n"
   ]
  },
  {
   "cell_type": "markdown",
   "metadata": {},
   "source": [
    "### Check Sub-Model Performance"
   ]
  },
  {
   "cell_type": "code",
   "execution_count": null,
   "metadata": {},
   "outputs": [],
   "source": [
    "from tensorflow.keras.layers import BatchNormalization\n",
    "\n",
    "def create_cnn_subnetwork_batch_normalization(input_layer):\n",
    "    x = Conv2D(32, (3, 3), activation='relu', padding='same')(input_layer)\n",
    "    x = BatchNormalization()(x)  # Add batch normalization\n",
    "    x = MaxPooling2D(pool_size=(2, 2))(x)\n",
    "\n",
    "    x = Conv2D(64, (3, 3), activation='relu', padding='same')(x)\n",
    "    x = BatchNormalization()(x)  # Add batch normalization\n",
    "    x = MaxPooling2D(pool_size=(2, 2))(x)\n",
    "\n",
    "    x = Conv2D(128, (3, 3), activation='relu', padding='same')(x)\n",
    "    x = BatchNormalization()(x)  # Add batch normalization\n",
    "    x = MaxPooling2D(pool_size=(2, 2))(x)\n",
    "\n",
    "    x = GlobalAveragePooling2D()(x)\n",
    "\n",
    "    return x"
   ]
  },
  {
   "cell_type": "code",
   "execution_count": null,
   "metadata": {},
   "outputs": [],
   "source": [
    "X_train_breathing_subset, l, y_train_breathing_subset, k = train_test_split(X_train_breathing, y_train_tomek, test_size = 0.9, random_state = seed, stratify = y_train_tomek)\n",
    "X_train_breathing_subset, X_val_breathing_subset, y_train_breathing_subset, y_val_breathing_subset = train_test_split(X_train_breathing_subset, y_train_breathing_subset, test_size = 0.1, random_state = seed, stratify = y_train_breathing_subset)"
   ]
  },
  {
   "cell_type": "code",
   "execution_count": null,
   "metadata": {},
   "outputs": [
    {
     "name": "stdout",
     "output_type": "stream",
     "text": [
      "Epoch 1/10\n",
      "\u001b[1m3/3\u001b[0m \u001b[32m━━━━━━━━━━━━━━━━━━━━\u001b[0m\u001b[37m\u001b[0m \u001b[1m7s\u001b[0m 1s/step - accuracy: 0.6224 - loss: 0.6832 - val_accuracy: 0.6250 - val_loss: 0.6684\n",
      "Epoch 2/10\n",
      "\u001b[1m3/3\u001b[0m \u001b[32m━━━━━━━━━━━━━━━━━━━━\u001b[0m\u001b[37m\u001b[0m \u001b[1m5s\u001b[0m 1s/step - accuracy: 0.7215 - loss: 0.5728 - val_accuracy: 0.6250 - val_loss: 0.6612\n",
      "Epoch 3/10\n",
      "\u001b[1m3/3\u001b[0m \u001b[32m━━━━━━━━━━━━━━━━━━━━\u001b[0m\u001b[37m\u001b[0m \u001b[1m5s\u001b[0m 1s/step - accuracy: 0.7712 - loss: 0.4939 - val_accuracy: 0.6250 - val_loss: 0.6572\n",
      "Epoch 4/10\n",
      "\u001b[1m3/3\u001b[0m \u001b[32m━━━━━━━━━━━━━━━━━━━━\u001b[0m\u001b[37m\u001b[0m \u001b[1m5s\u001b[0m 1s/step - accuracy: 0.7712 - loss: 0.4759 - val_accuracy: 0.6250 - val_loss: 0.6533\n",
      "Epoch 5/10\n",
      "\u001b[1m3/3\u001b[0m \u001b[32m━━━━━━━━━━━━━━━━━━━━\u001b[0m\u001b[37m\u001b[0m \u001b[1m4s\u001b[0m 1s/step - accuracy: 0.7826 - loss: 0.4320 - val_accuracy: 0.6250 - val_loss: 0.6533\n",
      "Epoch 6/10\n",
      "\u001b[1m3/3\u001b[0m \u001b[32m━━━━━━━━━━━━━━━━━━━━\u001b[0m\u001b[37m\u001b[0m \u001b[1m5s\u001b[0m 1s/step - accuracy: 0.8551 - loss: 0.4057 - val_accuracy: 0.6250 - val_loss: 0.6567\n",
      "Epoch 7/10\n",
      "\u001b[1m3/3\u001b[0m \u001b[32m━━━━━━━━━━━━━━━━━━━━\u001b[0m\u001b[37m\u001b[0m \u001b[1m5s\u001b[0m 1s/step - accuracy: 0.8359 - loss: 0.3943 - val_accuracy: 0.6250 - val_loss: 0.6621\n",
      "Epoch 8/10\n",
      "\u001b[1m3/3\u001b[0m \u001b[32m━━━━━━━━━━━━━━━━━━━━\u001b[0m\u001b[37m\u001b[0m \u001b[1m5s\u001b[0m 1s/step - accuracy: 0.8551 - loss: 0.3784 - val_accuracy: 0.6250 - val_loss: 0.6677\n",
      "Epoch 9/10\n",
      "\u001b[1m3/3\u001b[0m \u001b[32m━━━━━━━━━━━━━━━━━━━━\u001b[0m\u001b[37m\u001b[0m \u001b[1m5s\u001b[0m 1s/step - accuracy: 0.8664 - loss: 0.3711 - val_accuracy: 0.6250 - val_loss: 0.6736\n",
      "Epoch 10/10\n",
      "\u001b[1m3/3\u001b[0m \u001b[32m━━━━━━━━━━━━━━━━━━━━\u001b[0m\u001b[37m\u001b[0m \u001b[1m5s\u001b[0m 1s/step - accuracy: 0.8664 - loss: 0.3643 - val_accuracy: 0.6250 - val_loss: 0.6823\n",
      "\u001b[1m3/3\u001b[0m \u001b[32m━━━━━━━━━━━━━━━━━━━━\u001b[0m\u001b[37m\u001b[0m \u001b[1m1s\u001b[0m 160ms/step - accuracy: 0.6679 - loss: 0.6327\n",
      "train Accuracy: 0.6716417670249939\n"
     ]
    }
   ],
   "source": [
    "from tensorflow.keras.layers import Dense\n",
    "from tensorflow.keras.models import Model\n",
    "\n",
    "# Define a simple CNN model for testing\n",
    "breathing_layer = Input(shape=(128, 626, 1))\n",
    "breathing_output = create_cnn_subnetwork_batch_normalization(breathing_layer)\n",
    "\n",
    "# Add a dense classifier on top of the CNN subnetwork\n",
    "classifier_output = Dense(1, activation='sigmoid')(breathing_output)\n",
    "\n",
    "# Create and compile the model\n",
    "test_model = Model(inputs=breathing_layer, outputs=classifier_output)\n",
    "test_model.compile(optimizer='adam', loss='binary_crossentropy', metrics=['accuracy'])\n",
    "\n",
    "# Train on a small dataset (replace with actual data)\n",
    "history = test_model.fit(X_train_breathing_subset, y_train_breathing_subset,\n",
    "                         validation_data=(X_val_breathing_subset, y_val_breathing_subset),\n",
    "                         epochs=10,\n",
    "                         batch_size=32)\n",
    "\n",
    "# Evaluate performance\n",
    "train_loss, train_accuracy = test_model.evaluate(X_train_breathing_subset, y_train_breathing_subset)\n",
    "print(f\"train Accuracy: {train_accuracy}\")"
   ]
  },
  {
   "cell_type": "code",
   "execution_count": null,
   "metadata": {},
   "outputs": [
    {
     "name": "stdout",
     "output_type": "stream",
     "text": [
      "\u001b[1m3/3\u001b[0m \u001b[32m━━━━━━━━━━━━━━━━━━━━\u001b[0m\u001b[37m\u001b[0m \u001b[1m1s\u001b[0m 159ms/step\n"
     ]
    },
    {
     "data": {
      "image/png": "[encoded data removed]",
      "text/plain": [
       "<Figure size 640x480 with 2 Axes>"
      ]
     },
     "metadata": {},
     "output_type": "display_data"
    }
   ],
   "source": [
    "from sklearn.metrics import confusion_matrix, ConfusionMatrixDisplay\n",
    "\n",
    "y_pred_train_subset = test_model.predict(X_train_breathing_subset)\n",
    "y_pred_train_subset_binary = (y_pred_train_subset > 0.6).astype(int)\n",
    "\n",
    "cm = confusion_matrix(y_train_breathing_subset, y_pred_train_subset_binary)\n",
    "\n",
    "# Step 4: Visualize or print the confusion matrix\n",
    "disp = ConfusionMatrixDisplay(confusion_matrix=cm)\n",
    "disp.plot(cmap=plt.cm.Blues)\n",
    "plt.title(\"Confusion Matrix for Training Data\")\n",
    "plt.show()"
   ]
  },
  {
   "cell_type": "markdown",
   "metadata": {},
   "source": [
    "### Main Model"
   ]
  },
  {
   "cell_type": "code",
   "execution_count": null,
   "metadata": {},
   "outputs": [
    {
     "name": "stdout",
     "output_type": "stream",
     "text": [
      "Epoch 1/50\n"
     ]
    },
    {
     "name": "stderr",
     "output_type": "stream",
     "text": [
      "/Users/opheliasin/covid-detection/venv/lib/python3.12/site-packages/keras/src/models/functional.py:225: UserWarning: The structure of `inputs` doesn't match the expected structure: ['mel_spectrogram_breathing', 'mel_spectrogram_cough', 'mel_spectrogram_speech', 'other_features']. Received: the structure of inputs=('*', '*', '*', '*')\n",
      "  warnings.warn(\n"
     ]
    },
    {
     "name": "stdout",
     "output_type": "stream",
     "text": [
      "\u001b[1m24/24\u001b[0m \u001b[32m━━━━━━━━━━━━━━━━━━━━\u001b[0m\u001b[37m\u001b[0m \u001b[1m50s\u001b[0m 2s/step - accuracy: 0.5960 - loss: 8.8950 - precision: 0.3570 - recall: 0.3418 - val_accuracy: 0.6296 - val_loss: 1.4145 - val_precision: 0.2941 - val_recall: 0.0794\n",
      "Epoch 2/50\n",
      "\u001b[1m24/24\u001b[0m \u001b[32m━━━━━━━━━━━━━━━━━━━━\u001b[0m\u001b[37m\u001b[0m \u001b[1m43s\u001b[0m 2s/step - accuracy: 0.5437 - loss: 2.2860 - precision: 0.3219 - recall: 0.3642 - val_accuracy: 0.6296 - val_loss: 0.7797 - val_precision: 0.3158 - val_recall: 0.0952\n",
      "Epoch 3/50\n",
      "\u001b[1m24/24\u001b[0m \u001b[32m━━━━━━━━━━━━━━━━━━━━\u001b[0m\u001b[37m\u001b[0m \u001b[1m35s\u001b[0m 1s/step - accuracy: 0.5703 - loss: 1.4029 - precision: 0.3331 - recall: 0.3117 - val_accuracy: 0.6402 - val_loss: 0.7117 - val_precision: 0.3333 - val_recall: 0.0794\n",
      "Epoch 4/50\n",
      "\u001b[1m24/24\u001b[0m \u001b[32m━━━━━━━━━━━━━━━━━━━━\u001b[0m\u001b[37m\u001b[0m \u001b[1m36s\u001b[0m 1s/step - accuracy: 0.5634 - loss: 1.0284 - precision: 0.3238 - recall: 0.3081 - val_accuracy: 0.6561 - val_loss: 0.6627 - val_precision: 0.3333 - val_recall: 0.0317\n",
      "Epoch 5/50\n",
      "\u001b[1m24/24\u001b[0m \u001b[32m━━━━━━━━━━━━━━━━━━━━\u001b[0m\u001b[37m\u001b[0m \u001b[1m36s\u001b[0m 1s/step - accuracy: 0.5955 - loss: 0.8170 - precision: 0.3688 - recall: 0.3409 - val_accuracy: 0.6878 - val_loss: 0.6463 - val_precision: 0.5909 - val_recall: 0.2063\n",
      "Epoch 6/50\n",
      "\u001b[1m24/24\u001b[0m \u001b[32m━━━━━━━━━━━━━━━━━━━━\u001b[0m\u001b[37m\u001b[0m \u001b[1m55s\u001b[0m 2s/step - accuracy: 0.6175 - loss: 0.7712 - precision: 0.3971 - recall: 0.3331 - val_accuracy: 0.5979 - val_loss: 0.6428 - val_precision: 0.2903 - val_recall: 0.1429\n",
      "Epoch 7/50\n",
      "\u001b[1m24/24\u001b[0m \u001b[32m━━━━━━━━━━━━━━━━━━━━\u001b[0m\u001b[37m\u001b[0m \u001b[1m38s\u001b[0m 2s/step - accuracy: 0.5726 - loss: 0.7411 - precision: 0.3104 - recall: 0.2466 - val_accuracy: 0.6825 - val_loss: 0.6455 - val_precision: 0.6000 - val_recall: 0.1429\n",
      "Epoch 8/50\n",
      "\u001b[1m24/24\u001b[0m \u001b[32m━━━━━━━━━━━━━━━━━━━━\u001b[0m\u001b[37m\u001b[0m \u001b[1m51s\u001b[0m 2s/step - accuracy: 0.6534 - loss: 0.6442 - precision: 0.4253 - recall: 0.1824 - val_accuracy: 0.7037 - val_loss: 0.6144 - val_precision: 0.7692 - val_recall: 0.1587\n",
      "Epoch 9/50\n",
      "\u001b[1m24/24\u001b[0m \u001b[32m━━━━━━━━━━━━━━━━━━━━\u001b[0m\u001b[37m\u001b[0m \u001b[1m39s\u001b[0m 2s/step - accuracy: 0.6289 - loss: 0.7015 - precision: 0.3801 - recall: 0.2143 - val_accuracy: 0.6349 - val_loss: 0.6450 - val_precision: 0.4000 - val_recall: 0.1905\n",
      "Epoch 10/50\n",
      "\u001b[1m24/24\u001b[0m \u001b[32m━━━━━━━━━━━━━━━━━━━━\u001b[0m\u001b[37m\u001b[0m \u001b[1m43s\u001b[0m 2s/step - accuracy: 0.6356 - loss: 0.6634 - precision: 0.4095 - recall: 0.2349 - val_accuracy: 0.6508 - val_loss: 0.6379 - val_precision: 0.4545 - val_recall: 0.2381\n",
      "Epoch 11/50\n",
      "\u001b[1m24/24\u001b[0m \u001b[32m━━━━━━━━━━━━━━━━━━━━\u001b[0m\u001b[37m\u001b[0m \u001b[1m44s\u001b[0m 2s/step - accuracy: 0.6094 - loss: 0.6735 - precision: 0.3332 - recall: 0.1887 - val_accuracy: 0.6138 - val_loss: 0.6413 - val_precision: 0.3529 - val_recall: 0.1905\n",
      "Epoch 12/50\n",
      "\u001b[1m24/24\u001b[0m \u001b[32m━━━━━━━━━━━━━━━━━━━━\u001b[0m\u001b[37m\u001b[0m \u001b[1m47s\u001b[0m 2s/step - accuracy: 0.6577 - loss: 0.6509 - precision: 0.4470 - recall: 0.2017 - val_accuracy: 0.6561 - val_loss: 0.6391 - val_precision: 0.4615 - val_recall: 0.1905\n",
      "Epoch 13/50\n",
      "\u001b[1m24/24\u001b[0m \u001b[32m━━━━━━━━━━━━━━━━━━━━\u001b[0m\u001b[37m\u001b[0m \u001b[1m50s\u001b[0m 2s/step - accuracy: 0.6516 - loss: 0.6141 - precision: 0.3975 - recall: 0.1384 - val_accuracy: 0.6720 - val_loss: 0.6157 - val_precision: 0.5385 - val_recall: 0.1111\n",
      "Epoch 13: early stopping\n",
      "Restoring model weights from the end of the best epoch: 8.\n",
      "\u001b[1m6/6\u001b[0m \u001b[32m━━━━━━━━━━━━━━━━━━━━\u001b[0m\u001b[37m\u001b[0m \u001b[1m2s\u001b[0m 330ms/step - accuracy: 0.7115 - loss: 0.6086 - precision: 0.8902 - recall: 0.1579\n"
     ]
    }
   ],
   "source": [
    "from tensorflow.keras.callbacks import EarlyStopping\n",
    "\n",
    "# EarlyStopping callback\n",
    "early_stopping = EarlyStopping(\n",
    "    monitor='val_loss',         # Metric to monitor (e.g., validation loss)\n",
    "    patience=5,                 # Number of epochs with no improvement before stopping\n",
    "    restore_best_weights=True,  # Restore the weights of the best epoch\n",
    "    verbose=1                   # Print messages when early stopping is triggered\n",
    ")\n",
    "\n",
    "history = model.fit(\n",
    "    [X_train_breathing, X_train_coughing, X_train_speech, X_train_other_features],\n",
    "    y_train_tomek,\n",
    "    validation_data=(\n",
    "        [X_val_breathing, X_val_coughing, X_val_speech, X_val_other_features],\n",
    "        y_val_tomek\n",
    "    ),\n",
    "    epochs=50,\n",
    "    batch_size=32,\n",
    "    callbacks=[early_stopping]\n",
    ")\n",
    "\n",
    "\n",
    "# Step 4: Evaluate the model on the validation set\n",
    "results = model.evaluate(\n",
    "    [X_val_breathing, X_val_coughing, X_val_speech, X_val_other_features],\n",
    "    y_val_tomek\n",
    ")"
   ]
  },
  {
   "cell_type": "code",
   "execution_count": null,
   "metadata": {},
   "outputs": [
    {
     "name": "stderr",
     "output_type": "stream",
     "text": [
      "/Users/opheliasin/covid-detection/venv/lib/python3.12/site-packages/keras/src/models/functional.py:225: UserWarning: The structure of `inputs` doesn't match the expected structure: ['mel_spectrogram_breathing', 'mel_spectrogram_cough', 'mel_spectrogram_speech', 'other_features']. Received: the structure of inputs=('*', '*', '*', '*')\n",
      "  warnings.warn(\n"
     ]
    },
    {
     "name": "stdout",
     "output_type": "stream",
     "text": [
      "\u001b[1m24/24\u001b[0m \u001b[32m━━━━━━━━━━━━━━━━━━━━\u001b[0m\u001b[37m\u001b[0m \u001b[1m13s\u001b[0m 551ms/step\n"
     ]
    }
   ],
   "source": [
    "y_pred_train_tomek = model.predict([X_train_breathing, X_train_coughing, X_train_speech, X_train_other_features])"
   ]
  },
  {
   "cell_type": "code",
   "execution_count": null,
   "metadata": {},
   "outputs": [],
   "source": [
    "y_pred_train_tomek_binary = (y_pred_train_tomek > 0.6).astype(int)"
   ]
  },
  {
   "cell_type": "code",
   "execution_count": null,
   "metadata": {},
   "outputs": [
    {
     "name": "stdout",
     "output_type": "stream",
     "text": [
      "              precision    recall  f1-score   support\n",
      "\n",
      "           0       0.68      0.99      0.80       503\n",
      "           1       0.69      0.04      0.07       249\n",
      "\n",
      "    accuracy                           0.68       752\n",
      "   macro avg       0.68      0.51      0.44       752\n",
      "weighted avg       0.68      0.68      0.56       752\n",
      "\n"
     ]
    }
   ],
   "source": [
    "from sklearn.metrics import classification_report\n",
    "\n",
    "print(classification_report(y_train_tomek, y_pred_train_tomek_binary))"
   ]
  },
  {
   "cell_type": "code",
   "execution_count": null,
   "metadata": {},
   "outputs": [
    {
     "name": "stdout",
     "output_type": "stream",
     "text": [
      "Training Accuracy: 0.675531914893617\n"
     ]
    }
   ],
   "source": [
    "from sklearn.metrics import accuracy_score\n",
    "accuracy_train = accuracy_score(y_train_tomek, y_pred_train_tomek_binary)\n",
    "\n",
    "print(f\"Training Accuracy: {accuracy_train}\")"
   ]
  },
  {
   "cell_type": "code",
   "execution_count": null,
   "metadata": {},
   "outputs": [
    {
     "data": {
      "image/png": "[encoded data removed]",
      "text/plain": [
       "<Figure size 640x480 with 2 Axes>"
      ]
     },
     "metadata": {},
     "output_type": "display_data"
    }
   ],
   "source": [
    "from sklearn.metrics import confusion_matrix, ConfusionMatrixDisplay\n",
    "\n",
    "cm = confusion_matrix(y_train_tomek, y_pred_train_tomek_binary)\n",
    "\n",
    "# Step 4: Visualize or print the confusion matrix\n",
    "disp = ConfusionMatrixDisplay(confusion_matrix=cm)\n",
    "disp.plot(cmap=plt.cm.Blues)\n",
    "plt.title(\"Confusion Matrix for Training Data\")\n",
    "plt.show()"
   ]
  },
  {
   "cell_type": "code",
   "execution_count": null,
   "metadata": {},
   "outputs": [
    {
     "name": "stdout",
     "output_type": "stream",
     "text": [
      "\u001b[1m7/7\u001b[0m \u001b[32m━━━━━━━━━━━━━━━━━━━━\u001b[0m\u001b[37m\u001b[0m \u001b[1m3s\u001b[0m 344ms/step\n"
     ]
    }
   ],
   "source": [
    "y_pred_test = model.predict([spectrograms_test_breathing, spectrograms_test_coughing, spectrograms_test_speech, other_features_test])"
   ]
  },
  {
   "cell_type": "code",
   "execution_count": null,
   "metadata": {},
   "outputs": [],
   "source": [
    "y_pred_test_binary = (y_pred_test > 0.6).astype(int)"
   ]
  },
  {
   "cell_type": "code",
   "execution_count": null,
   "metadata": {},
   "outputs": [],
   "source": [
    "cm = confusion_matrix(y_test, y_pred_test_binary)"
   ]
  },
  {
   "cell_type": "code",
   "execution_count": null,
   "metadata": {},
   "outputs": [
    {
     "data": {
      "image/png": "[encoded data removed]",
      "text/plain": [
       "<Figure size 640x480 with 2 Axes>"
      ]
     },
     "metadata": {},
     "output_type": "display_data"
    }
   ],
   "source": [
    "disp = ConfusionMatrixDisplay(cm)\n",
    "\n",
    "disp.plot()\n",
    "plt.title(\"Confusion Matrix for Testing Data\")\n",
    "plt.show()"
   ]
  },
  {
   "cell_type": "code",
   "execution_count": null,
   "metadata": {},
   "outputs": [
    {
     "name": "stdout",
     "output_type": "stream",
     "text": [
      "Balanced Accuracy: 0.5\n"
     ]
    }
   ],
   "source": [
    "from sklearn.metrics import balanced_accuracy_score\n",
    "\n",
    "balanced_acc = balanced_accuracy_score(y_test, y_pred_test_binary)\n",
    "print(f\"Balanced Accuracy: {balanced_acc}\")"
   ]
  },
  {
   "cell_type": "markdown",
   "metadata": {},
   "source": [
    "## Focal Loss\n",
    "- categorized all 1s as 0s"
   ]
  },
  {
   "cell_type": "code",
   "execution_count": null,
   "metadata": {},
   "outputs": [],
   "source": [
    "def focal_loss(gamma=2., alpha=0.25):\n",
    "    def loss(y_true, y_pred):\n",
    "        y_pred = tf.clip_by_value(y_pred, tf.keras.backend.epsilon(), 1 - tf.keras.backend.epsilon())\n",
    "        pt = tf.where(tf.equal(y_true, 1), y_pred, 1 - y_pred)\n",
    "        return -tf.reduce_mean(alpha * tf.pow(1. - pt, gamma) * tf.math.log(pt))\n",
    "    return loss"
   ]
  },
  {
   "cell_type": "code",
   "execution_count": null,
   "metadata": {},
   "outputs": [
    {
     "data": {
      "text/html": [
       "<pre style=\"white-space:pre;overflow-x:auto;line-height:normal;font-family:Menlo,'DejaVu Sans Mono',consolas,'Courier New',monospace\"><span style=\"font-weight: bold\">Model: \"functional_3\"</span>\n",
       "</pre>\n"
      ],
      "text/plain": [
       "\u001b[1mModel: \"functional_3\"\u001b[0m\n"
      ]
     },
     "metadata": {},
     "output_type": "display_data"
    },
    {
     "data": {
      "text/html": [
       "<pre style=\"white-space:pre;overflow-x:auto;line-height:normal;font-family:Menlo,'DejaVu Sans Mono',consolas,'Courier New',monospace\">┏━━━━━━━━━━━━━━━━━━━━━┳━━━━━━━━━━━━━━━━━━━┳━━━━━━━━━━━━┳━━━━━━━━━━━━━━━━━━━┓\n",
       "┃<span style=\"font-weight: bold\"> Layer (type)        </span>┃<span style=\"font-weight: bold\"> Output Shape      </span>┃<span style=\"font-weight: bold\">    Param # </span>┃<span style=\"font-weight: bold\"> Connected to      </span>┃\n",
       "┡━━━━━━━━━━━━━━━━━━━━━╇━━━━━━━━━━━━━━━━━━━╇━━━━━━━━━━━━╇━━━━━━━━━━━━━━━━━━━┩\n",
       "│ mel_spectrogram_br… │ (<span style=\"color: #00d7ff; text-decoration-color: #00d7ff\">None</span>, <span style=\"color: #00af00; text-decoration-color: #00af00\">128</span>, <span style=\"color: #00af00; text-decoration-color: #00af00\">626</span>,  │          <span style=\"color: #00af00; text-decoration-color: #00af00\">0</span> │ -                 │\n",
       "│ (<span style=\"color: #0087ff; text-decoration-color: #0087ff\">InputLayer</span>)        │ <span style=\"color: #00af00; text-decoration-color: #00af00\">1</span>)                │            │                   │\n",
       "├─────────────────────┼───────────────────┼────────────┼───────────────────┤\n",
       "│ mel_spectrogram_co… │ (<span style=\"color: #00d7ff; text-decoration-color: #00d7ff\">None</span>, <span style=\"color: #00af00; text-decoration-color: #00af00\">128</span>, <span style=\"color: #00af00; text-decoration-color: #00af00\">751</span>,  │          <span style=\"color: #00af00; text-decoration-color: #00af00\">0</span> │ -                 │\n",
       "│ (<span style=\"color: #0087ff; text-decoration-color: #0087ff\">InputLayer</span>)        │ <span style=\"color: #00af00; text-decoration-color: #00af00\">1</span>)                │            │                   │\n",
       "├─────────────────────┼───────────────────┼────────────┼───────────────────┤\n",
       "│ mel_spectrogram_sp… │ (<span style=\"color: #00d7ff; text-decoration-color: #00d7ff\">None</span>, <span style=\"color: #00af00; text-decoration-color: #00af00\">128</span>, <span style=\"color: #00af00; text-decoration-color: #00af00\">1251</span>, │          <span style=\"color: #00af00; text-decoration-color: #00af00\">0</span> │ -                 │\n",
       "│ (<span style=\"color: #0087ff; text-decoration-color: #0087ff\">InputLayer</span>)        │ <span style=\"color: #00af00; text-decoration-color: #00af00\">1</span>)                │            │                   │\n",
       "├─────────────────────┼───────────────────┼────────────┼───────────────────┤\n",
       "│ conv2d_24 (<span style=\"color: #0087ff; text-decoration-color: #0087ff\">Conv2D</span>)  │ (<span style=\"color: #00d7ff; text-decoration-color: #00d7ff\">None</span>, <span style=\"color: #00af00; text-decoration-color: #00af00\">126</span>, <span style=\"color: #00af00; text-decoration-color: #00af00\">624</span>,  │        <span style=\"color: #00af00; text-decoration-color: #00af00\">160</span> │ mel_spectrogram_… │\n",
       "│                     │ <span style=\"color: #00af00; text-decoration-color: #00af00\">16</span>)               │            │                   │\n",
       "├─────────────────────┼───────────────────┼────────────┼───────────────────┤\n",
       "│ conv2d_28 (<span style=\"color: #0087ff; text-decoration-color: #0087ff\">Conv2D</span>)  │ (<span style=\"color: #00d7ff; text-decoration-color: #00d7ff\">None</span>, <span style=\"color: #00af00; text-decoration-color: #00af00\">126</span>, <span style=\"color: #00af00; text-decoration-color: #00af00\">749</span>,  │        <span style=\"color: #00af00; text-decoration-color: #00af00\">160</span> │ mel_spectrogram_… │\n",
       "│                     │ <span style=\"color: #00af00; text-decoration-color: #00af00\">16</span>)               │            │                   │\n",
       "├─────────────────────┼───────────────────┼────────────┼───────────────────┤\n",
       "│ conv2d_32 (<span style=\"color: #0087ff; text-decoration-color: #0087ff\">Conv2D</span>)  │ (<span style=\"color: #00d7ff; text-decoration-color: #00d7ff\">None</span>, <span style=\"color: #00af00; text-decoration-color: #00af00\">126</span>, <span style=\"color: #00af00; text-decoration-color: #00af00\">1249</span>, │        <span style=\"color: #00af00; text-decoration-color: #00af00\">160</span> │ mel_spectrogram_… │\n",
       "│                     │ <span style=\"color: #00af00; text-decoration-color: #00af00\">16</span>)               │            │                   │\n",
       "├─────────────────────┼───────────────────┼────────────┼───────────────────┤\n",
       "│ max_pooling2d_24    │ (<span style=\"color: #00d7ff; text-decoration-color: #00d7ff\">None</span>, <span style=\"color: #00af00; text-decoration-color: #00af00\">63</span>, <span style=\"color: #00af00; text-decoration-color: #00af00\">312</span>,   │          <span style=\"color: #00af00; text-decoration-color: #00af00\">0</span> │ conv2d_24[<span style=\"color: #00af00; text-decoration-color: #00af00\">0</span>][<span style=\"color: #00af00; text-decoration-color: #00af00\">0</span>]   │\n",
       "│ (<span style=\"color: #0087ff; text-decoration-color: #0087ff\">MaxPooling2D</span>)      │ <span style=\"color: #00af00; text-decoration-color: #00af00\">16</span>)               │            │                   │\n",
       "├─────────────────────┼───────────────────┼────────────┼───────────────────┤\n",
       "│ max_pooling2d_28    │ (<span style=\"color: #00d7ff; text-decoration-color: #00d7ff\">None</span>, <span style=\"color: #00af00; text-decoration-color: #00af00\">63</span>, <span style=\"color: #00af00; text-decoration-color: #00af00\">374</span>,   │          <span style=\"color: #00af00; text-decoration-color: #00af00\">0</span> │ conv2d_28[<span style=\"color: #00af00; text-decoration-color: #00af00\">0</span>][<span style=\"color: #00af00; text-decoration-color: #00af00\">0</span>]   │\n",
       "│ (<span style=\"color: #0087ff; text-decoration-color: #0087ff\">MaxPooling2D</span>)      │ <span style=\"color: #00af00; text-decoration-color: #00af00\">16</span>)               │            │                   │\n",
       "├─────────────────────┼───────────────────┼────────────┼───────────────────┤\n",
       "│ max_pooling2d_32    │ (<span style=\"color: #00d7ff; text-decoration-color: #00d7ff\">None</span>, <span style=\"color: #00af00; text-decoration-color: #00af00\">63</span>, <span style=\"color: #00af00; text-decoration-color: #00af00\">624</span>,   │          <span style=\"color: #00af00; text-decoration-color: #00af00\">0</span> │ conv2d_32[<span style=\"color: #00af00; text-decoration-color: #00af00\">0</span>][<span style=\"color: #00af00; text-decoration-color: #00af00\">0</span>]   │\n",
       "│ (<span style=\"color: #0087ff; text-decoration-color: #0087ff\">MaxPooling2D</span>)      │ <span style=\"color: #00af00; text-decoration-color: #00af00\">16</span>)               │            │                   │\n",
       "├─────────────────────┼───────────────────┼────────────┼───────────────────┤\n",
       "│ conv2d_25 (<span style=\"color: #0087ff; text-decoration-color: #0087ff\">Conv2D</span>)  │ (<span style=\"color: #00d7ff; text-decoration-color: #00d7ff\">None</span>, <span style=\"color: #00af00; text-decoration-color: #00af00\">61</span>, <span style=\"color: #00af00; text-decoration-color: #00af00\">310</span>,   │      <span style=\"color: #00af00; text-decoration-color: #00af00\">2,320</span> │ max_pooling2d_24… │\n",
       "│                     │ <span style=\"color: #00af00; text-decoration-color: #00af00\">16</span>)               │            │                   │\n",
       "├─────────────────────┼───────────────────┼────────────┼───────────────────┤\n",
       "│ conv2d_29 (<span style=\"color: #0087ff; text-decoration-color: #0087ff\">Conv2D</span>)  │ (<span style=\"color: #00d7ff; text-decoration-color: #00d7ff\">None</span>, <span style=\"color: #00af00; text-decoration-color: #00af00\">61</span>, <span style=\"color: #00af00; text-decoration-color: #00af00\">372</span>,   │      <span style=\"color: #00af00; text-decoration-color: #00af00\">2,320</span> │ max_pooling2d_28… │\n",
       "│                     │ <span style=\"color: #00af00; text-decoration-color: #00af00\">16</span>)               │            │                   │\n",
       "├─────────────────────┼───────────────────┼────────────┼───────────────────┤\n",
       "│ conv2d_33 (<span style=\"color: #0087ff; text-decoration-color: #0087ff\">Conv2D</span>)  │ (<span style=\"color: #00d7ff; text-decoration-color: #00d7ff\">None</span>, <span style=\"color: #00af00; text-decoration-color: #00af00\">61</span>, <span style=\"color: #00af00; text-decoration-color: #00af00\">622</span>,   │      <span style=\"color: #00af00; text-decoration-color: #00af00\">2,320</span> │ max_pooling2d_32… │\n",
       "│                     │ <span style=\"color: #00af00; text-decoration-color: #00af00\">16</span>)               │            │                   │\n",
       "├─────────────────────┼───────────────────┼────────────┼───────────────────┤\n",
       "│ max_pooling2d_25    │ (<span style=\"color: #00d7ff; text-decoration-color: #00d7ff\">None</span>, <span style=\"color: #00af00; text-decoration-color: #00af00\">30</span>, <span style=\"color: #00af00; text-decoration-color: #00af00\">155</span>,   │          <span style=\"color: #00af00; text-decoration-color: #00af00\">0</span> │ conv2d_25[<span style=\"color: #00af00; text-decoration-color: #00af00\">0</span>][<span style=\"color: #00af00; text-decoration-color: #00af00\">0</span>]   │\n",
       "│ (<span style=\"color: #0087ff; text-decoration-color: #0087ff\">MaxPooling2D</span>)      │ <span style=\"color: #00af00; text-decoration-color: #00af00\">16</span>)               │            │                   │\n",
       "├─────────────────────┼───────────────────┼────────────┼───────────────────┤\n",
       "│ max_pooling2d_29    │ (<span style=\"color: #00d7ff; text-decoration-color: #00d7ff\">None</span>, <span style=\"color: #00af00; text-decoration-color: #00af00\">30</span>, <span style=\"color: #00af00; text-decoration-color: #00af00\">186</span>,   │          <span style=\"color: #00af00; text-decoration-color: #00af00\">0</span> │ conv2d_29[<span style=\"color: #00af00; text-decoration-color: #00af00\">0</span>][<span style=\"color: #00af00; text-decoration-color: #00af00\">0</span>]   │\n",
       "│ (<span style=\"color: #0087ff; text-decoration-color: #0087ff\">MaxPooling2D</span>)      │ <span style=\"color: #00af00; text-decoration-color: #00af00\">16</span>)               │            │                   │\n",
       "├─────────────────────┼───────────────────┼────────────┼───────────────────┤\n",
       "│ max_pooling2d_33    │ (<span style=\"color: #00d7ff; text-decoration-color: #00d7ff\">None</span>, <span style=\"color: #00af00; text-decoration-color: #00af00\">30</span>, <span style=\"color: #00af00; text-decoration-color: #00af00\">311</span>,   │          <span style=\"color: #00af00; text-decoration-color: #00af00\">0</span> │ conv2d_33[<span style=\"color: #00af00; text-decoration-color: #00af00\">0</span>][<span style=\"color: #00af00; text-decoration-color: #00af00\">0</span>]   │\n",
       "│ (<span style=\"color: #0087ff; text-decoration-color: #0087ff\">MaxPooling2D</span>)      │ <span style=\"color: #00af00; text-decoration-color: #00af00\">16</span>)               │            │                   │\n",
       "├─────────────────────┼───────────────────┼────────────┼───────────────────┤\n",
       "│ other_features      │ (<span style=\"color: #00d7ff; text-decoration-color: #00d7ff\">None</span>, <span style=\"color: #00af00; text-decoration-color: #00af00\">6</span>)         │          <span style=\"color: #00af00; text-decoration-color: #00af00\">0</span> │ -                 │\n",
       "│ (<span style=\"color: #0087ff; text-decoration-color: #0087ff\">InputLayer</span>)        │                   │            │                   │\n",
       "├─────────────────────┼───────────────────┼────────────┼───────────────────┤\n",
       "│ conv2d_26 (<span style=\"color: #0087ff; text-decoration-color: #0087ff\">Conv2D</span>)  │ (<span style=\"color: #00d7ff; text-decoration-color: #00d7ff\">None</span>, <span style=\"color: #00af00; text-decoration-color: #00af00\">28</span>, <span style=\"color: #00af00; text-decoration-color: #00af00\">153</span>,   │      <span style=\"color: #00af00; text-decoration-color: #00af00\">4,640</span> │ max_pooling2d_25… │\n",
       "│                     │ <span style=\"color: #00af00; text-decoration-color: #00af00\">32</span>)               │            │                   │\n",
       "├─────────────────────┼───────────────────┼────────────┼───────────────────┤\n",
       "│ conv2d_30 (<span style=\"color: #0087ff; text-decoration-color: #0087ff\">Conv2D</span>)  │ (<span style=\"color: #00d7ff; text-decoration-color: #00d7ff\">None</span>, <span style=\"color: #00af00; text-decoration-color: #00af00\">28</span>, <span style=\"color: #00af00; text-decoration-color: #00af00\">184</span>,   │      <span style=\"color: #00af00; text-decoration-color: #00af00\">4,640</span> │ max_pooling2d_29… │\n",
       "│                     │ <span style=\"color: #00af00; text-decoration-color: #00af00\">32</span>)               │            │                   │\n",
       "├─────────────────────┼───────────────────┼────────────┼───────────────────┤\n",
       "│ conv2d_34 (<span style=\"color: #0087ff; text-decoration-color: #0087ff\">Conv2D</span>)  │ (<span style=\"color: #00d7ff; text-decoration-color: #00d7ff\">None</span>, <span style=\"color: #00af00; text-decoration-color: #00af00\">28</span>, <span style=\"color: #00af00; text-decoration-color: #00af00\">309</span>,   │      <span style=\"color: #00af00; text-decoration-color: #00af00\">4,640</span> │ max_pooling2d_33… │\n",
       "│                     │ <span style=\"color: #00af00; text-decoration-color: #00af00\">32</span>)               │            │                   │\n",
       "├─────────────────────┼───────────────────┼────────────┼───────────────────┤\n",
       "│ dense_14 (<span style=\"color: #0087ff; text-decoration-color: #0087ff\">Dense</span>)    │ (<span style=\"color: #00d7ff; text-decoration-color: #00d7ff\">None</span>, <span style=\"color: #00af00; text-decoration-color: #00af00\">64</span>)        │        <span style=\"color: #00af00; text-decoration-color: #00af00\">448</span> │ other_features[<span style=\"color: #00af00; text-decoration-color: #00af00\">0</span>… │\n",
       "├─────────────────────┼───────────────────┼────────────┼───────────────────┤\n",
       "│ max_pooling2d_26    │ (<span style=\"color: #00d7ff; text-decoration-color: #00d7ff\">None</span>, <span style=\"color: #00af00; text-decoration-color: #00af00\">14</span>, <span style=\"color: #00af00; text-decoration-color: #00af00\">76</span>,    │          <span style=\"color: #00af00; text-decoration-color: #00af00\">0</span> │ conv2d_26[<span style=\"color: #00af00; text-decoration-color: #00af00\">0</span>][<span style=\"color: #00af00; text-decoration-color: #00af00\">0</span>]   │\n",
       "│ (<span style=\"color: #0087ff; text-decoration-color: #0087ff\">MaxPooling2D</span>)      │ <span style=\"color: #00af00; text-decoration-color: #00af00\">32</span>)               │            │                   │\n",
       "├─────────────────────┼───────────────────┼────────────┼───────────────────┤\n",
       "│ max_pooling2d_30    │ (<span style=\"color: #00d7ff; text-decoration-color: #00d7ff\">None</span>, <span style=\"color: #00af00; text-decoration-color: #00af00\">14</span>, <span style=\"color: #00af00; text-decoration-color: #00af00\">92</span>,    │          <span style=\"color: #00af00; text-decoration-color: #00af00\">0</span> │ conv2d_30[<span style=\"color: #00af00; text-decoration-color: #00af00\">0</span>][<span style=\"color: #00af00; text-decoration-color: #00af00\">0</span>]   │\n",
       "│ (<span style=\"color: #0087ff; text-decoration-color: #0087ff\">MaxPooling2D</span>)      │ <span style=\"color: #00af00; text-decoration-color: #00af00\">32</span>)               │            │                   │\n",
       "├─────────────────────┼───────────────────┼────────────┼───────────────────┤\n",
       "│ max_pooling2d_34    │ (<span style=\"color: #00d7ff; text-decoration-color: #00d7ff\">None</span>, <span style=\"color: #00af00; text-decoration-color: #00af00\">14</span>, <span style=\"color: #00af00; text-decoration-color: #00af00\">154</span>,   │          <span style=\"color: #00af00; text-decoration-color: #00af00\">0</span> │ conv2d_34[<span style=\"color: #00af00; text-decoration-color: #00af00\">0</span>][<span style=\"color: #00af00; text-decoration-color: #00af00\">0</span>]   │\n",
       "│ (<span style=\"color: #0087ff; text-decoration-color: #0087ff\">MaxPooling2D</span>)      │ <span style=\"color: #00af00; text-decoration-color: #00af00\">32</span>)               │            │                   │\n",
       "├─────────────────────┼───────────────────┼────────────┼───────────────────┤\n",
       "│ dense_15 (<span style=\"color: #0087ff; text-decoration-color: #0087ff\">Dense</span>)    │ (<span style=\"color: #00d7ff; text-decoration-color: #00d7ff\">None</span>, <span style=\"color: #00af00; text-decoration-color: #00af00\">128</span>)       │      <span style=\"color: #00af00; text-decoration-color: #00af00\">8,320</span> │ dense_14[<span style=\"color: #00af00; text-decoration-color: #00af00\">0</span>][<span style=\"color: #00af00; text-decoration-color: #00af00\">0</span>]    │\n",
       "├─────────────────────┼───────────────────┼────────────┼───────────────────┤\n",
       "│ conv2d_27 (<span style=\"color: #0087ff; text-decoration-color: #0087ff\">Conv2D</span>)  │ (<span style=\"color: #00d7ff; text-decoration-color: #00d7ff\">None</span>, <span style=\"color: #00af00; text-decoration-color: #00af00\">12</span>, <span style=\"color: #00af00; text-decoration-color: #00af00\">74</span>,    │     <span style=\"color: #00af00; text-decoration-color: #00af00\">18,496</span> │ max_pooling2d_26… │\n",
       "│                     │ <span style=\"color: #00af00; text-decoration-color: #00af00\">64</span>)               │            │                   │\n",
       "├─────────────────────┼───────────────────┼────────────┼───────────────────┤\n",
       "│ conv2d_31 (<span style=\"color: #0087ff; text-decoration-color: #0087ff\">Conv2D</span>)  │ (<span style=\"color: #00d7ff; text-decoration-color: #00d7ff\">None</span>, <span style=\"color: #00af00; text-decoration-color: #00af00\">12</span>, <span style=\"color: #00af00; text-decoration-color: #00af00\">90</span>,    │     <span style=\"color: #00af00; text-decoration-color: #00af00\">18,496</span> │ max_pooling2d_30… │\n",
       "│                     │ <span style=\"color: #00af00; text-decoration-color: #00af00\">64</span>)               │            │                   │\n",
       "├─────────────────────┼───────────────────┼────────────┼───────────────────┤\n",
       "│ conv2d_35 (<span style=\"color: #0087ff; text-decoration-color: #0087ff\">Conv2D</span>)  │ (<span style=\"color: #00d7ff; text-decoration-color: #00d7ff\">None</span>, <span style=\"color: #00af00; text-decoration-color: #00af00\">12</span>, <span style=\"color: #00af00; text-decoration-color: #00af00\">152</span>,   │     <span style=\"color: #00af00; text-decoration-color: #00af00\">18,496</span> │ max_pooling2d_34… │\n",
       "│                     │ <span style=\"color: #00af00; text-decoration-color: #00af00\">64</span>)               │            │                   │\n",
       "├─────────────────────┼───────────────────┼────────────┼───────────────────┤\n",
       "│ dropout_4 (<span style=\"color: #0087ff; text-decoration-color: #0087ff\">Dropout</span>) │ (<span style=\"color: #00d7ff; text-decoration-color: #00d7ff\">None</span>, <span style=\"color: #00af00; text-decoration-color: #00af00\">128</span>)       │          <span style=\"color: #00af00; text-decoration-color: #00af00\">0</span> │ dense_15[<span style=\"color: #00af00; text-decoration-color: #00af00\">0</span>][<span style=\"color: #00af00; text-decoration-color: #00af00\">0</span>]    │\n",
       "├─────────────────────┼───────────────────┼────────────┼───────────────────┤\n",
       "│ max_pooling2d_27    │ (<span style=\"color: #00d7ff; text-decoration-color: #00d7ff\">None</span>, <span style=\"color: #00af00; text-decoration-color: #00af00\">6</span>, <span style=\"color: #00af00; text-decoration-color: #00af00\">37</span>, <span style=\"color: #00af00; text-decoration-color: #00af00\">64</span>) │          <span style=\"color: #00af00; text-decoration-color: #00af00\">0</span> │ conv2d_27[<span style=\"color: #00af00; text-decoration-color: #00af00\">0</span>][<span style=\"color: #00af00; text-decoration-color: #00af00\">0</span>]   │\n",
       "│ (<span style=\"color: #0087ff; text-decoration-color: #0087ff\">MaxPooling2D</span>)      │                   │            │                   │\n",
       "├─────────────────────┼───────────────────┼────────────┼───────────────────┤\n",
       "│ max_pooling2d_31    │ (<span style=\"color: #00d7ff; text-decoration-color: #00d7ff\">None</span>, <span style=\"color: #00af00; text-decoration-color: #00af00\">6</span>, <span style=\"color: #00af00; text-decoration-color: #00af00\">45</span>, <span style=\"color: #00af00; text-decoration-color: #00af00\">64</span>) │          <span style=\"color: #00af00; text-decoration-color: #00af00\">0</span> │ conv2d_31[<span style=\"color: #00af00; text-decoration-color: #00af00\">0</span>][<span style=\"color: #00af00; text-decoration-color: #00af00\">0</span>]   │\n",
       "│ (<span style=\"color: #0087ff; text-decoration-color: #0087ff\">MaxPooling2D</span>)      │                   │            │                   │\n",
       "├─────────────────────┼───────────────────┼────────────┼───────────────────┤\n",
       "│ max_pooling2d_35    │ (<span style=\"color: #00d7ff; text-decoration-color: #00d7ff\">None</span>, <span style=\"color: #00af00; text-decoration-color: #00af00\">6</span>, <span style=\"color: #00af00; text-decoration-color: #00af00\">76</span>, <span style=\"color: #00af00; text-decoration-color: #00af00\">64</span>) │          <span style=\"color: #00af00; text-decoration-color: #00af00\">0</span> │ conv2d_35[<span style=\"color: #00af00; text-decoration-color: #00af00\">0</span>][<span style=\"color: #00af00; text-decoration-color: #00af00\">0</span>]   │\n",
       "│ (<span style=\"color: #0087ff; text-decoration-color: #0087ff\">MaxPooling2D</span>)      │                   │            │                   │\n",
       "├─────────────────────┼───────────────────┼────────────┼───────────────────┤\n",
       "│ dense_16 (<span style=\"color: #0087ff; text-decoration-color: #0087ff\">Dense</span>)    │ (<span style=\"color: #00d7ff; text-decoration-color: #00d7ff\">None</span>, <span style=\"color: #00af00; text-decoration-color: #00af00\">128</span>)       │     <span style=\"color: #00af00; text-decoration-color: #00af00\">16,512</span> │ dropout_4[<span style=\"color: #00af00; text-decoration-color: #00af00\">0</span>][<span style=\"color: #00af00; text-decoration-color: #00af00\">0</span>]   │\n",
       "├─────────────────────┼───────────────────┼────────────┼───────────────────┤\n",
       "│ global_average_poo… │ (<span style=\"color: #00d7ff; text-decoration-color: #00d7ff\">None</span>, <span style=\"color: #00af00; text-decoration-color: #00af00\">64</span>)        │          <span style=\"color: #00af00; text-decoration-color: #00af00\">0</span> │ max_pooling2d_27… │\n",
       "│ (<span style=\"color: #0087ff; text-decoration-color: #0087ff\">GlobalAveragePool…</span> │                   │            │                   │\n",
       "├─────────────────────┼───────────────────┼────────────┼───────────────────┤\n",
       "│ global_average_poo… │ (<span style=\"color: #00d7ff; text-decoration-color: #00d7ff\">None</span>, <span style=\"color: #00af00; text-decoration-color: #00af00\">64</span>)        │          <span style=\"color: #00af00; text-decoration-color: #00af00\">0</span> │ max_pooling2d_31… │\n",
       "│ (<span style=\"color: #0087ff; text-decoration-color: #0087ff\">GlobalAveragePool…</span> │                   │            │                   │\n",
       "├─────────────────────┼───────────────────┼────────────┼───────────────────┤\n",
       "│ global_average_poo… │ (<span style=\"color: #00d7ff; text-decoration-color: #00d7ff\">None</span>, <span style=\"color: #00af00; text-decoration-color: #00af00\">64</span>)        │          <span style=\"color: #00af00; text-decoration-color: #00af00\">0</span> │ max_pooling2d_35… │\n",
       "│ (<span style=\"color: #0087ff; text-decoration-color: #0087ff\">GlobalAveragePool…</span> │                   │            │                   │\n",
       "├─────────────────────┼───────────────────┼────────────┼───────────────────┤\n",
       "│ dense_17 (<span style=\"color: #0087ff; text-decoration-color: #0087ff\">Dense</span>)    │ (<span style=\"color: #00d7ff; text-decoration-color: #00d7ff\">None</span>, <span style=\"color: #00af00; text-decoration-color: #00af00\">64</span>)        │      <span style=\"color: #00af00; text-decoration-color: #00af00\">8,256</span> │ dense_16[<span style=\"color: #00af00; text-decoration-color: #00af00\">0</span>][<span style=\"color: #00af00; text-decoration-color: #00af00\">0</span>]    │\n",
       "├─────────────────────┼───────────────────┼────────────┼───────────────────┤\n",
       "│ concatenate_2       │ (<span style=\"color: #00d7ff; text-decoration-color: #00d7ff\">None</span>, <span style=\"color: #00af00; text-decoration-color: #00af00\">256</span>)       │          <span style=\"color: #00af00; text-decoration-color: #00af00\">0</span> │ global_average_p… │\n",
       "│ (<span style=\"color: #0087ff; text-decoration-color: #0087ff\">Concatenate</span>)       │                   │            │ global_average_p… │\n",
       "│                     │                   │            │ global_average_p… │\n",
       "│                     │                   │            │ dense_17[<span style=\"color: #00af00; text-decoration-color: #00af00\">0</span>][<span style=\"color: #00af00; text-decoration-color: #00af00\">0</span>]    │\n",
       "├─────────────────────┼───────────────────┼────────────┼───────────────────┤\n",
       "│ dense_18 (<span style=\"color: #0087ff; text-decoration-color: #0087ff\">Dense</span>)    │ (<span style=\"color: #00d7ff; text-decoration-color: #00d7ff\">None</span>, <span style=\"color: #00af00; text-decoration-color: #00af00\">128</span>)       │     <span style=\"color: #00af00; text-decoration-color: #00af00\">32,896</span> │ concatenate_2[<span style=\"color: #00af00; text-decoration-color: #00af00\">0</span>]… │\n",
       "├─────────────────────┼───────────────────┼────────────┼───────────────────┤\n",
       "│ dropout_5 (<span style=\"color: #0087ff; text-decoration-color: #0087ff\">Dropout</span>) │ (<span style=\"color: #00d7ff; text-decoration-color: #00d7ff\">None</span>, <span style=\"color: #00af00; text-decoration-color: #00af00\">128</span>)       │          <span style=\"color: #00af00; text-decoration-color: #00af00\">0</span> │ dense_18[<span style=\"color: #00af00; text-decoration-color: #00af00\">0</span>][<span style=\"color: #00af00; text-decoration-color: #00af00\">0</span>]    │\n",
       "├─────────────────────┼───────────────────┼────────────┼───────────────────┤\n",
       "│ dense_19 (<span style=\"color: #0087ff; text-decoration-color: #0087ff\">Dense</span>)    │ (<span style=\"color: #00d7ff; text-decoration-color: #00d7ff\">None</span>, <span style=\"color: #00af00; text-decoration-color: #00af00\">64</span>)        │      <span style=\"color: #00af00; text-decoration-color: #00af00\">8,256</span> │ dropout_5[<span style=\"color: #00af00; text-decoration-color: #00af00\">0</span>][<span style=\"color: #00af00; text-decoration-color: #00af00\">0</span>]   │\n",
       "├─────────────────────┼───────────────────┼────────────┼───────────────────┤\n",
       "│ dense_20 (<span style=\"color: #0087ff; text-decoration-color: #0087ff\">Dense</span>)    │ (<span style=\"color: #00d7ff; text-decoration-color: #00d7ff\">None</span>, <span style=\"color: #00af00; text-decoration-color: #00af00\">1</span>)         │         <span style=\"color: #00af00; text-decoration-color: #00af00\">65</span> │ dense_19[<span style=\"color: #00af00; text-decoration-color: #00af00\">0</span>][<span style=\"color: #00af00; text-decoration-color: #00af00\">0</span>]    │\n",
       "└─────────────────────┴───────────────────┴────────────┴───────────────────┘\n",
       "</pre>\n"
      ],
      "text/plain": [
       "┏━━━━━━━━━━━━━━━━━━━━━┳━━━━━━━━━━━━━━━━━━━┳━━━━━━━━━━━━┳━━━━━━━━━━━━━━━━━━━┓\n",
       "┃\u001b[1m \u001b[0m\u001b[1mLayer (type)       \u001b[0m\u001b[1m \u001b[0m┃\u001b[1m \u001b[0m\u001b[1mOutput Shape     \u001b[0m\u001b[1m \u001b[0m┃\u001b[1m \u001b[0m\u001b[1m   Param #\u001b[0m\u001b[1m \u001b[0m┃\u001b[1m \u001b[0m\u001b[1mConnected to     \u001b[0m\u001b[1m \u001b[0m┃\n",
       "┡━━━━━━━━━━━━━━━━━━━━━╇━━━━━━━━━━━━━━━━━━━╇━━━━━━━━━━━━╇━━━━━━━━━━━━━━━━━━━┩\n",
       "│ mel_spectrogram_br… │ (\u001b[38;5;45mNone\u001b[0m, \u001b[38;5;34m128\u001b[0m, \u001b[38;5;34m626\u001b[0m,  │          \u001b[38;5;34m0\u001b[0m │ -                 │\n",
       "│ (\u001b[38;5;33mInputLayer\u001b[0m)        │ \u001b[38;5;34m1\u001b[0m)                │            │                   │\n",
       "├─────────────────────┼───────────────────┼────────────┼───────────────────┤\n",
       "│ mel_spectrogram_co… │ (\u001b[38;5;45mNone\u001b[0m, \u001b[38;5;34m128\u001b[0m, \u001b[38;5;34m751\u001b[0m,  │          \u001b[38;5;34m0\u001b[0m │ -                 │\n",
       "│ (\u001b[38;5;33mInputLayer\u001b[0m)        │ \u001b[38;5;34m1\u001b[0m)                │            │                   │\n",
       "├─────────────────────┼───────────────────┼────────────┼───────────────────┤\n",
       "│ mel_spectrogram_sp… │ (\u001b[38;5;45mNone\u001b[0m, \u001b[38;5;34m128\u001b[0m, \u001b[38;5;34m1251\u001b[0m, │          \u001b[38;5;34m0\u001b[0m │ -                 │\n",
       "│ (\u001b[38;5;33mInputLayer\u001b[0m)        │ \u001b[38;5;34m1\u001b[0m)                │            │                   │\n",
       "├─────────────────────┼───────────────────┼────────────┼───────────────────┤\n",
       "│ conv2d_24 (\u001b[38;5;33mConv2D\u001b[0m)  │ (\u001b[38;5;45mNone\u001b[0m, \u001b[38;5;34m126\u001b[0m, \u001b[38;5;34m624\u001b[0m,  │        \u001b[38;5;34m160\u001b[0m │ mel_spectrogram_… │\n",
       "│                     │ \u001b[38;5;34m16\u001b[0m)               │            │                   │\n",
       "├─────────────────────┼───────────────────┼────────────┼───────────────────┤\n",
       "│ conv2d_28 (\u001b[38;5;33mConv2D\u001b[0m)  │ (\u001b[38;5;45mNone\u001b[0m, \u001b[38;5;34m126\u001b[0m, \u001b[38;5;34m749\u001b[0m,  │        \u001b[38;5;34m160\u001b[0m │ mel_spectrogram_… │\n",
       "│                     │ \u001b[38;5;34m16\u001b[0m)               │            │                   │\n",
       "├─────────────────────┼───────────────────┼────────────┼───────────────────┤\n",
       "│ conv2d_32 (\u001b[38;5;33mConv2D\u001b[0m)  │ (\u001b[38;5;45mNone\u001b[0m, \u001b[38;5;34m126\u001b[0m, \u001b[38;5;34m1249\u001b[0m, │        \u001b[38;5;34m160\u001b[0m │ mel_spectrogram_… │\n",
       "│                     │ \u001b[38;5;34m16\u001b[0m)               │            │                   │\n",
       "├─────────────────────┼───────────────────┼────────────┼───────────────────┤\n",
       "│ max_pooling2d_24    │ (\u001b[38;5;45mNone\u001b[0m, \u001b[38;5;34m63\u001b[0m, \u001b[38;5;34m312\u001b[0m,   │          \u001b[38;5;34m0\u001b[0m │ conv2d_24[\u001b[38;5;34m0\u001b[0m][\u001b[38;5;34m0\u001b[0m]   │\n",
       "│ (\u001b[38;5;33mMaxPooling2D\u001b[0m)      │ \u001b[38;5;34m16\u001b[0m)               │            │                   │\n",
       "├─────────────────────┼───────────────────┼────────────┼───────────────────┤\n",
       "│ max_pooling2d_28    │ (\u001b[38;5;45mNone\u001b[0m, \u001b[38;5;34m63\u001b[0m, \u001b[38;5;34m374\u001b[0m,   │          \u001b[38;5;34m0\u001b[0m │ conv2d_28[\u001b[38;5;34m0\u001b[0m][\u001b[38;5;34m0\u001b[0m]   │\n",
       "│ (\u001b[38;5;33mMaxPooling2D\u001b[0m)      │ \u001b[38;5;34m16\u001b[0m)               │            │                   │\n",
       "├─────────────────────┼───────────────────┼────────────┼───────────────────┤\n",
       "│ max_pooling2d_32    │ (\u001b[38;5;45mNone\u001b[0m, \u001b[38;5;34m63\u001b[0m, \u001b[38;5;34m624\u001b[0m,   │          \u001b[38;5;34m0\u001b[0m │ conv2d_32[\u001b[38;5;34m0\u001b[0m][\u001b[38;5;34m0\u001b[0m]   │\n",
       "│ (\u001b[38;5;33mMaxPooling2D\u001b[0m)      │ \u001b[38;5;34m16\u001b[0m)               │            │                   │\n",
       "├─────────────────────┼───────────────────┼────────────┼───────────────────┤\n",
       "│ conv2d_25 (\u001b[38;5;33mConv2D\u001b[0m)  │ (\u001b[38;5;45mNone\u001b[0m, \u001b[38;5;34m61\u001b[0m, \u001b[38;5;34m310\u001b[0m,   │      \u001b[38;5;34m2,320\u001b[0m │ max_pooling2d_24… │\n",
       "│                     │ \u001b[38;5;34m16\u001b[0m)               │            │                   │\n",
       "├─────────────────────┼───────────────────┼────────────┼───────────────────┤\n",
       "│ conv2d_29 (\u001b[38;5;33mConv2D\u001b[0m)  │ (\u001b[38;5;45mNone\u001b[0m, \u001b[38;5;34m61\u001b[0m, \u001b[38;5;34m372\u001b[0m,   │      \u001b[38;5;34m2,320\u001b[0m │ max_pooling2d_28… │\n",
       "│                     │ \u001b[38;5;34m16\u001b[0m)               │            │                   │\n",
       "├─────────────────────┼───────────────────┼────────────┼───────────────────┤\n",
       "│ conv2d_33 (\u001b[38;5;33mConv2D\u001b[0m)  │ (\u001b[38;5;45mNone\u001b[0m, \u001b[38;5;34m61\u001b[0m, \u001b[38;5;34m622\u001b[0m,   │      \u001b[38;5;34m2,320\u001b[0m │ max_pooling2d_32… │\n",
       "│                     │ \u001b[38;5;34m16\u001b[0m)               │            │                   │\n",
       "├─────────────────────┼───────────────────┼────────────┼───────────────────┤\n",
       "│ max_pooling2d_25    │ (\u001b[38;5;45mNone\u001b[0m, \u001b[38;5;34m30\u001b[0m, \u001b[38;5;34m155\u001b[0m,   │          \u001b[38;5;34m0\u001b[0m │ conv2d_25[\u001b[38;5;34m0\u001b[0m][\u001b[38;5;34m0\u001b[0m]   │\n",
       "│ (\u001b[38;5;33mMaxPooling2D\u001b[0m)      │ \u001b[38;5;34m16\u001b[0m)               │            │                   │\n",
       "├─────────────────────┼───────────────────┼────────────┼───────────────────┤\n",
       "│ max_pooling2d_29    │ (\u001b[38;5;45mNone\u001b[0m, \u001b[38;5;34m30\u001b[0m, \u001b[38;5;34m186\u001b[0m,   │          \u001b[38;5;34m0\u001b[0m │ conv2d_29[\u001b[38;5;34m0\u001b[0m][\u001b[38;5;34m0\u001b[0m]   │\n",
       "│ (\u001b[38;5;33mMaxPooling2D\u001b[0m)      │ \u001b[38;5;34m16\u001b[0m)               │            │                   │\n",
       "├─────────────────────┼───────────────────┼────────────┼───────────────────┤\n",
       "│ max_pooling2d_33    │ (\u001b[38;5;45mNone\u001b[0m, \u001b[38;5;34m30\u001b[0m, \u001b[38;5;34m311\u001b[0m,   │          \u001b[38;5;34m0\u001b[0m │ conv2d_33[\u001b[38;5;34m0\u001b[0m][\u001b[38;5;34m0\u001b[0m]   │\n",
       "│ (\u001b[38;5;33mMaxPooling2D\u001b[0m)      │ \u001b[38;5;34m16\u001b[0m)               │            │                   │\n",
       "├─────────────────────┼───────────────────┼────────────┼───────────────────┤\n",
       "│ other_features      │ (\u001b[38;5;45mNone\u001b[0m, \u001b[38;5;34m6\u001b[0m)         │          \u001b[38;5;34m0\u001b[0m │ -                 │\n",
       "│ (\u001b[38;5;33mInputLayer\u001b[0m)        │                   │            │                   │\n",
       "├─────────────────────┼───────────────────┼────────────┼───────────────────┤\n",
       "│ conv2d_26 (\u001b[38;5;33mConv2D\u001b[0m)  │ (\u001b[38;5;45mNone\u001b[0m, \u001b[38;5;34m28\u001b[0m, \u001b[38;5;34m153\u001b[0m,   │      \u001b[38;5;34m4,640\u001b[0m │ max_pooling2d_25… │\n",
       "│                     │ \u001b[38;5;34m32\u001b[0m)               │            │                   │\n",
       "├─────────────────────┼───────────────────┼────────────┼───────────────────┤\n",
       "│ conv2d_30 (\u001b[38;5;33mConv2D\u001b[0m)  │ (\u001b[38;5;45mNone\u001b[0m, \u001b[38;5;34m28\u001b[0m, \u001b[38;5;34m184\u001b[0m,   │      \u001b[38;5;34m4,640\u001b[0m │ max_pooling2d_29… │\n",
       "│                     │ \u001b[38;5;34m32\u001b[0m)               │            │                   │\n",
       "├─────────────────────┼───────────────────┼────────────┼───────────────────┤\n",
       "│ conv2d_34 (\u001b[38;5;33mConv2D\u001b[0m)  │ (\u001b[38;5;45mNone\u001b[0m, \u001b[38;5;34m28\u001b[0m, \u001b[38;5;34m309\u001b[0m,   │      \u001b[38;5;34m4,640\u001b[0m │ max_pooling2d_33… │\n",
       "│                     │ \u001b[38;5;34m32\u001b[0m)               │            │                   │\n",
       "├─────────────────────┼───────────────────┼────────────┼───────────────────┤\n",
       "│ dense_14 (\u001b[38;5;33mDense\u001b[0m)    │ (\u001b[38;5;45mNone\u001b[0m, \u001b[38;5;34m64\u001b[0m)        │        \u001b[38;5;34m448\u001b[0m │ other_features[\u001b[38;5;34m0\u001b[0m… │\n",
       "├─────────────────────┼───────────────────┼────────────┼───────────────────┤\n",
       "│ max_pooling2d_26    │ (\u001b[38;5;45mNone\u001b[0m, \u001b[38;5;34m14\u001b[0m, \u001b[38;5;34m76\u001b[0m,    │          \u001b[38;5;34m0\u001b[0m │ conv2d_26[\u001b[38;5;34m0\u001b[0m][\u001b[38;5;34m0\u001b[0m]   │\n",
       "│ (\u001b[38;5;33mMaxPooling2D\u001b[0m)      │ \u001b[38;5;34m32\u001b[0m)               │            │                   │\n",
       "├─────────────────────┼───────────────────┼────────────┼───────────────────┤\n",
       "│ max_pooling2d_30    │ (\u001b[38;5;45mNone\u001b[0m, \u001b[38;5;34m14\u001b[0m, \u001b[38;5;34m92\u001b[0m,    │          \u001b[38;5;34m0\u001b[0m │ conv2d_30[\u001b[38;5;34m0\u001b[0m][\u001b[38;5;34m0\u001b[0m]   │\n",
       "│ (\u001b[38;5;33mMaxPooling2D\u001b[0m)      │ \u001b[38;5;34m32\u001b[0m)               │            │                   │\n",
       "├─────────────────────┼───────────────────┼────────────┼───────────────────┤\n",
       "│ max_pooling2d_34    │ (\u001b[38;5;45mNone\u001b[0m, \u001b[38;5;34m14\u001b[0m, \u001b[38;5;34m154\u001b[0m,   │          \u001b[38;5;34m0\u001b[0m │ conv2d_34[\u001b[38;5;34m0\u001b[0m][\u001b[38;5;34m0\u001b[0m]   │\n",
       "│ (\u001b[38;5;33mMaxPooling2D\u001b[0m)      │ \u001b[38;5;34m32\u001b[0m)               │            │                   │\n",
       "├─────────────────────┼───────────────────┼────────────┼───────────────────┤\n",
       "│ dense_15 (\u001b[38;5;33mDense\u001b[0m)    │ (\u001b[38;5;45mNone\u001b[0m, \u001b[38;5;34m128\u001b[0m)       │      \u001b[38;5;34m8,320\u001b[0m │ dense_14[\u001b[38;5;34m0\u001b[0m][\u001b[38;5;34m0\u001b[0m]    │\n",
       "├─────────────────────┼───────────────────┼────────────┼───────────────────┤\n",
       "│ conv2d_27 (\u001b[38;5;33mConv2D\u001b[0m)  │ (\u001b[38;5;45mNone\u001b[0m, \u001b[38;5;34m12\u001b[0m, \u001b[38;5;34m74\u001b[0m,    │     \u001b[38;5;34m18,496\u001b[0m │ max_pooling2d_26… │\n",
       "│                     │ \u001b[38;5;34m64\u001b[0m)               │            │                   │\n",
       "├─────────────────────┼───────────────────┼────────────┼───────────────────┤\n",
       "│ conv2d_31 (\u001b[38;5;33mConv2D\u001b[0m)  │ (\u001b[38;5;45mNone\u001b[0m, \u001b[38;5;34m12\u001b[0m, \u001b[38;5;34m90\u001b[0m,    │     \u001b[38;5;34m18,496\u001b[0m │ max_pooling2d_30… │\n",
       "│                     │ \u001b[38;5;34m64\u001b[0m)               │            │                   │\n",
       "├─────────────────────┼───────────────────┼────────────┼───────────────────┤\n",
       "│ conv2d_35 (\u001b[38;5;33mConv2D\u001b[0m)  │ (\u001b[38;5;45mNone\u001b[0m, \u001b[38;5;34m12\u001b[0m, \u001b[38;5;34m152\u001b[0m,   │     \u001b[38;5;34m18,496\u001b[0m │ max_pooling2d_34… │\n",
       "│                     │ \u001b[38;5;34m64\u001b[0m)               │            │                   │\n",
       "├─────────────────────┼───────────────────┼────────────┼───────────────────┤\n",
       "│ dropout_4 (\u001b[38;5;33mDropout\u001b[0m) │ (\u001b[38;5;45mNone\u001b[0m, \u001b[38;5;34m128\u001b[0m)       │          \u001b[38;5;34m0\u001b[0m │ dense_15[\u001b[38;5;34m0\u001b[0m][\u001b[38;5;34m0\u001b[0m]    │\n",
       "├─────────────────────┼───────────────────┼────────────┼───────────────────┤\n",
       "│ max_pooling2d_27    │ (\u001b[38;5;45mNone\u001b[0m, \u001b[38;5;34m6\u001b[0m, \u001b[38;5;34m37\u001b[0m, \u001b[38;5;34m64\u001b[0m) │          \u001b[38;5;34m0\u001b[0m │ conv2d_27[\u001b[38;5;34m0\u001b[0m][\u001b[38;5;34m0\u001b[0m]   │\n",
       "│ (\u001b[38;5;33mMaxPooling2D\u001b[0m)      │                   │            │                   │\n",
       "├─────────────────────┼───────────────────┼────────────┼───────────────────┤\n",
       "│ max_pooling2d_31    │ (\u001b[38;5;45mNone\u001b[0m, \u001b[38;5;34m6\u001b[0m, \u001b[38;5;34m45\u001b[0m, \u001b[38;5;34m64\u001b[0m) │          \u001b[38;5;34m0\u001b[0m │ conv2d_31[\u001b[38;5;34m0\u001b[0m][\u001b[38;5;34m0\u001b[0m]   │\n",
       "│ (\u001b[38;5;33mMaxPooling2D\u001b[0m)      │                   │            │                   │\n",
       "├─────────────────────┼───────────────────┼────────────┼───────────────────┤\n",
       "│ max_pooling2d_35    │ (\u001b[38;5;45mNone\u001b[0m, \u001b[38;5;34m6\u001b[0m, \u001b[38;5;34m76\u001b[0m, \u001b[38;5;34m64\u001b[0m) │          \u001b[38;5;34m0\u001b[0m │ conv2d_35[\u001b[38;5;34m0\u001b[0m][\u001b[38;5;34m0\u001b[0m]   │\n",
       "│ (\u001b[38;5;33mMaxPooling2D\u001b[0m)      │                   │            │                   │\n",
       "├─────────────────────┼───────────────────┼────────────┼───────────────────┤\n",
       "│ dense_16 (\u001b[38;5;33mDense\u001b[0m)    │ (\u001b[38;5;45mNone\u001b[0m, \u001b[38;5;34m128\u001b[0m)       │     \u001b[38;5;34m16,512\u001b[0m │ dropout_4[\u001b[38;5;34m0\u001b[0m][\u001b[38;5;34m0\u001b[0m]   │\n",
       "├─────────────────────┼───────────────────┼────────────┼───────────────────┤\n",
       "│ global_average_poo… │ (\u001b[38;5;45mNone\u001b[0m, \u001b[38;5;34m64\u001b[0m)        │          \u001b[38;5;34m0\u001b[0m │ max_pooling2d_27… │\n",
       "│ (\u001b[38;5;33mGlobalAveragePool…\u001b[0m │                   │            │                   │\n",
       "├─────────────────────┼───────────────────┼────────────┼───────────────────┤\n",
       "│ global_average_poo… │ (\u001b[38;5;45mNone\u001b[0m, \u001b[38;5;34m64\u001b[0m)        │          \u001b[38;5;34m0\u001b[0m │ max_pooling2d_31… │\n",
       "│ (\u001b[38;5;33mGlobalAveragePool…\u001b[0m │                   │            │                   │\n",
       "├─────────────────────┼───────────────────┼────────────┼───────────────────┤\n",
       "│ global_average_poo… │ (\u001b[38;5;45mNone\u001b[0m, \u001b[38;5;34m64\u001b[0m)        │          \u001b[38;5;34m0\u001b[0m │ max_pooling2d_35… │\n",
       "│ (\u001b[38;5;33mGlobalAveragePool…\u001b[0m │                   │            │                   │\n",
       "├─────────────────────┼───────────────────┼────────────┼───────────────────┤\n",
       "│ dense_17 (\u001b[38;5;33mDense\u001b[0m)    │ (\u001b[38;5;45mNone\u001b[0m, \u001b[38;5;34m64\u001b[0m)        │      \u001b[38;5;34m8,256\u001b[0m │ dense_16[\u001b[38;5;34m0\u001b[0m][\u001b[38;5;34m0\u001b[0m]    │\n",
       "├─────────────────────┼───────────────────┼────────────┼───────────────────┤\n",
       "│ concatenate_2       │ (\u001b[38;5;45mNone\u001b[0m, \u001b[38;5;34m256\u001b[0m)       │          \u001b[38;5;34m0\u001b[0m │ global_average_p… │\n",
       "│ (\u001b[38;5;33mConcatenate\u001b[0m)       │                   │            │ global_average_p… │\n",
       "│                     │                   │            │ global_average_p… │\n",
       "│                     │                   │            │ dense_17[\u001b[38;5;34m0\u001b[0m][\u001b[38;5;34m0\u001b[0m]    │\n",
       "├─────────────────────┼───────────────────┼────────────┼───────────────────┤\n",
       "│ dense_18 (\u001b[38;5;33mDense\u001b[0m)    │ (\u001b[38;5;45mNone\u001b[0m, \u001b[38;5;34m128\u001b[0m)       │     \u001b[38;5;34m32,896\u001b[0m │ concatenate_2[\u001b[38;5;34m0\u001b[0m]… │\n",
       "├─────────────────────┼───────────────────┼────────────┼───────────────────┤\n",
       "│ dropout_5 (\u001b[38;5;33mDropout\u001b[0m) │ (\u001b[38;5;45mNone\u001b[0m, \u001b[38;5;34m128\u001b[0m)       │          \u001b[38;5;34m0\u001b[0m │ dense_18[\u001b[38;5;34m0\u001b[0m][\u001b[38;5;34m0\u001b[0m]    │\n",
       "├─────────────────────┼───────────────────┼────────────┼───────────────────┤\n",
       "│ dense_19 (\u001b[38;5;33mDense\u001b[0m)    │ (\u001b[38;5;45mNone\u001b[0m, \u001b[38;5;34m64\u001b[0m)        │      \u001b[38;5;34m8,256\u001b[0m │ dropout_5[\u001b[38;5;34m0\u001b[0m][\u001b[38;5;34m0\u001b[0m]   │\n",
       "├─────────────────────┼───────────────────┼────────────┼───────────────────┤\n",
       "│ dense_20 (\u001b[38;5;33mDense\u001b[0m)    │ (\u001b[38;5;45mNone\u001b[0m, \u001b[38;5;34m1\u001b[0m)         │         \u001b[38;5;34m65\u001b[0m │ dense_19[\u001b[38;5;34m0\u001b[0m][\u001b[38;5;34m0\u001b[0m]    │\n",
       "└─────────────────────┴───────────────────┴────────────┴───────────────────┘\n"
      ]
     },
     "metadata": {},
     "output_type": "display_data"
    },
    {
     "data": {
      "text/html": [
       "<pre style=\"white-space:pre;overflow-x:auto;line-height:normal;font-family:Menlo,'DejaVu Sans Mono',consolas,'Courier New',monospace\"><span style=\"font-weight: bold\"> Total params: </span><span style=\"color: #00af00; text-decoration-color: #00af00\">151,601</span> (592.19 KB)\n",
       "</pre>\n"
      ],
      "text/plain": [
       "\u001b[1m Total params: \u001b[0m\u001b[38;5;34m151,601\u001b[0m (592.19 KB)\n"
      ]
     },
     "metadata": {},
     "output_type": "display_data"
    },
    {
     "data": {
      "text/html": [
       "<pre style=\"white-space:pre;overflow-x:auto;line-height:normal;font-family:Menlo,'DejaVu Sans Mono',consolas,'Courier New',monospace\"><span style=\"font-weight: bold\"> Trainable params: </span><span style=\"color: #00af00; text-decoration-color: #00af00\">151,601</span> (592.19 KB)\n",
       "</pre>\n"
      ],
      "text/plain": [
       "\u001b[1m Trainable params: \u001b[0m\u001b[38;5;34m151,601\u001b[0m (592.19 KB)\n"
      ]
     },
     "metadata": {},
     "output_type": "display_data"
    },
    {
     "data": {
      "text/html": [
       "<pre style=\"white-space:pre;overflow-x:auto;line-height:normal;font-family:Menlo,'DejaVu Sans Mono',consolas,'Courier New',monospace\"><span style=\"font-weight: bold\"> Non-trainable params: </span><span style=\"color: #00af00; text-decoration-color: #00af00\">0</span> (0.00 B)\n",
       "</pre>\n"
      ],
      "text/plain": [
       "\u001b[1m Non-trainable params: \u001b[0m\u001b[38;5;34m0\u001b[0m (0.00 B)\n"
      ]
     },
     "metadata": {},
     "output_type": "display_data"
    }
   ],
   "source": [
    "# Define the model with two inputs\n",
    "model = tf.keras.Model(inputs=[mel_input_breathing, mel_input_cough, mel_input_speech, other_input], outputs=z)\n",
    "\n",
    "# Compile the model\n",
    "model.compile(optimizer='adam', loss=focal_loss(), metrics=['accuracy', 'recall', 'precision'])\n",
    "\n",
    "# Print model summary\n",
    "model.summary()"
   ]
  },
  {
   "cell_type": "code",
   "execution_count": null,
   "metadata": {},
   "outputs": [
    {
     "name": "stdout",
     "output_type": "stream",
     "text": [
      "Epoch 1/50\n"
     ]
    },
    {
     "name": "stderr",
     "output_type": "stream",
     "text": [
      "/Users/opheliasin/covid-detection/venv/lib/python3.12/site-packages/keras/src/models/functional.py:225: UserWarning: The structure of `inputs` doesn't match the expected structure: ['mel_spectrogram_breathing', 'mel_spectrogram_cough', 'mel_spectrogram_speech', 'other_features']. Received: the structure of inputs=('*', '*', '*', '*')\n",
      "  warnings.warn(\n"
     ]
    },
    {
     "name": "stdout",
     "output_type": "stream",
     "text": [
      "\u001b[1m20/20\u001b[0m \u001b[32m━━━━━━━━━━━━━━━━━━━━\u001b[0m\u001b[37m\u001b[0m \u001b[1m31s\u001b[0m 1s/step - accuracy: 0.6757 - loss: 0.0951 - precision: 0.1698 - recall: 0.1723 - val_accuracy: 0.8194 - val_loss: 0.0306 - val_precision: 0.0000e+00 - val_recall: 0.0000e+00\n",
      "Epoch 2/50\n",
      "\u001b[1m20/20\u001b[0m \u001b[32m━━━━━━━━━━━━━━━━━━━━\u001b[0m\u001b[37m\u001b[0m \u001b[1m29s\u001b[0m 1s/step - accuracy: 0.7207 - loss: 0.0419 - precision: 0.1768 - recall: 0.1152 - val_accuracy: 0.8194 - val_loss: 0.0307 - val_precision: 0.0000e+00 - val_recall: 0.0000e+00\n",
      "Epoch 3/50\n",
      "\u001b[1m20/20\u001b[0m \u001b[32m━━━━━━━━━━━━━━━━━━━━\u001b[0m\u001b[37m\u001b[0m \u001b[1m28s\u001b[0m 1s/step - accuracy: 0.7720 - loss: 0.0421 - precision: 0.1971 - recall: 0.0439 - val_accuracy: 0.8194 - val_loss: 0.0312 - val_precision: 0.0000e+00 - val_recall: 0.0000e+00\n",
      "Epoch 4/50\n",
      "\u001b[1m20/20\u001b[0m \u001b[32m━━━━━━━━━━━━━━━━━━━━\u001b[0m\u001b[37m\u001b[0m \u001b[1m33s\u001b[0m 2s/step - accuracy: 0.7760 - loss: 0.0389 - precision: 0.1449 - recall: 0.0279 - val_accuracy: 0.8194 - val_loss: 0.0302 - val_precision: 0.0000e+00 - val_recall: 0.0000e+00\n",
      "Epoch 5/50\n",
      "\u001b[1m20/20\u001b[0m \u001b[32m━━━━━━━━━━━━━━━━━━━━\u001b[0m\u001b[37m\u001b[0m \u001b[1m29s\u001b[0m 1s/step - accuracy: 0.7971 - loss: 0.0342 - precision: 0.0995 - recall: 0.0093 - val_accuracy: 0.8194 - val_loss: 0.0310 - val_precision: 0.0000e+00 - val_recall: 0.0000e+00\n",
      "Epoch 6/50\n",
      "\u001b[1m20/20\u001b[0m \u001b[32m━━━━━━━━━━━━━━━━━━━━\u001b[0m\u001b[37m\u001b[0m \u001b[1m36s\u001b[0m 2s/step - accuracy: 0.8020 - loss: 0.0332 - precision: 0.4751 - recall: 0.0360 - val_accuracy: 0.8194 - val_loss: 0.0299 - val_precision: 0.0000e+00 - val_recall: 0.0000e+00\n",
      "Epoch 7/50\n",
      "\u001b[1m20/20\u001b[0m \u001b[32m━━━━━━━━━━━━━━━━━━━━\u001b[0m\u001b[37m\u001b[0m \u001b[1m43s\u001b[0m 2s/step - accuracy: 0.7844 - loss: 0.0345 - precision: 0.2509 - recall: 0.0595 - val_accuracy: 0.8194 - val_loss: 0.0301 - val_precision: 0.0000e+00 - val_recall: 0.0000e+00\n",
      "Epoch 8/50\n",
      "\u001b[1m20/20\u001b[0m \u001b[32m━━━━━━━━━━━━━━━━━━━━\u001b[0m\u001b[37m\u001b[0m \u001b[1m47s\u001b[0m 2s/step - accuracy: 0.8027 - loss: 0.0338 - precision: 0.1429 - recall: 0.0027 - val_accuracy: 0.8194 - val_loss: 0.0304 - val_precision: 0.0000e+00 - val_recall: 0.0000e+00\n",
      "Epoch 9/50\n",
      "\u001b[1m20/20\u001b[0m \u001b[32m━━━━━━━━━━━━━━━━━━━━\u001b[0m\u001b[37m\u001b[0m \u001b[1m37s\u001b[0m 2s/step - accuracy: 0.8016 - loss: 0.0341 - precision: 0.2246 - recall: 0.0087 - val_accuracy: 0.8194 - val_loss: 0.0308 - val_precision: 0.0000e+00 - val_recall: 0.0000e+00\n",
      "Epoch 10/50\n",
      "\u001b[1m20/20\u001b[0m \u001b[32m━━━━━━━━━━━━━━━━━━━━\u001b[0m\u001b[37m\u001b[0m \u001b[1m38s\u001b[0m 2s/step - accuracy: 0.8034 - loss: 0.0337 - precision: 0.4528 - recall: 0.0241 - val_accuracy: 0.8194 - val_loss: 0.0303 - val_precision: 0.0000e+00 - val_recall: 0.0000e+00\n",
      "Epoch 11/50\n",
      "\u001b[1m20/20\u001b[0m \u001b[32m━━━━━━━━━━━━━━━━━━━━\u001b[0m\u001b[37m\u001b[0m \u001b[1m38s\u001b[0m 2s/step - accuracy: 0.8036 - loss: 0.0343 - precision: 0.2619 - recall: 0.0044 - val_accuracy: 0.8194 - val_loss: 0.0300 - val_precision: 0.0000e+00 - val_recall: 0.0000e+00\n",
      "Epoch 11: early stopping\n",
      "Restoring model weights from the end of the best epoch: 6.\n",
      "\u001b[1m5/5\u001b[0m \u001b[32m━━━━━━━━━━━━━━━━━━━━\u001b[0m\u001b[37m\u001b[0m \u001b[1m2s\u001b[0m 366ms/step - accuracy: 0.8187 - loss: 0.0300 - precision: 0.0000e+00 - recall: 0.0000e+00\n"
     ]
    }
   ],
   "source": [
    "from tensorflow.keras.callbacks import EarlyStopping\n",
    "\n",
    "# EarlyStopping callback\n",
    "early_stopping = EarlyStopping(\n",
    "    monitor='val_loss',         # Metric to monitor (e.g., validation loss)\n",
    "    patience=5,                 # Number of epochs with no improvement before stopping\n",
    "    restore_best_weights=True,  # Restore the weights of the best epoch\n",
    "    verbose=1                   # Print messages when early stopping is triggered\n",
    ")\n",
    "\n",
    "history = model.fit(\n",
    "    [X_train_breathing, X_train_coughing, X_train_speech, X_train_other_features],\n",
    "    y_train,\n",
    "    validation_data=(\n",
    "        [X_val_breathing, X_val_coughing, X_val_speech, X_val_other_features],\n",
    "        y_val\n",
    "    ),\n",
    "    epochs=50,\n",
    "    batch_size=32,\n",
    "    callbacks=[early_stopping]\n",
    ")\n",
    "\n",
    "\n",
    "# Step 4: Evaluate the model on the validation set\n",
    "results = model.evaluate(\n",
    "    [X_val_breathing, X_val_coughing, X_val_speech, X_val_other_features],\n",
    "    y_val\n",
    ")"
   ]
  },
  {
   "cell_type": "code",
   "execution_count": null,
   "metadata": {},
   "outputs": [
    {
     "name": "stdout",
     "output_type": "stream",
     "text": [
      "\u001b[1m20/20\u001b[0m \u001b[32m━━━━━━━━━━━━━━━━━━━━\u001b[0m\u001b[37m\u001b[0m \u001b[1m10s\u001b[0m 484ms/step\n"
     ]
    }
   ],
   "source": [
    "y_pred_train = model.predict([X_train_breathing, X_train_coughing, X_train_speech, X_train_other_features])"
   ]
  },
  {
   "cell_type": "code",
   "execution_count": null,
   "metadata": {},
   "outputs": [],
   "source": [
    "y_pred_train_binary = (y_pred_train > 0.6).astype(int)"
   ]
  },
  {
   "cell_type": "code",
   "execution_count": null,
   "metadata": {},
   "outputs": [
    {
     "data": {
      "text/plain": [
       "((617,), (617, 1))"
      ]
     },
     "execution_count": 125,
     "metadata": {},
     "output_type": "execute_result"
    }
   ],
   "source": [
    "y_train.shape, y_pred_train_binary.shape"
   ]
  },
  {
   "cell_type": "code",
   "execution_count": null,
   "metadata": {},
   "outputs": [
    {
     "name": "stdout",
     "output_type": "stream",
     "text": [
      "Training Accuracy: 0.8217179902755267\n"
     ]
    }
   ],
   "source": [
    "from sklearn.metrics import accuracy_score\n",
    "accuracy_train = accuracy_score(y_train, y_pred_train_binary)\n",
    "\n",
    "print(f\"Training Accuracy: {accuracy_train}\")"
   ]
  },
  {
   "cell_type": "code",
   "execution_count": null,
   "metadata": {},
   "outputs": [
    {
     "data": {
      "text/plain": [
       "0.8217179902755267"
      ]
     },
     "execution_count": 127,
     "metadata": {},
     "output_type": "execute_result"
    }
   ],
   "source": [
    "accuracy_train"
   ]
  },
  {
   "cell_type": "code",
   "execution_count": null,
   "metadata": {},
   "outputs": [
    {
     "data": {
      "image/png": "[encoded data removed]",
      "text/plain": [
       "<Figure size 640x480 with 2 Axes>"
      ]
     },
     "metadata": {},
     "output_type": "display_data"
    }
   ],
   "source": [
    "from sklearn.metrics import confusion_matrix, ConfusionMatrixDisplay\n",
    "\n",
    "cm = confusion_matrix(y_train, y_pred_train_binary)\n",
    "\n",
    "# Step 4: Visualize or print the confusion matrix\n",
    "disp = ConfusionMatrixDisplay(confusion_matrix=cm)\n",
    "disp.plot(cmap=plt.cm.Blues)\n",
    "plt.title(\"Confusion Matrix for Training Data\")\n",
    "plt.show()"
   ]
  },
  {
   "cell_type": "code",
   "execution_count": null,
   "metadata": {},
   "outputs": [
    {
     "name": "stdout",
     "output_type": "stream",
     "text": [
      "\u001b[1m7/7\u001b[0m \u001b[32m━━━━━━━━━━━━━━━━━━━━\u001b[0m\u001b[37m\u001b[0m \u001b[1m2s\u001b[0m 283ms/step\n"
     ]
    }
   ],
   "source": [
    "y_pred_test = model.predict([spectrograms_test_breathing, spectrograms_test_coughing, spectrograms_test_speech, other_features_test])"
   ]
  },
  {
   "cell_type": "code",
   "execution_count": null,
   "metadata": {},
   "outputs": [],
   "source": [
    "y_pred_test_binary = (y_pred_test > 0.6).astype(int)"
   ]
  },
  {
   "cell_type": "code",
   "execution_count": null,
   "metadata": {},
   "outputs": [],
   "source": [
    "cm = confusion_matrix(y_test, y_pred_test_binary)"
   ]
  },
  {
   "cell_type": "code",
   "execution_count": null,
   "metadata": {},
   "outputs": [
    {
     "data": {
      "image/png": "[encoded data removed]",
      "text/plain": [
       "<Figure size 640x480 with 2 Axes>"
      ]
     },
     "metadata": {},
     "output_type": "display_data"
    }
   ],
   "source": [
    "disp = ConfusionMatrixDisplay(cm)\n",
    "\n",
    "disp.plot()\n",
    "plt.title(\"Confusion Matrix for Testing Data\")\n",
    "plt.show()"
   ]
  },
  {
   "cell_type": "code",
   "execution_count": null,
   "metadata": {},
   "outputs": [
    {
     "data": {
      "text/plain": [
       "0.8238341968911918"
      ]
     },
     "execution_count": 133,
     "metadata": {},
     "output_type": "execute_result"
    }
   ],
   "source": [
    "accuracy_test = accuracy_score(y_test, y_pred_test_binary)\n",
    "accuracy_test"
   ]
  },
  {
   "cell_type": "code",
   "execution_count": null,
   "metadata": {},
   "outputs": [],
   "source": []
  }
 ],
 "metadata": {
  "accelerator": "TPU",
  "colab": {
   "gpuType": "V28",
   "provenance": []
  },
  "kernelspec": {
   "display_name": "venv",
   "language": "python",
   "name": "python3"
  },
  "language_info": {
   "codemirror_mode": {
    "name": "ipython",
    "version": 3
   },
   "file_extension": ".py",
   "mimetype": "text/x-python",
   "name": "python",
   "nbconvert_exporter": "python",
   "pygments_lexer": "ipython3",
   "version": "3.12.6"
  }
 },
 "nbformat": 4,
 "nbformat_minor": 0
}
