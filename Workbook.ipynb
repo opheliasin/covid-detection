{
 "cells": [
  {
   "cell_type": "markdown",
   "metadata": {
    "id": "M-j9af2iwADY"
   },
   "source": [
    "# Workbook"
   ]
  },
  {
   "cell_type": "code",
   "execution_count": 2,
   "metadata": {
    "id": "S0UnVeBCHXYJ"
   },
   "outputs": [],
   "source": [
    "# import necessary packages\n",
    "\n",
    "import os\n",
    "import pathlib\n",
    "\n",
    "import matplotlib.pyplot as plt\n",
    "import numpy as np\n",
    "import seaborn as sns\n",
    "import tensorflow as tf\n",
    "\n",
    "from IPython import display\n",
    "import tensorflow as tf\n",
    "import pandas as pd\n",
    "import librosa\n",
    "\n",
    "# Set the seed value for experiment reproducibility.\n",
    "seed = 42\n",
    "tf.random.set_seed(seed)\n",
    "np.random.seed(seed)"
   ]
  },
  {
   "cell_type": "code",
   "execution_count": 3,
   "metadata": {
    "colab": {
     "base_uri": "https://localhost:8080/"
    },
    "id": "gsel7TEhHhc9",
    "outputId": "0a061957-b5dc-4398-c154-497301fbee02"
   },
   "outputs": [],
   "source": [
    "# from google.colab import drive\n",
    "# drive.mount('/content/drive')\n",
    "# import os\n",
    "# os.listdir('/content/drive/My Drive/')\n",
    "\n",
    "# audio_path = '/content/drive/My Drive/dataset/AUDIO_NEW/'\n",
    "\n",
    "audio_path = 'dataset/AUDIO_NEW/'\n",
    "\n",
    "audio_types = ['breathing', 'cough', 'speech']"
   ]
  },
  {
   "cell_type": "code",
   "execution_count": 4,
   "metadata": {
    "id": "vc8NVOwZJwW6"
   },
   "outputs": [],
   "source": [
    "def get_directories(audio_path, audio_type):\n",
    "    from pathlib import Path\n",
    "\n",
    "    POS = os.path.join(audio_path + audio_type, 'COVID_Positive')\n",
    "    NEG = os.path.join(audio_path + audio_type, 'COVID_Negative')\n",
    "\n",
    "    # Specify the directory path\n",
    "    pos_directory = Path(POS)\n",
    "    neg_directory = Path(NEG)\n",
    "\n",
    "    # List all files in the directory using iterdir()\n",
    "    # pos_files = [file.name for file in pos_directory.iterdir() if file.is_file()]\n",
    "    # neg_files = [file.name for file in neg_directory.iterdir() if file.is_file()]\n",
    "\n",
    "    return pos_directory, neg_directory"
   ]
  },
  {
   "cell_type": "markdown",
   "metadata": {
    "id": "VIAK_wb5wADa"
   },
   "source": [
    "### mel spectrogram"
   ]
  },
  {
   "cell_type": "code",
   "execution_count": 5,
   "metadata": {
    "id": "dssmiF6YwADa"
   },
   "outputs": [],
   "source": [
    "# Load and process breathing data\n",
    "pos_directory_breathing, neg_directory_breathing = get_directories(audio_path, audio_types[0])\n",
    "\n",
    "# Load and process cough data\n",
    "pos_directory_cough, neg_directory_cough = get_directories(audio_path, audio_types[1]) # audio_types[1] is 'cough'\n",
    "\n",
    "# Load and process speech data\n",
    "pos_directory_speech, neg_directory_speech = get_directories(audio_path, audio_types[2]) # audio_types[2] is 'speech'\n"
   ]
  },
  {
   "cell_type": "code",
   "execution_count": 6,
   "metadata": {
    "id": "ziRNcmVMwADa",
    "jupyter": {
     "source_hidden": true
    }
   },
   "outputs": [],
   "source": [
    "def create_mel_spectrogram(y, sr, file_path):\n",
    "    mel_spectrogram = librosa.feature.melspectrogram(y=y, sr=sr, n_fft=512, hop_length=128, n_mels=128)\n",
    "    log_mel_spectrogram = librosa.power_to_db(mel_spectrogram, ref=np.max)\n",
    "\n",
    "    # Normalize the spectrogram\n",
    "    if np.std(log_mel_spectrogram) == 0:\n",
    "        print(\"log_mel_spectrogram == 0: \", file_path.resolve())\n",
    "    \n",
    "    # Normalize the spectrogram\n",
    "    epsilon = 1e-6  # Small value to avoid division by zero\n",
    "    log_mel_spectrogram = (log_mel_spectrogram - np.mean(log_mel_spectrogram)) / (np.std(log_mel_spectrogram) + epsilon)\n",
    "\n",
    "    # Add channel dimension\n",
    "    log_mel_spectrogram = np.expand_dims(log_mel_spectrogram, axis=-1)\n",
    "\n",
    "    return log_mel_spectrogram\n",
    "\n",
    "def create_zero_crossing_rate(y):\n",
    "    return np.mean(librosa.feature.zero_crossing_rate(y))\n",
    "\n",
    "def create_spectral_centroid(y, sr):\n",
    "    return np.mean(librosa.feature.spectral_centroid(y=y, sr=sr))"
   ]
  },
  {
   "cell_type": "code",
   "execution_count": 52,
   "metadata": {
    "id": "u95_DIk_wADb",
    "jupyter": {
     "source_hidden": true
    }
   },
   "outputs": [],
   "source": [
    "def create_features(pos_directory, neg_directory, target_length):\n",
    "    print(\"Creating features for {0} and {1}! \".format(pos_directory, neg_directory))\n",
    "    spectrograms = []\n",
    "    other_features = []\n",
    "    labels = []\n",
    "\n",
    "    # Access files directly using iterdir()\n",
    "    for file_path in sorted(pos_directory.iterdir()):\n",
    "        y, sr = librosa.load(file_path, sr=16000)\n",
    "        y = y[:target_length]\n",
    "\n",
    "        zero_padding = np.zeros(target_length - len(y), dtype=np.float32)\n",
    "        y = np.concatenate([y, zero_padding], axis=0)\n",
    "\n",
    "        spectrograms.append(create_mel_spectrogram(y, sr, file_path))\n",
    "        other_features.append([create_zero_crossing_rate(y), create_spectral_centroid(y, sr)])\n",
    "        labels.append(1)\n",
    "    \n",
    "    positive_samples = len(labels)\n",
    "    assert positive_samples == 172\n",
    "\n",
    "    for file_path in sorted(neg_directory.iterdir()):\n",
    "        y, sr = librosa.load(file_path, sr=16000)\n",
    "        y = y[:target_length]\n",
    "\n",
    "        zero_padding = np.zeros(target_length - len(y), dtype=np.float32)\n",
    "        y = np.concatenate([y, zero_padding], axis=0)\n",
    "\n",
    "        spectrograms.append(create_mel_spectrogram(y, sr, file_path))\n",
    "        other_features.append([create_zero_crossing_rate(y), create_spectral_centroid(y, sr)])\n",
    "        labels.append(0)\n",
    "\n",
    "    assert len(labels) - positive_samples == 793\n",
    "\n",
    "    print(\"Completed creating features for {0} and {1}! \".format(pos_directory, neg_directory))\n",
    "\n",
    "    return spectrograms, other_features, labels"
   ]
  },
  {
   "cell_type": "code",
   "execution_count": 51,
   "metadata": {
    "colab": {
     "base_uri": "https://localhost:8080/"
    },
    "id": "XrEps2IfwADb",
    "outputId": "b3b600de-4efd-4a2a-e28b-7a6887ffd858"
   },
   "outputs": [
    {
     "name": "stdout",
     "output_type": "stream",
     "text": [
      "Creating features for dataset/AUDIO_NEW/breathing/COVID_Positive and dataset/AUDIO_NEW/breathing/COVID_Negative! \n",
      "Total number of positive samples:  172\n",
      "log_mel_spectrogram == 0:  /Users/opheliasin/covid-detection/dataset/AUDIO_NEW/breathing/COVID_Negative/GDOLSUHV.flac\n",
      "log_mel_spectrogram == 0:  /Users/opheliasin/covid-detection/dataset/AUDIO_NEW/breathing/COVID_Negative/HTUZHMVC.flac\n",
      "log_mel_spectrogram == 0:  /Users/opheliasin/covid-detection/dataset/AUDIO_NEW/breathing/COVID_Negative/TMWZXJNT.flac\n",
      "Total number of negative:  793\n",
      "Completed creating features for dataset/AUDIO_NEW/breathing/COVID_Positive and dataset/AUDIO_NEW/breathing/COVID_Negative! \n"
     ]
    }
   ],
   "source": [
    "# creating spectrogram, other features, and labels for breathing, cough, and speech\n",
    "\n",
    "spectrograms_breathing, other_features_breathing, labels_breathing = create_features(pos_directory_breathing, neg_directory_breathing, 80000)"
   ]
  },
  {
   "cell_type": "code",
   "execution_count": null,
   "metadata": {},
   "outputs": [
    {
     "name": "stdout",
     "output_type": "stream",
     "text": [
      "Creating features for dataset/AUDIO_NEW/cough/COVID_Positive and dataset/AUDIO_NEW/cough/COVID_Negative! \n",
      "Total number of positive samples:  172\n",
      "log_mel_spectrogram == 0:  /Users/opheliasin/covid-detection/dataset/AUDIO_NEW/cough/COVID_Negative/TMWZXJNT.flac\n",
      "Completed creating features for dataset/AUDIO_NEW/cough/COVID_Positive and dataset/AUDIO_NEW/cough/COVID_Negative! \n",
      "Total number of negative:  793\n"
     ]
    }
   ],
   "source": [
    "spectrograms_cough, other_features_cough, labels_cough = create_features(pos_directory_cough, neg_directory_cough, 80000)"
   ]
  },
  {
   "cell_type": "code",
   "execution_count": 49,
   "metadata": {},
   "outputs": [
    {
     "name": "stdout",
     "output_type": "stream",
     "text": [
      "Creating features for dataset/AUDIO_NEW/speech/COVID_Positive and dataset/AUDIO_NEW/speech/COVID_Negative! \n",
      "Total number of positive samples:  172\n",
      "Completed creating features for dataset/AUDIO_NEW/speech/COVID_Positive and dataset/AUDIO_NEW/speech/COVID_Negative! \n",
      "Total number of negative:  793\n"
     ]
    }
   ],
   "source": [
    "spectrograms_speech, other_features_speech, labels_speech = create_features(pos_directory_speech, neg_directory_speech, 80000)"
   ]
  },
  {
   "cell_type": "code",
   "execution_count": 53,
   "metadata": {},
   "outputs": [],
   "source": [
    "# Combine spectrograms, other features, and labels for each participant\n",
    "all_spectrograms = []\n",
    "all_other_features = []\n",
    "all_labels = []\n",
    "\n",
    "# Assuming all lists are sorted in the same order and correspond to the same participants\n",
    "for i in range(len(spectrograms_breathing)):  # Iterate over participants\n",
    "    # Combine spectrograms for breathing, coughing, and speech along the time axis\n",
    "    combined_spectrogram = np.concatenate(\n",
    "        [spectrograms_breathing[i], spectrograms_cough[i], spectrograms_speech[i]], axis=-1\n",
    "    )\n",
    "    \n",
    "    # Combine other features for breathing, coughing, and speech\n",
    "    combined_other_features = np.concatenate(\n",
    "        [other_features_breathing[i], other_features_cough[i], other_features_speech[i]], axis=0\n",
    "    )\n",
    "    \n",
    "    # Assume labels are consistent across all audio types for a participant\n",
    "    label = labels_breathing[i]  # You can use any of the label lists since they are consistent\n",
    "\n",
    "    # Append combined data to the final lists\n",
    "    all_spectrograms.append(combined_spectrogram)\n",
    "    all_other_features.append(combined_other_features)\n",
    "    all_labels.append(label)\n",
    "\n",
    "# Convert to NumPy arrays\n",
    "all_spectrograms = np.array(all_spectrograms)\n",
    "all_other_features = np.array(all_other_features)\n",
    "all_labels = np.array(all_labels)\n",
    "\n",
    "# Flatten spectrograms and combine with other features\n",
    "all_spectrograms_flattened = all_spectrograms.reshape(all_spectrograms.shape[0], -1)\n",
    "X_combined = np.hstack([all_spectrograms_flattened, all_other_features])\n"
   ]
  },
  {
   "cell_type": "code",
   "execution_count": null,
   "metadata": {
    "id": "Vgdr4f6LwADc"
   },
   "outputs": [],
   "source": [
    "# Shazia's Code\n",
    "# all_spectrograms = spectrograms_cough + spectrograms_speech + spectrograms_breathing\n",
    "# all_other_features = other_features_cough + other_features_speech + other_features_breathing\n",
    "# all_labels = labels_cough + labels_speech + labels_breathing\n",
    "\n",
    "# # Convert to NumPy arrays\n",
    "# all_spectrograms = np.array(all_spectrograms)\n",
    "# all_other_features = np.array(all_other_features)\n",
    "# all_labels = np.array(all_labels)\n",
    "# all_spectrograms_flattened = all_spectrograms.reshape(all_spectrograms.shape[0], -1)"
   ]
  },
  {
   "cell_type": "code",
   "execution_count": null,
   "metadata": {
    "id": "BolWjHFswADc"
   },
   "outputs": [],
   "source": [
    "# X_combined = np.hstack([all_spectrograms_flattened, all_other_features])"
   ]
  },
  {
   "cell_type": "code",
   "execution_count": 58,
   "metadata": {
    "id": "kMmIePLiwADc"
   },
   "outputs": [],
   "source": [
    "from sklearn.model_selection import train_test_split\n",
    "\n",
    "X_train, X_test, y_train, y_test = train_test_split(X_combined, all_labels, test_size=0.2, stratify=all_labels)"
   ]
  },
  {
   "cell_type": "code",
   "execution_count": 14,
   "metadata": {
    "collapsed": true,
    "id": "Ct491GMTwADc",
    "jupyter": {
     "outputs_hidden": true,
     "source_hidden": true
    },
    "scrolled": true
   },
   "outputs": [],
   "source": [
    "# Flatten each spectrogram into a single vector\n",
    "# Resulting shape will be (num_samples, height * width * channels)\n",
    "# X_train_numpy = np.array(X_train)\n",
    "# X_train_flattened = X_train_numpy.reshape(X_train_numpy.shape[0], -1)\n",
    "\n",
    "# print(f\"Original shape: {X_train_numpy.shape}\")\n",
    "# print(f\"Flattened shape: {X_train_flattened.shape}\")"
   ]
  },
  {
   "cell_type": "markdown",
   "metadata": {},
   "source": [
    "We used the `SMOTEENN` function in the imblearn library to handle imbalanced datasets by oversampling `1`, the minority class and remove noisy samples. "
   ]
  },
  {
   "cell_type": "code",
   "execution_count": 59,
   "metadata": {
    "colab": {
     "base_uri": "https://localhost:8080/"
    },
    "id": "C3W5W-NnwADc",
    "outputId": "9e606b1a-b401-422b-aa8d-e07f23474713"
   },
   "outputs": [],
   "source": [
    "#!pip install imbalanced-learn\n",
    "from imblearn.combine import SMOTEENN\n",
    "from collections import Counter\n",
    "\n",
    "smote_enn = SMOTEENN(random_state=seed)\n",
    "X_train_resampled, y_train_resampled = smote_enn.fit_resample(X_train, y_train)"
   ]
  },
  {
   "cell_type": "code",
   "execution_count": 40,
   "metadata": {},
   "outputs": [
    {
     "name": "stdout",
     "output_type": "stream",
     "text": [
      "Original class distribution: Counter({np.int64(0): 1903, np.int64(1): 413})\n",
      "Resampled class distribution: Counter({np.int64(1): 1870, np.int64(0): 399})\n"
     ]
    }
   ],
   "source": [
    "# Print resampled class distribution\n",
    "print(f\"Original class distribution: {Counter(y_train)}\")\n",
    "print(f\"Resampled class distribution: {Counter(y_train_resampled)}\")"
   ]
  },
  {
   "cell_type": "code",
   "execution_count": 17,
   "metadata": {
    "id": "ZdGqYAuAwADc",
    "jupyter": {
     "source_hidden": true
    }
   },
   "outputs": [],
   "source": [
    "# # Reshape back to original format after resampling\n",
    "# X_resampled = X_resampled.reshape(X_resampled.shape[0], 128, 626, 1)\n",
    "\n",
    "# print(f\"Reshaped back to original format: {X_resampled.shape}\")"
   ]
  },
  {
   "cell_type": "code",
   "execution_count": 71,
   "metadata": {
    "id": "xrMFrAkYwADc"
   },
   "outputs": [],
   "source": [
    "# num_time_frames will change depending on the audio_type \n",
    "\n",
    "num_mel_bands = 128\n",
    "num_time_frames = 626  # Original time frames per spectrogram\n",
    "num_spectrogram_features = num_mel_bands * num_time_frames * 3"
   ]
  },
  {
   "cell_type": "code",
   "execution_count": 72,
   "metadata": {
    "id": "CSMxwd6bwADd"
   },
   "outputs": [],
   "source": [
    "# Separate resampled spectrograms and other features for X_train_resampled\n",
    "spectrograms_resampled = X_train_resampled[:, :num_spectrogram_features]\n",
    "other_features_resampled = X_train_resampled[:, num_spectrogram_features:]"
   ]
  },
  {
   "cell_type": "code",
   "execution_count": 73,
   "metadata": {
    "id": "2VkWNbZywADd"
   },
   "outputs": [],
   "source": [
    "# Reshape the flattened spectrograms back to their original shape (128x626)\n",
    "spectrograms_resampled_reshaped = spectrograms_resampled.reshape(\n",
    "    spectrograms_resampled.shape[0], num_mel_bands, num_time_frames * 3, 1\n",
    ")\n"
   ]
  },
  {
   "cell_type": "code",
   "execution_count": 74,
   "metadata": {},
   "outputs": [
    {
     "name": "stdout",
     "output_type": "stream",
     "text": [
      "Breathing Spectrogram Shape: (724, 128, 626, 1)\n",
      "Coughing Spectrogram Shape: (724, 128, 626, 1)\n",
      "Speech Spectrogram Shape: (724, 128, 626, 1)\n"
     ]
    }
   ],
   "source": [
    "# Separate into breathing, coughing, and speech\n",
    "spectrograms_breathing_resampled = spectrograms_resampled_reshaped[:, :, :num_time_frames, :]\n",
    "spectrograms_coughing_resampled = spectrograms_resampled_reshaped[:, :, num_time_frames:num_time_frames*2, :]\n",
    "spectrograms_speech_resampled = spectrograms_resampled_reshaped[:, :, num_time_frames*2:, :]\n",
    "\n",
    "# Verify shapes\n",
    "print(\"Breathing Spectrogram Shape:\", spectrograms_breathing_resampled.shape)\n",
    "print(\"Coughing Spectrogram Shape:\", spectrograms_coughing_resampled.shape)\n",
    "print(\"Speech Spectrogram Shape:\", spectrograms_speech_resampled.shape)\n"
   ]
  },
  {
   "cell_type": "code",
   "execution_count": 22,
   "metadata": {
    "id": "B8rTeR0dwADd"
   },
   "outputs": [],
   "source": [
    "# Optionally add a channel dimension for CNN input (e.g., shape: [samples, 128, 626, 1])\n",
    "#spectrograms_resampled_reshaped = np.expand_dims(spectrograms_resampled_reshaped, axis=-1)"
   ]
  },
  {
   "cell_type": "code",
   "execution_count": 75,
   "metadata": {
    "colab": {
     "base_uri": "https://localhost:8080/"
    },
    "id": "k06UEpzEwADd",
    "outputId": "5742b0c0-44b5-47cc-c19f-adef74ff2fb8"
   },
   "outputs": [
    {
     "data": {
      "text/plain": [
       "(724, 128, 1878, 1)"
      ]
     },
     "execution_count": 75,
     "metadata": {},
     "output_type": "execute_result"
    }
   ],
   "source": [
    "spectrograms_resampled_reshaped.shape"
   ]
  },
  {
   "cell_type": "code",
   "execution_count": 76,
   "metadata": {
    "colab": {
     "base_uri": "https://localhost:8080/"
    },
    "id": "R7QfILu7wADd",
    "outputId": "8cf636a8-a9bc-4ea3-c01c-1c4c9bacd7e6"
   },
   "outputs": [
    {
     "data": {
      "text/plain": [
       "(724, 6)"
      ]
     },
     "execution_count": 76,
     "metadata": {},
     "output_type": "execute_result"
    }
   ],
   "source": [
    "other_features_resampled.shape"
   ]
  },
  {
   "cell_type": "code",
   "execution_count": 78,
   "metadata": {
    "colab": {
     "base_uri": "https://localhost:8080/",
     "height": 708
    },
    "collapsed": true,
    "id": "FETpC_CKwADd",
    "jupyter": {
     "outputs_hidden": true,
     "source_hidden": true
    },
    "outputId": "c7a73412-5b16-4d8a-8462-7ff854494a96",
    "scrolled": true
   },
   "outputs": [
    {
     "data": {
      "image/png": "[encoded data removed]",
      "text/plain": [
       "<Figure size 1000x400 with 2 Axes>"
      ]
     },
     "metadata": {},
     "output_type": "display_data"
    },
    {
     "data": {
      "image/png": "[encoded data removed]",
      "text/plain": [
       "<Figure size 1000x400 with 2 Axes>"
      ]
     },
     "metadata": {},
     "output_type": "display_data"
    }
   ],
   "source": [
    "import random\n",
    "import matplotlib.pyplot as plt\n",
    "import librosa.display\n",
    "\n",
    "# Function to plot spectrogram\n",
    "def plot_spectrogram(spectrogram, title):\n",
    "    plt.figure(figsize=(10, 4))\n",
    "    # Remove channel dimension if present for visualization\n",
    "    if spectrogram.shape[-1] == 1:\n",
    "        spectrogram = spectrogram.squeeze(-1)\n",
    "    librosa.display.specshow(spectrogram.T, sr=22050, x_axis='time', y_axis='mel')\n",
    "    plt.colorbar(format='%+2.0f dB')\n",
    "    plt.title(title)\n",
    "    plt.tight_layout()\n",
    "    plt.show()\n",
    "\n",
    "# Assuming 'original_spectrogram' is your original unflattened spectrogram\n",
    "# and 'reshaped_spectrogram' is your reshaped version after processing\n",
    "\n",
    "# Plot original spectrogram (before flattening)\n",
    "plot_spectrogram(all_spectrograms[0][0], \"Original Unified Spectrogram\")\n",
    "\n",
    "plot_spectrogram(spectrograms_resampled_reshaped[100], \"Reshaped Spectrogram\")\n",
    "\n"
   ]
  },
  {
   "cell_type": "code",
   "execution_count": 26,
   "metadata": {
    "id": "pQCUw-luwADd"
   },
   "outputs": [],
   "source": [
    "# For X_test (no resampling needed), separate and reshape the spectrograms\n",
    "spectrograms_test = X_test[:, :num_spectrogram_features]\n",
    "other_features_test = X_test[:, num_spectrogram_features:]\n",
    "spectrograms_test_reshaped = spectrograms_test.reshape(spectrograms_test.shape[0], 128, 626, 1)"
   ]
  },
  {
   "cell_type": "code",
   "execution_count": 27,
   "metadata": {
    "id": "sysTwmRVwADd"
   },
   "outputs": [],
   "source": [
    "y_train_resampled = np.array(y_train_resampled)\n",
    "y_test = np.array(y_test)"
   ]
  },
  {
   "cell_type": "code",
   "execution_count": 28,
   "metadata": {
    "id": "9xPPM2YbwADd"
   },
   "outputs": [],
   "source": [
    "# y_resampled = np.array(y_resampled)"
   ]
  },
  {
   "cell_type": "markdown",
   "metadata": {
    "id": "n9P2TCauwADd",
    "jp-MarkdownHeadingCollapsed": true
   },
   "source": [
    "### Single input model"
   ]
  },
  {
   "cell_type": "code",
   "execution_count": 29,
   "metadata": {
    "id": "_hHa6SPFwADd",
    "jupyter": {
     "source_hidden": true
    }
   },
   "outputs": [],
   "source": [
    "from tensorflow.keras.models import Sequential\n",
    "from tensorflow.keras.layers import Conv2D, MaxPooling2D, Flatten, Dense, Input, GlobalAveragePooling2D"
   ]
  },
  {
   "cell_type": "code",
   "execution_count": 30,
   "metadata": {
    "id": "bCK3SbegwADd",
    "jupyter": {
     "source_hidden": true
    }
   },
   "outputs": [],
   "source": [
    "model = Sequential()\n",
    "model.add(Input(shape=(128,626,1)))\n",
    "\n",
    "# First Conv2D layer followed by MaxPooling\n",
    "model.add(Conv2D(16, (3,3), activation='relu'))\n",
    "model.add(MaxPooling2D(pool_size=(2,2))) # Reduces spatial dimensions by half\n",
    "\n",
    "# Second Conv2D layer followed by MaxPooling\n",
    "model.add(Conv2D(16, (3,3), activation='relu'))\n",
    "model.add(MaxPooling2D(pool_size=(2,2))) # Further reduces spatial dimensions\n",
    "\n",
    "# Third Conv2D layer followed by MaxPooling\n",
    "model.add(Conv2D(32, (3,3), activation='relu'))\n",
    "model.add(MaxPooling2D(pool_size=(2,2))) # Further reduces spatial dimensions\n",
    "\n",
    "# Fourth Conv2D layer followed by MaxPooling (new)\n",
    "model.add(Conv2D(64, (3,3), activation='relu'))\n",
    "model.add(MaxPooling2D(pool_size=(2,2))) # Further reduces spatial dimensions\n",
    "\n",
    "# Flatten and Dense layers\n",
    "#model.add(Flatten())\n",
    "model.add(GlobalAveragePooling2D())\n",
    "\n",
    "model.add(Dense(128, activation='relu'))\n",
    "model.add(Dense(1, activation='sigmoid'))"
   ]
  },
  {
   "cell_type": "code",
   "execution_count": 31,
   "metadata": {
    "id": "Ur1GsEnqwADe"
   },
   "outputs": [],
   "source": [
    "model.compile('Adam', loss='BinaryCrossentropy', metrics=[tf.keras.metrics.Recall(),tf.keras.metrics.Precision()])"
   ]
  },
  {
   "cell_type": "code",
   "execution_count": 32,
   "metadata": {
    "colab": {
     "base_uri": "https://localhost:8080/"
    },
    "id": "2A_Ix9oCwADe",
    "outputId": "f81bd73a-0897-4fea-ca96-95f0de92ae89",
    "scrolled": true
   },
   "outputs": [
    {
     "data": {
      "text/html": [
       "<pre style=\"white-space:pre;overflow-x:auto;line-height:normal;font-family:Menlo,'DejaVu Sans Mono',consolas,'Courier New',monospace\"><span style=\"font-weight: bold\">Model: \"sequential\"</span>\n",
       "</pre>\n"
      ],
      "text/plain": [
       "\u001b[1mModel: \"sequential\"\u001b[0m\n"
      ]
     },
     "metadata": {},
     "output_type": "display_data"
    },
    {
     "data": {
      "text/html": [
       "<pre style=\"white-space:pre;overflow-x:auto;line-height:normal;font-family:Menlo,'DejaVu Sans Mono',consolas,'Courier New',monospace\">┏━━━━━━━━━━━━━━━━━━━━━━━━━━━━━━━━━┳━━━━━━━━━━━━━━━━━━━━━━━━┳━━━━━━━━━━━━━━━┓\n",
       "┃<span style=\"font-weight: bold\"> Layer (type)                    </span>┃<span style=\"font-weight: bold\"> Output Shape           </span>┃<span style=\"font-weight: bold\">       Param # </span>┃\n",
       "┡━━━━━━━━━━━━━━━━━━━━━━━━━━━━━━━━━╇━━━━━━━━━━━━━━━━━━━━━━━━╇━━━━━━━━━━━━━━━┩\n",
       "│ conv2d (<span style=\"color: #0087ff; text-decoration-color: #0087ff\">Conv2D</span>)                 │ (<span style=\"color: #00d7ff; text-decoration-color: #00d7ff\">None</span>, <span style=\"color: #00af00; text-decoration-color: #00af00\">126</span>, <span style=\"color: #00af00; text-decoration-color: #00af00\">624</span>, <span style=\"color: #00af00; text-decoration-color: #00af00\">16</span>)   │           <span style=\"color: #00af00; text-decoration-color: #00af00\">160</span> │\n",
       "├─────────────────────────────────┼────────────────────────┼───────────────┤\n",
       "│ max_pooling2d (<span style=\"color: #0087ff; text-decoration-color: #0087ff\">MaxPooling2D</span>)    │ (<span style=\"color: #00d7ff; text-decoration-color: #00d7ff\">None</span>, <span style=\"color: #00af00; text-decoration-color: #00af00\">63</span>, <span style=\"color: #00af00; text-decoration-color: #00af00\">312</span>, <span style=\"color: #00af00; text-decoration-color: #00af00\">16</span>)    │             <span style=\"color: #00af00; text-decoration-color: #00af00\">0</span> │\n",
       "├─────────────────────────────────┼────────────────────────┼───────────────┤\n",
       "│ conv2d_1 (<span style=\"color: #0087ff; text-decoration-color: #0087ff\">Conv2D</span>)               │ (<span style=\"color: #00d7ff; text-decoration-color: #00d7ff\">None</span>, <span style=\"color: #00af00; text-decoration-color: #00af00\">61</span>, <span style=\"color: #00af00; text-decoration-color: #00af00\">310</span>, <span style=\"color: #00af00; text-decoration-color: #00af00\">16</span>)    │         <span style=\"color: #00af00; text-decoration-color: #00af00\">2,320</span> │\n",
       "├─────────────────────────────────┼────────────────────────┼───────────────┤\n",
       "│ max_pooling2d_1 (<span style=\"color: #0087ff; text-decoration-color: #0087ff\">MaxPooling2D</span>)  │ (<span style=\"color: #00d7ff; text-decoration-color: #00d7ff\">None</span>, <span style=\"color: #00af00; text-decoration-color: #00af00\">30</span>, <span style=\"color: #00af00; text-decoration-color: #00af00\">155</span>, <span style=\"color: #00af00; text-decoration-color: #00af00\">16</span>)    │             <span style=\"color: #00af00; text-decoration-color: #00af00\">0</span> │\n",
       "├─────────────────────────────────┼────────────────────────┼───────────────┤\n",
       "│ conv2d_2 (<span style=\"color: #0087ff; text-decoration-color: #0087ff\">Conv2D</span>)               │ (<span style=\"color: #00d7ff; text-decoration-color: #00d7ff\">None</span>, <span style=\"color: #00af00; text-decoration-color: #00af00\">28</span>, <span style=\"color: #00af00; text-decoration-color: #00af00\">153</span>, <span style=\"color: #00af00; text-decoration-color: #00af00\">32</span>)    │         <span style=\"color: #00af00; text-decoration-color: #00af00\">4,640</span> │\n",
       "├─────────────────────────────────┼────────────────────────┼───────────────┤\n",
       "│ max_pooling2d_2 (<span style=\"color: #0087ff; text-decoration-color: #0087ff\">MaxPooling2D</span>)  │ (<span style=\"color: #00d7ff; text-decoration-color: #00d7ff\">None</span>, <span style=\"color: #00af00; text-decoration-color: #00af00\">14</span>, <span style=\"color: #00af00; text-decoration-color: #00af00\">76</span>, <span style=\"color: #00af00; text-decoration-color: #00af00\">32</span>)     │             <span style=\"color: #00af00; text-decoration-color: #00af00\">0</span> │\n",
       "├─────────────────────────────────┼────────────────────────┼───────────────┤\n",
       "│ conv2d_3 (<span style=\"color: #0087ff; text-decoration-color: #0087ff\">Conv2D</span>)               │ (<span style=\"color: #00d7ff; text-decoration-color: #00d7ff\">None</span>, <span style=\"color: #00af00; text-decoration-color: #00af00\">12</span>, <span style=\"color: #00af00; text-decoration-color: #00af00\">74</span>, <span style=\"color: #00af00; text-decoration-color: #00af00\">64</span>)     │        <span style=\"color: #00af00; text-decoration-color: #00af00\">18,496</span> │\n",
       "├─────────────────────────────────┼────────────────────────┼───────────────┤\n",
       "│ max_pooling2d_3 (<span style=\"color: #0087ff; text-decoration-color: #0087ff\">MaxPooling2D</span>)  │ (<span style=\"color: #00d7ff; text-decoration-color: #00d7ff\">None</span>, <span style=\"color: #00af00; text-decoration-color: #00af00\">6</span>, <span style=\"color: #00af00; text-decoration-color: #00af00\">37</span>, <span style=\"color: #00af00; text-decoration-color: #00af00\">64</span>)      │             <span style=\"color: #00af00; text-decoration-color: #00af00\">0</span> │\n",
       "├─────────────────────────────────┼────────────────────────┼───────────────┤\n",
       "│ global_average_pooling2d        │ (<span style=\"color: #00d7ff; text-decoration-color: #00d7ff\">None</span>, <span style=\"color: #00af00; text-decoration-color: #00af00\">64</span>)             │             <span style=\"color: #00af00; text-decoration-color: #00af00\">0</span> │\n",
       "│ (<span style=\"color: #0087ff; text-decoration-color: #0087ff\">GlobalAveragePooling2D</span>)        │                        │               │\n",
       "├─────────────────────────────────┼────────────────────────┼───────────────┤\n",
       "│ dense (<span style=\"color: #0087ff; text-decoration-color: #0087ff\">Dense</span>)                   │ (<span style=\"color: #00d7ff; text-decoration-color: #00d7ff\">None</span>, <span style=\"color: #00af00; text-decoration-color: #00af00\">128</span>)            │         <span style=\"color: #00af00; text-decoration-color: #00af00\">8,320</span> │\n",
       "├─────────────────────────────────┼────────────────────────┼───────────────┤\n",
       "│ dense_1 (<span style=\"color: #0087ff; text-decoration-color: #0087ff\">Dense</span>)                 │ (<span style=\"color: #00d7ff; text-decoration-color: #00d7ff\">None</span>, <span style=\"color: #00af00; text-decoration-color: #00af00\">1</span>)              │           <span style=\"color: #00af00; text-decoration-color: #00af00\">129</span> │\n",
       "└─────────────────────────────────┴────────────────────────┴───────────────┘\n",
       "</pre>\n"
      ],
      "text/plain": [
       "┏━━━━━━━━━━━━━━━━━━━━━━━━━━━━━━━━━┳━━━━━━━━━━━━━━━━━━━━━━━━┳━━━━━━━━━━━━━━━┓\n",
       "┃\u001b[1m \u001b[0m\u001b[1mLayer (type)                   \u001b[0m\u001b[1m \u001b[0m┃\u001b[1m \u001b[0m\u001b[1mOutput Shape          \u001b[0m\u001b[1m \u001b[0m┃\u001b[1m \u001b[0m\u001b[1m      Param #\u001b[0m\u001b[1m \u001b[0m┃\n",
       "┡━━━━━━━━━━━━━━━━━━━━━━━━━━━━━━━━━╇━━━━━━━━━━━━━━━━━━━━━━━━╇━━━━━━━━━━━━━━━┩\n",
       "│ conv2d (\u001b[38;5;33mConv2D\u001b[0m)                 │ (\u001b[38;5;45mNone\u001b[0m, \u001b[38;5;34m126\u001b[0m, \u001b[38;5;34m624\u001b[0m, \u001b[38;5;34m16\u001b[0m)   │           \u001b[38;5;34m160\u001b[0m │\n",
       "├─────────────────────────────────┼────────────────────────┼───────────────┤\n",
       "│ max_pooling2d (\u001b[38;5;33mMaxPooling2D\u001b[0m)    │ (\u001b[38;5;45mNone\u001b[0m, \u001b[38;5;34m63\u001b[0m, \u001b[38;5;34m312\u001b[0m, \u001b[38;5;34m16\u001b[0m)    │             \u001b[38;5;34m0\u001b[0m │\n",
       "├─────────────────────────────────┼────────────────────────┼───────────────┤\n",
       "│ conv2d_1 (\u001b[38;5;33mConv2D\u001b[0m)               │ (\u001b[38;5;45mNone\u001b[0m, \u001b[38;5;34m61\u001b[0m, \u001b[38;5;34m310\u001b[0m, \u001b[38;5;34m16\u001b[0m)    │         \u001b[38;5;34m2,320\u001b[0m │\n",
       "├─────────────────────────────────┼────────────────────────┼───────────────┤\n",
       "│ max_pooling2d_1 (\u001b[38;5;33mMaxPooling2D\u001b[0m)  │ (\u001b[38;5;45mNone\u001b[0m, \u001b[38;5;34m30\u001b[0m, \u001b[38;5;34m155\u001b[0m, \u001b[38;5;34m16\u001b[0m)    │             \u001b[38;5;34m0\u001b[0m │\n",
       "├─────────────────────────────────┼────────────────────────┼───────────────┤\n",
       "│ conv2d_2 (\u001b[38;5;33mConv2D\u001b[0m)               │ (\u001b[38;5;45mNone\u001b[0m, \u001b[38;5;34m28\u001b[0m, \u001b[38;5;34m153\u001b[0m, \u001b[38;5;34m32\u001b[0m)    │         \u001b[38;5;34m4,640\u001b[0m │\n",
       "├─────────────────────────────────┼────────────────────────┼───────────────┤\n",
       "│ max_pooling2d_2 (\u001b[38;5;33mMaxPooling2D\u001b[0m)  │ (\u001b[38;5;45mNone\u001b[0m, \u001b[38;5;34m14\u001b[0m, \u001b[38;5;34m76\u001b[0m, \u001b[38;5;34m32\u001b[0m)     │             \u001b[38;5;34m0\u001b[0m │\n",
       "├─────────────────────────────────┼────────────────────────┼───────────────┤\n",
       "│ conv2d_3 (\u001b[38;5;33mConv2D\u001b[0m)               │ (\u001b[38;5;45mNone\u001b[0m, \u001b[38;5;34m12\u001b[0m, \u001b[38;5;34m74\u001b[0m, \u001b[38;5;34m64\u001b[0m)     │        \u001b[38;5;34m18,496\u001b[0m │\n",
       "├─────────────────────────────────┼────────────────────────┼───────────────┤\n",
       "│ max_pooling2d_3 (\u001b[38;5;33mMaxPooling2D\u001b[0m)  │ (\u001b[38;5;45mNone\u001b[0m, \u001b[38;5;34m6\u001b[0m, \u001b[38;5;34m37\u001b[0m, \u001b[38;5;34m64\u001b[0m)      │             \u001b[38;5;34m0\u001b[0m │\n",
       "├─────────────────────────────────┼────────────────────────┼───────────────┤\n",
       "│ global_average_pooling2d        │ (\u001b[38;5;45mNone\u001b[0m, \u001b[38;5;34m64\u001b[0m)             │             \u001b[38;5;34m0\u001b[0m │\n",
       "│ (\u001b[38;5;33mGlobalAveragePooling2D\u001b[0m)        │                        │               │\n",
       "├─────────────────────────────────┼────────────────────────┼───────────────┤\n",
       "│ dense (\u001b[38;5;33mDense\u001b[0m)                   │ (\u001b[38;5;45mNone\u001b[0m, \u001b[38;5;34m128\u001b[0m)            │         \u001b[38;5;34m8,320\u001b[0m │\n",
       "├─────────────────────────────────┼────────────────────────┼───────────────┤\n",
       "│ dense_1 (\u001b[38;5;33mDense\u001b[0m)                 │ (\u001b[38;5;45mNone\u001b[0m, \u001b[38;5;34m1\u001b[0m)              │           \u001b[38;5;34m129\u001b[0m │\n",
       "└─────────────────────────────────┴────────────────────────┴───────────────┘\n"
      ]
     },
     "metadata": {},
     "output_type": "display_data"
    },
    {
     "data": {
      "text/html": [
       "<pre style=\"white-space:pre;overflow-x:auto;line-height:normal;font-family:Menlo,'DejaVu Sans Mono',consolas,'Courier New',monospace\"><span style=\"font-weight: bold\"> Total params: </span><span style=\"color: #00af00; text-decoration-color: #00af00\">34,065</span> (133.07 KB)\n",
       "</pre>\n"
      ],
      "text/plain": [
       "\u001b[1m Total params: \u001b[0m\u001b[38;5;34m34,065\u001b[0m (133.07 KB)\n"
      ]
     },
     "metadata": {},
     "output_type": "display_data"
    },
    {
     "data": {
      "text/html": [
       "<pre style=\"white-space:pre;overflow-x:auto;line-height:normal;font-family:Menlo,'DejaVu Sans Mono',consolas,'Courier New',monospace\"><span style=\"font-weight: bold\"> Trainable params: </span><span style=\"color: #00af00; text-decoration-color: #00af00\">34,065</span> (133.07 KB)\n",
       "</pre>\n"
      ],
      "text/plain": [
       "\u001b[1m Trainable params: \u001b[0m\u001b[38;5;34m34,065\u001b[0m (133.07 KB)\n"
      ]
     },
     "metadata": {},
     "output_type": "display_data"
    },
    {
     "data": {
      "text/html": [
       "<pre style=\"white-space:pre;overflow-x:auto;line-height:normal;font-family:Menlo,'DejaVu Sans Mono',consolas,'Courier New',monospace\"><span style=\"font-weight: bold\"> Non-trainable params: </span><span style=\"color: #00af00; text-decoration-color: #00af00\">0</span> (0.00 B)\n",
       "</pre>\n"
      ],
      "text/plain": [
       "\u001b[1m Non-trainable params: \u001b[0m\u001b[38;5;34m0\u001b[0m (0.00 B)\n"
      ]
     },
     "metadata": {},
     "output_type": "display_data"
    }
   ],
   "source": [
    "model.summary()"
   ]
  },
  {
   "cell_type": "code",
   "execution_count": 36,
   "metadata": {
    "colab": {
     "base_uri": "https://localhost:8080/"
    },
    "id": "0NVDYgWdwADe",
    "outputId": "904a1cc3-9941-437f-e5f8-0809ce57bfc0",
    "scrolled": true
   },
   "outputs": [
    {
     "name": "stdout",
     "output_type": "stream",
     "text": [
      "Epoch 1/10\n",
      "250/250 - 70s - loss: 0.4784 - recall: 1.0000 - precision: 0.8208 - val_loss: 0.2032 - val_recall: 1.0000 - val_precision: 1.0000 - 70s/epoch - 281ms/step\n",
      "Epoch 2/10\n",
      "250/250 - 65s - loss: 0.4452 - recall: 1.0000 - precision: 0.8208 - val_loss: 0.1918 - val_recall: 1.0000 - val_precision: 1.0000 - 65s/epoch - 262ms/step\n",
      "Epoch 3/10\n",
      "250/250 - 66s - loss: 0.4105 - recall: 0.9817 - precision: 0.8312 - val_loss: 0.2876 - val_recall: 0.9507 - val_precision: 1.0000 - 66s/epoch - 266ms/step\n",
      "Epoch 4/10\n",
      "250/250 - 66s - loss: 0.3659 - recall: 0.9713 - precision: 0.8546 - val_loss: 0.2779 - val_recall: 0.9193 - val_precision: 1.0000 - 66s/epoch - 262ms/step\n",
      "Epoch 5/10\n",
      "250/250 - 65s - loss: 0.3466 - recall: 0.9524 - precision: 0.8707 - val_loss: 0.0726 - val_recall: 0.9910 - val_precision: 1.0000 - 65s/epoch - 260ms/step\n",
      "Epoch 6/10\n",
      "250/250 - 66s - loss: 0.3283 - recall: 0.9451 - precision: 0.8827 - val_loss: 0.0659 - val_recall: 0.9955 - val_precision: 1.0000 - 66s/epoch - 262ms/step\n",
      "Epoch 7/10\n",
      "250/250 - 65s - loss: 0.3086 - recall: 0.9421 - precision: 0.8879 - val_loss: 0.0460 - val_recall: 0.9910 - val_precision: 1.0000 - 65s/epoch - 259ms/step\n",
      "Epoch 8/10\n",
      "250/250 - 65s - loss: 0.2974 - recall: 0.9372 - precision: 0.9004 - val_loss: 0.1126 - val_recall: 0.9776 - val_precision: 1.0000 - 65s/epoch - 262ms/step\n",
      "Epoch 9/10\n",
      "250/250 - 66s - loss: 0.3088 - recall: 0.9341 - precision: 0.8985 - val_loss: 0.0424 - val_recall: 1.0000 - val_precision: 1.0000 - 66s/epoch - 265ms/step\n",
      "Epoch 10/10\n",
      "250/250 - 67s - loss: 0.2859 - recall: 0.9482 - precision: 0.8968 - val_loss: 0.1381 - val_recall: 0.9507 - val_precision: 1.0000 - 67s/epoch - 266ms/step\n"
     ]
    }
   ],
   "source": [
    "# Reshape X_train_spectrograms to have the same shape as the spectrograms_resampled_reshaped\n",
    "# using num_spectrogram_features, which is 128 * 626 in this case.\n",
    "# X_train_spectrograms = X_train[:, :num_spectrogram_features]  # Extract spectrogram features from training data\n",
    "# X_train_spectrograms_reshaped = X_train_spectrograms.reshape(X_train_spectrograms.shape[0], 128, 626, 1)  # Reshape to (samples, 128, 626, 1)\n",
    "\n",
    "\n",
    "# hist = model.fit(\n",
    "#     X_train_spectrograms_reshaped,  # Pass the reshaped TRAINING spectrograms as input\n",
    "#     y_train,  # Labels\n",
    "#     batch_size=16,\n",
    "#     verbose=2,\n",
    "#     epochs=20,\n",
    "#     validation_split=0.1\n",
    "# )\n",
    "hist = model.fit(\n",
    "    X_train_resampled[:, :num_spectrogram_features].reshape(-1, 128, 626, 1),  # Mel spectrograms\n",
    "    y_train_resampled,\n",
    "    batch_size=8,\n",
    "    verbose=2,\n",
    "    epochs=10,\n",
    "    validation_split=0.1\n",
    ")"
   ]
  },
  {
   "cell_type": "markdown",
   "metadata": {
    "id": "Mbl9KYZ9wADe",
    "jp-MarkdownHeadingCollapsed": true
   },
   "source": [
    "### Fit Model, View Loss and KPI Plots"
   ]
  },
  {
   "cell_type": "code",
   "execution_count": 37,
   "metadata": {
    "colab": {
     "base_uri": "https://localhost:8080/"
    },
    "id": "tRt6KepswADj",
    "outputId": "4abacb61-1cba-456c-e86d-3e1c70d85b92"
   },
   "outputs": [
    {
     "name": "stdout",
     "output_type": "stream",
     "text": [
      "19/19 [==============================] - 6s 322ms/step\n"
     ]
    }
   ],
   "source": [
    "# Assuming 'num_spectrogram_features' is defined earlier\n",
    "\n",
    "# Extract and reshape spectrograms\n",
    "X_test_spectrograms = X_test[:, :num_spectrogram_features]\n",
    "X_test_spectrograms_reshaped = X_test_spectrograms.reshape(X_test_spectrograms.shape[0], 128, 626, 1)\n",
    "\n",
    "# Extract other features\n",
    "X_test_other_features = X_test[:, num_spectrogram_features:]\n",
    "\n",
    "# Make predictions\n",
    "y_pred = model.predict(X_test_spectrograms_reshaped)\n"
   ]
  },
  {
   "cell_type": "code",
   "execution_count": 38,
   "metadata": {
    "id": "oEkfcg-nwADj"
   },
   "outputs": [],
   "source": [
    "y_pred_binary = (y_pred > 0.99).astype(int)"
   ]
  },
  {
   "cell_type": "code",
   "execution_count": 39,
   "metadata": {
    "id": "Ff1xM_AQwADj"
   },
   "outputs": [],
   "source": [
    "from sklearn.metrics import confusion_matrix, ConfusionMatrixDisplay\n",
    "cm = confusion_matrix(y_test, y_pred_binary)"
   ]
  },
  {
   "cell_type": "code",
   "execution_count": 40,
   "metadata": {
    "colab": {
     "base_uri": "https://localhost:8080/"
    },
    "id": "XWF8aCH8wADj",
    "outputId": "6b7382fe-d6c3-4e16-f669-6bc56affef0b",
    "scrolled": true
   },
   "outputs": [
    {
     "data": {
      "text/plain": [
       "579"
      ]
     },
     "execution_count": 40,
     "metadata": {},
     "output_type": "execute_result"
    }
   ],
   "source": [
    "len(y_test)"
   ]
  },
  {
   "cell_type": "code",
   "execution_count": 41,
   "metadata": {
    "colab": {
     "base_uri": "https://localhost:8080/",
     "height": 449
    },
    "id": "yg-pu75twADj",
    "outputId": "57878e66-46ef-43a0-f369-52f088fe3231"
   },
   "outputs": [
    {
     "data": {
      "image/png": "[encoded data removed]",
      "text/plain": [
       "<Figure size 640x480 with 2 Axes>"
      ]
     },
     "metadata": {},
     "output_type": "display_data"
    }
   ],
   "source": [
    "disp = ConfusionMatrixDisplay(cm)\n",
    "\n",
    "disp.plot()\n",
    "plt.show()"
   ]
  },
  {
   "cell_type": "markdown",
   "metadata": {
    "id": "SK7RwJ-3wADj"
   },
   "source": [
    "### Multi-input model"
   ]
  },
  {
   "cell_type": "code",
   "execution_count": 42,
   "metadata": {
    "id": "36EjQru0wADj"
   },
   "outputs": [],
   "source": [
    "import tensorflow as tf\n",
    "from tensorflow.keras.layers import Input, Conv2D, MaxPooling2D, GlobalAveragePooling2D, Dense, Concatenate, Dropout\n",
    "\n",
    "# Define input for Mel spectrogram (shape: 625 time frames x 128 frequency bins x 1 channel)\n",
    "mel_input = Input(shape=(128, 626, 1), name='mel_spectrogram')\n",
    "\n",
    "# Define CNN sub-network for Mel spectrogram\n",
    "x = Conv2D(16, (3,3), activation='relu')(mel_input)\n",
    "x = MaxPooling2D(pool_size=(2,2))(x)\n",
    "x = Conv2D(16, (3,3), activation='relu')(x)\n",
    "x = MaxPooling2D(pool_size=(2,2))(x)\n",
    "x = Conv2D(32, (3,3), activation='relu')(x)\n",
    "x = MaxPooling2D(pool_size=(2,2))(x)\n",
    "x = Conv2D(64, (3,3), activation='relu')(x)\n",
    "x = MaxPooling2D(pool_size=(2,2))(x)\n",
    "x = GlobalAveragePooling2D()(x)\n",
    "\n",
    "# Define input for other features (e.g., zero-crossing rate and spectral centroid)\n",
    "other_input = Input(shape=(2,), name='other_features')\n",
    "\n",
    "# Define a simple dense sub-network for other features\n",
    "y = Dense(64, activation='relu')(other_input)\n",
    "y = Dense(128, activation='relu')(y)  # Add more dense layers\n",
    "y = Dropout(0.3)(y)                   # Add dropout to prevent overfitting\n",
    "y = Dense(128, activation='relu')(y)   # Another dense layer\n",
    "y = Dense(64, activation='relu')(y)    # Another dense layer\n",
    "\n",
    "# Concatenate both sub-networks\n",
    "combined = Concatenate()([x, y])\n",
    "\n",
    "# Add final classification layers\n",
    "z = Dense(128, activation='relu')(combined)\n",
    "z = Dense(1, activation='sigmoid')(z)  # Binary classification"
   ]
  },
  {
   "cell_type": "code",
   "execution_count": 43,
   "metadata": {
    "id": "dv9c73EKwADj"
   },
   "outputs": [],
   "source": [
    "X_train_spectrograms = spectrograms_resampled_reshaped\n",
    "X_train_others = other_features_resampled\n",
    "y_train = y_train_resampled"
   ]
  },
  {
   "cell_type": "code",
   "execution_count": 44,
   "metadata": {
    "colab": {
     "base_uri": "https://localhost:8080/"
    },
    "id": "QNiB1dM0wADj",
    "outputId": "d98890aa-5663-4760-c432-9cf9dff2fd50"
   },
   "outputs": [
    {
     "name": "stdout",
     "output_type": "stream",
     "text": [
      "Model: \"model\"\n",
      "__________________________________________________________________________________________________\n",
      " Layer (type)                Output Shape                 Param #   Connected to                  \n",
      "==================================================================================================\n",
      " mel_spectrogram (InputLaye  [(None, 128, 626, 1)]        0         []                            \n",
      " r)                                                                                               \n",
      "                                                                                                  \n",
      " conv2d_4 (Conv2D)           (None, 126, 624, 16)         160       ['mel_spectrogram[0][0]']     \n",
      "                                                                                                  \n",
      " max_pooling2d_4 (MaxPoolin  (None, 63, 312, 16)          0         ['conv2d_4[0][0]']            \n",
      " g2D)                                                                                             \n",
      "                                                                                                  \n",
      " conv2d_5 (Conv2D)           (None, 61, 310, 16)          2320      ['max_pooling2d_4[0][0]']     \n",
      "                                                                                                  \n",
      " max_pooling2d_5 (MaxPoolin  (None, 30, 155, 16)          0         ['conv2d_5[0][0]']            \n",
      " g2D)                                                                                             \n",
      "                                                                                                  \n",
      " other_features (InputLayer  [(None, 2)]                  0         []                            \n",
      " )                                                                                                \n",
      "                                                                                                  \n",
      " conv2d_6 (Conv2D)           (None, 28, 153, 32)          4640      ['max_pooling2d_5[0][0]']     \n",
      "                                                                                                  \n",
      " dense_2 (Dense)             (None, 64)                   192       ['other_features[0][0]']      \n",
      "                                                                                                  \n",
      " max_pooling2d_6 (MaxPoolin  (None, 14, 76, 32)           0         ['conv2d_6[0][0]']            \n",
      " g2D)                                                                                             \n",
      "                                                                                                  \n",
      " dense_3 (Dense)             (None, 128)                  8320      ['dense_2[0][0]']             \n",
      "                                                                                                  \n",
      " conv2d_7 (Conv2D)           (None, 12, 74, 64)           18496     ['max_pooling2d_6[0][0]']     \n",
      "                                                                                                  \n",
      " dropout (Dropout)           (None, 128)                  0         ['dense_3[0][0]']             \n",
      "                                                                                                  \n",
      " max_pooling2d_7 (MaxPoolin  (None, 6, 37, 64)            0         ['conv2d_7[0][0]']            \n",
      " g2D)                                                                                             \n",
      "                                                                                                  \n",
      " dense_4 (Dense)             (None, 128)                  16512     ['dropout[0][0]']             \n",
      "                                                                                                  \n",
      " global_average_pooling2d_1  (None, 64)                   0         ['max_pooling2d_7[0][0]']     \n",
      "  (GlobalAveragePooling2D)                                                                        \n",
      "                                                                                                  \n",
      " dense_5 (Dense)             (None, 64)                   8256      ['dense_4[0][0]']             \n",
      "                                                                                                  \n",
      " concatenate (Concatenate)   (None, 128)                  0         ['global_average_pooling2d_1[0\n",
      "                                                                    ][0]',                        \n",
      "                                                                     'dense_5[0][0]']             \n",
      "                                                                                                  \n",
      " dense_6 (Dense)             (None, 128)                  16512     ['concatenate[0][0]']         \n",
      "                                                                                                  \n",
      " dense_7 (Dense)             (None, 1)                    129       ['dense_6[0][0]']             \n",
      "                                                                                                  \n",
      "==================================================================================================\n",
      "Total params: 75537 (295.07 KB)\n",
      "Trainable params: 75537 (295.07 KB)\n",
      "Non-trainable params: 0 (0.00 Byte)\n",
      "__________________________________________________________________________________________________\n"
     ]
    }
   ],
   "source": [
    "# Define the model with two inputs\n",
    "model = tf.keras.Model(inputs=[mel_input, other_input], outputs=z)\n",
    "\n",
    "# Compile the model\n",
    "model.compile(optimizer='adam', loss='binary_crossentropy', metrics=['accuracy','recall','precision'])\n",
    "\n",
    "# Print model summary\n",
    "model.summary()"
   ]
  },
  {
   "cell_type": "code",
   "execution_count": 63,
   "metadata": {
    "colab": {
     "base_uri": "https://localhost:8080/"
    },
    "id": "bRypOcVKwADk",
    "outputId": "e1f5ad83-41f5-4fff-862f-23d7c5403903",
    "scrolled": true
   },
   "outputs": [
    {
     "name": "stdout",
     "output_type": "stream",
     "text": [
      "Epoch 1/20\n",
      "160/160 - 88s - loss: 0.2469 - accuracy: 0.8866 - recall_3: 0.9471 - precision_3: 0.9189 - val_loss: 1.4615 - val_accuracy: 0.4103 - val_recall_3: 0.8846 - val_precision_3: 0.2180 - 88s/epoch - 548ms/step\n",
      "Epoch 2/20\n",
      "160/160 - 85s - loss: 0.2410 - accuracy: 0.8944 - recall_3: 0.9551 - precision_3: 0.9208 - val_loss: 1.7098 - val_accuracy: 0.3552 - val_recall_3: 0.9038 - val_precision_3: 0.2052 - 85s/epoch - 533ms/step\n",
      "Epoch 3/20\n",
      "160/160 - 85s - loss: 0.2218 - accuracy: 0.8995 - recall_3: 0.9528 - precision_3: 0.9282 - val_loss: 1.1645 - val_accuracy: 0.4690 - val_recall_3: 0.7308 - val_precision_3: 0.2135 - 85s/epoch - 529ms/step\n",
      "Epoch 4/20\n",
      "160/160 - 87s - loss: 0.2318 - accuracy: 0.8948 - recall_3: 0.9485 - precision_3: 0.9266 - val_loss: 1.6376 - val_accuracy: 0.3621 - val_recall_3: 0.9038 - val_precision_3: 0.2070 - 87s/epoch - 544ms/step\n",
      "Epoch 5/20\n",
      "160/160 - 85s - loss: 0.2237 - accuracy: 0.8995 - recall_3: 0.9565 - precision_3: 0.9251 - val_loss: 1.0298 - val_accuracy: 0.5586 - val_recall_3: 0.7115 - val_precision_3: 0.2467 - 85s/epoch - 529ms/step\n",
      "Epoch 6/20\n",
      "160/160 - 85s - loss: 0.2253 - accuracy: 0.9011 - recall_3: 0.9528 - precision_3: 0.9299 - val_loss: 1.4948 - val_accuracy: 0.4103 - val_recall_3: 0.7692 - val_precision_3: 0.2010 - 85s/epoch - 534ms/step\n",
      "Epoch 7/20\n",
      "160/160 - 86s - loss: 0.2178 - accuracy: 0.9007 - recall_3: 0.9556 - precision_3: 0.9271 - val_loss: 1.5302 - val_accuracy: 0.3862 - val_recall_3: 0.7885 - val_precision_3: 0.1971 - 86s/epoch - 537ms/step\n",
      "Epoch 8/20\n",
      "160/160 - 86s - loss: 0.2166 - accuracy: 0.9054 - recall_3: 0.9565 - precision_3: 0.9315 - val_loss: 1.3877 - val_accuracy: 0.4103 - val_recall_3: 0.8846 - val_precision_3: 0.2180 - 86s/epoch - 537ms/step\n",
      "Epoch 9/20\n",
      "160/160 - 86s - loss: 0.2162 - accuracy: 0.9019 - recall_3: 0.9537 - precision_3: 0.9300 - val_loss: 1.9136 - val_accuracy: 0.3483 - val_recall_3: 0.9038 - val_precision_3: 0.2035 - 86s/epoch - 541ms/step\n",
      "Epoch 10/20\n",
      "160/160 - 84s - loss: 0.2132 - accuracy: 0.9054 - recall_3: 0.9570 - precision_3: 0.9311 - val_loss: 1.2176 - val_accuracy: 0.5310 - val_recall_3: 0.8077 - val_precision_3: 0.2500 - 84s/epoch - 526ms/step\n",
      "Epoch 11/20\n",
      "160/160 - 86s - loss: 0.2018 - accuracy: 0.9133 - recall_3: 0.9589 - precision_3: 0.9381 - val_loss: 1.1674 - val_accuracy: 0.4931 - val_recall_3: 0.7308 - val_precision_3: 0.2222 - 86s/epoch - 535ms/step\n",
      "Epoch 12/20\n",
      "160/160 - 85s - loss: 0.2080 - accuracy: 0.9078 - recall_3: 0.9584 - precision_3: 0.9324 - val_loss: 1.9437 - val_accuracy: 0.3448 - val_recall_3: 0.9423 - val_precision_3: 0.2076 - 85s/epoch - 531ms/step\n",
      "Epoch 13/20\n",
      "160/160 - 85s - loss: 0.2127 - accuracy: 0.9062 - recall_3: 0.9570 - precision_3: 0.9319 - val_loss: 0.9327 - val_accuracy: 0.5862 - val_recall_3: 0.6346 - val_precision_3: 0.2463 - 85s/epoch - 529ms/step\n",
      "Epoch 14/20\n",
      "160/160 - 85s - loss: 0.2026 - accuracy: 0.9074 - recall_3: 0.9565 - precision_3: 0.9336 - val_loss: 1.1524 - val_accuracy: 0.4862 - val_recall_3: 0.7308 - val_precision_3: 0.2197 - 85s/epoch - 531ms/step\n",
      "Epoch 15/20\n",
      "160/160 - 85s - loss: 0.2062 - accuracy: 0.9086 - recall_3: 0.9565 - precision_3: 0.9349 - val_loss: 1.1092 - val_accuracy: 0.4793 - val_recall_3: 0.6923 - val_precision_3: 0.2105 - 85s/epoch - 531ms/step\n",
      "Epoch 16/20\n",
      "160/160 - 84s - loss: 0.2016 - accuracy: 0.9160 - recall_3: 0.9627 - precision_3: 0.9379 - val_loss: 1.0030 - val_accuracy: 0.5793 - val_recall_3: 0.5962 - val_precision_3: 0.2348 - 84s/epoch - 528ms/step\n",
      "Epoch 17/20\n",
      "160/160 - 85s - loss: 0.1967 - accuracy: 0.9109 - recall_3: 0.9580 - precision_3: 0.9363 - val_loss: 1.2705 - val_accuracy: 0.5138 - val_recall_3: 0.7308 - val_precision_3: 0.2303 - 85s/epoch - 529ms/step\n",
      "Epoch 18/20\n",
      "160/160 - 84s - loss: 0.1874 - accuracy: 0.9144 - recall_3: 0.9584 - precision_3: 0.9398 - val_loss: 1.5037 - val_accuracy: 0.4586 - val_recall_3: 0.7885 - val_precision_3: 0.2193 - 84s/epoch - 527ms/step\n",
      "Epoch 19/20\n",
      "160/160 - 85s - loss: 0.2001 - accuracy: 0.9144 - recall_3: 0.9589 - precision_3: 0.9394 - val_loss: 0.8158 - val_accuracy: 0.6621 - val_recall_3: 0.5192 - val_precision_3: 0.2700 - 85s/epoch - 529ms/step\n",
      "Epoch 20/20\n",
      "160/160 - 85s - loss: 0.1984 - accuracy: 0.9141 - recall_3: 0.9603 - precision_3: 0.9377 - val_loss: 1.3100 - val_accuracy: 0.4586 - val_recall_3: 0.8077 - val_precision_3: 0.2222 - 85s/epoch - 530ms/step\n"
     ]
    }
   ],
   "source": [
    "import tensorflow as tf\n",
    "from tensorflow.keras.layers import Input, Conv2D, MaxPooling2D, GlobalAveragePooling2D, Dense, Concatenate, Dropout\n",
    "from sklearn.model_selection import train_test_split\n",
    "\n",
    "# ... (Your previous code for data loading and preprocessing) ...\n",
    "\n",
    "# Split your data into training and validation sets\n",
    "X_train_combined = np.hstack([all_spectrograms_flattened, all_other_features])\n",
    "X_train, X_val, y_train, y_val = train_test_split(X_train_combined, all_labels, test_size=0.1, stratify=all_labels, random_state=42)\n",
    "\n",
    "# Resample the training data\n",
    "smote_enn = SMOTEENN(random_state=seed)\n",
    "X_train_resampled, y_train_resampled = smote_enn.fit_resample(X_train, y_train)\n",
    "\n",
    "# Separate and reshape spectrograms for training and validation data\n",
    "num_spectrogram_features = 128 * 626\n",
    "X_train_spectrograms = X_train_resampled[:, :num_spectrogram_features].reshape(-1, 128, 626, 1)\n",
    "X_train_others = X_train_resampled[:, num_spectrogram_features:]\n",
    "X_val_spectrograms = X_val[:, :num_spectrogram_features].reshape(-1, 128, 626, 1)\n",
    "X_val_others = X_val[:, num_spectrogram_features:]\n",
    "\n",
    "# ... (Your model definition code) ...\n",
    "\n",
    "# Compile the model with ordered metrics\n",
    "model.compile(optimizer='adam', loss='binary_crossentropy', metrics=['accuracy', tf.keras.metrics.Recall(), tf.keras.metrics.Precision()])\n",
    "\n",
    "# Fit the model using validation_data\n",
    "history = model.fit(\n",
    "    [X_train_spectrograms, X_train_others],\n",
    "    y_train_resampled,\n",
    "    validation_data=([X_val_spectrograms, X_val_others], y_val),\n",
    "    verbose=2,\n",
    "    epochs=20,\n",
    "    batch_size=16\n",
    ")"
   ]
  },
  {
   "cell_type": "code",
   "execution_count": 1,
   "metadata": {
    "colab": {
     "base_uri": "https://localhost:8080/",
     "height": 144
    },
    "id": "o-bu56LwwADk",
    "outputId": "8b8a30ba-934c-41bf-ae4d-3081aa87bf0f"
   },
   "outputs": [
    {
     "ename": "NameError",
     "evalue": "name 'X_train_spectrograms' is not defined",
     "output_type": "error",
     "traceback": [
      "\u001b[0;31m---------------------------------------------------------------------------\u001b[0m",
      "\u001b[0;31mNameError\u001b[0m                                 Traceback (most recent call last)",
      "\u001b[0;32m<ipython-input-1-3280776d9a8d>\u001b[0m in \u001b[0;36m<cell line: 1>\u001b[0;34m()\u001b[0m\n\u001b[0;32m----> 1\u001b[0;31m \u001b[0mX_train_spectrograms\u001b[0m\u001b[0;34m.\u001b[0m\u001b[0mshape\u001b[0m\u001b[0;34m\u001b[0m\u001b[0;34m\u001b[0m\u001b[0m\n\u001b[0m",
      "\u001b[0;31mNameError\u001b[0m: name 'X_train_spectrograms' is not defined"
     ]
    }
   ],
   "source": [
    "X_train_spectrograms.shape"
   ]
  },
  {
   "cell_type": "code",
   "execution_count": 47,
   "metadata": {
    "colab": {
     "base_uri": "https://localhost:8080/"
    },
    "id": "HKpA6rTawADk",
    "outputId": "eb58fb5f-009d-4a42-fb02-c6eb0242f927"
   },
   "outputs": [
    {
     "data": {
      "text/plain": [
       "array([[1.89086137e-01, 2.07349165e+03],\n",
       "       [1.21557151e-01, 1.10675218e+03],\n",
       "       [9.12370621e-02, 1.27525876e+03],\n",
       "       ...,\n",
       "       [3.69502665e-01, 2.66839273e+03],\n",
       "       [1.77108496e-01, 2.00960918e+03],\n",
       "       [2.84412101e-01, 1.80930920e+03]])"
      ]
     },
     "execution_count": 47,
     "metadata": {},
     "output_type": "execute_result"
    }
   ],
   "source": [
    "X_train_others"
   ]
  },
  {
   "cell_type": "code",
   "execution_count": 48,
   "metadata": {
    "colab": {
     "base_uri": "https://localhost:8080/"
    },
    "id": "zvxmF1m9wADk",
    "outputId": "f77330ab-658e-459c-cd67-80110d103209",
    "scrolled": true
   },
   "outputs": [
    {
     "name": "stdout",
     "output_type": "stream",
     "text": [
      "80/80 [==============================] - 28s 352ms/step\n"
     ]
    }
   ],
   "source": [
    "y_pred_train = model.predict([X_train_spectrograms, X_train_others])"
   ]
  },
  {
   "cell_type": "code",
   "execution_count": 49,
   "metadata": {
    "id": "zkcZoLsgwADk"
   },
   "outputs": [],
   "source": [
    "y_pred_train_binary = (y_pred_train > 0.99).astype(int)"
   ]
  },
  {
   "cell_type": "code",
   "execution_count": 51,
   "metadata": {
    "colab": {
     "base_uri": "https://localhost:8080/"
    },
    "id": "GFwSBIq-wADk",
    "outputId": "3e593f38-c6d1-415e-ec41-60045d454647"
   },
   "outputs": [
    {
     "name": "stdout",
     "output_type": "stream",
     "text": [
      "Training Accuracy: 0.5208006279434851\n"
     ]
    }
   ],
   "source": [
    "from sklearn.metrics import accuracy_score\n",
    "accuracy_train = accuracy_score(y_train_resampled, y_pred_train_binary)\n",
    "\n",
    "\n",
    "print(f\"Training Accuracy: {accuracy_train}\")"
   ]
  },
  {
   "cell_type": "code",
   "execution_count": 52,
   "metadata": {
    "colab": {
     "base_uri": "https://localhost:8080/"
    },
    "id": "Kh5J-eHHwADk",
    "outputId": "34088c34-5b66-4877-b84b-48de38f47733"
   },
   "outputs": [
    {
     "data": {
      "text/plain": [
       "0.5208006279434851"
      ]
     },
     "execution_count": 52,
     "metadata": {},
     "output_type": "execute_result"
    }
   ],
   "source": [
    "accuracy_train"
   ]
  },
  {
   "cell_type": "code",
   "execution_count": 54,
   "metadata": {
    "colab": {
     "base_uri": "https://localhost:8080/",
     "height": 472
    },
    "id": "Uj4vAEwbwADk",
    "outputId": "10c1b1ae-9744-477a-f238-0c75c2aee352"
   },
   "outputs": [
    {
     "data": {
      "image/png": "[encoded data removed]",
      "text/plain": [
       "<Figure size 640x480 with 2 Axes>"
      ]
     },
     "metadata": {},
     "output_type": "display_data"
    }
   ],
   "source": [
    "cm = confusion_matrix(y_train_resampled, y_pred_train_binary)\n",
    "\n",
    "# Step 4: Visualize or print the confusion matrix\n",
    "disp = ConfusionMatrixDisplay(confusion_matrix=cm)\n",
    "disp.plot(cmap=plt.cm.Blues)\n",
    "plt.title(\"Confusion Matrix for Training Data\")\n",
    "plt.show()"
   ]
  },
  {
   "cell_type": "code",
   "execution_count": 55,
   "metadata": {
    "colab": {
     "base_uri": "https://localhost:8080/"
    },
    "id": "tRWp3uWQwADk",
    "outputId": "d810d066-34cd-41c2-9916-8a49378d9199"
   },
   "outputs": [
    {
     "name": "stdout",
     "output_type": "stream",
     "text": [
      "19/19 [==============================] - 7s 351ms/step\n"
     ]
    }
   ],
   "source": [
    "y_pred_test = model.predict([spectrograms_test_reshaped, other_features_test])"
   ]
  },
  {
   "cell_type": "code",
   "execution_count": 56,
   "metadata": {
    "id": "tujIUQljwADk"
   },
   "outputs": [],
   "source": [
    "y_pred_test_binary = (y_pred > 0.99).astype(int)"
   ]
  },
  {
   "cell_type": "code",
   "execution_count": 57,
   "metadata": {
    "id": "nSajYR3cwADk"
   },
   "outputs": [],
   "source": [
    "from sklearn.metrics import confusion_matrix, ConfusionMatrixDisplay\n",
    "cm = confusion_matrix(y_test, y_pred_test_binary)"
   ]
  },
  {
   "cell_type": "code",
   "execution_count": 58,
   "metadata": {
    "colab": {
     "base_uri": "https://localhost:8080/",
     "height": 472
    },
    "id": "gmZot2FewADk",
    "outputId": "686c14ed-6d8a-43fb-d76c-3ad864caa3c9"
   },
   "outputs": [
    {
     "data": {
      "image/png": "[encoded data removed]",
      "text/plain": [
       "<Figure size 640x480 with 2 Axes>"
      ]
     },
     "metadata": {},
     "output_type": "display_data"
    }
   ],
   "source": [
    "disp = ConfusionMatrixDisplay(cm)\n",
    "\n",
    "disp.plot()\n",
    "plt.title(\"Confusion Matrix for Testing Data\")\n",
    "plt.show()"
   ]
  },
  {
   "cell_type": "code",
   "execution_count": 59,
   "metadata": {
    "id": "YIkOoK25wADk"
   },
   "outputs": [],
   "source": [
    "from sklearn.metrics import accuracy_score\n",
    "\n",
    "accuracy_test = accuracy_score(y_test, y_pred_test_binary)"
   ]
  },
  {
   "cell_type": "code",
   "execution_count": 61,
   "metadata": {
    "colab": {
     "base_uri": "https://localhost:8080/"
    },
    "id": "BZfHc0gSwADk",
    "outputId": "6a64b3de-c45e-43eb-87f0-a3512991006b"
   },
   "outputs": [
    {
     "data": {
      "text/plain": [
       "0.8151986183074266"
      ]
     },
     "execution_count": 61,
     "metadata": {},
     "output_type": "execute_result"
    }
   ],
   "source": [
    "accuracy_test"
   ]
  },
  {
   "cell_type": "code",
   "execution_count": null,
   "metadata": {
    "id": "oSWGsUMdwADk"
   },
   "outputs": [],
   "source": []
  }
 ],
 "metadata": {
  "accelerator": "TPU",
  "colab": {
   "gpuType": "V28",
   "provenance": []
  },
  "kernelspec": {
   "display_name": "venv",
   "language": "python",
   "name": "python3"
  },
  "language_info": {
   "codemirror_mode": {
    "name": "ipython",
    "version": 3
   },
   "file_extension": ".py",
   "mimetype": "text/x-python",
   "name": "python",
   "nbconvert_exporter": "python",
   "pygments_lexer": "ipython3",
   "version": "3.12.6"
  }
 },
 "nbformat": 4,
 "nbformat_minor": 0
}
