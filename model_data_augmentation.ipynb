{
 "cells": [
  {
   "cell_type": "markdown",
   "metadata": {
    "id": "M-j9af2iwADY"
   },
   "source": [
    "# Workbook"
   ]
  },
  {
   "cell_type": "markdown",
   "metadata": {},
   "source": [
    "## Data Preprocessing"
   ]
  },
  {
   "cell_type": "code",
   "execution_count": 1,
   "metadata": {
    "id": "S0UnVeBCHXYJ"
   },
   "outputs": [],
   "source": [
    "# import necessary packages\n",
    "import os\n",
    "\n",
    "import matplotlib.pyplot as plt\n",
    "import numpy as np\n",
    "import seaborn as sns\n",
    "import tensorflow as tf\n",
    "\n",
    "from IPython import display\n",
    "import tensorflow as tf\n",
    "import pandas as pd\n",
    "import librosa\n",
    "\n",
    "from sklearn.model_selection import train_test_split\n",
    "from collections import Counter\n",
    "\n",
    "import tensorflow as tf\n",
    "from tensorflow.keras.layers import Input, Conv2D, MaxPooling2D, GlobalAveragePooling2D, Dense, Concatenate, Dropout, BatchNormalization\n",
    "\n",
    "\n",
    "# Set the seed value for experiment reproducibility.\n",
    "seed = 42\n",
    "tf.random.set_seed(seed)\n",
    "np.random.seed(seed)"
   ]
  },
  {
   "cell_type": "code",
   "execution_count": 2,
   "metadata": {
    "colab": {
     "base_uri": "https://localhost:8080/"
    },
    "id": "gsel7TEhHhc9",
    "outputId": "0a061957-b5dc-4398-c154-497301fbee02"
   },
   "outputs": [],
   "source": [
    "# from google.colab import drive\n",
    "# drive.mount('/content/drive')\n",
    "# import os\n",
    "# os.listdir('/content/drive/My Drive/')\n",
    "\n",
    "# audio_path = '/content/drive/My Drive/dataset/AUDIO_NEW/'\n",
    "\n",
    "audio_path = 'dataset/AUDIO_NEW/'\n",
    "\n",
    "audio_types = ['breathing', 'cough', 'speech']"
   ]
  },
  {
   "cell_type": "code",
   "execution_count": 3,
   "metadata": {
    "id": "vc8NVOwZJwW6"
   },
   "outputs": [],
   "source": [
    "def get_directories(audio_path, audio_type):\n",
    "    from pathlib import Path\n",
    "\n",
    "    POS = os.path.join(audio_path + audio_type, 'COVID_Positive')\n",
    "    NEG = os.path.join(audio_path + audio_type, 'COVID_Negative')\n",
    "\n",
    "    # Specify the directory path\n",
    "    pos_directory = Path(POS)\n",
    "    neg_directory = Path(NEG)\n",
    "\n",
    "    # List all files in the directory using iterdir()\n",
    "    # pos_files = [file.name for file in pos_directory.iterdir() if file.is_file()]\n",
    "    # neg_files = [file.name for file in neg_directory.iterdir() if file.is_file()]\n",
    "\n",
    "    return pos_directory, neg_directory"
   ]
  },
  {
   "cell_type": "code",
   "execution_count": 4,
   "metadata": {
    "id": "dssmiF6YwADa"
   },
   "outputs": [],
   "source": [
    "# Load and process breathing data\n",
    "pos_directory_breathing, neg_directory_breathing = get_directories(audio_path, audio_types[0])\n",
    "\n",
    "# Load and process cough data\n",
    "pos_directory_cough, neg_directory_cough = get_directories(audio_path, audio_types[1]) # audio_types[1] is 'cough'\n",
    "\n",
    "# Load and process speech data\n",
    "pos_directory_speech, neg_directory_speech = get_directories(audio_path, audio_types[2]) # audio_types[2] is 'speech'\n"
   ]
  },
  {
   "cell_type": "markdown",
   "metadata": {
    "id": "VIAK_wb5wADa"
   },
   "source": [
    "### Define features"
   ]
  },
  {
   "cell_type": "code",
   "execution_count": 5,
   "metadata": {
    "id": "ziRNcmVMwADa",
    "jupyter": {
     "source_hidden": true
    }
   },
   "outputs": [],
   "source": [
    "def create_mel_spectrogram(y, sr, file_path):\n",
    "    mel_spectrogram = librosa.feature.melspectrogram(y=y, sr=sr, n_fft=512, hop_length=128, n_mels=128)\n",
    "    log_mel_spectrogram = librosa.power_to_db(mel_spectrogram, ref=np.max)\n",
    "\n",
    "    # Normalize the spectrogram\n",
    "    if np.std(log_mel_spectrogram) == 0:\n",
    "        print(\"log_mel_spectrogram == 0: \", file_path.resolve())\n",
    "    \n",
    "    # Normalize the spectrogram\n",
    "    epsilon = 1e-6  # Small value to avoid division by zero\n",
    "    log_mel_spectrogram = (log_mel_spectrogram - np.mean(log_mel_spectrogram)) / (np.std(log_mel_spectrogram) + epsilon)\n",
    "\n",
    "    # Add channel dimension\n",
    "    log_mel_spectrogram = np.expand_dims(log_mel_spectrogram, axis=-1)\n",
    "\n",
    "    return log_mel_spectrogram\n",
    "\n",
    "def create_zero_crossing_rate(y):\n",
    "    return np.mean(librosa.feature.zero_crossing_rate(y))\n",
    "\n",
    "def create_spectral_centroid(y, sr):\n",
    "    return np.mean(librosa.feature.spectral_centroid(y=y, sr=sr))"
   ]
  },
  {
   "cell_type": "code",
   "execution_count": 6,
   "metadata": {},
   "outputs": [],
   "source": [
    "import random\n",
    "\n",
    "def augment_audio_random(y, sr, target_length):\n",
    "    \"\"\"\n",
    "    Applies a random augmentation with a probability to an audio signal.\n",
    "\n",
    "    Args:\n",
    "        y (numpy.ndarray): The raw audio signal.\n",
    "        sr (int): Sampling rate of the audio signal.\n",
    "        target_length (int): Target length for padding/truncating the audio.\n",
    "\n",
    "    Returns:\n",
    "        numpy.ndarray: Augmented audio signal padded/truncated to the target length.\n",
    "    \"\"\"\n",
    "    if random.random() < 0.5:  # Apply augmentation with 50% probability\n",
    "        augmentation_type = random.choice([\"time_stretch\", \"pitch_shift\", \"add_noise\"])\n",
    "\n",
    "        if augmentation_type == \"time_stretch\":\n",
    "            rate = random.uniform(0.9, 1.1)\n",
    "            y = librosa.effects.time_stretch(y, rate=rate)\n",
    "\n",
    "        elif augmentation_type == \"pitch_shift\":\n",
    "            n_steps = random.randint(-2, 2)\n",
    "            y = librosa.effects.pitch_shift(y=y, sr=sr, n_steps=n_steps)\n",
    "\n",
    "        elif augmentation_type == \"add_noise\":\n",
    "            noise = np.random.normal(0, random.uniform(0.001, 0.005), y.shape)\n",
    "            y = y + noise\n",
    "\n",
    "    zero_padding = np.zeros(max(0, target_length - len(y)), dtype=np.float32)\n",
    "    y_padded = np.concatenate([y[:target_length], zero_padding], axis=0)\n",
    "\n",
    "    return y_padded\n"
   ]
  },
  {
   "cell_type": "markdown",
   "metadata": {},
   "source": [
    "### Split to train-test then create features"
   ]
  },
  {
   "cell_type": "code",
   "execution_count": 7,
   "metadata": {},
   "outputs": [],
   "source": [
    "import random\n",
    "from pathlib import Path\n",
    "\n",
    "def split_train_test_consistent(pos_dir, neg_dir, test_size=0.2, random_seed=42):\n",
    "    \"\"\"\n",
    "    Splits positive and negative directories into training and testing subsets with consistent shuffling.\n",
    "\n",
    "    Args:\n",
    "        pos_dirs (List[Path]): List of directories containing positive samples (e.g., cough, breathing, speech).\n",
    "        neg_dirs (List[Path]): List of directories containing negative samples (e.g., cough, breathing, speech).\n",
    "        test_size (float): Proportion of files to include in the test set (default is 0.2).\n",
    "        random_seed (int): Random seed for reproducibility.\n",
    "\n",
    "    Returns:\n",
    "        Tuple[Tuple[List[List[Path]], List[List[Path]]], Tuple[List[List[Path]], List[List[Path]]]]:\n",
    "            - ((train_pos_files_by_type, test_pos_files_by_type), (train_neg_files_by_type, test_neg_files_by_type))\n",
    "    \"\"\"\n",
    "    np.random.seed(random_seed)  # Set seed for reproducibility\n",
    "\n",
    "    train_pos_files_by_type = []\n",
    "    test_pos_files_by_type = []\n",
    "    train_neg_files_by_type = []\n",
    "    test_neg_files_by_type = []\n",
    "\n",
    "    # Process each audio type (cough, breathing, speech)\n",
    "    pos_files = sorted(list(pos_dir.iterdir()))\n",
    "    neg_files = sorted(list(neg_dir.iterdir()))\n",
    "\n",
    "    # Generate consistent shuffle indices\n",
    "    pos_indices = np.random.permutation(len(pos_files))\n",
    "    neg_indices = np.random.permutation(len(neg_files))\n",
    "\n",
    "    # Split indices into train and test sets\n",
    "    num_pos_test = int(len(pos_files) * test_size)\n",
    "    num_neg_test = int(len(neg_files) * test_size)\n",
    "\n",
    "\n",
    "    train_pos_indices = pos_indices[num_pos_test:]\n",
    "    test_pos_indices = pos_indices[:num_pos_test]\n",
    "\n",
    "    train_neg_indices = neg_indices[num_neg_test:]\n",
    "    test_neg_indices = neg_indices[:num_neg_test]\n",
    "\n",
    "    # Split files into train and test sets using the indices\n",
    "    train_pos_files = [pos_files[i] for i in train_pos_indices]\n",
    "    test_pos_files = [pos_files[i] for i in test_pos_indices]\n",
    "\n",
    "    train_neg_files = [neg_files[i] for i in train_neg_indices]\n",
    "    test_neg_files = [neg_files[i] for i in test_neg_indices]\n",
    "\n",
    "    # Append results for this audio type\n",
    "    return (train_pos_files, test_pos_files), (train_neg_files, test_neg_files)"
   ]
  },
  {
   "cell_type": "code",
   "execution_count": 8,
   "metadata": {},
   "outputs": [],
   "source": [
    "pos_breathing_path = Path(audio_path + 'breathing/COVID_Positive')\n",
    "neg_breathing_path = Path(audio_path + 'breathing/COVID_Negative')\n",
    "\n",
    "pos_cough_path = Path(audio_path + 'cough/COVID_Positive')\n",
    "neg_cough_path = Path(audio_path + 'cough/COVID_Negative')\n",
    "\n",
    "pos_speech_path = Path(audio_path + 'speech/COVID_Positive')\n",
    "neg_speech_path = Path(audio_path + 'speech/COVID_Negative')\n",
    "\n",
    "(train_pos_breathing_files, test_pos_breathing_files), (train_neg_breathing_files, test_neg_breathing_ffiles) = split_train_test_consistent(\n",
    "    pos_breathing_path,\n",
    "    neg_breathing_path,\n",
    "    test_size=0.2,\n",
    "    random_seed=42\n",
    ")\n",
    "\n",
    "(train_pos_cough_files, test_pos_breathing_files), (train_neg_cough_files, test_neg_cough_files)= split_train_test_consistent(\n",
    "    pos_cough_path,\n",
    "    neg_cough_path,\n",
    "    test_size=0.2,\n",
    "    random_seed=42\n",
    ")\n",
    "\n",
    "(train_pos_speech_files, test_pos_speech_files), (train_neg_speech_files, test_neg_speech_files) = split_train_test_consistent(\n",
    "    pos_speech_path,\n",
    "    neg_speech_path,\n",
    "    test_size=0.2,\n",
    "    random_seed=42\n",
    ")"
   ]
  },
  {
   "cell_type": "code",
   "execution_count": 9,
   "metadata": {},
   "outputs": [],
   "source": [
    "def create_features_splitted(pos_directory, neg_directory, target_length, augment=True):\n",
    "    #print(\"Creating features for {0} and {1}! \".format(pos_directory, neg_directory))\n",
    "    spectrograms = []\n",
    "    other_features = []\n",
    "    labels = []\n",
    "\n",
    "    # Access files directly using iterdir()\n",
    "    for file_path in sorted(pos_directory):\n",
    "        y, sr = librosa.load(file_path, sr=16000)\n",
    "        y = y[:target_length]\n",
    "        y = librosa.util.normalize(y)\n",
    "\n",
    "        zero_padding = np.zeros(target_length - len(y), dtype=np.float32)\n",
    "        y = np.concatenate([y, zero_padding], axis=0)\n",
    "\n",
    "        spectrograms.append(create_mel_spectrogram(y, sr, file_path))\n",
    "        other_features.append([create_zero_crossing_rate(y), create_spectral_centroid(y, sr)])\n",
    "        labels.append(1)\n",
    "\n",
    "\n",
    "        ## Augment random\n",
    "        if augment:\n",
    "            y_augmented = augment_audio_random(y, sr, target_length)\n",
    "            spectrograms.append(create_mel_spectrogram(y_augmented, sr, file_path))\n",
    "            other_features.append([create_zero_crossing_rate(y_augmented), create_spectral_centroid(y_augmented, sr)])\n",
    "            labels.append(1)\n",
    "\n",
    "        ## Augment all\n",
    "        # if augment:\n",
    "        #     augmented_audios = augment_audio(y, sr, target_length)\n",
    "        #     for aug_y in augmented_audios:\n",
    "        #         spectrograms.append(create_mel_spectrogram(aug_y, sr, file_path))\n",
    "        #         other_features.append([create_zero_crossing_rate(aug_y), create_spectral_centroid(aug_y, sr)])\n",
    "        #         labels.append(1)\n",
    "    \n",
    "    positive_samples = len(labels)\n",
    "\n",
    "    print(f\"Number of positive samples: {positive_samples}\")  \n",
    "\n",
    "    for file_path in sorted(neg_directory):\n",
    "        y, sr = librosa.load(file_path, sr=16000)\n",
    "        y = y[:target_length]\n",
    "\n",
    "        zero_padding = np.zeros(target_length - len(y), dtype=np.float32)\n",
    "        y = np.concatenate([y, zero_padding], axis=0)\n",
    "\n",
    "        spectrograms.append(create_mel_spectrogram(y, sr, file_path))\n",
    "        other_features.append([create_zero_crossing_rate(y), create_spectral_centroid(y, sr)])\n",
    "        labels.append(0)\n",
    "\n",
    "        # if augment:\n",
    "        #     y_augmented = augment_audio(y, sr, target_length)\n",
    "        #     spectrograms.append(create_mel_spectrogram(y_augmented, sr, file_path))\n",
    "        #     other_features.append([create_zero_crossing_rate(y_augmented), create_spectral_centroid(y_augmented, sr)])\n",
    "        #     labels.append(0)\n",
    "\n",
    "    print(f\"Number of negative samples: {len(labels) - positive_samples}\")           \n",
    "    # print(\"Completed creating features for {0} and {1}! \".format(pos_directory, neg_directory))\n",
    "\n",
    "    return spectrograms, other_features, labels"
   ]
  },
  {
   "cell_type": "code",
   "execution_count": 10,
   "metadata": {},
   "outputs": [
    {
     "name": "stdout",
     "output_type": "stream",
     "text": [
      "Number of positive samples: 276\n",
      "log_mel_spectrogram == 0:  /Users/opheliasin/covid-detection/dataset/AUDIO_NEW/breathing/COVID_Negative/GDOLSUHV.flac\n",
      "log_mel_spectrogram == 0:  /Users/opheliasin/covid-detection/dataset/AUDIO_NEW/breathing/COVID_Negative/HTUZHMVC.flac\n",
      "log_mel_spectrogram == 0:  /Users/opheliasin/covid-detection/dataset/AUDIO_NEW/breathing/COVID_Negative/TMWZXJNT.flac\n",
      "Number of negative samples: 635\n",
      "Number of positive samples: 34\n",
      "Number of negative samples: 158\n",
      "Number of positive samples: 276\n",
      "log_mel_spectrogram == 0:  /Users/opheliasin/covid-detection/dataset/AUDIO_NEW/cough/COVID_Negative/TMWZXJNT.flac\n",
      "Number of negative samples: 635\n",
      "Number of positive samples: 34\n",
      "Number of negative samples: 158\n",
      "Number of positive samples: 276\n",
      "Number of negative samples: 635\n",
      "Number of positive samples: 34\n",
      "Number of negative samples: 158\n"
     ]
    }
   ],
   "source": [
    "spectrograms_breathing_train, other_features_breathing_train, labels_breathing_train  = create_features_splitted(train_pos_breathing_files, train_neg_breathing_files, 80000)\n",
    "spectrograms_breathing_test, other_features_breathing_test, labels_breathing_test  = create_features_splitted(test_pos_breathing_files, test_neg_breathing_ffiles, 80000, augment=False)\n",
    "spectrograms_cough_train, other_features_cough_train, labels_cough_train  =  create_features_splitted(train_pos_cough_files, train_neg_cough_files, 96000)\n",
    "spectrograms_cough_test , other_features_cough_test , labels_cough_test  =  create_features_splitted(test_pos_breathing_files, test_neg_cough_files, 96000, augment=False)\n",
    "spectrograms_speech_train, other_features_speech_train, labels_speech_train  =  create_features_splitted(train_pos_speech_files, train_neg_speech_files, 160000)\n",
    "spectrograms_speech_test, other_features_speech_test, labels_speech_test  = create_features_splitted(test_pos_speech_files, test_neg_speech_files, 160000, augment=False)\n"
   ]
  },
  {
   "cell_type": "code",
   "execution_count": 11,
   "metadata": {},
   "outputs": [],
   "source": [
    "# Function to pad spectrograms to the maximum time frame length\n",
    "def pad_spectrogram(spectrogram, max_time_frames):\n",
    "    current_time_frames = spectrogram.shape[1]  # Time frames are along axis 1\n",
    "    if current_time_frames < max_time_frames:\n",
    "        # Calculate padding amount\n",
    "        padding_amount = max_time_frames - current_time_frames\n",
    "        # Pad along the time axis (axis=1)\n",
    "        padded_spectrogram = np.pad(spectrogram, ((0, 0), (0, padding_amount), (0, 0)), mode='constant')\n",
    "    else:\n",
    "        padded_spectrogram = spectrogram\n",
    "    return padded_spectrogram"
   ]
  },
  {
   "cell_type": "code",
   "execution_count": 12,
   "metadata": {},
   "outputs": [],
   "source": [
    "# Maximum time frame length across all audio types\n",
    "max_time_frames = 1251\n",
    "\n",
    "# Pad all spectrograms to the maximum time frame length\n",
    "padded_spectrograms_breathing_train = [pad_spectrogram(s, max_time_frames) for s in spectrograms_breathing_train]\n",
    "padded_spectrograms_breathing_test = [pad_spectrogram(s, max_time_frames) for s in spectrograms_breathing_test]\n",
    "padded_spectrograms_cough_train = [pad_spectrogram(s, max_time_frames) for s in spectrograms_cough_train]\n",
    "padded_spectrograms_cough_test = [pad_spectrogram(s, max_time_frames) for s in spectrograms_cough_test]\n",
    "padded_spectrograms_speech_train = [pad_spectrogram(s, max_time_frames) for s in spectrograms_speech_train]\n",
    "padded_spectrograms_speech_test = [pad_spectrogram(s, max_time_frames) for s in spectrograms_speech_test]"
   ]
  },
  {
   "cell_type": "code",
   "execution_count": 13,
   "metadata": {},
   "outputs": [],
   "source": [
    "# # Combine spectrograms, other features, and labels for each participant\n",
    "all_spectrograms_train = []\n",
    "all_other_features_train = []\n",
    "all_labels_train = []\n",
    "\n",
    "# all_spectrograms_test = []\n",
    "all_other_features_test = []\n",
    "all_labels_test = []\n",
    "\n",
    "for i in range(len(spectrograms_breathing_train)):  # Iterate over participants\n",
    "\n",
    "    combined_spectrogram_train = np.concatenate(\n",
    "        [padded_spectrograms_breathing_train[i], padded_spectrograms_cough_train[i], padded_spectrograms_speech_train[i]], axis=1\n",
    "    )\n",
    "    \n",
    "    # Combine other features for breathing, coughing, and speech\n",
    "    combined_other_features_train = np.concatenate(\n",
    "        [other_features_breathing_train[i], other_features_cough_train[i], other_features_speech_train[i]], axis=0\n",
    "    )\n",
    "    \n",
    "    # Assume labels are consistent across all audio types for a participant\n",
    "    label_train = labels_breathing_train[i]  # You can use any of the label lists since they are consistent\n",
    "\n",
    "#     # Append combined data to the final lists\n",
    "    all_spectrograms_train.append(combined_spectrogram_train)\n",
    "    all_other_features_train.append(combined_other_features_train)\n",
    "    all_labels_train.append(label_train)\n",
    "\n",
    "\n",
    "for i in range(len(spectrograms_breathing_test)):  # Iterate over participants\n",
    "    \n",
    "        # combined_spectrogram_test = np.concatenate(\n",
    "        #     [padded_spectrograms_breathing_test[i], padded_spectrograms_cough_test[i], padded_spectrograms_speech_test[i]], axis=1\n",
    "        # )\n",
    "        \n",
    "        # Combine other features for breathing, coughing, and speech\n",
    "        combined_other_features_test = np.concatenate(\n",
    "            [other_features_breathing_test[i], other_features_cough_test[i], other_features_speech_test[i]], axis=0\n",
    "        )\n",
    "        \n",
    "        # Assume labels are consistent across all audio types for a participant\n",
    "        label_test = labels_breathing_test[i]  # You can use any of the label lists since they are consistent\n",
    "    \n",
    "#         # Append combined data to the final lists\n",
    "        # all_spectrograms_test.append(combined_spectrogram_test)\n",
    "        all_other_features_test.append(combined_other_features_test)\n",
    "        all_labels_test.append(label_test)\n",
    "    \n",
    "\n",
    "# # Convert to NumPy arrays\n",
    "all_spectrograms_train = np.array(all_spectrograms_train)\n",
    "all_other_features_train = np.array(all_other_features_train)\n",
    "all_labels_train = np.array(all_labels_train)\n",
    "\n",
    "# all_spectrograms_test = np.array(all_spectrograms_test)\n",
    "all_other_features_test = np.array(all_other_features_test)\n",
    "all_labels_test = np.array(all_labels_test)"
   ]
  },
  {
   "cell_type": "code",
   "execution_count": 41,
   "metadata": {},
   "outputs": [],
   "source": [
    "# Flatten spectrograms and combine with other features\n",
    "all_spectrograms_train_flattened = all_spectrograms_train.reshape(all_spectrograms_train.shape[0], -1)\n",
    "X_combined = np.hstack([all_spectrograms_train_flattened, all_other_features_train])"
   ]
  },
  {
   "cell_type": "code",
   "execution_count": 15,
   "metadata": {},
   "outputs": [],
   "source": [
    "del all_spectrograms_train_flattened"
   ]
  },
  {
   "cell_type": "markdown",
   "metadata": {},
   "source": [
    "## Apply SMOTEENN"
   ]
  },
  {
   "cell_type": "code",
   "execution_count": 16,
   "metadata": {},
   "outputs": [
    {
     "name": "stdout",
     "output_type": "stream",
     "text": [
      "Original class distribution: Counter({np.int64(0): 635, np.int64(1): 276})\n"
     ]
    }
   ],
   "source": [
    "print(f\"Original class distribution: {Counter(all_labels_train)}\")"
   ]
  },
  {
   "cell_type": "code",
   "execution_count": 42,
   "metadata": {},
   "outputs": [
    {
     "name": "stdout",
     "output_type": "stream",
     "text": [
      "Resampled dataset shape: Counter({np.int64(0): 635, np.int64(1): 317})\n",
      "Resampled dataset shape: Counter({np.int64(0): 452, np.int64(1): 317})\n"
     ]
    }
   ],
   "source": [
    "from imblearn.combine import SMOTEENN\n",
    "from imblearn.over_sampling import SMOTE\n",
    "from imblearn.under_sampling import EditedNearestNeighbours\n",
    "from imblearn.under_sampling import RandomUnderSampler\n",
    "\n",
    "from collections import Counter\n",
    "\n",
    "\n",
    "# enn = EditedNearestNeighbours(n_neighbors=5, kind_sel=\"mode\") \n",
    "\n",
    "# smote_enn = SMOTEENN(random_state=seed,  sampling_strategy='auto')\n",
    "# X_train_resampled, y_train_resampled = smote_enn.fit_resample(X_combined, all_labels_train)\n",
    "\n",
    "\n",
    "# Apply SMOTE\n",
    "smote = SMOTE(sampling_strategy=0.5, random_state=seed)  # Oversample minority to 50% of majority\n",
    "X_smote, y_smote = smote.fit_resample(X_combined, all_labels_train)\n",
    "\n",
    "\n",
    "print(f\"Resampled dataset shape: {Counter(y_smote)}\")"
   ]
  },
  {
   "cell_type": "code",
   "execution_count": null,
   "metadata": {},
   "outputs": [],
   "source": [
    "\n",
    "# Apply Random Undersampling\n",
    "undersampler = RandomUnderSampler(sampling_strategy=0.7, random_state=seed)  # Undersample majority to match ratio\n",
    "X_train_resampled, y_train_resampled = undersampler.fit_resample(X_smote, y_smote)\n",
    "\n",
    "print(f\"Resampled dataset shape: {Counter(y_train_resampled)}\")"
   ]
  },
  {
   "cell_type": "code",
   "execution_count": 43,
   "metadata": {},
   "outputs": [],
   "source": [
    "del X_combined"
   ]
  },
  {
   "cell_type": "code",
   "execution_count": 44,
   "metadata": {},
   "outputs": [
    {
     "name": "stdout",
     "output_type": "stream",
     "text": [
      "Resampled class distribution: Counter({np.int64(0): 452, np.int64(1): 317})\n"
     ]
    }
   ],
   "source": [
    "print(f\"Resampled class distribution: {Counter(y_train_resampled)}\")"
   ]
  },
  {
   "cell_type": "code",
   "execution_count": 45,
   "metadata": {},
   "outputs": [],
   "source": [
    "# Constants for updated time frames\n",
    "num_mel_bands = 128\n",
    "original_time_frames_breathing = 626 # prev: 622\n",
    "original_time_frames_coughing = 751 # prev: 747\n",
    "original_time_frames_speech = 1251 # prev: 1247\n",
    "max_time_frames = 1251  # Maximum time frames across all audio types\n",
    "\n",
    "# Total original time frames\n",
    "original_total_time_frames = original_time_frames_breathing + original_time_frames_coughing + original_time_frames_speech\n",
    "\n",
    "# Total spectrogram features\n",
    "total_padded_spectrogram_features = num_mel_bands * (max_time_frames * 3)"
   ]
  },
  {
   "cell_type": "code",
   "execution_count": 46,
   "metadata": {},
   "outputs": [],
   "source": [
    "# Separate resampled padded spectrograms and other features for X_train_resampled\n",
    "padded_spectrograms_train_resampled = X_train_resampled[:, :total_padded_spectrogram_features]\n",
    "other_features_train_resampled = X_train_resampled[:, total_padded_spectrogram_features:]"
   ]
  },
  {
   "cell_type": "code",
   "execution_count": 47,
   "metadata": {},
   "outputs": [],
   "source": [
    "padded_spectrograms_train_resampled_reshaped = padded_spectrograms_train_resampled.reshape(\n",
    "    padded_spectrograms_train_resampled.shape[0], num_mel_bands,\n",
    "    max_time_frames * 3, 1\n",
    ")\n"
   ]
  },
  {
   "cell_type": "code",
   "execution_count": 48,
   "metadata": {},
   "outputs": [],
   "source": [
    "# Define a function to extract the original spectrograms without padding\n",
    "def extract_original_spectrograms(padded_spectrograms, time_frames_breathing, time_frames_coughing, time_frames_speech):\n",
    "    # Extract breathing spectrogram\n",
    "    breathing = padded_spectrograms[:, :, :time_frames_breathing, :]\n",
    "    \n",
    "    # Extract coughing spectrogram\n",
    "    coughing_start = time_frames_breathing\n",
    "    coughing_end = time_frames_breathing + time_frames_coughing\n",
    "    coughing = padded_spectrograms[:, :, coughing_start:coughing_end, :]\n",
    "    \n",
    "    # Extract speech spectrogram\n",
    "    speech_start = coughing_end\n",
    "    speech_end = speech_start + time_frames_speech\n",
    "    speech = padded_spectrograms[:, :, speech_start:speech_end, :]\n",
    "    \n",
    "    return breathing, coughing, speech\n",
    "\n",
    "# Extract the original spectrograms from the padded data\n",
    "spectrograms_train_breathing, spectrograms_train_coughing, spectrograms_train_speech = extract_original_spectrograms(\n",
    "    padded_spectrograms_train_resampled_reshaped,\n",
    "    original_time_frames_breathing,\n",
    "    original_time_frames_coughing,\n",
    "    original_time_frames_speech\n",
    ")"
   ]
  },
  {
   "cell_type": "code",
   "execution_count": 49,
   "metadata": {},
   "outputs": [
    {
     "name": "stdout",
     "output_type": "stream",
     "text": [
      "Breathing Spectrogram Shape: (769, 128, 626, 1)\n",
      "Coughing Spectrogram Shape: (769, 128, 751, 1)\n",
      "Speech Spectrogram Shape: (769, 128, 1251, 1)\n"
     ]
    }
   ],
   "source": [
    "# Verify the shapes of the extracted spectrograms\n",
    "print(\"Breathing Spectrogram Shape:\", spectrograms_train_breathing.shape)  # Expected: (num_samples, 128, 622, 1)\n",
    "print(\"Coughing Spectrogram Shape:\", spectrograms_train_coughing.shape)   # Expected: (num_samples, 128, 747, 1)\n",
    "print(\"Speech Spectrogram Shape:\", spectrograms_train_speech.shape)       # Expected: (num_samples, 128, 1247, 1)"
   ]
  },
  {
   "cell_type": "code",
   "execution_count": 50,
   "metadata": {},
   "outputs": [],
   "source": [
    "#convert y_train_resampled and y_test to numpy arrays\n",
    "\n",
    "y_train = np.array(y_train_resampled)"
   ]
  },
  {
   "cell_type": "code",
   "execution_count": 51,
   "metadata": {},
   "outputs": [],
   "source": [
    "del X_train_resampled"
   ]
  },
  {
   "cell_type": "markdown",
   "metadata": {},
   "source": [
    "## Training\n",
    "\n",
    "- 0.49 balanced accuracy"
   ]
  },
  {
   "cell_type": "code",
   "execution_count": 52,
   "metadata": {},
   "outputs": [],
   "source": [
    "# Define input for Mel spectrogram (shape: 625 time frames x 128 frequency bins x 1 channel)\n",
    "mel_input_breathing = Input(shape=(128, 626, 1), name='mel_spectrogram_breathing')\n",
    "mel_input_cough = Input(shape=(128, 751, 1), name='mel_spectrogram_cough')\n",
    "mel_input_speech = Input(shape=(128, 1251, 1), name='mel_spectrogram_speech')\n",
    "\n",
    "\n",
    "# Define CNN sub-network for Mel spectrogram\n",
    "def create_cnn_subnetwork(input_layer):\n",
    "    # First Convolutional Block\n",
    "    x = Conv2D(16, (3, 3), activation='relu', padding='same')(input_layer)\n",
    "    x = BatchNormalization()(x)  # Add Batch Normalization\n",
    "    x = MaxPooling2D(pool_size=(2, 2))(x)\n",
    "    x = Dropout(0.25)(x)  # Add Dropout after pooling\n",
    "    \n",
    "    # Second Convolutional Block\n",
    "    x = Conv2D(32, (3, 3), activation='relu', padding='same')(x)\n",
    "    x = BatchNormalization()(x)  # Add Batch Normalization\n",
    "    x = MaxPooling2D(pool_size=(2, 2))(x)\n",
    "    x = Dropout(0.25)(x)  # Add Dropout after pooling\n",
    "    \n",
    "    # Third Convolutional Block\n",
    "    x = Conv2D(64, (3, 3), activation='relu', padding='same')(x)\n",
    "    x = BatchNormalization()(x)  # Add Batch Normalization\n",
    "    x = MaxPooling2D(pool_size=(2, 2))(x)\n",
    "    x = Dropout(0.4)(x)  # Increase Dropout for deeper layers\n",
    "    \n",
    "    # Global Average Pooling\n",
    "    x = GlobalAveragePooling2D()(x)\n",
    "\n",
    "    return x\n",
    "\n",
    "# Create CNN sub-networks for each spectrogram input\n",
    "cnn_breathing_output = create_cnn_subnetwork(mel_input_breathing)\n",
    "cnn_cough_output = create_cnn_subnetwork(mel_input_cough)\n",
    "cnn_speech_output = create_cnn_subnetwork(mel_input_speech)\n",
    "\n",
    "# Define input for other features (zero-crossing rate and spectral centroid)\n",
    "other_input = Input(shape=(6,), name='other_features')\n",
    "\n",
    "# Define a simple dense sub-network for other features\n",
    "y = Dense(64, activation='relu')(other_input)\n",
    "y = Dense(128, activation='relu')(y)\n",
    "y = Dropout(0.3)(y)                  \n",
    "y = Dense(128, activation='relu')(y)\n",
    "y = Dense(64, activation='relu')(y)\n",
    "\n",
    "# Concatenate both sub-networks\n",
    "combined = Concatenate()([cnn_breathing_output, cnn_cough_output, cnn_speech_output, y])\n",
    "\n",
    "# Add final classification layers\n",
    "z = Dense(128, activation='relu')(combined)\n",
    "z = Dropout(0.3)(z)                    # Add dropout to prevent overfitting\n",
    "z = Dense(64, activation='relu')(z)\n",
    "z = Dense(1, activation='sigmoid')(z)  # Binary classification"
   ]
  },
  {
   "cell_type": "code",
   "execution_count": 53,
   "metadata": {},
   "outputs": [],
   "source": [
    "# Define the model with two inputs\n",
    "model = tf.keras.Model(inputs=[mel_input_breathing, mel_input_cough, mel_input_speech, other_input], outputs=z)\n",
    "\n",
    "# Compile the model\n",
    "model.compile(optimizer='adam', loss='binary_crossentropy', metrics=['accuracy','recall','precision'])\n",
    "\n",
    "# Print model summary\n",
    "# model.summary()"
   ]
  },
  {
   "cell_type": "code",
   "execution_count": 55,
   "metadata": {},
   "outputs": [],
   "source": [
    "from tensorflow.keras.callbacks import EarlyStopping\n",
    "from sklearn.utils.class_weight import compute_class_weight\n",
    "\n",
    "# EarlyStopping callback\n",
    "early_stopping = EarlyStopping(\n",
    "    monitor='val_loss',         # Metric to monitor (e.g., validation loss)\n",
    "    patience=5,                 # Number of epochs with no improvement before stopping\n",
    "    restore_best_weights=True,  # Restore the weights of the best epoch\n",
    "    verbose=1                   # Print messages when early stopping is triggered\n",
    ")\n",
    "\n",
    "\n",
    "# # Compute class weights\n",
    "# class_weights = {0: 1.0, 1: 2.0} "
   ]
  },
  {
   "cell_type": "code",
   "execution_count": 56,
   "metadata": {},
   "outputs": [
    {
     "name": "stdout",
     "output_type": "stream",
     "text": [
      "Epoch 1/10\n"
     ]
    },
    {
     "name": "stderr",
     "output_type": "stream",
     "text": [
      "/Users/opheliasin/covid-detection/venv/lib/python3.12/site-packages/keras/src/models/functional.py:225: UserWarning: The structure of `inputs` doesn't match the expected structure: ['mel_spectrogram_breathing', 'mel_spectrogram_cough', 'mel_spectrogram_speech', 'other_features']. Received: the structure of inputs=('*', '*', '*', '*')\n",
      "  warnings.warn(\n"
     ]
    },
    {
     "name": "stdout",
     "output_type": "stream",
     "text": [
      "\u001b[1m22/22\u001b[0m \u001b[32m━━━━━━━━━━━━━━━━━━━━\u001b[0m\u001b[37m\u001b[0m \u001b[1m105s\u001b[0m 4s/step - accuracy: 0.5430 - loss: 27.7384 - precision: 0.3606 - recall: 0.4534 - val_accuracy: 0.0000e+00 - val_loss: 12.1589 - val_precision: 0.0000e+00 - val_recall: 0.0000e+00\n",
      "Epoch 2/10\n",
      "\u001b[1m22/22\u001b[0m \u001b[32m━━━━━━━━━━━━━━━━━━━━\u001b[0m\u001b[37m\u001b[0m \u001b[1m98s\u001b[0m 4s/step - accuracy: 0.5540 - loss: 3.6107 - precision: 0.3068 - recall: 0.2980 - val_accuracy: 0.0130 - val_loss: 4.7946 - val_precision: 1.0000 - val_recall: 0.0130\n",
      "Epoch 3/10\n",
      "\u001b[1m22/22\u001b[0m \u001b[32m━━━━━━━━━━━━━━━━━━━━\u001b[0m\u001b[37m\u001b[0m \u001b[1m90s\u001b[0m 4s/step - accuracy: 0.5923 - loss: 1.7941 - precision: 0.3673 - recall: 0.2927 - val_accuracy: 0.0519 - val_loss: 2.2776 - val_precision: 1.0000 - val_recall: 0.0519\n",
      "Epoch 4/10\n",
      "\u001b[1m22/22\u001b[0m \u001b[32m━━━━━━━━━━━━━━━━━━━━\u001b[0m\u001b[37m\u001b[0m \u001b[1m87s\u001b[0m 4s/step - accuracy: 0.5575 - loss: 1.4424 - precision: 0.3309 - recall: 0.3108 - val_accuracy: 0.0260 - val_loss: 2.0116 - val_precision: 1.0000 - val_recall: 0.0260\n",
      "Epoch 5/10\n",
      "\u001b[1m22/22\u001b[0m \u001b[32m━━━━━━━━━━━━━━━━━━━━\u001b[0m\u001b[37m\u001b[0m \u001b[1m101s\u001b[0m 5s/step - accuracy: 0.6315 - loss: 0.9487 - precision: 0.4457 - recall: 0.4411 - val_accuracy: 0.0390 - val_loss: 1.8989 - val_precision: 1.0000 - val_recall: 0.0390\n",
      "Epoch 6/10\n",
      "\u001b[1m22/22\u001b[0m \u001b[32m━━━━━━━━━━━━━━━━━━━━\u001b[0m\u001b[37m\u001b[0m \u001b[1m100s\u001b[0m 5s/step - accuracy: 0.6045 - loss: 1.0189 - precision: 0.3791 - recall: 0.2981 - val_accuracy: 0.0260 - val_loss: 2.1210 - val_precision: 1.0000 - val_recall: 0.0260\n",
      "Epoch 7/10\n",
      "\u001b[1m22/22\u001b[0m \u001b[32m━━━━━━━━━━━━━━━━━━━━\u001b[0m\u001b[37m\u001b[0m \u001b[1m92s\u001b[0m 4s/step - accuracy: 0.6123 - loss: 0.8015 - precision: 0.4193 - recall: 0.4237 - val_accuracy: 0.0390 - val_loss: 1.5966 - val_precision: 1.0000 - val_recall: 0.0390\n",
      "Epoch 8/10\n",
      "\u001b[1m22/22\u001b[0m \u001b[32m━━━━━━━━━━━━━━━━━━━━\u001b[0m\u001b[37m\u001b[0m \u001b[1m86s\u001b[0m 4s/step - accuracy: 0.6452 - loss: 0.7172 - precision: 0.4667 - recall: 0.4449 - val_accuracy: 0.0779 - val_loss: 1.2265 - val_precision: 1.0000 - val_recall: 0.0779\n",
      "Epoch 9/10\n",
      "\u001b[1m22/22\u001b[0m \u001b[32m━━━━━━━━━━━━━━━━━━━━\u001b[0m\u001b[37m\u001b[0m \u001b[1m100s\u001b[0m 5s/step - accuracy: 0.6019 - loss: 0.7827 - precision: 0.4000 - recall: 0.3638 - val_accuracy: 0.6104 - val_loss: 0.6863 - val_precision: 1.0000 - val_recall: 0.6104\n",
      "Epoch 10/10\n",
      "\u001b[1m22/22\u001b[0m \u001b[32m━━━━━━━━━━━━━━━━━━━━\u001b[0m\u001b[37m\u001b[0m \u001b[1m100s\u001b[0m 4s/step - accuracy: 0.7059 - loss: 0.6458 - precision: 0.5685 - recall: 0.4771 - val_accuracy: 0.0260 - val_loss: 1.0641 - val_precision: 1.0000 - val_recall: 0.0260\n",
      "Restoring model weights from the end of the best epoch: 9.\n"
     ]
    }
   ],
   "source": [
    "history = model.fit(\n",
    "    [spectrograms_train_breathing, spectrograms_train_coughing, spectrograms_train_speech, other_features_train_resampled],\n",
    "    y_train,\n",
    "    validation_split=0.1,\n",
    "    epochs=10,\n",
    "    batch_size=32,\n",
    "    # class_weight = class_weights,\n",
    "    callbacks=[early_stopping]\n",
    ")"
   ]
  },
  {
   "cell_type": "code",
   "execution_count": 58,
   "metadata": {},
   "outputs": [
    {
     "data": {
      "image/png": "[encoded data removed]",
      "text/plain": [
       "<Figure size 640x480 with 1 Axes>"
      ]
     },
     "metadata": {},
     "output_type": "display_data"
    }
   ],
   "source": [
    "plt.plot(history.history['loss'], label='Training Loss')\n",
    "plt.plot(history.history['val_loss'], label='Validation Loss')\n",
    "plt.title('Training and Validation Loss')\n",
    "plt.xlabel('Epochs')\n",
    "plt.ylabel('Loss')\n",
    "plt.legend()\n",
    "plt.show()"
   ]
  },
  {
   "cell_type": "code",
   "execution_count": 59,
   "metadata": {},
   "outputs": [
    {
     "name": "stdout",
     "output_type": "stream",
     "text": [
      "\u001b[1m25/25\u001b[0m \u001b[32m━━━━━━━━━━━━━━━━━━━━\u001b[0m\u001b[37m\u001b[0m \u001b[1m16s\u001b[0m 632ms/step\n"
     ]
    }
   ],
   "source": [
    "y_pred_train = model.predict([spectrograms_train_breathing, spectrograms_train_coughing, spectrograms_train_speech, other_features_train_resampled])\n"
   ]
  },
  {
   "cell_type": "code",
   "execution_count": 60,
   "metadata": {},
   "outputs": [],
   "source": [
    "y_pred_train_binary = (y_pred_train > 0.6).astype(int)"
   ]
  },
  {
   "cell_type": "code",
   "execution_count": 61,
   "metadata": {},
   "outputs": [
    {
     "name": "stdout",
     "output_type": "stream",
     "text": [
      "Balanced Accuracy: 53.69%\n",
      "Training Accuracy: 61.51%\n"
     ]
    }
   ],
   "source": [
    "from sklearn.metrics import accuracy_score, balanced_accuracy_score\n",
    "\n",
    "balanced_acc = balanced_accuracy_score(y_train, y_pred_train_binary)\n",
    "print(f\"Balanced Accuracy: {balanced_acc * 100:.2f}%\")\n",
    "\n",
    "accuracy_train = accuracy_score(y_train, y_pred_train_binary)\n",
    "\n",
    "print(f\"Training Accuracy: {accuracy_train * 100:.2f}%\")"
   ]
  },
  {
   "cell_type": "code",
   "execution_count": 62,
   "metadata": {},
   "outputs": [
    {
     "data": {
      "image/png": "[encoded data removed]",
      "text/plain": [
       "<Figure size 640x480 with 2 Axes>"
      ]
     },
     "metadata": {},
     "output_type": "display_data"
    }
   ],
   "source": [
    "from sklearn.metrics import confusion_matrix, ConfusionMatrixDisplay\n",
    "\n",
    "cm = confusion_matrix(y_train, y_pred_train_binary)\n",
    "\n",
    "# Step 4: Visualize or print the confusion matrix\n",
    "disp = ConfusionMatrixDisplay(confusion_matrix=cm)\n",
    "disp.plot(cmap=plt.cm.Blues)\n",
    "plt.title(\"Confusion Matrix for Training Data\")\n",
    "plt.show()"
   ]
  },
  {
   "cell_type": "markdown",
   "metadata": {},
   "source": [
    "#### Test"
   ]
  },
  {
   "cell_type": "code",
   "execution_count": 63,
   "metadata": {},
   "outputs": [],
   "source": [
    "spectrograms_breathing_test = np.array(spectrograms_breathing_test)"
   ]
  },
  {
   "cell_type": "code",
   "execution_count": 64,
   "metadata": {},
   "outputs": [],
   "source": [
    "spectrograms_cough_test = np.array(spectrograms_cough_test)\n",
    "spectrograms_speech_test = np.array(spectrograms_speech_test)"
   ]
  },
  {
   "cell_type": "code",
   "execution_count": 65,
   "metadata": {},
   "outputs": [
    {
     "name": "stdout",
     "output_type": "stream",
     "text": [
      "\u001b[1m6/6\u001b[0m \u001b[32m━━━━━━━━━━━━━━━━━━━━\u001b[0m\u001b[37m\u001b[0m \u001b[1m3s\u001b[0m 531ms/step\n"
     ]
    }
   ],
   "source": [
    "y_pred_test = model.predict([spectrograms_breathing_test, spectrograms_cough_test, spectrograms_speech_test, all_other_features_test])\n",
    "y_pred_test_binary = (y_pred_test > 0.6).astype(int)"
   ]
  },
  {
   "cell_type": "code",
   "execution_count": 66,
   "metadata": {},
   "outputs": [
    {
     "name": "stdout",
     "output_type": "stream",
     "text": [
      "Balanced Accuracy: 0.5943782576321668\n",
      "Testing Accuracy: 0.8072916666666666\n"
     ]
    }
   ],
   "source": [
    "from sklearn.metrics import accuracy_score\n",
    "from sklearn.metrics import balanced_accuracy_score\n",
    "\n",
    "balanced_acc = balanced_accuracy_score(all_labels_test, y_pred_test_binary)\n",
    "print(f\"Balanced Accuracy: {balanced_acc}\")\n",
    "\n",
    "accuracy_train = accuracy_score(all_labels_test, y_pred_test_binary)\n",
    "\n",
    "print(f\"Testing Accuracy: {accuracy_train}\")"
   ]
  },
  {
   "cell_type": "code",
   "execution_count": 67,
   "metadata": {},
   "outputs": [
    {
     "data": {
      "image/png": "[encoded data removed]",
      "text/plain": [
       "<Figure size 640x480 with 2 Axes>"
      ]
     },
     "metadata": {},
     "output_type": "display_data"
    }
   ],
   "source": [
    "from sklearn.metrics import confusion_matrix, ConfusionMatrixDisplay\n",
    "\n",
    "cm = confusion_matrix(all_labels_test, y_pred_test_binary)\n",
    "\n",
    "# Step 4: Visualize or print the confusion matrix\n",
    "disp = ConfusionMatrixDisplay(confusion_matrix=cm)\n",
    "disp.plot(cmap=plt.cm.Blues)\n",
    "plt.title(\"Confusion Matrix for Testing Data\")\n",
    "plt.show()"
   ]
  },
  {
   "cell_type": "code",
   "execution_count": 90,
   "metadata": {},
   "outputs": [
    {
     "name": "stdout",
     "output_type": "stream",
     "text": [
      "              precision    recall  f1-score   support\n",
      "\n",
      "           0       0.82      0.97      0.89       158\n",
      "           1       0.20      0.03      0.05        34\n",
      "\n",
      "    accuracy                           0.81       192\n",
      "   macro avg       0.51      0.50      0.47       192\n",
      "weighted avg       0.71      0.81      0.74       192\n",
      "\n"
     ]
    }
   ],
   "source": [
    "from sklearn.metrics import classification_report\n",
    "\n",
    "print(classification_report(all_labels_test, y_pred_test_binary))"
   ]
  }
 ],
 "metadata": {
  "accelerator": "TPU",
  "colab": {
   "gpuType": "V28",
   "provenance": []
  },
  "kernelspec": {
   "display_name": "venv",
   "language": "python",
   "name": "python3"
  },
  "language_info": {
   "codemirror_mode": {
    "name": "ipython",
    "version": 3
   },
   "file_extension": ".py",
   "mimetype": "text/x-python",
   "name": "python",
   "nbconvert_exporter": "python",
   "pygments_lexer": "ipython3",
   "version": "3.12.6"
  }
 },
 "nbformat": 4,
 "nbformat_minor": 0
}
